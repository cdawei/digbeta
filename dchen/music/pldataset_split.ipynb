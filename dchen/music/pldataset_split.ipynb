{
 "cells": [
  {
   "cell_type": "markdown",
   "metadata": {},
   "source": [
    "# Train/Dev/Test split of AotM-2011/30Music songs/playlists in setting I & II"
   ]
  },
  {
   "cell_type": "code",
   "execution_count": 1,
   "metadata": {},
   "outputs": [],
   "source": [
    "%matplotlib inline\n",
    "%load_ext autoreload\n",
    "%autoreload 2\n",
    "\n",
    "import os, sys\n",
    "import gzip\n",
    "import pickle as pkl\n",
    "import numpy as np\n",
    "import pandas as pd\n",
    "from sklearn.model_selection import train_test_split\n",
    "from sklearn.metrics import precision_recall_fscore_support, roc_auc_score, average_precision_score\n",
    "from scipy.optimize import check_grad\n",
    "from scipy.sparse import lil_matrix, issparse, hstack, vstack\n",
    "from collections import Counter\n",
    "import itertools as itt\n",
    "\n",
    "import matplotlib.pyplot as plt\n",
    "import seaborn as sns"
   ]
  },
  {
   "cell_type": "code",
   "execution_count": 2,
   "metadata": {},
   "outputs": [],
   "source": [
    "datasets = ['aotm2011', '30music']\n",
    "ffeature = 'data/msd/song2feature.pkl.gz'\n",
    "fgenre = 'data/msd/song2genre.pkl.gz'"
   ]
  },
  {
   "cell_type": "code",
   "execution_count": 3,
   "metadata": {},
   "outputs": [],
   "source": [
    "dix = 1\n",
    "dataset_name = datasets[dix]\n",
    "data_dir = 'data/%s' % dataset_name\n",
    "fplaylist = os.path.join(data_dir, '%s-playlist.pkl.gz' % dataset_name)"
   ]
  },
  {
   "cell_type": "markdown",
   "metadata": {},
   "source": [
    "## Load playlists"
   ]
  },
  {
   "cell_type": "markdown",
   "metadata": {},
   "source": [
    "Load playlists."
   ]
  },
  {
   "cell_type": "code",
   "execution_count": 4,
   "metadata": {},
   "outputs": [],
   "source": [
    "all_playlists = pkl.load(gzip.open(fplaylist, 'rb'))"
   ]
  },
  {
   "cell_type": "code",
   "execution_count": 5,
   "metadata": {},
   "outputs": [],
   "source": [
    "all_users = sorted(set({user for _, user in all_playlists}))"
   ]
  },
  {
   "cell_type": "code",
   "execution_count": 6,
   "metadata": {},
   "outputs": [
    {
     "name": "stdout",
     "output_type": "stream",
     "text": [
      "#user    : 11,339\n",
      "#playlist: 29,803\n"
     ]
    }
   ],
   "source": [
    "print('#user    : {:,}'.format(len(all_users)))\n",
    "print('#playlist: {:,}'.format(len(all_playlists)))"
   ]
  },
  {
   "cell_type": "code",
   "execution_count": 7,
   "metadata": {},
   "outputs": [
    {
     "name": "stdout",
     "output_type": "stream",
     "text": [
      "Average playlist length: 25.5\n"
     ]
    },
    {
     "data": {
      "image/png": "[encoded data removed]",
      "text/plain": [
       "<matplotlib.figure.Figure at 0x7fbe316ddc50>"
      ]
     },
     "metadata": {},
     "output_type": "display_data"
    }
   ],
   "source": [
    "pl_lengths = [len(pl) for pl, _ in all_playlists]\n",
    "plt.hist(pl_lengths, bins=100)\n",
    "print('Average playlist length: %.1f' % np.mean(pl_lengths))"
   ]
  },
  {
   "cell_type": "markdown",
   "metadata": {},
   "source": [
    "check duplicated songs in the same playlist."
   ]
  },
  {
   "cell_type": "code",
   "execution_count": 8,
   "metadata": {},
   "outputs": [
    {
     "name": "stdout",
     "output_type": "stream",
     "text": [
      "758,999 | 758,999\n"
     ]
    }
   ],
   "source": [
    "print('{:,} | {:,}'.format(np.sum(pl_lengths), np.sum([len(set(pl)) for pl, _ in all_playlists])))"
   ]
  },
  {
   "cell_type": "markdown",
   "metadata": {},
   "source": [
    "## Load song features"
   ]
  },
  {
   "cell_type": "markdown",
   "metadata": {},
   "source": [
    "Load `song_id` --> `feature array` mapping: map a song to the audio features of one of its corresponding tracks in MSD."
   ]
  },
  {
   "cell_type": "code",
   "execution_count": 9,
   "metadata": {},
   "outputs": [],
   "source": [
    "song2feature = pkl.load(gzip.open(ffeature, 'rb'))"
   ]
  },
  {
   "cell_type": "markdown",
   "metadata": {},
   "source": [
    "## Split songs for setting I"
   ]
  },
  {
   "cell_type": "markdown",
   "metadata": {},
   "source": [
    "Split songs (60/20/20 train/dev/test split) the latest released (year) songs are in dev and test set."
   ]
  },
  {
   "cell_type": "code",
   "execution_count": 10,
   "metadata": {},
   "outputs": [
    {
     "name": "stdout",
     "output_type": "stream",
     "text": [
      "52,159\n"
     ]
    }
   ],
   "source": [
    "all_songs = sorted([(sid, song2feature[sid][-1]) for sid in {s for pl, _ in all_playlists for s in pl}], \n",
    "                   key=lambda x: (x[1], x[0]))\n",
    "print('{:,}'.format(len(all_songs)))"
   ]
  },
  {
   "cell_type": "code",
   "execution_count": 11,
   "metadata": {},
   "outputs": [],
   "source": [
    "#all_songs[-10:]"
   ]
  },
  {
   "cell_type": "code",
   "execution_count": 12,
   "metadata": {},
   "outputs": [],
   "source": [
    "pkl.dump(all_songs, gzip.open(os.path.join(data_dir, 'setting2/all_songs.pkl.gz'), 'wb'))"
   ]
  },
  {
   "cell_type": "code",
   "execution_count": 13,
   "metadata": {},
   "outputs": [],
   "source": [
    "dev_ratio = 0.2\n",
    "test_ratio = 0.2\n",
    "nsong_dev_test = int(len(all_songs) * (dev_ratio + test_ratio))\n",
    "train_song_set = all_songs[nsong_dev_test:]\n",
    "\n",
    "# shuffle songs in dev and test set\n",
    "np.random.seed(123456789)\n",
    "dev_test_ix = np.random.permutation(np.arange(nsong_dev_test))\n",
    "nsong_dev = int(len(all_songs) * dev_ratio)\n",
    "dev_song_set = [all_songs[ix] for ix in dev_test_ix[:nsong_dev]]\n",
    "test_song_set = [all_songs[ix] for ix in dev_test_ix[nsong_dev:]]"
   ]
  },
  {
   "cell_type": "code",
   "execution_count": 14,
   "metadata": {},
   "outputs": [
    {
     "name": "stdout",
     "output_type": "stream",
     "text": [
      "#songs in training set: 31,296, average song age: 25.56 yrs\n",
      "#songs in dev set     : 10,431, average song age: 13.56 yrs\n",
      "#songs in test set    : 10,432, average song age: 13.57 yrs\n"
     ]
    }
   ],
   "source": [
    "print('#songs in training set: {:,}, average song age: {:.2f} yrs'\n",
    "      .format(len(train_song_set), np.mean([t[1] for t in train_song_set])))\n",
    "print('#songs in dev set     : {:,}, average song age: {:.2f} yrs'\n",
    "      .format(len(dev_song_set),   np.mean([t[1] for t in dev_song_set])))\n",
    "print('#songs in test set    : {:,}, average song age: {:.2f} yrs'\n",
    "      .format(len(test_song_set),  np.mean([t[1] for t in test_song_set])))"
   ]
  },
  {
   "cell_type": "code",
   "execution_count": 15,
   "metadata": {},
   "outputs": [
    {
     "name": "stdout",
     "output_type": "stream",
     "text": [
      "#songs: 52,159 | 52,159\n"
     ]
    }
   ],
   "source": [
    "print('#songs: {:,} | {:,}'.format(len(all_songs), len({s for s in train_song_set + dev_song_set+test_song_set})))"
   ]
  },
  {
   "cell_type": "markdown",
   "metadata": {},
   "source": [
    "Song popularity."
   ]
  },
  {
   "cell_type": "code",
   "execution_count": 16,
   "metadata": {},
   "outputs": [],
   "source": [
    "song2index = {sid: ix for ix, (sid, _) in enumerate(all_songs)}\n",
    "song_pl_mat = lil_matrix((len(all_songs), len(all_playlists)), dtype=np.int8)\n",
    "for j in range(len(all_playlists)):\n",
    "    pl = all_playlists[j][0]\n",
    "    ind = [song2index[sid] for sid in pl]\n",
    "    song_pl_mat[ind, j] = 1"
   ]
  },
  {
   "cell_type": "code",
   "execution_count": 17,
   "metadata": {},
   "outputs": [],
   "source": [
    "song_pop = song_pl_mat.tocsc().sum(axis=1)"
   ]
  },
  {
   "cell_type": "code",
   "execution_count": 18,
   "metadata": {},
   "outputs": [
    {
     "data": {
      "text/plain": [
       "11965"
      ]
     },
     "execution_count": 18,
     "metadata": {},
     "output_type": "execute_result"
    }
   ],
   "source": [
    "max_pop = np.max(song_pop)\n",
    "max_pop"
   ]
  },
  {
   "cell_type": "code",
   "execution_count": 19,
   "metadata": {},
   "outputs": [],
   "source": [
    "song2pop = {sid: song_pop[song2index[sid], 0] for (sid, _) in all_songs}"
   ]
  },
  {
   "cell_type": "code",
   "execution_count": 20,
   "metadata": {},
   "outputs": [],
   "source": [
    "pkl.dump(song2pop, gzip.open(os.path.join(data_dir, 'setting2/song2pop.pkl.gz'), 'wb'))"
   ]
  },
  {
   "cell_type": "markdown",
   "metadata": {},
   "source": [
    "deal with one outlier."
   ]
  },
  {
   "cell_type": "code",
   "execution_count": 21,
   "metadata": {},
   "outputs": [],
   "source": [
    "song_pop1 = song_pop.copy()\n",
    "maxix = np.argmax(song_pop)\n",
    "song_pop1[maxix] = 0\n",
    "clipped_max_pop = np.max(song_pop1) + 10   # second_max_pop + 10\n",
    "if max_pop - clipped_max_pop > 500:\n",
    "    song_pop1[maxix] = clipped_max_pop"
   ]
  },
  {
   "cell_type": "code",
   "execution_count": 22,
   "metadata": {},
   "outputs": [
    {
     "data": {
      "image/png": "[encoded data removed]",
      "text/plain": [
       "<matplotlib.figure.Figure at 0x7fbe04c047b8>"
      ]
     },
     "metadata": {},
     "output_type": "display_data"
    }
   ],
   "source": [
    "ax = plt.subplot(111)\n",
    "ax.hist(song_pop1, bins=100)\n",
    "ax.set_yscale('log')\n",
    "ax.set_xlim(0, song_pop1.max()+10)\n",
    "ax.set_title('Histogram of song popularity')\n",
    "pass"
   ]
  },
  {
   "cell_type": "code",
   "execution_count": 23,
   "metadata": {},
   "outputs": [
    {
     "data": {
      "image/png": "[encoded data removed]",
      "text/plain": [
       "<matplotlib.figure.Figure at 0x7fbdf4079dd8>"
      ]
     },
     "metadata": {},
     "output_type": "display_data"
    }
   ],
   "source": [
    "train_song_pop = [song2pop[sid] for (sid, _) in train_song_set]\n",
    "if np.max(train_song_pop) > clipped_max_pop:\n",
    "    train_song_pop[np.argmax(train_song_pop)] = clipped_max_pop\n",
    "ax = plt.subplot(111)\n",
    "ax.hist(train_song_pop, bins=100)\n",
    "ax.set_yscale('log')\n",
    "ax.set_xlim(0, song_pop1.max()+10)\n",
    "ax.set_title('Histogram of song popularity in TRAINING set')\n",
    "pass"
   ]
  },
  {
   "cell_type": "code",
   "execution_count": 24,
   "metadata": {},
   "outputs": [
    {
     "data": {
      "image/png": "[encoded data removed]",
      "text/plain": [
       "<matplotlib.figure.Figure at 0x7fbdf3c534a8>"
      ]
     },
     "metadata": {},
     "output_type": "display_data"
    }
   ],
   "source": [
    "dev_song_pop = [song2pop[sid] for (sid, _) in dev_song_set]\n",
    "if np.max(dev_song_pop) > clipped_max_pop:\n",
    "    dev_song_pop[np.argmax(dev_song_pop)] = clipped_max_pop\n",
    "ax = plt.subplot(111)\n",
    "ax.hist(dev_song_pop, bins=100)\n",
    "ax.set_yscale('log')\n",
    "ax.set_xlim(0, song_pop1.max()+10)\n",
    "ax.set_title('Histogram of song popularity in DEV set')\n",
    "pass"
   ]
  },
  {
   "cell_type": "code",
   "execution_count": 25,
   "metadata": {},
   "outputs": [
    {
     "data": {
      "image/png": "[encoded data removed]",
      "text/plain": [
       "<matplotlib.figure.Figure at 0x7fbdf490aba8>"
      ]
     },
     "metadata": {},
     "output_type": "display_data"
    }
   ],
   "source": [
    "test_song_pop = [song2pop[sid] for (sid, _) in test_song_set]\n",
    "if np.max(test_song_pop) > clipped_max_pop:\n",
    "    test_song_pop[np.argmax(test_song_pop)] = clipped_max_pop\n",
    "ax = plt.subplot(111)\n",
    "ax.hist(test_song_pop, bins=100)\n",
    "ax.set_yscale('log')\n",
    "ax.set_xlim(0, song_pop1.max()+10)\n",
    "ax.set_title('Histogram of song popularity in TEST set')\n",
    "pass"
   ]
  },
  {
   "cell_type": "markdown",
   "metadata": {},
   "source": [
    "## Load genres"
   ]
  },
  {
   "cell_type": "markdown",
   "metadata": {},
   "source": [
    "Song genres from [MSD Allmusic Genre Dataset (Top MAGD)](http://www.ifs.tuwien.ac.at/mir/msd/TopMAGD.html) and [tagtraum](http://www.tagtraum.com/msd_genre_datasets.html)."
   ]
  },
  {
   "cell_type": "code",
   "execution_count": 26,
   "metadata": {},
   "outputs": [],
   "source": [
    "song2genre = pkl.load(gzip.open(fgenre, 'rb'))"
   ]
  },
  {
   "cell_type": "markdown",
   "metadata": {},
   "source": [
    "Check if all songs have genre info."
   ]
  },
  {
   "cell_type": "code",
   "execution_count": 27,
   "metadata": {},
   "outputs": [
    {
     "name": "stdout",
     "output_type": "stream",
     "text": [
      "#songs missing genre: 19,224\n"
     ]
    }
   ],
   "source": [
    "print('#songs missing genre: {:,}'.format(len(all_songs) - np.sum([sid in song2genre for (sid, _) in all_songs])))"
   ]
  },
  {
   "cell_type": "markdown",
   "metadata": {},
   "source": [
    "## Create song-playlist matrix"
   ]
  },
  {
   "cell_type": "markdown",
   "metadata": {},
   "source": [
    "Songs as rows, playlists as columns."
   ]
  },
  {
   "cell_type": "code",
   "execution_count": 28,
   "metadata": {},
   "outputs": [],
   "source": [
    "def gen_dataset(playlists, song2feature, song2genre, train_song_set, \n",
    "                dev_song_set=[], test_song_set=[], song2pop_train=None):\n",
    "    \"\"\"\n",
    "    Create labelled dataset: rows are songs, columns are users.\n",
    "    \n",
    "    Input:\n",
    "        - playlists: a set of playlists\n",
    "        - train_song_set: a list of songIDs in training set\n",
    "        - dev_song_set: a list of songIDs in dev set\n",
    "        - test_song_set: a list of songIDs in test set\n",
    "        - song2feature: dictionary that maps songIDs to features from MSD\n",
    "        - song2genre: dictionary that maps songIDs to genre\n",
    "        - song2pop_train: a dictionary that maps songIDs to its popularity\n",
    "    Output:\n",
    "        - (Feature, Label) pair (X, Y)\n",
    "          X: #songs by #features\n",
    "          Y: #songs by #users\n",
    "    \"\"\" \n",
    "    song_set = train_song_set + dev_song_set + test_song_set\n",
    "    N = len(song_set)\n",
    "    K = len(playlists)\n",
    "    \n",
    "    genre_set = sorted({v for v in song2genre.values()})\n",
    "    genre2index = {genre: ix for ix, genre in enumerate(genre_set)}\n",
    "    \n",
    "    def onehot_genre(songID):\n",
    "        \"\"\"\n",
    "        One-hot encoding of genres.\n",
    "        Data imputation: \n",
    "            - one extra entry for songs without genre info\n",
    "            - mean imputation\n",
    "            - sampling from the distribution of genre popularity\n",
    "        \"\"\"\n",
    "        num = len(genre_set) # + 1\n",
    "        vec = np.zeros(num, dtype=np.float)\n",
    "        if songID in song2genre:\n",
    "            genre_ix = genre2index[song2genre[songID]]\n",
    "            vec[genre_ix] = 1\n",
    "        else:\n",
    "            vec[:] = np.nan\n",
    "            #vec[-1] = 1\n",
    "        return vec\n",
    "    \n",
    "    #X = np.array([features_MSD[sid] for sid in song_set])  # without using genre\n",
    "    #Y = np.zeros((N, K), dtype=np.bool)\n",
    "    X = np.array([np.concatenate([song2feature[sid], onehot_genre(sid)], axis=-1) for sid in song_set])\n",
    "    Y = lil_matrix((N, K), dtype=np.bool)\n",
    "    \n",
    "    song2index = {sid: ix for ix, sid in enumerate(song_set)}\n",
    "    for k in range(K):\n",
    "        pl = playlists[k]\n",
    "        indices = [song2index[sid] for sid in pl if sid in song2index]\n",
    "        Y[indices, k] = True\n",
    "        \n",
    "    # genre imputation\n",
    "    genre_ix_start = -len(genre_set)\n",
    "    genre_nan = np.isnan(X[:, genre_ix_start:])\n",
    "    genre_mean = np.nansum(X[:, genre_ix_start:], axis=0) / (X.shape[0] - np.sum(genre_nan, axis=0))\n",
    "    #print(np.nansum(X[:, genre_ix_start:], axis=0))\n",
    "    #print(genre_set)\n",
    "    #print(genre_mean)\n",
    "    for j in range(len(genre_set)):\n",
    "        X[genre_nan[:,j], j+genre_ix_start] = genre_mean[j] \n",
    "    \n",
    "    # song popularity\n",
    "    if song2pop_train is not None:\n",
    "        for sid in song_set: \n",
    "            assert sid in song2pop_train\n",
    "        songpop = [song2pop_train[sid] for sid in song_set]\n",
    "        X = np.hstack([X, np.array(songpop, dtype=np.float).reshape(-1, 1)])\n",
    "\n",
    "    #return X, Y\n",
    "    Y = Y.tocsr()\n",
    "    \n",
    "    train_ix = [song2index[sid] for sid in train_song_set]\n",
    "    X_train = X[train_ix, :]\n",
    "    Y_train = Y[train_ix, :]\n",
    "    \n",
    "    dev_ix = [song2index[sid] for sid in dev_song_set]\n",
    "    X_dev = X[dev_ix, :]\n",
    "    Y_dev = Y[dev_ix, :]\n",
    "    \n",
    "    test_ix = [song2index[sid] for sid in test_song_set]\n",
    "    X_test = X[test_ix, :]\n",
    "    Y_test = Y[test_ix, :]\n",
    "    \n",
    "    if len(dev_song_set) > 0:\n",
    "        if len(test_song_set) > 0:\n",
    "            return X_train, Y_train, X_dev, Y_dev, X_test, Y_test\n",
    "        else:\n",
    "            return X_train, Y_train, X_dev, Y_dev\n",
    "    else:\n",
    "        if len(test_song_set) > 0:\n",
    "            return X_train, Y_train, X_test, Y_test\n",
    "        else:\n",
    "            return X_train, Y_train"
   ]
  },
  {
   "cell_type": "markdown",
   "metadata": {},
   "source": [
    "## Setting I: hold a subset of songs, use all playlists"
   ]
  },
  {
   "cell_type": "code",
   "execution_count": 29,
   "metadata": {},
   "outputs": [],
   "source": [
    "pkl_dir = os.path.join(data_dir, 'setting1')\n",
    "fsongs  = os.path.join(pkl_dir, 'songs_train_dev_test_s1.pkl.gz')\n",
    "fpl     = os.path.join(pkl_dir, 'playlists_s1.pkl.gz')\n",
    "fxtrain = os.path.join(pkl_dir, 'X_train.pkl.gz')\n",
    "fytrain = os.path.join(pkl_dir, 'Y_train.pkl.gz')\n",
    "fxdev   = os.path.join(pkl_dir, 'X_dev.pkl.gz')\n",
    "fydev   = os.path.join(pkl_dir, 'Y_dev.pkl.gz')\n",
    "fxtest  = os.path.join(pkl_dir, 'X_test.pkl.gz')\n",
    "fytest  = os.path.join(pkl_dir, 'Y_test.pkl.gz')\n",
    "fxtrndev = os.path.join(pkl_dir, 'X_train_dev.pkl.gz')\n",
    "fytrndev = os.path.join(pkl_dir, 'Y_train_dev.pkl.gz')\n",
    "#fadjmat = os.path.join(pkl_dir, 'adjacency_mat.pkl.gz')\n",
    "fclique = os.path.join(pkl_dir, 'cliques_all.pkl.gz')"
   ]
  },
  {
   "cell_type": "code",
   "execution_count": 30,
   "metadata": {},
   "outputs": [],
   "source": [
    "X_train, Y_train, X_dev, Y_dev, X_test, Y_test = gen_dataset(playlists = [t[0] for t in all_playlists],\n",
    "                                                             song2feature = song2feature, song2genre = song2genre,\n",
    "                                                             train_song_set = [t[0] for t in train_song_set],\n",
    "                                                             dev_song_set   = [t[0] for t in   dev_song_set], \n",
    "                                                             test_song_set  = [t[0] for t in  test_song_set])"
   ]
  },
  {
   "cell_type": "markdown",
   "metadata": {},
   "source": [
    "Feature normalisation."
   ]
  },
  {
   "cell_type": "code",
   "execution_count": 31,
   "metadata": {},
   "outputs": [],
   "source": [
    "X_train_mean = np.mean(X_train, axis=0).reshape((1, -1))\n",
    "X_train_std = np.std(X_train, axis=0).reshape((1, -1)) + 10 ** (-6)\n",
    "X_train -= X_train_mean\n",
    "X_train /= X_train_std\n",
    "X_dev   -= X_train_mean\n",
    "X_dev   /= X_train_std\n",
    "X_test  -= X_train_mean\n",
    "X_test  /= X_train_std"
   ]
  },
  {
   "cell_type": "code",
   "execution_count": 32,
   "metadata": {},
   "outputs": [],
   "source": [
    "X_train_dev = np.vstack([X_train, X_dev])\n",
    "#Y_train_dev = np.vstack([Y_train, Y_dev])\n",
    "Y_train_dev = vstack([Y_train.tolil(), Y_dev.tolil()]).tocsc().astype(np.bool)\n",
    "# NOTE: explicitly set type of Y is necessary, see issue #9777 of scikit-learn"
   ]
  },
  {
   "cell_type": "code",
   "execution_count": 33,
   "metadata": {},
   "outputs": [
    {
     "name": "stdout",
     "output_type": "stream",
     "text": [
      "Train :    (31296, 217)  (31296, 29803)\n",
      "Dev   :    (10431, 217)  (10431, 29803)\n",
      "Test  :    (10432, 217)  (10432, 29803)\n",
      "Trndev:    (41727, 217)  (41727, 29803)\n"
     ]
    }
   ],
   "source": [
    "print('Train : %15s %15s' % (X_train.shape, Y_train.shape))\n",
    "print('Dev   : %15s %15s' % (X_dev.shape,   Y_dev.shape))\n",
    "print('Test  : %15s %15s' % (X_test.shape,  Y_test.shape))\n",
    "print('Trndev: %15s %15s' % (X_train_dev.shape, Y_train_dev.shape))"
   ]
  },
  {
   "cell_type": "code",
   "execution_count": 34,
   "metadata": {},
   "outputs": [
    {
     "name": "stdout",
     "output_type": "stream",
     "text": [
      "6.9443426494731055e-15\n",
      "-0.01844601371282162\n",
      "0.0010299237398911736\n",
      "0.007778058002861021\n",
      "0.00025746242315580165\n",
      "-0.004797480059422821\n",
      "-0.002630056317907024\n",
      "-0.009519797086447901\n"
     ]
    }
   ],
   "source": [
    "print(np.mean(np.mean(X_train, axis=0)))\n",
    "print(np.mean( np.std(X_train, axis=0)) - 1)\n",
    "print(np.mean(np.mean(X_dev,   axis=0)))\n",
    "print(np.mean( np.std(X_dev,   axis=0)) - 1)\n",
    "print(np.mean(np.mean(X_train_dev, axis=0)))\n",
    "print(np.mean( np.std(X_train_dev, axis=0)) - 1)\n",
    "print(np.mean(np.mean(X_test,  axis=0)))\n",
    "print(np.mean( np.std(X_test,  axis=0)) - 1)"
   ]
  },
  {
   "cell_type": "code",
   "execution_count": 35,
   "metadata": {},
   "outputs": [],
   "source": [
    "pkl.dump(X_train, gzip.open(fxtrain, 'wb'))\n",
    "pkl.dump(Y_train, gzip.open(fytrain, 'wb'))\n",
    "pkl.dump(X_dev,   gzip.open(fxdev,   'wb'))\n",
    "pkl.dump(Y_dev,   gzip.open(fydev,   'wb'))\n",
    "pkl.dump(X_test,  gzip.open(fxtest,  'wb'))\n",
    "pkl.dump(Y_test,  gzip.open(fytest,  'wb'))\n",
    "pkl.dump(X_train_dev, gzip.open(fxtrndev, 'wb'))\n",
    "pkl.dump(Y_train_dev, gzip.open(fytrndev, 'wb'))"
   ]
  },
  {
   "cell_type": "code",
   "execution_count": 36,
   "metadata": {},
   "outputs": [],
   "source": [
    "pkl.dump({'train_song_set': train_song_set, 'dev_song_set': dev_song_set, 'test_song_set': test_song_set},\n",
    "         gzip.open(fsongs, 'wb'))\n",
    "pkl.dump(all_playlists, gzip.open(fpl, 'wb'))"
   ]
  },
  {
   "cell_type": "markdown",
   "metadata": {},
   "source": [
    "Build the adjacent matrix of playlists (nodes) for *setting I*, playlists of the same user form a *clique*."
   ]
  },
  {
   "cell_type": "code",
   "execution_count": 37,
   "metadata": {},
   "outputs": [],
   "source": [
    "user_of_playlists = [u for (_, u) in all_playlists]\n",
    "clique_list = []\n",
    "for u in set(user_of_playlists):\n",
    "    clique = np.where(u == np.array(user_of_playlists, dtype=np.object))[0]\n",
    "    if len(clique) > 1:\n",
    "        clique_list.append(clique)"
   ]
  },
  {
   "cell_type": "code",
   "execution_count": 38,
   "metadata": {},
   "outputs": [],
   "source": [
    "pkl.dump(clique_list, gzip.open(fclique, 'wb'))"
   ]
  },
  {
   "cell_type": "code",
   "execution_count": 39,
   "metadata": {},
   "outputs": [
    {
     "name": "stdout",
     "output_type": "stream",
     "text": [
      "2 142 6660\n"
     ]
    }
   ],
   "source": [
    "clqsize = [len(clique) for clique in clique_list]\n",
    "print(np.min(clqsize), np.max(clqsize), len(clqsize))"
   ]
  },
  {
   "cell_type": "markdown",
   "metadata": {},
   "source": [
    "## Split playlists for setting II"
   ]
  },
  {
   "cell_type": "markdown",
   "metadata": {},
   "source": [
    "Split playlists (60/20/20 train/dev/test split) uniformly at random."
   ]
  },
  {
   "cell_type": "code",
   "execution_count": 40,
   "metadata": {},
   "outputs": [],
   "source": [
    "train_playlists = []\n",
    "dev_playlists   = []\n",
    "test_playlists  = []"
   ]
  },
  {
   "cell_type": "code",
   "execution_count": 41,
   "metadata": {},
   "outputs": [],
   "source": [
    "dev_ratio = 0.2\n",
    "test_ratio = 0.2\n",
    "npl_dev  = int(dev_ratio  * len(all_playlists))\n",
    "npl_test = int(test_ratio * len(all_playlists))\n",
    "np.random.seed(987654321)\n",
    "pl_indices = np.random.permutation(np.arange(len(all_playlists)))\n",
    "test_playlists  = all_playlists[:npl_test]\n",
    "dev_playlists   = all_playlists[npl_test:npl_test + npl_dev]\n",
    "train_playlists = all_playlists[npl_test + npl_dev:]"
   ]
  },
  {
   "cell_type": "code",
   "execution_count": 42,
   "metadata": {},
   "outputs": [
    {
     "name": "stdout",
     "output_type": "stream",
     "text": [
      "#playlist in training set:     17,883\n",
      "#playlist in dev set:          5,960\n",
      "#playlist in test set:         5,960\n"
     ]
    }
   ],
   "source": [
    "print('{:30s} {:,}'.format('#playlist in training set:', len(train_playlists)))\n",
    "print('{:30s} {:,}'.format('#playlist in dev set:', len(dev_playlists)))\n",
    "print('{:30s} {:,}'.format('#playlist in test set:', len(test_playlists)))"
   ]
  },
  {
   "cell_type": "code",
   "execution_count": 43,
   "metadata": {},
   "outputs": [],
   "source": [
    "xmax = np.max([len(pl) for (pl, _) in all_playlists]) + 1"
   ]
  },
  {
   "cell_type": "code",
   "execution_count": 44,
   "metadata": {},
   "outputs": [
    {
     "data": {
      "image/png": "[encoded data removed]",
      "text/plain": [
       "<matplotlib.figure.Figure at 0x7fbdec1239b0>"
      ]
     },
     "metadata": {},
     "output_type": "display_data"
    }
   ],
   "source": [
    "ax = plt.subplot(111)\n",
    "ax.hist([len(pl) for (pl, _) in train_playlists], bins=100)\n",
    "ax.set_yscale('log')\n",
    "ax.set_xlim(0, xmax)\n",
    "ax.set_title('Histogram of playlist length in TRAINING set')\n",
    "pass"
   ]
  },
  {
   "cell_type": "code",
   "execution_count": 45,
   "metadata": {},
   "outputs": [
    {
     "data": {
      "image/png": "[encoded data removed]",
      "text/plain": [
       "<matplotlib.figure.Figure at 0x7fbdf226df60>"
      ]
     },
     "metadata": {},
     "output_type": "display_data"
    }
   ],
   "source": [
    "ax = plt.subplot(111)\n",
    "ax.hist([len(pl) for (pl, _) in dev_playlists], bins=100)\n",
    "ax.set_yscale('log')\n",
    "ax.set_xlim(0, xmax)\n",
    "ax.set_title('Histogram of playlist length in DEV set')\n",
    "pass"
   ]
  },
  {
   "cell_type": "code",
   "execution_count": 46,
   "metadata": {},
   "outputs": [
    {
     "data": {
      "image/png": "[encoded data removed]",
      "text/plain": [
       "<matplotlib.figure.Figure at 0x7fbde53c34e0>"
      ]
     },
     "metadata": {},
     "output_type": "display_data"
    }
   ],
   "source": [
    "ax = plt.subplot(111)\n",
    "ax.hist([len(pl) for (pl, _) in test_playlists], bins=100)\n",
    "ax.set_yscale('log')\n",
    "ax.set_xlim(0, xmax)\n",
    "ax.set_title('Histogram of playlist length in TEST set')\n",
    "pass"
   ]
  },
  {
   "cell_type": "markdown",
   "metadata": {},
   "source": [
    "## Setting II: hold the last half of songs in a subset of playlists, use all songs"
   ]
  },
  {
   "cell_type": "markdown",
   "metadata": {},
   "source": [
    "Hold the last half of songs for playlists in dev and test set."
   ]
  },
  {
   "cell_type": "code",
   "execution_count": 47,
   "metadata": {},
   "outputs": [],
   "source": [
    "dev_playlists_obs   = [pl[:-int(len(pl)/2)] for (pl, _) in dev_playlists]\n",
    "dev_playlists_held  = [pl[-int(len(pl)/2):] for (pl, _) in dev_playlists]\n",
    "test_playlists_obs  = [pl[:-int(len(pl)/2)] for (pl, _) in test_playlists]\n",
    "test_playlists_held = [pl[-int(len(pl)/2):] for (pl, _) in test_playlists]"
   ]
  },
  {
   "cell_type": "code",
   "execution_count": 48,
   "metadata": {},
   "outputs": [],
   "source": [
    "for ix in range(len(dev_playlists)):\n",
    "    assert np.all(dev_playlists[ix][0]  == dev_playlists_obs[ix]  + dev_playlists_held[ix])\n",
    "for ix in range(len(test_playlists)):\n",
    "    assert np.all(test_playlists[ix][0] == test_playlists_obs[ix] + test_playlists_held[ix])"
   ]
  },
  {
   "cell_type": "code",
   "execution_count": 49,
   "metadata": {},
   "outputs": [
    {
     "name": "stdout",
     "output_type": "stream",
     "text": [
      "DEV  obs: 77,189 | DEV  held: 74,095 \n",
      "TEST obs: 74,925 | TeST held: 71,823\n"
     ]
    }
   ],
   "source": [
    "print('DEV  obs: {:,} | DEV  held: {:,} \\nTEST obs: {:,} | TeST held: {:,}'.format(\n",
    "    np.sum([len(ppl) for ppl in dev_playlists_obs]),  np.sum([len(ppl) for ppl in dev_playlists_held]),\n",
    "    np.sum([len(ppl) for ppl in test_playlists_obs]), np.sum([len(ppl) for ppl in test_playlists_held])))"
   ]
  },
  {
   "cell_type": "code",
   "execution_count": 50,
   "metadata": {},
   "outputs": [],
   "source": [
    "song2pop_train = song2pop.copy()\n",
    "song2pop_train_dev = song2pop.copy()\n",
    "for ppl in dev_playlists_held:\n",
    "    for sid in ppl:\n",
    "        song2pop_train[sid] -= 1\n",
    "for ppl in test_playlists_held:\n",
    "    for sid in ppl:\n",
    "        song2pop_train[sid] -= 1\n",
    "        song2pop_train_dev[sid] -= 1"
   ]
  },
  {
   "cell_type": "markdown",
   "metadata": {},
   "source": [
    "## Setting II: hold a subset of songs in a subset of playlists, use all songs"
   ]
  },
  {
   "cell_type": "code",
   "execution_count": 51,
   "metadata": {},
   "outputs": [],
   "source": [
    "pkl_dir2 = os.path.join(data_dir, 'setting2')\n",
    "fpl2     = os.path.join(pkl_dir2, 'playlists_train_dev_test_s2.pkl.gz')\n",
    "fy2      = os.path.join(pkl_dir2, 'Y.pkl.gz')\n",
    "fxtrain2 = os.path.join(pkl_dir2, 'X_train.pkl.gz')\n",
    "fytrain2 = os.path.join(pkl_dir2, 'Y_train.pkl.gz')\n",
    "fxtrndev2 = os.path.join(pkl_dir2, 'X_train_dev.pkl.gz')\n",
    "fytrndev2 = os.path.join(pkl_dir2, 'Y_train_dev.pkl.gz')\n",
    "fydev2   = os.path.join(pkl_dir2, 'PU_dev.pkl.gz')\n",
    "fytest2  = os.path.join(pkl_dir2, 'PU_test.pkl.gz')\n",
    "fclique21 = os.path.join(pkl_dir2, 'cliques_train_dev.pkl.gz')\n",
    "fclique22 = os.path.join(pkl_dir2, 'cliques_all2.pkl.gz')"
   ]
  },
  {
   "cell_type": "code",
   "execution_count": 52,
   "metadata": {},
   "outputs": [],
   "source": [
    "X, Y = gen_dataset(playlists = [t[0] for t in train_playlists + dev_playlists + test_playlists],\n",
    "                   song2feature = song2feature, song2genre = song2genre, \n",
    "                   train_song_set = [t[0] for t in all_songs], song2pop_train=song2pop_train)"
   ]
  },
  {
   "cell_type": "code",
   "execution_count": 53,
   "metadata": {},
   "outputs": [],
   "source": [
    "X_train = X\n",
    "assert X.shape[0] == len(song2pop_train_dev)\n",
    "X_train_dev = X_train.copy()\n",
    "X_train_dev[:, -1] = np.array([song2pop_train_dev[sid] for sid, _ in all_songs], dtype=np.float)"
   ]
  },
  {
   "cell_type": "code",
   "execution_count": 54,
   "metadata": {},
   "outputs": [],
   "source": [
    "dev_cols  = np.arange(len(train_playlists), len(train_playlists) + len(dev_playlists))\n",
    "test_cols = np.arange(len(train_playlists) + len(dev_playlists), Y.shape[1])\n",
    "assert len(dev_cols)  == len(dev_playlists)  == len(dev_playlists_obs)\n",
    "assert len(test_cols) == len(test_playlists) == len(test_playlists_obs)"
   ]
  },
  {
   "cell_type": "code",
   "execution_count": 55,
   "metadata": {},
   "outputs": [],
   "source": [
    "pkl.dump({'train_playlists': train_playlists, 'dev_playlists': dev_playlists, 'test_playlists': test_playlists,\n",
    "          'dev_playlists_obs': dev_playlists_obs, 'dev_playlists_held': dev_playlists_held,\n",
    "          'test_playlists_obs': test_playlists_obs, 'test_playlists_held': test_playlists_held},\n",
    "          gzip.open(fpl2, 'wb'))"
   ]
  },
  {
   "cell_type": "code",
   "execution_count": 56,
   "metadata": {},
   "outputs": [],
   "source": [
    "song2index = {sid: ix for ix, sid in enumerate([t[0] for t in all_songs])}"
   ]
  },
  {
   "cell_type": "markdown",
   "metadata": {},
   "source": [
    "Use dedicated sparse matrices to reprsent what entries are observed in dev and test set."
   ]
  },
  {
   "cell_type": "code",
   "execution_count": 57,
   "metadata": {},
   "outputs": [],
   "source": [
    "Y_train = Y[:, :len(train_playlists)].tocsr()\n",
    "Y_train_dev = Y[:, :len(train_playlists) + len(dev_playlists)].tocsr()"
   ]
  },
  {
   "cell_type": "code",
   "execution_count": 58,
   "metadata": {},
   "outputs": [
    {
     "name": "stdout",
     "output_type": "stream",
     "text": [
      "5000 / 5960"
     ]
    }
   ],
   "source": [
    "PU_dev  = lil_matrix((len(all_songs), len(dev_playlists)),  dtype=np.bool)\n",
    "PU_test = lil_matrix((len(all_songs), len(test_playlists)), dtype=np.bool)\n",
    "\n",
    "num_known_dev = 0\n",
    "for j in range(len(dev_playlists)):\n",
    "    if (j+1) % 1000 == 0:\n",
    "        sys.stdout.write('\\r%d / %d' % (j+1, len(dev_playlists))); sys.stdout.flush()\n",
    "    rows = [song2index[sid] for sid in dev_playlists_obs[j]]\n",
    "    PU_dev[rows, j] = True\n",
    "    num_known_dev += len(rows)\n",
    "\n",
    "num_known_test = 0\n",
    "for j in range(len(test_playlists)):\n",
    "    if (j+1) % 1000 == 0:\n",
    "        sys.stdout.write('\\r%d / %d' % (j+1, len(test_playlists))); sys.stdout.flush()\n",
    "    rows = [song2index[sid] for sid in test_playlists_obs[j]]\n",
    "    PU_test[rows, j] = True\n",
    "    num_known_test += len(rows)\n",
    "\n",
    "PU_dev  = PU_dev.tocsr()\n",
    "PU_test = PU_test.tocsr()"
   ]
  },
  {
   "cell_type": "code",
   "execution_count": 59,
   "metadata": {},
   "outputs": [
    {
     "name": "stdout",
     "output_type": "stream",
     "text": [
      "#unknown entries in DEV  set:     310,790,451 |     310,790,451 \n",
      "#unknown entries in TEST set:     310,792,715 |     310,792,715\n"
     ]
    }
   ],
   "source": [
    "print('#unknown entries in DEV  set: {:15,d} | {:15,d} \\n#unknown entries in TEST set: {:15,d} | {:15,d}'.format(\n",
    "    np.prod(PU_dev.shape)  - PU_dev.sum(),  len(dev_playlists)  * len(all_songs) - num_known_dev,\n",
    "    np.prod(PU_test.shape) - PU_test.sum(), len(test_playlists) * len(all_songs) - num_known_test))"
   ]
  },
  {
   "cell_type": "code",
   "execution_count": 60,
   "metadata": {},
   "outputs": [
    {
     "name": "stdout",
     "output_type": "stream",
     "text": [
      "#unknown entries in Setting I: 621,779,989\n"
     ]
    }
   ],
   "source": [
    "print('#unknown entries in Setting I: {:,}'.format((len(dev_song_set) + len(test_song_set)) * Y.shape[1]))"
   ]
  },
  {
   "cell_type": "markdown",
   "metadata": {},
   "source": [
    "Feature normalisation."
   ]
  },
  {
   "cell_type": "code",
   "execution_count": 61,
   "metadata": {},
   "outputs": [],
   "source": [
    "X_train_mean = np.mean(X_train, axis=0).reshape((1, -1))\n",
    "X_train_std = np.std(X_train, axis=0).reshape((1, -1)) + 10 ** (-6)\n",
    "X_train -= X_train_mean\n",
    "X_train /= X_train_std"
   ]
  },
  {
   "cell_type": "code",
   "execution_count": 62,
   "metadata": {},
   "outputs": [],
   "source": [
    "X_trndev_mean = np.mean(X_train_dev, axis=0).reshape((1, -1))\n",
    "X_trndev_std = np.std(X_train_dev, axis=0).reshape((1, -1)) + 10 ** (-6)\n",
    "X_train_dev -= X_trndev_mean\n",
    "X_train_dev /= X_trndev_std"
   ]
  },
  {
   "cell_type": "code",
   "execution_count": 63,
   "metadata": {},
   "outputs": [
    {
     "name": "stdout",
     "output_type": "stream",
     "text": [
      "-1.3129124890602689e-15\n",
      "-0.018361224225788342\n",
      "-1.3078419236190308e-15\n",
      "-0.018361224217789074\n"
     ]
    }
   ],
   "source": [
    "print(np.mean(np.mean(X_train, axis=0)))\n",
    "print(np.mean( np.std(X_train, axis=0)) - 1)\n",
    "print(np.mean(np.mean(X_train_dev, axis=0)))\n",
    "print(np.mean( np.std(X_train_dev, axis=0)) - 1)"
   ]
  },
  {
   "cell_type": "code",
   "execution_count": 64,
   "metadata": {},
   "outputs": [
    {
     "name": "stdout",
     "output_type": "stream",
     "text": [
      "All   : (52159, 29803)\n",
      "Train : (52159, 218), (52159, 17883)\n",
      "Dev   : (52159, 5960)\n",
      "Trndev: (52159, 218), (52159, 23843)\n",
      "Test  : (52159, 5960)\n"
     ]
    }
   ],
   "source": [
    "print('All   : %s' % str(Y.shape))\n",
    "print('Train : %s, %s' % (X_train.shape, Y_train.shape))\n",
    "print('Dev   : %s' % str(PU_dev.shape))\n",
    "print('Trndev: %s, %s' % (X_train_dev.shape, Y_train_dev.shape))\n",
    "print('Test  : %s' % str(PU_test.shape))"
   ]
  },
  {
   "cell_type": "code",
   "execution_count": 65,
   "metadata": {},
   "outputs": [],
   "source": [
    "pkl.dump(X_train,     gzip.open(fxtrain2, 'wb'))\n",
    "pkl.dump(Y_train,     gzip.open(fytrain2, 'wb'))\n",
    "pkl.dump(Y,           gzip.open(fy2, 'wb'))\n",
    "pkl.dump(X_train_dev, gzip.open(fxtrndev2, 'wb'))\n",
    "pkl.dump(Y_train_dev, gzip.open(fytrndev2, 'wb'))\n",
    "pkl.dump(PU_dev,      gzip.open(fydev2, 'wb'))\n",
    "pkl.dump(PU_test,     gzip.open(fytest2, 'wb'))"
   ]
  },
  {
   "cell_type": "markdown",
   "metadata": {},
   "source": [
    "Build the adjacent matrix of playlists (nodes) for *setting II*, playlists of the same user form a *clique*."
   ]
  },
  {
   "cell_type": "markdown",
   "metadata": {},
   "source": [
    "Cliques in train + dev set."
   ]
  },
  {
   "cell_type": "code",
   "execution_count": 66,
   "metadata": {},
   "outputs": [],
   "source": [
    "pl_users = [u for (_, u) in train_playlists + dev_playlists]\n",
    "cliques_train_dev = []\n",
    "for u in set(pl_users):\n",
    "    clique = np.where(u == np.array(pl_users, dtype=np.object))[0]\n",
    "    if len(clique) > 1:\n",
    "        cliques_train_dev.append(clique)"
   ]
  },
  {
   "cell_type": "code",
   "execution_count": 67,
   "metadata": {},
   "outputs": [],
   "source": [
    "pkl.dump(cliques_train_dev, gzip.open(fclique21, 'wb'))"
   ]
  },
  {
   "cell_type": "code",
   "execution_count": 68,
   "metadata": {},
   "outputs": [
    {
     "name": "stdout",
     "output_type": "stream",
     "text": [
      "2 119 5353\n"
     ]
    }
   ],
   "source": [
    "clqsize = [len(clq) for clq in cliques_train_dev]\n",
    "print(np.min(clqsize), np.max(clqsize), len(clqsize))"
   ]
  },
  {
   "cell_type": "markdown",
   "metadata": {},
   "source": [
    "Cliques in train + dev + test set."
   ]
  },
  {
   "cell_type": "code",
   "execution_count": 69,
   "metadata": {},
   "outputs": [],
   "source": [
    "pl_users = [u for (_, u) in train_playlists + dev_playlists + test_playlists]\n",
    "clique_list2 = []\n",
    "for u in set(pl_users):\n",
    "    clique = np.where(u == np.array(pl_users, dtype=np.object))[0]\n",
    "    if len(clique) > 1:\n",
    "        clique_list2.append(clique)"
   ]
  },
  {
   "cell_type": "code",
   "execution_count": 70,
   "metadata": {},
   "outputs": [],
   "source": [
    "pkl.dump(clique_list2, gzip.open(fclique22, 'wb'))"
   ]
  },
  {
   "cell_type": "code",
   "execution_count": 71,
   "metadata": {},
   "outputs": [
    {
     "name": "stdout",
     "output_type": "stream",
     "text": [
      "2 142 6660\n"
     ]
    }
   ],
   "source": [
    "clqsize = [len(clq) for clq in clique_list2]\n",
    "print(np.min(clqsize), np.max(clqsize), len(clqsize))"
   ]
  }
 ],
 "metadata": {
  "kernelspec": {
   "display_name": "Python 3",
   "language": "python",
   "name": "python3"
  },
  "language_info": {
   "codemirror_mode": {
    "name": "ipython",
    "version": 3
   },
   "file_extension": ".py",
   "mimetype": "text/x-python",
   "name": "python",
   "nbconvert_exporter": "python",
   "pygments_lexer": "ipython3",
   "version": "3.6.4"
  }
 },
 "nbformat": 4,
 "nbformat_minor": 2
}
