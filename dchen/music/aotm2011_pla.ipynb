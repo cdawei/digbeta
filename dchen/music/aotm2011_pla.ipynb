{
 "cells": [
  {
   "cell_type": "markdown",
   "metadata": {},
   "source": [
    "# Playlist augmentation"
   ]
  },
  {
   "cell_type": "code",
   "execution_count": null,
   "metadata": {},
   "outputs": [],
   "source": [
    "%matplotlib inline\n",
    "%load_ext autoreload\n",
    "%autoreload 2\n",
    "\n",
    "import os, sys, time, gzip\n",
    "import pickle as pkl\n",
    "import numpy as np\n",
    "import pandas as pd\n",
    "from sklearn.metrics import precision_recall_fscore_support, roc_auc_score, average_precision_score\n",
    "from scipy.sparse import lil_matrix, issparse\n",
    "\n",
    "import matplotlib.pyplot as plt\n",
    "import seaborn as sns"
   ]
  },
  {
   "cell_type": "code",
   "execution_count": null,
   "metadata": {},
   "outputs": [],
   "source": [
    "from models import PCMLC, obj_pclassification"
   ]
  },
  {
   "cell_type": "code",
   "execution_count": null,
   "metadata": {},
   "outputs": [],
   "source": [
    "data_dir = 'data/aotm-2011/setting2'\n",
    "X_train = pkl.load(gzip.open(os.path.join(data_dir, 'X_train.pkl.gz'), 'rb'))\n",
    "Y_train = pkl.load(gzip.open(os.path.join(data_dir, 'Y_train.pkl.gz'), 'rb'))\n",
    "Y_train_dev = pkl.load(gzip.open(os.path.join(data_dir, 'Y_train_dev.pkl.gz'), 'rb'))\n",
    "PU_dev = pkl.load(gzip.open(os.path.join(data_dir, 'PU_dev.pkl.gz'), 'rb'))\n",
    "PU_test = pkl.load(gzip.open(os.path.join(data_dir, 'PU_test.pkl.gz'), 'rb'))\n",
    "cliques = pkl.load(gzip.open(os.path.join(data_dir, 'cliques_train_dev.pkl.gz'), 'rb'))"
   ]
  },
  {
   "cell_type": "code",
   "execution_count": null,
   "metadata": {},
   "outputs": [],
   "source": [
    "print('Train: %15s %15s' % (X_train.shape, Y_train.shape))\n",
    "print('Dev  : %15s %15s' % PU_dev.shape)\n",
    "print('Test : %15s %15s' % PU_test.shape)"
   ]
  },
  {
   "cell_type": "markdown",
   "metadata": {},
   "source": [
    "## PLA"
   ]
  },
  {
   "cell_type": "code",
   "execution_count": null,
   "metadata": {
    "scrolled": true
   },
   "outputs": [],
   "source": [
    "clf = PCMLC(C1=1, C2=1, C3=1, p=1,  loss_type='label')\n",
    "clf.fit_minibatch_pla(X_train, Y_train, PUMat=PU_dev, user_playlist_indices=None, \n",
    "                      batch_size=256, n_epochs=2, verbose=1)"
   ]
  },
  {
   "cell_type": "code",
   "execution_count": null,
   "metadata": {},
   "outputs": [],
   "source": [
    "plt.figure(figsize=[20, 3])\n",
    "plt.plot(clf.cost)"
   ]
  },
  {
   "cell_type": "code",
   "execution_count": null,
   "metadata": {},
   "outputs": [],
   "source": [
    "Y_dev = Y_train_dev[:, -PU_dev.shape[1]:]\n",
    "offset = Y_train_dev.shape[1] - PU_dev.shape[1]\n",
    "W = clf.W\n",
    "b = clf.b\n",
    "print(clf)\n",
    "aucs = []\n",
    "for j in range(Y_dev.shape[1]):\n",
    "    if (j+1) % 10 == 0:\n",
    "        sys.stdout.write('\\r%d / %d' % (j+1, Y_dev.shape[1]))\n",
    "        sys.stdout.flush()\n",
    "    y1 = Y_dev[:, j].toarray().reshape(-1)\n",
    "    y2 = PU_dev[:, j].toarray().reshape(-1)\n",
    "    indices = np.where(0 == y2)[0]\n",
    "    #print(indices); break\n",
    "    y_true = y1[indices]\n",
    "    wj = W[j + offset, :].reshape(-1)\n",
    "    y_pred = (np.dot(X_train, wj) + b)[indices]\n",
    "    aucs.append(roc_auc_score(y_true, y_pred))\n",
    "print('\\n%.4f, %d / %d' % (np.mean(aucs), len(aucs), Y_dev.shape[1]))"
   ]
  },
  {
   "cell_type": "markdown",
   "metadata": {},
   "source": [
    "## MLR"
   ]
  },
  {
   "cell_type": "code",
   "execution_count": null,
   "metadata": {},
   "outputs": [],
   "source": [
    "data_dir1 = 'data/aotm-2011/setting1'\n",
    "X_train1 = pkl.load(gzip.open(os.path.join(data_dir1, 'X_train.pkl.gz'), 'rb'))\n",
    "Y_train1 = pkl.load(gzip.open(os.path.join(data_dir1, 'Y_train.pkl.gz'), 'rb'))\n",
    "X_dev1 = pkl.load(gzip.open(os.path.join(data_dir1, 'X_dev.pkl.gz'), 'rb'))\n",
    "Y_dev1 = pkl.load(gzip.open(os.path.join(data_dir1, 'Y_dev.pkl.gz'), 'rb'))\n",
    "cliques1 = pkl.load(gzip.open(os.path.join(data_dir1, 'cliques_all.pkl.gz'), 'rb'))"
   ]
  },
  {
   "cell_type": "code",
   "execution_count": null,
   "metadata": {},
   "outputs": [],
   "source": [
    "print('Train: %15s %15s' % (X_train1.shape, Y_train1.shape))\n",
    "print('Dev  : %15s %15s' % (X_dev1.shape, Y_dev1.shape))"
   ]
  },
  {
   "cell_type": "code",
   "execution_count": null,
   "metadata": {
    "scrolled": true
   },
   "outputs": [],
   "source": [
    "clf1 = PCMLC(loss_type='label')\n",
    "clf1.fit_minibatch_mlr(X_train1, Y_train1, user_playlist_indices=None, batch_size=256, n_epochs=1, verbose=1)"
   ]
  },
  {
   "cell_type": "code",
   "execution_count": null,
   "metadata": {},
   "outputs": [],
   "source": [
    "plt.figure(figsize=[20, 3])\n",
    "plt.plot(clf1.cost[50:])"
   ]
  },
  {
   "cell_type": "code",
   "execution_count": null,
   "metadata": {},
   "outputs": [],
   "source": []
  }
 ],
 "metadata": {
  "kernelspec": {
   "display_name": "Python 3",
   "language": "python",
   "name": "python3"
  },
  "language_info": {
   "codemirror_mode": {
    "name": "ipython",
    "version": 3
   },
   "file_extension": ".py",
   "mimetype": "text/x-python",
   "name": "python",
   "nbconvert_exporter": "python",
   "pygments_lexer": "ipython3",
   "version": "3.6.4"
  }
 },
 "nbformat": 4,
 "nbformat_minor": 2
}
