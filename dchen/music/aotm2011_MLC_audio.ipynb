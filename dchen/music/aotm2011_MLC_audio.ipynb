{
 "cells": [
  {
   "cell_type": "markdown",
   "metadata": {},
   "source": [
    "# A simple example of generating playlist by multilable learning (toppush)"
   ]
  },
  {
   "cell_type": "code",
   "execution_count": 1,
   "metadata": {},
   "outputs": [],
   "source": [
    "%matplotlib inline\n",
    "%load_ext autoreload\n",
    "%autoreload 2\n",
    "\n",
    "import os, sys, time\n",
    "import pickle as pkl\n",
    "import numpy as np\n",
    "import pandas as pd\n",
    "import sklearn as sk\n",
    "from sklearn.linear_model import LogisticRegression\n",
    "from sklearn.multiclass import OneVsRestClassifier\n",
    "from sklearn.metrics import classification_report, f1_score, make_scorer, label_ranking_loss\n",
    "from scipy.sparse import lil_matrix, issparse\n",
    "\n",
    "import matplotlib.pyplot as plt\n",
    "import seaborn as sns"
   ]
  },
  {
   "cell_type": "code",
   "execution_count": 2,
   "metadata": {},
   "outputs": [],
   "source": [
    "sys.path.append('src')\n",
    "from TopPushMLC import TopPushMLC\n",
    "from evaluate import evaluatePrecision, evalPred"
   ]
  },
  {
   "cell_type": "code",
   "execution_count": 12,
   "metadata": {},
   "outputs": [],
   "source": [
    "data_dir = 'data'\n",
    "faotm = os.path.join(data_dir, 'aotm-2011/aotm-2011-subset.pkl')\n",
    "fmap  = os.path.join(data_dir, 'aotm-2011/songID2TrackID.pkl')\n",
    "ffeature = os.path.join(data_dir, 'aotm-2011/songID2Features.pkl')"
   ]
  },
  {
   "cell_type": "code",
   "execution_count": 20,
   "metadata": {},
   "outputs": [],
   "source": [
    "fxtrain = os.path.join(data_dir, 'aotm-2011/X_train_audio.pkl')\n",
    "fytrain = os.path.join(data_dir, 'aotm-2011/Y_train_audio.pkl')\n",
    "fxtest  = os.path.join(data_dir, 'aotm-2011/X_test_audio.pkl')\n",
    "fytest  = os.path.join(data_dir, 'aotm-2011/Y_test_audio.pkl')"
   ]
  },
  {
   "cell_type": "markdown",
   "metadata": {},
   "source": [
    "## Data loading"
   ]
  },
  {
   "cell_type": "markdown",
   "metadata": {},
   "source": [
    "Load playlists."
   ]
  },
  {
   "cell_type": "code",
   "execution_count": 5,
   "metadata": {},
   "outputs": [],
   "source": [
    "playlists = pkl.load(open(faotm, 'rb'))"
   ]
  },
  {
   "cell_type": "code",
   "execution_count": 6,
   "metadata": {},
   "outputs": [
    {
     "name": "stdout",
     "output_type": "stream",
     "text": [
      "#Playlists: 95298\n"
     ]
    }
   ],
   "source": [
    "print('#Playlists: %d' % len(playlists))"
   ]
  },
  {
   "cell_type": "code",
   "execution_count": 7,
   "metadata": {},
   "outputs": [
    {
     "data": {
      "text/plain": [
       "['SOFDPDC12A58A7D198',\n",
       " 'SOPIEQP12A8C13F268',\n",
       " 'SOKMCJK12A6D4F6105',\n",
       " 'SOGTGJR12A6310E08D',\n",
       " 'SOLTBYJ12A6310F2BB',\n",
       " 'SOBOXXN12A6D4FA1A2',\n",
       " 'SOUQUFO12B0B80778E']"
      ]
     },
     "execution_count": 7,
     "metadata": {},
     "output_type": "execute_result"
    }
   ],
   "source": [
    "playlists[0]"
   ]
  },
  {
   "cell_type": "code",
   "execution_count": 8,
   "metadata": {},
   "outputs": [],
   "source": [
    "#print('#Songs: %d' % len({songID for p in playlists for songID in p['filtered_lists'][0]}))"
   ]
  },
  {
   "cell_type": "code",
   "execution_count": 9,
   "metadata": {},
   "outputs": [
    {
     "name": "stdout",
     "output_type": "stream",
     "text": [
      "Average playlist length: 9.4\n"
     ]
    },
    {
     "data": {
      "image/png": "[encoded data removed]",
      "text/plain": [
       "<matplotlib.figure.Figure at 0x7ff47251f978>"
      ]
     },
     "metadata": {},
     "output_type": "display_data"
    }
   ],
   "source": [
    "#lengths = [len(p['filtered_lists'][0]) for p in playlists]\n",
    "lengths = [len(sl) for sl in playlists]\n",
    "plt.hist(lengths, bins=20)\n",
    "print('Average playlist length: %.1f' % np.mean(lengths))"
   ]
  },
  {
   "cell_type": "markdown",
   "metadata": {},
   "source": [
    "Load `song_id` --> `track_id` mapping: a song may correspond to multiple tracks."
   ]
  },
  {
   "cell_type": "code",
   "execution_count": 10,
   "metadata": {},
   "outputs": [],
   "source": [
    "song2TrackID = pkl.load(open(fmap, 'rb'))"
   ]
  },
  {
   "cell_type": "code",
   "execution_count": 11,
   "metadata": {},
   "outputs": [
    {
     "data": {
      "text/plain": [
       "{'SOAAAFI12A6D4F9C66': ['TRZEXLQ128F1491D17'],\n",
       " 'SOAAAMT12AB018C9C4': ['TRYIOYF12903CD4E73'],\n",
       " 'SOAAASR12AB018A516': ['TRRTOHC12903CDD2EA'],\n",
       " 'SOAABHX12AAF3B40E7': ['TRZARKN128F92DE096'],\n",
       " 'SOAABLG12A6D4F73D2': ['TRFUCDA128F1455C96'],\n",
       " 'SOAABMP12A6D4F7633': ['TRQVPBD128F1458060'],\n",
       " 'SOAABMR12A6D4F70E4': ['TRVMASA128F149BB53'],\n",
       " 'SOAABQL12A67020E76': ['TRJOVXI128E0791CFA'],\n",
       " 'SOAABRB12A58A792A3': ['TRZGOQN128F935F425'],\n",
       " 'SOAACBE12A6D4F7A54': ['TRHRWOM128F1466747']}"
      ]
     },
     "execution_count": 11,
     "metadata": {},
     "output_type": "execute_result"
    }
   ],
   "source": [
    "{ k : song2TrackID[k] for k in list(song2TrackID.keys())[:10] }"
   ]
  },
  {
   "cell_type": "markdown",
   "metadata": {},
   "source": [
    "Load `song_id` --> `feature array` mapping: map a song to the audio features of one of its corresponding tracks in MSD."
   ]
  },
  {
   "cell_type": "code",
   "execution_count": 13,
   "metadata": {},
   "outputs": [],
   "source": [
    "song2Features = pkl.load(open(ffeature, 'rb'))"
   ]
  },
  {
   "cell_type": "markdown",
   "metadata": {},
   "source": [
    "The set of songs, which is the set of labels in this formulation."
   ]
  },
  {
   "cell_type": "code",
   "execution_count": 14,
   "metadata": {},
   "outputs": [],
   "source": [
    "song_set = sorted(song2Features.keys())"
   ]
  },
  {
   "cell_type": "code",
   "execution_count": 15,
   "metadata": {},
   "outputs": [
    {
     "data": {
      "text/plain": [
       "119466"
      ]
     },
     "execution_count": 15,
     "metadata": {},
     "output_type": "execute_result"
    }
   ],
   "source": [
    "len(song_set)"
   ]
  },
  {
   "cell_type": "code",
   "execution_count": 16,
   "metadata": {},
   "outputs": [],
   "source": [
    "label_indices = {songID: ix for ix, songID in enumerate(song_set)}"
   ]
  },
  {
   "cell_type": "code",
   "execution_count": 18,
   "metadata": {},
   "outputs": [
    {
     "data": {
      "text/plain": [
       "[('SOAAAFI12A6D4F9C66', 0),\n",
       " ('SOAAAMT12AB018C9C4', 1),\n",
       " ('SOAAASR12AB018A516', 2),\n",
       " ('SOAABHX12AAF3B40E7', 3),\n",
       " ('SOAABLG12A6D4F73D2', 4),\n",
       " ('SOAABMP12A6D4F7633', 5),\n",
       " ('SOAABMR12A6D4F70E4', 6),\n",
       " ('SOAABQL12A67020E76', 7),\n",
       " ('SOAABRB12A58A792A3', 8),\n",
       " ('SOAACBE12A6D4F7A54', 9)]"
      ]
     },
     "execution_count": 18,
     "metadata": {},
     "output_type": "execute_result"
    }
   ],
   "source": [
    "list(label_indices.items())[:10]"
   ]
  },
  {
   "cell_type": "code",
   "execution_count": 22,
   "metadata": {},
   "outputs": [],
   "source": [
    "def gen_training_set(playlists=playlists, label_indices=label_indices, features=song2Features):\n",
    "    \"\"\"\n",
    "        Create the labelled dataset for a given song index\n",
    "        \n",
    "        Input:\n",
    "            - playlists: which playlists to create features for\n",
    "            - label_indices: a dictionary that maps a songID to the index of the corresponding label\n",
    "            - features: a dictionary that maps a songID to its feature vector\n",
    "            \n",
    "        Output:\n",
    "            - (Feature, Label) pair (X, Y), with # num playlists rows\n",
    "              X comprises the features for each seed song\n",
    "              Y comprises the indicators of whether the given song is present in the respective playlist\n",
    "    \"\"\"\n",
    "\n",
    "    N = len(playlists)\n",
    "    K = len(label_indices)\n",
    "\n",
    "    X = [ ]\n",
    "    Y = lil_matrix((N, K), dtype=np.int8)\n",
    "    \n",
    "    cnt = 0\n",
    "    for i in range(len(playlists)):\n",
    "        cnt += 1\n",
    "        if cnt % 10 == 0:\n",
    "            sys.stdout.write('\\r%d / %d' % (cnt, len(playlists)))\n",
    "            sys.stdout.flush()\n",
    "            \n",
    "        playlist = playlists[i]\n",
    "        seed     = playlist[0]\n",
    "\n",
    "        X.append(features[seed])\n",
    "        indices = [label_indices[s] for s in playlist]\n",
    "        Y[i, indices] = 1\n",
    "\n",
    "    return np.array(X), Y.tocsr()"
   ]
  },
  {
   "cell_type": "markdown",
   "metadata": {},
   "source": [
    "## Training & Test"
   ]
  },
  {
   "cell_type": "markdown",
   "metadata": {},
   "source": [
    "Train a logistic regression model for each label."
   ]
  },
  {
   "cell_type": "code",
   "execution_count": 24,
   "metadata": {},
   "outputs": [
    {
     "name": "stdout",
     "output_type": "stream",
     "text": [
      "95290 / 95298"
     ]
    }
   ],
   "source": [
    "if np.all([os.path.exists(fname) for fname in [fxtrain, fytrain, fxtest, fytest]]):\n",
    "    X_train = pkl.load(open(fxtrain, 'rb'))\n",
    "    Y_train = pkl.load(open(fytrain, 'rb'))\n",
    "    X_test  = pkl.load(open(fxtest,  'rb'))\n",
    "    Y_test  = pkl.load(open(fytest,  'rb'))\n",
    "else:\n",
    "    X, Y = gen_training_set(playlists=playlists, label_indices=label_indices, features=song2Features)\n",
    "    # by fixing random seed, the same playlists will be in the test set each time\n",
    "    X_train, X_test, Y_train, Y_test = sk.model_selection.train_test_split(X, Y, test_size=0.33, random_state=31)\n",
    "    pkl.dump(X_train, open(fxtrain, 'wb'))\n",
    "    pkl.dump(Y_train, open(fytrain, 'wb'))\n",
    "    pkl.dump(X_test,  open(fxtest,  'wb'))\n",
    "    pkl.dump(Y_test,  open(fytest,  'wb'))"
   ]
  },
  {
   "cell_type": "code",
   "execution_count": 25,
   "metadata": {},
   "outputs": [
    {
     "data": {
      "text/plain": [
       "(63849, 91)"
      ]
     },
     "execution_count": 25,
     "metadata": {},
     "output_type": "execute_result"
    }
   ],
   "source": [
    "X_train.shape"
   ]
  },
  {
   "cell_type": "code",
   "execution_count": 27,
   "metadata": {},
   "outputs": [
    {
     "data": {
      "text/plain": [
       "(31449, 91)"
      ]
     },
     "execution_count": 27,
     "metadata": {},
     "output_type": "execute_result"
    }
   ],
   "source": [
    "X_test.shape"
   ]
  },
  {
   "cell_type": "code",
   "execution_count": 29,
   "metadata": {},
   "outputs": [],
   "source": [
    "def print_results(predictor, X_train, Y_train, X_test, Y_test):\n",
    "    \"\"\"\n",
    "        Compute and save performance results\n",
    "    \"\"\"\n",
    "    p3_train = []\n",
    "    p5_train = []\n",
    "    pk_train = []\n",
    "    p10_train = []\n",
    "    p3_test = []\n",
    "    p5_test = []\n",
    "    pk_test = []\n",
    "    p10_test = []\n",
    "    rankloss_train = []\n",
    "    rankloss_test = []\n",
    "    \n",
    "    N_train = X_train.shape[0]\n",
    "    batch_size = 500\n",
    "    N_batch_train = int((N_train-1) / batch_size) + 1\n",
    "    for i in range(N_batch_train):\n",
    "        ix0 = i * batch_size\n",
    "        ix1 = min((i+1) * batch_size, N_train)\n",
    "        preds = predictor.decision_function(X_train[ix0:ix1])\n",
    "        evaldict = evaluatePrecision(Y_train[ix0:ix1].toarray(), preds, verbose=-1)\n",
    "        size = ix1 - ix0\n",
    "        p3_train.append(evaldict['Precision@3'][0] * size)\n",
    "        p5_train.append(evaldict['Precision@5'][0] * size)\n",
    "        pk_train.append(evaldict['Precision@K'][0] * size)\n",
    "        p10_train.append(evaldict['Precision@10'][0] * size)\n",
    "        #rankloss_train.append(evalPred1(Y_train[i].toarray()[0], pred, metricType='Ranking'))\n",
    "        sys.stdout.write('\\r%d / %d' % (i+1, N_batch_train)); sys.stdout.flush()\n",
    "    print()\n",
    "    \n",
    "    N_test = X_test.shape[0]\n",
    "    N_batch_test = int((N_test-1) / batch_size) + 1\n",
    "    for i in range(N_batch_test):\n",
    "        ix0 = i * batch_size\n",
    "        ix1 = min((i+1) * batch_size, N_test)\n",
    "        preds = predictor.decision_function(X_test[ix0:ix1])\n",
    "        evaldict = evaluatePrecision(Y_test[ix0:ix1].toarray(), preds, verbose=-1)\n",
    "        size = ix1 - ix0\n",
    "        p3_test.append(evaldict['Precision@3'][0] * size)\n",
    "        p5_test.append(evaldict['Precision@5'][0] * size)\n",
    "        pk_test.append(evaldict['Precision@K'][0] * size)\n",
    "        p10_test.append(evaldict['Precision@10'][0] * size)\n",
    "        #rankloss_test.append(evalPred1(Y_test[i].toarray()[0], pred, metricType='Ranking'))\n",
    "        sys.stdout.write('\\r%d / %d' % (i+1, N_batch_test)); sys.stdout.flush()\n",
    "    print()\n",
    "    \n",
    "    print('Training set:')\n",
    "    print('Precision@3:', (np.sum(p3_train) / N_train))\n",
    "    print('Precision@5:', (np.sum(p5_train) / N_train))\n",
    "    print('Precision@k:', (np.sum(pk_train) / N_train))\n",
    "    print('Precision@10:', (np.sum(p10_train) / N_train))\n",
    "    print()\n",
    "    print('Test set:')\n",
    "    print('Precision@3:', (np.sum(p3_test) / N_test))\n",
    "    print('Precision@5:', (np.sum(p5_test) / N_test))\n",
    "    print('Precision@k:', (np.sum(pk_test) / N_test))\n",
    "    print('Precision@10:', (np.sum(p10_test) / N_test))\n",
    "    \n",
    "    #print()\n",
    "    #print('Training set:')\n",
    "    #print('RankingLoss: %.1f, %.1f' % (np.mean(rankloss_train), np.std(rankloss_train) / N_train))\n",
    "    #print()\n",
    "    #print('Test set:')\n",
    "    #print('RankingLoss: %.1f, %.1f' % (np.mean(rankloss_test), np.std(rankloss_test) / N_test))"
   ]
  },
  {
   "cell_type": "code",
   "execution_count": 32,
   "metadata": {},
   "outputs": [],
   "source": [
    "def print_dataset_info(X_train, Y_train, X_test, Y_test):\n",
    "    N_train, D = X_train.shape\n",
    "    K = Y_train.shape[1]\n",
    "    N_test = X_test.shape[0]\n",
    "    print('%-45s %s' % ('Number of training examples:', '{:,}'.format(N_train)))\n",
    "    print('%-45s %s' % ('Number of test examples:', '{:,}'.format(N_test)))\n",
    "    print('%-45s %s' % ('Number of features:', '{:,}'.format(D)))\n",
    "    print('%-45s %s' % ('Number of labels:', '{:,}'.format(K)))\n",
    "    avgK_train = np.mean(np.sum(Y_train, axis=1))\n",
    "    avgK_test  = np.mean(np.sum(Y_test, axis=1))\n",
    "    print('%-45s %.3f (%.3f%%)' % ('Average number of positive labels (train):', avgK_train, 100*avgK_train / K))\n",
    "    print('%-45s %.3f (%.3f%%)' % ('Average number of positive labels (test):', avgK_test, 100*avgK_test / K))\n",
    "    #print('%-45s %.4f%%' % ('Average label occurrence (train):', np.mean(np.sum(Y_train, axis=0)) / N_train))\n",
    "    #print('%-45s %.4f%%' % ('Average label occurrence (test):', np.mean(np.sum(Y_test, axis=0)) / N_test))\n",
    "    print('%-45s %.3f%%' % ('Sparsity (percent) (train):', 100 * np.sum(Y_train) / np.prod(Y_train.shape)))\n",
    "    print('%-45s %.3f%%' % ('Sparsity (percent) (test):', 100 * np.sum(Y_test) / np.prod(Y_test.shape)))"
   ]
  },
  {
   "cell_type": "code",
   "execution_count": 33,
   "metadata": {},
   "outputs": [
    {
     "name": "stdout",
     "output_type": "stream",
     "text": [
      "Number of training examples:                  63,849\n",
      "Number of test examples:                      31,449\n",
      "Number of features:                           91\n",
      "Number of labels:                             119,466\n",
      "Average number of positive labels (train):    9.365 (0.008%)\n",
      "Average number of positive labels (test):     9.337 (0.008%)\n",
      "Sparsity (percent) (train):                   0.008%\n",
      "Sparsity (percent) (test):                    0.008%\n"
     ]
    }
   ],
   "source": [
    "print_dataset_info(X_train, Y_train, X_test, Y_test)"
   ]
  },
  {
   "cell_type": "markdown",
   "metadata": {},
   "source": [
    "Feature normalisation."
   ]
  },
  {
   "cell_type": "code",
   "execution_count": 43,
   "metadata": {},
   "outputs": [],
   "source": [
    "X_train_mean = np.mean(X_train, axis=0).reshape((1, -1))\n",
    "X_train_std = np.std(X_train, axis=0).reshape((1, -1)) + 10 ** (-6)\n",
    "X_train -= X_train_mean\n",
    "X_train /= X_train_std\n",
    "X_test  -= X_train_mean\n",
    "X_test  /= X_train_std"
   ]
  },
  {
   "cell_type": "code",
   "execution_count": 47,
   "metadata": {},
   "outputs": [
    {
     "data": {
      "text/plain": [
       "array([-0.08587364,  0.15145343,  3.03110687,  2.59613467, -0.14907683,\n",
       "        2.18205533,  3.02430695,  2.59953993,  0.        ,  2.98921488,\n",
       "       -0.15481325, -0.3191014 ,  0.        ,  1.60935991,  1.92890821,\n",
       "        0.07342563,  0.61199962,  1.62396087,  0.0506255 ,  0.95249726,\n",
       "        2.93187568,  2.59691981, -0.82399644, -0.55740981, -0.00419771,\n",
       "       -0.09769548,  0.13280141,  0.00611655,  0.35663388, -0.39508608,\n",
       "       -0.31072763,  0.15147666, -1.05652409, -0.09521882, -0.25287969,\n",
       "       -1.01113434,  0.62712184, -1.25530744, -0.84926322, -1.47430381,\n",
       "       -0.41517045,  1.76729269, -0.10973843,  1.31150192, -1.05265997,\n",
       "       -0.01148716,  1.13640196, -1.13388668,  1.31349642, -1.02913882,\n",
       "       -0.88649301, -1.39271767, -0.50997472,  1.97764296,  2.9232556 ,\n",
       "        1.98521127,  0.13857995, -0.12739154,  1.06544479,  0.35167441,\n",
       "       -0.33006219, -0.705186  ,  0.89579847, -0.03300568, -0.10806939,\n",
       "       -0.32628819,  0.30145003,  0.31490025, -0.1426518 , -0.30768752,\n",
       "       -1.07509786, -0.98271763, -0.92906469, -0.75225462, -1.00838081,\n",
       "       -1.13958596, -0.5511817 , -1.08257141, -0.89116103, -0.58184069,\n",
       "       -1.17905241,  2.93500693,  0.20612725, -0.99318487, -0.81756531,\n",
       "        3.02630629,  2.59923486,  0.95696238,  0.36322316, -0.41258189,\n",
       "       -0.47835906])"
      ]
     },
     "execution_count": 47,
     "metadata": {},
     "output_type": "execute_result"
    }
   ],
   "source": [
    "X_train[100, :]"
   ]
  },
  {
   "cell_type": "code",
   "execution_count": 52,
   "metadata": {
    "scrolled": true
   },
   "outputs": [],
   "source": [
    "fbase = os.path.join(data_dir, 'aotm-2011/br_base_audio.pkl')\n",
    "if os.path.exists(fbase):\n",
    "    clf = pkl.load(open(fbase, 'rb'))\n",
    "else:\n",
    "    clf = OneVsRestClassifier(LogisticRegression(verbose=0), n_jobs=4)\n",
    "    clf.fit(X_train, Y_train)\n",
    "    pkl.dump(clf, open(fbase, 'wb'))"
   ]
  },
  {
   "cell_type": "code",
   "execution_count": 53,
   "metadata": {},
   "outputs": [],
   "source": [
    "y1 = clf.decision_function(X_train[:1])[0]"
   ]
  },
  {
   "cell_type": "code",
   "execution_count": 64,
   "metadata": {},
   "outputs": [
    {
     "data": {
      "text/plain": [
       "(array([ 23897,  33199,  48775,  63175,  73862,  91000, 119146]),)"
      ]
     },
     "execution_count": 64,
     "metadata": {},
     "output_type": "execute_result"
    }
   ],
   "source": [
    "Y_train[0].toarray().reshape(-1).nonzero()"
   ]
  },
  {
   "cell_type": "code",
   "execution_count": 56,
   "metadata": {},
   "outputs": [
    {
     "name": "stdout",
     "output_type": "stream",
     "text": [
      "128 / 128\n",
      "63 / 63\n",
      "Training set:\n",
      "Precision@3: 0.0266409810647\n",
      "Precision@5: 0.0164074613541\n",
      "Precision@k: 0.0114910557657\n",
      "Precision@10: 0.00841203464424\n",
      "\n",
      "Test set:\n",
      "Precision@3: 0.0176052232715\n",
      "Precision@5: 0.0105949314764\n",
      "Precision@k: 0.00682441753198\n",
      "Precision@10: 0.00531654424624\n"
     ]
    }
   ],
   "source": [
    "print_results(clf, X_train, Y_train, X_test, Y_test)"
   ]
  },
  {
   "cell_type": "code",
   "execution_count": 50,
   "metadata": {},
   "outputs": [
    {
     "name": "stdout",
     "output_type": "stream",
     "text": [
      " 128 / 128\n",
      "epoch: 1 / 10, obj: 13.661346\n",
      " 128 / 128\n",
      "epoch: 2 / 10, obj: 11.840989\n",
      " 128 / 128\n",
      "epoch: 3 / 10, obj: 11.702071\n",
      " 128 / 128\n",
      "epoch: 4 / 10, obj: 11.691470\n",
      " 128 / 128\n",
      "epoch: 5 / 10, obj: 11.690662\n",
      " 128 / 128\n",
      "epoch: 6 / 10, obj: 11.690599\n",
      " 128 / 128\n",
      "epoch: 7 / 10, obj: 11.690594\n",
      " 128 / 128\n",
      "epoch: 8 / 10, obj: 11.690594\n",
      " 128 / 128\n",
      "epoch: 9 / 10, obj: 11.690594\n",
      " 128 / 128\n",
      "epoch: 10 / 10, obj: 11.690594\n"
     ]
    }
   ],
   "source": [
    "clf2 = TopPushMLC(C=1, r=1)\n",
    "clf2.fit_SGD(X_train, Y_train, batch_size=500, n_epochs=10, learning_rate=0.01)"
   ]
  },
  {
   "cell_type": "code",
   "execution_count": 51,
   "metadata": {},
   "outputs": [
    {
     "name": "stdout",
     "output_type": "stream",
     "text": [
      "128 / 128\n",
      "63 / 63\n",
      "Training set:\n",
      "Precision@3: 0.0339290095903\n",
      "Precision@5: 0.0275713010384\n",
      "Precision@k: 0.0217161557304\n",
      "Precision@10: 0.0201021159298\n",
      "\n",
      "Test set:\n",
      "Precision@3: 0.0313841457598\n",
      "Precision@5: 0.0248720150084\n",
      "Precision@k: 0.0187033232825\n",
      "Precision@10: 0.0176921364749\n"
     ]
    }
   ],
   "source": [
    "print_results(clf2, X_train, Y_train, X_test, Y_test)"
   ]
  },
  {
   "cell_type": "code",
   "execution_count": null,
   "metadata": {},
   "outputs": [],
   "source": []
  }
 ],
 "metadata": {
  "kernelspec": {
   "display_name": "Python 3",
   "language": "python",
   "name": "python3"
  },
  "language_info": {
   "codemirror_mode": {
    "name": "ipython",
    "version": 3
   },
   "file_extension": ".py",
   "mimetype": "text/x-python",
   "name": "python",
   "nbconvert_exporter": "python",
   "pygments_lexer": "ipython3",
   "version": "3.6.3"
  }
 },
 "nbformat": 4,
 "nbformat_minor": 2
}
