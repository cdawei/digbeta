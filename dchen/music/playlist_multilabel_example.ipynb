{
 "cells": [
  {
   "cell_type": "markdown",
   "metadata": {},
   "source": [
    "# A simple example of generating playlist by multilable learning"
   ]
  },
  {
   "cell_type": "code",
   "execution_count": 1,
   "metadata": {
    "collapsed": true
   },
   "outputs": [],
   "source": [
    "%matplotlib inline\n",
    "\n",
    "import os, sys, time\n",
    "import pickle as pkl\n",
    "import numpy as np\n",
    "import pandas as pd\n",
    "import sklearn as sk\n",
    "from sklearn.linear_model import LogisticRegression\n",
    "\n",
    "import matplotlib.pyplot as plt\n",
    "import seaborn as sns"
   ]
  },
  {
   "cell_type": "code",
   "execution_count": 2,
   "metadata": {
    "collapsed": true
   },
   "outputs": [],
   "source": [
    "data_dir = 'data'\n",
    "faotm = os.path.join(data_dir, 'aotm-2011/aotm-2011-subset.pkl')\n",
    "fmap  = os.path.join(data_dir, 'aotm-2011/map_song_track.pkl')\n",
    "ftag  = os.path.join(data_dir, 'msd/msd_tagtraum_cd2c.cls')"
   ]
  },
  {
   "cell_type": "markdown",
   "metadata": {},
   "source": [
    "## Data loading"
   ]
  },
  {
   "cell_type": "markdown",
   "metadata": {},
   "source": [
    "Load playlists."
   ]
  },
  {
   "cell_type": "code",
   "execution_count": 3,
   "metadata": {
    "collapsed": true
   },
   "outputs": [],
   "source": [
    "playlists = pkl.load(open(faotm, 'rb'))"
   ]
  },
  {
   "cell_type": "code",
   "execution_count": 4,
   "metadata": {},
   "outputs": [
    {
     "name": "stdout",
     "output_type": "stream",
     "text": [
      "#Playlists: 241\n"
     ]
    }
   ],
   "source": [
    "print('#Playlists: %d' % len(playlists))"
   ]
  },
  {
   "cell_type": "code",
   "execution_count": 5,
   "metadata": {},
   "outputs": [
    {
     "data": {
      "text/plain": [
       "{'category': 'Road Trip',\n",
       " 'filtered_lists': [['SOYXQBU12CF5F88FAA',\n",
       "   'SOYDNDN12A58A77663',\n",
       "   'SOOLDQA12A6D4F9370',\n",
       "   'SOHCPBA12AB018377B',\n",
       "   'SOHGHSU12AB0186C5F',\n",
       "   'SOFRCHU12A8C13F96B',\n",
       "   'SONHAWL12A6310F260',\n",
       "   'SOXRJWV12A8C13DE1D',\n",
       "   'SOUPNVN12AB018B0B4',\n",
       "   'SOEYNQL12A67ADE655',\n",
       "   'SOZTMFN12A58A7DCEE',\n",
       "   'SORDYVO12A8C141A40']],\n",
       " 'mix_id': 113009,\n",
       " 'playlist': [[['Simon & Garfunkel', 'America'], 'SOYXQBU12CF5F88FAA'],\n",
       "  [['Marc Cohn', 'Walking In Memphis'], 'SOYDNDN12A58A77663'],\n",
       "  [['Matt Pond PA', 'Lily Two'], 'SOOLDQA12A6D4F9370'],\n",
       "  [['Grateful Dead', 'Tennessee Jed'], 'SOHCPBA12AB018377B'],\n",
       "  [['Braid', 'Killing a Camera'], 'SOHGHSU12AB0186C5F'],\n",
       "  [['Johnny Cash', 'Hey Porter'], 'SOFRCHU12A8C13F96B'],\n",
       "  [[\"Marcy's Playground\", 'Memphis'], 'SONHAWL12A6310F260'],\n",
       "  [['Whiskeytown', 'Lo-Fi Tennessee Mountain Angel'], 'SOXRJWV12A8C13DE1D'],\n",
       "  [['Something Corporate', 'I Woke Up in a Car'], 'SOUPNVN12AB018B0B4'],\n",
       "  [['The Boy Least Likely To',\n",
       "    \"I'm Glad I Hitched My Apple Wagon to Your Star\"],\n",
       "   'SOEYNQL12A67ADE655'],\n",
       "  [['The Promise Ring', 'Everywhere In Denver'], 'SOZTMFN12A58A7DCEE'],\n",
       "  [['Jeff Buckley', 'Hallelujah'], 'SORDYVO12A8C141A40']],\n",
       " 'timestamp': '2007-06-23T00:46:00',\n",
       " 'user': {'member_since': '2003-12-27T00:00:00',\n",
       "  'mixes_posted': '14',\n",
       "  'name': 'elizabeth123456'}}"
      ]
     },
     "execution_count": 5,
     "metadata": {},
     "output_type": "execute_result"
    }
   ],
   "source": [
    "playlists[0]"
   ]
  },
  {
   "cell_type": "code",
   "execution_count": 6,
   "metadata": {},
   "outputs": [
    {
     "name": "stdout",
     "output_type": "stream",
     "text": [
      "#Songs: 1718\n"
     ]
    }
   ],
   "source": [
    "print('#Songs: %d' % len({songID for p in playlists for songID in p['filtered_lists'][0]}))"
   ]
  },
  {
   "cell_type": "code",
   "execution_count": 7,
   "metadata": {},
   "outputs": [
    {
     "name": "stdout",
     "output_type": "stream",
     "text": [
      "Average playlist length: 9.2\n"
     ]
    }
   ],
   "source": [
    "lengths = [len(p['filtered_lists'][0]) for p in playlists]\n",
    "#plt.hist(lengths, bins=20)\n",
    "print('Average playlist length: %.1f' % np.mean(lengths))"
   ]
  },
  {
   "cell_type": "markdown",
   "metadata": {},
   "source": [
    "Load `song_id` --> `track_id` mapping: a song may correspond to multiple tracks."
   ]
  },
  {
   "cell_type": "code",
   "execution_count": 8,
   "metadata": {
    "collapsed": true
   },
   "outputs": [],
   "source": [
    "song2TrackID = pkl.load(open(fmap, 'rb'))"
   ]
  },
  {
   "cell_type": "code",
   "execution_count": 9,
   "metadata": {},
   "outputs": [
    {
     "data": {
      "text/plain": [
       "{'SOCXCXO12A58A7942F': ['TRCKHHS128F145A92B'],\n",
       " 'SOETUOD12AB0185397': ['TRRABGF128F4252E44', 'TRISYYV128F932E74E'],\n",
       " 'SOKBQUE12AB0182216': ['TREBZDS128F93269FA'],\n",
       " 'SOKOXWU12AF72AD1BC': ['TREWTIO128F145497E', 'TRKLEJT128E078EC6C'],\n",
       " 'SOLKFRC12B0B8077F7': ['TRSOLCZ128F4263C79'],\n",
       " 'SOPLQEW12A679D8AC1': ['TRAWMXO128E0792DDE'],\n",
       " 'SOUVSTM12A8AE48BC8': ['TRGDLXQ128F4260C69'],\n",
       " 'SOXTOUC12AB0185A31': ['TRBYVRH128F935189A'],\n",
       " 'SOYIPFY12A8C13AF8C': ['TRQUYED128F428B49C'],\n",
       " 'SOYZGMB12A8AE487F1': ['TRZCSSL128F426F89C']}"
      ]
     },
     "execution_count": 9,
     "metadata": {},
     "output_type": "execute_result"
    }
   ],
   "source": [
    "{ k : song2TrackID[k] for k in list(song2TrackID.keys())[:10] }"
   ]
  },
  {
   "cell_type": "markdown",
   "metadata": {},
   "source": [
    "Load song tags, build `track_id` --> `tag` mapping."
   ]
  },
  {
   "cell_type": "code",
   "execution_count": 10,
   "metadata": {
    "collapsed": true
   },
   "outputs": [],
   "source": [
    "track2Tags = dict()"
   ]
  },
  {
   "cell_type": "code",
   "execution_count": 11,
   "metadata": {
    "collapsed": true
   },
   "outputs": [],
   "source": [
    "with open(ftag) as f:\n",
    "    for line in f:\n",
    "        if line[0] == '#': continue\n",
    "        tid, tag = line.strip().split('\\t')\n",
    "        #print(tid, tag)\n",
    "        track2Tags[tid] = tag"
   ]
  },
  {
   "cell_type": "code",
   "execution_count": 12,
   "metadata": {},
   "outputs": [
    {
     "name": "stdout",
     "output_type": "stream",
     "text": [
      "#(Track, Tag): 191401\n"
     ]
    }
   ],
   "source": [
    "print('#(Track, Tag): %d' % len(track2Tags))"
   ]
  },
  {
   "cell_type": "code",
   "execution_count": 13,
   "metadata": {},
   "outputs": [
    {
     "data": {
      "text/plain": [
       "{'TRCMDRR128F9301A9A': 'Rap',\n",
       " 'TRFRCRL128F93011CD': 'Electronic',\n",
       " 'TRIMYCU128E07896B3': 'Rock',\n",
       " 'TRPHTAC12903CC583F': 'Electronic',\n",
       " 'TRSIHJY128F933A29D': 'Rock',\n",
       " 'TRTEOGC128F14895C2': 'Pop',\n",
       " 'TRUIKPC128C7196C73': 'Rock',\n",
       " 'TRVMGPT12903CAA0C5': 'Blues',\n",
       " 'TRVOJZQ128F427054E': 'Electronic',\n",
       " 'TRWXFFH128F4274E55': 'Rock'}"
      ]
     },
     "execution_count": 13,
     "metadata": {},
     "output_type": "execute_result"
    }
   ],
   "source": [
    "{ k : track2Tags[k] for k in list(track2Tags.keys())[:10] }"
   ]
  },
  {
   "cell_type": "markdown",
   "metadata": {},
   "source": [
    "## Data cleaning"
   ]
  },
  {
   "cell_type": "markdown",
   "metadata": {},
   "source": [
    "Use the subset of playlist such that the first song (i.e. the *seed* song) in each playlist has tag(s)."
   ]
  },
  {
   "cell_type": "code",
   "execution_count": 14,
   "metadata": {
    "collapsed": true
   },
   "outputs": [],
   "source": [
    "subset_ix = []"
   ]
  },
  {
   "cell_type": "code",
   "execution_count": 89,
   "metadata": {
    "collapsed": true
   },
   "outputs": [],
   "source": [
    "seedSong2Tag = { }\n",
    "for ix in range(len(playlists)):\n",
    "    # the list of song IDs in the playlist\n",
    "    songIDs = playlists[ix]['filtered_lists'][0]\n",
    "\n",
    "    # seed song\n",
    "    seedSongID   = songIDs[0]\n",
    "    seedTrackIDs = song2TrackID[seedSongID]\n",
    "    \n",
    "    # make sure that at least one track for the song has a corresponding tag\n",
    "    flag = [ (trackID in track2Tags) for trackID in seedTrackIDs]\n",
    "    if not np.any(flag):\n",
    "        continue\n",
    "\n",
    "    seedSong2Tag[playlists[ix]['mix_id']] = [ track2Tags[seedTrackIDs[i]] for i in range(0, len(flag)) if flag[i] == True  ]\n",
    "\n",
    "    subset_ix.append(ix)"
   ]
  },
  {
   "cell_type": "code",
   "execution_count": 91,
   "metadata": {},
   "outputs": [],
   "source": [
    "#seedSong2Tag"
   ]
  },
  {
   "cell_type": "code",
   "execution_count": 16,
   "metadata": {
    "collapsed": true
   },
   "outputs": [],
   "source": [
    "playlists_subset = [playlists[ix] for ix in subset_ix]"
   ]
  },
  {
   "cell_type": "code",
   "execution_count": 17,
   "metadata": {},
   "outputs": [
    {
     "name": "stdout",
     "output_type": "stream",
     "text": [
      "#Playlists used: 130\n"
     ]
    }
   ],
   "source": [
    "print('#Playlists used: %d' % len(subset_ix))"
   ]
  },
  {
   "cell_type": "markdown",
   "metadata": {},
   "source": [
    "The set of unique songs, **in multilabel learning, we have a label for each song in this set**."
   ]
  },
  {
   "cell_type": "code",
   "execution_count": 18,
   "metadata": {
    "collapsed": true
   },
   "outputs": [],
   "source": [
    "song_set = sorted({songID for p in playlists_subset for songID in p['filtered_lists'][0]})"
   ]
  },
  {
   "cell_type": "code",
   "execution_count": 19,
   "metadata": {},
   "outputs": [
    {
     "name": "stdout",
     "output_type": "stream",
     "text": [
      "#Songs used: 927\n"
     ]
    }
   ],
   "source": [
    "print('#Songs used: %d' % len(song_set))"
   ]
  },
  {
   "cell_type": "code",
   "execution_count": 20,
   "metadata": {},
   "outputs": [
    {
     "name": "stdout",
     "output_type": "stream",
     "text": [
      "['SOAAFAC12A67ADF7EB', 'SOAAJWZ12A67AE16FB', 'SOABLRM12A6701F091', 'SOADISH12AB018DFAC', 'SOADQHJ12AF729D75C', 'SOAGENT12A8C1363D1', 'SOAGGRW12A6D4F920E', 'SOAGSYE12A58A7A5A7', 'SOAHSMI12AF72A9FA7', 'SOAJJRO12AB0182B3A']\n"
     ]
    }
   ],
   "source": [
    "print(song_set[:10])"
   ]
  },
  {
   "cell_type": "markdown",
   "metadata": {},
   "source": [
    "## Data analysis"
   ]
  },
  {
   "cell_type": "markdown",
   "metadata": {},
   "source": [
    "For the most part, playlists contain less than 10 songs. The most common playlist length is 2 songs."
   ]
  },
  {
   "cell_type": "code",
   "execution_count": 21,
   "metadata": {},
   "outputs": [
    {
     "name": "stdout",
     "output_type": "stream",
     "text": [
      "Average playlist length: 9.1\n"
     ]
    },
    {
     "data": {
      "image/png": "[encoded data removed]",
      "text/plain": [
       "<matplotlib.figure.Figure at 0x7fd9e8c75ba8>"
      ]
     },
     "metadata": {},
     "output_type": "display_data"
    }
   ],
   "source": [
    "playlist_lengths = [len(playlist['filtered_lists'][0]) for playlist in playlists_subset]\n",
    "plt.hist(playlist_lengths, bins=20)\n",
    "print('Average playlist length: %.1f' % np.mean(playlist_lengths))"
   ]
  },
  {
   "cell_type": "markdown",
   "metadata": {},
   "source": [
    "`Song_id --> Song_name` mapping."
   ]
  },
  {
   "cell_type": "code",
   "execution_count": 22,
   "metadata": {
    "collapsed": true
   },
   "outputs": [],
   "source": [
    "songID2Name = {s[1]: s[0] for p in playlists_subset for s in p['playlist']}"
   ]
  },
  {
   "cell_type": "code",
   "execution_count": 23,
   "metadata": {
    "collapsed": true
   },
   "outputs": [],
   "source": [
    "#songID2Name"
   ]
  },
  {
   "cell_type": "markdown",
   "metadata": {},
   "source": [
    "## One-hot tag encoding"
   ]
  },
  {
   "cell_type": "markdown",
   "metadata": {},
   "source": [
    "Indicator of tags: `tag` --> `index` mapping."
   ]
  },
  {
   "cell_type": "code",
   "execution_count": 24,
   "metadata": {
    "collapsed": true
   },
   "outputs": [],
   "source": [
    "# the set of unique tags\n",
    "tag_set = sorted(set(track2Tags.values()))"
   ]
  },
  {
   "cell_type": "code",
   "execution_count": 25,
   "metadata": {},
   "outputs": [
    {
     "name": "stdout",
     "output_type": "stream",
     "text": [
      "#Tags: 15\n"
     ]
    }
   ],
   "source": [
    "print('#Tags: %d' % len(tag_set))"
   ]
  },
  {
   "cell_type": "code",
   "execution_count": 26,
   "metadata": {
    "collapsed": true
   },
   "outputs": [],
   "source": [
    "tag_indicator = { tag: ix for ix, tag in enumerate(tag_set) }"
   ]
  },
  {
   "cell_type": "code",
   "execution_count": 27,
   "metadata": {},
   "outputs": [
    {
     "data": {
      "text/plain": [
       "{'Blues': 0,\n",
       " 'Country': 1,\n",
       " 'Electronic': 2,\n",
       " 'Folk': 3,\n",
       " 'Jazz': 4,\n",
       " 'Latin': 5,\n",
       " 'Metal': 6,\n",
       " 'New Age': 7,\n",
       " 'Pop': 8,\n",
       " 'Punk': 9,\n",
       " 'Rap': 10,\n",
       " 'Reggae': 11,\n",
       " 'RnB': 12,\n",
       " 'Rock': 13,\n",
       " 'World': 14}"
      ]
     },
     "execution_count": 27,
     "metadata": {},
     "output_type": "execute_result"
    }
   ],
   "source": [
    "tag_indicator"
   ]
  },
  {
   "cell_type": "markdown",
   "metadata": {},
   "source": [
    "## Feature extraction"
   ]
  },
  {
   "cell_type": "markdown",
   "metadata": {},
   "source": [
    "Build features (1-hot encoding of tag) for a song given its `song_id`."
   ]
  },
  {
   "cell_type": "code",
   "execution_count": 28,
   "metadata": {
    "collapsed": true
   },
   "outputs": [],
   "source": [
    "def gen_features(song_id, song2TrackID = song2TrackID, tag_indicator = tag_indicator):\n",
    "    \"\"\"\n",
    "        Generate one-hot feature vector for a given song ID\n",
    "    \"\"\"\n",
    "\n",
    "    features = np.zeros(len(tag_set), dtype = np.float)\n",
    "    trackIDs = song2TrackID[song_id]\n",
    "\n",
    "    cnt = 0\n",
    "    for trackID in trackIDs:\n",
    "        if trackID in track2Tags:\n",
    "            cnt += 1\n",
    "            tag = track2Tags[trackID]\n",
    "            tag_ix = tag_indicator[tag]\n",
    "            features[tag_ix] = 1\n",
    "\n",
    "    # must have at least one tag for the song, else useless\n",
    "    assert(cnt >= 1)\n",
    "\n",
    "    return features"
   ]
  },
  {
   "cell_type": "code",
   "execution_count": 29,
   "metadata": {
    "collapsed": true
   },
   "outputs": [],
   "source": [
    "def gen_feature_map(song_id, seed):\n",
    "    \"\"\"\n",
    "        Generate feature mapping for a given (label, query) pair\n",
    "    \"\"\"\n",
    "    \n",
    "    #return gen_features(song_id) - gen_features(seed)  # feature map\n",
    "    return gen_features(seed)  # a trivial feature map"
   ]
  },
  {
   "cell_type": "code",
   "execution_count": 30,
   "metadata": {
    "collapsed": true
   },
   "outputs": [],
   "source": [
    "def gen_training_set(label_ix, playlists = playlists_subset, song_set = song_set):\n",
    "    \"\"\"\n",
    "        Create the labelled dataset for a given song index\n",
    "        \n",
    "        Input:\n",
    "            - label_ix: song index, number in { 0, ..., # songs }\n",
    "            - playlists: which playlists to create features for\n",
    "            \n",
    "        Output:\n",
    "            - (Feature, Label) pair (X, y), with # num playlists rows\n",
    "              X comprises the features for each seed song and the given song\n",
    "              y comprises the indicator of whether the given song is present in the respective playlist\n",
    "    \"\"\"\n",
    "\n",
    "    assert(label_ix >= 0)\n",
    "    assert(label_ix < len(song_set))\n",
    "\n",
    "    N = len(playlists)\n",
    "    d = len(tag_set)\n",
    "\n",
    "    X = np.zeros((N, d), dtype = np.float)\n",
    "    y = np.zeros(N, dtype = np.float)\n",
    "    \n",
    "    whichSong = song_set[label_ix]\n",
    "    \n",
    "    for i in range(len(playlists)):\n",
    "        playlist = playlists[i]['filtered_lists'][0]\n",
    "        seed     = playlist[0]\n",
    "\n",
    "        X[i,:] = gen_feature_map(whichSong, seed)\n",
    "        y[i]   = int(whichSong in playlist)\n",
    "\n",
    "    return X, y"
   ]
  },
  {
   "cell_type": "code",
   "execution_count": 31,
   "metadata": {},
   "outputs": [
    {
     "data": {
      "text/plain": [
       "array([ 0.,  0.,  0.,  0.,  0.,  0.,  0.,  0.,  0.,  0.,  0.,  0.,  0.,\n",
       "        1.,  0.])"
      ]
     },
     "execution_count": 31,
     "metadata": {},
     "output_type": "execute_result"
    }
   ],
   "source": [
    "gen_feature_map(song_set[100], playlists_subset[0]['filtered_lists'][0][0])"
   ]
  },
  {
   "cell_type": "markdown",
   "metadata": {},
   "source": [
    "## Training & Testing"
   ]
  },
  {
   "cell_type": "markdown",
   "metadata": {},
   "source": [
    "Train a logistic regression model for each label."
   ]
  },
  {
   "cell_type": "code",
   "execution_count": 32,
   "metadata": {
    "collapsed": true
   },
   "outputs": [],
   "source": [
    "classifiers = [LogisticRegression(class_weight='balanced') for i in range(len(song_set))]"
   ]
  },
  {
   "cell_type": "code",
   "execution_count": 75,
   "metadata": {
    "collapsed": true
   },
   "outputs": [],
   "source": [
    "allPreds  = [ ]\n",
    "allTruths = [ ]\n",
    "coefMat = [ ]\n",
    "labelIndices = [ ]\n",
    "\n",
    "Y = np.NAN * np.ones((len(playlists_subset), len(song_set)))\n",
    "\n",
    "for label_ix in range(len(song_set)):\n",
    "    X, y = gen_training_set(label_ix)\n",
    "    Y[:,label_ix] = y\n",
    "    \n",
    "    # by fixing random seed, the same playlists will be in the test set each time\n",
    "    X_train, X_test, y_train, y_test = sk.model_selection.train_test_split(X, y, \\\n",
    "                                                                           test_size = 0.33, \\\n",
    "                                                                           random_state = 31)    \n",
    "    \n",
    "    if np.max(y_train) == 0.0: # or np.max(y_test) == 0.0:\n",
    "        continue\n",
    "\n",
    "    classifiers[label_ix].fit(X_train, y_train)\n",
    "    \n",
    "    allPreds.append(classifiers[label_ix].decision_function(X_test))\n",
    "    allTruths.append(y_test)    \n",
    "\n",
    "    coefMat.append(classifiers[label_ix].coef_.reshape(-1))\n",
    "    labelIndices.append(label_ix)\n",
    "    #print(classifiers[label_ix].coef_)\n",
    "    #print(classifiers[label_ix].intercept_)"
   ]
  },
  {
   "cell_type": "code",
   "execution_count": 76,
   "metadata": {},
   "outputs": [
    {
     "name": "stdout",
     "output_type": "stream",
     "text": [
      "(43, 699)\n",
      "(43, 699)\n"
     ]
    }
   ],
   "source": [
    "allPreds = np.array(allPreds).T\n",
    "allTruths = np.array(allTruths).T\n",
    "\n",
    "print(allPreds.shape)\n",
    "print(allTruths.shape)"
   ]
  },
  {
   "cell_type": "markdown",
   "metadata": {},
   "source": [
    "## Evaluation"
   ]
  },
  {
   "cell_type": "markdown",
   "metadata": {},
   "source": [
    "Compute AUC."
   ]
  },
  {
   "cell_type": "code",
   "execution_count": 35,
   "metadata": {},
   "outputs": [
    {
     "name": "stdout",
     "output_type": "stream",
     "text": [
      "Average AUC: 0.6577\n"
     ]
    },
    {
     "data": {
      "image/png": "[encoded data removed]",
      "text/plain": [
       "<matplotlib.figure.Figure at 0x7fd9e8959ac8>"
      ]
     },
     "metadata": {},
     "output_type": "display_data"
    }
   ],
   "source": [
    "aucs = [ ]\n",
    "for i in range(0,allPreds.shape[0]):\n",
    "    pred  = allPreds[i,:]\n",
    "    truth = allTruths[i,:]\n",
    "    \n",
    "    if np.max(truth) == 0.0:\n",
    "        continue\n",
    "    \n",
    "    aucs.append(sk.metrics.roc_auc_score(truth, pred))\n",
    "    \n",
    "print('Average AUC: %1.4f' % np.mean(aucs))\n",
    "plt.hist(aucs, bins = 10);"
   ]
  },
  {
   "cell_type": "markdown",
   "metadata": {},
   "source": [
    "Compute average precision."
   ]
  },
  {
   "cell_type": "markdown",
   "metadata": {},
   "source": [
    "## Result analysis"
   ]
  },
  {
   "cell_type": "markdown",
   "metadata": {},
   "source": [
    "Coefficient matrix `(#Genres, #Songs)`."
   ]
  },
  {
   "cell_type": "code",
   "execution_count": 36,
   "metadata": {
    "collapsed": true
   },
   "outputs": [],
   "source": [
    "coefMat = np.array(coefMat).T"
   ]
  },
  {
   "cell_type": "code",
   "execution_count": 37,
   "metadata": {},
   "outputs": [
    {
     "data": {
      "text/plain": [
       "(15, 699)"
      ]
     },
     "execution_count": 37,
     "metadata": {},
     "output_type": "execute_result"
    }
   ],
   "source": [
    "coefMat.shape"
   ]
  },
  {
   "cell_type": "code",
   "execution_count": 38,
   "metadata": {
    "collapsed": true
   },
   "outputs": [],
   "source": [
    "#sns.heatmap(coefMat[:, :30])"
   ]
  },
  {
   "cell_type": "markdown",
   "metadata": {},
   "source": [
    "Top 10 songs of each genre (w.r.t.) the coefficients."
   ]
  },
  {
   "cell_type": "code",
   "execution_count": 39,
   "metadata": {
    "collapsed": true
   },
   "outputs": [],
   "source": [
    "labelIndices = np.array(labelIndices)"
   ]
  },
  {
   "cell_type": "code",
   "execution_count": 65,
   "metadata": {
    "collapsed": true
   },
   "outputs": [],
   "source": [
    "Top10Songs_ix = [ ]\n",
    "for i in range(coefMat.shape[0]):\n",
    "    ix = np.argsort(coefMat[i, :])[::-1][:10]\n",
    "    Top10Songs_ix.append(labelIndices[ix])\n",
    "    \n",
    "Bot10Songs_ix = [ ]\n",
    "for i in range(coefMat.shape[0]):\n",
    "    ix = np.argsort(coefMat[i, :])[:10]\n",
    "    Bot10Songs_ix.append(labelIndices[ix])"
   ]
  },
  {
   "cell_type": "code",
   "execution_count": 41,
   "metadata": {
    "collapsed": true
   },
   "outputs": [],
   "source": [
    "#Top10Songs_ix"
   ]
  },
  {
   "cell_type": "code",
   "execution_count": 42,
   "metadata": {
    "collapsed": true
   },
   "outputs": [],
   "source": [
    "#np.array(song_set)[Top10Songs_ix[0]]"
   ]
  },
  {
   "cell_type": "code",
   "execution_count": 68,
   "metadata": {},
   "outputs": [],
   "source": [
    "cols = ['Genre.Count'] + ['Top %d' % k for k in range(1, 11)] + ['Bot %d' % k for k in range(1, 11)]\n",
    "Top10Songs = pd.DataFrame(np.zeros((len(tag_set), 21), dtype = object),\n",
    "                          index = tag_set, columns = cols)"
   ]
  },
  {
   "cell_type": "code",
   "execution_count": 96,
   "metadata": {
    "collapsed": true
   },
   "outputs": [],
   "source": [
    "# number of appearances of playlists with each genre\n",
    "S = X.sum(axis = 0)\n",
    "idx = np.argsort(S)[::-1]\n",
    "#[(tag_set[i], S[i]) for i in idx]"
   ]
  },
  {
   "cell_type": "code",
   "execution_count": 98,
   "metadata": {},
   "outputs": [
    {
     "data": {
      "image/png": "[encoded data removed]",
      "text/plain": [
       "<matplotlib.figure.Figure at 0x7fd9e8974198>"
      ]
     },
     "metadata": {},
     "output_type": "display_data"
    }
   ],
   "source": [
    "# number of appearances of each song in a playlist\n",
    "plt.hist(Y.sum(axis = 0));\n",
    "plt.xlabel('# of playlist appearances');"
   ]
  },
  {
   "cell_type": "code",
   "execution_count": 70,
   "metadata": {},
   "outputs": [],
   "source": [
    "for i in range(len(tag_set)):\n",
    "    row = tag_set[i]\n",
    "    Top10Songs.loc[row, 'Genre.Count'] = S[i]\n",
    "    for j in range(10):\n",
    "        song_ix = Top10Songs_ix[i][j]\n",
    "        songID = song_set[song_ix]\n",
    "        songName = (songID, songID2Name[songID][0], songID2Name[songID][1])\n",
    "        col = 'Top %d' % (j+1)\n",
    "        Top10Songs.loc[row, col] = songName\n",
    "        \n",
    "        song_ix = Bot10Songs_ix[i][j]\n",
    "        songID = song_set[song_ix]\n",
    "        songName = (songID, songID2Name[songID][0], songID2Name[songID][1])        \n",
    "        col = 'Bot %d' % (j+1)\n",
    "        Top10Songs.loc[row, col] = songName        \n",
    "        \n",
    "Top10Songs = Top10Songs.sort_values(['Genre.Count'], ascending=False)"
   ]
  },
  {
   "cell_type": "code",
   "execution_count": 73,
   "metadata": {},
   "outputs": [
    {
     "data": {
      "text/html": [
       "<div>\n",
       "<style>\n",
       "    .dataframe thead tr:only-child th {\n",
       "        text-align: right;\n",
       "    }\n",
       "\n",
       "    .dataframe thead th {\n",
       "        text-align: left;\n",
       "    }\n",
       "\n",
       "    .dataframe tbody tr th {\n",
       "        vertical-align: top;\n",
       "    }\n",
       "</style>\n",
       "<table border=\"1\" class=\"dataframe\">\n",
       "  <thead>\n",
       "    <tr style=\"text-align: right;\">\n",
       "      <th></th>\n",
       "      <th>Genre.Count</th>\n",
       "      <th>Top 1</th>\n",
       "      <th>Top 2</th>\n",
       "      <th>Top 3</th>\n",
       "      <th>Top 4</th>\n",
       "      <th>Top 5</th>\n",
       "      <th>Top 6</th>\n",
       "      <th>Top 7</th>\n",
       "      <th>Top 8</th>\n",
       "      <th>Top 9</th>\n",
       "      <th>...</th>\n",
       "      <th>Bot 1</th>\n",
       "      <th>Bot 2</th>\n",
       "      <th>Bot 3</th>\n",
       "      <th>Bot 4</th>\n",
       "      <th>Bot 5</th>\n",
       "      <th>Bot 6</th>\n",
       "      <th>Bot 7</th>\n",
       "      <th>Bot 8</th>\n",
       "      <th>Bot 9</th>\n",
       "      <th>Bot 10</th>\n",
       "    </tr>\n",
       "  </thead>\n",
       "  <tbody>\n",
       "    <tr>\n",
       "      <th>Rock</th>\n",
       "      <td>98</td>\n",
       "      <td>(SOTSCKX12AB01857AA, , Electioneering)</td>\n",
       "      <td>(SOVVJWQ12A58A7B38C, Radiohead, Polyethylene [...</td>\n",
       "      <td>(SOWKEUN12AF72AB837, Radiohead, Climbing Up Th...</td>\n",
       "      <td>(SOYQAVD12D02193D04, radiohead, paranoid android)</td>\n",
       "      <td>(SOALITF12A6310DFCD, radiohead, just)</td>\n",
       "      <td>(SOADISH12AB018DFAC, Radiohead, Talk Show Host...</td>\n",
       "      <td>(SOGBLMI12AB01856AC, Radiohead, Fitter Happier)</td>\n",
       "      <td>(SOBMAFJ12A8C137C88, radiohead, street spirit ...</td>\n",
       "      <td>(SOPRZQA12A58A7A112, radiohead, black star)</td>\n",
       "      <td>...</td>\n",
       "      <td>(SOETHJA12A6310F21E, damien rice, volcano)</td>\n",
       "      <td>(SOXTQLJ12A6D4F6C2B, michelle branch, where ar...</td>\n",
       "      <td>(SOLWTFI12A6D4F66E1, something corporate, space)</td>\n",
       "      <td>(SOXAFQB12A6D4F476F, yellowcard, way away)</td>\n",
       "      <td>(SOZPMAS12A67020917, 3 doors down, changes)</td>\n",
       "      <td>(SOMYCHS12A67020918, 3 doors down, going down ...</td>\n",
       "      <td>(SOZAASU12A6D4FA90C, matchbox twenty, busted (...</td>\n",
       "      <td>(SOYZGMB12A8AE487F1, chevelle, the red)</td>\n",
       "      <td>(SOMRZMI12A6D4F8F25, linkin park, numb)</td>\n",
       "      <td>(SOCQJYB12AB017E855, trapt, headstrong)</td>\n",
       "    </tr>\n",
       "    <tr>\n",
       "      <th>Electronic</th>\n",
       "      <td>7</td>\n",
       "      <td>(SOSANGX12AB0181C93, Depeche Mode, Wrong)</td>\n",
       "      <td>(SOCSVVA12AB0186D97, , Walking In My Shoes)</td>\n",
       "      <td>(SORLZFM12AF729FB69, dogs die in hot cars, god...</td>\n",
       "      <td>(SONGIXY12A58A7BB42, LCD Soundsystem, Someone ...</td>\n",
       "      <td>(SONNSYV12A8C146BEC, modest mouse, float on)</td>\n",
       "      <td>(SOOCEKO12A67ADF6D9, morcheeba, part of the pr...</td>\n",
       "      <td>(SOOQQDQ12A8AE47CA9, beth orton, central reser...</td>\n",
       "      <td>(SOOTEAB12A67ADF7E9, morcheeba, let me see)</td>\n",
       "      <td>(SOPMCUN12A6701F456, happy mondays, 24 hour pa...</td>\n",
       "      <td>...</td>\n",
       "      <td>(SOHWRJH12A8C139AFC, air, playground love)</td>\n",
       "      <td>(SOPPJWS12AC96184C3, Sugar Ray, Every Morning)</td>\n",
       "      <td>(SOIPYPB12A8C1360D4, evanescence, my immortal)</td>\n",
       "      <td>(SOLWTFI12A6D4F66E1, something corporate, space)</td>\n",
       "      <td>(SOETHJA12A6310F21E, damien rice, volcano)</td>\n",
       "      <td>(SOXTQLJ12A6D4F6C2B, michelle branch, where ar...</td>\n",
       "      <td>(SOZPMAS12A67020917, 3 doors down, changes)</td>\n",
       "      <td>(SOZAASU12A6D4FA90C, matchbox twenty, busted (...</td>\n",
       "      <td>(SOMRZMI12A6D4F8F25, linkin park, numb)</td>\n",
       "      <td>(SOCQJYB12AB017E855, trapt, headstrong)</td>\n",
       "    </tr>\n",
       "    <tr>\n",
       "      <th>Folk</th>\n",
       "      <td>7</td>\n",
       "      <td>(SOLWTFI12A6D4F66E1, something corporate, space)</td>\n",
       "      <td>(SOXTQLJ12A6D4F6C2B, michelle branch, where ar...</td>\n",
       "      <td>(SOETHJA12A6310F21E, damien rice, volcano)</td>\n",
       "      <td>(SOMRZMI12A6D4F8F25, linkin park, numb)</td>\n",
       "      <td>(SOCQJYB12AB017E855, trapt, headstrong)</td>\n",
       "      <td>(SOAPEXU12A58A792BE, fuel, falls on me)</td>\n",
       "      <td>(SOMYCHS12A67020918, 3 doors down, going down ...</td>\n",
       "      <td>(SOYZGMB12A8AE487F1, chevelle, the red)</td>\n",
       "      <td>(SOZAASU12A6D4FA90C, matchbox twenty, busted (...</td>\n",
       "      <td>...</td>\n",
       "      <td>(SOHWRJH12A8C139AFC, air, playground love)</td>\n",
       "      <td>(SOPPJWS12AC96184C3, Sugar Ray, Every Morning)</td>\n",
       "      <td>(SOEUIUI12A58A7CD98, Pink Floyd, Money)</td>\n",
       "      <td>(SOIIVGZ12A8C1320CF, Incubus, Pardon Me)</td>\n",
       "      <td>(SOYJRZE12AB0184261, Velvet Underground, Heroin)</td>\n",
       "      <td>(SOMIXXT12D021B27DE, system of a down, spiders)</td>\n",
       "      <td>(SOWGGXF12CF5F8716C, Christina Aguilera, Fighter)</td>\n",
       "      <td>(SOBATNA12B0B80758F, res, i've known the garden)</td>\n",
       "      <td>(SOMUCFP12A6701F28E, faye wong, (can't read so...</td>\n",
       "      <td>(SOBMQVM12A81C2070D, bjork, it's not up to you)</td>\n",
       "    </tr>\n",
       "    <tr>\n",
       "      <th>Pop</th>\n",
       "      <td>7</td>\n",
       "      <td>(SOWGGXF12CF5F8716C, Christina Aguilera, Fighter)</td>\n",
       "      <td>(SOMTXSB12AF72ACC38, Britney Spears, Oops I Di...</td>\n",
       "      <td>(SOGEDPI12A58A79FC1, Spice Girls, Wannabe)</td>\n",
       "      <td>(SOKKHNX12AB01801B7, Michelle Branch, You Get Me)</td>\n",
       "      <td>(SOSVUIU12A8AE4629D, Christina Aguilera, Impos...</td>\n",
       "      <td>(SOYIBFQ12A6701C628, Christina Aguilera, Lady ...</td>\n",
       "      <td>(SOYFLSE12D021936ED, Lil Wayne, A Milli)</td>\n",
       "      <td>(SOYDXJI12B350583CE, Christina Aguilera, Beaut...</td>\n",
       "      <td>(SOXGPDZ12A6D4FAAA7, Nick Lachey, I Swear)</td>\n",
       "      <td>...</td>\n",
       "      <td>(SOHWRJH12A8C139AFC, air, playground love)</td>\n",
       "      <td>(SOIPYPB12A8C1360D4, evanescence, my immortal)</td>\n",
       "      <td>(SOMIXXT12D021B27DE, system of a down, spiders)</td>\n",
       "      <td>(SOIIVGZ12A8C1320CF, Incubus, Pardon Me)</td>\n",
       "      <td>(SOYJRZE12AB0184261, Velvet Underground, Heroin)</td>\n",
       "      <td>(SOEUIUI12A58A7CD98, Pink Floyd, Money)</td>\n",
       "      <td>(SOETHJA12A6310F21E, damien rice, volcano)</td>\n",
       "      <td>(SOLWTFI12A6D4F66E1, something corporate, space)</td>\n",
       "      <td>(SOXTQLJ12A6D4F6C2B, michelle branch, where ar...</td>\n",
       "      <td>(SOCQJYB12AB017E855, trapt, headstrong)</td>\n",
       "    </tr>\n",
       "    <tr>\n",
       "      <th>Rap</th>\n",
       "      <td>5</td>\n",
       "      <td>(SOGDTEM12A8C13D215, Cypress Hill, How I Could...</td>\n",
       "      <td>(SOXVSVZ12A8C131EC2, Cypress Hill, Kronologik)</td>\n",
       "      <td>(SOQYQGQ12A8C134FF4, Cypress Hill, What's Your...</td>\n",
       "      <td>(SOWSKFO12D02193267, Cypress Hill, Riot Starter)</td>\n",
       "      <td>(SOBYIMO12A58A78313, Cypress Hill, Killa Hill ...</td>\n",
       "      <td>(SONBZLJ12A8C133B5D, Cypress Hill, Tequila Sun...</td>\n",
       "      <td>(SOLZXJE12A8C133B6E, Cypress Hill, Make A Move)</td>\n",
       "      <td>(SOSJVIK12A58A7E22C, Cypress Hill, Latin Lingo)</td>\n",
       "      <td>(SOSKEGE12A8C134A86, Cypress Hill, Boom Biddy ...</td>\n",
       "      <td>...</td>\n",
       "      <td>(SOHWRJH12A8C139AFC, air, playground love)</td>\n",
       "      <td>(SOIPYPB12A8C1360D4, evanescence, my immortal)</td>\n",
       "      <td>(SOPPJWS12AC96184C3, Sugar Ray, Every Morning)</td>\n",
       "      <td>(SOMIXXT12D021B27DE, system of a down, spiders)</td>\n",
       "      <td>(SOEUIUI12A58A7CD98, Pink Floyd, Money)</td>\n",
       "      <td>(SOYJRZE12AB0184261, Velvet Underground, Heroin)</td>\n",
       "      <td>(SOIIVGZ12A8C1320CF, Incubus, Pardon Me)</td>\n",
       "      <td>(SOLWTFI12A6D4F66E1, something corporate, space)</td>\n",
       "      <td>(SOXTQLJ12A6D4F6C2B, michelle branch, where ar...</td>\n",
       "      <td>(SOETHJA12A6310F21E, damien rice, volcano)</td>\n",
       "    </tr>\n",
       "  </tbody>\n",
       "</table>\n",
       "<p>5 rows × 21 columns</p>\n",
       "</div>"
      ],
      "text/plain": [
       "           Genre.Count                                              Top 1  \\\n",
       "Rock                98             (SOTSCKX12AB01857AA, , Electioneering)   \n",
       "Electronic           7          (SOSANGX12AB0181C93, Depeche Mode, Wrong)   \n",
       "Folk                 7   (SOLWTFI12A6D4F66E1, something corporate, space)   \n",
       "Pop                  7  (SOWGGXF12CF5F8716C, Christina Aguilera, Fighter)   \n",
       "Rap                  5  (SOGDTEM12A8C13D215, Cypress Hill, How I Could...   \n",
       "\n",
       "                                                        Top 2  \\\n",
       "Rock        (SOVVJWQ12A58A7B38C, Radiohead, Polyethylene [...   \n",
       "Electronic        (SOCSVVA12AB0186D97, , Walking In My Shoes)   \n",
       "Folk        (SOXTQLJ12A6D4F6C2B, michelle branch, where ar...   \n",
       "Pop         (SOMTXSB12AF72ACC38, Britney Spears, Oops I Di...   \n",
       "Rap            (SOXVSVZ12A8C131EC2, Cypress Hill, Kronologik)   \n",
       "\n",
       "                                                        Top 3  \\\n",
       "Rock        (SOWKEUN12AF72AB837, Radiohead, Climbing Up Th...   \n",
       "Electronic  (SORLZFM12AF729FB69, dogs die in hot cars, god...   \n",
       "Folk               (SOETHJA12A6310F21E, damien rice, volcano)   \n",
       "Pop                (SOGEDPI12A58A79FC1, Spice Girls, Wannabe)   \n",
       "Rap         (SOQYQGQ12A8C134FF4, Cypress Hill, What's Your...   \n",
       "\n",
       "                                                        Top 4  \\\n",
       "Rock        (SOYQAVD12D02193D04, radiohead, paranoid android)   \n",
       "Electronic  (SONGIXY12A58A7BB42, LCD Soundsystem, Someone ...   \n",
       "Folk                  (SOMRZMI12A6D4F8F25, linkin park, numb)   \n",
       "Pop         (SOKKHNX12AB01801B7, Michelle Branch, You Get Me)   \n",
       "Rap          (SOWSKFO12D02193267, Cypress Hill, Riot Starter)   \n",
       "\n",
       "                                                        Top 5  \\\n",
       "Rock                    (SOALITF12A6310DFCD, radiohead, just)   \n",
       "Electronic       (SONNSYV12A8C146BEC, modest mouse, float on)   \n",
       "Folk                  (SOCQJYB12AB017E855, trapt, headstrong)   \n",
       "Pop         (SOSVUIU12A8AE4629D, Christina Aguilera, Impos...   \n",
       "Rap         (SOBYIMO12A58A78313, Cypress Hill, Killa Hill ...   \n",
       "\n",
       "                                                        Top 6  \\\n",
       "Rock        (SOADISH12AB018DFAC, Radiohead, Talk Show Host...   \n",
       "Electronic  (SOOCEKO12A67ADF6D9, morcheeba, part of the pr...   \n",
       "Folk                  (SOAPEXU12A58A792BE, fuel, falls on me)   \n",
       "Pop         (SOYIBFQ12A6701C628, Christina Aguilera, Lady ...   \n",
       "Rap         (SONBZLJ12A8C133B5D, Cypress Hill, Tequila Sun...   \n",
       "\n",
       "                                                        Top 7  \\\n",
       "Rock          (SOGBLMI12AB01856AC, Radiohead, Fitter Happier)   \n",
       "Electronic  (SOOQQDQ12A8AE47CA9, beth orton, central reser...   \n",
       "Folk        (SOMYCHS12A67020918, 3 doors down, going down ...   \n",
       "Pop                  (SOYFLSE12D021936ED, Lil Wayne, A Milli)   \n",
       "Rap           (SOLZXJE12A8C133B6E, Cypress Hill, Make A Move)   \n",
       "\n",
       "                                                        Top 8  \\\n",
       "Rock        (SOBMAFJ12A8C137C88, radiohead, street spirit ...   \n",
       "Electronic        (SOOTEAB12A67ADF7E9, morcheeba, let me see)   \n",
       "Folk                  (SOYZGMB12A8AE487F1, chevelle, the red)   \n",
       "Pop         (SOYDXJI12B350583CE, Christina Aguilera, Beaut...   \n",
       "Rap           (SOSJVIK12A58A7E22C, Cypress Hill, Latin Lingo)   \n",
       "\n",
       "                                                        Top 9  \\\n",
       "Rock              (SOPRZQA12A58A7A112, radiohead, black star)   \n",
       "Electronic  (SOPMCUN12A6701F456, happy mondays, 24 hour pa...   \n",
       "Folk        (SOZAASU12A6D4FA90C, matchbox twenty, busted (...   \n",
       "Pop                (SOXGPDZ12A6D4FAAA7, Nick Lachey, I Swear)   \n",
       "Rap         (SOSKEGE12A8C134A86, Cypress Hill, Boom Biddy ...   \n",
       "\n",
       "                                 ...                         \\\n",
       "Rock                             ...                          \n",
       "Electronic                       ...                          \n",
       "Folk                             ...                          \n",
       "Pop                              ...                          \n",
       "Rap                              ...                          \n",
       "\n",
       "                                                 Bot 1  \\\n",
       "Rock        (SOETHJA12A6310F21E, damien rice, volcano)   \n",
       "Electronic  (SOHWRJH12A8C139AFC, air, playground love)   \n",
       "Folk        (SOHWRJH12A8C139AFC, air, playground love)   \n",
       "Pop         (SOHWRJH12A8C139AFC, air, playground love)   \n",
       "Rap         (SOHWRJH12A8C139AFC, air, playground love)   \n",
       "\n",
       "                                                        Bot 2  \\\n",
       "Rock        (SOXTQLJ12A6D4F6C2B, michelle branch, where ar...   \n",
       "Electronic     (SOPPJWS12AC96184C3, Sugar Ray, Every Morning)   \n",
       "Folk           (SOPPJWS12AC96184C3, Sugar Ray, Every Morning)   \n",
       "Pop            (SOIPYPB12A8C1360D4, evanescence, my immortal)   \n",
       "Rap            (SOIPYPB12A8C1360D4, evanescence, my immortal)   \n",
       "\n",
       "                                                       Bot 3  \\\n",
       "Rock        (SOLWTFI12A6D4F66E1, something corporate, space)   \n",
       "Electronic    (SOIPYPB12A8C1360D4, evanescence, my immortal)   \n",
       "Folk                 (SOEUIUI12A58A7CD98, Pink Floyd, Money)   \n",
       "Pop          (SOMIXXT12D021B27DE, system of a down, spiders)   \n",
       "Rap           (SOPPJWS12AC96184C3, Sugar Ray, Every Morning)   \n",
       "\n",
       "                                                       Bot 4  \\\n",
       "Rock              (SOXAFQB12A6D4F476F, yellowcard, way away)   \n",
       "Electronic  (SOLWTFI12A6D4F66E1, something corporate, space)   \n",
       "Folk                (SOIIVGZ12A8C1320CF, Incubus, Pardon Me)   \n",
       "Pop                 (SOIIVGZ12A8C1320CF, Incubus, Pardon Me)   \n",
       "Rap          (SOMIXXT12D021B27DE, system of a down, spiders)   \n",
       "\n",
       "                                                       Bot 5  \\\n",
       "Rock             (SOZPMAS12A67020917, 3 doors down, changes)   \n",
       "Electronic        (SOETHJA12A6310F21E, damien rice, volcano)   \n",
       "Folk        (SOYJRZE12AB0184261, Velvet Underground, Heroin)   \n",
       "Pop         (SOYJRZE12AB0184261, Velvet Underground, Heroin)   \n",
       "Rap                  (SOEUIUI12A58A7CD98, Pink Floyd, Money)   \n",
       "\n",
       "                                                        Bot 6  \\\n",
       "Rock        (SOMYCHS12A67020918, 3 doors down, going down ...   \n",
       "Electronic  (SOXTQLJ12A6D4F6C2B, michelle branch, where ar...   \n",
       "Folk          (SOMIXXT12D021B27DE, system of a down, spiders)   \n",
       "Pop                   (SOEUIUI12A58A7CD98, Pink Floyd, Money)   \n",
       "Rap          (SOYJRZE12AB0184261, Velvet Underground, Heroin)   \n",
       "\n",
       "                                                        Bot 7  \\\n",
       "Rock        (SOZAASU12A6D4FA90C, matchbox twenty, busted (...   \n",
       "Electronic        (SOZPMAS12A67020917, 3 doors down, changes)   \n",
       "Folk        (SOWGGXF12CF5F8716C, Christina Aguilera, Fighter)   \n",
       "Pop                (SOETHJA12A6310F21E, damien rice, volcano)   \n",
       "Rap                  (SOIIVGZ12A8C1320CF, Incubus, Pardon Me)   \n",
       "\n",
       "                                                        Bot 8  \\\n",
       "Rock                  (SOYZGMB12A8AE487F1, chevelle, the red)   \n",
       "Electronic  (SOZAASU12A6D4FA90C, matchbox twenty, busted (...   \n",
       "Folk         (SOBATNA12B0B80758F, res, i've known the garden)   \n",
       "Pop          (SOLWTFI12A6D4F66E1, something corporate, space)   \n",
       "Rap          (SOLWTFI12A6D4F66E1, something corporate, space)   \n",
       "\n",
       "                                                        Bot 9  \\\n",
       "Rock                  (SOMRZMI12A6D4F8F25, linkin park, numb)   \n",
       "Electronic            (SOMRZMI12A6D4F8F25, linkin park, numb)   \n",
       "Folk        (SOMUCFP12A6701F28E, faye wong, (can't read so...   \n",
       "Pop         (SOXTQLJ12A6D4F6C2B, michelle branch, where ar...   \n",
       "Rap         (SOXTQLJ12A6D4F6C2B, michelle branch, where ar...   \n",
       "\n",
       "                                                     Bot 10  \n",
       "Rock                (SOCQJYB12AB017E855, trapt, headstrong)  \n",
       "Electronic          (SOCQJYB12AB017E855, trapt, headstrong)  \n",
       "Folk        (SOBMQVM12A81C2070D, bjork, it's not up to you)  \n",
       "Pop                 (SOCQJYB12AB017E855, trapt, headstrong)  \n",
       "Rap              (SOETHJA12A6310F21E, damien rice, volcano)  \n",
       "\n",
       "[5 rows x 21 columns]"
      ]
     },
     "execution_count": 73,
     "metadata": {},
     "output_type": "execute_result"
    }
   ],
   "source": [
    "Top10Songs.head(5)"
   ]
  },
  {
   "cell_type": "code",
   "execution_count": 93,
   "metadata": {},
   "outputs": [],
   "source": [
    "rapPlaylists = [ k for k in seedSong2Tag if 'Rap' in seedSong2Tag[k] ]"
   ]
  },
  {
   "cell_type": "code",
   "execution_count": 95,
   "metadata": {},
   "outputs": [
    {
     "data": {
      "text/plain": [
       "[[[['black eyed peas', 'hey mama'], 'SOVMGXI12AF72A80B0'],\n",
       "  [['black eyed peas', 'shut up'], 'SOSOVYB12AB01845F0'],\n",
       "  [['evanescence', 'bring me to life'], 'SOFPHXA12A8C14517E']],\n",
       " [[['Eminem', 'Stan'], 'SOSWVGI12D02194007'],\n",
       "  [['Eminem', 'The way I am'], 'SOQRRHL12AB017A67C'],\n",
       "  [['Britney Spears', 'Lucky'], 'SORSOAK12A8C133AB7'],\n",
       "  [['Eminem', 'Slim Shady'], 'SOKOXWU12AF72AD1BC']],\n",
       " [[['one', 'one'], 'SOJMJBC12AB0181E46'],\n",
       "  [['one', 'one'], 'SOJMJBC12AB0181E46'],\n",
       "  [['one', 'one'], 'SOJMJBC12AB0181E46'],\n",
       "  [['one', 'one'], 'SOJMJBC12AB0181E46']],\n",
       " [[['Cypress Hill', 'Hand On The Pump'], 'SONETQF12A8C140099'],\n",
       "  [['Cypress Hill', 'Latin Lingo'], 'SOSJVIK12A58A7E22C'],\n",
       "  [['Cypress Hill', 'How I Could Just Kill A Man'], 'SOGDTEM12A8C13D215'],\n",
       "  [['Cypress Hill', 'Lick A Shot'], 'SOJVNNI12AB0186FD1'],\n",
       "  [['Cypress Hill', 'Cock The Hammer'], 'SOWWVNU12AC3DFB625'],\n",
       "  [['Cypress Hill', \"I Ain't Goin Out Like That\"], 'SOLPNNW12A8C140254'],\n",
       "  [['Cypress Hill', 'Make A Move'], 'SOLZXJE12A8C133B6E'],\n",
       "  [['Cypress Hill', 'Killa Hill Niggas'], 'SOBYIMO12A58A78313'],\n",
       "  [['Cypress Hill', 'Boom Biddy Bye Bye'], 'SOSKEGE12A8C134A86'],\n",
       "  [['Cypress Hill', 'Throw Your Set In The Air'], 'SONJSWJ12A8C133B69'],\n",
       "  [['Cypress Hill', 'Riot Starter'], 'SOWSKFO12D02193267'],\n",
       "  [['Cypress Hill', 'Tequila Sunrise'], 'SONBZLJ12A8C133B5D'],\n",
       "  [['Cypress Hill', 'Valley of Chrome'], 'SOGEEBA12A8C131624'],\n",
       "  [['Cypress Hill', 'Cuban Necktie'], 'SOTLZZJ12B0B8066A5'],\n",
       "  [['Cypress Hill', 'Rap Superstar'], 'SOJZCLI12A8C133BB4'],\n",
       "  [['Cypress Hill', 'Lowrider'], 'SOXAFDS12A8C133CC1'],\n",
       "  [['Cypress Hill', 'Kronologik'], 'SOXVSVZ12A8C131EC2'],\n",
       "  [['Cypress Hill', \"What's Your Number (ft. Tim Armstrong)\"],\n",
       "   'SOQYQGQ12A8C134FF4']],\n",
       " [[['A Tribe Called Quest', 'Push It Along'], 'SOQKEKJ12A8C13839D'],\n",
       "  [['A Tribe Called Quest', 'I Left My Wallet in El Segundo'],\n",
       "   'SOFNLUT12D02191C1C'],\n",
       "  [['A Tribe Called Quest', 'Bonita Applebum'], 'SORYWJI12A8C13AC9E'],\n",
       "  [['A Tribe Called Quest', 'Can I Kick It?'], 'SORLPYW12CF5F89041'],\n",
       "  [['A Tribe Called Quest', 'Excursions'], 'SOYDMFJ12A8C13C6A4'],\n",
       "  [['A Tribe Called Quest', \"Buggin' Out\"], 'SOBOXDG12A8C131217'],\n",
       "  [['A Tribe Called Quest', 'Butter'], 'SOINAQV12B0B806546'],\n",
       "  [['A Tribe Called Quest', 'Verses from the Abstract'], 'SOVQRAA12A8C13AD08'],\n",
       "  [['A Tribe Called Quest', 'Vibes and Stuff'], 'SONVCRC12A8AE4695F'],\n",
       "  [['A Tribe Called Quest', 'The Infamous Date Rape'], 'SOZEDAQ12A8C13D670'],\n",
       "  [['A Tribe Called Quest', \"Jazz (We've Got)\"], 'SOYOFJE12A58A77A23'],\n",
       "  [['A Tribe Called Quest', 'What?'], 'SOPESNZ12B0B80653A'],\n",
       "  [['A Tribe Called Quest', 'Scenario'], 'SOIBEXL12A8AE46975'],\n",
       "  [['A Tribe Called Quest', 'Award Tour'], 'SOTFQRJ12D021B0C8B'],\n",
       "  [['A Tribe Called Quest', 'We Can Get Down'], 'SOYKXFM12CF5F88FE3'],\n",
       "  [['A Tribe Called Quest', 'Oh My God'], 'SOWEVAW12A8C137E13'],\n",
       "  [['A Tribe Called Quest', 'The Chase, Part II'], 'SOSNMYL12CF5F87C1C'],\n",
       "  [['A Tribe Called Quest', 'Lyrics to Go'], 'SOMVZGW12A58A7C3C4'],\n",
       "  [['A Tribe Called Quest', '1nce Again'], 'SOAZPHX12A8AE46961'],\n",
       "  [['A Tribe Called Quest', 'Stressed Out'], 'SOZCZTN12AF729E7EC'],\n",
       "  [['A Tribe Called Quest', 'Da Booty'], 'SOCYSAX12A58A7FFE4']]]"
      ]
     },
     "execution_count": 95,
     "metadata": {},
     "output_type": "execute_result"
    }
   ],
   "source": [
    "[ p['playlist'] for p in playlists_subset if p['mix_id'] in rapPlaylists ]"
   ]
  },
  {
   "cell_type": "code",
   "execution_count": null,
   "metadata": {
    "collapsed": true
   },
   "outputs": [],
   "source": []
  }
 ],
 "metadata": {
  "kernelspec": {
   "display_name": "Python [default]",
   "language": "python",
   "name": "python3"
  },
  "language_info": {
   "codemirror_mode": {
    "name": "ipython",
    "version": 3
   },
   "file_extension": ".py",
   "mimetype": "text/x-python",
   "name": "python",
   "nbconvert_exporter": "python",
   "pygments_lexer": "ipython3",
   "version": "3.5.3"
  }
 },
 "nbformat": 4,
 "nbformat_minor": 2
}
