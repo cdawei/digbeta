{
 "cells": [
  {
   "cell_type": "markdown",
   "metadata": {},
   "source": [
    "# Multi-label classification -- ranking loss"
   ]
  },
  {
   "cell_type": "code",
   "execution_count": null,
   "metadata": {
    "collapsed": true
   },
   "outputs": [],
   "source": [
    "%matplotlib inline\n",
    "%load_ext autoreload\n",
    "%autoreload 2\n",
    "\n",
    "import os, sys, time\n",
    "import pickle as pkl\n",
    "import numpy as np\n",
    "import pandas as pd\n",
    "import itertools\n",
    "\n",
    "from scipy.optimize import minimize\n",
    "from scipy.optimize import check_grad\n",
    "\n",
    "from sklearn.base import BaseEstimator\n",
    "from sklearn.pipeline import make_pipeline\n",
    "from sklearn.model_selection import train_test_split\n",
    "from sklearn.model_selection import GridSearchCV\n",
    "from sklearn.metrics import classification_report\n",
    "\n",
    "import matplotlib.pyplot as plt\n",
    "import seaborn as sns"
   ]
  },
  {
   "cell_type": "code",
   "execution_count": null,
   "metadata": {
    "collapsed": true
   },
   "outputs": [],
   "source": [
    "sys.path.append('src')\n",
    "from evaluate import avgPrecision, avgPrecisionK, printEvaluation\n",
    "from datasets import create_dataset_yeast_train, create_dataset_yeast_test, yeast_nLabels\n",
    "from datasets import create_dataset_scene_train, create_dataset_scene_test, scene_nLabels\n",
    "from datasets import create_dataset_mediamill_subset_train, create_dataset_mediamill_subset_test, mm_nLabels"
   ]
  },
  {
   "cell_type": "code",
   "execution_count": null,
   "metadata": {
    "collapsed": true
   },
   "outputs": [],
   "source": [
    "datasets = ['yeast', 'scene', 'mediamill']\n",
    "num_labels = [yeast_nLabels, scene_nLabels, mm_nLabels]\n",
    "create_dataset_train_funcs = [create_dataset_yeast_train, \n",
    "                              create_dataset_scene_train, \n",
    "                              create_dataset_mediamill_subset_train]\n",
    "create_dataset_test_funcs  = [create_dataset_yeast_test,\n",
    "                              create_dataset_scene_test,\n",
    "                              create_dataset_mediamill_subset_test]"
   ]
  },
  {
   "cell_type": "code",
   "execution_count": null,
   "metadata": {
    "collapsed": true
   },
   "outputs": [],
   "source": [
    "data_ix = 1"
   ]
  },
  {
   "cell_type": "code",
   "execution_count": null,
   "metadata": {
    "collapsed": true
   },
   "outputs": [],
   "source": [
    "dataset_name = datasets[data_ix]\n",
    "nLabels = num_labels[data_ix]\n",
    "create_dataset_train = create_dataset_train_funcs[data_ix]\n",
    "create_dataset_test  = create_dataset_test_funcs [data_ix]"
   ]
  },
  {
   "cell_type": "markdown",
   "metadata": {},
   "source": [
    "The sigmoid function."
   ]
  },
  {
   "cell_type": "code",
   "execution_count": null,
   "metadata": {
    "collapsed": true
   },
   "outputs": [],
   "source": [
    "def sigmoid(x):\n",
    "    return 1.0 / (1.0 + np.exp(-x))"
   ]
  },
  {
   "cell_type": "markdown",
   "metadata": {},
   "source": [
    "## Ranking loss"
   ]
  },
  {
   "cell_type": "markdown",
   "metadata": {},
   "source": [
    "Multi-label learning with ranking loss."
   ]
  },
  {
   "cell_type": "code",
   "execution_count": null,
   "metadata": {
    "collapsed": true
   },
   "outputs": [],
   "source": [
    "def obj_ranking(w, X, Y, C):\n",
    "    \"\"\"\n",
    "        Objective with L2 regularisation and ranking loss\n",
    "        \n",
    "        Input:\n",
    "            - w: current weight vector, flattened L x D\n",
    "            - X: feature matrix, N x D\n",
    "            - Y: label matrix,   N x L\n",
    "            - C: regularisation constant, is consistent with scikit-learn C = 1 / (N * \\lambda)\n",
    "    \"\"\"\n",
    "    N, D = X.shape\n",
    "    L = Y.shape[1]\n",
    "    assert(w.shape[0] == L * D)\n",
    "    \n",
    "    W = w.reshape(L, D)  # reshape weight matrix    \n",
    "    \n",
    "    J = 0.0  # cost\n",
    "    G = np.zeros_like(W)  # gradient matrix\n",
    "    \n",
    "    for n in range(N):\n",
    "        Jn = 0.0\n",
    "        Gn = np.zeros_like(W)\n",
    "        x = X[n, :]\n",
    "        y = Y[n, :]\n",
    "        nPos = np.sum(y)   # num of positive examples\n",
    "        nNeg = L - nPos    # num of negative examples\n",
    "        denom = nPos * nNeg\n",
    "        \n",
    "        ixPos = np.nonzero(y)[0].tolist()               # indices positive examples\n",
    "        ixNeg = list(set(np.arange(L)) - set(ixPos))    # indices negative examples\n",
    "        \n",
    "        ixmat = np.array(list(itertools.product(ixPos, ixNeg)))  # shape: ixPos*ixNeg by 2\n",
    "        dW = W[ixmat[:, 0], :] - W[ixmat[:, 1], :]\n",
    "        sVec = np.dot(dW, x)\n",
    "        Jn = np.sum(np.log1p(np.exp(-sVec)))\n",
    "        \n",
    "        coeffVec = np.divide(1, 1 + np.exp(sVec))\n",
    "        coeffPos = pd.DataFrame(coeffVec)\n",
    "        coeffPos['gid'] = ixmat[:, 0]\n",
    "        coeffPos = coeffPos.groupby('gid', sort=False).sum()\n",
    "        coeffNeg = pd.DataFrame(coeffVec)\n",
    "        coeffNeg['gid'] = ixmat[:, 1]\n",
    "        coeffNeg = coeffNeg.groupby('gid', sort=False).sum()\n",
    "        \n",
    "        #print(coeffPos)\n",
    "        #print(coeffNeg)\n",
    "        \n",
    "        coeffs = np.ones(L)\n",
    "        coeffs[ixPos] = -coeffPos.loc[ixPos].values.squeeze()\n",
    "        coeffs[ixNeg] = coeffNeg.loc[ixNeg].values.squeeze()\n",
    "        \n",
    "        #print(coeffs)\n",
    "        Gn = np.tile(x, (L, 1)) * coeffs[:, None]\n",
    "                        \n",
    "        J += Jn / denom\n",
    "        G = G + Gn / denom\n",
    "        \n",
    "    #J = 0.5 * C * np.dot(w, w) + J / N\n",
    "    #G = C * W + G / N\n",
    "    \n",
    "    # be consistent with scikit-learn C = 1 / (N * \\lambda)\n",
    "    #J = 0.5 * np.dot(w, w) + C * J\n",
    "    #G = W + C * G\n",
    "    \n",
    "    # normalise the objective J by dividing it C \n",
    "    J = np.dot(w, w) / (2.0 * C) + J / N\n",
    "    G = W / C + G / N\n",
    "    \n",
    "    return (J, G.ravel())"
   ]
  },
  {
   "cell_type": "markdown",
   "metadata": {},
   "source": [
    "Check gradient"
   ]
  },
  {
   "cell_type": "code",
   "execution_count": null,
   "metadata": {
    "collapsed": true
   },
   "outputs": [],
   "source": [
    "X_train, Y_train = create_dataset_train()\n",
    "X_test,  Y_test  = create_dataset_test()"
   ]
  },
  {
   "cell_type": "code",
   "execution_count": null,
   "metadata": {},
   "outputs": [],
   "source": [
    "#%%script false\n",
    "C = 1\n",
    "w0 = np.random.rand(X_train.shape[1] * nLabels)\n",
    "check_grad(lambda w: obj_ranking(w, X_train[:10], Y_train[:10], C)[0], \\\n",
    "           lambda w: obj_ranking(w, X_train[:10], Y_train[:10], C)[1], w0)"
   ]
  },
  {
   "cell_type": "code",
   "execution_count": null,
   "metadata": {
    "collapsed": true
   },
   "outputs": [],
   "source": [
    "class MLC_ranking(BaseEstimator):\n",
    "    \"\"\"All methods are necessary for a scikit-learn estimator\"\"\"\n",
    "    \n",
    "    def __init__(self, C=1):\n",
    "        \"\"\"Initialisation\"\"\"\n",
    "        \n",
    "        assert C > 0\n",
    "        self.C = C\n",
    "        self.trained = False\n",
    "        \n",
    "    def fit(self, X_train, Y_train):\n",
    "        \"\"\"Model fitting by optimising the objective\"\"\"\n",
    "        \n",
    "        opt_method = 'BFGS' #'Newton-CG'\n",
    "        options = {'disp': True}\n",
    "        if options['disp']: \n",
    "            print('\\nC: %g' % self.C)\n",
    "            \n",
    "        D = X_train.shape[1]\n",
    "        L = Y_train.shape[1]\n",
    "        w0 = np.random.rand(L * D)  # initial guess\n",
    "        opt = minimize(obj_ranking, w0, args=(X_train, Y_train, self.C), \\\n",
    "                       method=opt_method, jac=True, options=options)\n",
    "        if opt.success is True:\n",
    "            self.w = opt.x\n",
    "            self.trained = True\n",
    "        else:\n",
    "            sys.stderr.write('Optimisation failed')\n",
    "            self.trained = False\n",
    "    \n",
    "            \n",
    "    def decision_function(self, X_test):\n",
    "        \"\"\"Make predictions (score is real number)\"\"\"\n",
    "        \n",
    "        assert self.trained is True, \"Can't make prediction before training\"\n",
    "        D = X_test.shape[1]\n",
    "        return np.dot(X_test, self.w.reshape(-1, D).T)\n",
    "        \n",
    "    \n",
    "    def predict(self, X_test):\n",
    "        \"\"\"Make predictions (score is boolean)\"\"\"\n",
    "        \n",
    "        preds = self.decision_function(X_test)\n",
    "        return (preds > 0)\n",
    "    \n",
    "    \n",
    "    def score(self, X, Y):\n",
    "        \"\"\"Compute scoring metric\"\"\"\n",
    "        \n",
    "        allPreds = self.decision_function(X)\n",
    "        return avgPrecisionK(Y, allPreds)\n",
    "    \n",
    "    # inherit from BaseEstimator instead of re-implement\n",
    "    #\n",
    "    #def get_params(self, deep = True):\n",
    "    #def set_params(self, **params):"
   ]
  },
  {
   "cell_type": "code",
   "execution_count": null,
   "metadata": {
    "scrolled": true
   },
   "outputs": [],
   "source": [
    "#parameters = [{'C': [10**(e) for e in range(-6,7)]}]\n",
    "parameters = [{'C': [10**(e) for e in range(-6,1)]}]\n",
    "\n",
    "clf = GridSearchCV(MLC_ranking(), parameters, cv=5)\n",
    "clf.fit(X_train, Y_train)\n",
    "\n",
    "print(\"\\nBest parameters set found on development set:\")\n",
    "print(clf.best_params_)"
   ]
  },
  {
   "cell_type": "code",
   "execution_count": null,
   "metadata": {},
   "outputs": [],
   "source": [
    "for mean, std, params in zip(clf.cv_results_['mean_test_score'], clf.cv_results_['std_test_score'], \\\n",
    "                             clf.cv_results_['params']):\n",
    "    print(\"%0.3f (+/-%0.03f) for %r\" % (mean, std * 2, params))"
   ]
  },
  {
   "cell_type": "code",
   "execution_count": null,
   "metadata": {
    "collapsed": true
   },
   "outputs": [],
   "source": [
    "preds_train = clf.decision_function(X_train)\n",
    "preds_test  = clf.decision_function(X_test)"
   ]
  },
  {
   "cell_type": "code",
   "execution_count": null,
   "metadata": {},
   "outputs": [],
   "source": [
    "print('Training set:')\n",
    "printEvaluation(Y_train, preds_train)\n",
    "print()\n",
    "print('Test set:')\n",
    "printEvaluation(Y_test, preds_test)"
   ]
  },
  {
   "cell_type": "markdown",
   "metadata": {},
   "source": [
    "## Result analysis"
   ]
  },
  {
   "cell_type": "code",
   "execution_count": null,
   "metadata": {
    "collapsed": true
   },
   "outputs": [],
   "source": [
    "precisions_train = [avgPrecision(Y_train, preds_train, k) for k in range(1, nLabels+1)]\n",
    "precisions_test  = [avgPrecision(Y_test,  preds_test,  k) for k in range(1, nLabels+1)]"
   ]
  },
  {
   "cell_type": "code",
   "execution_count": null,
   "metadata": {
    "collapsed": true
   },
   "outputs": [],
   "source": [
    "precisionK_train = avgPrecisionK(Y_train, preds_train)\n",
    "precisionK_test  = avgPrecisionK(Y_test,  preds_test)"
   ]
  },
  {
   "cell_type": "code",
   "execution_count": null,
   "metadata": {},
   "outputs": [],
   "source": [
    "plt.figure(figsize=[10,5])\n",
    "plt.plot(precisions_train, ls='--', c='r', label='Train')\n",
    "plt.plot(precisions_test,  ls='-',  c='g', label='Test')\n",
    "plt.plot([precisionK_train for k in range(nLabels)], ls='-', c='r', label='Train, Precision@K')\n",
    "plt.plot([precisionK_test  for k in range(nLabels)], ls='-', c='g', label='Test, Precision@K')\n",
    "plt.xticks(np.arange(nLabels), np.arange(1,nLabels+1))\n",
    "plt.xlabel('k')\n",
    "plt.ylabel('Precision@k')\n",
    "plt.legend(loc='best')\n",
    "plt.title('MLC w. Rank Loss on ' + dataset_name + ' dataset')\n",
    "plt.savefig(dataset_name + '_rank.svg')"
   ]
  }
 ],
 "metadata": {
  "kernelspec": {
   "display_name": "Python 3",
   "language": "python",
   "name": "python3"
  },
  "language_info": {
   "codemirror_mode": {
    "name": "ipython",
    "version": 3
   },
   "file_extension": ".py",
   "mimetype": "text/x-python",
   "name": "python",
   "nbconvert_exporter": "python",
   "pygments_lexer": "ipython3",
   "version": "3.6.2"
  }
 },
 "nbformat": 4,
 "nbformat_minor": 2
}
