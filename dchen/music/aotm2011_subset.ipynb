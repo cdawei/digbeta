{
 "cells": [
  {
   "cell_type": "markdown",
   "metadata": {},
   "source": [
    "# A representative subset of AotM-2011 Playlists with MSD Audio Features"
   ]
  },
  {
   "cell_type": "code",
   "execution_count": 1,
   "metadata": {},
   "outputs": [],
   "source": [
    "%matplotlib inline\n",
    "%load_ext autoreload\n",
    "%autoreload 2\n",
    "\n",
    "import os, sys\n",
    "import gzip\n",
    "import pickle as pkl\n",
    "import numpy as np\n",
    "import pandas as pd\n",
    "from scipy.optimize import check_grad\n",
    "from scipy.sparse import lil_matrix, issparse\n",
    "from collections import Counter\n",
    "\n",
    "import matplotlib.pyplot as plt\n",
    "import seaborn as sns"
   ]
  },
  {
   "cell_type": "code",
   "execution_count": 2,
   "metadata": {},
   "outputs": [],
   "source": [
    "sys.path.append('src')\n",
    "from models import BinaryRelevance\n",
    "from models import PCMLC, objective\n",
    "from tools import calc_precisionK, calc_rank, f1_score_nowarn, evalPred, calc_RPrecision_HitRate"
   ]
  },
  {
   "cell_type": "code",
   "execution_count": 3,
   "metadata": {},
   "outputs": [],
   "source": [
    "data_dir = 'data/aotm2011'\n",
    "fplaylist = os.path.join(data_dir, 'aotm2011-playlist.pkl.gz')\n",
    "ffeature = 'data/msd/song2feature.pkl.gz'\n",
    "fgenre = 'data/msd/song2genre.pkl.gz'\n",
    "TOPs = [5, 10, 20, 30, 50, 100]#, 200, 300, 500#, 1000]"
   ]
  },
  {
   "cell_type": "markdown",
   "metadata": {},
   "source": [
    "## Load playlists"
   ]
  },
  {
   "cell_type": "markdown",
   "metadata": {},
   "source": [
    "Load playlists."
   ]
  },
  {
   "cell_type": "code",
   "execution_count": 4,
   "metadata": {},
   "outputs": [],
   "source": [
    "all_playlists = pkl.load(gzip.open(fplaylist, 'rb'))"
   ]
  },
  {
   "cell_type": "code",
   "execution_count": 5,
   "metadata": {},
   "outputs": [],
   "source": [
    "all_users = sorted(set({user for _, user in all_playlists}))"
   ]
  },
  {
   "cell_type": "code",
   "execution_count": 6,
   "metadata": {},
   "outputs": [
    {
     "name": "stdout",
     "output_type": "stream",
     "text": [
      "#user    : 14182\n",
      "#playlist: 84710\n"
     ]
    }
   ],
   "source": [
    "print('#user    :', len(all_users))\n",
    "print('#playlist:', len(all_playlists))"
   ]
  },
  {
   "cell_type": "code",
   "execution_count": 7,
   "metadata": {},
   "outputs": [
    {
     "name": "stdout",
     "output_type": "stream",
     "text": [
      "Average playlist length: 10.1\n"
     ]
    }
   ],
   "source": [
    "pl_lengths = [len(pl) for pl, _ in all_playlists]\n",
    "#plt.hist(pl_lengths, bins=100)\n",
    "print('Average playlist length: %.1f' % np.mean(pl_lengths))"
   ]
  },
  {
   "cell_type": "markdown",
   "metadata": {},
   "source": [
    "## Load song features"
   ]
  },
  {
   "cell_type": "markdown",
   "metadata": {},
   "source": [
    "Load `song_id` --> `feature array` mapping: map a song to the audio features of one of its corresponding tracks in MSD."
   ]
  },
  {
   "cell_type": "code",
   "execution_count": 8,
   "metadata": {},
   "outputs": [],
   "source": [
    "song2feature = pkl.load(gzip.open(ffeature, 'rb'))"
   ]
  },
  {
   "cell_type": "code",
   "execution_count": 9,
   "metadata": {},
   "outputs": [],
   "source": [
    "#mean_age = (np.sum(song_ages) - np.sum(song_ages[missing_ix])) / (len(song_ages) - len(missing_ix))\n",
    "#mean_age"
   ]
  },
  {
   "cell_type": "markdown",
   "metadata": {},
   "source": [
    "## Subset of data"
   ]
  },
  {
   "cell_type": "markdown",
   "metadata": {},
   "source": [
    "The user whose playlists cover a *proper number of playlists*, e.g. 50."
   ]
  },
  {
   "cell_type": "code",
   "execution_count": 10,
   "metadata": {},
   "outputs": [],
   "source": [
    "user_playlists = dict()\n",
    "for pl, u in all_playlists:\n",
    "    try: \n",
    "        user_playlists[u].append(pl)\n",
    "    except KeyError:\n",
    "        user_playlists[u] = [pl]"
   ]
  },
  {
   "cell_type": "code",
   "execution_count": 11,
   "metadata": {},
   "outputs": [],
   "source": [
    "u_npl = sorted([(u, len(user_playlists[u])) for u in all_users], key=lambda x: x[1])"
   ]
  },
  {
   "cell_type": "code",
   "execution_count": 12,
   "metadata": {},
   "outputs": [],
   "source": [
    "#u_npl"
   ]
  },
  {
   "cell_type": "code",
   "execution_count": 13,
   "metadata": {},
   "outputs": [],
   "source": [
    "step = 1000  # sample 0.1%\n",
    "subset = [u_npl[ix] for ix in np.arange(0, len(u_npl), step)]"
   ]
  },
  {
   "cell_type": "code",
   "execution_count": 14,
   "metadata": {
    "scrolled": true
   },
   "outputs": [
    {
     "data": {
      "text/plain": [
       "[((914763600.0, 'Grey'), 1),\n",
       " ((1050674400.0, 'World Class Chris'), 1),\n",
       " ((1076418000.0, 'Garick'), 1),\n",
       " ((1076418000.0, 'Tom Jones'), 1),\n",
       " ((1078923600.0, 'Kurt87'), 1),\n",
       " ((1115992800.0, 'm12788'), 1),\n",
       " ((1190728800.0, 'EvaninCambridge'), 1),\n",
       " ((1058364000.0, 'Meg Usta'), 2),\n",
       " ((1092578400.0, 'XxPunk4PeacexX'), 2),\n",
       " ((1049205600.0, 'hobbitcore'), 3),\n",
       " ((1008421200.0, 'Chris Bowron'), 4),\n",
       " ((1079787600.0, 'tragic3rdwoman'), 5),\n",
       " ((1069246800.0, 'Axelsson'), 8),\n",
       " ((1012482000.0, 'lynn*'), 15),\n",
       " ((1009198800.0, 'jarød'), 62)]"
      ]
     },
     "execution_count": 14,
     "metadata": {},
     "output_type": "execute_result"
    }
   ],
   "source": [
    "subset"
   ]
  },
  {
   "cell_type": "code",
   "execution_count": 15,
   "metadata": {},
   "outputs": [
    {
     "data": {
      "text/plain": [
       "15"
      ]
     },
     "execution_count": 15,
     "metadata": {},
     "output_type": "execute_result"
    }
   ],
   "source": [
    "len(subset)"
   ]
  },
  {
   "cell_type": "code",
   "execution_count": 16,
   "metadata": {},
   "outputs": [],
   "source": [
    "uid_subset = [t[0] for t in subset]"
   ]
  },
  {
   "cell_type": "code",
   "execution_count": 17,
   "metadata": {},
   "outputs": [],
   "source": [
    "#udf[uid_subset]  # tuple are used as multiindex in pandas\n",
    "#udf[[uid_subset]]"
   ]
  },
  {
   "cell_type": "code",
   "execution_count": 18,
   "metadata": {},
   "outputs": [],
   "source": [
    "playlists_subset = [(pl, u) for u in uid_subset for pl in user_playlists[u]]"
   ]
  },
  {
   "cell_type": "code",
   "execution_count": 19,
   "metadata": {},
   "outputs": [
    {
     "data": {
      "text/plain": [
       "108"
      ]
     },
     "execution_count": 19,
     "metadata": {},
     "output_type": "execute_result"
    }
   ],
   "source": [
    "len(playlists_subset)"
   ]
  },
  {
   "cell_type": "code",
   "execution_count": 20,
   "metadata": {},
   "outputs": [],
   "source": [
    "song_set = sorted([(sid, song2feature[sid][-1]) for sid in {sid for pl, _ in playlists_subset for sid in pl}],\n",
    "                  key=lambda x: (x[1], x[0]))"
   ]
  },
  {
   "cell_type": "code",
   "execution_count": 21,
   "metadata": {},
   "outputs": [
    {
     "name": "stdout",
     "output_type": "stream",
     "text": [
      "786\n"
     ]
    }
   ],
   "source": [
    "print(len(song_set))\n",
    "#song_set"
   ]
  },
  {
   "cell_type": "markdown",
   "metadata": {},
   "source": [
    "### Split songs for setting I"
   ]
  },
  {
   "cell_type": "markdown",
   "metadata": {},
   "source": [
    "Split songs (80/20 split) the latest released (year) songs are in dev set ~~such that the distributions of song popularity (the number of occurrence in playlists) in training and dev set are similiar~~."
   ]
  },
  {
   "cell_type": "code",
   "execution_count": 22,
   "metadata": {},
   "outputs": [
    {
     "name": "stdout",
     "output_type": "stream",
     "text": [
      "#songs in training set: 629\n",
      "#songs in test set    : 157\n"
     ]
    }
   ],
   "source": [
    "dev_nsongs = int(len(song_set) * 0.2)\n",
    "dev_song_set = song_set[:dev_nsongs]\n",
    "train_song_set = song_set[dev_nsongs:]\n",
    "print('#songs in training set:', len(train_song_set))\n",
    "print('#songs in test set    :', len(dev_song_set))"
   ]
  },
  {
   "cell_type": "code",
   "execution_count": 23,
   "metadata": {},
   "outputs": [],
   "source": [
    "#dev_song_set\n",
    "#train_song_set"
   ]
  },
  {
   "cell_type": "code",
   "execution_count": 24,
   "metadata": {},
   "outputs": [],
   "source": [
    "song2index = {sid: ix for ix, (sid, _) in enumerate(song_set)}\n",
    "song_pl_mat = lil_matrix((len(song_set), len(playlists_subset)), dtype=np.int8)\n",
    "for j in range(len(playlists_subset)):\n",
    "    pl = playlists_subset[j][0]\n",
    "    ind = [song2index[sid] for sid in pl]\n",
    "    song_pl_mat[ind, j] = 1"
   ]
  },
  {
   "cell_type": "code",
   "execution_count": 25,
   "metadata": {},
   "outputs": [],
   "source": [
    "song_pop = np.sum(song_pl_mat, axis=1)"
   ]
  },
  {
   "cell_type": "code",
   "execution_count": 26,
   "metadata": {},
   "outputs": [],
   "source": [
    "song2pop = {sid: song_pop[song2index[sid], 0] for (sid, _) in song_set}"
   ]
  },
  {
   "cell_type": "markdown",
   "metadata": {},
   "source": [
    "Histogram of song popularity in training set."
   ]
  },
  {
   "cell_type": "code",
   "execution_count": 27,
   "metadata": {},
   "outputs": [
    {
     "name": "stdout",
     "output_type": "stream",
     "text": [
      "629\n"
     ]
    },
    {
     "data": {
      "image/png": "[encoded data removed]",
      "text/plain": [
       "<matplotlib.figure.Figure at 0x7fd4e811a4a8>"
      ]
     },
     "metadata": {},
     "output_type": "display_data"
    }
   ],
   "source": [
    "train_song_pop = [song2pop[sid] for (sid, _) in train_song_set]\n",
    "ax = plt.subplot(111)\n",
    "ax.hist(train_song_pop, bins=30)\n",
    "ax.set_yscale('log')\n",
    "ax.set_xlim(0, song_pop.max()+1)\n",
    "print(len(train_song_set))"
   ]
  },
  {
   "cell_type": "markdown",
   "metadata": {},
   "source": [
    "Histogram of song popularity in dev set."
   ]
  },
  {
   "cell_type": "code",
   "execution_count": 28,
   "metadata": {},
   "outputs": [
    {
     "name": "stdout",
     "output_type": "stream",
     "text": [
      "157\n"
     ]
    },
    {
     "data": {
      "image/png": "[encoded data removed]",
      "text/plain": [
       "<matplotlib.figure.Figure at 0x7fd4a46f5ac8>"
      ]
     },
     "metadata": {},
     "output_type": "display_data"
    }
   ],
   "source": [
    "dev_song_pop = [song2pop[sid] for (sid, _) in dev_song_set]\n",
    "ax = plt.subplot(111)\n",
    "ax.hist(dev_song_pop, bins=30)\n",
    "ax.set_yscale('log')\n",
    "ax.set_xlim(0, song_pop.max()+1)\n",
    "print(len(dev_song_set))"
   ]
  },
  {
   "cell_type": "markdown",
   "metadata": {},
   "source": [
    "### Split playlists"
   ]
  },
  {
   "cell_type": "markdown",
   "metadata": {},
   "source": [
    "Split playlists (80/20 split) uniformly at random ~~such that the distributions of playlist length (the number of songs in playlists) for each user in training and dev set are similiar~~."
   ]
  },
  {
   "cell_type": "code",
   "execution_count": 29,
   "metadata": {},
   "outputs": [],
   "source": [
    "train_playlists = []\n",
    "dev_playlists = []"
   ]
  },
  {
   "cell_type": "code",
   "execution_count": 30,
   "metadata": {},
   "outputs": [],
   "source": [
    "dev_ratio = 0.2\n",
    "np.random.seed(987654321)\n",
    "for u in uid_subset:\n",
    "    playlists_u = [(pl, u) for pl in user_playlists[u]]\n",
    "    if len(user_playlists[u]) < 5:\n",
    "        train_playlists += playlists_u\n",
    "    else:\n",
    "        npl_dev  = int(dev_ratio * len(user_playlists[u]))\n",
    "        pl_indices = np.random.permutation(len(user_playlists[u]))\n",
    "        dev_playlists  += playlists_u[:npl_dev]\n",
    "        train_playlists += playlists_u[npl_dev:]"
   ]
  },
  {
   "cell_type": "code",
   "execution_count": 31,
   "metadata": {},
   "outputs": [
    {
     "name": "stdout",
     "output_type": "stream",
     "text": [
      "91 17\n"
     ]
    }
   ],
   "source": [
    "print(len(train_playlists), len(dev_playlists))"
   ]
  },
  {
   "cell_type": "code",
   "execution_count": 32,
   "metadata": {},
   "outputs": [],
   "source": [
    "xmax = np.max([len(pl) for pl, _ in playlists_subset]) + 1"
   ]
  },
  {
   "cell_type": "markdown",
   "metadata": {},
   "source": [
    "Histogram of playlist length in training set."
   ]
  },
  {
   "cell_type": "code",
   "execution_count": 33,
   "metadata": {},
   "outputs": [
    {
     "name": "stdout",
     "output_type": "stream",
     "text": [
      "91\n"
     ]
    },
    {
     "data": {
      "image/png": "[encoded data removed]",
      "text/plain": [
       "<matplotlib.figure.Figure at 0x7fd49bbdf7b8>"
      ]
     },
     "metadata": {},
     "output_type": "display_data"
    }
   ],
   "source": [
    "ax = plt.subplot(111)\n",
    "ax.hist([len(pl) for pl, _ in train_playlists], bins=50)\n",
    "ax.set_yscale('log')\n",
    "ax.set_xlim(0, xmax)\n",
    "print(len(train_playlists))"
   ]
  },
  {
   "cell_type": "markdown",
   "metadata": {},
   "source": [
    "Histogram of playlist length in training set."
   ]
  },
  {
   "cell_type": "code",
   "execution_count": 34,
   "metadata": {},
   "outputs": [
    {
     "name": "stdout",
     "output_type": "stream",
     "text": [
      "17\n"
     ]
    },
    {
     "data": {
      "image/png": "[encoded data removed]",
      "text/plain": [
       "<matplotlib.figure.Figure at 0x7fd49be9c278>"
      ]
     },
     "metadata": {},
     "output_type": "display_data"
    }
   ],
   "source": [
    "ax = plt.subplot(111)\n",
    "ax.hist([len(pl) for pl, _ in dev_playlists], bins=50)\n",
    "ax.set_yscale('log')\n",
    "ax.set_xlim(0, xmax)\n",
    "print(len(dev_playlists))"
   ]
  },
  {
   "cell_type": "markdown",
   "metadata": {},
   "source": [
    "### Hold part of songs in the dev set of playlists"
   ]
  },
  {
   "cell_type": "markdown",
   "metadata": {},
   "source": [
    "Hold the last half of songs for each playlist in dev set."
   ]
  },
  {
   "cell_type": "code",
   "execution_count": 35,
   "metadata": {},
   "outputs": [],
   "source": [
    "dev_playlists_obs = [pl[:-int(len(pl)/2)] for (pl, _) in dev_playlists]\n",
    "dev_playlists_held = [pl[-int(len(pl)/2):] for (pl, _) in dev_playlists]"
   ]
  },
  {
   "cell_type": "code",
   "execution_count": 36,
   "metadata": {},
   "outputs": [],
   "source": [
    "for i in range(len(dev_playlists)):\n",
    "    assert np.all(dev_playlists[i][0] == dev_playlists_obs[i] + dev_playlists_held[i])"
   ]
  },
  {
   "cell_type": "code",
   "execution_count": 37,
   "metadata": {},
   "outputs": [
    {
     "name": "stdout",
     "output_type": "stream",
     "text": [
      "obs: 99, held: 90\n"
     ]
    }
   ],
   "source": [
    "print('obs: %d, held: %d' % (np.sum([len(ppl) for ppl in dev_playlists_obs]), \n",
    "                             np.sum([len(ppl) for ppl in dev_playlists_held])))"
   ]
  },
  {
   "cell_type": "markdown",
   "metadata": {},
   "source": [
    "## Load genres"
   ]
  },
  {
   "cell_type": "code",
   "execution_count": 38,
   "metadata": {},
   "outputs": [],
   "source": [
    "song2genre = pkl.load(gzip.open(fgenre, 'rb'))"
   ]
  },
  {
   "cell_type": "markdown",
   "metadata": {},
   "source": [
    "Check if all songs have genre info."
   ]
  },
  {
   "cell_type": "code",
   "execution_count": 39,
   "metadata": {},
   "outputs": [
    {
     "data": {
      "text/plain": [
       "577"
      ]
     },
     "execution_count": 39,
     "metadata": {},
     "output_type": "execute_result"
    }
   ],
   "source": [
    "np.sum([sid in song2genre for sid, _ in song_set])"
   ]
  },
  {
   "cell_type": "markdown",
   "metadata": {},
   "source": [
    "## Create song-playlist matrix"
   ]
  },
  {
   "cell_type": "markdown",
   "metadata": {},
   "source": [
    "Songs as rows, playlists as columns."
   ]
  },
  {
   "cell_type": "code",
   "execution_count": 40,
   "metadata": {},
   "outputs": [],
   "source": [
    "def gen_dataset(playlists, song2feature, song2genre, train_song_set, \n",
    "                dev_song_set=[], test_song_set=[], song2pop_train=None):\n",
    "    \"\"\"\n",
    "    Create labelled dataset: rows are songs, columns are users.\n",
    "    \n",
    "    Input:\n",
    "        - playlists: a set of playlists\n",
    "        - train_song_set: a list of songIDs in training set\n",
    "        - dev_song_set: a list of songIDs in dev set\n",
    "        - test_song_set: a list of songIDs in test set\n",
    "        - song2feature: dictionary that maps songIDs to features from MSD\n",
    "        - song2genre: dictionary that maps songIDs to genre\n",
    "        - song2pop_train: a dictionary that maps songIDs to its popularity\n",
    "    Output:\n",
    "        - (Feature, Label) pair (X, Y)\n",
    "          X: #songs by #features\n",
    "          Y: #songs by #users\n",
    "    \"\"\" \n",
    "    song_set = train_song_set + dev_song_set + test_song_set\n",
    "    N = len(song_set)\n",
    "    K = len(playlists)\n",
    "    \n",
    "    genre_set = sorted({v for v in song2genre.values()})\n",
    "    genre2index = {genre: ix for ix, genre in enumerate(genre_set)}\n",
    "    \n",
    "    def onehot_genre(songID):\n",
    "        \"\"\"\n",
    "        One-hot encoding of genres.\n",
    "        Data imputation: \n",
    "            - one extra entry for songs without genre info\n",
    "            - mean imputation\n",
    "            - sampling from the distribution of genre popularity\n",
    "        \"\"\"\n",
    "        num = len(genre_set) # + 1\n",
    "        vec = np.zeros(num, dtype=np.float)\n",
    "        if songID in song2genre:\n",
    "            genre_ix = genre2index[song2genre[songID]]\n",
    "            vec[genre_ix] = 1\n",
    "        else:\n",
    "            vec[:] = np.nan\n",
    "            #vec[-1] = 1\n",
    "        return vec\n",
    "    \n",
    "    #X = np.array([features_MSD[sid] for sid in song_set])  # without using genre\n",
    "    #Y = np.zeros((N, K), dtype=np.bool)\n",
    "    X = np.array([np.concatenate([song2feature[sid], onehot_genre(sid)], axis=-1) for sid in song_set])\n",
    "    Y = lil_matrix((N, K), dtype=np.bool)\n",
    "    \n",
    "    song2index = {sid: ix for ix, sid in enumerate(song_set)}\n",
    "    for k in range(K):\n",
    "        pl = playlists[k]\n",
    "        indices = [song2index[sid] for sid in pl if sid in song2index]\n",
    "        Y[indices, k] = True\n",
    "        \n",
    "    # genre imputation\n",
    "    genre_ix_start = -len(genre_set)\n",
    "    genre_nan = np.isnan(X[:, genre_ix_start:])\n",
    "    genre_mean = np.nansum(X[:, genre_ix_start:], axis=0) / (X.shape[0] - np.sum(genre_nan, axis=0))\n",
    "    #print(np.nansum(X[:, genre_ix_start:], axis=0))\n",
    "    #print(genre_set)\n",
    "    #print(genre_mean)\n",
    "    for j in range(len(genre_set)):\n",
    "        X[genre_nan[:,j], j+genre_ix_start] = genre_mean[j]\n",
    "        \n",
    "    # normalise the sum of all genres per song to 1\n",
    "    # X[:, -len(genre_set):] /= X[:, -len(genre_set):].sum(axis=1).reshape(-1, 1)  \n",
    "    # NOTE: this is not necessary, as the imputed values are guaranteed to be normalised (sum to 1) \n",
    "    # due to the above method to compute mean genres.\n",
    "    \n",
    "    # the log of song popularity\n",
    "    if song2pop_train is not None:\n",
    "        # for sid in song_set: \n",
    "        #     assert sid in song2pop_train  # trust the input\n",
    "        logsongpop = np.log([song2pop_train[sid]+1 for sid in song_set])  # deal with 0 popularity\n",
    "        X = np.hstack([X, logsongpop.reshape(-1, 1)])\n",
    "\n",
    "    #return X, Y\n",
    "    Y = Y.tocsr()\n",
    "    \n",
    "    train_ix = [song2index[sid] for sid in train_song_set]\n",
    "    X_train = X[train_ix, :]\n",
    "    Y_train = Y[train_ix, :]\n",
    "    \n",
    "    dev_ix = [song2index[sid] for sid in dev_song_set]\n",
    "    X_dev = X[dev_ix, :]\n",
    "    Y_dev = Y[dev_ix, :]\n",
    "    \n",
    "    test_ix = [song2index[sid] for sid in test_song_set]\n",
    "    X_test = X[test_ix, :]\n",
    "    Y_test = Y[test_ix, :]\n",
    "    \n",
    "    if len(dev_song_set) > 0:\n",
    "        if len(test_song_set) > 0:\n",
    "            return X_train, Y_train, X_dev, Y_dev, X_test, Y_test\n",
    "        else:\n",
    "            return X_train, Y_train, X_dev, Y_dev\n",
    "    else:\n",
    "        if len(test_song_set) > 0:\n",
    "            return X_train, Y_train, X_test, Y_test\n",
    "        else:\n",
    "            return X_train, Y_train"
   ]
  },
  {
   "cell_type": "code",
   "execution_count": 41,
   "metadata": {},
   "outputs": [],
   "source": [
    "def mean_normalised_reciprocal_rank(Y_true, Y_pred):\n",
    "    \"\"\"\n",
    "    Compute the mean of normalised reciprocal rank (reciprocal rank are normalised by the best possible ranks)\n",
    "    \"\"\"\n",
    "    normalised_reci_rank = []\n",
    "    npos = np.sum(Y_true, axis=0)\n",
    "    for k in range(Y_true.shape[1]):\n",
    "        ranks = calc_rank(Y_pred[:, k])[Y_true[:, k]]\n",
    "        if len(ranks) > 0:\n",
    "            ideal = np.sum([1./nk for nk in range(1, npos[k]+1)])\n",
    "            real = np.sum([1./r for r in ranks])\n",
    "            normalised_reci_rank.append(real / ideal)  # normalise the reciprocal ranks by the best possible ranks\n",
    "    return np.mean(normalised_reci_rank)"
   ]
  },
  {
   "cell_type": "code",
   "execution_count": 42,
   "metadata": {},
   "outputs": [],
   "source": [
    "def calc_RP_HR(Y_true, Y_pred, useLoop=False, tops=[]):\n",
    "    rps = []\n",
    "    hitrates = {top: [] for top in tops} if len(tops) > 0 else None\n",
    "    if useLoop is True:\n",
    "        assert type(Y_true) == type(Y_pred) == list\n",
    "        assert len(Y_true) == len(Y_pred)\n",
    "        for j in range(len(Y_true)):\n",
    "            y_true = np.asarray(Y_true[j]).reshape(-1)\n",
    "            y_pred = np.asarray(Y_pred[j]).reshape(-1)\n",
    "            npos = y_true.sum()\n",
    "            if npos > 0:\n",
    "                rp, hr_dict = calc_RPrecision_HitRate(y_true, y_pred, tops=tops)\n",
    "                rps.append(rp)\n",
    "                if len(tops) > 0:\n",
    "                    for top in tops:\n",
    "                        hitrates[top].append(hr_dict[top])\n",
    "    else:\n",
    "        assert Y_true.shape == Y_pred.shape\n",
    "        for j in range(Y_true.shape[1]):\n",
    "            y_true = Y_true[:, j]\n",
    "            if issparse(y_true):\n",
    "                y_true = y_true.toarray().reshape(-1)\n",
    "            else:\n",
    "                y_true = y_true.reshape(-1)\n",
    "            y_pred = Y_pred[:, j].reshape(-1)\n",
    "            npos = y_true.sum()\n",
    "            if npos > 0:\n",
    "                rp, hr_dict = calc_RPrecision_HitRate(y_true, y_pred, tops=tops)\n",
    "                rps.append(rp)\n",
    "                if len(tops) > 0:\n",
    "                    for top in tops:\n",
    "                        hitrates[top].append(hr_dict[top])\n",
    "    return rps, hitrates"
   ]
  },
  {
   "cell_type": "markdown",
   "metadata": {},
   "source": [
    "Build the adjacent matrix of playlists (nodes), playlists of the same user form a *clique*."
   ]
  },
  {
   "cell_type": "code",
   "execution_count": 43,
   "metadata": {},
   "outputs": [],
   "source": [
    "user_of_playlists = [u for (_, u) in train_playlists + dev_playlists]\n",
    "clique_list = []\n",
    "for u in sorted(set(user_of_playlists)):\n",
    "    clique = np.where(u == np.array(user_of_playlists, dtype=np.object))[0]\n",
    "    if len(clique) > 1:\n",
    "        clique_list.append(clique)"
   ]
  },
  {
   "cell_type": "markdown",
   "metadata": {},
   "source": [
    "## Setting I: hold a subset of songs, use all playlists"
   ]
  },
  {
   "cell_type": "code",
   "execution_count": 44,
   "metadata": {},
   "outputs": [],
   "source": [
    "X_train, Y_train, X_dev, Y_dev = gen_dataset(playlists = [pl for pl, _ in playlists_subset],\n",
    "                                             song2feature = song2feature, song2genre = song2genre,\n",
    "                                             train_song_set = [sid for sid, _ in train_song_set],\n",
    "                                             dev_song_set   = [sid for sid, _ in   dev_song_set])"
   ]
  },
  {
   "cell_type": "markdown",
   "metadata": {},
   "source": [
    "Feature normalisation."
   ]
  },
  {
   "cell_type": "code",
   "execution_count": 45,
   "metadata": {},
   "outputs": [],
   "source": [
    "X_train_mean = np.mean(X_train, axis=0).reshape((1, -1))\n",
    "X_train_std = np.std(X_train, axis=0).reshape((1, -1)) + 10 ** (-6)\n",
    "X_train -= X_train_mean\n",
    "X_train /= X_train_std\n",
    "X_dev   -= X_train_mean\n",
    "X_dev   /= X_train_std"
   ]
  },
  {
   "cell_type": "code",
   "execution_count": 46,
   "metadata": {},
   "outputs": [
    {
     "name": "stdout",
     "output_type": "stream",
     "text": [
      "Train:      (629, 217)      (629, 108)\n",
      "Dev  :      (157, 217)      (157, 108)\n"
     ]
    }
   ],
   "source": [
    "print('Train: %15s %15s' % (X_train.shape, Y_train.shape))\n",
    "print('Dev  : %15s %15s' % (X_dev.shape,   Y_dev.shape))"
   ]
  },
  {
   "cell_type": "code",
   "execution_count": 47,
   "metadata": {},
   "outputs": [
    {
     "name": "stdout",
     "output_type": "stream",
     "text": [
      "-2.4134155916556296e-16\n",
      "-0.04610157241305746\n",
      "0.021083933678394208\n",
      "-0.087645961790772\n"
     ]
    }
   ],
   "source": [
    "print(np.mean(np.mean(X_train, axis=0)))\n",
    "print(np.mean( np.std(X_train, axis=0)) - 1)\n",
    "print(np.mean(np.mean(X_dev, axis=0)))\n",
    "print(np.mean( np.std(X_dev, axis=0)) - 1)"
   ]
  },
  {
   "cell_type": "markdown",
   "metadata": {},
   "source": [
    "Check gradient."
   ]
  },
  {
   "cell_type": "code",
   "execution_count": 48,
   "metadata": {},
   "outputs": [],
   "source": [
    "%%script false\n",
    "w0 = 0.001 * np.random.randn(Y_dev.shape[1] * X_dev.shape[1] + 1)\n",
    "dw = np.zeros_like(w0)\n",
    "cliques=clique_list\n",
    "cliques=None\n",
    "bs=100\n",
    "loss='example'\n",
    "check_grad(\\\n",
    "lambda w: objective(w, dw, X_dev, Y_dev, C1=2, C2=3, C3=5, p=3, cliques=cliques, loss_type=loss, batch_size=bs),\n",
    "lambda w: dw, w0)"
   ]
  },
  {
   "cell_type": "markdown",
   "metadata": {},
   "source": [
    "### M1. BR - Independent logistic regression"
   ]
  },
  {
   "cell_type": "code",
   "execution_count": 49,
   "metadata": {},
   "outputs": [
    {
     "name": "stderr",
     "output_type": "stream",
     "text": [
      "/home/dawei/apps/miniconda3/lib/python3.6/site-packages/sklearn/multiclass.py:76: UserWarning: Label not 51 is present in all training examples.\n",
      "  str(classes[c]))\n"
     ]
    }
   ],
   "source": [
    "br1 = BinaryRelevance(C=1, n_jobs=4)\n",
    "br1.fit(X_train, Y_train)"
   ]
  },
  {
   "cell_type": "markdown",
   "metadata": {},
   "source": [
    "Evaluation: normalise **per playlist**."
   ]
  },
  {
   "cell_type": "code",
   "execution_count": 50,
   "metadata": {},
   "outputs": [
    {
     "name": "stdout",
     "output_type": "stream",
     "text": [
      "Dev set:\n",
      "R-Precision: 0.03804347826086957\n",
      "5 0.0791062801932367\n",
      "10 0.10954106280193236\n",
      "20 0.19930986887508623\n",
      "30 0.27486197377501725\n",
      "50 0.4365079365079365\n",
      "100 0.7285024154589372\n"
     ]
    }
   ],
   "source": [
    "print('Dev set:')\n",
    "rps_br1, hr_br1 = calc_RP_HR(Y_dev, br1.predict(X_dev), tops=TOPs)\n",
    "print('R-Precision:', np.mean(rps_br1))\n",
    "for top in TOPs:\n",
    "    print(top, np.mean(hr_br1[top]))"
   ]
  },
  {
   "cell_type": "code",
   "execution_count": 51,
   "metadata": {},
   "outputs": [
    {
     "name": "stdout",
     "output_type": "stream",
     "text": [
      "Training set:\n",
      "R-Precision: 0.9966938925601964\n",
      "5 0.6672889162660713\n",
      "10 0.9193204523214914\n",
      "20 0.9973908766226823\n",
      "30 0.9986954383113411\n",
      "50 1.0\n",
      "100 1.0\n"
     ]
    }
   ],
   "source": [
    "print('Training set:')\n",
    "rps_brtrn, hr_brtrn = calc_RP_HR(Y_train, br1.predict(X_train), tops=TOPs)\n",
    "print('R-Precision:', np.mean(rps_brtrn))\n",
    "for top in TOPs:\n",
    "    print(top, np.mean(hr_brtrn[top]))"
   ]
  },
  {
   "cell_type": "markdown",
   "metadata": {},
   "source": [
    "### M2. PC - Multilabel p-classification"
   ]
  },
  {
   "cell_type": "markdown",
   "metadata": {},
   "source": [
    "P-Classification ~ P-norm push ranking."
   ]
  },
  {
   "cell_type": "code",
   "execution_count": 52,
   "metadata": {},
   "outputs": [],
   "source": [
    "mlr = PCMLC(C1=1, C2=1, C3=1, loss_type='example')\n",
    "mlr.fit(X_train, Y_train, user_playlist_indices=clique_list)"
   ]
  },
  {
   "cell_type": "code",
   "execution_count": 53,
   "metadata": {},
   "outputs": [
    {
     "name": "stdout",
     "output_type": "stream",
     "text": [
      "Dev set:\n",
      "R-Precision: 0.048033126293995865\n",
      "5 0.07624223602484471\n",
      "10 0.15634920634920635\n",
      "20 0.2783643892339544\n",
      "30 0.37634575569358175\n",
      "50 0.5648378191856452\n",
      "100 0.8916494133885438\n"
     ]
    }
   ],
   "source": [
    "print('Dev set:')\n",
    "rps_mlr, hr_mlr = calc_RP_HR(Y_dev, mlr.predict(X_dev), tops=TOPs)\n",
    "print('R-Precision:', np.mean(rps_mlr))\n",
    "for top in TOPs:\n",
    "    print(top, np.mean(hr_mlr[top]))"
   ]
  },
  {
   "cell_type": "code",
   "execution_count": 55,
   "metadata": {},
   "outputs": [
    {
     "name": "stdout",
     "output_type": "stream",
     "text": [
      "Training set:\n",
      "R-Precision: 0.344103820245123\n",
      "5 0.28874988934644014\n",
      "10 0.3832373920607014\n",
      "20 0.5022185896916681\n",
      "30 0.5798116165671232\n",
      "50 0.6784763105924777\n",
      "100 0.802045607113128\n"
     ]
    }
   ],
   "source": [
    "print('Training set:')\n",
    "rps_mlrtrn, hr_mlrtrn = calc_RP_HR(Y_train, mlr.predict(X_train), tops=TOPs)\n",
    "print('R-Precision:', np.mean(rps_mlrtrn))\n",
    "for top in TOPs:\n",
    "    print(top, np.mean(hr_mlrtrn[top]))"
   ]
  },
  {
   "cell_type": "markdown",
   "metadata": {},
   "source": [
    "**Performance per user**"
   ]
  },
  {
   "cell_type": "code",
   "execution_count": 56,
   "metadata": {
    "scrolled": true
   },
   "outputs": [],
   "source": [
    "%%script false\n",
    "aucs = []\n",
    "npl = []\n",
    "for u in set(user_of_playlists2):\n",
    "    uind = np.where(np.array(user_of_playlists2, dtype=np.object) == u)[0]\n",
    "    uind_train = uind[uind < col_split]\n",
    "    uind_test = uind[uind >= col_split]\n",
    "    #print(uind)\n",
    "    #if len(uind_test) < 1: continue\n",
    "    print('--------------------')\n",
    "    print('USER:', u)\n",
    "    print('#train: %d, #test: %d' % (len(uind_train), len(uind_test)))\n",
    "    #preds_test = [Y_pla[isnanmat[:, col], col] for col in uind_test]\n",
    "    #gts_test = [Y[isnanmat[:, col], col] for col in uind_test]\n",
    "    print('Dev set:')\n",
    "    #auc, ncol = eval_pl(gts_test, preds_test, useLoop=True)\n",
    "    #aucs.append(auc)\n",
    "    #npl.append(ncol)\n",
    "    print('Training set:')\n",
    "    auc_trn, ncol_trn = eval_pl(Y[:, uind_train], Y_pla[:, uind_train])\n",
    "    aucs.append(auc_trn)\n",
    "    npl.append(ncol_trn)\n",
    "    print()"
   ]
  },
  {
   "cell_type": "code",
   "execution_count": 57,
   "metadata": {},
   "outputs": [],
   "source": [
    "%%script false\n",
    "plt.plot(npl, aucs, 'b.')\n",
    "plt.ylim(0.4, 1.0)\n",
    "split = 'train'\n",
    "plt.xlabel('#playlist in training set')\n",
    "plt.ylabel('AUC (%s)' % split)\n",
    "plt.title('New Song Recommednation Task: 1/#playlists reg. (%s)' % split)"
   ]
  },
  {
   "cell_type": "markdown",
   "metadata": {},
   "source": [
    "## Setting II: hold a subset of songs in a subset of playlists, use all songs"
   ]
  },
  {
   "cell_type": "code",
   "execution_count": 58,
   "metadata": {},
   "outputs": [],
   "source": [
    "song2pop_train = song2pop.copy()\n",
    "for ppl in dev_playlists_held:\n",
    "    for sid in ppl:\n",
    "        song2pop_train[sid] -= 1"
   ]
  },
  {
   "cell_type": "code",
   "execution_count": 59,
   "metadata": {},
   "outputs": [],
   "source": [
    "X, Y = gen_dataset(playlists = [pl for pl, _ in train_playlists + dev_playlists],\n",
    "                   song2feature = song2feature, song2genre = song2genre, \n",
    "                   train_song_set = [sid for sid, _ in song_set], song2pop_train=song2pop_train)"
   ]
  },
  {
   "cell_type": "code",
   "execution_count": 60,
   "metadata": {},
   "outputs": [],
   "source": [
    "dev_cols = np.arange(len(train_playlists), Y.shape[1])\n",
    "col_split = len(train_playlists)"
   ]
  },
  {
   "cell_type": "markdown",
   "metadata": {},
   "source": [
    "Set all entries corresponding to playlists in dev set to NaN, except those songs in dev playlists that we observed."
   ]
  },
  {
   "cell_type": "code",
   "execution_count": 61,
   "metadata": {},
   "outputs": [],
   "source": [
    "Y_train = Y.copy().astype(np.float).toarray()  # note: np.nan is float\n",
    "Y_train[:, dev_cols] = np.nan\n",
    "song_indices = {sid: ix for ix, (sid, _) in enumerate(song_set)}\n",
    "assert len(dev_cols) == len(dev_playlists) == len(dev_playlists_obs)\n",
    "num_known = 0\n",
    "for j in range(len(dev_cols)):\n",
    "    rows = [song_indices[sid] for sid in dev_playlists_obs[j]]\n",
    "    Y_train[rows, dev_cols[j]] = 1\n",
    "    num_known += len(rows)"
   ]
  },
  {
   "cell_type": "code",
   "execution_count": 62,
   "metadata": {},
   "outputs": [],
   "source": [
    "isnanmat = np.isnan(Y_train)"
   ]
  },
  {
   "cell_type": "code",
   "execution_count": 63,
   "metadata": {},
   "outputs": [
    {
     "name": "stdout",
     "output_type": "stream",
     "text": [
      "#unknown: 13,263 | 13,263\n"
     ]
    }
   ],
   "source": [
    "print('#unknown: {:,} | {:,}'.format(np.sum(isnanmat), len(dev_playlists) * len(song_set) - num_known))"
   ]
  },
  {
   "cell_type": "code",
   "execution_count": 64,
   "metadata": {},
   "outputs": [
    {
     "name": "stdout",
     "output_type": "stream",
     "text": [
      "#unknown in setting I: 16,956\n"
     ]
    }
   ],
   "source": [
    "print('#unknown in setting I: {:,}'.format(len(dev_song_set) * Y.shape[1]))"
   ]
  },
  {
   "cell_type": "code",
   "execution_count": 65,
   "metadata": {},
   "outputs": [
    {
     "name": "stdout",
     "output_type": "stream",
     "text": [
      "0\n"
     ]
    }
   ],
   "source": [
    "print(np.sum(isnanmat[:, :col_split]))  # number of NaN in training playlists, should be 0"
   ]
  },
  {
   "cell_type": "code",
   "execution_count": 66,
   "metadata": {},
   "outputs": [],
   "source": [
    "X_train = X"
   ]
  },
  {
   "cell_type": "markdown",
   "metadata": {},
   "source": [
    "Feature normalisation."
   ]
  },
  {
   "cell_type": "code",
   "execution_count": 67,
   "metadata": {},
   "outputs": [],
   "source": [
    "X_train_mean = np.mean(X_train, axis=0).reshape((1, -1))\n",
    "X_train_std = np.std(X_train, axis=0).reshape((1, -1)) + 10 ** (-6)\n",
    "X_train -= X_train_mean\n",
    "X_train /= X_train_std"
   ]
  },
  {
   "cell_type": "code",
   "execution_count": 68,
   "metadata": {},
   "outputs": [
    {
     "name": "stdout",
     "output_type": "stream",
     "text": [
      "Train:      (786, 218)      (786, 108)\n"
     ]
    }
   ],
   "source": [
    "print('Train: %15s %15s' % (X_train.shape, Y_train.shape))"
   ]
  },
  {
   "cell_type": "code",
   "execution_count": 69,
   "metadata": {},
   "outputs": [
    {
     "name": "stdout",
     "output_type": "stream",
     "text": [
      "1.1578348808516773e-17\n",
      "-0.04589002449941504\n"
     ]
    }
   ],
   "source": [
    "print(np.mean(np.mean(X_train, axis=0)))\n",
    "print(np.mean( np.std(X_train, axis=0)) - 1)"
   ]
  },
  {
   "cell_type": "code",
   "execution_count": 70,
   "metadata": {},
   "outputs": [
    {
     "data": {
      "text/plain": [
       "17"
      ]
     },
     "execution_count": 70,
     "metadata": {},
     "output_type": "execute_result"
    }
   ],
   "source": [
    "len(dev_cols)"
   ]
  },
  {
   "cell_type": "markdown",
   "metadata": {},
   "source": [
    "### M3. Independent logistic regression"
   ]
  },
  {
   "cell_type": "code",
   "execution_count": 71,
   "metadata": {},
   "outputs": [],
   "source": [
    "br2 = BinaryRelevance(C=1, n_jobs=4)\n",
    "br2.fit(X_train, np.nan_to_num(Y_train))"
   ]
  },
  {
   "cell_type": "markdown",
   "metadata": {},
   "source": [
    "Evaluation: normalise **per playlist**."
   ]
  },
  {
   "cell_type": "code",
   "execution_count": 72,
   "metadata": {},
   "outputs": [],
   "source": [
    "gts = [Y[isnanmat[:, col], col].toarray() for col in dev_cols]"
   ]
  },
  {
   "cell_type": "code",
   "execution_count": 73,
   "metadata": {},
   "outputs": [
    {
     "name": "stdout",
     "output_type": "stream",
     "text": [
      "Dev set:\n",
      "R-Precision: 0.022058823529411766\n",
      "5 0.022058823529411766\n",
      "10 0.030462184873949576\n",
      "20 0.08298319327731092\n",
      "30 0.10210084033613444\n",
      "50 0.12962184873949578\n",
      "100 0.1911064425770308\n"
     ]
    }
   ],
   "source": [
    "print('Dev set:')\n",
    "Y_br2 = br2.predict(X_train)\n",
    "preds = [Y_br2[isnanmat[:, col], col] for col in dev_cols]\n",
    "rps_br2, hr_br2 = calc_RP_HR(gts, preds, useLoop=True, tops=TOPs)\n",
    "print('R-Precision:', np.mean(rps_br2))\n",
    "for top in TOPs:\n",
    "    print(top, np.mean(hr_br2[top]))"
   ]
  },
  {
   "cell_type": "code",
   "execution_count": 74,
   "metadata": {},
   "outputs": [],
   "source": [
    "#rps"
   ]
  },
  {
   "cell_type": "code",
   "execution_count": 75,
   "metadata": {},
   "outputs": [],
   "source": [
    "#Y_train[:, -1]"
   ]
  },
  {
   "cell_type": "markdown",
   "metadata": {},
   "source": [
    "### Popularity based ranking"
   ]
  },
  {
   "cell_type": "code",
   "execution_count": 76,
   "metadata": {},
   "outputs": [
    {
     "name": "stdout",
     "output_type": "stream",
     "text": [
      "R-Precision: 0.022058823529411766\n",
      "5 0.022058823529411766\n",
      "10 0.022058823529411766\n",
      "20 0.03676470588235294\n",
      "30 0.07563025210084033\n",
      "50 0.10896358543417367\n",
      "100 0.1914565826330532\n"
     ]
    }
   ],
   "source": [
    "rps_pop = []\n",
    "hr_pop = {top: [] for top in TOPs}\n",
    "\n",
    "index2song = {ix: sid for ix, (sid, _) in enumerate(song_set)}\n",
    "for col in dev_cols:\n",
    "    indices = np.arange(Y.shape[0])[isnanmat[:, col]]\n",
    "    y_true = Y[indices, col]\n",
    "    if issparse(y_true):\n",
    "        y_true = y_true.toarray().reshape(-1)\n",
    "    else:\n",
    "        y_true = y_true.reshape(-1)\n",
    "    y_pred = np.asarray([song2pop_train[index2song[ix]] for ix in indices])\n",
    "    npos = y_true.sum()\n",
    "    if npos > 0:\n",
    "        rp, hr_dict = calc_RPrecision_HitRate(y_true, y_pred, tops=TOPs)\n",
    "        rps_pop.append(rp)\n",
    "        for top in TOPs:\n",
    "            hr_pop[top].append(hr_dict[top])\n",
    "print('R-Precision:', np.mean(rps_pop))\n",
    "for top in TOPs:\n",
    "    print(top, np.mean(hr_pop[top]))"
   ]
  },
  {
   "cell_type": "markdown",
   "metadata": {},
   "source": [
    "### M4. Multilabel p-classification with some playlist fully observed"
   ]
  },
  {
   "cell_type": "code",
   "execution_count": 77,
   "metadata": {
    "scrolled": true
   },
   "outputs": [],
   "source": [
    "pla = PCMLC(C1=10, C2=1, C3=10, p=1, loss_type='both')\n",
    "pla.fit(X_train, np.nan_to_num(Y_train), batch_size=256, user_playlist_indices=clique_list)"
   ]
  },
  {
   "cell_type": "code",
   "execution_count": 78,
   "metadata": {},
   "outputs": [
    {
     "name": "stdout",
     "output_type": "stream",
     "text": [
      "Dev set:\n",
      "R-Precision: 0.023109243697478993\n",
      "5 0.023109243697478993\n",
      "10 0.032913165266106444\n",
      "20 0.09173669467787114\n",
      "30 0.10350140056022408\n",
      "50 0.18256302521008402\n",
      "100 0.3408263305322129\n"
     ]
    }
   ],
   "source": [
    "print('Dev set:')\n",
    "Y_pla = pla.predict(X_train)\n",
    "preds_pla = [Y_pla[isnanmat[:, col], col] for col in dev_cols]\n",
    "rps_pla, hr_pla = calc_RP_HR(gts, preds_pla, useLoop=True, tops=TOPs)\n",
    "print('R-Precision:', np.mean(rps_pla))\n",
    "for top in TOPs:\n",
    "    print(top, np.mean(hr_pla[top]))"
   ]
  },
  {
   "cell_type": "code",
   "execution_count": 79,
   "metadata": {},
   "outputs": [],
   "source": [
    "#rps_pla"
   ]
  },
  {
   "cell_type": "code",
   "execution_count": 80,
   "metadata": {},
   "outputs": [],
   "source": [
    "#preds_pla[0]"
   ]
  },
  {
   "cell_type": "markdown",
   "metadata": {},
   "source": [
    "**Check performance per user**"
   ]
  },
  {
   "cell_type": "code",
   "execution_count": 81,
   "metadata": {
    "scrolled": true
   },
   "outputs": [],
   "source": [
    "%%script false\n",
    "aucs = []\n",
    "npl = []\n",
    "for u in set(user_of_playlists2):\n",
    "    uind = np.where(np.array(user_of_playlists2, dtype=np.object) == u)[0]\n",
    "    uind_train = uind[uind < col_split]\n",
    "    uind_test = uind[uind >= col_split]\n",
    "    #print(uind)\n",
    "    #if len(uind_test) < 1: continue\n",
    "    print('--------------------')\n",
    "    print('USER:', u)\n",
    "    print('#train: %d, #test: %d' % (len(uind_train), len(uind_test)))\n",
    "    #preds_test = [Y_pla[isnanmat[:, col], col] for col in uind_test]\n",
    "    #gts_test = [Y[isnanmat[:, col], col] for col in uind_test]\n",
    "    #print('Dev set:')\n",
    "    #auc, ncol = eval_pl(gts_test, preds_test, useLoop=True)\n",
    "    #aucs.append(auc)\n",
    "    #npl.append(ncol)\n",
    "    print('Training set:')\n",
    "    auc_trn, ncol_trn = eval_pl(Y[:, uind_train], Y_pla[:, uind_train])\n",
    "    aucs.append(auc_trn)\n",
    "    npl.append(ncol_trn)\n",
    "    print()"
   ]
  },
  {
   "cell_type": "code",
   "execution_count": 82,
   "metadata": {},
   "outputs": [],
   "source": [
    "%%script false\n",
    "plt.plot(npl, aucs, 'b.')\n",
    "plt.ylim(0.4, 1.0)\n",
    "split = 'train'\n",
    "plt.xlabel('#playlist in training set')\n",
    "plt.ylabel('AUC (%s)' % split)\n",
    "plt.title('Playlist augmentation task: No reg. (%s)' % split)"
   ]
  },
  {
   "cell_type": "markdown",
   "metadata": {},
   "source": [
    "**Check the if the regulariser is effective**"
   ]
  },
  {
   "cell_type": "code",
   "execution_count": 83,
   "metadata": {},
   "outputs": [],
   "source": [
    "%%script false\n",
    "rows, cols = np.nonzero(same_user_mat)\n",
    "for row, col in zip(rows, cols):\n",
    "    diff = pla.W[row] - pla.W[col]\n",
    "    print('%g' % np.sqrt(np.dot(pla.W[row], pla.W[row])))\n",
    "    print('%g' % np.sqrt(np.dot(pla.W[col], pla.W[col])))\n",
    "    print('%g' % np.sqrt(np.dot(diff, diff)))\n",
    "    print('------------------------------')"
   ]
  },
  {
   "cell_type": "markdown",
   "metadata": {},
   "source": [
    "Compute matrix $M$ such that $M_{jk} = \\sqrt{(w_j - w_k)^\\top (w_j - w_k)}, \\forall j, k$."
   ]
  },
  {
   "cell_type": "code",
   "execution_count": 84,
   "metadata": {},
   "outputs": [],
   "source": [
    "%%script false\n",
    "A = np.dot(pla.W, pla.W.T)\n",
    "B = np.tile(np.diag(A), (A.shape[0], 1))\n",
    "M = np.sqrt(-2 * A + (B + B.T))"
   ]
  },
  {
   "cell_type": "markdown",
   "metadata": {},
   "source": [
    "Normalise $M$ by the vector with maximum norm in $W$."
   ]
  },
  {
   "cell_type": "code",
   "execution_count": 85,
   "metadata": {},
   "outputs": [],
   "source": [
    "#aa = np.arange(6).reshape(3, 2)\n",
    "#np.einsum('ij,ij->i', aa, aa)"
   ]
  },
  {
   "cell_type": "code",
   "execution_count": 86,
   "metadata": {},
   "outputs": [],
   "source": [
    "%%script false\n",
    "denorm = np.sqrt(np.einsum('ij,ij->i', pla.W, pla.W))  # compute the norm for each row in W\n",
    "M1 = M / np.max(denorm)"
   ]
  },
  {
   "cell_type": "code",
   "execution_count": 87,
   "metadata": {},
   "outputs": [],
   "source": [
    "%%script false\n",
    "plt.matshow(M1)"
   ]
  },
  {
   "cell_type": "code",
   "execution_count": 88,
   "metadata": {},
   "outputs": [],
   "source": [
    "%%script false\n",
    "rows, cols = np.nonzero(same_user_mat)\n",
    "M2 = M1[rows, cols]\n",
    "print('Min: %.5f, Max: %.5f, Mean: %.5f, Std: %.5f' % (np.min(M2), np.max(M2), np.mean(M2), np.std(M2)))"
   ]
  },
  {
   "cell_type": "code",
   "execution_count": 89,
   "metadata": {},
   "outputs": [],
   "source": [
    "%%script false\n",
    "mat = same_user_mat.copy()\n",
    "np.fill_diagonal(mat, 1)   # remove the diagnoal from consideration\n",
    "rows, cols = np.where(mat == 0)\n",
    "M3 = M1[rows, cols]\n",
    "print('Min: %.5f, Max: %.5f, Mean: %.5f, Std: %.5f' % (np.min(M3), np.max(M3), np.mean(M3), np.std(M3)))"
   ]
  }
 ],
 "metadata": {
  "kernelspec": {
   "display_name": "Python 3",
   "language": "python",
   "name": "python3"
  },
  "language_info": {
   "codemirror_mode": {
    "name": "ipython",
    "version": 3
   },
   "file_extension": ".py",
   "mimetype": "text/x-python",
   "name": "python",
   "nbconvert_exporter": "python",
   "pygments_lexer": "ipython3",
   "version": "3.6.4"
  }
 },
 "nbformat": 4,
 "nbformat_minor": 2
}
