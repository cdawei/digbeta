{
 "cells": [
  {
   "cell_type": "markdown",
   "metadata": {},
   "source": [
    "# Multi-label classification -- bottom push loss"
   ]
  },
  {
   "cell_type": "code",
   "execution_count": 1,
   "metadata": {},
   "outputs": [],
   "source": [
    "%matplotlib inline\n",
    "%load_ext line_profiler\n",
    "%load_ext memory_profiler\n",
    "%load_ext autoreload\n",
    "%autoreload 2\n",
    "\n",
    "import os, sys, time\n",
    "import pickle as pkl\n",
    "import numpy as np\n",
    "import pandas as pd\n",
    "\n",
    "from scipy.optimize import minimize\n",
    "from scipy.optimize import check_grad\n",
    "from scipy.special import logsumexp\n",
    "from scipy.special import expit as sigmoid\n",
    "\n",
    "from sklearn.base import BaseEstimator\n",
    "from sklearn.pipeline import make_pipeline\n",
    "from sklearn.model_selection import train_test_split\n",
    "from sklearn.model_selection import GridSearchCV\n",
    "from sklearn.metrics import classification_report, f1_score, make_scorer, label_ranking_loss\n",
    "\n",
    "import matplotlib.pyplot as plt\n",
    "from matplotlib.ticker import NullFormatter\n",
    "import seaborn as sns\n",
    "from joblib import Parallel, delayed"
   ]
  },
  {
   "cell_type": "code",
   "execution_count": 32,
   "metadata": {},
   "outputs": [],
   "source": [
    "sys.path.append('src')\n",
    "from evaluate import avgPrecisionK, evaluatePrecision, evaluateF1, evaluateRankingLoss, f1_score_nowarn, calcLoss\n",
    "from datasets import create_dataset, dataset_names, nLabels_dict\n",
    "from util import plot_loss"
   ]
  },
  {
   "cell_type": "code",
   "execution_count": 3,
   "metadata": {},
   "outputs": [
    {
     "data": {
      "text/plain": [
       "['yeast', 'scene', 'bibtex', 'bookmarks', 'delicious', 'mediamill']"
      ]
     },
     "execution_count": 3,
     "metadata": {},
     "output_type": "execute_result"
    }
   ],
   "source": [
    "dataset_names"
   ]
  },
  {
   "cell_type": "code",
   "execution_count": 4,
   "metadata": {},
   "outputs": [],
   "source": [
    "data_ix = 2"
   ]
  },
  {
   "cell_type": "code",
   "execution_count": 5,
   "metadata": {},
   "outputs": [
    {
     "name": "stdout",
     "output_type": "stream",
     "text": [
      "bibtex 159\n"
     ]
    }
   ],
   "source": [
    "dataset_name = dataset_names[data_ix]\n",
    "nLabels = nLabels_dict[dataset_name]\n",
    "print(dataset_name, nLabels)"
   ]
  },
  {
   "cell_type": "code",
   "execution_count": 6,
   "metadata": {},
   "outputs": [],
   "source": [
    "data_dir = 'data'\n",
    "SEED = 918273645\n",
    "fmodel_base = os.path.join(data_dir, 'bp-' + dataset_name + '-base.pkl')\n",
    "fmodel_prec = os.path.join(data_dir, 'bp-' + dataset_name + '-prec.pkl')\n",
    "fperf_base = os.path.join(data_dir, 'perf-bp-base.pkl')\n",
    "fperf_prec = os.path.join(data_dir, 'perf-bp-prec.pkl')"
   ]
  },
  {
   "cell_type": "markdown",
   "metadata": {},
   "source": [
    "Load dataset."
   ]
  },
  {
   "cell_type": "code",
   "execution_count": 7,
   "metadata": {},
   "outputs": [],
   "source": [
    "X_train, Y_train = create_dataset(dataset_name, train_data=True, shuffle=True, random_state=SEED)\n",
    "X_test,  Y_test  = create_dataset(dataset_name, train_data=False)"
   ]
  },
  {
   "cell_type": "markdown",
   "metadata": {},
   "source": [
    "Feature normalisation."
   ]
  },
  {
   "cell_type": "code",
   "execution_count": 8,
   "metadata": {},
   "outputs": [],
   "source": [
    "X_train_mean = np.mean(X_train, axis=0).reshape((1, -1))\n",
    "X_train_std = np.std(X_train, axis=0).reshape((1, -1)) + 10 ** (-6)\n",
    "X_train -= X_train_mean\n",
    "X_train /= X_train_std\n",
    "X_test  -= X_train_mean\n",
    "X_test  /= X_train_std"
   ]
  },
  {
   "cell_type": "code",
   "execution_count": 9,
   "metadata": {},
   "outputs": [],
   "source": [
    "def print_dataset_info(X_train, Y_train, X_test, Y_test):\n",
    "    N_train, D = X_train.shape\n",
    "    K = Y_train.shape[1]\n",
    "    N_test = X_test.shape[0]\n",
    "    print('%-45s %s' % ('Number of training examples:', '{:,}'.format(N_train)))\n",
    "    print('%-45s %s' % ('Number of test examples:', '{:,}'.format(N_test)))\n",
    "    print('%-45s %s' % ('Number of features:', '{:,}'.format(D)))\n",
    "    print('%-45s %s' % ('Number of labels:', '{:,}'.format(K)))\n",
    "    avgK_train = np.mean(np.sum(Y_train, axis=1))\n",
    "    avgK_test  = np.mean(np.sum(Y_test, axis=1))\n",
    "    print('%-45s %.3f (%.2f%%)' % ('Average number of positive labels (train):', avgK_train, 100*avgK_train / K))\n",
    "    print('%-45s %.3f (%.2f%%)' % ('Average number of positive labels (test):', avgK_test, 100*avgK_test / K))\n",
    "    #print('%-45s %.4f%%' % ('Average label occurrence (train):', np.mean(np.sum(Y_train, axis=0)) / N_train))\n",
    "    #print('%-45s %.4f%%' % ('Average label occurrence (test):', np.mean(np.sum(Y_test, axis=0)) / N_test))\n",
    "    print('%-45s %.3f%%' % ('Sparsity (percent) (train):', 100 * np.sum(Y_train) / np.prod(Y_train.shape)))\n",
    "    print('%-45s %.3f%%' % ('Sparsity (percent) (test):', 100 * np.sum(Y_test) / np.prod(Y_test.shape)))"
   ]
  },
  {
   "cell_type": "code",
   "execution_count": 10,
   "metadata": {},
   "outputs": [
    {
     "name": "stdout",
     "output_type": "stream",
     "text": [
      "Dataset:                                      bibtex\n",
      "Number of training examples:                  4,880\n",
      "Number of test examples:                      2,515\n",
      "Number of features:                           1,836\n",
      "Number of labels:                             159\n",
      "Average number of positive labels (train):    2.380 (1.50%)\n",
      "Average number of positive labels (test):     2.444 (1.54%)\n",
      "Sparsity (percent) (train):                   1.497%\n",
      "Sparsity (percent) (test):                    1.537%\n"
     ]
    }
   ],
   "source": [
    "print('%-45s %s' % ('Dataset:', dataset_name))\n",
    "print_dataset_info(X_train, Y_train, X_test, Y_test)"
   ]
  },
  {
   "cell_type": "markdown",
   "metadata": {},
   "source": [
    "## bottom-push loss"
   ]
  },
  {
   "cell_type": "markdown",
   "metadata": {},
   "source": [
    "Multi-label learning with bottom push loss."
   ]
  },
  {
   "cell_type": "code",
   "execution_count": 11,
   "metadata": {},
   "outputs": [],
   "source": [
    "def obj_bottompush(w, X, Y, C, r=1, weighting=True):\n",
    "    \"\"\"\n",
    "        Objective of bottom push loss for examples\n",
    "        \n",
    "        Input:\n",
    "            - w: current weight vector, flattened L x D\n",
    "            - X: feature matrix, N x D\n",
    "            - Y: label matrix,   N x K\n",
    "            - r: parameter for log-sum-exp approximation\n",
    "            - weighting: if True, divide K+ in top-push loss\n",
    "    \"\"\"\n",
    "    N, D = X.shape\n",
    "    K = Y.shape[1]\n",
    "    assert(w.shape[0] == K * D)\n",
    "    assert(r > 0)\n",
    "    \n",
    "    W = w.reshape(K, D)  # theta\n",
    "    \n",
    "    J = 0.0  # cost\n",
    "    G = np.zeros_like(W)  # gradient matrix\n",
    "    \n",
    "    if weighting is True:\n",
    "        KNegAll = np.sum(1-Y, axis=1)  # number of negative labels for each example, N by 1\n",
    "    else:\n",
    "        KNegAll = np.ones(N)\n",
    "        \n",
    "    A1_diag = 1.0 / KNegAll\n",
    "    A1Y = (1-Y) * A1_diag[:, None]\n",
    "    \n",
    "    T1 = np.dot(X, W.T)  # N by K\n",
    "    m0 = 0.5 * (np.max(T1) + np.min(T1))\n",
    "    m1 = r * m0\n",
    "    #print('----------------')\n",
    "    #print(np.min(T1), np.max(T1), m0)\n",
    "    #print(np.min(r*T1), np.max(r*T1), m1)\n",
    "    #print(np.min(r * T1 - m1), np.max(r * T1 - m1))\n",
    "    T2 = np.multiply(Y, np.exp(-r * T1 + m1))  # N by K\n",
    "    B1_tilde_diag = np.dot(T2, np.ones(K))\n",
    "    #print(np.max(B_tilde_diag), np.min(B_tilde_diag))  # big numbers here, can cause overflow in T3\n",
    "    \n",
    "    #T3 = np.exp(-T1 + m0) * np.power(B_tilde_diag, 1.0 / r)[:, None]\n",
    "    #T4 = np.multiply(AY, np.log1p(T3))\n",
    "    T3 = (T1 - m0) + (1.0 / r) * np.log(B1_tilde_diag)[:, None]\n",
    "    #print(np.min(T3), np.max(T3))\n",
    "    m2 = 0.5 * (np.min(T3) + np.max(T3))\n",
    "    #T4 = np.logaddexp(0, T3)\n",
    "    T4 = np.logaddexp(-m2, T3-m2) + m2\n",
    "    T5 = np.multiply(A1Y, T4)  \n",
    "    \n",
    "    J = np.dot(w, w) * 0.5 / C + np.dot(np.ones(N), np.dot(T5, np.ones(K))) / N\n",
    "    \n",
    "    #T5 = 1.0 / (1.0 + np.divide(1.0, T3))\n",
    "    #T5 = np.divide(T3, 1 + T3)\n",
    "    T6 = np.exp(T3 - T4)\n",
    "    G1 = np.dot(np.multiply(A1Y, T6).T, X)\n",
    "    \n",
    "    #print(np.max(T2), np.min(T2), np.max(T7), np.min(T7))\n",
    "    O1_diag = np.dot(np.multiply(1-Y, T6), np.ones(K))\n",
    "    T7 = A1_diag * (1.0 / B1_tilde_diag) * O1_diag\n",
    "    T8 = T2 * T7[:, None]\n",
    "    G2 = np.dot(T8.T, -X)\n",
    "    \n",
    "    G = W / C + (G1 + G2) / N\n",
    "    \n",
    "    return (J, G.ravel())"
   ]
  },
  {
   "cell_type": "code",
   "execution_count": 12,
   "metadata": {},
   "outputs": [],
   "source": [
    "def obj_bottompush_loop(w, X, Y, C=1, r=1, weighting=True):\n",
    "    \"\"\"\n",
    "        Objective of bottom push loss for examples\n",
    "        \n",
    "        Input:\n",
    "            - w: current weight vector, flattened L x D\n",
    "            - X: feature matrix, N x D\n",
    "            - Y: label matrix,   N x K\n",
    "            - C: regularisation constant, C = 1 / lambda\n",
    "            - r: parameter for log-sum-exp approximation\n",
    "    \"\"\"\n",
    "    N, D = X.shape\n",
    "    K = Y.shape[1]\n",
    "    assert(w.shape[0] == K * D)\n",
    "    assert(r > 0)\n",
    "    \n",
    "    W = w.reshape(K, D)  # theta\n",
    "    \n",
    "    J = 0.0  # cost\n",
    "    G = np.zeros_like(W)  # gradient matrix\n",
    "    if weighting is True:\n",
    "        KNegAll = np.sum(1-Y, axis=1)  # number of negative labels for each example, N by 1\n",
    "    else:\n",
    "        KNegAll = np.ones(N)\n",
    "    \n",
    "    for n in range(N):\n",
    "        for k in range(K):\n",
    "            if Y[n, k] == 0:\n",
    "                s1 = np.sum([np.exp(-r * np.dot(W[i, :] - W[k, :], X[n, :])) for i in range(K) if Y[n, i] == 1])\n",
    "                J += np.log1p(np.power(s1, 1.0 / r)) / KNegAll[n]\n",
    "    J = np.dot(w, w) * 0.5 / C + J / N\n",
    "    \n",
    "    for k in range(K):\n",
    "        for n in range(N):\n",
    "            if Y[n, k] == 0:\n",
    "                t1 = np.sum([np.exp(-r * np.dot(W[i, :] - W[k, :], X[n, :])) for i in range(K) if Y[n, i] == 1])\n",
    "                t2 = 1.0 / (1 + np.power(t1, -1.0 / r))\n",
    "                G[k, :] = G[k, :] + X[n, :] * t2 / KNegAll[n]\n",
    "            else:\n",
    "                sk = 0.0\n",
    "                for k1 in range(K):\n",
    "                    if Y[n, k1] == 0:\n",
    "                        t3 = np.sum([np.exp(-r * np.dot(W[i,:] - W[k1, :], X[n, :])) \\\n",
    "                                     for i in range(K) if Y[n, i] == 1])\n",
    "                        t4 = np.exp(-r * np.dot(W[k, :] - W[k1, :], X[n, :]))\n",
    "                        sk += t4 / (np.power(t3, 1.0 - 1.0 / r) + t3)\n",
    "                G[k, :] = G[k, :] - X[n, :] * sk / KNegAll[n]\n",
    "                        \n",
    "    G = W / C + G / N\n",
    "    \n",
    "    return (J, G.ravel())"
   ]
  },
  {
   "cell_type": "markdown",
   "metadata": {},
   "source": [
    "Check gradient"
   ]
  },
  {
   "cell_type": "code",
   "execution_count": 13,
   "metadata": {},
   "outputs": [],
   "source": [
    "#w0 = 0.001 * np.random.randn(Y_train.shape[1] * X_train.shape[1])\n",
    "#check_grad(lambda w: obj_bottompush(w, X_train, Y_train, C=10, r=8)[0], \n",
    "#           lambda w: obj_bottompush(w, X_train, Y_train, C=10, r=8)[1], w0)"
   ]
  },
  {
   "cell_type": "code",
   "execution_count": 14,
   "metadata": {},
   "outputs": [],
   "source": [
    "def cmp_loop_vec(func_loop, func_vec, X_train, Y_train, r=8):\n",
    "    print('%15s %15s %15s %15s %15s' % ('C','J_Diff', 'J_loop', 'J_vec', 'G_Diff'))\n",
    "    w0 = 0.001 * np.random.randn(Y_train.shape[1] * X_train.shape[1])\n",
    "    for e in range(-6, 10):\n",
    "        C = 10**(e)\n",
    "        #w0 = init_var(X_train, Y_train)\n",
    "        J,  G  = func_loop(w0, X_train, Y_train, C, r=r)\n",
    "        J1, G1 = func_vec(w0, X_train, Y_train, C, r=r)\n",
    "        Gdiff = G1 - G\n",
    "        #print('%-15g %-15g %-15g' % (J1 - J, J, J1))\n",
    "        print('%15g %15g %15g %15g %15g' % (C, J1 - J, J, J1, np.dot(Gdiff, Gdiff)))"
   ]
  },
  {
   "cell_type": "code",
   "execution_count": 15,
   "metadata": {},
   "outputs": [],
   "source": [
    "def check_grad_loop(func, X_train, Y_train, r=4):\n",
    "    w0 = 0.001 * np.random.randn(Y_train.shape[1] * X_train.shape[1])\n",
    "    eps = 1.49e-08\n",
    "    w = np.zeros_like(w0)\n",
    "    for i in range(len(w0)):\n",
    "        sys.stdout.write('\\r%d / %d' % (i+1, len(w0)))\n",
    "        wi1 = w0.copy()\n",
    "        wi2 = w0.copy()\n",
    "        wi1[i] = wi1[i] - eps\n",
    "        wi2[i] = wi2[i] + eps\n",
    "        J1, _ = func(wi1, X_train, Y_train, r=r)\n",
    "        J2, _ = func(wi2, X_train, Y_train, r=r)\n",
    "        w[i] = (J2 - J1) / (2 * eps)\n",
    "        #print(w[i])\n",
    "    J, w1 = obj_toppush_loop(w0, X_train, Y_train, C)\n",
    "    diff = w1 - w\n",
    "    return np.sqrt(np.dot(diff, diff))"
   ]
  },
  {
   "cell_type": "code",
   "execution_count": 16,
   "metadata": {},
   "outputs": [],
   "source": [
    "#cmp_loop_vec(obj_bottompush_loop, obj_bottompush, X_train, Y_train)"
   ]
  },
  {
   "cell_type": "code",
   "execution_count": 26,
   "metadata": {},
   "outputs": [],
   "source": [
    "class MLC_bottompush(BaseEstimator):\n",
    "    \"\"\"All methods are necessary for a scikit-learn estimator\"\"\"\n",
    "    \n",
    "    def __init__(self, C=1, r=1, weighting=True):\n",
    "        \"\"\"Initialisation\"\"\"\n",
    "        \n",
    "        assert C > 0\n",
    "        assert r > 0\n",
    "        assert type(weighting) == bool\n",
    "        self.C = C\n",
    "        self.r = r\n",
    "        self.weighting = weighting\n",
    "        self.obj_func = obj_bottompush\n",
    "        self.trained = False\n",
    "        \n",
    "    def fit(self, X_train, Y_train):\n",
    "        \"\"\"Model fitting by optimising the objective\"\"\"\n",
    "        opt_method = 'L-BFGS-B' #'BFGS' #'Newton-CG'\n",
    "        options = {'disp': 1, 'maxiter': 10**5, 'maxfun': 10**5} # , 'iprint': 99}\n",
    "        print('\\nC: %g, r: %g, weighting: %s' % (self.C, self.r, self.weighting))\n",
    "            \n",
    "        N, D = X_train.shape\n",
    "        K = Y_train.shape[1]\n",
    "        #w0 = np.random.rand(K * D) - 0.5  # initial guess in range [-1, 1]\n",
    "        w0 = 0.001 * np.random.randn(K * D)\n",
    "        opt = minimize(self.obj_func, w0, args=(X_train, Y_train, self.C, self.r, self.weighting), \\\n",
    "                       method=opt_method, jac=True, options=options)\n",
    "        if opt.success is True:\n",
    "            self.W = np.reshape(opt.x, (K, D))\n",
    "            self.trained = True\n",
    "        else:\n",
    "            sys.stderr.write('Optimisation failed')\n",
    "            print(opt.items())\n",
    "            self.trained = False\n",
    "            \n",
    "            \n",
    "    def decision_function(self, X_test):\n",
    "        \"\"\"Make predictions (score is real number)\"\"\"\n",
    "        \n",
    "        assert self.trained is True, \"Can't make prediction before training\"\n",
    "        D = X_test.shape[1]\n",
    "        return np.dot(X_test, self.W.T)\n",
    "        \n",
    "    \n",
    "    def predict(self, X_test):\n",
    "        return self.decision_function(X_test)\n",
    "    #    \"\"\"Make predictions (score is boolean)\"\"\"   \n",
    "    #    preds = sigmoid(self.decision_function(X_test))\n",
    "    #    #return (preds >= 0)\n",
    "    #    assert self.TH is not None\n",
    "    #    return preds >= self.TH        \n",
    "        \n",
    "    # inherit from BaseEstimator instead of re-implement\n",
    "    #\n",
    "    #def get_params(self, deep = True):\n",
    "    #def set_params(self, **params):"
   ]
  },
  {
   "cell_type": "code",
   "execution_count": 18,
   "metadata": {},
   "outputs": [],
   "source": [
    "def dump_results(predictor, X_train, Y_train, X_test, Y_test, fname, rankingLoss=False):\n",
    "    \"\"\"\n",
    "        Compute and save performance results\n",
    "    \"\"\"\n",
    "    preds_train = predictor.decision_function(X_train)\n",
    "    preds_test  = predictor.decision_function(X_test)\n",
    "    \n",
    "    print('Training set:')\n",
    "    perf_dict_train = evaluatePrecision(Y_train, preds_train, verbose=1)\n",
    "    print()\n",
    "    print('Test set:')\n",
    "    perf_dict_test = evaluatePrecision(Y_test, preds_test, verbose=1)\n",
    "    \n",
    "    if rankingLoss is True:\n",
    "        print()\n",
    "        print('Training set:')\n",
    "        perf_dict_train.update(evaluateRankingLoss(Y_train, preds_train))\n",
    "        print(label_ranking_loss(Y_train, preds_train))\n",
    "        print()\n",
    "        print('Test set:')\n",
    "        perf_dict_test.update(evaluateRankingLoss(Y_test, preds_test))\n",
    "        print(label_ranking_loss(Y_test, preds_test))\n",
    "\n",
    "    # compute F1 score w.r.t. different thresholds\n",
    "    #TH1 = predictor.cv_results_['mean_test_TH'][clf.best_index_]\n",
    "    #TH2 = np.mean(Y_train, axis=0)\n",
    "    #TH3 = np.mean(TH2)\n",
    "    \n",
    "    #preds_train_bin = sigmoid(preds_train)\n",
    "    #preds_test_bin  = sigmoid(preds_test)\n",
    "    \n",
    "    #F1_train1 = f1_score_nowarn(Y_train, sigmoid(preds_train) >= TH1, average='samples')\n",
    "    #F1_test1  = f1_score_nowarn(Y_test, sigmoid(preds_test) >= TH1, average='samples')\n",
    "    #print('\\nTrain: %.4f, %f' % (F1_train1, f1_score(Y_train, sigmoid(preds_train) >= TH1, average='samples')))\n",
    "    #print('\\nTest : %.4f, %f' % (F1_test1, f1_score(Y_test, sigmoid(preds_test) >= TH1, average='samples')))\n",
    "    \n",
    "    #F1_train2 = f1_score_nowarn(Y_train, (preds_train_bin - TH2) >= 0, average='samples')\n",
    "    #F1_test2  = f1_score_nowarn(Y_test, (preds_test_bin - TH2) >= 0, average='samples')\n",
    "    #print('\\nTrain: %.4f, %f' % (F1_train2, f1_score(Y_train, (preds_train_bin - TH2) >= 0, average='samples')))\n",
    "    #print('\\nTest : %.4f, %f' % (F1_test2, f1_score(Y_test, (preds_test_bin - TH2) >= 0, average='samples')))\n",
    "    \n",
    "    #F1_train3 = f1_score_nowarn(Y_train, preds_train_bin >= TH3, average='samples')\n",
    "    #F1_test3  = f1_score_nowarn(Y_test, preds_test_bin >= TH3, average='samples')\n",
    "    #print('\\nTrain: %.4f, %f' % (F1_train3, f1_score(Y_train, preds_train_bin >= TH3, average='samples')))\n",
    "    #print('\\nTest : %.4f, %f' % (F1_test3, f1_score(Y_test, preds_test_bin >= TH3, average='samples')))\n",
    "    \n",
    "    #perf_dict_train.update({'F1': [(F1_train1,), (F1_train2,), (F1_train3,)]})\n",
    "    #perf_dict_test.update( {'F1': [(F1_test1,),  (F1_test2,),  (F1_test3,)]})\n",
    "    #perf_dict_train.update({'F1': [(F1_train2,), (F1_train3,)]})\n",
    "    #perf_dict_test.update( {'F1': [(F1_test2,),  (F1_test3,)]})\n",
    "    \n",
    "    perf_dict = {'Train': perf_dict_train, 'Test': perf_dict_test}\n",
    "    if os.path.exists(fname):\n",
    "        _dict = pkl.load(open(fname, 'rb'))\n",
    "        if dataset_name not in _dict:\n",
    "            _dict[dataset_name] = perf_dict\n",
    "    else:\n",
    "        _dict = {dataset_name: perf_dict}\n",
    "    pkl.dump(_dict, open(fname, 'wb'))\n",
    "    \n",
    "    print()\n",
    "    print(pkl.load(open(fname, 'rb')))"
   ]
  },
  {
   "cell_type": "code",
   "execution_count": 19,
   "metadata": {},
   "outputs": [
    {
     "data": {
      "text/plain": [
       "{'divide': 'ignore', 'invalid': 'ignore', 'over': 'ignore', 'under': 'ignore'}"
      ]
     },
     "execution_count": 19,
     "metadata": {},
     "output_type": "execute_result"
    }
   ],
   "source": [
    "old_settings = np.seterr(all='ignore')  # seterr to known value\n",
    "np.seterr(all='raise')\n",
    "#np.seterr(all='ignore')\n",
    "#np.seterr(**old_settings)  # restore settings"
   ]
  },
  {
   "cell_type": "code",
   "execution_count": 20,
   "metadata": {},
   "outputs": [],
   "source": [
    "#%memit model.fit(X_train[:30], Y_train[:30])\n",
    "#%mprun -f minimize model.fit(X_train[:100], Y_train[:100])\n",
    "#%mprun -f _minimize_slsqp model.fit(X_train[:10], Y_train[:10])"
   ]
  },
  {
   "cell_type": "markdown",
   "metadata": {},
   "source": [
    "Default model."
   ]
  },
  {
   "cell_type": "code",
   "execution_count": 21,
   "metadata": {
    "scrolled": true
   },
   "outputs": [],
   "source": [
    "%%script false\n",
    "if os.path.exists(fmodel_base):\n",
    "    clf = pkl.load(open(fmodel_base, 'rb'))\n",
    "else:\n",
    "    clf = clf = MLC_hybrid()\n",
    "    clf.fit(X_train, Y_train)\n",
    "    pkl.dump(clf, open(fmodel_base, 'wb'))"
   ]
  },
  {
   "cell_type": "code",
   "execution_count": 22,
   "metadata": {},
   "outputs": [],
   "source": [
    "#dump_results(clf, X_train, Y_train, X_test, Y_test, fperf_base)"
   ]
  },
  {
   "cell_type": "markdown",
   "metadata": {},
   "source": [
    "Cross validation w.r.t. average precision@K."
   ]
  },
  {
   "cell_type": "code",
   "execution_count": 23,
   "metadata": {},
   "outputs": [],
   "source": [
    "#ranges = range(-6, 7)\n",
    "#ranges = range(-6, 5)\n",
    "#parameters = [{'C': sorted([10**(e) for e in ranges] + [3 * 10**(e) for e in ranges]),\n",
    "parameters = [{'C': [1e-3, 3e-3, 0.01, 0.03, 0.1, 0.3, 1, 3, 10, 30, 100, 300, 1e3, 3e3],\n",
    "               'r': [8],\n",
    "               'weighting': [True, False],\n",
    "              }]\n",
    "scorer = {'Prec': make_scorer(avgPrecisionK)}"
   ]
  },
  {
   "cell_type": "code",
   "execution_count": 27,
   "metadata": {
    "scrolled": true
   },
   "outputs": [
    {
     "name": "stdout",
     "output_type": "stream",
     "text": [
      "\n",
      "C: 0.001, r: 8, weighting: True\n",
      "\n",
      "C: 0.001, r: 8, weighting: True\n",
      "\n",
      "C: 0.001, r: 8, weighting: True\n",
      "\n",
      "C: 0.001, r: 8, weighting: True\n",
      "\n",
      "C: 0.001, r: 8, weighting: True\n",
      "\n",
      "C: 0.001, r: 8, weighting: False\n",
      "\n",
      "C: 0.001, r: 8, weighting: False\n",
      "\n",
      "C: 0.001, r: 8, weighting: False\n",
      "\n",
      "C: 0.001, r: 8, weighting: False\n",
      "\n",
      "C: 0.001, r: 8, weighting: False\n",
      "\n",
      "C: 0.003, r: 8, weighting: True\n",
      "\n",
      "C: 0.003, r: 8, weighting: True\n",
      "\n",
      "C: 0.003, r: 8, weighting: True\n",
      "\n",
      "C: 0.003, r: 8, weighting: True\n",
      "\n",
      "C: 0.003, r: 8, weighting: True\n",
      "\n",
      "C: 0.003, r: 8, weighting: False\n",
      "\n",
      "C: 0.003, r: 8, weighting: False\n",
      "\n",
      "C: 0.003, r: 8, weighting: False\n",
      "\n",
      "C: 0.003, r: 8, weighting: False\n",
      "\n",
      "C: 0.003, r: 8, weighting: False\n",
      "\n",
      "C: 0.01, r: 8, weighting: True\n",
      "\n",
      "C: 0.01, r: 8, weighting: True\n",
      "\n",
      "C: 0.01, r: 8, weighting: True\n",
      "\n",
      "C: 0.01, r: 8, weighting: True\n",
      "\n",
      "C: 0.01, r: 8, weighting: True\n",
      "\n",
      "C: 0.01, r: 8, weighting: False\n",
      "\n",
      "C: 0.01, r: 8, weighting: False\n",
      "\n",
      "C: 0.01, r: 8, weighting: False\n",
      "\n",
      "C: 0.01, r: 8, weighting: False\n",
      "\n",
      "C: 0.01, r: 8, weighting: False\n",
      "\n",
      "C: 0.03, r: 8, weighting: True\n",
      "\n",
      "C: 0.03, r: 8, weighting: True\n",
      "\n",
      "C: 0.03, r: 8, weighting: True\n",
      "\n",
      "C: 0.03, r: 8, weighting: True\n",
      "\n",
      "C: 0.03, r: 8, weighting: True\n",
      "\n",
      "C: 0.03, r: 8, weighting: False\n",
      "\n",
      "C: 0.03, r: 8, weighting: False\n",
      "\n",
      "C: 0.03, r: 8, weighting: False\n",
      "\n",
      "C: 0.03, r: 8, weighting: False\n",
      "\n",
      "C: 0.03, r: 8, weighting: False\n",
      "\n",
      "C: 0.1, r: 8, weighting: True\n",
      "\n",
      "C: 0.1, r: 8, weighting: True\n",
      "\n",
      "C: 0.1, r: 8, weighting: True\n",
      "\n",
      "C: 0.1, r: 8, weighting: True\n",
      "\n",
      "C: 0.1, r: 8, weighting: True\n",
      "\n",
      "C: 0.1, r: 8, weighting: False\n",
      "\n",
      "C: 0.1, r: 8, weighting: False\n",
      "\n",
      "C: 0.1, r: 8, weighting: False\n",
      "\n",
      "C: 0.1, r: 8, weighting: False\n",
      "\n",
      "C: 0.1, r: 8, weighting: False\n",
      "\n",
      "C: 0.3, r: 8, weighting: True\n",
      "\n",
      "C: 0.3, r: 8, weighting: True\n",
      "\n",
      "C: 0.3, r: 8, weighting: True\n",
      "\n",
      "C: 0.3, r: 8, weighting: True\n",
      "\n",
      "C: 0.3, r: 8, weighting: True\n",
      "\n",
      "C: 0.3, r: 8, weighting: False\n",
      "\n",
      "C: 0.3, r: 8, weighting: False\n",
      "\n",
      "C: 0.3, r: 8, weighting: False\n",
      "\n",
      "C: 0.3, r: 8, weighting: False\n",
      "\n",
      "C: 0.3, r: 8, weighting: False\n",
      "\n",
      "C: 1, r: 8, weighting: True\n",
      "\n",
      "C: 1, r: 8, weighting: True\n",
      "\n",
      "C: 1, r: 8, weighting: True\n",
      "\n",
      "C: 1, r: 8, weighting: True\n",
      "\n",
      "C: 1, r: 8, weighting: True\n",
      "\n",
      "C: 1, r: 8, weighting: False\n",
      "\n",
      "C: 1, r: 8, weighting: False\n",
      "\n",
      "C: 1, r: 8, weighting: False\n",
      "\n",
      "C: 1, r: 8, weighting: False\n",
      "\n",
      "C: 1, r: 8, weighting: False\n",
      "\n",
      "C: 3, r: 8, weighting: True\n",
      "\n",
      "C: 3, r: 8, weighting: True\n",
      "\n",
      "C: 3, r: 8, weighting: True\n",
      "\n",
      "C: 3, r: 8, weighting: True\n",
      "\n",
      "C: 3, r: 8, weighting: True\n",
      "\n",
      "C: 3, r: 8, weighting: False\n",
      "\n",
      "C: 3, r: 8, weighting: False\n",
      "\n",
      "C: 3, r: 8, weighting: False\n",
      "\n",
      "C: 3, r: 8, weighting: False\n",
      "\n",
      "C: 3, r: 8, weighting: False\n",
      "\n",
      "C: 10, r: 8, weighting: True\n",
      "\n",
      "C: 10, r: 8, weighting: True\n",
      "\n",
      "C: 10, r: 8, weighting: True\n",
      "\n",
      "C: 10, r: 8, weighting: True\n",
      "\n",
      "C: 10, r: 8, weighting: True\n",
      "\n",
      "C: 10, r: 8, weighting: False\n",
      "\n",
      "C: 10, r: 8, weighting: False\n",
      "\n",
      "C: 10, r: 8, weighting: False\n",
      "\n",
      "C: 10, r: 8, weighting: False\n",
      "\n",
      "C: 10, r: 8, weighting: False\n",
      "\n",
      "C: 30, r: 8, weighting: True\n",
      "\n",
      "C: 30, r: 8, weighting: True\n",
      "\n",
      "C: 30, r: 8, weighting: True\n",
      "\n",
      "C: 30, r: 8, weighting: True\n",
      "\n",
      "C: 30, r: 8, weighting: True\n",
      "\n",
      "C: 30, r: 8, weighting: False\n",
      "\n",
      "C: 30, r: 8, weighting: False\n",
      "\n",
      "C: 30, r: 8, weighting: False\n",
      "\n",
      "C: 30, r: 8, weighting: False\n",
      "\n",
      "C: 30, r: 8, weighting: False\n",
      "\n",
      "C: 100, r: 8, weighting: True\n",
      "\n",
      "C: 100, r: 8, weighting: True\n",
      "\n",
      "C: 100, r: 8, weighting: True\n",
      "\n",
      "C: 100, r: 8, weighting: True\n",
      "\n",
      "C: 100, r: 8, weighting: True\n",
      "\n",
      "C: 100, r: 8, weighting: False\n",
      "\n",
      "C: 100, r: 8, weighting: False\n",
      "\n",
      "C: 100, r: 8, weighting: False\n",
      "\n",
      "C: 100, r: 8, weighting: False\n",
      "\n",
      "C: 100, r: 8, weighting: False\n",
      "\n",
      "C: 300, r: 8, weighting: True\n",
      "\n",
      "C: 300, r: 8, weighting: True\n",
      "\n",
      "C: 300, r: 8, weighting: True\n",
      "\n",
      "C: 300, r: 8, weighting: True\n",
      "\n",
      "C: 300, r: 8, weighting: True\n",
      "\n",
      "C: 300, r: 8, weighting: False\n",
      "\n",
      "C: 300, r: 8, weighting: False\n",
      "\n",
      "C: 300, r: 8, weighting: False\n",
      "\n",
      "C: 300, r: 8, weighting: False\n",
      "\n",
      "C: 300, r: 8, weighting: False\n",
      "\n",
      "C: 1000, r: 8, weighting: True\n",
      "\n",
      "C: 1000, r: 8, weighting: True\n",
      "\n",
      "C: 1000, r: 8, weighting: True\n",
      "\n",
      "C: 1000, r: 8, weighting: True\n",
      "\n",
      "C: 1000, r: 8, weighting: True\n",
      "\n",
      "C: 1000, r: 8, weighting: False\n",
      "\n",
      "C: 1000, r: 8, weighting: False\n",
      "\n",
      "C: 1000, r: 8, weighting: False\n",
      "\n",
      "C: 1000, r: 8, weighting: False\n",
      "\n",
      "C: 1000, r: 8, weighting: False\n",
      "\n",
      "C: 3000, r: 8, weighting: True\n",
      "\n",
      "C: 3000, r: 8, weighting: True\n",
      "\n",
      "C: 3000, r: 8, weighting: True\n",
      "\n",
      "C: 3000, r: 8, weighting: True\n",
      "\n",
      "C: 3000, r: 8, weighting: True\n",
      "\n",
      "C: 3000, r: 8, weighting: False\n",
      "\n",
      "C: 3000, r: 8, weighting: False\n",
      "\n",
      "C: 3000, r: 8, weighting: False\n",
      "\n",
      "C: 3000, r: 8, weighting: False\n",
      "\n",
      "C: 3000, r: 8, weighting: False\n",
      "\n",
      "C: 1, r: 8, weighting: False\n"
     ]
    }
   ],
   "source": [
    "if not os.path.exists(fmodel_prec):\n",
    "    clf = GridSearchCV(MLC_bottompush(), parameters, scoring=scorer, cv=5, n_jobs=1, refit='Prec')\n",
    "    clf.fit(X_train, Y_train)\n",
    "    #pkl.dump(clf, open(fmodel_prec, 'wb'))\n",
    "else:\n",
    "    clf = pkl.load(open(fmodel_prec, 'rb'))"
   ]
  },
  {
   "cell_type": "code",
   "execution_count": 28,
   "metadata": {},
   "outputs": [
    {
     "name": "stdout",
     "output_type": "stream",
     "text": [
      "Training set:\n",
      "Average Precision@3: 0.6260, 0.004\n",
      "Average Precision@5: 0.4378, 0.004\n",
      "Average Precision@10: 0.2334, 0.002\n",
      "Average Precision@K: 0.9373, 0.003\n",
      "\n",
      "Test set:\n",
      "Average Precision@3: 0.3956, 0.006\n",
      "Average Precision@5: 0.2909, 0.004\n",
      "Average Precision@10: 0.1796, 0.003\n",
      "Average Precision@K: 0.5040, 0.008\n",
      "\n",
      "Training set:\n",
      "Average RankingLoss: 1.0244, 0.093\n",
      "0.0017693737971\n",
      "\n",
      "Test set:\n",
      "Average RankingLoss: 23.0398, 0.872\n",
      "0.0559045779483\n",
      "\n",
      "{'bibtex': {'Train': {'Precision@3': (0.62595628415300542, 0.0040613135652862887), 'Precision@5': (0.437827868852459, 0.0035630819409572267), 'Precision@10': (0.23340163934426231, 0.0021711211383909647), 'Precision@K': (0.93731985455346123, 0.0028196397401742067), 'RankingLoss': (1.0243852459016394, 0.09269276396510101)}, 'Test': {'Precision@3': (0.39562624254473161, 0.0055573892644766171), 'Precision@5': (0.29089463220675948, 0.0040404635955718559), 'Precision@10': (0.17964214711729626, 0.0025284543385536472), 'Precision@K': (0.5039756716081123, 0.0077405680207442394), 'RankingLoss': (23.039761431411531, 0.87238193647693718)}}}\n"
     ]
    }
   ],
   "source": [
    "dump_results(clf, X_train, Y_train, X_test, Y_test, fperf_prec, rankingLoss=True)"
   ]
  },
  {
   "cell_type": "code",
   "execution_count": null,
   "metadata": {},
   "outputs": [],
   "source": [
    "pkl.dump(clf, open(fmodel_prec, 'wb'))"
   ]
  },
  {
   "cell_type": "code",
   "execution_count": 29,
   "metadata": {},
   "outputs": [],
   "source": [
    "preds_train = clf.decision_function(X_train)\n",
    "tploss_train = calcLoss(Y_train, preds_train, 'TopPush', njobs=4)\n",
    "pak_train = calcLoss(Y_train, preds_train, 'Precision@K', njobs=4)"
   ]
  },
  {
   "cell_type": "code",
   "execution_count": 30,
   "metadata": {},
   "outputs": [],
   "source": [
    "preds_test = clf.decision_function(X_test)\n",
    "tploss_test = calcLoss(Y_test, preds_test, 'TopPush', njobs=4)\n",
    "pak_test = calcLoss(Y_test, preds_test, 'Precision@K', njobs=4)"
   ]
  },
  {
   "cell_type": "code",
   "execution_count": 33,
   "metadata": {},
   "outputs": [
    {
     "name": "stdout",
     "output_type": "stream",
     "text": [
      "away from diagonal portion: 0.0858606557377\n"
     ]
    },
    {
     "data": {
      "image/png": "[encoded data removed]",
      "text/plain": [
       "<matplotlib.figure.Figure at 0x7fa552b1cba8>"
      ]
     },
     "metadata": {},
     "output_type": "display_data"
    }
   ],
   "source": [
    "plot_loss(tploss_train, pak_train, 'Training set (' + dataset_name + ')')"
   ]
  },
  {
   "cell_type": "code",
   "execution_count": null,
   "metadata": {},
   "outputs": [],
   "source": [
    "tploss_train.shape"
   ]
  },
  {
   "cell_type": "code",
   "execution_count": null,
   "metadata": {},
   "outputs": [],
   "source": [
    "np.mean(tploss_train != 1-pak_train)"
   ]
  },
  {
   "cell_type": "code",
   "execution_count": null,
   "metadata": {},
   "outputs": [],
   "source": [
    "tploss_test.shape"
   ]
  },
  {
   "cell_type": "code",
   "execution_count": 34,
   "metadata": {},
   "outputs": [
    {
     "name": "stdout",
     "output_type": "stream",
     "text": [
      "away from diagonal portion: 0.285487077535\n"
     ]
    },
    {
     "data": {
      "image/png": "[encoded data removed]",
      "text/plain": [
       "<matplotlib.figure.Figure at 0x7fa552627e80>"
      ]
     },
     "metadata": {},
     "output_type": "display_data"
    }
   ],
   "source": [
    "plot_loss(tploss_test, pak_test, 'Test set (' + dataset_name + ')')"
   ]
  },
  {
   "cell_type": "code",
   "execution_count": null,
   "metadata": {},
   "outputs": [],
   "source": [
    "clf2 = MLC_hybrid(C=300, C1=2, r=8, weighting=True)\n",
    "clf2.fit(X_train, Y_train)"
   ]
  },
  {
   "cell_type": "code",
   "execution_count": null,
   "metadata": {},
   "outputs": [],
   "source": [
    "dump_results(clf2, X_train, Y_train, X_test, Y_test, fperf_prec, rankingLoss=False)"
   ]
  },
  {
   "cell_type": "code",
   "execution_count": null,
   "metadata": {},
   "outputs": [],
   "source": [
    "#f1_score_nowarn(Y_test, clf.decision_function(X_test) > 0, average='samples')"
   ]
  }
 ],
 "metadata": {
  "kernelspec": {
   "display_name": "Python 3",
   "language": "python",
   "name": "python3"
  },
  "language_info": {
   "codemirror_mode": {
    "name": "ipython",
    "version": 3
   },
   "file_extension": ".py",
   "mimetype": "text/x-python",
   "name": "python",
   "nbconvert_exporter": "python",
   "pygments_lexer": "ipython3",
   "version": "3.6.3"
  }
 },
 "nbformat": 4,
 "nbformat_minor": 2
}
