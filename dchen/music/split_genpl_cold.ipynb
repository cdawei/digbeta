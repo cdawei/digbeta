{
 "cells": [
  {
   "cell_type": "markdown",
   "metadata": {},
   "source": [
    "# Dataset split of AotM-2011/30Music playlists for playlist generation"
   ]
  },
  {
   "cell_type": "markdown",
   "metadata": {},
   "source": [
    "### When a user in test set is unknown previously (cold user)"
   ]
  },
  {
   "cell_type": "code",
   "execution_count": 1,
   "metadata": {},
   "outputs": [],
   "source": [
    "%matplotlib inline\n",
    "\n",
    "import os\n",
    "import sys\n",
    "import gzip\n",
    "import numpy as np\n",
    "import pickle as pkl\n",
    "from scipy.sparse import lil_matrix, issparse, hstack, vstack\n",
    "from collections import Counter\n",
    "import gensim\n",
    "\n",
    "import matplotlib.pyplot as plt\n",
    "import seaborn as sns\n",
    "from tqdm import tqdm"
   ]
  },
  {
   "cell_type": "code",
   "execution_count": 2,
   "metadata": {},
   "outputs": [],
   "source": [
    "np_settings0 = np.seterr(all='raise')\n",
    "RAND_SEED = 0\n",
    "n_feature_artist = 30\n",
    "plt.style.use('seaborn')"
   ]
  },
  {
   "cell_type": "code",
   "execution_count": 3,
   "metadata": {},
   "outputs": [],
   "source": [
    "datasets = ['aotm2011', '30music']\n",
    "ffeature = 'data/msd/song2feature.pkl.gz'\n",
    "fgenre = 'data/msd/song2genre.pkl.gz'\n",
    "fsong2artist = 'data/msd/song2artist.pkl.gz'\n",
    "audio_feature_indices = [20, 21, 22, 23, 24, 25, 26, 27, 28, 29, 185, 186, 187, 198, 199, 200, 201]\n",
    "test_user_ratio = 0.3"
   ]
  },
  {
   "cell_type": "code",
   "execution_count": 4,
   "metadata": {},
   "outputs": [
    {
     "name": "stdout",
     "output_type": "stream",
     "text": [
      "30music\n"
     ]
    }
   ],
   "source": [
    "dix = 1\n",
    "dataset_name = datasets[dix]\n",
    "data_dir = 'data/%s' % dataset_name\n",
    "print(dataset_name)"
   ]
  },
  {
   "cell_type": "markdown",
   "metadata": {},
   "source": [
    "## Load playlists"
   ]
  },
  {
   "cell_type": "markdown",
   "metadata": {},
   "source": [
    "Load playlists."
   ]
  },
  {
   "cell_type": "code",
   "execution_count": 5,
   "metadata": {},
   "outputs": [],
   "source": [
    "fplaylist = os.path.join(data_dir, '%s-playlist.pkl.gz' % dataset_name)\n",
    "_all_playlists = pkl.load(gzip.open(fplaylist, 'rb'))"
   ]
  },
  {
   "cell_type": "code",
   "execution_count": 6,
   "metadata": {},
   "outputs": [],
   "source": [
    "# _all_playlists[0]"
   ]
  },
  {
   "cell_type": "code",
   "execution_count": 7,
   "metadata": {},
   "outputs": [],
   "source": [
    "all_playlists = []\n",
    "\n",
    "if type(_all_playlists[0][1]) == tuple:\n",
    "    for pl, u in _all_playlists:\n",
    "        user = '%s_%s' % (u[0], u[1])  # user string\n",
    "        all_playlists.append((pl, user))\n",
    "else:\n",
    "    all_playlists = _all_playlists"
   ]
  },
  {
   "cell_type": "code",
   "execution_count": 8,
   "metadata": {},
   "outputs": [],
   "source": [
    "# user_playlists = dict()\n",
    "# for pl, u in all_playlists:\n",
    "#     try:\n",
    "#         user_playlists[u].append(pl)\n",
    "#     except KeyError:\n",
    "#         user_playlists[u] = [pl]"
   ]
  },
  {
   "cell_type": "code",
   "execution_count": 9,
   "metadata": {},
   "outputs": [],
   "source": [
    "# all_playlists = []\n",
    "# for u in user_playlists:\n",
    "#     if len(user_playlists[u]) > 4:\n",
    "#         all_playlists += [(pl, u) for pl in user_playlists[u]]"
   ]
  },
  {
   "cell_type": "code",
   "execution_count": 10,
   "metadata": {},
   "outputs": [],
   "source": [
    "all_users = sorted(set({user for _, user in all_playlists}))"
   ]
  },
  {
   "cell_type": "code",
   "execution_count": 11,
   "metadata": {},
   "outputs": [
    {
     "name": "stdout",
     "output_type": "stream",
     "text": [
      "#user    : 8,070\n",
      "#playlist: 17,457\n"
     ]
    }
   ],
   "source": [
    "print('#user    : {:,}'.format(len(all_users)))\n",
    "print('#playlist: {:,}'.format(len(all_playlists)))"
   ]
  },
  {
   "cell_type": "code",
   "execution_count": 12,
   "metadata": {},
   "outputs": [
    {
     "name": "stdout",
     "output_type": "stream",
     "text": [
      "Average playlist length: 16.3\n"
     ]
    },
    {
     "data": {
      "image/png": "[encoded data removed]",
      "text/plain": [
       "<Figure size 576x396 with 1 Axes>"
      ]
     },
     "metadata": {},
     "output_type": "display_data"
    }
   ],
   "source": [
    "pl_lengths = [len(pl) for pl, _ in all_playlists]\n",
    "plt.hist(pl_lengths, bins=100)\n",
    "print('Average playlist length: %.1f' % np.mean(pl_lengths))"
   ]
  },
  {
   "cell_type": "markdown",
   "metadata": {},
   "source": [
    "check duplicated songs in the same playlist."
   ]
  },
  {
   "cell_type": "code",
   "execution_count": 13,
   "metadata": {},
   "outputs": [
    {
     "name": "stdout",
     "output_type": "stream",
     "text": [
      "285,073 | 285,073\n"
     ]
    }
   ],
   "source": [
    "print('{:,} | {:,}'.format(np.sum(pl_lengths), np.sum([len(set(pl)) for pl, _ in all_playlists])))"
   ]
  },
  {
   "cell_type": "markdown",
   "metadata": {},
   "source": [
    "## Load song features"
   ]
  },
  {
   "cell_type": "markdown",
   "metadata": {},
   "source": [
    "Load `song_id` --> `feature array` mapping: map a song to the audio features of one of its corresponding tracks in MSD."
   ]
  },
  {
   "cell_type": "code",
   "execution_count": 14,
   "metadata": {},
   "outputs": [],
   "source": [
    "_song2feature = pkl.load(gzip.open(ffeature, 'rb'))"
   ]
  },
  {
   "cell_type": "code",
   "execution_count": 15,
   "metadata": {},
   "outputs": [],
   "source": [
    "song2feature = dict()\n",
    "\n",
    "for sid in sorted(_song2feature):\n",
    "    song2feature[sid] = _song2feature[sid][audio_feature_indices]"
   ]
  },
  {
   "cell_type": "markdown",
   "metadata": {},
   "source": [
    "## Load genres"
   ]
  },
  {
   "cell_type": "markdown",
   "metadata": {},
   "source": [
    "Song genres from [MSD Allmusic Genre Dataset (Top MAGD)](http://www.ifs.tuwien.ac.at/mir/msd/TopMAGD.html) and [tagtraum](http://www.tagtraum.com/msd_genre_datasets.html)."
   ]
  },
  {
   "cell_type": "code",
   "execution_count": 16,
   "metadata": {},
   "outputs": [],
   "source": [
    "song2genre = pkl.load(gzip.open(fgenre, 'rb'))"
   ]
  },
  {
   "cell_type": "markdown",
   "metadata": {},
   "source": [
    "## Song collection"
   ]
  },
  {
   "cell_type": "code",
   "execution_count": 17,
   "metadata": {},
   "outputs": [
    {
     "name": "stdout",
     "output_type": "stream",
     "text": [
      "45,468\n"
     ]
    }
   ],
   "source": [
    "_all_songs = sorted([(sid, int(song2feature[sid][-1])) for sid in {s for pl, _ in all_playlists for s in pl}], \n",
    "                   key=lambda x: (x[1], x[0]))\n",
    "print('{:,}'.format(len(_all_songs)))"
   ]
  },
  {
   "cell_type": "markdown",
   "metadata": {},
   "source": [
    "Randomise the order of song with the same age."
   ]
  },
  {
   "cell_type": "code",
   "execution_count": 18,
   "metadata": {},
   "outputs": [],
   "source": [
    "song_age_dict = dict()\n",
    "\n",
    "for sid, age in _all_songs:\n",
    "    age = int(age)\n",
    "    try:\n",
    "        song_age_dict[age].append(sid)\n",
    "    except KeyError:\n",
    "        song_age_dict[age] = [sid]"
   ]
  },
  {
   "cell_type": "code",
   "execution_count": 19,
   "metadata": {},
   "outputs": [],
   "source": [
    "all_songs = []\n",
    "\n",
    "np.random.seed(RAND_SEED)\n",
    "for age in sorted(song_age_dict.keys()):\n",
    "    all_songs += [(sid, age) for sid in np.random.permutation(song_age_dict[age])]"
   ]
  },
  {
   "cell_type": "code",
   "execution_count": 20,
   "metadata": {},
   "outputs": [],
   "source": [
    "pkl.dump(all_songs, gzip.open(os.path.join(data_dir, 'setting4/all_songs.pkl.gz'), 'wb'))"
   ]
  },
  {
   "cell_type": "markdown",
   "metadata": {},
   "source": [
    "Check if all songs have genre info."
   ]
  },
  {
   "cell_type": "code",
   "execution_count": 21,
   "metadata": {},
   "outputs": [
    {
     "name": "stdout",
     "output_type": "stream",
     "text": [
      "#songs missing genre: 11,086\n"
     ]
    }
   ],
   "source": [
    "print('#songs missing genre: {:,}'.format(len(all_songs) - np.sum([sid in song2genre for (sid, _) in all_songs])))"
   ]
  },
  {
   "cell_type": "markdown",
   "metadata": {},
   "source": [
    "Song popularity."
   ]
  },
  {
   "cell_type": "code",
   "execution_count": 22,
   "metadata": {},
   "outputs": [],
   "source": [
    "song2index = {sid: ix for ix, (sid, _) in enumerate(all_songs)}\n",
    "song_pl_mat = lil_matrix((len(all_songs), len(all_playlists)), dtype=np.int8)\n",
    "for j in range(len(all_playlists)):\n",
    "    pl = all_playlists[j][0]\n",
    "    ind = [song2index[sid] for sid in pl]\n",
    "    song_pl_mat[ind, j] = 1"
   ]
  },
  {
   "cell_type": "code",
   "execution_count": 23,
   "metadata": {},
   "outputs": [],
   "source": [
    "song_pop = song_pl_mat.tocsc().sum(axis=1)"
   ]
  },
  {
   "cell_type": "code",
   "execution_count": 24,
   "metadata": {},
   "outputs": [
    {
     "data": {
      "text/plain": [
       "400"
      ]
     },
     "execution_count": 24,
     "metadata": {},
     "output_type": "execute_result"
    }
   ],
   "source": [
    "max_pop = np.max(song_pop)\n",
    "max_pop"
   ]
  },
  {
   "cell_type": "code",
   "execution_count": 25,
   "metadata": {},
   "outputs": [],
   "source": [
    "song2pop = {sid: song_pop[song2index[sid], 0] for (sid, _) in all_songs}"
   ]
  },
  {
   "cell_type": "code",
   "execution_count": 26,
   "metadata": {},
   "outputs": [],
   "source": [
    "pkl.dump(song2pop, gzip.open(os.path.join(data_dir, 'setting4/song2pop.pkl.gz'), 'wb'))"
   ]
  },
  {
   "cell_type": "markdown",
   "metadata": {},
   "source": [
    "## Create song-playlist matrix"
   ]
  },
  {
   "cell_type": "markdown",
   "metadata": {},
   "source": [
    "Songs as rows, playlists as columns."
   ]
  },
  {
   "cell_type": "code",
   "execution_count": 27,
   "metadata": {},
   "outputs": [],
   "source": [
    "def gen_dataset(playlists, song2feature, song2genre, song2artist, artist2vec, \n",
    "                train_song_set, dev_song_set=[], test_song_set=[], song2pop_train=None):\n",
    "    \"\"\"\n",
    "    Create labelled dataset: rows are songs, columns are users.\n",
    "    \n",
    "    Input:\n",
    "        - playlists: a set of playlists\n",
    "        - train_song_set: a list of songIDs in training set\n",
    "        - dev_song_set: a list of songIDs in dev set\n",
    "        - test_song_set: a list of songIDs in test set\n",
    "        - song2feature: dictionary that maps songIDs to features from MSD\n",
    "        - song2genre: dictionary that maps songIDs to genre\n",
    "        - song2pop_train: a dictionary that maps songIDs to its popularity\n",
    "    Output:\n",
    "        - (Feature, Label) pair (X, Y)\n",
    "          X: #songs by #features\n",
    "          Y: #songs by #users\n",
    "    \"\"\" \n",
    "    song_set = train_song_set + dev_song_set + test_song_set\n",
    "    N = len(song_set)\n",
    "    K = len(playlists)\n",
    "    \n",
    "    genre_set = sorted({v for v in song2genre.values()})\n",
    "    genre2index = {genre: ix for ix, genre in enumerate(genre_set)}\n",
    "    \n",
    "    def onehot_genre(songID):\n",
    "        \"\"\"\n",
    "        One-hot encoding of genres.\n",
    "        Data imputation: \n",
    "            - mean imputation (default)\n",
    "            - one extra entry for songs without genre info\n",
    "            - sampling from the distribution of genre popularity\n",
    "        \"\"\"\n",
    "        num = len(genre_set) # + 1\n",
    "        vec = np.zeros(num, dtype=np.float)\n",
    "        if songID in song2genre:\n",
    "            genre_ix = genre2index[song2genre[songID]]\n",
    "            vec[genre_ix] = 1\n",
    "        else:\n",
    "            vec[:] = np.nan\n",
    "            #vec[-1] = 1\n",
    "        return vec\n",
    "    \n",
    "    def song_artist_feature(songID):\n",
    "        \"\"\"\n",
    "        Return the artist feature for a given song\n",
    "        \"\"\"\n",
    "        if songID in song2artist:\n",
    "            aid = song2artist[songID]\n",
    "            return artist2vec[aid]\n",
    "        else:\n",
    "            return artist2vec['$UNK$']\n",
    "    \n",
    "    X = np.array([np.concatenate([song2feature[sid], song_artist_feature(sid), onehot_genre(sid)], axis=-1) \\\n",
    "                  for sid in song_set])\n",
    "    Y = lil_matrix((N, K), dtype=np.bool)\n",
    "    \n",
    "    song2index = {sid: ix for ix, sid in enumerate(song_set)}\n",
    "    for k in range(K):\n",
    "        pl = playlists[k]\n",
    "        indices = [song2index[sid] for sid in pl if sid in song2index]\n",
    "        Y[indices, k] = True\n",
    "        \n",
    "    # genre imputation\n",
    "    genre_ix_start = -len(genre_set)\n",
    "    genre_nan = np.isnan(X[:, genre_ix_start:])\n",
    "    genre_mean = np.nansum(X[:, genre_ix_start:], axis=0) / (X.shape[0] - np.sum(genre_nan, axis=0))\n",
    "    #print(np.nansum(X[:, genre_ix_start:], axis=0))\n",
    "    #print(genre_set)\n",
    "    #print(genre_mean)\n",
    "    for j in range(len(genre_set)):\n",
    "        X[genre_nan[:,j], j+genre_ix_start] = genre_mean[j]\n",
    "        \n",
    "    # normalise the sum of all genres per song to 1\n",
    "    # X[:, -len(genre_set):] /= X[:, -len(genre_set):].sum(axis=1).reshape(-1, 1)  \n",
    "    # NOTE: this is not necessary, as the imputed values are guaranteed to be normalised (sum to 1) \n",
    "    # due to the above method to compute mean genres.\n",
    "    \n",
    "    # the log of song popularity\n",
    "    if song2pop_train is not None:\n",
    "        # for sid in song_set: \n",
    "        #     assert sid in song2pop_train  # trust the input\n",
    "        logsongpop = np.log2([song2pop_train[sid]+1 for sid in song_set])  # deal with 0 popularity\n",
    "        X = np.hstack([X, logsongpop.reshape(-1, 1)])\n",
    "\n",
    "    #return X, Y\n",
    "    Y = Y.tocsr()\n",
    "    \n",
    "    train_ix = [song2index[sid] for sid in train_song_set]\n",
    "    X_train = X[train_ix, :]\n",
    "    Y_train = Y[train_ix, :]\n",
    "    \n",
    "    dev_ix = [song2index[sid] for sid in dev_song_set]\n",
    "    X_dev = X[dev_ix, :]\n",
    "    Y_dev = Y[dev_ix, :]\n",
    "    \n",
    "    test_ix = [song2index[sid] for sid in test_song_set]\n",
    "    X_test = X[test_ix, :]\n",
    "    Y_test = Y[test_ix, :]\n",
    "    \n",
    "    if len(dev_song_set) > 0:\n",
    "        if len(test_song_set) > 0:\n",
    "            return X_train, Y_train.tocsc(), X_dev, Y_dev.tocsc(), X_test, Y_test.tocsc()\n",
    "        else:\n",
    "            return X_train, Y_train.tocsc(), X_dev, Y_dev.tocsc()\n",
    "    else:\n",
    "        if len(test_song_set) > 0:\n",
    "            return X_train, Y_train.tocsc(), X_test, Y_test.tocsc()\n",
    "        else:\n",
    "            return X_train, Y_train.tocsc()"
   ]
  },
  {
   "cell_type": "markdown",
   "metadata": {},
   "source": [
    "## Split playlists"
   ]
  },
  {
   "cell_type": "markdown",
   "metadata": {},
   "source": [
    "Split playlists such that \n",
    "- all playlists of selected users are in test set.\n",
    "- every song in test set is also in training set.  "
   ]
  },
  {
   "cell_type": "code",
   "execution_count": 28,
   "metadata": {},
   "outputs": [],
   "source": [
    "user_playlists = dict()\n",
    "for j in range(len(all_playlists)):\n",
    "    u = all_playlists[j][1]\n",
    "    try: \n",
    "        user_playlists[u].append(j)\n",
    "    except KeyError:\n",
    "        user_playlists[u] = [j]"
   ]
  },
  {
   "cell_type": "code",
   "execution_count": 29,
   "metadata": {},
   "outputs": [
    {
     "name": "stdout",
     "output_type": "stream",
     "text": [
      "#users:                        8,070\n",
      "#playlists:                    17,457\n",
      "Average #playlists per user:   2.16\n"
     ]
    }
   ],
   "source": [
    "# sanity check\n",
    "npl_all = np.sum([len(user_playlists[u]) for u in user_playlists])\n",
    "print('{:30s} {:,}'.format('#users:', len(user_playlists)))\n",
    "print('{:30s} {:,}'.format('#playlists:', npl_all))\n",
    "print('{:30s} {:.2f}'.format('Average #playlists per user:', npl_all / len(user_playlists)))"
   ]
  },
  {
   "cell_type": "markdown",
   "metadata": {},
   "source": [
    "Make sure every song in test set should also be in training set."
   ]
  },
  {
   "cell_type": "code",
   "execution_count": 30,
   "metadata": {},
   "outputs": [],
   "source": [
    "user_songcnt = dict()\n",
    "for u in all_users:\n",
    "    songcnt_u = np.zeros(len(all_songs), dtype=np.int32)\n",
    "    for pl, _ in [all_playlists[j] for j in user_playlists[u]]:\n",
    "        for sid in pl:\n",
    "            songcnt_u[song2index[sid]] += 1\n",
    "    user_songcnt[u] = songcnt_u"
   ]
  },
  {
   "cell_type": "code",
   "execution_count": 31,
   "metadata": {},
   "outputs": [],
   "source": [
    "all_songcnt = np.zeros(len(all_songs), dtype=np.int32)\n",
    "for u in all_users:\n",
    "    all_songcnt += user_songcnt[u]"
   ]
  },
  {
   "cell_type": "code",
   "execution_count": 32,
   "metadata": {},
   "outputs": [],
   "source": [
    "candidate_users = set()\n",
    "other_users = set()\n",
    "   \n",
    "for u in all_users:\n",
    "    _songcnt = all_songcnt - user_songcnt[u]\n",
    "    if np.all(_songcnt > 0):\n",
    "        candidate_users.add(u)\n",
    "    else:\n",
    "        other_users.add(u)"
   ]
  },
  {
   "cell_type": "code",
   "execution_count": 33,
   "metadata": {},
   "outputs": [
    {
     "name": "stdout",
     "output_type": "stream",
     "text": [
      "3741 4329 8070\n"
     ]
    }
   ],
   "source": [
    "print(len(candidate_users), len(other_users), len(all_users))"
   ]
  },
  {
   "cell_type": "code",
   "execution_count": 34,
   "metadata": {},
   "outputs": [],
   "source": [
    "npl_candidate = sorted([len(user_playlists[u]) for u in candidate_users])"
   ]
  },
  {
   "cell_type": "code",
   "execution_count": 35,
   "metadata": {},
   "outputs": [
    {
     "name": "stdout",
     "output_type": "stream",
     "text": [
      "1, 1.4, 15, 5234\n"
     ]
    }
   ],
   "source": [
    "print('%d, %.1f, %d, %d' % (min(npl_candidate), np.mean(npl_candidate), max(npl_candidate), np.sum(npl_candidate)))"
   ]
  },
  {
   "cell_type": "code",
   "execution_count": 36,
   "metadata": {},
   "outputs": [],
   "source": [
    "train_users = set(all_users)\n",
    "test_users  = set()\n",
    "\n",
    "train_songcnt = all_songcnt.copy()\n",
    "np.random.seed(RAND_SEED)\n",
    "for u in np.random.permutation(sorted(candidate_users)):\n",
    "    _songcnt = train_songcnt - user_songcnt[u]\n",
    "    if np.all(_songcnt > 0):\n",
    "        train_users = train_users - {u}\n",
    "        test_users.add(u)\n",
    "        train_songcnt[:] = _songcnt\n",
    "    npl_test = np.sum([len(user_playlists[u]) for u in test_users])\n",
    "    if len(test_users) >= int(test_user_ratio * len(all_users)):\n",
    "        break"
   ]
  },
  {
   "cell_type": "code",
   "execution_count": 37,
   "metadata": {},
   "outputs": [],
   "source": [
    "train_playlists = [all_playlists[j] for u in sorted(train_users) for j in user_playlists[u]]\n",
    "test_playlists = [all_playlists[j] for u in sorted(test_users) for j in user_playlists[u]]"
   ]
  },
  {
   "cell_type": "markdown",
   "metadata": {},
   "source": [
    "Sanity check that every song in test set should also be in training set."
   ]
  },
  {
   "cell_type": "code",
   "execution_count": 38,
   "metadata": {
    "scrolled": false
   },
   "outputs": [
    {
     "name": "stdout",
     "output_type": "stream",
     "text": [
      "#Songs in train set: 45468, #Songs total: 45468\n"
     ]
    }
   ],
   "source": [
    "print('#Songs in train set: %d, #Songs total: %d' % \\\n",
    "      (len(set([sid for pl, _ in train_playlists for sid in pl])), len(all_songs)))"
   ]
  },
  {
   "cell_type": "code",
   "execution_count": 39,
   "metadata": {},
   "outputs": [
    {
     "name": "stdout",
     "output_type": "stream",
     "text": [
      "#playlists (train):            14,067\n",
      "#playlists (test) :            3,390\n",
      "#users in test set:            2,421 out of 8,070\n"
     ]
    }
   ],
   "source": [
    "print('{:30s} {:,}'.format('#playlists (train):', len(train_playlists)))\n",
    "print('{:30s} {:,}'.format('#playlists (test) :', len(test_playlists)))\n",
    "print('{:30s} {:,} out of {:,}'.format('#users in test set:', len(test_users), len(all_users)))"
   ]
  },
  {
   "cell_type": "code",
   "execution_count": 40,
   "metadata": {},
   "outputs": [
    {
     "name": "stdout",
     "output_type": "stream",
     "text": [
      "#users (train): 5,649\n"
     ]
    }
   ],
   "source": [
    "assert 0 == len(train_users & test_users)\n",
    "print('#users (train): {:,}'.format(len(train_users)))"
   ]
  },
  {
   "cell_type": "code",
   "execution_count": 41,
   "metadata": {},
   "outputs": [],
   "source": [
    "xmax = np.max([len(pl) for (pl, _) in all_playlists]) + 1"
   ]
  },
  {
   "cell_type": "code",
   "execution_count": 42,
   "metadata": {},
   "outputs": [
    {
     "data": {
      "image/png": "[encoded data removed]",
      "text/plain": [
       "<Figure size 576x396 with 1 Axes>"
      ]
     },
     "metadata": {},
     "output_type": "display_data"
    }
   ],
   "source": [
    "ax = plt.subplot(111)\n",
    "ax.hist([len(pl) for (pl, _) in train_playlists], bins=100)\n",
    "ax.set_yscale('log')\n",
    "ax.set_xlim(0, xmax)\n",
    "ax.set_title('Histogram of playlist length in TRAINING set')\n",
    "pass"
   ]
  },
  {
   "cell_type": "code",
   "execution_count": 43,
   "metadata": {},
   "outputs": [
    {
     "data": {
      "image/png": "[encoded data removed]",
      "text/plain": [
       "<Figure size 576x396 with 1 Axes>"
      ]
     },
     "metadata": {},
     "output_type": "display_data"
    }
   ],
   "source": [
    "ax = plt.subplot(111)\n",
    "ax.hist([len(pl) for (pl, _) in test_playlists], bins=100)\n",
    "ax.set_yscale('log')\n",
    "ax.set_xlim(0, xmax)\n",
    "ax.set_title('Histogram of playlist length in TEST set')\n",
    "pass"
   ]
  },
  {
   "cell_type": "code",
   "execution_count": 44,
   "metadata": {},
   "outputs": [],
   "source": [
    "song2pop_train = song2pop.copy()\n",
    "for pl, _ in test_playlists:\n",
    "    for sid in pl:\n",
    "        song2pop_train[sid] -= 1"
   ]
  },
  {
   "cell_type": "code",
   "execution_count": 45,
   "metadata": {},
   "outputs": [],
   "source": [
    "pkl.dump(song2pop_train, gzip.open(os.path.join(data_dir, 'setting4/song2pop_train.pkl.gz'), 'wb'))"
   ]
  },
  {
   "cell_type": "markdown",
   "metadata": {},
   "source": [
    "## Learn artist features"
   ]
  },
  {
   "cell_type": "code",
   "execution_count": 46,
   "metadata": {},
   "outputs": [],
   "source": [
    "song2artist = pkl.load(gzip.open(fsong2artist, 'rb'))"
   ]
  },
  {
   "cell_type": "code",
   "execution_count": 47,
   "metadata": {},
   "outputs": [],
   "source": [
    "artist_playlist = []\n",
    "\n",
    "for pl, _ in train_playlists:\n",
    "    pl_artists = [song2artist[sid] if sid in song2artist else '$UNK$' for sid in pl]\n",
    "    artist_playlist.append(pl_artists)"
   ]
  },
  {
   "cell_type": "code",
   "execution_count": 48,
   "metadata": {},
   "outputs": [],
   "source": [
    "fartist2vec_bin = os.path.join(data_dir, 'setting4/artist2vec.bin')\n",
    "if os.path.exists(fartist2vec_bin):\n",
    "    artist2vec = gensim.models.KeyedVectors.load_word2vec_format(fartist2vec_bin, binary=True)\n",
    "else:\n",
    "    artist2vec_model = gensim.models.Word2Vec(sentences=artist_playlist, size=n_feature_artist, seed=RAND_SEED, \n",
    "                                              window=10, iter=10, min_count=1)\n",
    "    artist2vec_model.wv.save_word2vec_format(fartist2vec_bin, binary=True)\n",
    "    artist2vec = artist2vec_model.wv"
   ]
  },
  {
   "cell_type": "markdown",
   "metadata": {},
   "source": [
    "## Hold a subset of playlists, use all songs"
   ]
  },
  {
   "cell_type": "code",
   "execution_count": 49,
   "metadata": {},
   "outputs": [],
   "source": [
    "pkl_dir = os.path.join(data_dir, 'setting4')\n",
    "fpl     = os.path.join(pkl_dir, 'playlists_train_test_s4.pkl.gz')\n",
    "fx      = os.path.join(pkl_dir, 'X.pkl.gz')\n",
    "fytrain = os.path.join(pkl_dir, 'Y_train.pkl.gz')\n",
    "fytest  = os.path.join(pkl_dir, 'Y_test.pkl.gz')\n",
    "fclique_train = os.path.join(pkl_dir, 'cliques_train.pkl.gz')"
   ]
  },
  {
   "cell_type": "code",
   "execution_count": 50,
   "metadata": {},
   "outputs": [],
   "source": [
    "X, Y = gen_dataset(playlists = [t[0] for t in train_playlists + test_playlists],\n",
    "                   song2feature = song2feature, song2genre = song2genre, \n",
    "                   song2artist = song2artist, artist2vec = artist2vec, \n",
    "                   train_song_set = [t[0] for t in all_songs], song2pop_train=song2pop_train)"
   ]
  },
  {
   "cell_type": "code",
   "execution_count": 51,
   "metadata": {},
   "outputs": [],
   "source": [
    "split_ix = len(train_playlists)"
   ]
  },
  {
   "cell_type": "code",
   "execution_count": 52,
   "metadata": {},
   "outputs": [],
   "source": [
    "Y_train = Y[:, :split_ix].tocsc()\n",
    "Y_test = Y[:, split_ix:].tocsc()"
   ]
  },
  {
   "cell_type": "code",
   "execution_count": 53,
   "metadata": {},
   "outputs": [],
   "source": [
    "assert Y_train.shape[0] == Y_test.shape[0] == X.shape[0] == len(all_songs)\n",
    "assert Y_train.shape[1] + Y_test.shape[1] == Y.shape[1] == len(all_playlists)"
   ]
  },
  {
   "cell_type": "code",
   "execution_count": 54,
   "metadata": {},
   "outputs": [],
   "source": [
    "pkl.dump({'train_playlists': train_playlists, 'test_playlists': test_playlists}, gzip.open(fpl, 'wb'))"
   ]
  },
  {
   "cell_type": "markdown",
   "metadata": {},
   "source": [
    "Feature normalisation."
   ]
  },
  {
   "cell_type": "code",
   "execution_count": 55,
   "metadata": {},
   "outputs": [],
   "source": [
    "X_mean = np.mean(X, axis=0).reshape((1, -1))\n",
    "X_std = np.std(X, axis=0).reshape((1, -1)) + 10 ** (-6)\n",
    "X -= X_mean\n",
    "X /= X_std"
   ]
  },
  {
   "cell_type": "code",
   "execution_count": 56,
   "metadata": {},
   "outputs": [
    {
     "name": "stdout",
     "output_type": "stream",
     "text": [
      "8.053154999759537e-15\n",
      "-0.03175136944757739\n"
     ]
    }
   ],
   "source": [
    "print(np.mean(np.mean(X, axis=0)))\n",
    "print(np.mean( np.std(X, axis=0)) - 1)"
   ]
  },
  {
   "cell_type": "code",
   "execution_count": 57,
   "metadata": {},
   "outputs": [
    {
     "name": "stdout",
     "output_type": "stream",
     "text": [
      "Train : (45468, 14067)\n",
      "Test  : (45468, 3390)\n",
      "All: (45468, 63), (45468, 17457)\n"
     ]
    }
   ],
   "source": [
    "print('Train :', Y_train.shape)\n",
    "print('Test  :', Y_test.shape)\n",
    "print('All: %s, %s' % (X.shape, Y.shape))"
   ]
  },
  {
   "cell_type": "code",
   "execution_count": 58,
   "metadata": {},
   "outputs": [],
   "source": [
    "pkl.dump(X,  gzip.open(fx, 'wb'))\n",
    "pkl.dump(Y_train,  gzip.open(fytrain, 'wb'))\n",
    "pkl.dump(Y_test,   gzip.open(fytest, 'wb'))"
   ]
  },
  {
   "cell_type": "markdown",
   "metadata": {},
   "source": [
    "Playlists of the same user form a *clique*."
   ]
  },
  {
   "cell_type": "markdown",
   "metadata": {},
   "source": [
    "Cliques in train set."
   ]
  },
  {
   "cell_type": "code",
   "execution_count": 59,
   "metadata": {},
   "outputs": [],
   "source": [
    "pl_users = [u for (_, u) in train_playlists]\n",
    "cliques_train = []\n",
    "for u in sorted(set(pl_users)):\n",
    "    clique = np.where(u == np.array(pl_users, dtype=np.object))[0]\n",
    "    cliques_train.append(clique)"
   ]
  },
  {
   "cell_type": "code",
   "execution_count": 60,
   "metadata": {},
   "outputs": [],
   "source": [
    "pkl.dump(cliques_train, gzip.open(fclique_train, 'wb'))"
   ]
  },
  {
   "cell_type": "code",
   "execution_count": 61,
   "metadata": {},
   "outputs": [
    {
     "name": "stdout",
     "output_type": "stream",
     "text": [
      "1 82 5649 14067\n"
     ]
    }
   ],
   "source": [
    "clqsize = [len(clq) for clq in cliques_train]\n",
    "print(np.min(clqsize), np.max(clqsize), len(clqsize), np.sum(clqsize))"
   ]
  },
  {
   "cell_type": "code",
   "execution_count": 62,
   "metadata": {},
   "outputs": [],
   "source": [
    "assert np.all(np.arange(Y_train.shape[1]) == np.asarray(sorted([k for clq in cliques_train for k in clq])))"
   ]
  }
 ],
 "metadata": {
  "kernelspec": {
   "display_name": "Python 3",
   "language": "python",
   "name": "python3"
  },
  "language_info": {
   "codemirror_mode": {
    "name": "ipython",
    "version": 3
   },
   "file_extension": ".py",
   "mimetype": "text/x-python",
   "name": "python",
   "nbconvert_exporter": "python",
   "pygments_lexer": "ipython3",
   "version": "3.6.5"
  }
 },
 "nbformat": 4,
 "nbformat_minor": 2
}
