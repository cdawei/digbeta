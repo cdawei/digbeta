{
 "cells": [
  {
   "cell_type": "markdown",
   "metadata": {},
   "source": [
    "# Evaluate Multi-label Classification"
   ]
  },
  {
   "cell_type": "code",
   "execution_count": 1,
   "metadata": {},
   "outputs": [],
   "source": [
    "%matplotlib inline\n",
    "%load_ext line_profiler\n",
    "%load_ext memory_profiler\n",
    "%load_ext autoreload\n",
    "%autoreload 2\n",
    "\n",
    "import os, sys, time\n",
    "import pickle as pkl\n",
    "import numpy as np\n",
    "import pandas as pd\n",
    "from sklearn.metrics import roc_auc_score\n",
    "import torchfile"
   ]
  },
  {
   "cell_type": "code",
   "execution_count": 2,
   "metadata": {},
   "outputs": [],
   "source": [
    "sys.path.append('src')\n",
    "from tools import f1_score_nowarn, calc_F1, calc_precisionK\n",
    "from tools import create_dataset, dataset_names, nLabels_dict\n",
    "#from models import BinaryRelevance\n",
    "sys.path.append('src/models')\n",
    "from BinaryRelevance import BinaryRelevance\n",
    "from PC import MLC_pclassification, obj_pclassification, avgF1\n",
    "from tools import calc_RPrecision_HitRate"
   ]
  },
  {
   "cell_type": "code",
   "execution_count": 3,
   "metadata": {},
   "outputs": [
    {
     "data": {
      "text/plain": [
       "['yeast', 'scene', 'bibtex', 'bookmarks']"
      ]
     },
     "execution_count": 3,
     "metadata": {},
     "output_type": "execute_result"
    }
   ],
   "source": [
    "dataset_names"
   ]
  },
  {
   "cell_type": "code",
   "execution_count": 4,
   "metadata": {},
   "outputs": [],
   "source": [
    "data_ix = 3"
   ]
  },
  {
   "cell_type": "code",
   "execution_count": 5,
   "metadata": {},
   "outputs": [
    {
     "name": "stdout",
     "output_type": "stream",
     "text": [
      "bookmarks 208\n"
     ]
    }
   ],
   "source": [
    "dataset_name = dataset_names[data_ix]\n",
    "nLabels = nLabels_dict[dataset_name]\n",
    "print(dataset_name, nLabels)"
   ]
  },
  {
   "cell_type": "code",
   "execution_count": 6,
   "metadata": {},
   "outputs": [],
   "source": [
    "data_dir = 'data'"
   ]
  },
  {
   "cell_type": "markdown",
   "metadata": {},
   "source": [
    "## Load dataset"
   ]
  },
  {
   "cell_type": "code",
   "execution_count": 7,
   "metadata": {},
   "outputs": [],
   "source": [
    "X_train, Y_train = create_dataset(dataset_name, train_data=True)\n",
    "X_test,  Y_test  = create_dataset(dataset_name, train_data=False)"
   ]
  },
  {
   "cell_type": "markdown",
   "metadata": {},
   "source": [
    "Feature normalisation."
   ]
  },
  {
   "cell_type": "code",
   "execution_count": 8,
   "metadata": {},
   "outputs": [],
   "source": [
    "X_train_mean = np.mean(X_train, axis=0).reshape((1, -1))\n",
    "X_train_std = np.std(X_train, axis=0).reshape((1, -1)) + 10 ** (-6)\n",
    "X_train -= X_train_mean\n",
    "X_train /= X_train_std\n",
    "X_test  -= X_train_mean\n",
    "X_test  /= X_train_std"
   ]
  },
  {
   "cell_type": "markdown",
   "metadata": {},
   "source": [
    "Save performance data."
   ]
  },
  {
   "cell_type": "code",
   "execution_count": 9,
   "metadata": {},
   "outputs": [],
   "source": [
    "def dump_perf(fname, perf_dict):\n",
    "    if os.path.exists(fname):\n",
    "        _dict = pkl.load(open(fname, 'rb'))\n",
    "        if dataset_name not in _dict:\n",
    "            _dict[dataset_name] = perf_dict\n",
    "        else:\n",
    "            _dict[dataset_name].update(perf_dict)\n",
    "    else:\n",
    "        _dict = {dataset_name: perf_dict}\n",
    "    pkl.dump(_dict, open(fname, 'wb'))"
   ]
  },
  {
   "cell_type": "code",
   "execution_count": 10,
   "metadata": {},
   "outputs": [],
   "source": [
    "def calc_RP(Y_true, Y_pred):\n",
    "    assert Y_true.shape == Y_pred.shape\n",
    "    rps = []\n",
    "    for j in range(Y_true.shape[1]):\n",
    "        y_true = Y_true[:, j]\n",
    "        y_pred = Y_pred[:, j]\n",
    "        rp, _ = calc_RPrecision_HitRate(y_true, y_pred)\n",
    "        rps.append(rp)\n",
    "    return rps"
   ]
  },
  {
   "cell_type": "markdown",
   "metadata": {},
   "source": [
    "## Evaluate DVN"
   ]
  },
  {
   "cell_type": "code",
   "execution_count": 11,
   "metadata": {},
   "outputs": [],
   "source": [
    "preds_dvn = np.load(os.path.join(data_dir, 'result_mlc/%s/preds_test_dvn.npy' % dataset_name))"
   ]
  },
  {
   "cell_type": "code",
   "execution_count": 12,
   "metadata": {},
   "outputs": [
    {
     "data": {
      "text/plain": [
       "(27856, 208)"
      ]
     },
     "execution_count": 12,
     "metadata": {},
     "output_type": "execute_result"
    }
   ],
   "source": [
    "preds_dvn.shape"
   ]
  },
  {
   "cell_type": "code",
   "execution_count": 13,
   "metadata": {},
   "outputs": [
    {
     "data": {
      "text/plain": [
       "(27856, 208)"
      ]
     },
     "execution_count": 13,
     "metadata": {},
     "output_type": "execute_result"
    }
   ],
   "source": [
    "Y_test.shape"
   ]
  },
  {
   "cell_type": "code",
   "execution_count": 14,
   "metadata": {},
   "outputs": [
    {
     "name": "stdout",
     "output_type": "stream",
     "text": [
      "0.37155596860541956\n"
     ]
    }
   ],
   "source": [
    "f1mean = f1_score_nowarn(Y_test.astype(np.bool), preds_dvn >= 0.5, average='samples')\n",
    "print(f1mean)"
   ]
  },
  {
   "cell_type": "code",
   "execution_count": 15,
   "metadata": {},
   "outputs": [
    {
     "name": "stdout",
     "output_type": "stream",
     "text": [
      "0.37155596860541956\n"
     ]
    }
   ],
   "source": [
    "F1_example = np.mean(calc_F1(Y_test.astype(np.bool), preds_dvn >= 0.5))\n",
    "print(F1_example)"
   ]
  },
  {
   "cell_type": "code",
   "execution_count": 16,
   "metadata": {},
   "outputs": [
    {
     "name": "stdout",
     "output_type": "stream",
     "text": [
      "0.23674811498350729\n"
     ]
    }
   ],
   "source": [
    "F1_label = f1_score_nowarn(Y_test.astype(np.bool), preds_dvn >= 0.5, average='macro')\n",
    "print(F1_label)"
   ]
  },
  {
   "cell_type": "code",
   "execution_count": 17,
   "metadata": {},
   "outputs": [
    {
     "name": "stdout",
     "output_type": "stream",
     "text": [
      "0.42245008358248076\n"
     ]
    }
   ],
   "source": [
    "pak, ind = calc_precisionK(Y_test.astype(np.bool), preds_dvn)\n",
    "avgPak = np.mean(pak)\n",
    "print(avgPak)"
   ]
  },
  {
   "cell_type": "code",
   "execution_count": 18,
   "metadata": {},
   "outputs": [],
   "source": [
    "#auc_dvn = roc_auc_score(Y_test, preds_dvn, average='samples')\n",
    "#print(auc_dvn)"
   ]
  },
  {
   "cell_type": "code",
   "execution_count": 19,
   "metadata": {},
   "outputs": [
    {
     "name": "stdout",
     "output_type": "stream",
     "text": [
      "0.26304615692760236\n"
     ]
    }
   ],
   "source": [
    "rps = calc_RP(Y_test, preds_dvn)\n",
    "avgRP = np.mean(rps)\n",
    "print(avgRP)"
   ]
  },
  {
   "cell_type": "code",
   "execution_count": 20,
   "metadata": {},
   "outputs": [],
   "source": [
    "perf_dict_test = {'F1_example': F1_example,\n",
    "                  'F1_label':  F1_label,\n",
    "                  'RP_example': avgPak,\n",
    "                  'RP_label': avgRP,\n",
    "                 }"
   ]
  },
  {
   "cell_type": "code",
   "execution_count": 21,
   "metadata": {},
   "outputs": [
    {
     "name": "stdout",
     "output_type": "stream",
     "text": [
      "{'bibtex': {'Test': {'F1_example': 0.44700475542993195, 'F1_label': 0.32421320747927107, 'RP_example': 0.5032464367387184, 'RP_label': 0.37660642302161584}}, 'bookmarks': {'Test': {'F1_example': 0.37155596860541956, 'F1_label': 0.23674811498350729, 'RP_example': 0.42245008358248076, 'RP_label': 0.26304615692760236}}}\n"
     ]
    }
   ],
   "source": [
    "fname = os.path.join(data_dir, 'result_mlc/perf-dvn.pkl')\n",
    "dump_perf(fname, {'Test': perf_dict_test})\n",
    "print(pkl.load(open(fname, 'rb')))"
   ]
  },
  {
   "cell_type": "markdown",
   "metadata": {},
   "source": [
    "## Evaluate SPEN"
   ]
  },
  {
   "cell_type": "markdown",
   "metadata": {},
   "source": [
    "Pick the one with best sample F1."
   ]
  },
  {
   "cell_type": "code",
   "execution_count": 22,
   "metadata": {},
   "outputs": [],
   "source": [
    "preds_spen = torchfile.load(os.path.join(data_dir, 'result_mlc/%s/preds_test_spen.torch' % dataset_name))"
   ]
  },
  {
   "cell_type": "code",
   "execution_count": 23,
   "metadata": {},
   "outputs": [
    {
     "data": {
      "text/plain": [
       "(27856, 208)"
      ]
     },
     "execution_count": 23,
     "metadata": {},
     "output_type": "execute_result"
    }
   ],
   "source": [
    "preds_spen.shape"
   ]
  },
  {
   "cell_type": "code",
   "execution_count": 24,
   "metadata": {},
   "outputs": [
    {
     "data": {
      "text/plain": [
       "(27856, 208)"
      ]
     },
     "execution_count": 24,
     "metadata": {},
     "output_type": "execute_result"
    }
   ],
   "source": [
    "Y_test.shape"
   ]
  },
  {
   "cell_type": "code",
   "execution_count": 25,
   "metadata": {},
   "outputs": [],
   "source": [
    "thresholds = [0, 0.05, 0.10, 0.15, 0.2, 0.25, 0.30, 0.35, 0.4, 0.45, 0.5, 0.55, 0.60, 0.65, 0.70, 0.75]  # SPEN"
   ]
  },
  {
   "cell_type": "code",
   "execution_count": 26,
   "metadata": {},
   "outputs": [],
   "source": [
    "F1_all_example = []\n",
    "F1_all_label  = []\n",
    "for th in thresholds:\n",
    "    F1_all_example.append(f1_score_nowarn(Y_test, preds_spen >= th, average='samples'))\n",
    "    F1_all_label.append(f1_score_nowarn(Y_test, preds_spen >= th, average='macro'))"
   ]
  },
  {
   "cell_type": "code",
   "execution_count": 27,
   "metadata": {},
   "outputs": [
    {
     "name": "stdout",
     "output_type": "stream",
     "text": [
      "0.3553938453788133 0.24094370084927494 0.1\n"
     ]
    }
   ],
   "source": [
    "bestix = np.argmax(F1_all_example)\n",
    "print(F1_all_example[bestix], F1_all_label[bestix], thresholds[bestix])"
   ]
  },
  {
   "cell_type": "code",
   "execution_count": 28,
   "metadata": {},
   "outputs": [
    {
     "name": "stdout",
     "output_type": "stream",
     "text": [
      "0.3958859200493974\n"
     ]
    }
   ],
   "source": [
    "pak, ind = calc_precisionK(Y_test.astype(np.bool), preds_spen)\n",
    "avgPak = np.mean(pak)\n",
    "print(avgPak)"
   ]
  },
  {
   "cell_type": "code",
   "execution_count": 29,
   "metadata": {},
   "outputs": [],
   "source": [
    "#auc_spen = roc_auc_score(Y_test, preds_spen, average='samples')\n",
    "#print(auc_spen)"
   ]
  },
  {
   "cell_type": "code",
   "execution_count": 30,
   "metadata": {},
   "outputs": [
    {
     "name": "stdout",
     "output_type": "stream",
     "text": [
      "0.24929105401044138\n"
     ]
    }
   ],
   "source": [
    "rps = calc_RP(Y_test, preds_spen)\n",
    "avgRP = np.mean(rps)\n",
    "print(avgRP)"
   ]
  },
  {
   "cell_type": "code",
   "execution_count": 31,
   "metadata": {},
   "outputs": [],
   "source": [
    "perf_dict_test = {'F1_example': F1_all_example[bestix],\n",
    "                  'F1_label': F1_all_label[bestix],\n",
    "                  'RP_example': avgPak,\n",
    "                  'RP_label': avgRP,\n",
    "                 }"
   ]
  },
  {
   "cell_type": "code",
   "execution_count": 32,
   "metadata": {},
   "outputs": [
    {
     "name": "stdout",
     "output_type": "stream",
     "text": [
      "{'bibtex': {'Test': {'F1_example': 0.41324037236538086, 'F1_label': 0.3365843859990467, 'RP_example': 0.45575463430655805, 'RP_label': 0.34392442428479153}}, 'bookmarks': {'Test': {'F1_example': 0.3553938453788133, 'F1_label': 0.24094370084927494, 'RP_example': 0.3958859200493974, 'RP_label': 0.24929105401044138}}}\n"
     ]
    }
   ],
   "source": [
    "fname = os.path.join(data_dir, 'result_mlc/perf-spen.pkl')\n",
    "dump_perf(fname, {'Test': perf_dict_test})\n",
    "print(pkl.load(open(fname, 'rb')))"
   ]
  },
  {
   "cell_type": "markdown",
   "metadata": {},
   "source": [
    "## Evaluate Binary Relevance"
   ]
  },
  {
   "cell_type": "markdown",
   "metadata": {},
   "source": [
    "Independent Logistic Regression."
   ]
  },
  {
   "cell_type": "code",
   "execution_count": 33,
   "metadata": {},
   "outputs": [],
   "source": [
    "fname = os.path.join(data_dir, 'result_mlc/%s/br-%s-base.pkl' % (dataset_name, dataset_name))\n",
    "br = pkl.load(open(fname, 'rb'))"
   ]
  },
  {
   "cell_type": "code",
   "execution_count": 34,
   "metadata": {},
   "outputs": [],
   "source": [
    "preds_br = br.decision_function(X_test)"
   ]
  },
  {
   "cell_type": "code",
   "execution_count": 35,
   "metadata": {},
   "outputs": [
    {
     "name": "stdout",
     "output_type": "stream",
     "text": [
      "0.29520247742393496\n"
     ]
    }
   ],
   "source": [
    "F1_example = np.mean(f1_score_nowarn(Y_test, preds_br >= 0, average='samples'))\n",
    "print(F1_example)"
   ]
  },
  {
   "cell_type": "code",
   "execution_count": 36,
   "metadata": {},
   "outputs": [
    {
     "name": "stdout",
     "output_type": "stream",
     "text": [
      "0.2100303975414152\n"
     ]
    }
   ],
   "source": [
    "F1_label = np.mean(f1_score_nowarn(Y_test, preds_br >= 0, average='macro'))\n",
    "print(F1_label)"
   ]
  },
  {
   "cell_type": "code",
   "execution_count": 37,
   "metadata": {},
   "outputs": [
    {
     "name": "stdout",
     "output_type": "stream",
     "text": [
      "0.35600940591394675\n"
     ]
    }
   ],
   "source": [
    "pak, ind = calc_precisionK(Y_test.astype(np.bool), preds_br)\n",
    "avgPak = np.mean(pak)\n",
    "print(avgPak)"
   ]
  },
  {
   "cell_type": "code",
   "execution_count": 38,
   "metadata": {},
   "outputs": [],
   "source": [
    "#auc_br = roc_auc_score(Y_test, preds_br, average='samples')\n",
    "#print(auc_br)"
   ]
  },
  {
   "cell_type": "code",
   "execution_count": 39,
   "metadata": {},
   "outputs": [
    {
     "name": "stdout",
     "output_type": "stream",
     "text": [
      "0.21179771743268688\n"
     ]
    }
   ],
   "source": [
    "rps = calc_RP(Y_test, preds_br)\n",
    "avgRP = np.mean(rps)\n",
    "print(avgRP)"
   ]
  },
  {
   "cell_type": "code",
   "execution_count": 40,
   "metadata": {},
   "outputs": [],
   "source": [
    "perf_dict_test = {'F1_example': F1_example,\n",
    "                  'F1_label': F1_label,\n",
    "                  'RP_example': avgPak,\n",
    "                  'RP_label': avgRP,\n",
    "                 }"
   ]
  },
  {
   "cell_type": "code",
   "execution_count": 41,
   "metadata": {},
   "outputs": [
    {
     "name": "stdout",
     "output_type": "stream",
     "text": [
      "{'bibtex': {'Test': {'F1_example': 0.378698648305404, 'F1_label': 0.3009792869576707, 'RP_example': 0.4314404356931547, 'RP_label': 0.32090306990116685}}, 'bookmarks': {'Test': {'F1_example': 0.29520247742393496, 'F1_label': 0.2100303975414152, 'RP_example': 0.35600940591394675, 'RP_label': 0.21179771743268688}}}\n"
     ]
    }
   ],
   "source": [
    "fname = os.path.join(data_dir, 'result_mlc/perf-br.pkl')\n",
    "dump_perf(fname, {'Test': perf_dict_test})\n",
    "print(pkl.load(open(fname, 'rb')))"
   ]
  },
  {
   "cell_type": "markdown",
   "metadata": {},
   "source": [
    "## Evaluate P-Classification"
   ]
  },
  {
   "cell_type": "code",
   "execution_count": 42,
   "metadata": {},
   "outputs": [],
   "source": [
    "fname = os.path.join(data_dir, 'result_mlc/%s/pc-%s-f1.pkl' % (dataset_name, dataset_name))\n",
    "pc = pkl.load(open(fname, 'rb'))"
   ]
  },
  {
   "cell_type": "code",
   "execution_count": 43,
   "metadata": {},
   "outputs": [],
   "source": [
    "preds_pc = pc.decision_function(X_test)"
   ]
  },
  {
   "cell_type": "code",
   "execution_count": 44,
   "metadata": {},
   "outputs": [
    {
     "name": "stdout",
     "output_type": "stream",
     "text": [
      "0.37660396924850337\n"
     ]
    }
   ],
   "source": [
    "F1_example = np.mean(f1_score_nowarn(Y_test, preds_pc >= pc.best_threshold, average='samples'))\n",
    "print(F1_example)"
   ]
  },
  {
   "cell_type": "code",
   "execution_count": 45,
   "metadata": {},
   "outputs": [
    {
     "name": "stdout",
     "output_type": "stream",
     "text": [
      "0.28356730616129366\n"
     ]
    }
   ],
   "source": [
    "F1_label = np.mean(f1_score_nowarn(Y_test, preds_pc >= pc.best_threshold, average='macro'))\n",
    "print(F1_label)"
   ]
  },
  {
   "cell_type": "code",
   "execution_count": 46,
   "metadata": {},
   "outputs": [
    {
     "name": "stdout",
     "output_type": "stream",
     "text": [
      "0.4225622340282832\n"
     ]
    }
   ],
   "source": [
    "pak, ind = calc_precisionK(Y_test.astype(np.bool), preds_pc)\n",
    "avgPak = np.mean(pak)\n",
    "print(avgPak)"
   ]
  },
  {
   "cell_type": "code",
   "execution_count": 47,
   "metadata": {},
   "outputs": [],
   "source": [
    "#auc_pc = roc_auc_score(Y_test, preds_pc, average='samples')\n",
    "#print(auc_pc)"
   ]
  },
  {
   "cell_type": "code",
   "execution_count": 48,
   "metadata": {},
   "outputs": [
    {
     "name": "stdout",
     "output_type": "stream",
     "text": [
      "0.29531203991602994\n"
     ]
    }
   ],
   "source": [
    "rps = calc_RP(Y_test, preds_pc)\n",
    "avgRP = np.mean(rps)\n",
    "print(avgRP)"
   ]
  },
  {
   "cell_type": "code",
   "execution_count": 49,
   "metadata": {},
   "outputs": [],
   "source": [
    "perf_dict_test = {'F1_example': F1_example,\n",
    "                  'F1_label': F1_label,\n",
    "                  'RP_example': avgPak,\n",
    "                  'RP_label': avgRP,\n",
    "                 }"
   ]
  },
  {
   "cell_type": "code",
   "execution_count": 50,
   "metadata": {},
   "outputs": [
    {
     "name": "stdout",
     "output_type": "stream",
     "text": [
      "{'bibtex': {'Test': {'F1_example': 0.47015144430032674, 'F1_label': 0.3877979664536378, 'RP_example': 0.5133180719214516, 'RP_label': 0.4054764234814962}}, 'bookmarks': {'Test': {'F1_example': 0.37660396924850337, 'F1_label': 0.28356730616129366, 'RP_example': 0.4225622340282832, 'RP_label': 0.29531203991602994}}}\n"
     ]
    }
   ],
   "source": [
    "fname = os.path.join(data_dir, 'result_mlc/perf-pc.pkl')\n",
    "dump_perf(fname, {'Test': perf_dict_test})\n",
    "print(pkl.load(open(fname, 'rb')))"
   ]
  },
  {
   "cell_type": "markdown",
   "metadata": {},
   "source": [
    "## Results for PRLR"
   ]
  },
  {
   "cell_type": "markdown",
   "metadata": {},
   "source": [
    "Results of PRLR algorithm from [Multi-Label Learning with Posterior Regularization](https://homes.cs.washington.edu/~luheng/files/mlnlp2014_lshtz.pdf)."
   ]
  },
  {
   "cell_type": "code",
   "execution_count": 51,
   "metadata": {},
   "outputs": [],
   "source": [
    "fname = os.path.join(data_dir, 'result_mlc/perf-prlr.pkl')"
   ]
  },
  {
   "cell_type": "code",
   "execution_count": 52,
   "metadata": {},
   "outputs": [],
   "source": [
    "perf_dict = {\n",
    "    'bibtex': {'Test': {'F1_example': 0.442, 'F1_label': 0.372,'RP_example': np.nan, 'RP_label': np.nan}}, \n",
    "    'bookmarks': {'Test': {'F1_example': 0.349, 'F1_label': 0.230,'RP_example': np.nan,'RP_label': np.nan}},}"
   ]
  },
  {
   "cell_type": "code",
   "execution_count": 53,
   "metadata": {},
   "outputs": [
    {
     "name": "stdout",
     "output_type": "stream",
     "text": [
      "{'bibtex': {'Test': {'F1_example': 0.442, 'F1_label': 0.372, 'RP_example': nan, 'RP_label': nan}}, 'bookmarks': {'Test': {'F1_example': 0.349, 'F1_label': 0.23, 'RP_example': nan, 'RP_label': nan}}}\n"
     ]
    }
   ],
   "source": [
    "pkl.dump(perf_dict, open(fname, 'wb'))\n",
    "print(pkl.load(open(fname, 'rb')))"
   ]
  },
  {
   "cell_type": "markdown",
   "metadata": {},
   "source": [
    "## Generate results table"
   ]
  },
  {
   "cell_type": "code",
   "execution_count": 61,
   "metadata": {},
   "outputs": [],
   "source": [
    "algos = [('br', 'BR~\\cite{tsoumakas2006multi}'), \n",
    "         ('prlr', 'PRLR~\\cite{lin2014multi}'), \n",
    "         ('spen', 'SPEN~\\cite{belanger2016structured}'), \n",
    "         ('dvn', 'DVN~\\cite{gygli2017deep}'), \n",
    "         ('pc', 'PC (Ours)')]\n",
    "dataset = [('bibtex', '\\textbf{bibtex}'), ('bookmarks', '\\textbf{bookmarks}')]\n",
    "metrics = [('F1_example', 'F$_{1\\,\\text{example}}$'), ('F1_label', 'F$_{1\\,\\text{label}}$'), \n",
    "           ('RP_example', 'R-Precision$_{\\,\\text{example}}$'), \n",
    "           ('RP_label', 'R-Precision$_{\\,\\text{label}}$')]"
   ]
  },
  {
   "cell_type": "code",
   "execution_count": 62,
   "metadata": {},
   "outputs": [],
   "source": [
    "fperf = [os.path.join(data_dir, 'result_mlc/perf-%s.pkl' % algo) for algo in [t[0] for t in algos]]\n",
    "perfs = [pkl.load(open(f, 'rb')) for f in fperf]"
   ]
  },
  {
   "cell_type": "code",
   "execution_count": 63,
   "metadata": {},
   "outputs": [],
   "source": [
    "rows = [t[1] for t in algos]\n",
    "cols = pd.MultiIndex.from_product([[t[1] for t in dataset], [t[1] for t in metrics]])"
   ]
  },
  {
   "cell_type": "code",
   "execution_count": 64,
   "metadata": {},
   "outputs": [],
   "source": [
    "df_test = pd.DataFrame(index=rows, columns=cols)"
   ]
  },
  {
   "cell_type": "code",
   "execution_count": 65,
   "metadata": {},
   "outputs": [],
   "source": [
    "for ix in range(len(perfs)):\n",
    "    perf = perfs[ix]\n",
    "    row = rows[ix]\n",
    "    for jx in range(len(dataset)):\n",
    "        dat = dataset[jx][0]\n",
    "        dat_jx = dataset[jx][1]\n",
    "        for kx in range(len(metrics)):\n",
    "            metric = metrics[kx][0]\n",
    "            metric_kx = metrics[kx][1]\n",
    "            df_test.loc[row, (dat_jx, metric_kx)] = 100 * perf[dat]['Test'][metric]        "
   ]
  },
  {
   "cell_type": "code",
   "execution_count": 66,
   "metadata": {},
   "outputs": [
    {
     "data": {
      "text/html": [
       "<div>\n",
       "<style scoped>\n",
       "    .dataframe tbody tr th:only-of-type {\n",
       "        vertical-align: middle;\n",
       "    }\n",
       "\n",
       "    .dataframe tbody tr th {\n",
       "        vertical-align: top;\n",
       "    }\n",
       "\n",
       "    .dataframe thead tr th {\n",
       "        text-align: left;\n",
       "    }\n",
       "</style>\n",
       "<table border=\"1\" class=\"dataframe\">\n",
       "  <thead>\n",
       "    <tr>\n",
       "      <th></th>\n",
       "      <th colspan=\"4\" halign=\"left\">\\textbf{bibtex}</th>\n",
       "      <th colspan=\"4\" halign=\"left\">\\textbf{bookmarks}</th>\n",
       "    </tr>\n",
       "    <tr>\n",
       "      <th></th>\n",
       "      <th>F$_{1\\,\\text{example}}$</th>\n",
       "      <th>F$_{1\\,\\text{label}}$</th>\n",
       "      <th>R-Precision$_{\\,\\text{example}}$</th>\n",
       "      <th>R-Precision$_{\\,\\text{label}}$</th>\n",
       "      <th>F$_{1\\,\\text{example}}$</th>\n",
       "      <th>F$_{1\\,\\text{label}}$</th>\n",
       "      <th>R-Precision$_{\\,\\text{example}}$</th>\n",
       "      <th>R-Precision$_{\\,\\text{label}}$</th>\n",
       "    </tr>\n",
       "  </thead>\n",
       "  <tbody>\n",
       "    <tr>\n",
       "      <th>BR~\\cite{tsoumakas2006multi}</th>\n",
       "      <td>37.8699</td>\n",
       "      <td>30.0979</td>\n",
       "      <td>43.144</td>\n",
       "      <td>32.0903</td>\n",
       "      <td>29.5202</td>\n",
       "      <td>21.003</td>\n",
       "      <td>35.6009</td>\n",
       "      <td>21.1798</td>\n",
       "    </tr>\n",
       "    <tr>\n",
       "      <th>PRLR~\\cite{lin2014multi}</th>\n",
       "      <td>44.2</td>\n",
       "      <td>37.2</td>\n",
       "      <td>NaN</td>\n",
       "      <td>NaN</td>\n",
       "      <td>34.9</td>\n",
       "      <td>23</td>\n",
       "      <td>NaN</td>\n",
       "      <td>NaN</td>\n",
       "    </tr>\n",
       "    <tr>\n",
       "      <th>SPEN~\\cite{belanger2016structured}</th>\n",
       "      <td>41.324</td>\n",
       "      <td>33.6584</td>\n",
       "      <td>45.5755</td>\n",
       "      <td>34.3924</td>\n",
       "      <td>35.5394</td>\n",
       "      <td>24.0944</td>\n",
       "      <td>39.5886</td>\n",
       "      <td>24.9291</td>\n",
       "    </tr>\n",
       "    <tr>\n",
       "      <th>DVN~\\cite{gygli2017deep}</th>\n",
       "      <td>44.7005</td>\n",
       "      <td>32.4213</td>\n",
       "      <td>50.3246</td>\n",
       "      <td>37.6606</td>\n",
       "      <td>37.1556</td>\n",
       "      <td>23.6748</td>\n",
       "      <td>42.245</td>\n",
       "      <td>26.3046</td>\n",
       "    </tr>\n",
       "    <tr>\n",
       "      <th>PC (Ours)</th>\n",
       "      <td>47.0151</td>\n",
       "      <td>38.7798</td>\n",
       "      <td>51.3318</td>\n",
       "      <td>40.5476</td>\n",
       "      <td>37.6604</td>\n",
       "      <td>28.3567</td>\n",
       "      <td>42.2562</td>\n",
       "      <td>29.5312</td>\n",
       "    </tr>\n",
       "  </tbody>\n",
       "</table>\n",
       "</div>"
      ],
      "text/plain": [
       "                                           \\textbf{bibtex}  \\\n",
       "                                   F$_{1\\,\\text{example}}$   \n",
       "BR~\\cite{tsoumakas2006multi}                       37.8699   \n",
       "PRLR~\\cite{lin2014multi}                              44.2   \n",
       "SPEN~\\cite{belanger2016structured}                  41.324   \n",
       "DVN~\\cite{gygli2017deep}                           44.7005   \n",
       "PC (Ours)                                          47.0151   \n",
       "\n",
       "                                                          \\\n",
       "                                   F$_{1\\,\\text{label}}$   \n",
       "BR~\\cite{tsoumakas2006multi}                     30.0979   \n",
       "PRLR~\\cite{lin2014multi}                            37.2   \n",
       "SPEN~\\cite{belanger2016structured}               33.6584   \n",
       "DVN~\\cite{gygli2017deep}                         32.4213   \n",
       "PC (Ours)                                        38.7798   \n",
       "\n",
       "                                                                     \\\n",
       "                                   R-Precision$_{\\,\\text{example}}$   \n",
       "BR~\\cite{tsoumakas2006multi}                                 43.144   \n",
       "PRLR~\\cite{lin2014multi}                                        NaN   \n",
       "SPEN~\\cite{belanger2016structured}                          45.5755   \n",
       "DVN~\\cite{gygli2017deep}                                    50.3246   \n",
       "PC (Ours)                                                   51.3318   \n",
       "\n",
       "                                                                   \\\n",
       "                                   R-Precision$_{\\,\\text{label}}$   \n",
       "BR~\\cite{tsoumakas2006multi}                              32.0903   \n",
       "PRLR~\\cite{lin2014multi}                                      NaN   \n",
       "SPEN~\\cite{belanger2016structured}                        34.3924   \n",
       "DVN~\\cite{gygli2017deep}                                  37.6606   \n",
       "PC (Ours)                                                 40.5476   \n",
       "\n",
       "                                        \\textbf{bookmarks}  \\\n",
       "                                   F$_{1\\,\\text{example}}$   \n",
       "BR~\\cite{tsoumakas2006multi}                       29.5202   \n",
       "PRLR~\\cite{lin2014multi}                              34.9   \n",
       "SPEN~\\cite{belanger2016structured}                 35.5394   \n",
       "DVN~\\cite{gygli2017deep}                           37.1556   \n",
       "PC (Ours)                                          37.6604   \n",
       "\n",
       "                                                          \\\n",
       "                                   F$_{1\\,\\text{label}}$   \n",
       "BR~\\cite{tsoumakas2006multi}                      21.003   \n",
       "PRLR~\\cite{lin2014multi}                              23   \n",
       "SPEN~\\cite{belanger2016structured}               24.0944   \n",
       "DVN~\\cite{gygli2017deep}                         23.6748   \n",
       "PC (Ours)                                        28.3567   \n",
       "\n",
       "                                                                     \\\n",
       "                                   R-Precision$_{\\,\\text{example}}$   \n",
       "BR~\\cite{tsoumakas2006multi}                                35.6009   \n",
       "PRLR~\\cite{lin2014multi}                                        NaN   \n",
       "SPEN~\\cite{belanger2016structured}                          39.5886   \n",
       "DVN~\\cite{gygli2017deep}                                     42.245   \n",
       "PC (Ours)                                                   42.2562   \n",
       "\n",
       "                                                                   \n",
       "                                   R-Precision$_{\\,\\text{label}}$  \n",
       "BR~\\cite{tsoumakas2006multi}                              21.1798  \n",
       "PRLR~\\cite{lin2014multi}                                      NaN  \n",
       "SPEN~\\cite{belanger2016structured}                        24.9291  \n",
       "DVN~\\cite{gygli2017deep}                                  26.3046  \n",
       "PC (Ours)                                                 29.5312  "
      ]
     },
     "execution_count": 66,
     "metadata": {},
     "output_type": "execute_result"
    }
   ],
   "source": [
    "df_test"
   ]
  },
  {
   "cell_type": "code",
   "execution_count": 79,
   "metadata": {},
   "outputs": [],
   "source": [
    "tab_test = df_test.to_latex(float_format=lambda x: '$%.1f$' % x, na_rep='N/A', \n",
    "                            column_format='l|*{%d}{r}|*{%d}{r}' % (len(metrics), len(metrics)), \n",
    "                            multicolumn=True, multicolumn_format='c', escape=False)"
   ]
  },
  {
   "cell_type": "code",
   "execution_count": 80,
   "metadata": {},
   "outputs": [
    {
     "name": "stdout",
     "output_type": "stream",
     "text": [
      "\\begin{table}[!h]\n",
      "\\centering\n",
      "\\caption{Performance on multi-label dataset}\n",
      "\\label{tab:perf_mlc}\n",
      "\\begin{tabular}{l|*{4}{r}|*{4}{r}}\n",
      "\\toprule\n",
      "{} & \\multicolumn{4}{c}{\\textbf{bibtex}} & \\multicolumn{4}{c}{\\textbf{bookmarks}} \\\\\n",
      "{} & F$_{1\\,\\text{example}}$ & F$_{1\\,\\text{label}}$ & R-Precision$_{\\,\\text{example}}$ & R-Precision$_{\\,\\text{label}}$ & F$_{1\\,\\text{example}}$ & F$_{1\\,\\text{label}}$ & R-Precision$_{\\,\\text{example}}$ & R-Precision$_{\\,\\text{label}}$ \\\\\n",
      "\\midrule\n",
      "BR~\\cite{tsoumakas2006multi}       &                  $37.9$ &                $30.1$ &                           $43.1$ &                         $32.1$ &                  $29.5$ &                $21.0$ &                           $35.6$ &                         $21.2$ \\\\\n",
      "PRLR~\\cite{lin2014multi}           &                  $44.2$ &                $37.2$ &                              N/A &                            N/A &                  $34.9$ &                $23.0$ &                              N/A &                            N/A \\\\\n",
      "SPEN~\\cite{belanger2016structured} &                  $41.3$ &                $33.7$ &                           $45.6$ &                         $34.4$ &                  $35.5$ &                $24.1$ &                           $39.6$ &                         $24.9$ \\\\\n",
      "DVN~\\cite{gygli2017deep}           &                  $44.7$ &                $32.4$ &                           $50.3$ &                         $37.7$ &                  $37.2$ &                $23.7$ &                           $42.2$ &                         $26.3$ \\\\\n",
      "PC (Ours)                          &                  $47.0$ &                $38.8$ &                           $51.3$ &                         $40.5$ &                  $37.7$ &                $28.4$ &                           $42.3$ &                         $29.5$ \\\\\n",
      "\\bottomrule\n",
      "\\end{tabular}\n",
      "\n",
      "\\end{table}\n"
     ]
    }
   ],
   "source": [
    "print('\\\\begin{table}[!h]')\n",
    "print('\\centering')\n",
    "print('\\\\caption{Performance on multi-label dataset}')\n",
    "print('\\\\label{tab:perf_mlc}')    \n",
    "print(tab_test)\n",
    "print('\\\\end{table}')"
   ]
  }
 ],
 "metadata": {
  "kernelspec": {
   "display_name": "Python 3",
   "language": "python",
   "name": "python3"
  },
  "language_info": {
   "codemirror_mode": {
    "name": "ipython",
    "version": 3
   },
   "file_extension": ".py",
   "mimetype": "text/x-python",
   "name": "python",
   "nbconvert_exporter": "python",
   "pygments_lexer": "ipython3",
   "version": "3.6.4"
  }
 },
 "nbformat": 4,
 "nbformat_minor": 2
}
