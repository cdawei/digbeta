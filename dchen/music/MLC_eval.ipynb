{
 "cells": [
  {
   "cell_type": "markdown",
   "metadata": {},
   "source": [
    "# Evaluate Multi-label Classification"
   ]
  },
  {
   "cell_type": "code",
   "execution_count": 1,
   "metadata": {},
   "outputs": [],
   "source": [
    "%matplotlib inline\n",
    "%load_ext line_profiler\n",
    "%load_ext memory_profiler\n",
    "%load_ext autoreload\n",
    "%autoreload 2\n",
    "\n",
    "import os, sys, time\n",
    "import pickle as pkl\n",
    "import numpy as np\n",
    "import pandas as pd\n",
    "\n",
    "import matplotlib.pyplot as plt\n",
    "import seaborn as sns\n",
    "\n",
    "import torchfile"
   ]
  },
  {
   "cell_type": "code",
   "execution_count": 2,
   "metadata": {},
   "outputs": [],
   "source": [
    "sys.path.append('src')\n",
    "from evaluate import avgPrecisionK, evaluatePrecision, evaluateF1, evaluateRankingLoss, f1_score_nowarn\n",
    "from evaluate import calc_F1, calc_precisionK\n",
    "from datasets import create_dataset, dataset_names, nLabels_dict\n",
    "from BinaryRelevance import BinaryRelevance\n",
    "from PC import MLC_pclassification, obj_pclassification"
   ]
  },
  {
   "cell_type": "code",
   "execution_count": 3,
   "metadata": {},
   "outputs": [
    {
     "data": {
      "text/plain": [
       "['yeast', 'scene', 'bibtex', 'bookmarks', 'delicious', 'mediamill']"
      ]
     },
     "execution_count": 3,
     "metadata": {},
     "output_type": "execute_result"
    }
   ],
   "source": [
    "dataset_names"
   ]
  },
  {
   "cell_type": "code",
   "execution_count": 4,
   "metadata": {},
   "outputs": [],
   "source": [
    "data_ix = 3"
   ]
  },
  {
   "cell_type": "code",
   "execution_count": 5,
   "metadata": {},
   "outputs": [
    {
     "name": "stdout",
     "output_type": "stream",
     "text": [
      "bookmarks 208\n"
     ]
    }
   ],
   "source": [
    "dataset_name = dataset_names[data_ix]\n",
    "nLabels = nLabels_dict[dataset_name]\n",
    "print(dataset_name, nLabels)"
   ]
  },
  {
   "cell_type": "code",
   "execution_count": 6,
   "metadata": {},
   "outputs": [],
   "source": [
    "data_dir = 'data'\n",
    "SEED = 918273645"
   ]
  },
  {
   "cell_type": "markdown",
   "metadata": {},
   "source": [
    "## Load dataset"
   ]
  },
  {
   "cell_type": "code",
   "execution_count": 7,
   "metadata": {},
   "outputs": [],
   "source": [
    "X_train, Y_train = create_dataset(dataset_name, train_data=True, shuffle=True, random_state=SEED)\n",
    "X_test,  Y_test  = create_dataset(dataset_name, train_data=False)"
   ]
  },
  {
   "cell_type": "markdown",
   "metadata": {},
   "source": [
    "Feature normalisation."
   ]
  },
  {
   "cell_type": "code",
   "execution_count": 8,
   "metadata": {},
   "outputs": [],
   "source": [
    "X_train_mean = np.mean(X_train, axis=0).reshape((1, -1))\n",
    "X_train_std = np.std(X_train, axis=0).reshape((1, -1)) + 10 ** (-6)\n",
    "X_train -= X_train_mean\n",
    "X_train /= X_train_std\n",
    "X_test  -= X_train_mean\n",
    "X_test  /= X_train_std"
   ]
  },
  {
   "cell_type": "markdown",
   "metadata": {},
   "source": [
    "## Evaluate DVN"
   ]
  },
  {
   "cell_type": "code",
   "execution_count": 54,
   "metadata": {},
   "outputs": [],
   "source": [
    "preds_test = np.load(os.path.join(data_dir, dataset_name + '/preds_test_dvn.npy'))"
   ]
  },
  {
   "cell_type": "code",
   "execution_count": 55,
   "metadata": {},
   "outputs": [
    {
     "data": {
      "text/plain": [
       "(27856, 208)"
      ]
     },
     "execution_count": 55,
     "metadata": {},
     "output_type": "execute_result"
    }
   ],
   "source": [
    "preds_test.shape"
   ]
  },
  {
   "cell_type": "code",
   "execution_count": 56,
   "metadata": {},
   "outputs": [
    {
     "data": {
      "text/plain": [
       "(27856, 208)"
      ]
     },
     "execution_count": 56,
     "metadata": {},
     "output_type": "execute_result"
    }
   ],
   "source": [
    "Y_test.shape"
   ]
  },
  {
   "cell_type": "code",
   "execution_count": 57,
   "metadata": {},
   "outputs": [
    {
     "name": "stdout",
     "output_type": "stream",
     "text": [
      "0.371555968605\n"
     ]
    }
   ],
   "source": [
    "f1mean = f1_score_nowarn(Y_test, preds_test >= 0.5, average='samples')\n",
    "print(f1mean)"
   ]
  },
  {
   "cell_type": "code",
   "execution_count": 58,
   "metadata": {},
   "outputs": [
    {
     "name": "stdout",
     "output_type": "stream",
     "text": [
      "0.371555968605\n"
     ]
    }
   ],
   "source": [
    "F1_sample = np.mean(calc_F1(Y_test, preds_test >= 0.5))\n",
    "print(F1_sample)"
   ]
  },
  {
   "cell_type": "code",
   "execution_count": 59,
   "metadata": {},
   "outputs": [
    {
     "name": "stdout",
     "output_type": "stream",
     "text": [
      "0.236748114984\n"
     ]
    }
   ],
   "source": [
    "F1_label = f1_score_nowarn(Y_test, preds_test >= 0.5, average='macro')\n",
    "print(F1_label)"
   ]
  },
  {
   "cell_type": "code",
   "execution_count": 60,
   "metadata": {},
   "outputs": [
    {
     "name": "stdout",
     "output_type": "stream",
     "text": [
      "0.422450083582\n"
     ]
    }
   ],
   "source": [
    "avgPak = np.mean(calc_precisionK(Y_test, preds_test))\n",
    "print(avgPak)"
   ]
  },
  {
   "cell_type": "code",
   "execution_count": 61,
   "metadata": {},
   "outputs": [],
   "source": [
    "#perf_dict_test = evaluatePrecision(Y_test, preds_test, verbose=1)\n",
    "#perf_dict_test.update(evaluateRankingLoss(Y_test, preds_test))\n",
    "#print(label_ranking_loss(Y_test, preds_test))"
   ]
  },
  {
   "cell_type": "code",
   "execution_count": 62,
   "metadata": {},
   "outputs": [],
   "source": [
    "perf_dict_test = {'F1_sample': F1_sample,\n",
    "                  'F1_label':  F1_label,\n",
    "                  'Precision@K': avgPak, \n",
    "                 }"
   ]
  },
  {
   "cell_type": "code",
   "execution_count": 63,
   "metadata": {},
   "outputs": [],
   "source": [
    "perf_dict = {'Test': perf_dict_test}"
   ]
  },
  {
   "cell_type": "code",
   "execution_count": 64,
   "metadata": {},
   "outputs": [],
   "source": [
    "fname = os.path.join(data_dir, 'perf-dvn.pkl')"
   ]
  },
  {
   "cell_type": "code",
   "execution_count": 65,
   "metadata": {},
   "outputs": [
    {
     "name": "stdout",
     "output_type": "stream",
     "text": [
      "\n",
      "{'bibtex': {'Test': {'F1_sample': 0.44700475542993195, 'F1_label': 0.32421320747927107, 'Precision@K': 0.50324643673871838}}, 'bookmarks': {'Test': {'F1_sample': 0.37155596860541956, 'F1_label': 0.23674811498350729, 'Precision@K': 0.42245008358248076}}}\n"
     ]
    }
   ],
   "source": [
    "if os.path.exists(fname):\n",
    "    _dict = pkl.load(open(fname, 'rb'))\n",
    "    if dataset_name not in _dict:\n",
    "        _dict[dataset_name] = perf_dict\n",
    "else:\n",
    "    _dict = {dataset_name: perf_dict}\n",
    "pkl.dump(_dict, open(fname, 'wb'))\n",
    "    \n",
    "print()\n",
    "print(pkl.load(open(fname, 'rb')))"
   ]
  },
  {
   "cell_type": "markdown",
   "metadata": {},
   "source": [
    "## Evaluate SPEN"
   ]
  },
  {
   "cell_type": "markdown",
   "metadata": {},
   "source": [
    "Pick the one with best sample F1."
   ]
  },
  {
   "cell_type": "code",
   "execution_count": 66,
   "metadata": {},
   "outputs": [],
   "source": [
    "gts = torchfile.load(os.path.join(data_dir, dataset_name + '/gts-500.torch'))"
   ]
  },
  {
   "cell_type": "code",
   "execution_count": 67,
   "metadata": {},
   "outputs": [
    {
     "data": {
      "text/plain": [
       "(27856, 208)"
      ]
     },
     "execution_count": 67,
     "metadata": {},
     "output_type": "execute_result"
    }
   ],
   "source": [
    "gts.shape"
   ]
  },
  {
   "cell_type": "code",
   "execution_count": 68,
   "metadata": {},
   "outputs": [],
   "source": [
    "#np.all(np.equal(Y_test, gts))"
   ]
  },
  {
   "cell_type": "code",
   "execution_count": 69,
   "metadata": {},
   "outputs": [],
   "source": [
    "preds = torchfile.load(os.path.join(data_dir, dataset_name + '/preds-500.torch'))"
   ]
  },
  {
   "cell_type": "code",
   "execution_count": 70,
   "metadata": {},
   "outputs": [
    {
     "data": {
      "text/plain": [
       "(27856, 208)"
      ]
     },
     "execution_count": 70,
     "metadata": {},
     "output_type": "execute_result"
    }
   ],
   "source": [
    "preds.shape"
   ]
  },
  {
   "cell_type": "code",
   "execution_count": 71,
   "metadata": {},
   "outputs": [],
   "source": [
    "thresholds = [0, 0.05, 0.10, 0.15, 0.2, 0.25, 0.30, 0.35, 0.4, 0.45, 0.5, 0.55, 0.60, 0.65, 0.70, 0.75]  # SPEN"
   ]
  },
  {
   "cell_type": "code",
   "execution_count": 72,
   "metadata": {},
   "outputs": [],
   "source": [
    "F1_all_sample = []\n",
    "F1_all_label  = []\n",
    "for th in thresholds:\n",
    "    F1_all_sample.append(f1_score_nowarn(gts, preds >= th, average='samples'))\n",
    "    F1_all_label.append(f1_score_nowarn(gts, preds >= th, average='macro'))"
   ]
  },
  {
   "cell_type": "code",
   "execution_count": 73,
   "metadata": {},
   "outputs": [
    {
     "name": "stdout",
     "output_type": "stream",
     "text": [
      "0.355393845379 0.240943700849 0.1\n"
     ]
    }
   ],
   "source": [
    "bestix = np.argmax(F1_all_sample)\n",
    "print(F1_all_sample[bestix], F1_all_label[bestix], thresholds[bestix])"
   ]
  },
  {
   "cell_type": "code",
   "execution_count": 74,
   "metadata": {},
   "outputs": [
    {
     "name": "stdout",
     "output_type": "stream",
     "text": [
      "0.395885920049\n"
     ]
    }
   ],
   "source": [
    "avgPak = np.mean(calc_precisionK(gts, preds))\n",
    "print(avgPak)"
   ]
  },
  {
   "cell_type": "code",
   "execution_count": null,
   "metadata": {},
   "outputs": [],
   "source": [
    "#threshold = 0.05 # bibtex\n",
    "#threshold = 0.1 # bookmarks\n",
    "#threshold = 0.2 # delicious\n",
    "#f1mean = f1_score_nowarn(gts, preds > threshold, average='samples')\n",
    "#print(f1mean)"
   ]
  },
  {
   "cell_type": "code",
   "execution_count": null,
   "metadata": {},
   "outputs": [],
   "source": [
    "#perf_dict_test = evaluatePrecision(gts, preds, verbose=1)\n",
    "#perf_dict_test.update(evaluateRankingLoss(gts, preds))\n",
    "#print(label_ranking_loss(gts, preds))"
   ]
  },
  {
   "cell_type": "code",
   "execution_count": 75,
   "metadata": {},
   "outputs": [],
   "source": [
    "perf_dict_test = {'F1_sample': F1_all_sample[bestix],\n",
    "                  'F1_label': F1_all_label[bestix],\n",
    "                  'Precision@K': avgPak, \n",
    "                 }"
   ]
  },
  {
   "cell_type": "code",
   "execution_count": 76,
   "metadata": {},
   "outputs": [],
   "source": [
    "fname = os.path.join(data_dir, 'perf-spen.pkl')"
   ]
  },
  {
   "cell_type": "code",
   "execution_count": 77,
   "metadata": {},
   "outputs": [],
   "source": [
    "perf_dict = {'Test': perf_dict_test}"
   ]
  },
  {
   "cell_type": "code",
   "execution_count": 78,
   "metadata": {},
   "outputs": [
    {
     "name": "stdout",
     "output_type": "stream",
     "text": [
      "\n",
      "{'bibtex': {'Test': {'F1_sample': 0.41324037236538086, 'F1_label': 0.33658438599904672, 'Precision@K': 0.45575463430655805}}, 'bookmarks': {'Test': {'F1_sample': 0.3553938453788133, 'F1_label': 0.24094370084927494, 'Precision@K': 0.39588592004939738}}}\n"
     ]
    }
   ],
   "source": [
    "if os.path.exists(fname):\n",
    "    _dict = pkl.load(open(fname, 'rb'))\n",
    "    if dataset_name not in _dict:\n",
    "        _dict[dataset_name] = perf_dict\n",
    "else:\n",
    "    _dict = {dataset_name: perf_dict}\n",
    "pkl.dump(_dict, open(fname, 'wb'))\n",
    "    \n",
    "print()\n",
    "print(pkl.load(open(fname, 'rb')))"
   ]
  },
  {
   "cell_type": "markdown",
   "metadata": {},
   "source": [
    "## Evaluate Binary Relevance"
   ]
  },
  {
   "cell_type": "markdown",
   "metadata": {},
   "source": [
    "Independent Logistic Regression."
   ]
  },
  {
   "cell_type": "code",
   "execution_count": 9,
   "metadata": {},
   "outputs": [],
   "source": [
    "fname = os.path.join(data_dir, 'br-' + dataset_name + '-base.pkl')\n",
    "br = pkl.load(open(fname, 'rb'))"
   ]
  },
  {
   "cell_type": "code",
   "execution_count": 10,
   "metadata": {},
   "outputs": [],
   "source": [
    "Y_pred = br.decision_function(X_test)"
   ]
  },
  {
   "cell_type": "code",
   "execution_count": 11,
   "metadata": {},
   "outputs": [
    {
     "name": "stdout",
     "output_type": "stream",
     "text": [
      "0.295202477424\n"
     ]
    }
   ],
   "source": [
    "F1_sample = np.mean(f1_score_nowarn(Y_test, Y_pred >= 0, average='samples'))\n",
    "print(F1_sample)"
   ]
  },
  {
   "cell_type": "code",
   "execution_count": 12,
   "metadata": {},
   "outputs": [
    {
     "name": "stdout",
     "output_type": "stream",
     "text": [
      "0.210030397541\n"
     ]
    }
   ],
   "source": [
    "F1_label = np.mean(f1_score_nowarn(Y_test, Y_pred >= 0, average='macro'))\n",
    "print(F1_label)"
   ]
  },
  {
   "cell_type": "code",
   "execution_count": 13,
   "metadata": {},
   "outputs": [
    {
     "name": "stdout",
     "output_type": "stream",
     "text": [
      "0.356009405914\n"
     ]
    }
   ],
   "source": [
    "avgPak = np.mean(calc_precisionK(Y_test, Y_pred))\n",
    "print(avgPak)"
   ]
  },
  {
   "cell_type": "code",
   "execution_count": 14,
   "metadata": {},
   "outputs": [],
   "source": [
    "perf_dict_test = {'F1_sample': F1_sample,\n",
    "                  'F1_label': F1_label,\n",
    "                  'Precision@K': avgPak, \n",
    "                 }"
   ]
  },
  {
   "cell_type": "code",
   "execution_count": 15,
   "metadata": {},
   "outputs": [],
   "source": [
    "fname = os.path.join(data_dir, 'perf-br.pkl')"
   ]
  },
  {
   "cell_type": "code",
   "execution_count": 16,
   "metadata": {},
   "outputs": [],
   "source": [
    "perf_dict = {'Test': perf_dict_test}"
   ]
  },
  {
   "cell_type": "code",
   "execution_count": 17,
   "metadata": {},
   "outputs": [
    {
     "name": "stdout",
     "output_type": "stream",
     "text": [
      "\n",
      "{'bibtex': {'Test': {'F1_sample': 0.37869864830540401, 'F1_label': 0.30097928695767068, 'Precision@K': 0.43144043569315471}}, 'bookmarks': {'Test': {'F1_sample': 0.29520247742393496, 'F1_label': 0.2100303975414152, 'Precision@K': 0.35600940591394675}}}\n"
     ]
    }
   ],
   "source": [
    "if os.path.exists(fname):\n",
    "    _dict = pkl.load(open(fname, 'rb'))\n",
    "    if dataset_name not in _dict:\n",
    "        _dict[dataset_name] = perf_dict\n",
    "else:\n",
    "    _dict = {dataset_name: perf_dict}\n",
    "pkl.dump(_dict, open(fname, 'wb'))\n",
    "    \n",
    "print()\n",
    "print(pkl.load(open(fname, 'rb')))"
   ]
  },
  {
   "cell_type": "markdown",
   "metadata": {},
   "source": [
    "## Evaluate P-Classification"
   ]
  },
  {
   "cell_type": "code",
   "execution_count": 102,
   "metadata": {},
   "outputs": [],
   "source": [
    "fname = os.path.join(data_dir, 'pc-' + dataset_name + '-f1.pkl')\n",
    "pc = pkl.load(open(fname, 'rb'))"
   ]
  },
  {
   "cell_type": "code",
   "execution_count": 103,
   "metadata": {},
   "outputs": [],
   "source": [
    "Y_pred = pc.decision_function(X_test)"
   ]
  },
  {
   "cell_type": "code",
   "execution_count": 104,
   "metadata": {},
   "outputs": [
    {
     "name": "stdout",
     "output_type": "stream",
     "text": [
      "0.4701514443\n"
     ]
    }
   ],
   "source": [
    "F1_sample = np.mean(f1_score_nowarn(Y_test, Y_pred >= pc.best_threshold, average='samples'))\n",
    "print(F1_sample)"
   ]
  },
  {
   "cell_type": "code",
   "execution_count": 105,
   "metadata": {},
   "outputs": [
    {
     "name": "stdout",
     "output_type": "stream",
     "text": [
      "0.387797966454\n"
     ]
    }
   ],
   "source": [
    "F1_label = np.mean(f1_score_nowarn(Y_test, Y_pred >= pc.best_threshold, average='macro'))\n",
    "print(F1_label)"
   ]
  },
  {
   "cell_type": "code",
   "execution_count": 106,
   "metadata": {},
   "outputs": [
    {
     "name": "stdout",
     "output_type": "stream",
     "text": [
      "0.513318071921\n"
     ]
    }
   ],
   "source": [
    "avgPak = np.mean(calc_precisionK(Y_test, Y_pred))\n",
    "print(avgPak)"
   ]
  },
  {
   "cell_type": "code",
   "execution_count": 107,
   "metadata": {},
   "outputs": [],
   "source": [
    "perf_dict_test = {'F1_sample': F1_sample,\n",
    "                  'F1_label': F1_label,\n",
    "                  'Precision@K': avgPak, \n",
    "                 }"
   ]
  },
  {
   "cell_type": "code",
   "execution_count": 108,
   "metadata": {},
   "outputs": [],
   "source": [
    "fname = os.path.join(data_dir, 'perf-pc.pkl')"
   ]
  },
  {
   "cell_type": "code",
   "execution_count": 109,
   "metadata": {},
   "outputs": [],
   "source": [
    "perf_dict = {'Test': perf_dict_test}"
   ]
  },
  {
   "cell_type": "code",
   "execution_count": 110,
   "metadata": {},
   "outputs": [
    {
     "name": "stdout",
     "output_type": "stream",
     "text": [
      "\n",
      "{'bookmarks': {'Test': {'F1_sample': 0.37660396924850337, 'F1_label': 0.28356730616129366, 'Precision@K': 0.42256223402828319}}, 'bibtex': {'Test': {'F1_sample': 0.47015144430032674, 'F1_label': 0.38779796645363779, 'Precision@K': 0.51331807192145162}}}\n"
     ]
    }
   ],
   "source": [
    "if os.path.exists(fname):\n",
    "    _dict = pkl.load(open(fname, 'rb'))\n",
    "    if dataset_name not in _dict:\n",
    "        _dict[dataset_name] = perf_dict\n",
    "else:\n",
    "    _dict = {dataset_name: perf_dict}\n",
    "pkl.dump(_dict, open(fname, 'wb'))\n",
    "    \n",
    "print()\n",
    "print(pkl.load(open(fname, 'rb')))"
   ]
  },
  {
   "cell_type": "markdown",
   "metadata": {},
   "source": [
    "## Results for PRLR"
   ]
  },
  {
   "cell_type": "markdown",
   "metadata": {},
   "source": [
    "Results of PRLR algorithm from [Multi-Label Learning with Posterior Regularization](https://homes.cs.washington.edu/~luheng/files/mlnlp2014_lshtz.pdf)."
   ]
  },
  {
   "cell_type": "code",
   "execution_count": 32,
   "metadata": {},
   "outputs": [],
   "source": [
    "fname = os.path.join(data_dir, 'perf-prlr.pkl')"
   ]
  },
  {
   "cell_type": "code",
   "execution_count": 33,
   "metadata": {},
   "outputs": [],
   "source": [
    "perf_dict = {'bibtex':    {'Test': {'F1_sample': 0.442, 'F1_label': 0.372, 'Precision@K': np.nan}}, \n",
    "             'bookmarks': {'Test': {'F1_sample': 0.349, 'F1_label': 0.230, 'Precision@K': np.nan}}, }"
   ]
  },
  {
   "cell_type": "code",
   "execution_count": 34,
   "metadata": {},
   "outputs": [
    {
     "name": "stdout",
     "output_type": "stream",
     "text": [
      "{'bibtex': {'Test': {'F1_sample': 0.442, 'F1_label': 0.372, 'Precision@K': nan}}, 'bookmarks': {'Test': {'F1_sample': 0.349, 'F1_label': 0.23, 'Precision@K': nan}}}\n"
     ]
    }
   ],
   "source": [
    "pkl.dump(perf_dict, open(fname, 'wb'))\n",
    "print(pkl.load(open(fname, 'rb')))"
   ]
  },
  {
   "cell_type": "markdown",
   "metadata": {},
   "source": [
    "## Generate results table"
   ]
  },
  {
   "cell_type": "code",
   "execution_count": 74,
   "metadata": {},
   "outputs": [],
   "source": [
    "algos = [('br', 'BR'), \n",
    "         ('prlr', 'PRLR~\\cite{lin2014multi}'), \n",
    "         ('spen', 'SPEN~\\cite{belanger2016structured}'), \n",
    "         ('dvn', 'DVN~\\cite{gygli2017deep}'), \n",
    "         ('pc', 'PC (Ours)')]\n",
    "dataset = [('bibtex', '\\textbf{bibtex}'), ('bookmarks', '\\textbf{bookmarks}')]\n",
    "metrics = [('F1_sample', 'F$_1$ Example'), ('F1_label', 'F$_1$ Label'), ('Precision@K', 'Precision@K')]"
   ]
  },
  {
   "cell_type": "code",
   "execution_count": 75,
   "metadata": {},
   "outputs": [],
   "source": [
    "fperf = [os.path.join(data_dir, 'perf-' + algo + '.pkl') for algo in [t[0] for t in algos]]\n",
    "perfs = [pkl.load(open(f, 'rb')) for f in fperf]"
   ]
  },
  {
   "cell_type": "code",
   "execution_count": 76,
   "metadata": {},
   "outputs": [],
   "source": [
    "rows = [t[1] for t in algos]\n",
    "cols = pd.MultiIndex.from_product([[t[1] for t in dataset], [t[1] for t in metrics]])"
   ]
  },
  {
   "cell_type": "code",
   "execution_count": 77,
   "metadata": {},
   "outputs": [],
   "source": [
    "df_test = pd.DataFrame(index=rows, columns=cols)"
   ]
  },
  {
   "cell_type": "code",
   "execution_count": 78,
   "metadata": {},
   "outputs": [],
   "source": [
    "for ix in range(len(perfs)):\n",
    "    perf = perfs[ix]\n",
    "    row = rows[ix]\n",
    "    for jx in range(len(dataset)):\n",
    "        dat = dataset[jx][0]\n",
    "        dat_jx = dataset[jx][1]\n",
    "        for kx in range(len(metrics)):\n",
    "            metric = metrics[kx][0]\n",
    "            metric_kx = metrics[kx][1]\n",
    "            df_test.loc[row, (dat_jx, metric_kx)] = 100 * perf[dat]['Test'][metric]        "
   ]
  },
  {
   "cell_type": "code",
   "execution_count": 79,
   "metadata": {},
   "outputs": [
    {
     "data": {
      "text/html": [
       "<div>\n",
       "<style scoped>\n",
       "    .dataframe tbody tr th:only-of-type {\n",
       "        vertical-align: middle;\n",
       "    }\n",
       "\n",
       "    .dataframe tbody tr th {\n",
       "        vertical-align: top;\n",
       "    }\n",
       "\n",
       "    .dataframe thead tr th {\n",
       "        text-align: left;\n",
       "    }\n",
       "</style>\n",
       "<table border=\"1\" class=\"dataframe\">\n",
       "  <thead>\n",
       "    <tr>\n",
       "      <th></th>\n",
       "      <th colspan=\"3\" halign=\"left\">\\textbf{bibtex}</th>\n",
       "      <th colspan=\"3\" halign=\"left\">\\textbf{bookmarks}</th>\n",
       "    </tr>\n",
       "    <tr>\n",
       "      <th></th>\n",
       "      <th>F$_1$ Example</th>\n",
       "      <th>F$_1$ Label</th>\n",
       "      <th>Precision@K</th>\n",
       "      <th>F$_1$ Example</th>\n",
       "      <th>F$_1$ Label</th>\n",
       "      <th>Precision@K</th>\n",
       "    </tr>\n",
       "  </thead>\n",
       "  <tbody>\n",
       "    <tr>\n",
       "      <th>BR</th>\n",
       "      <td>37.8699</td>\n",
       "      <td>30.0979</td>\n",
       "      <td>43.144</td>\n",
       "      <td>29.5202</td>\n",
       "      <td>21.003</td>\n",
       "      <td>35.6009</td>\n",
       "    </tr>\n",
       "    <tr>\n",
       "      <th>PRLR~\\cite{lin2014multi}</th>\n",
       "      <td>44.2</td>\n",
       "      <td>37.2</td>\n",
       "      <td>NaN</td>\n",
       "      <td>34.9</td>\n",
       "      <td>23</td>\n",
       "      <td>NaN</td>\n",
       "    </tr>\n",
       "    <tr>\n",
       "      <th>SPEN~\\cite{belanger2016structured}</th>\n",
       "      <td>41.324</td>\n",
       "      <td>33.6584</td>\n",
       "      <td>45.5755</td>\n",
       "      <td>35.5394</td>\n",
       "      <td>24.0944</td>\n",
       "      <td>39.5886</td>\n",
       "    </tr>\n",
       "    <tr>\n",
       "      <th>DVN~\\cite{gygli2017deep}</th>\n",
       "      <td>44.7005</td>\n",
       "      <td>32.4213</td>\n",
       "      <td>50.3246</td>\n",
       "      <td>37.1556</td>\n",
       "      <td>23.6748</td>\n",
       "      <td>42.245</td>\n",
       "    </tr>\n",
       "    <tr>\n",
       "      <th>PC (Ours)</th>\n",
       "      <td>47.0151</td>\n",
       "      <td>38.7798</td>\n",
       "      <td>51.3318</td>\n",
       "      <td>37.6604</td>\n",
       "      <td>28.3567</td>\n",
       "      <td>42.2562</td>\n",
       "    </tr>\n",
       "  </tbody>\n",
       "</table>\n",
       "</div>"
      ],
      "text/plain": [
       "                                   \\textbf{bibtex}                          \\\n",
       "                                     F$_1$ Example F$_1$ Label Precision@K   \n",
       "BR                                         37.8699     30.0979      43.144   \n",
       "PRLR~\\cite{lin2014multi}                      44.2        37.2         NaN   \n",
       "SPEN~\\cite{belanger2016structured}          41.324     33.6584     45.5755   \n",
       "DVN~\\cite{gygli2017deep}                   44.7005     32.4213     50.3246   \n",
       "PC (Ours)                                  47.0151     38.7798     51.3318   \n",
       "\n",
       "                                   \\textbf{bookmarks}                          \n",
       "                                        F$_1$ Example F$_1$ Label Precision@K  \n",
       "BR                                            29.5202      21.003     35.6009  \n",
       "PRLR~\\cite{lin2014multi}                         34.9          23         NaN  \n",
       "SPEN~\\cite{belanger2016structured}            35.5394     24.0944     39.5886  \n",
       "DVN~\\cite{gygli2017deep}                      37.1556     23.6748      42.245  \n",
       "PC (Ours)                                     37.6604     28.3567     42.2562  "
      ]
     },
     "execution_count": 79,
     "metadata": {},
     "output_type": "execute_result"
    }
   ],
   "source": [
    "df_test"
   ]
  },
  {
   "cell_type": "code",
   "execution_count": 89,
   "metadata": {},
   "outputs": [],
   "source": [
    "tab_test = df_test.to_latex(float_format=lambda x: '$%.1f$' % x, na_rep='N/A',\n",
    "                            column_format='l*{6}{c}', multicolumn=True, multicolumn_format='c', escape=False)"
   ]
  },
  {
   "cell_type": "code",
   "execution_count": 90,
   "metadata": {},
   "outputs": [],
   "source": [
    "#df_test.to_latex?"
   ]
  },
  {
   "cell_type": "code",
   "execution_count": 91,
   "metadata": {},
   "outputs": [
    {
     "name": "stdout",
     "output_type": "stream",
     "text": [
      "\\begin{table}[!h]\n",
      "\\centering\n",
      "\\caption{Performance on multi-label dataset}\n",
      "\\label{tab:perf_mlc}\n",
      "\\begin{tabular}{l*{6}{c}}\n",
      "\\toprule\n",
      "{} & \\multicolumn{3}{c}{\\textbf{bibtex}} & \\multicolumn{3}{c}{\\textbf{bookmarks}} \\\\\n",
      "{} &   F$_1$ Example & F$_1$ Label & Precision@K &      F$_1$ Example & F$_1$ Label & Precision@K \\\\\n",
      "\\midrule\n",
      "BR                                 &          $37.9$ &      $30.1$ &      $43.1$ &             $29.5$ &      $21.0$ &      $35.6$ \\\\\n",
      "PRLR~\\cite{lin2014multi}           &          $44.2$ &      $37.2$ &         N/A &             $34.9$ &      $23.0$ &         N/A \\\\\n",
      "SPEN~\\cite{belanger2016structured} &          $41.3$ &      $33.7$ &      $45.6$ &             $35.5$ &      $24.1$ &      $39.6$ \\\\\n",
      "DVN~\\cite{gygli2017deep}           &          $44.7$ &      $32.4$ &      $50.3$ &             $37.2$ &      $23.7$ &      $42.2$ \\\\\n",
      "PC (Ours)                          &          $47.0$ &      $38.8$ &      $51.3$ &             $37.7$ &      $28.4$ &      $42.3$ \\\\\n",
      "\\bottomrule\n",
      "\\end{tabular}\n",
      "\n",
      "\\end{table}\n"
     ]
    }
   ],
   "source": [
    "print('\\\\begin{table}[!h]')\n",
    "print('\\centering')\n",
    "print('\\\\caption{Performance on multi-label dataset}')\n",
    "print('\\\\label{tab:perf_mlc}')    \n",
    "print(tab_test)\n",
    "print('\\\\end{table}')"
   ]
  },
  {
   "cell_type": "code",
   "execution_count": null,
   "metadata": {},
   "outputs": [],
   "source": []
  }
 ],
 "metadata": {
  "kernelspec": {
   "display_name": "Python 3",
   "language": "python",
   "name": "python3"
  },
  "language_info": {
   "codemirror_mode": {
    "name": "ipython",
    "version": 3
   },
   "file_extension": ".py",
   "mimetype": "text/x-python",
   "name": "python",
   "nbconvert_exporter": "python",
   "pygments_lexer": "ipython3",
   "version": "3.6.4"
  }
 },
 "nbformat": 4,
 "nbformat_minor": 2
}
