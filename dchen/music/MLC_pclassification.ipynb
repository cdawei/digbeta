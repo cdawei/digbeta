{
 "cells": [
  {
   "cell_type": "markdown",
   "metadata": {},
   "source": [
    "# Multi-label classification -- p-classification loss"
   ]
  },
  {
   "cell_type": "code",
   "execution_count": 1,
   "metadata": {
    "collapsed": true
   },
   "outputs": [],
   "source": [
    "%matplotlib inline\n",
    "%load_ext autoreload\n",
    "%autoreload 2\n",
    "\n",
    "import os, sys, time\n",
    "import pickle as pkl\n",
    "import numpy as np\n",
    "import pandas as pd\n",
    "\n",
    "from scipy.io import arff\n",
    "from scipy.optimize import minimize\n",
    "from scipy.optimize import check_grad\n",
    "\n",
    "from sklearn.base import BaseEstimator\n",
    "from sklearn.pipeline import make_pipeline\n",
    "from sklearn.model_selection import train_test_split\n",
    "from sklearn.model_selection import GridSearchCV\n",
    "from sklearn.metrics import classification_report\n",
    "\n",
    "import matplotlib.pyplot as plt\n",
    "import seaborn as sns"
   ]
  },
  {
   "cell_type": "code",
   "execution_count": 2,
   "metadata": {
    "collapsed": true
   },
   "outputs": [],
   "source": [
    "sys.path.append('src')\n",
    "from evaluate import avgPrecision, avgPrecisionK, printEvaluation"
   ]
  },
  {
   "cell_type": "code",
   "execution_count": 3,
   "metadata": {
    "collapsed": true
   },
   "outputs": [],
   "source": [
    "data_dir = 'data'\n",
    "yeast_ftrain = os.path.join(data_dir, 'yeast/yeast-train.arff')\n",
    "yeast_ftest  = os.path.join(data_dir, 'yeast/yeast-test.arff')"
   ]
  },
  {
   "cell_type": "code",
   "execution_count": 4,
   "metadata": {
    "collapsed": true
   },
   "outputs": [],
   "source": [
    "SEED = 123456789"
   ]
  },
  {
   "cell_type": "markdown",
   "metadata": {},
   "source": [
    "## Data loading"
   ]
  },
  {
   "cell_type": "markdown",
   "metadata": {},
   "source": [
    "Load yeast dataset."
   ]
  },
  {
   "cell_type": "code",
   "execution_count": 5,
   "metadata": {
    "collapsed": true
   },
   "outputs": [],
   "source": [
    "data_train, meta_train = arff.loadarff(yeast_ftrain)"
   ]
  },
  {
   "cell_type": "code",
   "execution_count": 6,
   "metadata": {
    "collapsed": true
   },
   "outputs": [],
   "source": [
    "data_test, meta_test = arff.loadarff(yeast_ftest)"
   ]
  },
  {
   "cell_type": "code",
   "execution_count": 7,
   "metadata": {},
   "outputs": [
    {
     "data": {
      "text/plain": [
       "numpy.ndarray"
      ]
     },
     "execution_count": 7,
     "metadata": {},
     "output_type": "execute_result"
    }
   ],
   "source": [
    "type(data_train)"
   ]
  },
  {
   "cell_type": "code",
   "execution_count": 8,
   "metadata": {
    "collapsed": true
   },
   "outputs": [],
   "source": [
    "#print(data_train[0])"
   ]
  },
  {
   "cell_type": "code",
   "execution_count": 9,
   "metadata": {
    "scrolled": true
   },
   "outputs": [
    {
     "data": {
      "text/plain": [
       "117"
      ]
     },
     "execution_count": 9,
     "metadata": {},
     "output_type": "execute_result"
    }
   ],
   "source": [
    "len(list(data_train[0]))"
   ]
  },
  {
   "cell_type": "markdown",
   "metadata": {},
   "source": [
    "Features"
   ]
  },
  {
   "cell_type": "code",
   "execution_count": 10,
   "metadata": {},
   "outputs": [
    {
     "name": "stdout",
     "output_type": "stream",
     "text": [
      "#features: 103\n"
     ]
    }
   ],
   "source": [
    "nFeatures = np.array(list(data_train[0])[:-14], dtype=np.float).shape[0]\n",
    "print('#features:', nFeatures)"
   ]
  },
  {
   "cell_type": "code",
   "execution_count": 11,
   "metadata": {
    "collapsed": true
   },
   "outputs": [],
   "source": [
    "#np.array(list(data_train[0])[:-14], dtype=np.float)"
   ]
  },
  {
   "cell_type": "markdown",
   "metadata": {},
   "source": [
    "Labels"
   ]
  },
  {
   "cell_type": "code",
   "execution_count": 12,
   "metadata": {},
   "outputs": [
    {
     "name": "stdout",
     "output_type": "stream",
     "text": [
      "#labels: 14\n"
     ]
    }
   ],
   "source": [
    "nLabels = np.array(list(data_train[0])[-14:], dtype=np.int).shape[0]\n",
    "print('#labels:', nLabels)"
   ]
  },
  {
   "cell_type": "code",
   "execution_count": 13,
   "metadata": {
    "collapsed": true
   },
   "outputs": [],
   "source": [
    "#np.array(list(data_train[0])[-14:], dtype=np.int)"
   ]
  },
  {
   "cell_type": "markdown",
   "metadata": {},
   "source": [
    "## Data analysis"
   ]
  },
  {
   "cell_type": "code",
   "execution_count": 14,
   "metadata": {},
   "outputs": [
    {
     "name": "stdout",
     "output_type": "stream",
     "text": [
      "#training examples: 1500\n"
     ]
    }
   ],
   "source": [
    "print('#training examples:', len(data_train))"
   ]
  },
  {
   "cell_type": "code",
   "execution_count": 15,
   "metadata": {},
   "outputs": [
    {
     "name": "stdout",
     "output_type": "stream",
     "text": [
      "#test examples: 917\n"
     ]
    }
   ],
   "source": [
    "print('#test examples:', len(data_test))"
   ]
  },
  {
   "cell_type": "markdown",
   "metadata": {},
   "source": [
    "Histogram of #positive labels."
   ]
  },
  {
   "cell_type": "code",
   "execution_count": 16,
   "metadata": {
    "collapsed": true
   },
   "outputs": [],
   "source": [
    "nPositives = [np.sum(np.array(list(data_train[ix])[-14:], dtype=np.int)) for ix in range(len(data_train))]"
   ]
  },
  {
   "cell_type": "code",
   "execution_count": 17,
   "metadata": {},
   "outputs": [
    {
     "data": {
      "text/plain": [
       "<matplotlib.axes._subplots.AxesSubplot at 0x7f9586a4c630>"
      ]
     },
     "execution_count": 17,
     "metadata": {},
     "output_type": "execute_result"
    },
    {
     "data": {
      "image/png": "[encoded data removed]",
      "text/plain": [
       "<matplotlib.figure.Figure at 0x7f9586a48f60>"
      ]
     },
     "metadata": {},
     "output_type": "display_data"
    }
   ],
   "source": [
    "pd.Series(nPositives).hist(bins=10)"
   ]
  },
  {
   "cell_type": "markdown",
   "metadata": {},
   "source": [
    "## Dataset creation"
   ]
  },
  {
   "cell_type": "code",
   "execution_count": 18,
   "metadata": {
    "collapsed": true
   },
   "outputs": [],
   "source": [
    "def create_dataset(data):\n",
    "    \"\"\"\n",
    "        Create the labelled dataset for a given label index\n",
    "        \n",
    "        Input:\n",
    "            - data: original data with features + labels\n",
    "            \n",
    "        Output:\n",
    "            - (Feature, Label) pair (X, y)\n",
    "              X comprises the features for each example\n",
    "              Y comprises the labels of the corresponding example\n",
    "    \"\"\"\n",
    "\n",
    "    N = len(data)\n",
    "    D = nFeatures\n",
    "    L = nLabels\n",
    "\n",
    "    magic = -14\n",
    "\n",
    "    X = np.zeros((N, D), dtype = np.float)\n",
    "    Y = np.zeros((N, L), dtype = np.int)\n",
    "       \n",
    "    for i in range(N):\n",
    "        X[i, :] = list(data[i])[:magic]\n",
    "        Y[i, :] = list(data[i])[magic:]\n",
    "\n",
    "    return X, Y"
   ]
  },
  {
   "cell_type": "markdown",
   "metadata": {},
   "source": [
    "## Evaluation"
   ]
  },
  {
   "cell_type": "markdown",
   "metadata": {},
   "source": [
    "The sigmoid function."
   ]
  },
  {
   "cell_type": "code",
   "execution_count": 19,
   "metadata": {
    "collapsed": true
   },
   "outputs": [],
   "source": [
    "def sigmoid(x):\n",
    "    return 1.0 / (1.0 + np.exp(-x))"
   ]
  },
  {
   "cell_type": "markdown",
   "metadata": {},
   "source": [
    "Loss between a ground truth and a prediction."
   ]
  },
  {
   "cell_type": "code",
   "execution_count": 20,
   "metadata": {
    "collapsed": true
   },
   "outputs": [],
   "source": [
    "def evalPred(truth, pred, lossType = 'Hamming'):\n",
    "    \"\"\"\n",
    "        Compute loss given ground truth and prediction\n",
    "        \n",
    "        Input:\n",
    "            - truth:    binary array of true labels\n",
    "            - pred:     real-valued array of predictions\n",
    "            - lossType: can be subset 0-1, Hamming, ranking, and Precision@K where K = # positive labels.\n",
    "    \"\"\"\n",
    "\n",
    "    assert(len(truth) == len(pred))\n",
    "    L = len(truth)\n",
    "    nPos = np.sum(truth)\n",
    "    \n",
    "    predBin = np.array((pred > 0), dtype=np.int)\n",
    "    \n",
    "    if lossType == 'Subset01':\n",
    "        return 1 - int(np.all(truth == predBin))\n",
    "    \n",
    "    elif lossType == 'Hamming':\n",
    "        return np.sum(truth != predBin) / L\n",
    "    \n",
    "    elif lossType == 'Ranking':\n",
    "        loss = 0\n",
    "        for i in range(L-1):\n",
    "            for j in range(i+1, L):\n",
    "                if truth[i] > truth[j]:\n",
    "                    if pred[i] < pred[j]: \n",
    "                        loss += 1\n",
    "                    if pred[i] == pred[j]:\n",
    "                        loss += 0.5\n",
    "        #return loss / (nPos * (L-nPos))\n",
    "        return loss\n",
    "        \n",
    "    elif lossType == 'Precision@K':\n",
    "        # sorted indices of the labels most likely to be +'ve\n",
    "        idx = np.argsort(pred)[::-1]\n",
    "        \n",
    "        # true labels according to the sorted order\n",
    "        y = truth[idx]\n",
    "        \n",
    "        # fraction of +'ves in the top K predictions\n",
    "        return np.mean(y[:nPos])if nPos > 0 else 0\n",
    "    \n",
    "    elif lossType == 'Precision@3':\n",
    "        # sorted indices of the labels most likely to be +'ve\n",
    "        idx = np.argsort(pred)[::-1]\n",
    "        \n",
    "        # true labels according to the sorted order\n",
    "        y = truth[idx]\n",
    "        \n",
    "        # fraction of +'ves in the top K predictions\n",
    "        return np.mean(y[:3])\n",
    "    \n",
    "    elif lossType == 'Precision@5':\n",
    "        # sorted indices of the labels most likely to be +'ve\n",
    "        idx = np.argsort(pred)[::-1]\n",
    "        \n",
    "        # true labels according to the sorted order\n",
    "        y = truth[idx]\n",
    "        \n",
    "        # fraction of +'ves in the top K predictions\n",
    "        return np.mean(y[:5])\n",
    "    \n",
    "    else:\n",
    "        assert(False)"
   ]
  },
  {
   "cell_type": "code",
   "execution_count": 21,
   "metadata": {
    "collapsed": true
   },
   "outputs": [],
   "source": [
    "def avgPrecisionK(allTruths, allPreds):\n",
    "    losses = []\n",
    "    lossType = 'Precision@K'\n",
    "    for i in range(allPreds.shape[0]):\n",
    "        pred  = allPreds[i, :]\n",
    "        truth = allTruths[i, :]\n",
    "        losses.append(evalPred(truth, pred, lossType))\n",
    "    return np.mean(losses)"
   ]
  },
  {
   "cell_type": "code",
   "execution_count": 22,
   "metadata": {
    "collapsed": true
   },
   "outputs": [],
   "source": [
    "def printEvaluation(allTruths, allPreds):\n",
    "    \n",
    "    N = allTruths.shape[0]\n",
    "    #print(N)\n",
    "\n",
    "    for lossType in ['Precision@K']: \n",
    "        # ['Subset01', 'Hamming', 'Ranking', 'Precision@K', 'Precision@3', 'Precision@5']:\n",
    "        losses = [ ]\n",
    "        for i in range(allPreds.shape[0]):\n",
    "            pred  = allPreds[i, :]\n",
    "            truth = allTruths[i, :]\n",
    "            losses.append(evalPred(truth, pred, lossType))\n",
    "\n",
    "        #print('%24s: %1.4f' % ('Average %s Loss' % lossType, np.mean(losses)))\n",
    "        print('%s: %1.4f, %.3f' % ('Average %s' % lossType, np.mean(losses), np.std(losses) / np.sqrt(N)))\n",
    "        #plt.hist(aucs, bins = 10);"
   ]
  },
  {
   "cell_type": "markdown",
   "metadata": {},
   "source": [
    "## p-classification loss"
   ]
  },
  {
   "cell_type": "markdown",
   "metadata": {},
   "source": [
    "Multi-label learning with p-norm push loss."
   ]
  },
  {
   "cell_type": "code",
   "execution_count": 23,
   "metadata": {
    "collapsed": true
   },
   "outputs": [],
   "source": [
    "def obj_pnorm_push(w, X, Y, p, C):\n",
    "    \"\"\"\n",
    "        Objective with L2 regularisation and p-classification push loss\n",
    "        \n",
    "        Input:\n",
    "            - w: current weight vector, flattened L x D\n",
    "            - X: feature matrix, N x D\n",
    "            - Y: label matrix,   N x L\n",
    "            - p: constant for p-classification push loss\n",
    "            - C: regularisation constant, is consistent with scikit-learn C = 1 / (N * \\lambda)\n",
    "    \"\"\"\n",
    "    N, D = X.shape\n",
    "    L = Y.shape[1]\n",
    "    assert(w.shape[0] == L * D)\n",
    "    assert(p >= 1)\n",
    "    assert(C > 0)\n",
    "    \n",
    "    W = w.reshape(L, D)  # reshape weight matrix\n",
    "    \n",
    "    J = 0.0  # cost\n",
    "    G = np.zeros_like(W)  # gradient matrix\n",
    "    nPosAll = np.sum(Y, axis=1)  # number of positive labels for each example, N by 1\n",
    "    nNegAll = L - nPosAll        # number of negative labels for each example, N by 1\n",
    "    \n",
    "    for k in range(nLabels):\n",
    "        wk = W[k, :]\n",
    "        Yk = Y[:, k]\n",
    "        sPosVec = np.dot(X[Yk == 1, :], wk)      # Nk+ by 1\n",
    "        sNegVec = np.dot(X[Yk == 0, :], wk)      # NK- by 1\n",
    "        nPosVec = nPosAll[Yk == 1]               # Nk+ by 1\n",
    "        nNegVec = nNegAll[Yk == 0]               # NK- by 1\n",
    "        \n",
    "        #nPosVec = np.sum(Y[Yk == 1, :], axis=1)  # Nk+ by 1\n",
    "        #nNegVec = np.sum(Y[Yk == 0, :], axis=1)  # NK- by 1\n",
    "        #nPosVec = np.sum(Y[Yk == 1, :], axis=1) + 0.01 # Nk+ by 1 with smoothing\n",
    "        #nNegVec = np.sum(Y[Yk == 0, :], axis=1) + 0.01 # NK- by 1 with smoothing\n",
    "        \n",
    "        #nPosVec = np.ones_like(sPosVec) * N\n",
    "        #nNegVec = np.ones_like(sNegVec) * N\n",
    "        lossPos = np.divide(np.exp(-sPosVec), nPosVec)     # NK+ by 1\n",
    "        lossNeg = np.divide(np.exp(p * sNegVec), nNegVec)  # NK- by 1\n",
    "        \n",
    "        J += np.sum(lossPos) + np.sum(lossNeg) / p\n",
    "        \n",
    "        GradPos = -X[Yk == 1, :] * lossPos[:, None]\n",
    "        GradNeg =  X[Yk == 0, :] * lossNeg[:, None]\n",
    "        \n",
    "        G[k, :] = np.sum(GradPos, axis=0) + np.sum(GradNeg, axis=0)\n",
    "                \n",
    "    #J = 0.5 * C * np.dot(w, w) + J / N\n",
    "    #G = C * W + G / N\n",
    "    \n",
    "    # be consistent with scikit-learn C = 1 / (N * \\lambda)\n",
    "    J = 0.5 * np.dot(w, w) + C * J\n",
    "    G = W + C * G\n",
    "    \n",
    "    return (J, G.ravel())"
   ]
  },
  {
   "cell_type": "markdown",
   "metadata": {},
   "source": [
    "Check gradient"
   ]
  },
  {
   "cell_type": "code",
   "execution_count": 24,
   "metadata": {
    "collapsed": true
   },
   "outputs": [],
   "source": [
    "X_train, Y_train = create_dataset(data = data_train)\n",
    "X_test,  Y_test  = create_dataset(data = data_test)"
   ]
  },
  {
   "cell_type": "code",
   "execution_count": 25,
   "metadata": {},
   "outputs": [
    {
     "data": {
      "text/plain": [
       "4.6159169246469862e-05"
      ]
     },
     "execution_count": 25,
     "metadata": {},
     "output_type": "execute_result"
    }
   ],
   "source": [
    "#%%script false\n",
    "#C = 1  # if C is lambda\n",
    "C = 1/X_train.shape[0]\n",
    "p = 1\n",
    "w0 = np.random.rand(nFeatures * nLabels)\n",
    "check_grad(lambda w: obj_pnorm_push(w, X_train, Y_train, p, C)[0], \\\n",
    "           lambda w: obj_pnorm_push(w, X_train, Y_train, p, C)[1], w0)"
   ]
  },
  {
   "cell_type": "code",
   "execution_count": 26,
   "metadata": {
    "collapsed": true
   },
   "outputs": [],
   "source": [
    "class MLC_pclassification(BaseEstimator):\n",
    "    \"\"\"All methods are necessary for a scikit-learn estimator\"\"\"\n",
    "    \n",
    "    def __init__(self, p=1, C=1):\n",
    "        \"\"\"Initialisation\"\"\"\n",
    "        \n",
    "        assert C >= 0\n",
    "        assert p >= 1\n",
    "        self.C = C\n",
    "        self.p = p\n",
    "        self.trained = False\n",
    "        \n",
    "    def fit(self, X_train, Y_train):\n",
    "        \"\"\"Model fitting by optimising the objective\"\"\"\n",
    "        \n",
    "        opt_method = 'BFGS' #'Newton-CG'\n",
    "        options = {'disp': True}\n",
    "        if options['disp']: \n",
    "            print('\\nC: %g, p: %g' % (self.C, self.p))\n",
    "            \n",
    "        D = X_train.shape[1]\n",
    "        L = Y_train.shape[1]\n",
    "        w0 = np.random.rand(L * D)  # initial guess\n",
    "        opt = minimize(obj_pnorm_push, w0, args=(X_train, Y_train, self.p, self.C), \\\n",
    "                       method=opt_method, jac=True, options=options)\n",
    "        if opt.success is True:\n",
    "            self.w = opt.x\n",
    "            self.trained = True\n",
    "        else:\n",
    "            sys.stderr.write('Optimisation failed')\n",
    "            self.trained = False\n",
    "    \n",
    "            \n",
    "    def decision_function(self, X_test):\n",
    "        \"\"\"Make predictions (score is real number)\"\"\"\n",
    "        \n",
    "        assert self.trained is True, \"Can't make prediction before training\"\n",
    "        D = X_test.shape[1]\n",
    "        return np.dot(X_test, self.w.reshape(-1, D).T)\n",
    "        \n",
    "    \n",
    "    def predict(self, X_test):\n",
    "        \"\"\"Make predictions (score is boolean)\"\"\"\n",
    "        \n",
    "        preds = self.decision_function(X_test)\n",
    "        return (preds > 0)\n",
    "    \n",
    "    \n",
    "    def score(self, X, Y):\n",
    "        \"\"\"Compute scoring metric\"\"\"\n",
    "        \n",
    "        allPreds = self.decision_function(X)\n",
    "        return avgPrecisionK(Y, allPreds)\n",
    "    \n",
    "    # inherit from BaseEstimator instead of re-implement\n",
    "    #\n",
    "    #def get_params(self, deep = True):\n",
    "    #def set_params(self, **params):"
   ]
  },
  {
   "cell_type": "code",
   "execution_count": 27,
   "metadata": {
    "scrolled": true
   },
   "outputs": [
    {
     "name": "stdout",
     "output_type": "stream",
     "text": [
      "\n",
      "C: 1e-06, p: 1\n",
      "Optimization terminated successfully.\n",
      "         Current function value: 0.002400\n",
      "         Iterations: 3\n",
      "         Function evaluations: 5\n",
      "         Gradient evaluations: 5\n",
      "\n",
      "C: 1e-06, p: 1\n",
      "Optimization terminated successfully.\n",
      "         Current function value: 0.002400\n",
      "         Iterations: 3\n",
      "         Function evaluations: 5\n",
      "         Gradient evaluations: 5\n",
      "\n",
      "C: 1e-06, p: 1\n",
      "Optimization terminated successfully.\n",
      "         Current function value: 0.002400\n",
      "         Iterations: 3\n",
      "         Function evaluations: 5\n",
      "         Gradient evaluations: 5\n",
      "\n",
      "C: 1e-06, p: 1\n",
      "Optimization terminated successfully.\n",
      "         Current function value: 0.002400\n",
      "         Iterations: 3\n",
      "         Function evaluations: 5\n",
      "         Gradient evaluations: 5\n",
      "\n",
      "C: 1e-06, p: 1\n",
      "Optimization terminated successfully.\n",
      "         Current function value: 0.002400\n",
      "         Iterations: 3\n",
      "         Function evaluations: 5\n",
      "         Gradient evaluations: 5\n",
      "\n",
      "C: 1e-06, p: 3\n",
      "Optimization terminated successfully.\n",
      "         Current function value: 0.001600\n",
      "         Iterations: 3\n",
      "         Function evaluations: 5\n",
      "         Gradient evaluations: 5\n",
      "\n",
      "C: 1e-06, p: 3\n",
      "Optimization terminated successfully.\n",
      "         Current function value: 0.001600\n",
      "         Iterations: 4\n",
      "         Function evaluations: 6\n",
      "         Gradient evaluations: 6\n",
      "\n",
      "C: 1e-06, p: 3\n",
      "Optimization terminated successfully.\n",
      "         Current function value: 0.001600\n",
      "         Iterations: 3\n",
      "         Function evaluations: 5\n",
      "         Gradient evaluations: 5\n",
      "\n",
      "C: 1e-06, p: 3\n",
      "Optimization terminated successfully.\n",
      "         Current function value: 0.001600\n",
      "         Iterations: 4\n",
      "         Function evaluations: 6\n",
      "         Gradient evaluations: 6\n",
      "\n",
      "C: 1e-06, p: 3\n",
      "Optimization terminated successfully.\n",
      "         Current function value: 0.001600\n",
      "         Iterations: 3\n",
      "         Function evaluations: 5\n",
      "         Gradient evaluations: 5\n",
      "\n",
      "C: 1e-06, p: 10\n",
      "Optimization terminated successfully.\n",
      "         Current function value: 0.001320\n",
      "         Iterations: 6\n",
      "         Function evaluations: 8\n",
      "         Gradient evaluations: 8\n",
      "\n",
      "C: 1e-06, p: 10\n",
      "Optimization terminated successfully.\n",
      "         Current function value: 0.001320\n",
      "         Iterations: 26\n",
      "         Function evaluations: 30\n",
      "         Gradient evaluations: 30\n",
      "\n",
      "C: 1e-06, p: 10\n",
      "Optimization terminated successfully.\n",
      "         Current function value: 0.001320\n",
      "         Iterations: 8\n",
      "         Function evaluations: 11\n",
      "         Gradient evaluations: 11\n",
      "\n",
      "C: 1e-06, p: 10\n",
      "Optimization terminated successfully.\n",
      "         Current function value: 0.001320\n",
      "         Iterations: 26\n",
      "         Function evaluations: 29\n",
      "         Gradient evaluations: 29\n",
      "\n",
      "C: 1e-06, p: 10\n",
      "Optimization terminated successfully.\n",
      "         Current function value: 0.001320\n",
      "         Iterations: 8\n",
      "         Function evaluations: 11\n",
      "         Gradient evaluations: 11\n",
      "\n",
      "C: 1e-05, p: 1\n",
      "Optimization terminated successfully.\n",
      "         Current function value: 0.024000\n",
      "         Iterations: 3\n",
      "         Function evaluations: 5\n",
      "         Gradient evaluations: 5\n",
      "\n",
      "C: 1e-05, p: 1\n",
      "Optimization terminated successfully.\n",
      "         Current function value: 0.024000\n",
      "         Iterations: 3\n",
      "         Function evaluations: 5\n",
      "         Gradient evaluations: 5\n",
      "\n",
      "C: 1e-05, p: 1\n",
      "Optimization terminated successfully.\n",
      "         Current function value: 0.024000\n",
      "         Iterations: 3\n",
      "         Function evaluations: 5\n",
      "         Gradient evaluations: 5\n",
      "\n",
      "C: 1e-05, p: 1\n",
      "Optimization terminated successfully.\n",
      "         Current function value: 0.024000\n",
      "         Iterations: 3\n",
      "         Function evaluations: 5\n",
      "         Gradient evaluations: 5\n",
      "\n",
      "C: 1e-05, p: 1\n",
      "Optimization terminated successfully.\n",
      "         Current function value: 0.024000\n",
      "         Iterations: 3\n",
      "         Function evaluations: 5\n",
      "         Gradient evaluations: 5\n",
      "\n",
      "C: 1e-05, p: 3\n",
      "Optimization terminated successfully.\n",
      "         Current function value: 0.016000\n",
      "         Iterations: 4\n",
      "         Function evaluations: 6\n",
      "         Gradient evaluations: 6\n",
      "\n",
      "C: 1e-05, p: 3\n",
      "Optimization terminated successfully.\n",
      "         Current function value: 0.016000\n",
      "         Iterations: 4\n",
      "         Function evaluations: 6\n",
      "         Gradient evaluations: 6\n",
      "\n",
      "C: 1e-05, p: 3\n",
      "Optimization terminated successfully.\n",
      "         Current function value: 0.016000\n",
      "         Iterations: 4\n",
      "         Function evaluations: 6\n",
      "         Gradient evaluations: 6\n",
      "\n",
      "C: 1e-05, p: 3\n",
      "Optimization terminated successfully.\n",
      "         Current function value: 0.016000\n",
      "         Iterations: 4\n",
      "         Function evaluations: 6\n",
      "         Gradient evaluations: 6\n",
      "\n",
      "C: 1e-05, p: 3\n",
      "Optimization terminated successfully.\n",
      "         Current function value: 0.016000\n",
      "         Iterations: 4\n",
      "         Function evaluations: 6\n",
      "         Gradient evaluations: 6\n",
      "\n",
      "C: 1e-05, p: 10\n",
      "Optimization terminated successfully.\n",
      "         Current function value: 0.013200\n",
      "         Iterations: 29\n",
      "         Function evaluations: 32\n",
      "         Gradient evaluations: 32\n",
      "\n",
      "C: 1e-05, p: 10\n",
      "Optimization terminated successfully.\n",
      "         Current function value: 0.013200\n",
      "         Iterations: 100\n",
      "         Function evaluations: 104\n",
      "         Gradient evaluations: 104\n",
      "\n",
      "C: 1e-05, p: 10\n",
      "Optimization terminated successfully.\n",
      "         Current function value: 0.013200\n",
      "         Iterations: 29\n",
      "         Function evaluations: 31\n",
      "         Gradient evaluations: 31\n",
      "\n",
      "C: 1e-05, p: 10\n",
      "Optimization terminated successfully.\n",
      "         Current function value: 0.013200\n",
      "         Iterations: 53\n",
      "         Function evaluations: 56\n",
      "         Gradient evaluations: 56\n",
      "\n",
      "C: 1e-05, p: 10\n",
      "Optimization terminated successfully.\n",
      "         Current function value: 0.013200\n",
      "         Iterations: 110\n",
      "         Function evaluations: 114\n",
      "         Gradient evaluations: 114\n",
      "\n",
      "C: 0.0001, p: 1\n",
      "Optimization terminated successfully.\n",
      "         Current function value: 0.239984\n",
      "         Iterations: 4\n",
      "         Function evaluations: 6\n",
      "         Gradient evaluations: 6\n",
      "\n",
      "C: 0.0001, p: 1\n",
      "Optimization terminated successfully.\n",
      "         Current function value: 0.239983\n",
      "         Iterations: 4\n",
      "         Function evaluations: 6\n",
      "         Gradient evaluations: 6\n",
      "\n",
      "C: 0.0001, p: 1\n",
      "Optimization terminated successfully.\n",
      "         Current function value: 0.239984\n",
      "         Iterations: 4\n",
      "         Function evaluations: 6\n",
      "         Gradient evaluations: 6\n",
      "\n",
      "C: 0.0001, p: 1\n",
      "Optimization terminated successfully.\n",
      "         Current function value: 0.239982\n",
      "         Iterations: 4\n",
      "         Function evaluations: 6\n",
      "         Gradient evaluations: 6\n",
      "\n",
      "C: 0.0001, p: 1\n",
      "Optimization terminated successfully.\n",
      "         Current function value: 0.239984\n",
      "         Iterations: 4\n",
      "         Function evaluations: 6\n",
      "         Gradient evaluations: 6\n",
      "\n",
      "C: 0.0001, p: 3\n",
      "Optimization terminated successfully.\n",
      "         Current function value: 0.159984\n",
      "         Iterations: 4\n",
      "         Function evaluations: 6\n",
      "         Gradient evaluations: 6\n",
      "\n",
      "C: 0.0001, p: 3\n",
      "Optimization terminated successfully.\n",
      "         Current function value: 0.159983\n",
      "         Iterations: 4\n",
      "         Function evaluations: 6\n",
      "         Gradient evaluations: 6\n",
      "\n",
      "C: 0.0001, p: 3\n",
      "Optimization terminated successfully.\n",
      "         Current function value: 0.159984\n",
      "         Iterations: 4\n",
      "         Function evaluations: 6\n",
      "         Gradient evaluations: 6\n",
      "\n",
      "C: 0.0001, p: 3\n",
      "Optimization terminated successfully.\n",
      "         Current function value: 0.159982\n",
      "         Iterations: 4\n",
      "         Function evaluations: 6\n",
      "         Gradient evaluations: 6\n",
      "\n",
      "C: 0.0001, p: 3\n",
      "Optimization terminated successfully.\n",
      "         Current function value: 0.159984\n",
      "         Iterations: 4\n",
      "         Function evaluations: 6\n",
      "         Gradient evaluations: 6\n",
      "\n",
      "C: 0.0001, p: 10\n",
      "Optimization terminated successfully.\n",
      "         Current function value: 0.131984\n",
      "         Iterations: 99\n",
      "         Function evaluations: 105\n",
      "         Gradient evaluations: 105\n",
      "\n",
      "C: 0.0001, p: 10\n",
      "Optimization terminated successfully.\n",
      "         Current function value: 0.131983\n",
      "         Iterations: 30\n",
      "         Function evaluations: 32\n",
      "         Gradient evaluations: 32\n",
      "\n",
      "C: 0.0001, p: 10\n",
      "Optimization terminated successfully.\n",
      "         Current function value: 0.131984\n",
      "         Iterations: 101\n",
      "         Function evaluations: 108\n",
      "         Gradient evaluations: 108\n",
      "\n",
      "C: 0.0001, p: 10\n",
      "Optimization terminated successfully.\n",
      "         Current function value: 0.131982\n",
      "         Iterations: 49\n",
      "         Function evaluations: 54\n",
      "         Gradient evaluations: 54\n",
      "\n",
      "C: 0.0001, p: 10\n"
     ]
    },
    {
     "name": "stdout",
     "output_type": "stream",
     "text": [
      "Optimization terminated successfully.\n",
      "         Current function value: 0.131984\n",
      "         Iterations: 57\n",
      "         Function evaluations: 62\n",
      "         Gradient evaluations: 62\n",
      "\n",
      "C: 0.001, p: 1\n",
      "Optimization terminated successfully.\n",
      "         Current function value: 2.398444\n",
      "         Iterations: 4\n",
      "         Function evaluations: 6\n",
      "         Gradient evaluations: 6\n",
      "\n",
      "C: 0.001, p: 1\n",
      "Optimization terminated successfully.\n",
      "         Current function value: 2.398319\n",
      "         Iterations: 4\n",
      "         Function evaluations: 6\n",
      "         Gradient evaluations: 6\n",
      "\n",
      "C: 0.001, p: 1\n",
      "Optimization terminated successfully.\n",
      "         Current function value: 2.398385\n",
      "         Iterations: 4\n",
      "         Function evaluations: 6\n",
      "         Gradient evaluations: 6\n",
      "\n",
      "C: 0.001, p: 1\n",
      "Optimization terminated successfully.\n",
      "         Current function value: 2.398218\n",
      "         Iterations: 4\n",
      "         Function evaluations: 6\n",
      "         Gradient evaluations: 6\n",
      "\n",
      "C: 0.001, p: 1\n",
      "Optimization terminated successfully.\n",
      "         Current function value: 2.398435\n",
      "         Iterations: 4\n",
      "         Function evaluations: 6\n",
      "         Gradient evaluations: 6\n",
      "\n",
      "C: 0.001, p: 3\n",
      "Optimization terminated successfully.\n",
      "         Current function value: 1.598457\n",
      "         Iterations: 5\n",
      "         Function evaluations: 7\n",
      "         Gradient evaluations: 7\n",
      "\n",
      "C: 0.001, p: 3\n",
      "Optimization terminated successfully.\n",
      "         Current function value: 1.598333\n",
      "         Iterations: 5\n",
      "         Function evaluations: 7\n",
      "         Gradient evaluations: 7\n",
      "\n",
      "C: 0.001, p: 3\n",
      "Optimization terminated successfully.\n",
      "         Current function value: 1.598398\n",
      "         Iterations: 5\n",
      "         Function evaluations: 7\n",
      "         Gradient evaluations: 7\n",
      "\n",
      "C: 0.001, p: 3\n",
      "Optimization terminated successfully.\n",
      "         Current function value: 1.598233\n",
      "         Iterations: 5\n",
      "         Function evaluations: 7\n",
      "         Gradient evaluations: 7\n",
      "\n",
      "C: 0.001, p: 3\n",
      "Optimization terminated successfully.\n",
      "         Current function value: 1.598447\n",
      "         Iterations: 5\n",
      "         Function evaluations: 7\n",
      "         Gradient evaluations: 7\n",
      "\n",
      "C: 0.001, p: 10\n",
      "Optimization terminated successfully.\n",
      "         Current function value: 1.318499\n",
      "         Iterations: 268\n",
      "         Function evaluations: 272\n",
      "         Gradient evaluations: 272\n",
      "\n",
      "C: 0.001, p: 10\n",
      "Optimization terminated successfully.\n",
      "         Current function value: 1.318380\n",
      "         Iterations: 254\n",
      "         Function evaluations: 262\n",
      "         Gradient evaluations: 262\n",
      "\n",
      "C: 0.001, p: 10\n",
      "Optimization terminated successfully.\n",
      "         Current function value: 1.318442\n",
      "         Iterations: 227\n",
      "         Function evaluations: 233\n",
      "         Gradient evaluations: 233\n",
      "\n",
      "C: 0.001, p: 10\n",
      "Optimization terminated successfully.\n",
      "         Current function value: 1.318284\n",
      "         Iterations: 193\n",
      "         Function evaluations: 201\n",
      "         Gradient evaluations: 201\n",
      "\n",
      "C: 0.001, p: 10\n",
      "Optimization terminated successfully.\n",
      "         Current function value: 1.318489\n",
      "         Iterations: 171\n",
      "         Function evaluations: 177\n",
      "         Gradient evaluations: 177\n",
      "\n",
      "C: 0.01, p: 1\n",
      "Optimization terminated successfully.\n",
      "         Current function value: 23.860042\n",
      "         Iterations: 6\n",
      "         Function evaluations: 8\n",
      "         Gradient evaluations: 8\n",
      "\n",
      "C: 0.01, p: 1\n",
      "Optimization terminated successfully.\n",
      "         Current function value: 23.849554\n",
      "         Iterations: 6\n",
      "         Function evaluations: 8\n",
      "         Gradient evaluations: 8\n",
      "\n",
      "C: 0.01, p: 1\n",
      "Optimization terminated successfully.\n",
      "         Current function value: 23.854991\n",
      "         Iterations: 6\n",
      "         Function evaluations: 8\n",
      "         Gradient evaluations: 8\n",
      "\n",
      "C: 0.01, p: 1\n",
      "Optimization terminated successfully.\n",
      "         Current function value: 23.841564\n",
      "         Iterations: 6\n",
      "         Function evaluations: 8\n",
      "         Gradient evaluations: 8\n",
      "\n",
      "C: 0.01, p: 1\n",
      "Optimization terminated successfully.\n",
      "         Current function value: 23.858866\n",
      "         Iterations: 6\n",
      "         Function evaluations: 8\n",
      "         Gradient evaluations: 8\n",
      "\n",
      "C: 0.01, p: 3\n",
      "Optimization terminated successfully.\n",
      "         Current function value: 15.868965\n",
      "         Iterations: 10\n",
      "         Function evaluations: 13\n",
      "         Gradient evaluations: 13\n",
      "\n",
      "C: 0.01, p: 3\n",
      "Optimization terminated successfully.\n",
      "         Current function value: 15.859174\n",
      "         Iterations: 11\n",
      "         Function evaluations: 14\n",
      "         Gradient evaluations: 14\n",
      "\n",
      "C: 0.01, p: 3\n",
      "Optimization terminated successfully.\n",
      "         Current function value: 15.864263\n",
      "         Iterations: 18\n",
      "         Function evaluations: 21\n",
      "         Gradient evaluations: 21\n",
      "\n",
      "C: 0.01, p: 3\n",
      "Optimization terminated successfully.\n",
      "         Current function value: 15.851961\n",
      "         Iterations: 10\n",
      "         Function evaluations: 13\n",
      "         Gradient evaluations: 13\n",
      "\n",
      "C: 0.01, p: 3\n",
      "Optimization terminated successfully.\n",
      "         Current function value: 15.867645\n",
      "         Iterations: 10\n",
      "         Function evaluations: 13\n",
      "         Gradient evaluations: 13\n",
      "\n",
      "C: 0.01, p: 10\n",
      "Optimization terminated successfully.\n",
      "         Current function value: 13.090113\n",
      "         Iterations: 496\n",
      "         Function evaluations: 501\n",
      "         Gradient evaluations: 501\n",
      "\n",
      "C: 0.01, p: 10\n",
      "Optimization terminated successfully.\n",
      "         Current function value: 13.081890\n",
      "         Iterations: 384\n",
      "         Function evaluations: 388\n",
      "         Gradient evaluations: 388\n",
      "\n",
      "C: 0.01, p: 10\n",
      "Optimization terminated successfully.\n",
      "         Current function value: 13.086260\n",
      "         Iterations: 395\n",
      "         Function evaluations: 401\n",
      "         Gradient evaluations: 401\n",
      "\n",
      "C: 0.01, p: 10\n",
      "Optimization terminated successfully.\n",
      "         Current function value: 13.076213\n",
      "         Iterations: 181\n",
      "         Function evaluations: 187\n",
      "         Gradient evaluations: 187\n",
      "\n",
      "C: 0.01, p: 10\n",
      "Optimization terminated successfully.\n",
      "         Current function value: 13.088664\n",
      "         Iterations: 288\n",
      "         Function evaluations: 292\n",
      "         Gradient evaluations: 292\n",
      "\n",
      "C: 0.1, p: 1\n",
      "Optimization terminated successfully.\n",
      "         Current function value: 232.174952\n",
      "         Iterations: 20\n",
      "         Function evaluations: 24\n",
      "         Gradient evaluations: 24\n",
      "\n",
      "C: 0.1, p: 1\n",
      "Optimization terminated successfully.\n",
      "         Current function value: 231.683049\n",
      "         Iterations: 24\n",
      "         Function evaluations: 27\n",
      "         Gradient evaluations: 27\n",
      "\n",
      "C: 0.1, p: 1\n",
      "Optimization terminated successfully.\n",
      "         Current function value: 231.939537\n",
      "         Iterations: 21\n",
      "         Function evaluations: 25\n",
      "         Gradient evaluations: 25\n",
      "\n",
      "C: 0.1, p: 1\n",
      "Optimization terminated successfully.\n",
      "         Current function value: 231.470181\n",
      "         Iterations: 19\n",
      "         Function evaluations: 23\n",
      "         Gradient evaluations: 23\n",
      "\n",
      "C: 0.1, p: 1\n",
      "Optimization terminated successfully.\n",
      "         Current function value: 232.030572\n",
      "         Iterations: 21\n",
      "         Function evaluations: 23\n",
      "         Gradient evaluations: 23\n",
      "\n",
      "C: 0.1, p: 3\n",
      "Optimization terminated successfully.\n",
      "         Current function value: 153.863915\n",
      "         Iterations: 53\n",
      "         Function evaluations: 60\n",
      "         Gradient evaluations: 60\n",
      "\n",
      "C: 0.1, p: 3\n",
      "Optimization terminated successfully.\n",
      "         Current function value: 153.463948\n",
      "         Iterations: 46\n",
      "         Function evaluations: 52\n",
      "         Gradient evaluations: 52\n",
      "\n",
      "C: 0.1, p: 3\n",
      "Optimization terminated successfully.\n",
      "         Current function value: 153.689330\n",
      "         Iterations: 50\n",
      "         Function evaluations: 56\n",
      "         Gradient evaluations: 56\n",
      "\n",
      "C: 0.1, p: 3\n",
      "Optimization terminated successfully.\n",
      "         Current function value: 153.311706\n",
      "         Iterations: 40\n",
      "         Function evaluations: 51\n",
      "         Gradient evaluations: 51\n",
      "\n",
      "C: 0.1, p: 3\n",
      "Optimization terminated successfully.\n",
      "         Current function value: 153.735544\n",
      "         Iterations: 42\n",
      "         Function evaluations: 48\n",
      "         Gradient evaluations: 48\n",
      "\n",
      "C: 0.1, p: 10\n",
      "Optimization terminated successfully.\n",
      "         Current function value: 128.128772\n",
      "         Iterations: 437\n",
      "         Function evaluations: 442\n",
      "         Gradient evaluations: 442\n",
      "\n",
      "C: 0.1, p: 10\n",
      "Optimization terminated successfully.\n",
      "         Current function value: 127.858283\n",
      "         Iterations: 1027\n",
      "         Function evaluations: 1031\n",
      "         Gradient evaluations: 1031\n",
      "\n",
      "C: 0.1, p: 10\n",
      "Optimization terminated successfully.\n",
      "         Current function value: 128.030690\n",
      "         Iterations: 546\n",
      "         Function evaluations: 553\n",
      "         Gradient evaluations: 553\n",
      "\n",
      "C: 0.1, p: 10\n"
     ]
    },
    {
     "name": "stdout",
     "output_type": "stream",
     "text": [
      "Optimization terminated successfully.\n",
      "         Current function value: 127.761140\n",
      "         Iterations: 1177\n",
      "         Function evaluations: 1184\n",
      "         Gradient evaluations: 1184\n",
      "\n",
      "C: 0.1, p: 10\n",
      "Optimization terminated successfully.\n",
      "         Current function value: 128.053599\n",
      "         Iterations: 824\n",
      "         Function evaluations: 832\n",
      "         Gradient evaluations: 832\n",
      "\n",
      "C: 0.1, p: 10\n",
      "Optimization terminated successfully.\n",
      "         Current function value: 159.844600\n",
      "         Iterations: 765\n",
      "         Function evaluations: 778\n",
      "         Gradient evaluations: 778\n",
      "\n",
      "Best parameters set found on development set:\n",
      "{'C': 0.1, 'p': 10}\n"
     ]
    }
   ],
   "source": [
    "parameters = [{'C': [10**(e) for e in range(-6,0)], 'p': [1, 3, 10]}]\n",
    "\n",
    "clf = GridSearchCV(MLC_pclassification(), parameters, cv=5)\n",
    "clf.fit(X_train, Y_train)\n",
    "\n",
    "print(\"\\nBest parameters set found on development set:\")\n",
    "print(clf.best_params_)"
   ]
  },
  {
   "cell_type": "code",
   "execution_count": 28,
   "metadata": {},
   "outputs": [
    {
     "name": "stdout",
     "output_type": "stream",
     "text": [
      "0.486 (+/-0.036) for {'C': 1e-06, 'p': 1}\n",
      "0.450 (+/-0.050) for {'C': 1e-06, 'p': 3}\n",
      "0.475 (+/-0.069) for {'C': 1e-06, 'p': 10}\n",
      "0.486 (+/-0.036) for {'C': 1e-05, 'p': 1}\n",
      "0.488 (+/-0.037) for {'C': 1e-05, 'p': 3}\n",
      "0.486 (+/-0.041) for {'C': 1e-05, 'p': 10}\n",
      "0.488 (+/-0.037) for {'C': 0.0001, 'p': 1}\n",
      "0.488 (+/-0.037) for {'C': 0.0001, 'p': 3}\n",
      "0.488 (+/-0.037) for {'C': 0.0001, 'p': 10}\n",
      "0.488 (+/-0.037) for {'C': 0.001, 'p': 1}\n",
      "0.489 (+/-0.035) for {'C': 0.001, 'p': 3}\n",
      "0.489 (+/-0.036) for {'C': 0.001, 'p': 10}\n",
      "0.488 (+/-0.034) for {'C': 0.01, 'p': 1}\n",
      "0.492 (+/-0.038) for {'C': 0.01, 'p': 3}\n",
      "0.495 (+/-0.033) for {'C': 0.01, 'p': 10}\n",
      "0.491 (+/-0.022) for {'C': 0.1, 'p': 1}\n",
      "0.499 (+/-0.021) for {'C': 0.1, 'p': 3}\n",
      "0.507 (+/-0.026) for {'C': 0.1, 'p': 10}\n"
     ]
    }
   ],
   "source": [
    "for mean, std, params in zip(clf.cv_results_['mean_test_score'], clf.cv_results_['std_test_score'], \\\n",
    "                             clf.cv_results_['params']):\n",
    "    print(\"%0.3f (+/-%0.03f) for %r\" % (mean, std * 2, params))"
   ]
  },
  {
   "cell_type": "code",
   "execution_count": 29,
   "metadata": {
    "collapsed": true
   },
   "outputs": [],
   "source": [
    "preds_train = clf.decision_function(X_train)\n",
    "preds_test  = clf.decision_function(X_test)"
   ]
  },
  {
   "cell_type": "code",
   "execution_count": 30,
   "metadata": {},
   "outputs": [
    {
     "name": "stdout",
     "output_type": "stream",
     "text": [
      "Training set:\n",
      "Average Precision@K: 0.5723, 0.008\n",
      "\n",
      "Test set:\n",
      "Average Precision@K: 0.5050, 0.010\n"
     ]
    }
   ],
   "source": [
    "print('Training set:')\n",
    "printEvaluation(Y_train, preds_train)\n",
    "print()\n",
    "print('Test set:')\n",
    "printEvaluation(Y_test, preds_test)"
   ]
  },
  {
   "cell_type": "markdown",
   "metadata": {},
   "source": [
    "## Result analysis"
   ]
  },
  {
   "cell_type": "code",
   "execution_count": 31,
   "metadata": {
    "collapsed": true
   },
   "outputs": [],
   "source": [
    "precisions_train = [avgPrecision(Y_train, preds_train, k) for k in range(1, nLabels+1)]\n",
    "precisions_test  = [avgPrecision(Y_test,  preds_test,  k) for k in range(1, nLabels+1)]"
   ]
  },
  {
   "cell_type": "code",
   "execution_count": 32,
   "metadata": {
    "collapsed": true
   },
   "outputs": [],
   "source": [
    "precisionK_train = avgPrecisionK(Y_train, preds_train)\n",
    "precisionK_test  = avgPrecisionK(Y_test,  preds_test)"
   ]
  },
  {
   "cell_type": "code",
   "execution_count": 34,
   "metadata": {},
   "outputs": [
    {
     "data": {
      "text/plain": [
       "<matplotlib.legend.Legend at 0x7f9550793710>"
      ]
     },
     "execution_count": 34,
     "metadata": {},
     "output_type": "execute_result"
    },
    {
     "data": {
      "image/png": "[encoded data removed]",
      "text/plain": [
       "<matplotlib.figure.Figure at 0x7f9550861a90>"
      ]
     },
     "metadata": {},
     "output_type": "display_data"
    }
   ],
   "source": [
    "plt.figure(figsize=[10,5])\n",
    "plt.plot(precisions_train, ls='--', c='r', label='Train')\n",
    "plt.plot(precisions_test,  ls='-',  c='g', label='Test')\n",
    "plt.plot([precisionK_train for k in range(nLabels)], ls='-', c='r', label='Train, Precision@K')\n",
    "plt.plot([precisionK_test  for k in range(nLabels)], ls='-', c='g', label='Test, Precision@K')\n",
    "plt.xticks(np.arange(nLabels), np.arange(1,nLabels+1))\n",
    "plt.xlabel('k')\n",
    "plt.ylabel('Precision@k')\n",
    "plt.legend(loc='best')"
   ]
  }
 ],
 "metadata": {
  "kernelspec": {
   "display_name": "Python 3",
   "language": "python",
   "name": "python3"
  },
  "language_info": {
   "codemirror_mode": {
    "name": "ipython",
    "version": 3
   },
   "file_extension": ".py",
   "mimetype": "text/x-python",
   "name": "python",
   "nbconvert_exporter": "python",
   "pygments_lexer": "ipython3",
   "version": "3.6.2"
  }
 },
 "nbformat": 4,
 "nbformat_minor": 2
}
