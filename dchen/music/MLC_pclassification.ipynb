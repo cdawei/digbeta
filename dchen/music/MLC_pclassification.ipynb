{
 "cells": [
  {
   "cell_type": "markdown",
   "metadata": {},
   "source": [
    "# Multi-label classification -- p-classification loss"
   ]
  },
  {
   "cell_type": "code",
   "execution_count": null,
   "metadata": {},
   "outputs": [],
   "source": [
    "%matplotlib inline\n",
    "%load_ext line_profiler\n",
    "%load_ext autoreload\n",
    "%autoreload 2\n",
    "\n",
    "import os, sys, time\n",
    "import pickle as pkl\n",
    "import numpy as np\n",
    "import pandas as pd\n",
    "\n",
    "from scipy.optimize import minimize\n",
    "from scipy.optimize import check_grad\n",
    "from scipy.special import expit as sigmoid\n",
    "\n",
    "from sklearn.base import BaseEstimator\n",
    "from sklearn.pipeline import make_pipeline\n",
    "from sklearn.model_selection import train_test_split\n",
    "from sklearn.model_selection import GridSearchCV\n",
    "from sklearn.metrics import classification_report, make_scorer, label_ranking_loss\n",
    "\n",
    "import matplotlib.pyplot as plt\n",
    "import seaborn as sns\n",
    "from joblib import Parallel, delayed\n",
    "\n",
    "import torch"
   ]
  },
  {
   "cell_type": "code",
   "execution_count": null,
   "metadata": {},
   "outputs": [],
   "source": [
    "sys.path.append('src')\n",
    "from evaluate import avgPrecisionK, evaluatePrecision, evaluateF1, evaluateRankingLoss, f1_score_nowarn, calcLoss\n",
    "from datasets import create_dataset, dataset_names, nLabels_dict"
   ]
  },
  {
   "cell_type": "code",
   "execution_count": null,
   "metadata": {},
   "outputs": [],
   "source": [
    "data_ix = 3"
   ]
  },
  {
   "cell_type": "code",
   "execution_count": null,
   "metadata": {},
   "outputs": [],
   "source": [
    "dataset_name = dataset_names[data_ix]\n",
    "nLabels = nLabels_dict[dataset_name]\n",
    "print(dataset_name, nLabels)"
   ]
  },
  {
   "cell_type": "code",
   "execution_count": null,
   "metadata": {},
   "outputs": [],
   "source": [
    "data_dir = 'data'\n",
    "SEED = 918273645\n",
    "fmodel_base = os.path.join(data_dir, 'pn-' + dataset_name + '-base.pkl')\n",
    "fmodel_prec = os.path.join(data_dir, 'pn-' + dataset_name + '-prec.pkl')"
   ]
  },
  {
   "cell_type": "markdown",
   "metadata": {},
   "source": [
    "Load data."
   ]
  },
  {
   "cell_type": "code",
   "execution_count": null,
   "metadata": {},
   "outputs": [],
   "source": [
    "X_train, Y_train = create_dataset(dataset_name, train_data=True, shuffle=True, random_state=SEED)\n",
    "X_test,  Y_test  = create_dataset(dataset_name, train_data=False)"
   ]
  },
  {
   "cell_type": "markdown",
   "metadata": {},
   "source": [
    "Feature normalisation."
   ]
  },
  {
   "cell_type": "code",
   "execution_count": null,
   "metadata": {},
   "outputs": [],
   "source": [
    "X_train_mean = np.mean(X_train, axis=0).reshape((1, -1))\n",
    "X_train_std = np.std(X_train, axis=0).reshape((1, -1)) + 10 ** (-6)\n",
    "X_train -= X_train_mean\n",
    "X_train /= X_train_std\n",
    "X_test  -= X_train_mean\n",
    "X_test  /= X_train_std"
   ]
  },
  {
   "cell_type": "code",
   "execution_count": null,
   "metadata": {},
   "outputs": [],
   "source": [
    "def print_dataset_info(X_train, Y_train, X_test, Y_test):\n",
    "    N_train, D = X_train.shape\n",
    "    K = Y_train.shape[1]\n",
    "    N_test = X_test.shape[0]\n",
    "    print('%-45s %s' % ('Number of training examples:', '{:,}'.format(N_train)))\n",
    "    print('%-45s %s' % ('Number of test examples:', '{:,}'.format(N_test)))\n",
    "    print('%-45s %s' % ('Number of features:', '{:,}'.format(D)))\n",
    "    print('%-45s %s' % ('Number of labels:', '{:,}'.format(K)))\n",
    "    avgK_train = np.mean(np.sum(Y_train, axis=1))\n",
    "    avgK_test  = np.mean(np.sum(Y_test, axis=1))\n",
    "    print('%-45s %.3f (%.2f%%)' % ('Average number of positive labels (train):', avgK_train, 100*avgK_train / K))\n",
    "    print('%-45s %.3f (%.2f%%)' % ('Average number of positive labels (test):', avgK_test, 100*avgK_test / K))\n",
    "    #print('%-45s %.4f%%' % ('Average label occurrence (train):', np.mean(np.sum(Y_train, axis=0)) / N_train))\n",
    "    #print('%-45s %.4f%%' % ('Average label occurrence (test):', np.mean(np.sum(Y_test, axis=0)) / N_test))\n",
    "    print('%-45s %.3f%%' % ('Sparsity (percent) (train):', 100 * np.sum(Y_train) / np.prod(Y_train.shape)))\n",
    "    print('%-45s %.3f%%' % ('Sparsity (percent) (test):', 100 * np.sum(Y_test) / np.prod(Y_test.shape)))"
   ]
  },
  {
   "cell_type": "code",
   "execution_count": null,
   "metadata": {},
   "outputs": [],
   "source": [
    "print('%-45s %s' % ('Dataset:', dataset_name))\n",
    "print_dataset_info(X_train, Y_train, X_test, Y_test)"
   ]
  },
  {
   "cell_type": "markdown",
   "metadata": {},
   "source": [
    "## p-classification loss"
   ]
  },
  {
   "cell_type": "markdown",
   "metadata": {},
   "source": [
    "Multi-label learning with p-classification loss."
   ]
  },
  {
   "cell_type": "code",
   "execution_count": null,
   "metadata": {},
   "outputs": [],
   "source": [
    "def obj_pclassification_gpu(w, X, Y, C, p, weighting=True):\n",
    "    \"\"\"\n",
    "        Objective with L2 regularisation and p-classification loss\n",
    "        \n",
    "        Input:\n",
    "            - w: current weight vector, flattened L x D\n",
    "            - X: feature matrix, N x D\n",
    "            - Y: label matrix,   N x L\n",
    "            - C: regularisation constant, is consistent with scikit-learn C = 1 / (N * \\lambda)\n",
    "            - p: constant for p-classification push loss\n",
    "    \"\"\"\n",
    "    N, D = X.shape\n",
    "    K = Y.shape[1]\n",
    "    assert(w.shape[0] == K * D)\n",
    "    assert(p >= 1)\n",
    "    assert(C > 0)\n",
    "    \n",
    "    if torch.cuda.is_available():\n",
    "        dtype = torch.cuda.FloatTensor\n",
    "    else:\n",
    "        dtype = torch.FloatTensor\n",
    "    \n",
    "    w_ = torch.from_numpy(w).type(dtype)\n",
    "    X_ = torch.from_numpy(X).type(dtype)\n",
    "    Y_ = torch.from_numpy(Y).type(dtype)\n",
    "    \n",
    "    #W = w.reshape(K, D)  # reshape weight matrix\n",
    "    W_ = w_.view(K, D)\n",
    "    \n",
    "    OneN = torch.ones(N).type(dtype)\n",
    "    OneK = torch.ones(K).type(dtype)\n",
    "    \n",
    "    if weighting is True:\n",
    "        #KPosAll = np.sum(Y, axis=1)  # number of positive labels for each example, N by 1\n",
    "        #KNegAll = K - KPosAll        # number of negative labels for each example, N by 1\n",
    "        KPosAll = Y_.sum(dim=1)\n",
    "        KNegAll = K - KPosAll\n",
    "    else:\n",
    "        #KPosAll = np.ones(N)\n",
    "        #KNegAll = np.ones(N)\n",
    "        KPosAll = OneN\n",
    "        KNegAll = OneN\n",
    "        \n",
    "    #A_diag = np.divide(1, KPosAll)  # N by 1\n",
    "    #P_diag = np.divide(1, KNegAll)  # N by 1\n",
    "    #OneN = np.ones(N)  # N by 1\n",
    "    #OneK = np.ones(K)  # K by 1\n",
    "    A_diag = torch.div(OneN, KPosAll)\n",
    "    P_diag = torch.div(OneN, KNegAll)\n",
    "    \n",
    "    #T1 = np.dot(X, W.T)  # N by K\n",
    "    T1 = torch.matmul(X_, W_.t())\n",
    "    \n",
    "    #T1p = np.multiply(Y, T1)\n",
    "    #T2 = np.multiply(Y, np.exp(-T1p))  # N by K\n",
    "    #T3 = T2 * A_diag[:, None]  # N by K\n",
    "    T1p = torch.mul(Y_, T1)\n",
    "    T2 = torch.mul(Y_, torch.exp(-T1p))\n",
    "    T3 = T2 * A_diag[:, None]\n",
    "    \n",
    "    #T1n = np.multiply(1-Y, T1)\n",
    "    #T4 = np.multiply(1-Y, np.exp(p * T1n))  # N by K\n",
    "    #T5 = T4 * P_diag[:, None]  # N by K\n",
    "    T1n = torch.mul(1-Y_, T1)\n",
    "    T4 = torch.mul(1-Y_, torch.exp(p * T1n))\n",
    "    T5 = T2 * A_diag[:, None]\n",
    "    \n",
    "    #J = np.dot(w, w) * 0.5 / C + (np.dot(OneN, np.dot(T3, OneK)) + np.dot(OneN, np.dot(T5/p, OneK))) / N\n",
    "    J = torch.matmul(w_, w_) * 0.5 / C + \\\n",
    "        torch.matmul(OneN, torch.matmul(T3, OneK)) / N + \\\n",
    "        torch.matmul(OneN, torch.matmul(T5/p, OneK)) / N\n",
    "    \n",
    "    #G = W / C + (np.dot(T3.T, -X) + np.dot(T5.T, X)) / N\n",
    "    G = W_ / C + (torch.matmul(T3.t(), -X_) + torch.matmul(T5.t(), X_)) / N\n",
    "    \n",
    "    #return (J, G.ravel())\n",
    "    return (J, G.view(-1).cpu().numpy())"
   ]
  },
  {
   "cell_type": "code",
   "execution_count": null,
   "metadata": {},
   "outputs": [],
   "source": [
    "def obj_pclassification(w, X, Y, C, p, weighting=True):\n",
    "    \"\"\"\n",
    "        Objective with L2 regularisation and p-classification loss\n",
    "        \n",
    "        Input:\n",
    "            - w: current weight vector, flattened L x D\n",
    "            - X: feature matrix, N x D\n",
    "            - Y: label matrix,   N x L\n",
    "            - C: regularisation constant, is consistent with scikit-learn C = 1 / (N * \\lambda)\n",
    "            - p: constant for p-classification push loss\n",
    "    \"\"\"\n",
    "    N, D = X.shape\n",
    "    K = Y.shape[1]\n",
    "    assert(w.shape[0] == K * D)\n",
    "    assert(p >= 1)\n",
    "    assert(C > 0)\n",
    "    \n",
    "    W = w.reshape(K, D)  # reshape weight matrix\n",
    "    \n",
    "    J = 0.0  # cost\n",
    "    G = np.zeros_like(W)  # gradient matrix\n",
    "    if weighting is True:\n",
    "        KPosAll = np.sum(Y, axis=1)  # number of positive labels for each example, N by 1\n",
    "        KNegAll = K - KPosAll        # number of negative labels for each example, N by 1\n",
    "    else:\n",
    "        KPosAll = np.ones(N)\n",
    "        KNegAll = np.ones(N)\n",
    "    A_diag = np.divide(1, KPosAll)  # N by 1\n",
    "    P_diag = np.divide(1, KNegAll)  # N by 1\n",
    "    \n",
    "    OneN = np.ones(N)  # N by 1\n",
    "    OneK = np.ones(K)  # K by 1\n",
    "    T1 = np.dot(X, W.T)  # N by K\n",
    "    \n",
    "    T1p = np.multiply(Y, T1)\n",
    "    T2 = np.multiply(Y, np.exp(-T1p))  # N by K\n",
    "    T3 = T2 * A_diag[:, None]  # N by K\n",
    "    \n",
    "    T1n = np.multiply(1-Y, T1)\n",
    "    T4 = np.multiply(1-Y, np.exp(p * T1n))  # N by K\n",
    "    T5 = T4 * P_diag[:, None]  # N by K\n",
    "    \n",
    "    J = np.dot(w, w) * 0.5 / C + (np.dot(OneN, np.dot(T3, OneK)) + np.dot(OneN, np.dot(T5/p, OneK))) / N\n",
    "    \n",
    "    G = W / C + (np.dot(T3.T, -X) + np.dot(T5.T, X)) / N\n",
    "    \n",
    "    return (J, G.ravel())"
   ]
  },
  {
   "cell_type": "code",
   "execution_count": null,
   "metadata": {},
   "outputs": [],
   "source": [
    "def obj_pclassification_loop(w, X, Y, C, p, weighting=True):\n",
    "    \"\"\"\n",
    "        Objective with L2 regularisation and p-classification loss\n",
    "        \n",
    "        Input:\n",
    "            - w: current weight vector, flattened L x D\n",
    "            - X: feature matrix, N x D\n",
    "            - Y: label matrix,   N x L\n",
    "            - C: regularisation constant, is consistent with scikit-learn C = 1 / (N * \\lambda)\n",
    "            - p: constant for p-classification push loss\n",
    "    \"\"\"\n",
    "    N, D = X.shape\n",
    "    L = Y.shape[1]\n",
    "    assert(w.shape[0] == L * D)\n",
    "    assert(p >= 1)\n",
    "    assert(C > 0)\n",
    "    \n",
    "    W = w.reshape(L, D)  # reshape weight matrix\n",
    "    \n",
    "    J = 0.0  # cost\n",
    "    G = np.zeros_like(W)  # gradient matrix\n",
    "    if weighting is True:\n",
    "        nPosAll = np.sum(Y, axis=1)  # number of positive labels for each example, N by 1\n",
    "        nNegAll = L - nPosAll        # number of negative labels for each example, N by 1\n",
    "    else:\n",
    "        nPosAll = np.ones(N)\n",
    "        nNegAll = np.ones(N)\n",
    "    \n",
    "    for k in range(L):\n",
    "        wk = W[k, :]\n",
    "        Yk = Y[:, k]\n",
    "        sPosVec = np.dot(X[Yk == 1, :], wk)      # Nk+ by 1\n",
    "        sNegVec = np.dot(X[Yk == 0, :], wk)      # NK- by 1\n",
    "        nPosVec = nPosAll[Yk == 1]               # Nk+ by 1\n",
    "        nNegVec = nNegAll[Yk == 0]               # NK- by 1\n",
    "        \n",
    "        #nPosVec = np.sum(Y[Yk == 1, :], axis=1)  # Nk+ by 1\n",
    "        #nNegVec = np.sum(Y[Yk == 0, :], axis=1)  # NK- by 1\n",
    "        \n",
    "        #nPosVec = np.sum(Y[Yk == 1, :], axis=1) + 0.01 # Nk+ by 1 with smoothing\n",
    "        #nNegVec = np.sum(Y[Yk == 0, :], axis=1) + 0.01 # NK- by 1 with smoothing\n",
    "        \n",
    "        #nPosVec = np.ones_like(sPosVec) * N\n",
    "        #nNegVec = np.ones_like(sNegVec) * N\n",
    "        \n",
    "        lossPos = np.divide(np.exp(-sPosVec), nPosVec)     # NK+ by 1\n",
    "        lossNeg = np.divide(np.exp(p * sNegVec), nNegVec)  # NK- by 1\n",
    "        \n",
    "        J += np.sum(lossPos) + np.sum(lossNeg) / p\n",
    "        #print(X[Yk == 0, :][0])\n",
    "        #print(np.exp(np.dot(X[Yk == 0, :][0], wk)))\n",
    "        \n",
    "        GradPos = -X[Yk == 1, :] * lossPos[:, None]\n",
    "        GradNeg =  X[Yk == 0, :] * lossNeg[:, None]\n",
    "        \n",
    "        G[k, :] = np.sum(GradPos, axis=0) + np.sum(GradNeg, axis=0)\n",
    "                \n",
    "    #J = 0.5 * C * np.dot(w, w) + J / N\n",
    "    #G = C * W + G / N\n",
    "    \n",
    "    # be consistent with scikit-learn C = 1 / (N * \\lambda)\n",
    "    # normalise the objective J by dividing it C \n",
    "    J = np.dot(w, w) / (2.0 * C) + J / N\n",
    "    G = W / C + G / N\n",
    "    \n",
    "    return (J, G.ravel())"
   ]
  },
  {
   "cell_type": "markdown",
   "metadata": {},
   "source": [
    "Check gradient"
   ]
  },
  {
   "cell_type": "code",
   "execution_count": null,
   "metadata": {},
   "outputs": [],
   "source": [
    "#w0 = 0.001 * np.random.randn(Y_train.shape[1] * X_train.shape[1])\n",
    "#check_grad(lambda w: obj_pclassification(w, X_train, Y_train, C=1, p=8)[0], \n",
    "#           lambda w: obj_pclassification(w, X_train, Y_train, C=1, p=8)[1], w0)"
   ]
  },
  {
   "cell_type": "code",
   "execution_count": null,
   "metadata": {},
   "outputs": [],
   "source": [
    "def cmp_loop_vec(func_loop, func_vec, X_train, Y_train, p=1):\n",
    "    print('%15s %15s %15s %15s %15s' % ('C','J_Diff', 'J_loop', 'J_vec', 'G_Diff'))\n",
    "    w0 = 0.001 * np.random.randn(Y_train.shape[1] * X_train.shape[1])\n",
    "    for e in range(-6, 10):\n",
    "        C = 10**(e)\n",
    "        J,  G  = func_loop(w0, X_train, Y_train, C, p=p)\n",
    "        J1, G1 = func_vec( w0, X_train, Y_train, C, p=p)\n",
    "        Gdiff = G1 - G\n",
    "        print('%15g %15g %15g %15g %15g' % (C, J1 - J, J, J1, np.dot(Gdiff, Gdiff)))"
   ]
  },
  {
   "cell_type": "code",
   "execution_count": null,
   "metadata": {},
   "outputs": [],
   "source": [
    "#cmp_loop_vec(obj_pclassification_loop, obj_pclassification, X_train, Y_train, p=8)"
   ]
  },
  {
   "cell_type": "code",
   "execution_count": null,
   "metadata": {},
   "outputs": [],
   "source": [
    "%%script false\n",
    "C = 10\n",
    "p = 1\n",
    "w0 = np.random.rand(X_train.shape[1] * nLabels)\n",
    "%lprun -f obj_pclassification check_grad(lambda w: obj_pclassification(w, X_train, Y_train, C, p)[0], \\\n",
    "                                         lambda w: obj_pclassification(w, X_train, Y_train, C, p)[1], w0)"
   ]
  },
  {
   "cell_type": "code",
   "execution_count": null,
   "metadata": {},
   "outputs": [],
   "source": [
    "class MLC_pclassification(BaseEstimator):\n",
    "    \"\"\"All methods are necessary for a scikit-learn estimator\"\"\"\n",
    "    \n",
    "    def __init__(self, C=1, p=1, weighting=True):\n",
    "        \"\"\"Initialisation\"\"\"\n",
    "        \n",
    "        assert C >  0\n",
    "        assert p >= 1\n",
    "        self.C = C\n",
    "        self.p = p\n",
    "        self.weighting = weighting\n",
    "        self.obj_func = obj_pclassification\n",
    "        self.trained = False\n",
    "        \n",
    "    def fit(self, X_train, Y_train):\n",
    "        \"\"\"Model fitting by optimising the objective\"\"\"\n",
    "        opt_method = 'L-BFGS-B' #'BFGS' #'Newton-CG'\n",
    "        options = {'disp': 1, 'maxiter': 10**5, 'maxfun': 10**5} # , 'iprint': 99}\n",
    "        sys.stdout.write('\\nC: %g, p: %g, weighting: %s' % (self.C, self.p, self.weighting))\n",
    "        sys.stdout.flush()\n",
    "            \n",
    "        N, D = X_train.shape\n",
    "        K = Y_train.shape[1]\n",
    "        #w0 = np.random.rand(K * D) - 0.5  # initial guess in range [-1, 1]\n",
    "        w0 = 0.001 * np.random.randn(K * D)\n",
    "        opt = minimize(self.obj_func, w0, args=(X_train, Y_train, self.C, self.p, self.weighting), \\\n",
    "                       method=opt_method, jac=True, options=options)\n",
    "        if opt.success is True:\n",
    "            self.W = np.reshape(opt.x, (K, D))\n",
    "            self.trained = True\n",
    "        else:\n",
    "            sys.stderr.write('Optimisation failed')\n",
    "            print(opt.items())\n",
    "            self.trained = False\n",
    "            \n",
    "            \n",
    "    def decision_function(self, X_test):\n",
    "        \"\"\"Make predictions (score is real number)\"\"\"\n",
    "        \n",
    "        assert self.trained is True, \"Can't make prediction before training\"\n",
    "        D = X_test.shape[1]\n",
    "        return np.dot(X_test, self.W.T)  # log of prediction score\n",
    "        \n",
    "    \n",
    "    def predict(self, X_test):\n",
    "        return self.decision_function(X_test)\n",
    "    #    \"\"\"Make predictions (score is boolean)\"\"\"   \n",
    "    #    preds = sigmoid(self.decision_function(X_test))\n",
    "    #    #return (preds >= 0)\n",
    "    #    assert self.TH is not None\n",
    "    #    return preds >= self.TH        \n",
    "        \n",
    "    # inherit from BaseEstimator instead of re-implement\n",
    "    #\n",
    "    #def get_params(self, deep = True):\n",
    "    #def set_params(self, **params):"
   ]
  },
  {
   "cell_type": "code",
   "execution_count": null,
   "metadata": {},
   "outputs": [],
   "source": [
    "def dump_results(predictor, X_train, Y_train, X_test, Y_test, rankingLoss=False):\n",
    "    \"\"\"\n",
    "        Compute and save performance results\n",
    "    \"\"\"\n",
    "    preds_train = predictor.decision_function(X_train)\n",
    "    preds_test  = predictor.decision_function(X_test)\n",
    "    \n",
    "    print('Training set:')\n",
    "    perf_dict_train = evaluatePrecision(Y_train, preds_train, verbose=1)\n",
    "    print()\n",
    "    print('Test set:')\n",
    "    perf_dict_test = evaluatePrecision(Y_test, preds_test, verbose=1)\n",
    "    \n",
    "    if rankingLoss is True:\n",
    "        print()\n",
    "        print('Training set:')\n",
    "        perf_dict_train.update(evaluateRankingLoss(Y_train, preds_train))\n",
    "        print(label_ranking_loss(Y_train, preds_train))\n",
    "        print()\n",
    "        print('Test set:')\n",
    "        perf_dict_test.update(evaluateRankingLoss(Y_test, preds_test))\n",
    "        print(label_ranking_loss(Y_test, preds_test))"
   ]
  },
  {
   "cell_type": "code",
   "execution_count": null,
   "metadata": {},
   "outputs": [],
   "source": [
    "def avgF1(Y_true, Y_pred):\n",
    "    #THs = [0, 0.05, 0.10, 0.15, 0.2, 0.25, 0.30, 0.35, 0.4, 0.45, 0.5, 0.55, 0.60, 0.65, 0.70, 0.75]  # SPEN THs\n",
    "    THs = [0, 0.1, 0.2, 0.3, 0.4, 0.5, 0.6, 0.7, 0.8, 0.9]\n",
    "    F1 = Parallel(n_jobs=-1)(delayed(f1_score_nowarn)(Y_true, Y_pred >= th, average='samples') for th in THs)\n",
    "    bestix = np.argmax(F1)\n",
    "    print('\\nbest threshold: %g, best F1: %g, #examples: %g' % (THs[bestix], F1[bestix], Y_true.shape[0]))\n",
    "    return F1[bestix]"
   ]
  },
  {
   "cell_type": "code",
   "execution_count": null,
   "metadata": {
    "scrolled": true
   },
   "outputs": [],
   "source": [
    "#C_set = [1e-3, 3e-3, 0.01, 0.03, 0.1, 0.3, 1, 3, 10, 30, 100, 300]\n",
    "C_set = [0.01, 0.03, 0.1, 0.3, 1, 3, 10, 30, 100]\n",
    "p_set = [1, 2, 4, 8]\n",
    "parameters = [{'C': C_set, 'p': p_set, 'weighting': [True]}]\n",
    "#scorer = {'Prec': make_scorer(avgPrecisionK)}\n",
    "scorer = {'F1': make_scorer(avgF1)}"
   ]
  },
  {
   "cell_type": "code",
   "execution_count": null,
   "metadata": {
    "scrolled": true
   },
   "outputs": [],
   "source": [
    "if not os.path.exists(fmodel_prec):\n",
    "    clf = GridSearchCV(MLC_pclassification(), parameters, scoring=scorer, cv=5, n_jobs=1, refit='F1')\n",
    "    clf.fit(X_train, Y_train)\n",
    "    #pkl.dump(clf, open(fmodel_prec, 'wb'))\n",
    "else:\n",
    "    clf = pkl.load(open(fmodel_prec, 'rb'))"
   ]
  },
  {
   "cell_type": "code",
   "execution_count": null,
   "metadata": {},
   "outputs": [],
   "source": [
    "pkl.dump(clf, open(fmodel_prec, 'wb'))"
   ]
  },
  {
   "cell_type": "code",
   "execution_count": null,
   "metadata": {},
   "outputs": [],
   "source": [
    "clf = MLC_pclassification(C=100, p=3)\n",
    "clf.fit(X_train, Y_train)"
   ]
  },
  {
   "cell_type": "code",
   "execution_count": null,
   "metadata": {},
   "outputs": [],
   "source": [
    "f1_score_nowarn(Y_test, clf.decision_function(X_test) >= 0.8, average='samples')"
   ]
  },
  {
   "cell_type": "code",
   "execution_count": null,
   "metadata": {},
   "outputs": [],
   "source": [
    "f1_score_nowarn(Y_train, clf.decision_function(X_train) > 0.8, average='samples')"
   ]
  },
  {
   "cell_type": "code",
   "execution_count": null,
   "metadata": {
    "scrolled": true
   },
   "outputs": [],
   "source": [
    "dump_results(clf, X_train, Y_train, X_test, Y_test, rankingLoss=False)"
   ]
  },
  {
   "cell_type": "code",
   "execution_count": null,
   "metadata": {},
   "outputs": [],
   "source": [
    "clf = pkl.load(open(fmodel_prec, 'rb'))"
   ]
  },
  {
   "cell_type": "code",
   "execution_count": null,
   "metadata": {},
   "outputs": [],
   "source": [
    "clf.best_params_"
   ]
  },
  {
   "cell_type": "code",
   "execution_count": null,
   "metadata": {},
   "outputs": [],
   "source": [
    "ysum = Y_train.sum(axis=1)"
   ]
  },
  {
   "cell_type": "code",
   "execution_count": null,
   "metadata": {},
   "outputs": [],
   "source": [
    "ax = plt.subplot('111')\n",
    "ax.hist(ysum, bins=20)\n",
    "ax.set_yscale('log')"
   ]
  },
  {
   "cell_type": "code",
   "execution_count": null,
   "metadata": {},
   "outputs": [],
   "source": [
    "f1_score_nowarn(Y_test, clf.decision_function(X_test) >= 0.8, average='samples')"
   ]
  },
  {
   "cell_type": "code",
   "execution_count": null,
   "metadata": {},
   "outputs": [],
   "source": [
    "f1_score_nowarn(Y_train, clf.decision_function(X_train) > 0.9, average='samples')"
   ]
  },
  {
   "cell_type": "code",
   "execution_count": null,
   "metadata": {},
   "outputs": [],
   "source": [
    "preds = clf.decision_function(X_test)"
   ]
  },
  {
   "cell_type": "code",
   "execution_count": null,
   "metadata": {},
   "outputs": [],
   "source": [
    "np.max(preds)"
   ]
  },
  {
   "cell_type": "code",
   "execution_count": null,
   "metadata": {},
   "outputs": [],
   "source": [
    "np.min(preds)"
   ]
  },
  {
   "cell_type": "code",
   "execution_count": null,
   "metadata": {},
   "outputs": [],
   "source": [
    "#f1_score_nowarn(Y_test, sigmoid(preds) > 0.7, average='samples')"
   ]
  },
  {
   "cell_type": "markdown",
   "metadata": {},
   "source": [
    "## Result analysis"
   ]
  },
  {
   "cell_type": "code",
   "execution_count": null,
   "metadata": {},
   "outputs": [],
   "source": [
    "precisions_train = [avgPrecision(Y_train, preds_train, k) for k in range(1, nLabels+1)]\n",
    "precisions_test  = [avgPrecision(Y_test,  preds_test,  k) for k in range(1, nLabels+1)]"
   ]
  },
  {
   "cell_type": "code",
   "execution_count": null,
   "metadata": {},
   "outputs": [],
   "source": [
    "precisionK_train = avgPrecisionK(Y_train, preds_train)\n",
    "precisionK_test  = avgPrecisionK(Y_test,  preds_test)"
   ]
  },
  {
   "cell_type": "code",
   "execution_count": null,
   "metadata": {},
   "outputs": [],
   "source": [
    "plt.figure(figsize=[10,5])\n",
    "plt.plot(precisions_train, ls='--', c='r', label='Train')\n",
    "plt.plot(precisions_test,  ls='-',  c='g', label='Test')\n",
    "plt.plot([precisionK_train for k in range(nLabels)], ls='-', c='r', label='Train, Precision@K')\n",
    "plt.plot([precisionK_test  for k in range(nLabels)], ls='-', c='g', label='Test, Precision@K')\n",
    "plt.xticks(np.arange(nLabels), np.arange(1,nLabels+1))\n",
    "plt.xlabel('k')\n",
    "plt.ylabel('Precision@k')\n",
    "plt.legend(loc='best')\n",
    "plt.title('MLC w. p-classification Loss on ' + dataset_name + ' dataset')\n",
    "plt.savefig(dataset_name + '_pc.svg')"
   ]
  }
 ],
 "metadata": {
  "kernelspec": {
   "display_name": "Python 3",
   "language": "python",
   "name": "python3"
  },
  "language_info": {
   "codemirror_mode": {
    "name": "ipython",
    "version": 3
   },
   "file_extension": ".py",
   "mimetype": "text/x-python",
   "name": "python",
   "nbconvert_exporter": "python",
   "pygments_lexer": "ipython3",
   "version": "3.6.3"
  }
 },
 "nbformat": 4,
 "nbformat_minor": 2
}
