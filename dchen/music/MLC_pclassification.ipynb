{
 "cells": [
  {
   "cell_type": "markdown",
   "metadata": {},
   "source": [
    "# Multi-label classification -- p-classification loss"
   ]
  },
  {
   "cell_type": "code",
   "execution_count": 1,
   "metadata": {},
   "outputs": [],
   "source": [
    "%matplotlib inline\n",
    "%load_ext line_profiler\n",
    "%load_ext autoreload\n",
    "%autoreload 2\n",
    "\n",
    "import os, sys, time\n",
    "import pickle as pkl\n",
    "import numpy as np\n",
    "import pandas as pd\n",
    "\n",
    "from scipy.optimize import minimize\n",
    "from scipy.optimize import check_grad\n",
    "from scipy.special import expit as sigmoid\n",
    "\n",
    "from sklearn.base import BaseEstimator\n",
    "from sklearn.pipeline import make_pipeline\n",
    "from sklearn.model_selection import train_test_split\n",
    "from sklearn.model_selection import GridSearchCV\n",
    "from sklearn.metrics import classification_report, make_scorer, label_ranking_loss\n",
    "\n",
    "import matplotlib.pyplot as plt\n",
    "import seaborn as sns\n",
    "from joblib import Parallel, delayed"
   ]
  },
  {
   "cell_type": "code",
   "execution_count": 2,
   "metadata": {},
   "outputs": [],
   "source": [
    "sys.path.append('src')\n",
    "from evaluate import avgPrecisionK, evaluatePrecision, evaluateF1, evaluateRankingLoss, f1_score_nowarn, calcLoss\n",
    "from datasets import create_dataset, dataset_names, nLabels_dict"
   ]
  },
  {
   "cell_type": "code",
   "execution_count": 3,
   "metadata": {},
   "outputs": [
    {
     "data": {
      "text/plain": [
       "['yeast', 'scene', 'bibtex', 'bookmarks', 'delicious', 'mediamill']"
      ]
     },
     "execution_count": 3,
     "metadata": {},
     "output_type": "execute_result"
    }
   ],
   "source": [
    "dataset_names"
   ]
  },
  {
   "cell_type": "code",
   "execution_count": 4,
   "metadata": {},
   "outputs": [],
   "source": [
    "data_ix = 2"
   ]
  },
  {
   "cell_type": "code",
   "execution_count": 5,
   "metadata": {},
   "outputs": [
    {
     "name": "stdout",
     "output_type": "stream",
     "text": [
      "bibtex 159\n"
     ]
    }
   ],
   "source": [
    "dataset_name = dataset_names[data_ix]\n",
    "nLabels = nLabels_dict[dataset_name]\n",
    "print(dataset_name, nLabels)"
   ]
  },
  {
   "cell_type": "code",
   "execution_count": 6,
   "metadata": {},
   "outputs": [],
   "source": [
    "data_dir = 'data'\n",
    "SEED = 918273645\n",
    "fmodel_base = os.path.join(data_dir, 'pc-' + dataset_name + '-base.pkl')\n",
    "fmodel_prec = os.path.join(data_dir, 'pc-' + dataset_name + '-prec.pkl')\n",
    "fmodel_f1 = os.path.join(data_dir, 'pc-' + dataset_name + '-f1.pkl')"
   ]
  },
  {
   "cell_type": "markdown",
   "metadata": {},
   "source": [
    "Load data."
   ]
  },
  {
   "cell_type": "code",
   "execution_count": 7,
   "metadata": {},
   "outputs": [],
   "source": [
    "X_train, Y_train = create_dataset(dataset_name, train_data=True, shuffle=True, random_state=SEED)\n",
    "X_test,  Y_test  = create_dataset(dataset_name, train_data=False)"
   ]
  },
  {
   "cell_type": "markdown",
   "metadata": {},
   "source": [
    "Feature normalisation."
   ]
  },
  {
   "cell_type": "code",
   "execution_count": 8,
   "metadata": {},
   "outputs": [],
   "source": [
    "X_train_mean = np.mean(X_train, axis=0).reshape((1, -1))\n",
    "X_train_std = np.std(X_train, axis=0).reshape((1, -1)) + 10 ** (-6)\n",
    "X_train -= X_train_mean\n",
    "X_train /= X_train_std\n",
    "X_test  -= X_train_mean\n",
    "X_test  /= X_train_std"
   ]
  },
  {
   "cell_type": "code",
   "execution_count": 9,
   "metadata": {},
   "outputs": [],
   "source": [
    "def print_dataset_info(X_train, Y_train, X_test, Y_test):\n",
    "    N_train, D = X_train.shape\n",
    "    K = Y_train.shape[1]\n",
    "    N_test = X_test.shape[0]\n",
    "    print('%-45s %s' % ('Number of training examples:', '{:,}'.format(N_train)))\n",
    "    print('%-45s %s' % ('Number of test examples:', '{:,}'.format(N_test)))\n",
    "    print('%-45s %s' % ('Number of features:', '{:,}'.format(D)))\n",
    "    print('%-45s %s' % ('Number of labels:', '{:,}'.format(K)))\n",
    "    avgK_train = np.mean(np.sum(Y_train, axis=1))\n",
    "    avgK_test  = np.mean(np.sum(Y_test, axis=1))\n",
    "    print('%-45s %.3f (%.2f%%)' % ('Average number of positive labels (train):', avgK_train, 100*avgK_train / K))\n",
    "    print('%-45s %.3f (%.2f%%)' % ('Average number of positive labels (test):', avgK_test, 100*avgK_test / K))\n",
    "    #print('%-45s %.4f%%' % ('Average label occurrence (train):', np.mean(np.sum(Y_train, axis=0)) / N_train))\n",
    "    #print('%-45s %.4f%%' % ('Average label occurrence (test):', np.mean(np.sum(Y_test, axis=0)) / N_test))\n",
    "    print('%-45s %.3f%%' % ('Sparsity (percent) (train):', 100 * np.sum(Y_train) / np.prod(Y_train.shape)))\n",
    "    print('%-45s %.3f%%' % ('Sparsity (percent) (test):', 100 * np.sum(Y_test) / np.prod(Y_test.shape)))"
   ]
  },
  {
   "cell_type": "code",
   "execution_count": 10,
   "metadata": {},
   "outputs": [
    {
     "name": "stdout",
     "output_type": "stream",
     "text": [
      "Dataset:                                      bibtex\n",
      "Number of training examples:                  4,880\n",
      "Number of test examples:                      2,515\n",
      "Number of features:                           1,836\n",
      "Number of labels:                             159\n",
      "Average number of positive labels (train):    2.380 (1.50%)\n",
      "Average number of positive labels (test):     2.444 (1.54%)\n",
      "Sparsity (percent) (train):                   1.497%\n",
      "Sparsity (percent) (test):                    1.537%\n"
     ]
    }
   ],
   "source": [
    "print('%-45s %s' % ('Dataset:', dataset_name))\n",
    "print_dataset_info(X_train, Y_train, X_test, Y_test)"
   ]
  },
  {
   "cell_type": "markdown",
   "metadata": {},
   "source": [
    "## p-classification loss"
   ]
  },
  {
   "cell_type": "markdown",
   "metadata": {},
   "source": [
    "Multi-label learning with p-classification loss."
   ]
  },
  {
   "cell_type": "code",
   "execution_count": 11,
   "metadata": {},
   "outputs": [],
   "source": [
    "def obj_pclassification(w, X, Y, C, p, weighting=True):\n",
    "    \"\"\"\n",
    "        Objective with L2 regularisation and p-classification loss\n",
    "        \n",
    "        Input:\n",
    "            - w: current weight vector, flattened L x D\n",
    "            - X: feature matrix, N x D\n",
    "            - Y: label matrix,   N x L\n",
    "            - C: regularisation constant, is consistent with scikit-learn C = 1 / (N * \\lambda)\n",
    "            - p: constant for p-classification push loss\n",
    "    \"\"\"\n",
    "    N, D = X.shape\n",
    "    K = Y.shape[1]\n",
    "    assert(w.shape[0] == K * D)\n",
    "    assert(p >= 1)\n",
    "    assert(C > 0)\n",
    "    \n",
    "    W = w.reshape(K, D)  # reshape weight matrix\n",
    "    OneN = np.ones(N)  # N by 1\n",
    "    OneK = np.ones(K)  # K by 1\n",
    "    \n",
    "    if weighting is True:\n",
    "        #KPosAll = np.sum(Y, axis=1)  # number of positive labels for each example, N by 1\n",
    "        KPosAll = np.dot(Y, OneK)\n",
    "        KNegAll = K - KPosAll        # number of negative labels for each example, N by 1\n",
    "    else:\n",
    "        KPosAll = np.ones(N)\n",
    "        KNegAll = np.ones(N)\n",
    "    A_diag = np.divide(1, KPosAll)  # N by 1\n",
    "    P_diag = np.divide(1, KNegAll)  # N by 1\n",
    "    \n",
    "    T1 = np.dot(X, W.T)  # N by K\n",
    "    \n",
    "    T1p = np.multiply(Y, T1)\n",
    "    T2 = np.multiply(Y, np.exp(-T1p))  # N by K\n",
    "    T3 = T2 * A_diag[:, None]  # N by K\n",
    "    \n",
    "    #T1n = np.multiply(1-Y, T1)\n",
    "    T1n = T1 - T1p\n",
    "    T4 = np.multiply(1-Y, np.exp(p * T1n))  # N by K\n",
    "    T5 = T4 * P_diag[:, None]  # N by K\n",
    "    \n",
    "    J = np.dot(w, w) * 0.5 / C + (np.dot(OneN, np.dot(T3, OneK)) + np.dot(OneN, np.dot(T5/p, OneK))) / N\n",
    "    #J = np.dot(w, w) * 0.5 / C + (np.dot(OneN, np.dot(T3 + T5/p, OneK))) / N   # not as efficient\n",
    "    \n",
    "    #G = W / C + (np.dot(T3.T, -X) + np.dot(T5.T, X)) / N\n",
    "    G = W / C + (np.dot((-T3 + T5).T, X)) / N   # more efficient\n",
    "    \n",
    "    return (J, G.ravel())"
   ]
  },
  {
   "cell_type": "code",
   "execution_count": 12,
   "metadata": {},
   "outputs": [],
   "source": [
    "def loss_pclassification(W, X, Y, p, weighting=True):\n",
    "    \"\"\"\n",
    "        Objective with L2 regularisation and p-classification loss\n",
    "        \n",
    "        Input:\n",
    "            - w: current weight vector, flattened L x D\n",
    "            - X: feature matrix, N x D\n",
    "            - Y: label matrix,   N x L\n",
    "            - p: constant for p-classification push loss\n",
    "    \"\"\"\n",
    "    N, D = X.shape\n",
    "    K = Y.shape[1]\n",
    "    assert W.shape == (K, D)\n",
    "    assert p >= 1\n",
    "    \n",
    "    OneN = np.ones(N)  # N by 1\n",
    "    OneK = np.ones(K)  # K by 1\n",
    "    \n",
    "    if weighting is True:\n",
    "        #KPosAll = np.sum(Y, axis=1)  # number of positive labels for each example, N by 1\n",
    "        KPosAll = np.dot(Y, OneK)\n",
    "        KNegAll = K - KPosAll        # number of negative labels for each example, N by 1\n",
    "    else:\n",
    "        KPosAll = np.ones(N)\n",
    "        KNegAll = np.ones(N)\n",
    "    A_diag = np.divide(1, KPosAll)  # N by 1\n",
    "    P_diag = np.divide(1, KNegAll)  # N by 1\n",
    "    \n",
    "    T1 = np.dot(X, W.T)  # N by K\n",
    "    \n",
    "    T1p = np.multiply(Y, T1)\n",
    "    T2 = np.multiply(Y, np.exp(-T1p))  # N by K\n",
    "    T3 = T2 * A_diag[:, None]  # N by K\n",
    "    \n",
    "    #T1n = np.multiply(1-Y, T1)\n",
    "    T1n = T1 - T1p\n",
    "    T4 = np.multiply(1-Y, np.exp(p * T1n))  # N by K\n",
    "    T5 = T4 * P_diag[:, None]  # N by K\n",
    "    \n",
    "    return np.dot(T3 + T5/p, OneK)"
   ]
  },
  {
   "cell_type": "code",
   "execution_count": 13,
   "metadata": {},
   "outputs": [],
   "source": [
    "def obj_pclassification_loop(w, X, Y, C, p, weighting=True):\n",
    "    \"\"\"\n",
    "        Objective with L2 regularisation and p-classification loss\n",
    "        \n",
    "        Input:\n",
    "            - w: current weight vector, flattened L x D\n",
    "            - X: feature matrix, N x D\n",
    "            - Y: label matrix,   N x L\n",
    "            - C: regularisation constant, is consistent with scikit-learn C = 1 / (N * \\lambda)\n",
    "            - p: constant for p-classification push loss\n",
    "    \"\"\"\n",
    "    N, D = X.shape\n",
    "    L = Y.shape[1]\n",
    "    assert(w.shape[0] == L * D)\n",
    "    assert(p >= 1)\n",
    "    assert(C > 0)\n",
    "    \n",
    "    W = w.reshape(L, D)  # reshape weight matrix\n",
    "    \n",
    "    J = 0.0  # cost\n",
    "    G = np.zeros_like(W)  # gradient matrix\n",
    "    if weighting is True:\n",
    "        nPosAll = np.sum(Y, axis=1)  # number of positive labels for each example, N by 1\n",
    "        nNegAll = L - nPosAll        # number of negative labels for each example, N by 1\n",
    "    else:\n",
    "        nPosAll = np.ones(N)\n",
    "        nNegAll = np.ones(N)\n",
    "    \n",
    "    for k in range(L):\n",
    "        wk = W[k, :]\n",
    "        Yk = Y[:, k]\n",
    "        sPosVec = np.dot(X[Yk == 1, :], wk)      # Nk+ by 1\n",
    "        sNegVec = np.dot(X[Yk == 0, :], wk)      # NK- by 1\n",
    "        nPosVec = nPosAll[Yk == 1]               # Nk+ by 1\n",
    "        nNegVec = nNegAll[Yk == 0]               # NK- by 1\n",
    "        \n",
    "        #nPosVec = np.sum(Y[Yk == 1, :], axis=1)  # Nk+ by 1\n",
    "        #nNegVec = np.sum(Y[Yk == 0, :], axis=1)  # NK- by 1\n",
    "        \n",
    "        #nPosVec = np.sum(Y[Yk == 1, :], axis=1) + 0.01 # Nk+ by 1 with smoothing\n",
    "        #nNegVec = np.sum(Y[Yk == 0, :], axis=1) + 0.01 # NK- by 1 with smoothing\n",
    "        \n",
    "        #nPosVec = np.ones_like(sPosVec) * N\n",
    "        #nNegVec = np.ones_like(sNegVec) * N\n",
    "        \n",
    "        lossPos = np.divide(np.exp(-sPosVec), nPosVec)     # NK+ by 1\n",
    "        lossNeg = np.divide(np.exp(p * sNegVec), nNegVec)  # NK- by 1\n",
    "        \n",
    "        J += np.sum(lossPos) + np.sum(lossNeg) / p\n",
    "        #print(X[Yk == 0, :][0])\n",
    "        #print(np.exp(np.dot(X[Yk == 0, :][0], wk)))\n",
    "        \n",
    "        GradPos = -X[Yk == 1, :] * lossPos[:, None]\n",
    "        GradNeg =  X[Yk == 0, :] * lossNeg[:, None]\n",
    "        \n",
    "        G[k, :] = np.sum(GradPos, axis=0) + np.sum(GradNeg, axis=0)\n",
    "                \n",
    "    #J = 0.5 * C * np.dot(w, w) + J / N\n",
    "    #G = C * W + G / N\n",
    "    \n",
    "    # be consistent with scikit-learn C = 1 / (N * \\lambda)\n",
    "    # normalise the objective J by dividing it C \n",
    "    J = np.dot(w, w) / (2.0 * C) + J / N\n",
    "    G = W / C + G / N\n",
    "    \n",
    "    return (J, G.ravel())"
   ]
  },
  {
   "cell_type": "markdown",
   "metadata": {},
   "source": [
    "Check gradient"
   ]
  },
  {
   "cell_type": "code",
   "execution_count": 14,
   "metadata": {},
   "outputs": [],
   "source": [
    "#w0 = 0.001 * np.random.randn(Y_train.shape[1] * X_train.shape[1])\n",
    "#check_grad(lambda w: obj_pclassification(w, X_train, Y_train, C=1, p=8)[0], \n",
    "#           lambda w: obj_pclassification(w, X_train, Y_train, C=1, p=8)[1], w0)"
   ]
  },
  {
   "cell_type": "code",
   "execution_count": 15,
   "metadata": {},
   "outputs": [],
   "source": [
    "def cmp_loop_vec(func_loop, func_vec, X_train, Y_train, p=1):\n",
    "    print('%15s %15s %15s %15s %15s' % ('C','J_Diff', 'J_loop', 'J_vec', 'G_Diff'))\n",
    "    w0 = 0.001 * np.random.randn(Y_train.shape[1] * X_train.shape[1])\n",
    "    for e in range(-6, 10):\n",
    "        C = 10**(e)\n",
    "        J,  G  = func_loop(w0, X_train, Y_train, C, p=p)\n",
    "        J1, G1 = func_vec( w0, X_train, Y_train, C, p=p)\n",
    "        Gdiff = G1 - G\n",
    "        print('%15g %15g %15g %15g %15g' % (C, J1 - J, J, J1, np.dot(Gdiff, Gdiff)))"
   ]
  },
  {
   "cell_type": "code",
   "execution_count": 16,
   "metadata": {},
   "outputs": [],
   "source": [
    "#cmp_loop_vec(obj_pclassification_loop, obj_pclassification, X_train, Y_train, p=8)"
   ]
  },
  {
   "cell_type": "markdown",
   "metadata": {},
   "source": [
    "Line profiling"
   ]
  },
  {
   "cell_type": "code",
   "execution_count": 17,
   "metadata": {},
   "outputs": [],
   "source": [
    "#C = 10; p = 2\n",
    "#w0 = np.random.rand(X_train.shape[1] * nLabels)\n",
    "#%lprun -f obj_pclassification check_grad(lambda w: obj_pclassification(w, X_train, Y_train, C, p)[0], \\\n",
    "#                                         lambda w: obj_pclassification(w, X_train, Y_train, C, p)[1], w0)"
   ]
  },
  {
   "cell_type": "markdown",
   "metadata": {},
   "source": [
    "Class definition."
   ]
  },
  {
   "cell_type": "code",
   "execution_count": 18,
   "metadata": {},
   "outputs": [],
   "source": [
    "class MLC_pclassification(BaseEstimator):\n",
    "    \"\"\"All methods are necessary for a scikit-learn estimator\"\"\"\n",
    "    \n",
    "    def __init__(self, C=1, p=1, weighting=True):\n",
    "        \"\"\"Initialisation\"\"\"\n",
    "        \n",
    "        assert C >  0\n",
    "        assert p >= 1\n",
    "        self.C = C\n",
    "        self.p = p\n",
    "        self.weighting = weighting\n",
    "        self.obj_func = obj_pclassification\n",
    "        self.trained = False\n",
    "        \n",
    "    def fit(self, X_train, Y_train):\n",
    "        \"\"\"Model fitting by optimising the objective\"\"\"\n",
    "        opt_method = 'L-BFGS-B' #'BFGS' #'Newton-CG'\n",
    "        options = {'disp': 1, 'maxiter': 10**5, 'maxfun': 10**5} # , 'iprint': 99}\n",
    "        sys.stdout.write('\\nC: %g, p: %g, weighting: %s\\n' % (self.C, self.p, self.weighting))\n",
    "        sys.stdout.flush()\n",
    "            \n",
    "        N, D = X_train.shape\n",
    "        K = Y_train.shape[1]\n",
    "        #w0 = np.random.rand(K * D) - 0.5  # initial guess in range [-1, 1]\n",
    "        w0 = 0.001 * np.random.randn(K * D)\n",
    "        opt = minimize(self.obj_func, w0, args=(X_train, Y_train, self.C, self.p, self.weighting), \\\n",
    "                       method=opt_method, jac=True, options=options)\n",
    "        if opt.success is True:\n",
    "            self.W = np.reshape(opt.x, (K, D))\n",
    "            self.trained = True\n",
    "        else:\n",
    "            sys.stderr.write('Optimisation failed')\n",
    "            print(opt.items())\n",
    "            self.trained = False\n",
    "            \n",
    "            \n",
    "    def decision_function(self, X_test):\n",
    "        \"\"\"Make predictions (score is real number)\"\"\"\n",
    "        \n",
    "        assert self.trained is True, \"Can't make prediction before training\"\n",
    "        D = X_test.shape[1]\n",
    "        return np.dot(X_test, self.W.T)  # log of prediction score\n",
    "        \n",
    "    \n",
    "    def predict(self, X_test):\n",
    "        return self.decision_function(X_test)\n",
    "    #    \"\"\"Make predictions (score is boolean)\"\"\"   \n",
    "    #    preds = sigmoid(self.decision_function(X_test))\n",
    "    #    #return (preds >= 0)\n",
    "    #    assert self.TH is not None\n",
    "    #    return preds >= self.TH        \n",
    "        \n",
    "    # inherit from BaseEstimator instead of re-implement\n",
    "    #\n",
    "    #def get_params(self, deep = True):\n",
    "    #def set_params(self, **params):"
   ]
  },
  {
   "cell_type": "code",
   "execution_count": 19,
   "metadata": {},
   "outputs": [],
   "source": [
    "def dump_results(predictor, X_train, Y_train, X_test, Y_test, rankingLoss=False):\n",
    "    \"\"\"\n",
    "        Compute and save performance results\n",
    "    \"\"\"\n",
    "    preds_train = predictor.decision_function(X_train)\n",
    "    preds_test  = predictor.decision_function(X_test)\n",
    "    \n",
    "    print('Training set:')\n",
    "    perf_dict_train = evaluatePrecision(Y_train, preds_train, verbose=1)\n",
    "    print()\n",
    "    print('Test set:')\n",
    "    perf_dict_test = evaluatePrecision(Y_test, preds_test, verbose=1)\n",
    "    \n",
    "    if rankingLoss is True:\n",
    "        print()\n",
    "        print('Training set:')\n",
    "        perf_dict_train.update(evaluateRankingLoss(Y_train, preds_train))\n",
    "        print(label_ranking_loss(Y_train, preds_train))\n",
    "        print()\n",
    "        print('Test set:')\n",
    "        perf_dict_test.update(evaluateRankingLoss(Y_test, preds_test))\n",
    "        print(label_ranking_loss(Y_test, preds_test))"
   ]
  },
  {
   "cell_type": "code",
   "execution_count": 20,
   "metadata": {},
   "outputs": [],
   "source": [
    "def avgF1(Y_true, Y_pred):\n",
    "    #THs = [0, 0.05, 0.10, 0.15, 0.2, 0.25, 0.30, 0.35, 0.4, 0.45, 0.5, 0.55, 0.60, 0.65, 0.70, 0.75]  # SPEN THs\n",
    "    THs = [0, 0.1, 0.2, 0.3, 0.4, 0.5, 0.6, 0.7, 0.8, 0.9]\n",
    "    F1 = Parallel(n_jobs=-1)(delayed(f1_score_nowarn)(Y_true, Y_pred >= th, average='samples') for th in THs)\n",
    "    bestix = np.argmax(F1)\n",
    "    print('best threshold: %g, best F1: %g, #examples: %g' % (THs[bestix], F1[bestix], Y_true.shape[0]))\n",
    "    return F1[bestix]"
   ]
  },
  {
   "cell_type": "code",
   "execution_count": 21,
   "metadata": {
    "scrolled": true
   },
   "outputs": [],
   "source": [
    "#C_set = [1e-3, 3e-3, 0.01, 0.03, 0.1, 0.3, 1, 3, 10, 30, 100, 300]\n",
    "#C_set = [0.01, 0.03, 0.1, 0.3, 1, 3, 10, 30, 100]\n",
    "C_set = [0.01, 0.1, 1, 10, 30, 60, 90, 120, 150]\n",
    "p_set = [1, 2, 3]\n",
    "parameters = [{'C': C_set, 'p': p_set, 'weighting': [True]}]\n",
    "#scorer = {'Prec': make_scorer(avgPrecisionK)}\n",
    "scorer = {'F1': make_scorer(avgF1)}"
   ]
  },
  {
   "cell_type": "code",
   "execution_count": 22,
   "metadata": {
    "scrolled": true
   },
   "outputs": [],
   "source": [
    "if not os.path.exists(fmodel_f1):\n",
    "    clf = GridSearchCV(MLC_pclassification(), parameters, scoring=scorer, cv=5, n_jobs=1, refit='F1')\n",
    "    clf.fit(X_train, Y_train)\n",
    "    pkl.dump(clf, open(fmodel_f1, 'wb'))\n",
    "else:\n",
    "    clf = pkl.load(open(fmodel_f1, 'rb'))"
   ]
  },
  {
   "cell_type": "code",
   "execution_count": 23,
   "metadata": {},
   "outputs": [
    {
     "data": {
      "text/plain": [
       "{'C': 30, 'p': 2, 'weighting': True}"
      ]
     },
     "execution_count": 23,
     "metadata": {},
     "output_type": "execute_result"
    }
   ],
   "source": [
    "clf.best_params_"
   ]
  },
  {
   "cell_type": "code",
   "execution_count": 24,
   "metadata": {},
   "outputs": [
    {
     "name": "stdout",
     "output_type": "stream",
     "text": [
      "best threshold: 0.9, best F1: 0.858309, #examples: 4880\n",
      "Train (bibtex): 0.858308691119\n"
     ]
    }
   ],
   "source": [
    "print('Train (' + dataset_name + '):', avgF1(Y_train, clf.decision_function(X_train)))"
   ]
  },
  {
   "cell_type": "code",
   "execution_count": 26,
   "metadata": {},
   "outputs": [
    {
     "name": "stdout",
     "output_type": "stream",
     "text": [
      "best threshold: 0.8, best F1: 0.464824, #examples: 2515\n",
      "Test (bibtex): 0.464823631195\n"
     ]
    }
   ],
   "source": [
    "print('Test (' + dataset_name + '):', avgF1(Y_test, clf.decision_function(X_test)))"
   ]
  },
  {
   "cell_type": "code",
   "execution_count": null,
   "metadata": {},
   "outputs": [],
   "source": [
    "# use the testing threshold of the best hyper-params in cross validation above\n",
    "# it is 0.8 for both bibtex and bookmarks dataset\n",
    "threshold = 0.8  \n",
    "print('average F1:', f1_score_nowarn(Y_test, clf.decision_function(X_test) >= threshold, average='samples'))"
   ]
  },
  {
   "cell_type": "code",
   "execution_count": null,
   "metadata": {},
   "outputs": [],
   "source": [
    "f1_score_nowarn(Y_train, clf.decision_function(X_train) > 0.9, average='samples')"
   ]
  },
  {
   "cell_type": "code",
   "execution_count": null,
   "metadata": {},
   "outputs": [],
   "source": [
    "np.mean(calcF1(Y_train, clf.decision_function(X_train) > 0.9))"
   ]
  },
  {
   "cell_type": "markdown",
   "metadata": {},
   "source": [
    "## Results"
   ]
  },
  {
   "cell_type": "code",
   "execution_count": null,
   "metadata": {},
   "outputs": [],
   "source": [
    "#ysum = Y_train.sum(axis=1)"
   ]
  },
  {
   "cell_type": "code",
   "execution_count": null,
   "metadata": {},
   "outputs": [],
   "source": [
    "#ax = plt.subplot('111')\n",
    "#ax.hist(ysum, bins=20)\n",
    "#ax.set_yscale('log')"
   ]
  },
  {
   "cell_type": "code",
   "execution_count": 27,
   "metadata": {},
   "outputs": [],
   "source": [
    "def calcF1(Y_true, Y_pred):\n",
    "    \"\"\"\n",
    "    Compute F1 scores for multilabel prediction, one score for each example.\n",
    "    precision = true_positive / n_true\n",
    "    recall = true_positive / n_positive\n",
    "    f1 = (2 * precision * recall) / (precision + recall) = 2 * true_positive / (n_true + n_positive)\n",
    "    \"\"\"\n",
    "    assert Y_true.shape == Y_pred.shape\n",
    "    N, K = Y_true.shape\n",
    "    OneK = np.ones(K)\n",
    "    \n",
    "    n_true = np.dot(Y_true, OneK)\n",
    "    n_positive = np.dot(Y_pred, OneK)\n",
    "    true_positive = np.dot(np.multiply(Y_true, Y_pred), OneK)\n",
    "    \n",
    "    numerator = 2 * true_positive\n",
    "    denominator = n_true + n_positive\n",
    "    nonzero_ix = np.nonzero(denominator)[0]\n",
    "    \n",
    "    f1 = np.zeros(N)\n",
    "    f1[nonzero_ix] = np.divide(numerator[nonzero_ix], denominator[nonzero_ix])\n",
    "    \n",
    "    return f1"
   ]
  },
  {
   "cell_type": "code",
   "execution_count": 28,
   "metadata": {},
   "outputs": [],
   "source": [
    "from util import plot_loss\n",
    "xlabel = 'P-Classification Loss'\n",
    "ylabel = '1 - F1'"
   ]
  },
  {
   "cell_type": "code",
   "execution_count": 29,
   "metadata": {},
   "outputs": [
    {
     "name": "stdout",
     "output_type": "stream",
     "text": [
      "away from diagonal portion: 1.0\n"
     ]
    },
    {
     "data": {
      "image/png": "[encoded data removed]",
      "text/plain": [
       "<matplotlib.figure.Figure at 0x7fb42039c6a0>"
      ]
     },
     "metadata": {},
     "output_type": "display_data"
    }
   ],
   "source": [
    "th_train = 0.9\n",
    "title = 'Train (' + dataset_name + ')'\n",
    "loss_train = loss_pclassification(W=clf.best_estimator_.W, X=X_train, Y=Y_train, p=clf.best_params_['p'])\n",
    "plot_loss(loss_train, 1-calcF1(Y_train, clf.decision_function(X_train) >= th_train), xlabel, ylabel, title)"
   ]
  },
  {
   "cell_type": "code",
   "execution_count": 30,
   "metadata": {},
   "outputs": [
    {
     "name": "stdout",
     "output_type": "stream",
     "text": [
      "away from diagonal portion: 1.0\n"
     ]
    },
    {
     "data": {
      "image/png": "[encoded data removed]",
      "text/plain": [
       "<matplotlib.figure.Figure at 0x7fb3eaeeb5f8>"
      ]
     },
     "metadata": {},
     "output_type": "display_data"
    }
   ],
   "source": [
    "th_test = 0.8\n",
    "title = 'Test (' + dataset_name + ')'\n",
    "loss_test = loss_pclassification(W=clf.best_estimator_.W, X=X_test, Y=Y_test, p=clf.best_params_['p'])\n",
    "plot_loss(loss_test, 1-calcF1(Y_test, clf.decision_function(X_test) >= th_test), xlabel, ylabel, title)"
   ]
  },
  {
   "cell_type": "code",
   "execution_count": null,
   "metadata": {},
   "outputs": [],
   "source": [
    "indices = pd.MultiIndex.from_product([['yeast', 'bibtex'], ['Logistic Regression', 'P-Classification'], \n",
    "                                      ['Train', 'Test']], names=['Dataset', 'Method', 'Split'])"
   ]
  },
  {
   "cell_type": "code",
   "execution_count": null,
   "metadata": {},
   "outputs": [],
   "source": [
    "result = pd.DataFrame(index=indices, columns=['F1', 'Precision@K', 'P-Classification Loss'])"
   ]
  },
  {
   "cell_type": "code",
   "execution_count": null,
   "metadata": {},
   "outputs": [],
   "source": [
    "#result = pkl.load(open('tmp.tmp', 'rb'))"
   ]
  },
  {
   "cell_type": "code",
   "execution_count": null,
   "metadata": {},
   "outputs": [],
   "source": [
    "result.loc[(dataset_name, 'P-Classification', 'Train'), 'F1'] = avgF1(Y_train, clf.decision_function(X_train))\n",
    "result.loc[(dataset_name, 'P-Classification', 'Test'), 'F1'] = avgF1(Y_test, clf.decision_function(X_test))\n",
    "\n",
    "result.loc[(dataset_name, 'P-Classification', 'Train'), 'Precision@K'] = avgPrecisionK(Y_train, \n",
    "                                                                                   clf.decision_function(X_train))\n",
    "result.loc[(dataset_name, 'P-Classification', 'Test'), 'Precision@K'] = avgPrecisionK(Y_test, \n",
    "                                                                                  clf.decision_function(X_test))\n",
    "\n",
    "result.loc[(dataset_name, 'P-Classification', 'Train'), 'P-Classification Loss'] = \\\n",
    "    np.mean(loss_pclassification(W=clf.best_estimator_.W, X=X_train, Y=Y_train, p=clf.best_params_['p']))\n",
    "result.loc[(dataset_name, 'P-Classification', 'Test'), 'P-Classification Loss'] = \\\n",
    "    np.mean(loss_pclassification(W=clf.best_estimator_.W, X=X_test, Y=Y_test, p=clf.best_params_['p']))"
   ]
  },
  {
   "cell_type": "code",
   "execution_count": null,
   "metadata": {},
   "outputs": [],
   "source": [
    "from BinaryRelevance import BinaryRelevance\n",
    "br_clf = pkl.load(open(os.path.join(data_dir, 'br-' + dataset_name + '-f1.pkl'), 'rb'))"
   ]
  },
  {
   "cell_type": "code",
   "execution_count": null,
   "metadata": {},
   "outputs": [],
   "source": [
    "br_clf.best_estimator_.estimator.coef_.shape"
   ]
  },
  {
   "cell_type": "code",
   "execution_count": null,
   "metadata": {},
   "outputs": [],
   "source": [
    "losses = loss_pclassification(W=br_clf.best_estimator_.estimator.coef_, X=X_train, Y=Y_train, p=2)\n",
    "#np.mean(losses[losses < 1000])\n",
    "#np.sum(losses > 1000)"
   ]
  },
  {
   "cell_type": "code",
   "execution_count": null,
   "metadata": {},
   "outputs": [],
   "source": [
    "losses.min()"
   ]
  },
  {
   "cell_type": "code",
   "execution_count": null,
   "metadata": {},
   "outputs": [],
   "source": [
    "print('%g' % losses.max())"
   ]
  },
  {
   "cell_type": "code",
   "execution_count": null,
   "metadata": {},
   "outputs": [],
   "source": [
    "45 / losses.shape[0]\n",
    "losses.shape"
   ]
  },
  {
   "cell_type": "code",
   "execution_count": null,
   "metadata": {},
   "outputs": [],
   "source": [
    "p = 2  # dataset specific from cross validation of P-Classification"
   ]
  },
  {
   "cell_type": "code",
   "execution_count": null,
   "metadata": {},
   "outputs": [],
   "source": [
    "result.loc[(dataset_name, 'Logistic Regression', 'Train'), 'F1'] = \\\n",
    "    f1_score_nowarn(Y_train, br_clf.decision_function(X_train) >= 0, average='samples')\n",
    "result.loc[(dataset_name, 'Logistic Regression', 'Test'), 'F1'] = \\\n",
    "    f1_score_nowarn(Y_test, br_clf.decision_function(X_test) >= 0, average='samples')\n",
    "\n",
    "result.loc[(dataset_name, 'Logistic Regression', 'Train'), 'Precision@K'] = \\\n",
    "    avgPrecisionK(Y_train, br_clf.decision_function(X_train))\n",
    "result.loc[(dataset_name, 'Logistic Regression', 'Test'), 'Precision@K'] = \\\n",
    "    avgPrecisionK(Y_test, br_clf.decision_function(X_test))\n",
    "\n",
    "result.loc[(dataset_name, 'Logistic Regression', 'Train'), 'P-Classification Loss'] = \\\n",
    "    np.mean(loss_pclassification(W=br_clf.best_estimator_.estimator.coef_, X=X_train, Y=Y_train, p=p))\n",
    "result.loc[(dataset_name, 'Logistic Regression', 'Test'), 'P-Classification Loss'] = \\\n",
    "    np.mean(loss_pclassification(W=br_clf.best_estimator_.estimator.coef_, X=X_test, Y=Y_test, p=p))"
   ]
  },
  {
   "cell_type": "code",
   "execution_count": null,
   "metadata": {},
   "outputs": [],
   "source": [
    "pkl.dump(result, open('tmp.tmp', 'wb'))"
   ]
  },
  {
   "cell_type": "code",
   "execution_count": null,
   "metadata": {},
   "outputs": [],
   "source": [
    "rstr = result.to_latex(float_format=lambda x: '$%.4f$' % x, na_rep='-', multirow=True, escape=False)\n",
    "print('\\\\begin{table}[!h]')\n",
    "print('\\centering')\n",
    "#print('\\\\caption{Performance on test set}')\n",
    "print('\\\\label{tab:perf}')    \n",
    "print(rstr)\n",
    "print('\\\\end{table}')"
   ]
  }
 ],
 "metadata": {
  "kernelspec": {
   "display_name": "Python 3",
   "language": "python",
   "name": "python3"
  },
  "language_info": {
   "codemirror_mode": {
    "name": "ipython",
    "version": 3
   },
   "file_extension": ".py",
   "mimetype": "text/x-python",
   "name": "python",
   "nbconvert_exporter": "python",
   "pygments_lexer": "ipython3",
   "version": "3.6.3"
  }
 },
 "nbformat": 4,
 "nbformat_minor": 2
}
