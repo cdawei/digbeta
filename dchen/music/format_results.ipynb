{
 "cells": [
  {
   "cell_type": "code",
   "execution_count": null,
   "metadata": {},
   "outputs": [],
   "source": [
    "%matplotlib inline\n",
    "import os\n",
    "import sys\n",
    "import numpy as np\n",
    "import pickle as pkl\n",
    "import pandas as pd\n",
    "import matplotlib.pyplot as plt"
   ]
  },
  {
   "cell_type": "code",
   "execution_count": null,
   "metadata": {},
   "outputs": [],
   "source": [
    "from models import MTC"
   ]
  },
  {
   "cell_type": "code",
   "execution_count": null,
   "metadata": {},
   "outputs": [],
   "source": [
    "datasets = ['aotm2011', '30music']\n",
    "metrics = ['R-Precision', 'Hit-Rate']\n",
    "TOPs = [5, 10, 20, 30, 50, 100, 200, 300, 500, 1000]"
   ]
  },
  {
   "cell_type": "code",
   "execution_count": null,
   "metadata": {},
   "outputs": [],
   "source": [
    "dix = 1\n",
    "task = 2\n",
    "dataset_name = datasets[dix]\n",
    "data_dir = 'data/%s/setting%d' % (dataset_name, task)"
   ]
  },
  {
   "cell_type": "code",
   "execution_count": null,
   "metadata": {},
   "outputs": [],
   "source": [
    "algo_names = ['Logistic Regression', 'Popularity Rank', 'Multitask Classification']\n",
    "algos = ['br2', 'pop', 'pla']"
   ]
  },
  {
   "cell_type": "code",
   "execution_count": null,
   "metadata": {},
   "outputs": [],
   "source": [
    "#col_indices = pd.MultiIndex.from_product([algo_names, ['K=%d' % k for k in range(1,5)]])\n",
    "rows = ['K=%d' % k for k in range(1,5)]"
   ]
  },
  {
   "cell_type": "code",
   "execution_count": null,
   "metadata": {},
   "outputs": [],
   "source": [
    "df = pd.DataFrame(index=rows, columns=algo_names)"
   ]
  },
  {
   "cell_type": "code",
   "execution_count": null,
   "metadata": {},
   "outputs": [],
   "source": [
    "metric = metrics[0]"
   ]
  },
  {
   "cell_type": "code",
   "execution_count": null,
   "metadata": {},
   "outputs": [],
   "source": [
    "for j in range(len(algos)):\n",
    "    algo_name = algo_names[j]\n",
    "    algo = algos[j]\n",
    "    for k in range(1,5):\n",
    "        fperf = os.path.join(data_dir, 'perf-%s-%d.pkl' % (algo, k))\n",
    "        if not os.path.exists(fperf):\n",
    "            continue\n",
    "        perf_dict = pkl.load(open(fperf, 'rb'))\n",
    "        #print(perf_dict)\n",
    "        df.loc['K=%d' % k, algo_name] = perf_dict[dataset_name]['Test'][metric] * 1000"
   ]
  },
  {
   "cell_type": "code",
   "execution_count": null,
   "metadata": {},
   "outputs": [],
   "source": [
    "df"
   ]
  },
  {
   "cell_type": "code",
   "execution_count": null,
   "metadata": {},
   "outputs": [],
   "source": [
    "tab_str = df.to_latex(float_format=lambda x: '$%.1f$' % x, na_rep='N/A', \\\n",
    "                      column_format='l|*{%d}{c}' % len(algos), escape=False)\n",
    "                      #multicolumn=True, multicolumn_format='c', escape=False)"
   ]
  },
  {
   "cell_type": "code",
   "execution_count": null,
   "metadata": {},
   "outputs": [],
   "source": [
    "print('\\\\begin{table}[!h]')\n",
    "print('\\centering')\n",
    "print('\\\\caption{R-Precision $\\\\times 10^3$ (%s)}' % dataset_name)\n",
    "print('\\\\label{tab:hitrate_pla_30music}')    \n",
    "print(tab_str)\n",
    "print('\\\\end{table}')"
   ]
  },
  {
   "cell_type": "code",
   "execution_count": null,
   "metadata": {},
   "outputs": [],
   "source": [
    "metric = metrics[1]"
   ]
  },
  {
   "cell_type": "code",
   "execution_count": null,
   "metadata": {},
   "outputs": [],
   "source": [
    "nrows, ncols = 2, 2\n",
    "colors = ['r', 'g', 'b']\n",
    "fig = plt.figure(figsize=[20, 10])\n",
    "for k in range(1,5):\n",
    "    fperfs = [os.path.join(data_dir, 'perf-%s-%d.pkl' % (algo, k)) for algo in algos]\n",
    "    perf_dicts = [pkl.load(open(fperf, 'rb')) for fperf in fperfs]\n",
    "    for j in range(len(perf_dicts)):\n",
    "        x = TOPs\n",
    "        y = [perf_dicts[j][dataset_name]['Test'][metric][k] for k in TOPs]\n",
    "        plt.subplot(nrows, ncols, k)\n",
    "        plt.plot(x, y, ls='-', c=colors[j], label=algo_names[j])\n",
    "        plt.title('K=%d' % k)\n",
    "    plt.legend(loc='best')\n",
    "    if k > 2:\n",
    "        plt.xlabel('Number of recommendations')\n",
    "    if k % 2 == 1:\n",
    "        plt.ylabel('Hit rate')\n",
    "#plt.suptitle('Hit rates of playlist augmentation (%s)' % dataset_name, fontsize=12)\n",
    "plt.savefig('%s-%d.svg' % (dataset_name, task))"
   ]
  }
 ],
 "metadata": {
  "kernelspec": {
   "display_name": "Python 3",
   "language": "python",
   "name": "python3"
  },
  "language_info": {
   "codemirror_mode": {
    "name": "ipython",
    "version": 3
   },
   "file_extension": ".py",
   "mimetype": "text/x-python",
   "name": "python",
   "nbconvert_exporter": "python",
   "pygments_lexer": "ipython3",
   "version": "3.6.5"
  }
 },
 "nbformat": 4,
 "nbformat_minor": 2
}
