{
 "cells": [
  {
   "cell_type": "markdown",
   "metadata": {},
   "source": [
    "# Formating experimental results"
   ]
  },
  {
   "cell_type": "code",
   "execution_count": null,
   "metadata": {},
   "outputs": [],
   "source": [
    "%matplotlib inline\n",
    "import os\n",
    "import sys\n",
    "import numpy as np\n",
    "import pickle as pkl\n",
    "import pandas as pd\n",
    "import matplotlib.pyplot as plt\n",
    "import seaborn as sns"
   ]
  },
  {
   "cell_type": "code",
   "execution_count": null,
   "metadata": {},
   "outputs": [],
   "source": [
    "plt.style.use('seaborn')"
   ]
  },
  {
   "cell_type": "code",
   "execution_count": null,
   "metadata": {},
   "outputs": [],
   "source": [
    "datasets = [('aotm2011', 'AotM-2011'), ('30music', '30Music')]\n",
    "metrics = ['R-Precision', 'AUC', 'Hit-Rate']\n",
    "TOPs = [5, 10, 20, 30, 50, 100, 200, 300, 500, 1000]"
   ]
  },
  {
   "cell_type": "code",
   "execution_count": null,
   "metadata": {},
   "outputs": [],
   "source": [
    "task = 3\n",
    "task = 4\n",
    "base_dir = 'setting%d' % task"
   ]
  },
  {
   "cell_type": "markdown",
   "metadata": {},
   "source": [
    "## Playlist generation"
   ]
  },
  {
   "cell_type": "code",
   "execution_count": null,
   "metadata": {},
   "outputs": [],
   "source": [
    "algos = [('pop', 'Popularity Rank'), \n",
    "         ('sagh', 'SAGH' if task == 3 else 'Top10 SAGH'), \n",
    "         ('cagh', 'CAGH' if task == 3 else 'Top10 CAGH'), \n",
    "         ('mtc', 'Multitask Classification'), ('mtr', 'Multitask Ranking')]"
   ]
  },
  {
   "cell_type": "markdown",
   "metadata": {},
   "source": [
    "### Performance table"
   ]
  },
  {
   "cell_type": "code",
   "execution_count": null,
   "metadata": {},
   "outputs": [],
   "source": [
    "mix = 0\n",
    "metric = metrics[mix]"
   ]
  },
  {
   "cell_type": "code",
   "execution_count": null,
   "metadata": {},
   "outputs": [],
   "source": [
    "rows = [[a[1] for a in algos]]\n",
    "#cols = pd.MultiIndex.from_product([[d[1] for d in datasets], ['K=%d' % k for k in range(1,5)]])\n",
    "cols = [d[1] for d in datasets]"
   ]
  },
  {
   "cell_type": "code",
   "execution_count": null,
   "metadata": {},
   "outputs": [],
   "source": [
    "df = pd.DataFrame(index=rows, columns=cols)"
   ]
  },
  {
   "cell_type": "code",
   "execution_count": null,
   "metadata": {},
   "outputs": [],
   "source": [
    "for algo in algos:\n",
    "    row_ix = algo[1]\n",
    "    for dataset in datasets:\n",
    "            data_dir = 'data/%s/%s' % (dataset[0], base_dir)\n",
    "            fperf = os.path.join(data_dir, 'perf-%s.pkl' % algo[0])\n",
    "            if not os.path.exists(fperf):\n",
    "                continue\n",
    "            perf_dict = pkl.load(open(fperf, 'rb'))\n",
    "            #print(perf_dict)\n",
    "            col_ix = dataset[1]\n",
    "            df.loc[row_ix, col_ix] = perf_dict[dataset[0]]['Test'][metric] * 100"
   ]
  },
  {
   "cell_type": "code",
   "execution_count": null,
   "metadata": {},
   "outputs": [],
   "source": [
    "df"
   ]
  },
  {
   "cell_type": "code",
   "execution_count": null,
   "metadata": {},
   "outputs": [],
   "source": [
    "tab_str = df.to_latex(float_format=lambda x: '$%.1f$' % x, na_rep='N/A', \\\n",
    "                      column_format='l' + '*{%d}{c}' % 4 * len(datasets), escape=False)\n",
    "                      #multirow=True, multicolumn=True, multicolumn_format='c')"
   ]
  },
  {
   "cell_type": "code",
   "execution_count": null,
   "metadata": {},
   "outputs": [],
   "source": [
    "caption = 'Performance (given %s user) in terms of %s ($\\\\times 10^2$)' % \\\n",
    "          ('unknown' if task == 3 else 'new', metric)\n",
    "print('\\\\begin{table}[!h]')\n",
    "print('\\centering')\n",
    "print('\\\\caption{%s}' % caption)\n",
    "print('\\\\label{tab:perf_%s_%s}' % ('plgen%d' % (task-2), metric.lower()))\n",
    "#print('\\\\resizebox{\\\\linewidth}{!}{')\n",
    "#print('\\\\resizebox{\\\\columnwidth}{!}{')\n",
    "print(tab_str)\n",
    "#print('}')\n",
    "print('\\\\end{table}')"
   ]
  },
  {
   "cell_type": "markdown",
   "metadata": {},
   "source": [
    "### Hit Rate curve"
   ]
  },
  {
   "cell_type": "code",
   "execution_count": null,
   "metadata": {},
   "outputs": [],
   "source": [
    "#metric = 'Hit-Rate'\n",
    "metric = metrics[2]"
   ]
  },
  {
   "cell_type": "code",
   "execution_count": null,
   "metadata": {},
   "outputs": [],
   "source": [
    "nrows, ncols = 1, 2\n",
    "colors = ['r', 'g', 'b', 'm', 'c', 'y']\n",
    "#linestyles = ['-', '--', ':', '-.', '-', '--']\n",
    "linestyles = ['-', '-', '-', '-', '-', '-']\n",
    "fig = plt.figure(figsize=[10, 5])\n",
    "for i in range(len(datasets)):\n",
    "    dataset = datasets[i]\n",
    "    data_dir = 'data/%s/%s' % (dataset[0], base_dir)\n",
    "    fperfs = [os.path.join(data_dir, 'perf-%s.pkl' % algo) for algo, _ in algos]\n",
    "    perf_dicts = [pkl.load(open(fperf, 'rb')) if os.path.exists(fperf) else None for fperf in fperfs]\n",
    "    \n",
    "    ax = plt.subplot(nrows, ncols, i+1)\n",
    "    for j in range(len(perf_dicts)):\n",
    "        if perf_dicts[j] is None:\n",
    "            continue\n",
    "        #print(perf_dicts[j])\n",
    "        x = TOPs\n",
    "        y = [perf_dicts[j][dataset[0]]['Test'][metric][k] for k in TOPs]\n",
    "        ax.plot(x, y, ls=linestyles[j], c=colors[j], label=algos[j][1])\n",
    "        ax.set_xscale('log')\n",
    "        ax.set_title(dataset[1])\n",
    "    ax.legend(loc='best')\n",
    "    ax.set_xlabel('Number of recommendations')\n",
    "    if i == 0:\n",
    "        ax.set_ylabel('Hit rate')\n",
    "#plt.suptitle('Hit rates of playlist augmentation (%s)' % dataset_name, fontsize=12)\n",
    "plt.savefig('hitrate-plgen%d.svg' % (task-2))"
   ]
  },
  {
   "cell_type": "markdown",
   "metadata": {},
   "source": [
    "## New song recommendation"
   ]
  },
  {
   "cell_type": "code",
   "execution_count": null,
   "metadata": {},
   "outputs": [],
   "source": [
    "algo_names = ['Logistic Regression', 'PopTest Rank', 'LR Popularity', 'Shortest First', 'Longest First',\n",
    "              'Multitask Classification']\n",
    "algos = ['br1', 'poptest', 'lrpop', 'shortest', 'longest', 'nsr']"
   ]
  },
  {
   "cell_type": "markdown",
   "metadata": {},
   "source": [
    "### Performance table"
   ]
  },
  {
   "cell_type": "code",
   "execution_count": null,
   "metadata": {},
   "outputs": [],
   "source": [
    "rows = pd.MultiIndex.from_product([datasets, algo_names])\n",
    "cols = metrics"
   ]
  },
  {
   "cell_type": "code",
   "execution_count": null,
   "metadata": {},
   "outputs": [],
   "source": [
    "df = pd.DataFrame(index=rows, columns=cols)"
   ]
  },
  {
   "cell_type": "code",
   "execution_count": null,
   "metadata": {},
   "outputs": [],
   "source": [
    "for dataset_name in datasets:\n",
    "    for i in range(len(algos)):\n",
    "        algo_name = algo_names[i]\n",
    "        algo = algos[i]\n",
    "        fperf = os.path.join('data/%s/setting1/perf-%s.pkl' % (dataset_name, algo))\n",
    "        if not os.path.exists(fperf):\n",
    "            continue\n",
    "        perf_dict = pkl.load(open(fperf, 'rb'))\n",
    "        #print(perf_dict)\n",
    "        for metric in metrics:\n",
    "            df.loc[(dataset_name, algo_name), metric] = perf_dict[dataset_name]['Test'][metric] * 100"
   ]
  },
  {
   "cell_type": "code",
   "execution_count": null,
   "metadata": {},
   "outputs": [],
   "source": [
    "df"
   ]
  },
  {
   "cell_type": "code",
   "execution_count": null,
   "metadata": {},
   "outputs": [],
   "source": [
    "tab_str = df.to_latex(float_format=lambda x: '$%.2f$' % x, na_rep='N/A', \\\n",
    "                      column_format='ll|' + '*{%d}{c}' % len(metrics), \\\n",
    "                      multirow=True, multicolumn=True, multicolumn_format='c', escape=False)"
   ]
  },
  {
   "cell_type": "code",
   "execution_count": null,
   "metadata": {},
   "outputs": [],
   "source": [
    "print('\\\\begin{table}[!h]')\n",
    "print('\\centering')\n",
    "print('\\\\caption{Performance of new song recommendation $\\\\times 10^2$}')\n",
    "print('\\\\label{tab:perf_nsr}')\n",
    "print('\\\\resizebox{\\\\columnwidth}{!}{')\n",
    "print(tab_str)\n",
    "print('}')\n",
    "print('\\\\end{table}')"
   ]
  },
  {
   "cell_type": "markdown",
   "metadata": {},
   "source": [
    "### Hit Rate curve"
   ]
  },
  {
   "cell_type": "code",
   "execution_count": null,
   "metadata": {},
   "outputs": [],
   "source": [
    "metric = 'Hit-Rate'"
   ]
  },
  {
   "cell_type": "code",
   "execution_count": null,
   "metadata": {},
   "outputs": [],
   "source": [
    "nrows, ncols = 1, 4\n",
    "colors = ['r', 'g', 'b', 'm', 'c']\n",
    "fig = plt.figure(figsize=[20, 3])\n",
    "for k in range(1,5):\n",
    "    fperfs = [os.path.join(data_dir, 'perf-%s-%d.pkl' % (algo, k)) for algo in algos]\n",
    "    perf_dicts = [pkl.load(open(fperf, 'rb')) if os.path.exists(fperf) else None for fperf in fperfs]\n",
    "    for j in range(len(perf_dicts)):\n",
    "        if perf_dicts[j] is None:\n",
    "            continue\n",
    "        x = TOPs\n",
    "        y = [perf_dicts[j][dataset_name]['Test'][metric][k] for k in TOPs]\n",
    "        ax = plt.subplot(nrows, ncols, k)\n",
    "        ax.plot(x, y, ls='-', c=colors[j], label=algo_names[j])\n",
    "        ax.set_xscale('log')\n",
    "        ax.set_title('K=%d' % k)\n",
    "    plt.legend(loc='best')\n",
    "    plt.xlabel('Number of recommendations')\n",
    "    if k == 1:\n",
    "        plt.ylabel('Hit rate')\n",
    "#plt.suptitle('Hit rates of playlist augmentation (%s)' % dataset_name, fontsize=12)\n",
    "plt.savefig('%s-%d.svg' % (dataset_name, task))"
   ]
  }
 ],
 "metadata": {
  "kernelspec": {
   "display_name": "Python 3",
   "language": "python",
   "name": "python3"
  },
  "language_info": {
   "codemirror_mode": {
    "name": "ipython",
    "version": 3
   },
   "file_extension": ".py",
   "mimetype": "text/x-python",
   "name": "python",
   "nbconvert_exporter": "python",
   "pygments_lexer": "ipython3",
   "version": "3.6.5"
  }
 },
 "nbformat": 4,
 "nbformat_minor": 2
}
