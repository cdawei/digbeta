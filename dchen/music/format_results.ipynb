{
 "cells": [
  {
   "cell_type": "code",
   "execution_count": null,
   "metadata": {
    "collapsed": true
   },
   "outputs": [],
   "source": [
    "import numpy as np\n",
    "import os\n",
    "import sys\n",
    "import pickle as pkl\n",
    "import pandas as pd"
   ]
  },
  {
   "cell_type": "code",
   "execution_count": null,
   "metadata": {
    "collapsed": true
   },
   "outputs": [],
   "source": [
    "sys.path.append('src')\n",
    "from datasets import dataset_names"
   ]
  },
  {
   "cell_type": "code",
   "execution_count": null,
   "metadata": {},
   "outputs": [],
   "source": [
    "datasets = dataset_names\n",
    "print(datasets)"
   ]
  },
  {
   "cell_type": "code",
   "execution_count": null,
   "metadata": {
    "collapsed": true
   },
   "outputs": [],
   "source": [
    "data_dir = 'data'"
   ]
  },
  {
   "cell_type": "code",
   "execution_count": null,
   "metadata": {
    "collapsed": true
   },
   "outputs": [],
   "source": [
    "algo_names = ['LR', 'LR-CV', 'TP-MLC']"
   ]
  },
  {
   "cell_type": "code",
   "execution_count": null,
   "metadata": {
    "collapsed": true
   },
   "outputs": [],
   "source": [
    "metrics = ['Precision@3', 'Precision@5', 'Precision@K', 'F1']"
   ]
  },
  {
   "cell_type": "code",
   "execution_count": null,
   "metadata": {
    "collapsed": true
   },
   "outputs": [],
   "source": [
    "indices = pd.MultiIndex.from_product([dataset_names, algo_names], names=['Dataset', 'Method'])"
   ]
  },
  {
   "cell_type": "code",
   "execution_count": null,
   "metadata": {
    "collapsed": true
   },
   "outputs": [],
   "source": [
    "#df_train = pd.DataFrame(index=indices, columns=metrics)\n",
    "df_test  = pd.DataFrame(index=indices, columns=metrics)"
   ]
  },
  {
   "cell_type": "code",
   "execution_count": null,
   "metadata": {
    "collapsed": true
   },
   "outputs": [],
   "source": [
    "fprec_tp = os.path.join(data_dir, 'perf-tp.pkl')\n",
    "fprec_lr0 = os.path.join(data_dir, 'perf-lr-base.pkl')\n",
    "fprec_lr1 = os.path.join(data_dir, 'perf-lr-prec.pkl')\n",
    "records_tp = pkl.load(open(fprec_tp, 'rb'))\n",
    "records_lr0 = pkl.load(open(fprec_lr0, 'rb'))\n",
    "records_lr1 = pkl.load(open(fprec_lr1, 'rb'))"
   ]
  },
  {
   "cell_type": "code",
   "execution_count": null,
   "metadata": {
    "collapsed": true
   },
   "outputs": [],
   "source": [
    "#records_lr1"
   ]
  },
  {
   "cell_type": "code",
   "execution_count": null,
   "metadata": {
    "collapsed": true
   },
   "outputs": [],
   "source": [
    "for metric in metrics:\n",
    "    #df_train.loc[(ds, 'TP-MLC'), metric] = records[ds]['Train'][metric][0]\n",
    "    if metric == 'F1':\n",
    "        for ds in datasets:\n",
    "            if ds in records_tp:\n",
    "                value = ', '.join(['%.4f' % v[0] for v in records_tp[ds]['Test' ][metric]])\n",
    "                df_test.loc[(ds, 'TP-MLC'), metric] = value\n",
    "            if ds in records_lr0:\n",
    "                df_test.loc[(ds, 'LR'), metric] = records_lr0[ds]['Test' ][metric][0]\n",
    "            if ds in records_lr1:\n",
    "                df_test.loc[(ds, 'LR-CV'), metric] = records_lr1[ds]['Test' ][metric][0]\n",
    "    else:\n",
    "        for ds in datasets:\n",
    "            if ds in records_tp:\n",
    "                df_test.loc[(ds, 'TP-MLC'), metric] = records_tp[ds]['Test' ][metric][0]\n",
    "            if ds in records_lr0:\n",
    "                df_test.loc[(ds, 'LR'), metric] = records_lr0[ds]['Test' ][metric][0]\n",
    "            if ds in records_lr1:\n",
    "                df_test.loc[(ds, 'LR-CV'), metric] = records_lr1[ds]['Test' ][metric][0]"
   ]
  },
  {
   "cell_type": "code",
   "execution_count": null,
   "metadata": {
    "collapsed": true
   },
   "outputs": [],
   "source": [
    "tab_test = df_test.to_latex(float_format=lambda x: '%.4f' % x, na_rep='-', multirow=True)"
   ]
  },
  {
   "cell_type": "code",
   "execution_count": null,
   "metadata": {},
   "outputs": [],
   "source": [
    "print('\\\\begin{table}[!h]')\n",
    "print('\\centering')\n",
    "print('\\\\caption{Performance on test set}')\n",
    "print('\\\\label{tab:perf}')    \n",
    "print(tab_test)\n",
    "print('\\\\end{table}')"
   ]
  },
  {
   "cell_type": "code",
   "execution_count": null,
   "metadata": {
    "collapsed": true
   },
   "outputs": [],
   "source": [
    "metrics_f1 = "
   ]
  },
  {
   "cell_type": "code",
   "execution_count": null,
   "metadata": {
    "collapsed": true
   },
   "outputs": [],
   "source": [
    "datasets = ['yeast', 'scene', 'bibtex', 'bookmarks']"
   ]
  },
  {
   "cell_type": "code",
   "execution_count": null,
   "metadata": {
    "collapsed": true
   },
   "outputs": [],
   "source": [
    "#split = 'Train'\n",
    "split = 'Test'"
   ]
  },
  {
   "cell_type": "code",
   "execution_count": null,
   "metadata": {
    "collapsed": true
   },
   "outputs": [],
   "source": [
    "# load perf records\n",
    "perf_files = [os.path.join(data_dir, 'perf-' + algo + '.pkl') for algo in algos]\n",
    "perf_dicts = [pkl.load(open(fname, 'rb')) for fname in perf_files]\n",
    "\n",
    "def perfstr(perftuple):\n",
    "    return '$%.4f \\\\pm  %.3f$' % (perftuple[0], perftuple[1])\n",
    "\n",
    "for metric in metrics:\n",
    "    tabstr = []\n",
    "    tabstr.append('\\\\begin{table}[!h]')\n",
    "    tabstr.append('\\centering')\n",
    "    tabstr.append('\\\\caption{Performance in terms of average %s (%s)}' % (metric, split))\n",
    "    tabstr.append('\\\\begin{tabular}{lcccc} \\\\\\\\ \\\\hline \\\\hline')\n",
    "    tabstr.append(' & ' + ' & '.join([ds for ds in datasets]) + ' \\\\\\\\')\n",
    "    for j in range(len(algos)):\n",
    "        tabstr.append(algo_names[j] + ' & '\n",
    "                      + ' & '.join([perfstr(perf_dicts[j][ds][split][metric]) \\\n",
    "                                    if ds in perf_dicts[j] else '-' for ds in datasets ])\n",
    "                      + ' \\\\\\\\')\n",
    "    tabstr.append('\\\\hline')\n",
    "    tabstr.append('\\\\end{tabular}')\n",
    "    tabstr.append('\\\\end{table}')\n",
    "    print('\\n'.join(tabstr))\n",
    "    print()"
   ]
  }
 ],
 "metadata": {
  "kernelspec": {
   "display_name": "Python 3",
   "language": "python",
   "name": "python3"
  },
  "language_info": {
   "codemirror_mode": {
    "name": "ipython",
    "version": 3
   },
   "file_extension": ".py",
   "mimetype": "text/x-python",
   "name": "python",
   "nbconvert_exporter": "python",
   "pygments_lexer": "ipython3",
   "version": "3.6.3"
  }
 },
 "nbformat": 4,
 "nbformat_minor": 2
}
