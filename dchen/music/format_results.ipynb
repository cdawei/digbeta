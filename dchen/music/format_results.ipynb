{
 "cells": [
  {
   "cell_type": "markdown",
   "metadata": {},
   "source": [
    "# Formating experimental results"
   ]
  },
  {
   "cell_type": "code",
   "execution_count": 1,
   "metadata": {},
   "outputs": [],
   "source": [
    "%matplotlib inline\n",
    "import os\n",
    "import sys\n",
    "import numpy as np\n",
    "import pickle as pkl\n",
    "import pandas as pd\n",
    "import matplotlib.pyplot as plt"
   ]
  },
  {
   "cell_type": "code",
   "execution_count": 2,
   "metadata": {},
   "outputs": [],
   "source": [
    "from models import MTC"
   ]
  },
  {
   "cell_type": "code",
   "execution_count": 3,
   "metadata": {},
   "outputs": [],
   "source": [
    "datasets = ['aotm2011', '30music']\n",
    "metrics = ['R-Precision', 'AUC', 'NDCG']\n",
    "TOPs = [5, 10, 20, 30, 50, 100, 200, 300, 500, 1000]"
   ]
  },
  {
   "cell_type": "markdown",
   "metadata": {},
   "source": [
    "## Playlist augmentation"
   ]
  },
  {
   "cell_type": "code",
   "execution_count": 4,
   "metadata": {},
   "outputs": [],
   "source": [
    "dix = 1\n",
    "task = 2\n",
    "dataset_name = datasets[dix]\n",
    "data_dir = 'data/%s/setting%d' % (dataset_name, task)"
   ]
  },
  {
   "cell_type": "code",
   "execution_count": null,
   "metadata": {},
   "outputs": [],
   "source": [
    "algo_names = ['Logistic Regression', 'Popularity Rank', 'Multitask Classification', 'SAGH', 'CAGH']\n",
    "algos = ['br2', 'pop', 'pla', 'sagh', 'cagh']"
   ]
  },
  {
   "cell_type": "markdown",
   "metadata": {},
   "source": [
    "### Performance table"
   ]
  },
  {
   "cell_type": "code",
   "execution_count": null,
   "metadata": {},
   "outputs": [],
   "source": [
    "#col_indices = pd.MultiIndex.from_product([algo_names, ['K=%d' % k for k in range(1,5)]])\n",
    "rows = ['K=%d' % k for k in range(1,5)]\n",
    "cols = pd.MultiIndex.from_product([algo_names, metrics])"
   ]
  },
  {
   "cell_type": "code",
   "execution_count": null,
   "metadata": {},
   "outputs": [],
   "source": [
    "df = pd.DataFrame(index=rows, columns=cols)"
   ]
  },
  {
   "cell_type": "code",
   "execution_count": null,
   "metadata": {},
   "outputs": [],
   "source": [
    "for j in range(len(algos)):\n",
    "    algo_name = algo_names[j]\n",
    "    algo = algos[j]\n",
    "    for k in range(1,5):\n",
    "        fperf = os.path.join(data_dir, 'perf-%s-%d.pkl' % (algo, k))\n",
    "        if not os.path.exists(fperf):\n",
    "            continue\n",
    "        perf_dict = pkl.load(open(fperf, 'rb'))\n",
    "        #print(perf_dict)\n",
    "        for metric in metrics:\n",
    "            df.loc['K=%d' % k, (algo_name, metric)] = perf_dict[dataset_name]['Test'][metric] * 100"
   ]
  },
  {
   "cell_type": "code",
   "execution_count": null,
   "metadata": {},
   "outputs": [],
   "source": [
    "df"
   ]
  },
  {
   "cell_type": "code",
   "execution_count": null,
   "metadata": {},
   "outputs": [],
   "source": [
    "tab_str = df.to_latex(float_format=lambda x: '$%.1f$' % x, na_rep='N/A', \\\n",
    "                      column_format='l|' + '*{%d}{c}|' % len(metrics) * len(algos), \\\n",
    "                      multicolumn=True, multicolumn_format='c', escape=False)"
   ]
  },
  {
   "cell_type": "code",
   "execution_count": null,
   "metadata": {},
   "outputs": [],
   "source": [
    "print('\\\\begin{table*}[!h]')\n",
    "print('\\centering')\n",
    "print('\\\\caption{Performance $\\\\times 10^2$ (%s)}' % dataset_name)\n",
    "print('\\\\label{tab:perf_pla_%s}' % dataset_name)\n",
    "print('\\\\resizebox{\\\\linewidth}{!}{')\n",
    "print(tab_str)\n",
    "print('}')\n",
    "print('\\\\end{table*}')"
   ]
  },
  {
   "cell_type": "markdown",
   "metadata": {},
   "source": [
    "### Hit Rate curve"
   ]
  },
  {
   "cell_type": "code",
   "execution_count": null,
   "metadata": {},
   "outputs": [],
   "source": [
    "metric = 'Hit-Rate'"
   ]
  },
  {
   "cell_type": "code",
   "execution_count": null,
   "metadata": {},
   "outputs": [],
   "source": [
    "nrows, ncols = 1, 4\n",
    "colors = ['r', 'g', 'b', 'm', 'c']\n",
    "fig = plt.figure(figsize=[20, 3])\n",
    "for k in range(1,5):\n",
    "    fperfs = [os.path.join(data_dir, 'perf-%s-%d.pkl' % (algo, k)) for algo in algos]\n",
    "    perf_dicts = [pkl.load(open(fperf, 'rb')) if os.path.exists(fperf) else None for fperf in fperfs]\n",
    "    for j in range(len(perf_dicts)):\n",
    "        if perf_dicts[j] is None:\n",
    "            continue\n",
    "        x = TOPs\n",
    "        y = [perf_dicts[j][dataset_name]['Test'][metric][k] for k in TOPs]\n",
    "        ax = plt.subplot(nrows, ncols, k)\n",
    "        ax.plot(x, y, ls='-', c=colors[j], label=algo_names[j])\n",
    "        ax.set_xscale('log')\n",
    "        ax.set_title('K=%d' % k)\n",
    "    plt.legend(loc='best')\n",
    "    plt.xlabel('Number of recommendations')\n",
    "    if k == 1:\n",
    "        plt.ylabel('Hit rate')\n",
    "#plt.suptitle('Hit rates of playlist augmentation (%s)' % dataset_name, fontsize=12)\n",
    "plt.savefig('%s-%d.svg' % (dataset_name, task))"
   ]
  },
  {
   "cell_type": "markdown",
   "metadata": {},
   "source": [
    "## New song recommendation"
   ]
  },
  {
   "cell_type": "code",
   "execution_count": 15,
   "metadata": {},
   "outputs": [],
   "source": [
    "algo_names = ['Logistic Regression', 'PopTest Rank', 'LogReg Popularity', 'Multitask Classification']\n",
    "algos = ['br1', 'poptest', 'lrpop', 'nsr']"
   ]
  },
  {
   "cell_type": "markdown",
   "metadata": {},
   "source": [
    "### Performance table"
   ]
  },
  {
   "cell_type": "code",
   "execution_count": 16,
   "metadata": {},
   "outputs": [],
   "source": [
    "rows = datasets\n",
    "cols = pd.MultiIndex.from_product([algo_names, metrics])"
   ]
  },
  {
   "cell_type": "code",
   "execution_count": 17,
   "metadata": {},
   "outputs": [],
   "source": [
    "df = pd.DataFrame(index=rows, columns=cols)"
   ]
  },
  {
   "cell_type": "code",
   "execution_count": 18,
   "metadata": {},
   "outputs": [],
   "source": [
    "for dataset_name in datasets:\n",
    "    for j in range(len(algos)):\n",
    "        algo_name = algo_names[j]\n",
    "        algo = algos[j]\n",
    "        fperf = os.path.join('data/%s/setting1/perf-%s.pkl' % (dataset_name, algo))\n",
    "        if not os.path.exists(fperf):\n",
    "            continue\n",
    "        perf_dict = pkl.load(open(fperf, 'rb'))\n",
    "        #print(perf_dict)\n",
    "        for metric in metrics:\n",
    "            df.loc[dataset_name, (algo_name, metric)] = perf_dict[dataset_name]['Test'][metric] * 100"
   ]
  },
  {
   "cell_type": "code",
   "execution_count": 19,
   "metadata": {},
   "outputs": [
    {
     "data": {
      "text/html": [
       "<div>\n",
       "<style scoped>\n",
       "    .dataframe tbody tr th:only-of-type {\n",
       "        vertical-align: middle;\n",
       "    }\n",
       "\n",
       "    .dataframe tbody tr th {\n",
       "        vertical-align: top;\n",
       "    }\n",
       "\n",
       "    .dataframe thead tr th {\n",
       "        text-align: left;\n",
       "    }\n",
       "</style>\n",
       "<table border=\"1\" class=\"dataframe\">\n",
       "  <thead>\n",
       "    <tr>\n",
       "      <th></th>\n",
       "      <th colspan=\"3\" halign=\"left\">Logistic Regression</th>\n",
       "      <th colspan=\"3\" halign=\"left\">PopTest Rank</th>\n",
       "      <th colspan=\"3\" halign=\"left\">LogReg Popularity</th>\n",
       "      <th colspan=\"3\" halign=\"left\">Multitask Classification</th>\n",
       "    </tr>\n",
       "    <tr>\n",
       "      <th></th>\n",
       "      <th>R-Precision</th>\n",
       "      <th>AUC</th>\n",
       "      <th>NDCG</th>\n",
       "      <th>R-Precision</th>\n",
       "      <th>AUC</th>\n",
       "      <th>NDCG</th>\n",
       "      <th>R-Precision</th>\n",
       "      <th>AUC</th>\n",
       "      <th>NDCG</th>\n",
       "      <th>R-Precision</th>\n",
       "      <th>AUC</th>\n",
       "      <th>NDCG</th>\n",
       "    </tr>\n",
       "  </thead>\n",
       "  <tbody>\n",
       "    <tr>\n",
       "      <th>aotm2011</th>\n",
       "      <td>0.170332</td>\n",
       "      <td>60.0077</td>\n",
       "      <td>9.52836</td>\n",
       "      <td>1.75871</td>\n",
       "      <td>86.6361</td>\n",
       "      <td>17.8632</td>\n",
       "      <td>NaN</td>\n",
       "      <td>NaN</td>\n",
       "      <td>NaN</td>\n",
       "      <td>NaN</td>\n",
       "      <td>NaN</td>\n",
       "      <td>NaN</td>\n",
       "    </tr>\n",
       "    <tr>\n",
       "      <th>30music</th>\n",
       "      <td>0.644975</td>\n",
       "      <td>63.7959</td>\n",
       "      <td>11.2373</td>\n",
       "      <td>2.72043</td>\n",
       "      <td>80.3406</td>\n",
       "      <td>15.4544</td>\n",
       "      <td>2.60939</td>\n",
       "      <td>73.62</td>\n",
       "      <td>17.3859</td>\n",
       "      <td>0.318027</td>\n",
       "      <td>63.3299</td>\n",
       "      <td>10.4452</td>\n",
       "    </tr>\n",
       "  </tbody>\n",
       "</table>\n",
       "</div>"
      ],
      "text/plain": [
       "         Logistic Regression                   PopTest Rank                    \\\n",
       "                 R-Precision      AUC     NDCG  R-Precision      AUC     NDCG   \n",
       "aotm2011            0.170332  60.0077  9.52836      1.75871  86.6361  17.8632   \n",
       "30music             0.644975  63.7959  11.2373      2.72043  80.3406  15.4544   \n",
       "\n",
       "         LogReg Popularity                 Multitask Classification           \\\n",
       "               R-Precision    AUC     NDCG              R-Precision      AUC   \n",
       "aotm2011               NaN    NaN      NaN                      NaN      NaN   \n",
       "30music            2.60939  73.62  17.3859                 0.318027  63.3299   \n",
       "\n",
       "                   \n",
       "             NDCG  \n",
       "aotm2011      NaN  \n",
       "30music   10.4452  "
      ]
     },
     "execution_count": 19,
     "metadata": {},
     "output_type": "execute_result"
    }
   ],
   "source": [
    "df"
   ]
  },
  {
   "cell_type": "code",
   "execution_count": null,
   "metadata": {},
   "outputs": [],
   "source": [
    "tab_str = df.to_latex(float_format=lambda x: '$%.1f$' % x, na_rep='N/A', \\\n",
    "                      column_format='l|' + '*{%d}{c}|' % len(metrics) * len(algos), \\\n",
    "                      multicolumn=True, multicolumn_format='c', escape=False)"
   ]
  },
  {
   "cell_type": "code",
   "execution_count": null,
   "metadata": {},
   "outputs": [],
   "source": [
    "print('\\\\begin{table*}[!h]')\n",
    "print('\\centering')\n",
    "print('\\\\caption{Performance $\\\\times 10^2$ (%s)}' % dataset_name)\n",
    "print('\\\\label{tab:perf_pla_%s}' % dataset_name)\n",
    "print('\\\\resizebox{\\\\linewidth}{!}{')\n",
    "print(tab_str)\n",
    "print('}')\n",
    "print('\\\\end{table*}')"
   ]
  },
  {
   "cell_type": "markdown",
   "metadata": {},
   "source": [
    "### Hit Rate curve"
   ]
  },
  {
   "cell_type": "code",
   "execution_count": null,
   "metadata": {},
   "outputs": [],
   "source": [
    "metric = 'Hit-Rate'"
   ]
  },
  {
   "cell_type": "code",
   "execution_count": null,
   "metadata": {},
   "outputs": [],
   "source": [
    "nrows, ncols = 1, 4\n",
    "colors = ['r', 'g', 'b', 'm', 'c']\n",
    "fig = plt.figure(figsize=[20, 3])\n",
    "for k in range(1,5):\n",
    "    fperfs = [os.path.join(data_dir, 'perf-%s-%d.pkl' % (algo, k)) for algo in algos]\n",
    "    perf_dicts = [pkl.load(open(fperf, 'rb')) if os.path.exists(fperf) else None for fperf in fperfs]\n",
    "    for j in range(len(perf_dicts)):\n",
    "        if perf_dicts[j] is None:\n",
    "            continue\n",
    "        x = TOPs\n",
    "        y = [perf_dicts[j][dataset_name]['Test'][metric][k] for k in TOPs]\n",
    "        ax = plt.subplot(nrows, ncols, k)\n",
    "        ax.plot(x, y, ls='-', c=colors[j], label=algo_names[j])\n",
    "        ax.set_xscale('log')\n",
    "        ax.set_title('K=%d' % k)\n",
    "    plt.legend(loc='best')\n",
    "    plt.xlabel('Number of recommendations')\n",
    "    if k == 1:\n",
    "        plt.ylabel('Hit rate')\n",
    "#plt.suptitle('Hit rates of playlist augmentation (%s)' % dataset_name, fontsize=12)\n",
    "plt.savefig('%s-%d.svg' % (dataset_name, task))"
   ]
  }
 ],
 "metadata": {
  "kernelspec": {
   "display_name": "Python 3",
   "language": "python",
   "name": "python3"
  },
  "language_info": {
   "codemirror_mode": {
    "name": "ipython",
    "version": 3
   },
   "file_extension": ".py",
   "mimetype": "text/x-python",
   "name": "python",
   "nbconvert_exporter": "python",
   "pygments_lexer": "ipython3",
   "version": "3.6.5"
  }
 },
 "nbformat": 4,
 "nbformat_minor": 2
}
