{
 "cells": [
  {
   "cell_type": "markdown",
   "metadata": {},
   "source": [
    "# Formating experimental results"
   ]
  },
  {
   "cell_type": "code",
   "execution_count": null,
   "metadata": {},
   "outputs": [],
   "source": [
    "%matplotlib inline\n",
    "import os\n",
    "import sys\n",
    "import numpy as np\n",
    "import pickle as pkl\n",
    "import pandas as pd\n",
    "import matplotlib.pyplot as plt"
   ]
  },
  {
   "cell_type": "code",
   "execution_count": null,
   "metadata": {},
   "outputs": [],
   "source": [
    "from models import MTC"
   ]
  },
  {
   "cell_type": "code",
   "execution_count": null,
   "metadata": {},
   "outputs": [],
   "source": [
    "datasets = ['aotm2011', '30music']\n",
    "metrics = ['R-Precision', 'AUC', 'NDCG']\n",
    "TOPs = [5, 10, 20, 30, 50, 100, 200, 300, 500, 1000]"
   ]
  },
  {
   "cell_type": "markdown",
   "metadata": {},
   "source": [
    "## Playlist augmentation"
   ]
  },
  {
   "cell_type": "code",
   "execution_count": null,
   "metadata": {},
   "outputs": [],
   "source": [
    "algo_names = ['Logistic Regression', 'Popularity Rank', 'LR Popularity', 'SAGH', 'CAGH', \n",
    "              'Multitask Classification']\n",
    "algos = ['br2', 'pop', 'lrpop', 'sagh', 'cagh', 'pla']"
   ]
  },
  {
   "cell_type": "markdown",
   "metadata": {},
   "source": [
    "### Performance table"
   ]
  },
  {
   "cell_type": "code",
   "execution_count": null,
   "metadata": {},
   "outputs": [],
   "source": [
    "#col_indices = pd.MultiIndex.from_product([algo_names, ['K=%d' % k for k in range(1,5)]])\n",
    "#rows = ['K=%d' % k for k in range(1,5)]\n",
    "#cols = pd.MultiIndex.from_product([algo_names, metrics])\n",
    "rows = pd.MultiIndex.from_product([datasets, algo_names])\n",
    "cols = pd.MultiIndex.from_product([metrics, ['K=%d' % k for k in range(1,5)]])"
   ]
  },
  {
   "cell_type": "code",
   "execution_count": null,
   "metadata": {},
   "outputs": [],
   "source": [
    "df = pd.DataFrame(index=rows, columns=cols)"
   ]
  },
  {
   "cell_type": "code",
   "execution_count": null,
   "metadata": {},
   "outputs": [],
   "source": [
    "for dataset_name in datasets:\n",
    "    for i in range(len(algos)):\n",
    "        algo_name = algo_names[i]\n",
    "        algo = algos[i]\n",
    "        row_ix = (dataset_name, algo_name)\n",
    "        for k in range(1,5):\n",
    "            data_dir = 'data/%s/setting2' % dataset_name\n",
    "            fperf = os.path.join(data_dir, 'perf-%s-%d.pkl' % (algo, k))\n",
    "            if not os.path.exists(fperf):\n",
    "                continue\n",
    "            perf_dict = pkl.load(open(fperf, 'rb'))\n",
    "            #print(perf_dict)\n",
    "            for metric in metrics:\n",
    "                col_ix = (metric, 'K=%d' % k)                \n",
    "                df.loc[row_ix, col_ix] = perf_dict[dataset_name]['Test'][metric] * 100"
   ]
  },
  {
   "cell_type": "code",
   "execution_count": null,
   "metadata": {},
   "outputs": [],
   "source": [
    "df"
   ]
  },
  {
   "cell_type": "code",
   "execution_count": null,
   "metadata": {},
   "outputs": [],
   "source": [
    "tab_str = df.to_latex(float_format=lambda x: '$%.1f$' % x, na_rep='N/A', \\\n",
    "                      column_format='ll|' + '*{%d}{c}|' % 4 * len(metrics), \\\n",
    "                      multirow=True, multicolumn=True, multicolumn_format='c', escape=False)"
   ]
  },
  {
   "cell_type": "code",
   "execution_count": null,
   "metadata": {},
   "outputs": [],
   "source": [
    "print('\\\\begin{table*}[!h]')\n",
    "print('\\centering')\n",
    "print('\\\\caption{Performance $\\\\times 10^2$ (%s)}' % dataset_name)\n",
    "print('\\\\label{tab:perf_pla_%s}' % dataset_name)\n",
    "print('\\\\resizebox{\\\\linewidth}{!}{')\n",
    "print(tab_str)\n",
    "print('}')\n",
    "print('\\\\end{table*}')"
   ]
  },
  {
   "cell_type": "markdown",
   "metadata": {},
   "source": [
    "### Hit Rate curve"
   ]
  },
  {
   "cell_type": "code",
   "execution_count": null,
   "metadata": {},
   "outputs": [],
   "source": [
    "dix = 1\n",
    "dataset_name = datasets[dix]"
   ]
  },
  {
   "cell_type": "code",
   "execution_count": null,
   "metadata": {},
   "outputs": [],
   "source": [
    "metric = 'Hit-Rate'"
   ]
  },
  {
   "cell_type": "code",
   "execution_count": null,
   "metadata": {},
   "outputs": [],
   "source": [
    "nrows, ncols = 1, 4\n",
    "colors = ['r', 'g', 'b', 'm', 'c', 'y']\n",
    "fig = plt.figure(figsize=[20, 3])\n",
    "for k in range(1,5):\n",
    "    fperfs = [os.path.join(data_dir, 'perf-%s-%d.pkl' % (algo, k)) for algo in algos]\n",
    "    perf_dicts = [pkl.load(open(fperf, 'rb')) if os.path.exists(fperf) else None for fperf in fperfs]\n",
    "    for j in range(len(perf_dicts)):\n",
    "        if perf_dicts[j] is None:\n",
    "            continue\n",
    "        x = TOPs\n",
    "        y = [perf_dicts[j][dataset_name]['Test'][metric][k] for k in TOPs]\n",
    "        ax = plt.subplot(nrows, ncols, k)\n",
    "        ax.plot(x, y, ls='-', c=colors[j], label=algo_names[j])\n",
    "        ax.set_xscale('log')\n",
    "        ax.set_title('K=%d' % k)\n",
    "    plt.legend(loc='best')\n",
    "    plt.xlabel('Number of recommendations')\n",
    "    if k == 1:\n",
    "        plt.ylabel('Hit rate')\n",
    "#plt.suptitle('Hit rates of playlist augmentation (%s)' % dataset_name, fontsize=12)\n",
    "plt.savefig('%s-pla.svg' % dataset_name)"
   ]
  },
  {
   "cell_type": "markdown",
   "metadata": {},
   "source": [
    "## New song recommendation"
   ]
  },
  {
   "cell_type": "code",
   "execution_count": null,
   "metadata": {},
   "outputs": [],
   "source": [
    "algo_names = ['Logistic Regression', 'PopTest Rank', 'LogReg Popularity', 'Multitask Classification']\n",
    "algos = ['br1', 'poptest', 'lrpop', 'nsr']"
   ]
  },
  {
   "cell_type": "markdown",
   "metadata": {},
   "source": [
    "### Performance table"
   ]
  },
  {
   "cell_type": "code",
   "execution_count": null,
   "metadata": {},
   "outputs": [],
   "source": [
    "rows = datasets\n",
    "cols = pd.MultiIndex.from_product([algo_names, metrics])"
   ]
  },
  {
   "cell_type": "code",
   "execution_count": null,
   "metadata": {},
   "outputs": [],
   "source": [
    "df = pd.DataFrame(index=rows, columns=cols)"
   ]
  },
  {
   "cell_type": "code",
   "execution_count": null,
   "metadata": {},
   "outputs": [],
   "source": [
    "for dataset_name in datasets:\n",
    "    for j in range(len(algos)):\n",
    "        algo_name = algo_names[j]\n",
    "        algo = algos[j]\n",
    "        fperf = os.path.join('data/%s/setting1/perf-%s.pkl' % (dataset_name, algo))\n",
    "        if not os.path.exists(fperf):\n",
    "            continue\n",
    "        perf_dict = pkl.load(open(fperf, 'rb'))\n",
    "        #print(perf_dict)\n",
    "        for metric in metrics:\n",
    "            df.loc[dataset_name, (algo_name, metric)] = perf_dict[dataset_name]['Test'][metric] * 100"
   ]
  },
  {
   "cell_type": "code",
   "execution_count": null,
   "metadata": {},
   "outputs": [],
   "source": [
    "df"
   ]
  },
  {
   "cell_type": "code",
   "execution_count": null,
   "metadata": {},
   "outputs": [],
   "source": [
    "tab_str = df.to_latex(float_format=lambda x: '$%.1f$' % x, na_rep='N/A', \\\n",
    "                      column_format='l|' + '*{%d}{c}|' % len(metrics) * len(algos), \\\n",
    "                      multicolumn=True, multicolumn_format='c', escape=False)"
   ]
  },
  {
   "cell_type": "code",
   "execution_count": null,
   "metadata": {},
   "outputs": [],
   "source": [
    "print('\\\\begin{table*}[!h]')\n",
    "print('\\centering')\n",
    "print('\\\\caption{Performance $\\\\times 10^2$ (%s)}' % dataset_name)\n",
    "print('\\\\label{tab:perf_pla_%s}' % dataset_name)\n",
    "print('\\\\resizebox{\\\\linewidth}{!}{')\n",
    "print(tab_str)\n",
    "print('}')\n",
    "print('\\\\end{table*}')"
   ]
  },
  {
   "cell_type": "markdown",
   "metadata": {},
   "source": [
    "### Hit Rate curve"
   ]
  },
  {
   "cell_type": "code",
   "execution_count": null,
   "metadata": {},
   "outputs": [],
   "source": [
    "metric = 'Hit-Rate'"
   ]
  },
  {
   "cell_type": "code",
   "execution_count": null,
   "metadata": {},
   "outputs": [],
   "source": [
    "nrows, ncols = 1, 4\n",
    "colors = ['r', 'g', 'b', 'm', 'c']\n",
    "fig = plt.figure(figsize=[20, 3])\n",
    "for k in range(1,5):\n",
    "    fperfs = [os.path.join(data_dir, 'perf-%s-%d.pkl' % (algo, k)) for algo in algos]\n",
    "    perf_dicts = [pkl.load(open(fperf, 'rb')) if os.path.exists(fperf) else None for fperf in fperfs]\n",
    "    for j in range(len(perf_dicts)):\n",
    "        if perf_dicts[j] is None:\n",
    "            continue\n",
    "        x = TOPs\n",
    "        y = [perf_dicts[j][dataset_name]['Test'][metric][k] for k in TOPs]\n",
    "        ax = plt.subplot(nrows, ncols, k)\n",
    "        ax.plot(x, y, ls='-', c=colors[j], label=algo_names[j])\n",
    "        ax.set_xscale('log')\n",
    "        ax.set_title('K=%d' % k)\n",
    "    plt.legend(loc='best')\n",
    "    plt.xlabel('Number of recommendations')\n",
    "    if k == 1:\n",
    "        plt.ylabel('Hit rate')\n",
    "#plt.suptitle('Hit rates of playlist augmentation (%s)' % dataset_name, fontsize=12)\n",
    "plt.savefig('%s-%d.svg' % (dataset_name, task))"
   ]
  }
 ],
 "metadata": {
  "kernelspec": {
   "display_name": "Python 3",
   "language": "python",
   "name": "python3"
  },
  "language_info": {
   "codemirror_mode": {
    "name": "ipython",
    "version": 3
   },
   "file_extension": ".py",
   "mimetype": "text/x-python",
   "name": "python",
   "nbconvert_exporter": "python",
   "pygments_lexer": "ipython3",
   "version": "3.6.5"
  }
 },
 "nbformat": 4,
 "nbformat_minor": 2
}
