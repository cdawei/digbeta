{
 "cells": [
  {
   "cell_type": "markdown",
   "metadata": {},
   "source": [
    "# Baselines - playlist generation for known users"
   ]
  },
  {
   "cell_type": "code",
   "execution_count": 1,
   "metadata": {},
   "outputs": [],
   "source": [
    "%matplotlib inline\n",
    "\n",
    "import os, sys, time, gzip\n",
    "import pickle as pkl\n",
    "import numpy as np\n",
    "from scipy.sparse import lil_matrix, issparse\n",
    "\n",
    "import matplotlib.pyplot as plt\n",
    "import seaborn as sns"
   ]
  },
  {
   "cell_type": "code",
   "execution_count": 2,
   "metadata": {},
   "outputs": [],
   "source": [
    "# from tools import calc_RPrecision_HitRate\n",
    "from tools import calc_metrics, diversity, softmax\n",
    "# from tools import calc_Precision_Recall"
   ]
  },
  {
   "cell_type": "code",
   "execution_count": 3,
   "metadata": {},
   "outputs": [],
   "source": [
    "TOPs = [5, 10, 20, 30, 50, 100, 200, 300, 500, 700, 1000]"
   ]
  },
  {
   "cell_type": "code",
   "execution_count": 4,
   "metadata": {},
   "outputs": [],
   "source": [
    "datasets = ['aotm2011', '30music']"
   ]
  },
  {
   "cell_type": "code",
   "execution_count": 5,
   "metadata": {},
   "outputs": [
    {
     "data": {
      "text/plain": [
       "'aotm2011'"
      ]
     },
     "execution_count": 5,
     "metadata": {},
     "output_type": "execute_result"
    }
   ],
   "source": [
    "dix = 0\n",
    "dataset_name = datasets[dix]\n",
    "dataset_name"
   ]
  },
  {
   "cell_type": "code",
   "execution_count": 6,
   "metadata": {},
   "outputs": [],
   "source": [
    "data_dir = 'data/%s/coldstart/setting3' % dataset_name\n",
    "X = pkl.load(gzip.open(os.path.join(data_dir, 'X.pkl.gz'), 'rb'))\n",
    "Y_train = pkl.load(gzip.open(os.path.join(data_dir, 'Y_train.pkl.gz'), 'rb'))\n",
    "Y_test = pkl.load(gzip.open(os.path.join(data_dir, 'Y_test.pkl.gz'), 'rb'))\n",
    "song2pop_train = pkl.load(gzip.open(os.path.join(data_dir, 'song2pop_train.pkl.gz'), 'rb'))"
   ]
  },
  {
   "cell_type": "code",
   "execution_count": 7,
   "metadata": {},
   "outputs": [],
   "source": [
    "playlists3 = pkl.load(gzip.open(os.path.join(data_dir, 'playlists_train_test_s3.pkl.gz'), 'rb'))\n",
    "train_playlists = playlists3['train_playlists']\n",
    "test_playlists = playlists3['test_playlists']\n",
    "user2songs = dict()\n",
    "\n",
    "for pl, u in train_playlists:\n",
    "    try:\n",
    "        user2songs[u].update(set(pl))\n",
    "    except KeyError:\n",
    "        user2songs[u] = set(pl)"
   ]
  },
  {
   "cell_type": "code",
   "execution_count": 8,
   "metadata": {},
   "outputs": [],
   "source": [
    "all_songs = pkl.load(gzip.open(os.path.join(data_dir, 'all_songs.pkl.gz'), 'rb'))\n",
    "index2song = {ix: sid for ix, (sid, _) in enumerate(all_songs)}"
   ]
  },
  {
   "cell_type": "code",
   "execution_count": 9,
   "metadata": {},
   "outputs": [],
   "source": [
    "song2index = {sid: ix for ix, (sid, _) in enumerate(all_songs)}"
   ]
  },
  {
   "cell_type": "code",
   "execution_count": 10,
   "metadata": {},
   "outputs": [],
   "source": [
    "_song2artist = pkl.load(gzip.open('data/msd/song2artist.pkl.gz', 'rb'))\n",
    "song2artist = {sid: _song2artist[sid] for sid, _ in all_songs if sid in _song2artist}"
   ]
  },
  {
   "cell_type": "code",
   "execution_count": 11,
   "metadata": {},
   "outputs": [],
   "source": [
    "artist2songs = dict()\n",
    "\n",
    "for sid in sorted(song2artist):\n",
    "    artist = song2artist[sid]\n",
    "    try:\n",
    "        artist2songs[artist].append(sid)\n",
    "    except KeyError:\n",
    "        artist2songs[artist] = [sid]"
   ]
  },
  {
   "cell_type": "code",
   "execution_count": 12,
   "metadata": {},
   "outputs": [
    {
     "name": "stdout",
     "output_type": "stream",
     "text": [
      "111,993 | 15,698\n"
     ]
    }
   ],
   "source": [
    "print('{:,} | {:,}'.format(len(song2artist), len(artist2songs)))"
   ]
  },
  {
   "cell_type": "code",
   "execution_count": 13,
   "metadata": {},
   "outputs": [],
   "source": [
    "song2genre = pkl.load(gzip.open('data/msd/song2genre.pkl.gz', 'rb'))"
   ]
  },
  {
   "cell_type": "code",
   "execution_count": 14,
   "metadata": {},
   "outputs": [],
   "source": [
    "song2pop = pkl.load(gzip.open(os.path.join(data_dir, 'song2pop.pkl.gz'), 'rb'))"
   ]
  },
  {
   "cell_type": "markdown",
   "metadata": {},
   "source": [
    "### Collocated Artists - Greatest Hits (CAGH)"
   ]
  },
  {
   "cell_type": "markdown",
   "metadata": {},
   "source": [
    "Compute the similarity of two artist $a_1$ and $a_2$ given a set of playlist $P$:   \n",
    "$$\n",
    "\\text{sim}(a_1, a_2) \n",
    "= \\frac{\\sum_{p \\in P} \\delta(a_1, p) \\times \\delta(a_2, p)}\n",
    "       {\\sqrt{\\sum_{p \\in P} \\delta(a_1, p) \\times \\sum_{p \\in P} \\delta(a_2, p)}}\n",
    "$$\n",
    "where\n",
    "$$\n",
    "\\delta(a, p) \n",
    "= \\begin{cases}\n",
    "1, \\ \\text{at least one song in playlist $p$ is from artist $a$}, \\\\\n",
    "0, \\ \\text{otherwise}.\n",
    "\\end{cases}\n",
    "$$"
   ]
  },
  {
   "cell_type": "markdown",
   "metadata": {},
   "source": [
    "Recommend according to the popularity of songs, but weighted by similarity of (`artist in user's listening history`, `artist of song`)."
   ]
  },
  {
   "cell_type": "code",
   "execution_count": 15,
   "metadata": {},
   "outputs": [],
   "source": [
    "all_artist = sorted(set([song2artist[sid] for pl, _ in train_playlists for sid in pl if sid in song2artist]))"
   ]
  },
  {
   "cell_type": "code",
   "execution_count": 16,
   "metadata": {},
   "outputs": [],
   "source": [
    "artist2index = {aid: ix for ix, aid in enumerate(all_artist)}"
   ]
  },
  {
   "cell_type": "code",
   "execution_count": 17,
   "metadata": {},
   "outputs": [],
   "source": [
    "Na = len(all_artist)\n",
    "Np = len(train_playlists)\n",
    "Delta = lil_matrix((Na, Np), dtype=np.float)\n",
    "for j in range(Np):\n",
    "    pl_artist = sorted(set([song2artist[sid] for sid in train_playlists[j][0] if sid in song2artist]))\n",
    "    ix = [artist2index[aid] for aid in pl_artist]\n",
    "    Delta[ix, j] = 1"
   ]
  },
  {
   "cell_type": "code",
   "execution_count": 18,
   "metadata": {},
   "outputs": [],
   "source": [
    "Delta = Delta.tocsr()\n",
    "Dsum = Delta.sum(axis=1).A.reshape(-1)\n",
    "ColloMat = Delta.dot(Delta.T).A\n",
    "\n",
    "assert np.all(np.isclose(ColloMat.diagonal(), Dsum))"
   ]
  },
  {
   "cell_type": "code",
   "execution_count": 19,
   "metadata": {},
   "outputs": [
    {
     "name": "stdout",
     "output_type": "stream",
     "text": [
      "15698 15698\n"
     ]
    }
   ],
   "source": [
    "print(len(Dsum), len(all_artist))"
   ]
  },
  {
   "cell_type": "code",
   "execution_count": 20,
   "metadata": {},
   "outputs": [],
   "source": [
    "#type(ColloMat)"
   ]
  },
  {
   "cell_type": "code",
   "execution_count": 21,
   "metadata": {},
   "outputs": [],
   "source": [
    "T1 = 1. / np.sqrt(Dsum)\n",
    "NormMat = np.dot(T1.reshape(Na, 1), T1.reshape(1, Na))\n",
    "\n",
    "WeightMat = np.multiply(ColloMat, NormMat)"
   ]
  },
  {
   "cell_type": "code",
   "execution_count": 22,
   "metadata": {},
   "outputs": [
    {
     "name": "stdout",
     "output_type": "stream",
     "text": [
      "9233 / 9233\n",
      "9233 / 9233\n"
     ]
    }
   ],
   "source": [
    "rps_cagh = []\n",
    "hitrates_cagh = {top: [] for top in TOPs}\n",
    "aucs_cagh = []\n",
    "spreads_cagh = []\n",
    "novelties_cagh = {top: dict() for top in TOPs}\n",
    "artist_diversities_cagh = {top: [] for top in TOPs}\n",
    "genre_diversities_cagh = {top: [] for top in TOPs}\n",
    "np.random.seed(0)\n",
    "\n",
    "assert Y_test.shape[1] == len(test_playlists)\n",
    "\n",
    "sid_legal = [sid for sid, _ in all_songs if sid in song2artist]\n",
    "aix_legal = [artist2index[song2artist[sid]] for sid in sid_legal]\n",
    "pop_legal = np.asarray([song2pop_train[sid] for sid in sid_legal])\n",
    "ix_legal = [song2index[sid] for sid in sid_legal]\n",
    "\n",
    "prev_u = None\n",
    "prev_y = None\n",
    "\n",
    "for j in range(Y_test.shape[1]):\n",
    "    sys.stdout.write('\\r%d / %d' % (j+1, Y_test.shape[1]))\n",
    "    sys.stdout.flush()\n",
    "    y_true = Y_test[:, j].A.reshape(-1)\n",
    "    \n",
    "    u = test_playlists[j][1]\n",
    "    if prev_u is None or prev_u != u:\n",
    "        artists = sorted(set([song2artist[sid] for sid in user2songs[u] if sid in song2artist]))\n",
    "        artists_ix = [artist2index[aid] for aid in artists]\n",
    "        y_pred = np.zeros(y_true.shape)\n",
    "        y_pred[ix_legal] = np.log(pop_legal) * np.asarray([WeightMat[aix, artists_ix].sum() for aix in aix_legal])\n",
    "\n",
    "        # for ix in ix_legal:\n",
    "        #     sid = index2song[ix]\n",
    "        #     aix = artist2index[song2artist[sid]]\n",
    "        #     pop = song2pop_test[sid]\n",
    "        #     y_pred[ix] = pop * WeightMat[aix, artists_ix].sum()\n",
    "        \n",
    "        prev_u = u\n",
    "        prev_y = y_pred\n",
    "    else:\n",
    "        y_pred = prev_y\n",
    "\n",
    "    # rp, hr_dict = calc_RPrecision_HitRate(y_true, y_pred, tops=TOPs)\n",
    "    rp, hr_dict, auc = calc_metrics(y_true, y_pred, tops=TOPs)\n",
    "    rps_cagh.append(rp)\n",
    "    for top in TOPs:\n",
    "        hitrates_cagh[top].append(hr_dict[top])\n",
    "    aucs_cagh.append(auc)\n",
    "    \n",
    "    # spread\n",
    "    y_pred_prob = softmax(y_pred)\n",
    "    spreads_cagh.append(-np.dot(y_pred_prob, np.log(y_pred_prob)))\n",
    "\n",
    "    # novelty\n",
    "    sortix = np.argsort(-y_pred)\n",
    "    for top in TOPs:\n",
    "        nov = np.mean([-np.log2(song2pop[index2song[ix]]) for ix in sortix[:top]])\n",
    "        try:\n",
    "            novelties_cagh[top][u].append(nov)\n",
    "        except KeyError:\n",
    "            novelties_cagh[top][u] = [nov]\n",
    "    \n",
    "    # artist/genre diversity\n",
    "    for top in TOPs:\n",
    "        artist_vec = np.array([song2artist[index2song[ix]] if index2song[ix] in song2artist\n",
    "                               else str(np.random.rand()) for ix in sortix[:top]])\n",
    "        genre_vec = np.array([song2genre[index2song[ix]] if index2song[ix] in song2genre \\\n",
    "                              else str(np.random.rand()) for ix in sortix[:top]])\n",
    "        artist_diversities_cagh[top].append( diversity(artist_vec) )\n",
    "        genre_diversities_cagh[top].append( diversity(genre_vec) )\n",
    "\n",
    "print('\\n%d / %d' % (len(rps_cagh), Y_test.shape[1]))"
   ]
  },
  {
   "cell_type": "code",
   "execution_count": 23,
   "metadata": {},
   "outputs": [],
   "source": [
    "# fig = plt.figure(figsize=[20, 5])\n",
    "# ax1 = plt.subplot(131)\n",
    "# ax1.hist(rps_cagh, bins=100)\n",
    "# ax1.set_yscale('log')\n",
    "# ax1.set_title('R-Precision')\n",
    "# #ax.set_xlim(0, xmax)\n",
    "# ax2 = plt.subplot(132)\n",
    "# ax2.hist(aucs_cagh, bins=100)\n",
    "# ax2.set_yscale('log')\n",
    "# ax2.set_title('AUC')\n",
    "# pass"
   ]
  },
  {
   "cell_type": "code",
   "execution_count": 24,
   "metadata": {},
   "outputs": [
    {
     "data": {
      "text/plain": [
       "{'R-Precision': 0.012648125825220133,\n",
       " 'Hit-Rate': {5: 0.006794196503848195,\n",
       "  10: 0.01208350999271688,\n",
       "  20: 0.021370544769167037,\n",
       "  30: 0.02967795640871416,\n",
       "  50: 0.04340629322160431,\n",
       "  100: 0.07494026103183174,\n",
       "  200: 0.12315234475645184,\n",
       "  300: 0.16320545478612028,\n",
       "  500: 0.22616272296084824,\n",
       "  700: 0.27680425799067454,\n",
       "  1000: 0.3378445596027157},\n",
       " 'AUC': 0.9423883674704033,\n",
       " 'Spread': 2.296042808595775,\n",
       " 'Novelty': {5: -8.565827748218268,\n",
       "  10: -8.343505653283179,\n",
       "  20: -8.086288371767095,\n",
       "  30: -7.911403828279804,\n",
       "  50: -7.680629527858549,\n",
       "  100: -7.311076021345004,\n",
       "  200: -6.901649279341681,\n",
       "  300: -6.656786877332179,\n",
       "  500: -6.354166461685341,\n",
       "  700: -6.167590537784116,\n",
       "  1000: -5.977997427445344},\n",
       " 'Artist-Diversity': {5: 0.4208166359796383,\n",
       "  10: 0.47656594100870064,\n",
       "  20: 0.5720077297109339,\n",
       "  30: 0.6405746006017894,\n",
       "  50: 0.7324231405981649,\n",
       "  100: 0.82584189123992,\n",
       "  200: 0.8910979080390581,\n",
       "  300: 0.9201191161411354,\n",
       "  500: 0.9467726068404544,\n",
       "  700: 0.9598935809669281,\n",
       "  1000: 0.9705869298302959},\n",
       " 'Genre-Diversity': {5: 0.243669446550417,\n",
       "  10: 0.32247614233967536,\n",
       "  20: 0.32471569370735404,\n",
       "  30: 0.3532225114562832,\n",
       "  50: 0.3726536359155381,\n",
       "  100: 0.37644032658437515,\n",
       "  200: 0.3942125606914677,\n",
       "  300: 0.40446289972676897,\n",
       "  500: 0.4188648272392288,\n",
       "  700: 0.42814814436058257,\n",
       "  1000: 0.43964987775601877}}"
      ]
     },
     "execution_count": 24,
     "metadata": {},
     "output_type": "execute_result"
    }
   ],
   "source": [
    "cagh_perf = {dataset_name: {'Test': {'R-Precision': np.mean(rps_cagh), \n",
    "                                     'Hit-Rate': {top: np.mean(hitrates_cagh[top]) for top in TOPs},\n",
    "                                     'AUC': np.mean(aucs_cagh),\n",
    "                                     'Spread': np.mean(spreads_cagh),\n",
    "                                     'Novelty': {t: np.mean([np.mean(novelties_cagh[t][u]) \n",
    "                                                             for u in novelties_cagh[t]]) for t in TOPs},\n",
    "                                     'Artist-Diversity': {t: np.mean(artist_diversities_cagh[t]) for t in TOPs},\n",
    "                                     'Genre-Diversity': {t: np.mean(genre_diversities_cagh[t]) for t in TOPs}},\n",
    "                            'Test_All': {'R-Precision': rps_cagh, \n",
    "                                         'Hit-Rate': {top: hitrates_cagh[top] for top in TOPs},\n",
    "                                         'AUC': aucs_cagh,\n",
    "                                         'Spread': spreads_cagh,\n",
    "                                         'Novelty': novelties_cagh,\n",
    "                                         'Artist-Diversity': artist_diversities_cagh,\n",
    "                                         'Genre-Diversity': genre_diversities_cagh}}}\n",
    "cagh_perf[dataset_name]['Test']"
   ]
  },
  {
   "cell_type": "code",
   "execution_count": 25,
   "metadata": {},
   "outputs": [
    {
     "name": "stdout",
     "output_type": "stream",
     "text": [
      "data/aotm2011/coldstart/setting3/perf-cagh.pkl\n"
     ]
    },
    {
     "data": {
      "text/plain": [
       "{'R-Precision': 0.012648125825220133,\n",
       " 'Hit-Rate': {5: 0.006794196503848195,\n",
       "  10: 0.01208350999271688,\n",
       "  20: 0.021370544769167037,\n",
       "  30: 0.02967795640871416,\n",
       "  50: 0.04340629322160431,\n",
       "  100: 0.07494026103183174,\n",
       "  200: 0.12315234475645184,\n",
       "  300: 0.16320545478612028,\n",
       "  500: 0.22616272296084824,\n",
       "  700: 0.27680425799067454,\n",
       "  1000: 0.3378445596027157},\n",
       " 'AUC': 0.9423883674704033,\n",
       " 'Spread': 2.296042808595775,\n",
       " 'Novelty': {5: -8.565827748218268,\n",
       "  10: -8.343505653283179,\n",
       "  20: -8.086288371767095,\n",
       "  30: -7.911403828279804,\n",
       "  50: -7.680629527858549,\n",
       "  100: -7.311076021345004,\n",
       "  200: -6.901649279341681,\n",
       "  300: -6.656786877332179,\n",
       "  500: -6.354166461685341,\n",
       "  700: -6.167590537784116,\n",
       "  1000: -5.977997427445344},\n",
       " 'Artist-Diversity': {5: 0.4208166359796383,\n",
       "  10: 0.47656594100870064,\n",
       "  20: 0.5720077297109339,\n",
       "  30: 0.6405746006017894,\n",
       "  50: 0.7324231405981649,\n",
       "  100: 0.82584189123992,\n",
       "  200: 0.8910979080390581,\n",
       "  300: 0.9201191161411354,\n",
       "  500: 0.9467726068404544,\n",
       "  700: 0.9598935809669281,\n",
       "  1000: 0.9705869298302959},\n",
       " 'Genre-Diversity': {5: 0.243669446550417,\n",
       "  10: 0.32247614233967536,\n",
       "  20: 0.32471569370735404,\n",
       "  30: 0.3532225114562832,\n",
       "  50: 0.3726536359155381,\n",
       "  100: 0.37644032658437515,\n",
       "  200: 0.3942125606914677,\n",
       "  300: 0.40446289972676897,\n",
       "  500: 0.4188648272392288,\n",
       "  700: 0.42814814436058257,\n",
       "  1000: 0.43964987775601877}}"
      ]
     },
     "execution_count": 25,
     "metadata": {},
     "output_type": "execute_result"
    }
   ],
   "source": [
    "fperf_cagh = os.path.join(data_dir, 'perf-cagh.pkl')\n",
    "print(fperf_cagh)\n",
    "pkl.dump(cagh_perf, open(fperf_cagh, 'wb'))\n",
    "pkl.load(open(fperf_cagh, 'rb'))[dataset_name]['Test']"
   ]
  },
  {
   "cell_type": "markdown",
   "metadata": {},
   "source": [
    "### Same Artists - Greatest Hits (SAGH)"
   ]
  },
  {
   "cell_type": "markdown",
   "metadata": {},
   "source": [
    "Recommend according to the popularity of songs of artists in listening history."
   ]
  },
  {
   "cell_type": "code",
   "execution_count": 26,
   "metadata": {},
   "outputs": [
    {
     "name": "stdout",
     "output_type": "stream",
     "text": [
      "9200 / 9233\n",
      "9233 / 9233\n"
     ]
    }
   ],
   "source": [
    "rps_sagh = []\n",
    "hitrates_sagh = {top: [] for top in TOPs}\n",
    "aucs_sagh = []\n",
    "spreads_sagh = []\n",
    "novelties_sagh = {top: dict() for top in TOPs}\n",
    "artist_diversities_sagh = {top: [] for top in TOPs}\n",
    "genre_diversities_sagh = {top: [] for top in TOPs}\n",
    "np.random.seed(0)\n",
    "\n",
    "assert Y_test.shape[1] == len(test_playlists)\n",
    "for j in range(Y_test.shape[1]):\n",
    "    if (j+1) % 100 == 0:\n",
    "        sys.stdout.write('\\r%d / %d' % (j+1, Y_test.shape[1]))\n",
    "        sys.stdout.flush()\n",
    "    y_true = Y_test[:, j].A.reshape(-1)\n",
    "    y_pred = np.zeros(y_true.shape)\n",
    "    \n",
    "    u = test_playlists[j][1]\n",
    "    artists = sorted(set([song2artist[sid] for sid in user2songs[u] if sid in song2artist]))\n",
    "    candidates = []\n",
    "    for a in artists:\n",
    "        candidates += artist2songs[a]\n",
    "    candidates = sorted(set(candidates))\n",
    "    if len(candidates) > 0:\n",
    "        for sid in candidates:\n",
    "            ix = song2index[sid]\n",
    "            y_pred[ix] = np.log(song2pop_train[sid])\n",
    "\n",
    "    # rp, hr_dict = calc_RPrecision_HitRate(y_true, y_pred, tops=TOPs)\n",
    "    rp, hr_dict, auc = calc_metrics(y_true, y_pred, tops=TOPs)\n",
    "    rps_sagh.append(rp)\n",
    "    for top in TOPs:\n",
    "        hitrates_sagh[top].append(hr_dict[top])\n",
    "    aucs_sagh.append(auc)\n",
    "    \n",
    "    # spread\n",
    "    y_pred_prob = softmax(y_pred)\n",
    "    spreads_sagh.append(-np.dot(y_pred_prob, np.log(y_pred_prob)))\n",
    "\n",
    "    # novelty\n",
    "    sortix = np.argsort(-y_pred)\n",
    "    for top in TOPs:\n",
    "        nov = np.mean([-np.log2(song2pop[index2song[ix]]) for ix in sortix[:top]])\n",
    "        try:\n",
    "            novelties_sagh[top][u].append(nov)\n",
    "        except KeyError:\n",
    "            novelties_sagh[top][u] = [nov]\n",
    "    \n",
    "    # artist/genre diversity\n",
    "    for top in TOPs:\n",
    "        artist_vec = np.array([song2artist[index2song[ix]] if index2song[ix] in song2artist\n",
    "                               else str(np.random.rand()) for ix in sortix[:top]])\n",
    "        genre_vec = np.array([song2genre[index2song[ix]] if index2song[ix] in song2genre \\\n",
    "                              else str(np.random.rand()) for ix in sortix[:top]])\n",
    "        artist_diversities_sagh[top].append( diversity(artist_vec) )\n",
    "        genre_diversities_sagh[top].append( diversity(genre_vec) )\n",
    "print('\\n%d / %d' % (len(rps_sagh), Y_test.shape[1]))"
   ]
  },
  {
   "cell_type": "code",
   "execution_count": 27,
   "metadata": {},
   "outputs": [],
   "source": [
    "# fig = plt.figure(figsize=[20, 5])\n",
    "# ax1 = plt.subplot(131)\n",
    "# ax1.hist(rps_sagh, bins=100)\n",
    "# ax1.set_yscale('log')\n",
    "# ax1.set_title('R-Precision')\n",
    "# #ax.set_xlim(0, xmax)\n",
    "# ax2 = plt.subplot(132)\n",
    "# ax2.hist(aucs_sagh, bins=100)\n",
    "# ax2.set_yscale('log')\n",
    "# ax2.set_title('AUC')\n",
    "# pass"
   ]
  },
  {
   "cell_type": "code",
   "execution_count": 28,
   "metadata": {},
   "outputs": [
    {
     "data": {
      "text/plain": [
       "{'R-Precision': 0.014952242385167722,\n",
       " 'Hit-Rate': {5: 0.007987077367979455,\n",
       "  10: 0.014584302521444464,\n",
       "  20: 0.025609856218537824,\n",
       "  30: 0.0359592103210705,\n",
       "  50: 0.05415623995773431,\n",
       "  100: 0.09182908333477224,\n",
       "  200: 0.14930986549539385,\n",
       "  300: 0.19456221896850043,\n",
       "  500: 0.2639422543994849,\n",
       "  700: 0.31923603952990715,\n",
       "  1000: 0.3787249835565522},\n",
       " 'AUC': 0.7978344628703591,\n",
       " 'Spread': 10.410385965618532,\n",
       " 'Novelty': {5: -8.977422870478174,\n",
       "  10: -8.752837830630009,\n",
       "  20: -8.47989372801478,\n",
       "  30: -8.298531949409403,\n",
       "  50: -8.038689626889926,\n",
       "  100: -7.613221965221152,\n",
       "  200: -7.082332198397629,\n",
       "  300: -6.707389565652833,\n",
       "  500: -6.1459804766956045,\n",
       "  700: -5.706938666373436,\n",
       "  1000: -5.168720070313489},\n",
       " 'Artist-Diversity': {5: 0.9292754251055995,\n",
       "  10: 0.9181847720134301,\n",
       "  20: 0.9245663438353274,\n",
       "  30: 0.9309814495979563,\n",
       "  50: 0.9407077983364904,\n",
       "  100: 0.953621452256782,\n",
       "  200: 0.9643768392487728,\n",
       "  300: 0.9692419549333549,\n",
       "  500: 0.9742387658453483,\n",
       "  700: 0.9771127095474033,\n",
       "  1000: 0.9800765819431474},\n",
       " 'Genre-Diversity': {5: 0.5860283764756851,\n",
       "  10: 0.5175565904906315,\n",
       "  20: 0.49051970335239153,\n",
       "  30: 0.5085267612051225,\n",
       "  50: 0.522958332688648,\n",
       "  100: 0.5300670957380585,\n",
       "  200: 0.5300637542744591,\n",
       "  300: 0.5263441673093254,\n",
       "  500: 0.5210181202869293,\n",
       "  700: 0.5181349923342747,\n",
       "  1000: 0.5162716191768504}}"
      ]
     },
     "execution_count": 28,
     "metadata": {},
     "output_type": "execute_result"
    }
   ],
   "source": [
    "sagh_perf = {dataset_name: {'Test': {'R-Precision': np.mean(rps_sagh), \n",
    "                                     'Hit-Rate': {top: np.mean(hitrates_sagh[top]) for top in TOPs},\n",
    "                                     'AUC': np.mean(aucs_sagh),\n",
    "                                     'Spread': np.mean(spreads_sagh),\n",
    "                                     'Novelty': {t: np.mean([np.mean(novelties_sagh[t][u]) \n",
    "                                                             for u in novelties_sagh[t]]) for t in TOPs},\n",
    "                                     'Artist-Diversity': {t: np.mean(artist_diversities_sagh[t]) for t in TOPs},\n",
    "                                     'Genre-Diversity': {t: np.mean(genre_diversities_sagh[t]) for t in TOPs}},\n",
    "                            'Test_All': {'R-Precision': rps_sagh, \n",
    "                                         'Hit-Rate': {top: hitrates_sagh[top] for top in TOPs},\n",
    "                                         'AUC': aucs_sagh,\n",
    "                                         'Spread': spreads_sagh,\n",
    "                                         'Novelty': novelties_sagh,\n",
    "                                         'Artist-Diversity': artist_diversities_sagh,\n",
    "                                         'Genre-Diversity': genre_diversities_sagh}}}\n",
    "sagh_perf[dataset_name]['Test']"
   ]
  },
  {
   "cell_type": "code",
   "execution_count": 29,
   "metadata": {},
   "outputs": [
    {
     "name": "stdout",
     "output_type": "stream",
     "text": [
      "data/aotm2011/coldstart/setting3/perf-sagh.pkl\n"
     ]
    },
    {
     "data": {
      "text/plain": [
       "{'R-Precision': 0.014952242385167722,\n",
       " 'Hit-Rate': {5: 0.007987077367979455,\n",
       "  10: 0.014584302521444464,\n",
       "  20: 0.025609856218537824,\n",
       "  30: 0.0359592103210705,\n",
       "  50: 0.05415623995773431,\n",
       "  100: 0.09182908333477224,\n",
       "  200: 0.14930986549539385,\n",
       "  300: 0.19456221896850043,\n",
       "  500: 0.2639422543994849,\n",
       "  700: 0.31923603952990715,\n",
       "  1000: 0.3787249835565522},\n",
       " 'AUC': 0.7978344628703591,\n",
       " 'Spread': 10.410385965618532,\n",
       " 'Novelty': {5: -8.977422870478174,\n",
       "  10: -8.752837830630009,\n",
       "  20: -8.47989372801478,\n",
       "  30: -8.298531949409403,\n",
       "  50: -8.038689626889926,\n",
       "  100: -7.613221965221152,\n",
       "  200: -7.082332198397629,\n",
       "  300: -6.707389565652833,\n",
       "  500: -6.1459804766956045,\n",
       "  700: -5.706938666373436,\n",
       "  1000: -5.168720070313489},\n",
       " 'Artist-Diversity': {5: 0.9292754251055995,\n",
       "  10: 0.9181847720134301,\n",
       "  20: 0.9245663438353274,\n",
       "  30: 0.9309814495979563,\n",
       "  50: 0.9407077983364904,\n",
       "  100: 0.953621452256782,\n",
       "  200: 0.9643768392487728,\n",
       "  300: 0.9692419549333549,\n",
       "  500: 0.9742387658453483,\n",
       "  700: 0.9771127095474033,\n",
       "  1000: 0.9800765819431474},\n",
       " 'Genre-Diversity': {5: 0.5860283764756851,\n",
       "  10: 0.5175565904906315,\n",
       "  20: 0.49051970335239153,\n",
       "  30: 0.5085267612051225,\n",
       "  50: 0.522958332688648,\n",
       "  100: 0.5300670957380585,\n",
       "  200: 0.5300637542744591,\n",
       "  300: 0.5263441673093254,\n",
       "  500: 0.5210181202869293,\n",
       "  700: 0.5181349923342747,\n",
       "  1000: 0.5162716191768504}}"
      ]
     },
     "execution_count": 29,
     "metadata": {},
     "output_type": "execute_result"
    }
   ],
   "source": [
    "fperf_sagh = os.path.join(data_dir, 'perf-sagh.pkl')\n",
    "print(fperf_sagh)\n",
    "pkl.dump(sagh_perf, open(fperf_sagh, 'wb'))\n",
    "pkl.load(open(fperf_sagh, 'rb'))[dataset_name]['Test']"
   ]
  },
  {
   "cell_type": "markdown",
   "metadata": {},
   "source": [
    "### Popularity based recommendation"
   ]
  },
  {
   "cell_type": "code",
   "execution_count": 31,
   "metadata": {},
   "outputs": [
    {
     "name": "stdout",
     "output_type": "stream",
     "text": [
      "9230 / 9233\n",
      "9233 / 9233\n"
     ]
    }
   ],
   "source": [
    "rps_pop = []\n",
    "hitrates_pop = {top: [] for top in TOPs}\n",
    "aucs_pop = []\n",
    "novelties_pop = {top: dict() for top in TOPs}\n",
    "artist_diversities_pop = {top: [] for top in TOPs}\n",
    "genre_diversities_pop = {top: [] for top in TOPs}\n",
    "np.random.seed(0)\n",
    "\n",
    "y_pred = np.array([song2pop_train[index2song[ix]] for ix in range(len(all_songs))])\n",
    "y_pred_prob = softmax(np.log(y_pred))\n",
    "spread_pop = -np.dot(y_pred_prob, np.log(y_pred_prob))\n",
    "sortix = np.argsort(-y_pred)\n",
    "\n",
    "assert Y_test.shape[1] == len(test_playlists)\n",
    "for j in range(Y_test.shape[1]):\n",
    "    if (j+1) % 10 == 0:\n",
    "        sys.stdout.write('\\r%d / %d' % (j+1, Y_test.shape[1]))\n",
    "        sys.stdout.flush()\n",
    "    y_true = Y_test[:, j].A.reshape(-1)\n",
    "    \n",
    "    # rp, hr_dict = calc_RPrecision_HitRate(y_true, y_pred, tops=TOPs)\n",
    "    rp, hr_dict, auc = calc_metrics(y_true, y_pred, tops=TOPs)\n",
    "    rps_pop.append(rp)\n",
    "    for top in TOPs:\n",
    "        hitrates_pop[top].append(hr_dict[top])\n",
    "    aucs_pop.append(auc)\n",
    "\n",
    "    # novelty\n",
    "    u = test_playlists[j][1]\n",
    "    for top in TOPs:\n",
    "        nov = np.mean([-np.log2(song2pop[index2song[ix]]) for ix in sortix[:top]])\n",
    "        try:\n",
    "            novelties_pop[top][u].append(nov)\n",
    "        except KeyError:\n",
    "            novelties_pop[top][u] = [nov]\n",
    "\n",
    "    # artist/genre diversity\n",
    "    for top in TOPs:\n",
    "        artist_vec = np.array([song2artist[index2song[ix]] if index2song[ix] in song2artist\n",
    "                               else str(np.random.rand()) for ix in sortix[:top]])\n",
    "        genre_vec = np.array([song2genre[index2song[ix]] if index2song[ix] in song2genre \\\n",
    "                              else str(np.random.rand()) for ix in sortix[:top]])\n",
    "        artist_diversities_pop[top].append( diversity(artist_vec) )\n",
    "        genre_diversities_pop[top].append( diversity(genre_vec) )\n",
    "    \n",
    "print('\\n%d / %d' % (len(rps_pop), Y_test.shape[1]))"
   ]
  },
  {
   "cell_type": "code",
   "execution_count": 32,
   "metadata": {},
   "outputs": [],
   "source": [
    "# fig = plt.figure(figsize=[20, 5])\n",
    "# ax1 = plt.subplot(131)\n",
    "# ax1.hist(rps_pop, bins=100)\n",
    "# ax1.set_yscale('log')\n",
    "# ax1.set_title('R-Precision')\n",
    "# #ax.set_xlim(0, xmax)\n",
    "# ax2 = plt.subplot(132)\n",
    "# ax2.hist(aucs_pop, bins=100)\n",
    "# ax2.set_yscale('log')\n",
    "# ax2.set_title('AUC')\n",
    "# pass"
   ]
  },
  {
   "cell_type": "code",
   "execution_count": 33,
   "metadata": {},
   "outputs": [
    {
     "data": {
      "text/plain": [
       "{'R-Precision': 0.009816267242690632,\n",
       " 'Hit-Rate': {5: 0.005094909581028886,\n",
       "  10: 0.009166222222606553,\n",
       "  20: 0.016499476426301812,\n",
       "  30: 0.022890268838475017,\n",
       "  50: 0.03419538096844783,\n",
       "  100: 0.05754969582098008,\n",
       "  200: 0.09576236300404181,\n",
       "  300: 0.1256562491294101,\n",
       "  500: 0.17588952940853056,\n",
       "  700: 0.21824406560655835,\n",
       "  1000: 0.2683455153982177},\n",
       " 'AUC': 0.9380712780510054,\n",
       " 'Spread': 10.51715942595781,\n",
       " 'Novelty': {5: -9.396369039336703,\n",
       "  10: -9.25592406191471,\n",
       "  20: -9.086312906471067,\n",
       "  30: -8.953573108138498,\n",
       "  50: -8.762863172195072,\n",
       "  100: -8.51010001395116,\n",
       "  200: -8.216316950717681,\n",
       "  300: -8.010798443060093,\n",
       "  500: -7.7365684821441265,\n",
       "  700: -7.552157246004768,\n",
       "  1000: -7.332702451596431},\n",
       " 'Artist-Diversity': {5: 1.0,\n",
       "  10: 1.0,\n",
       "  20: 0.9684210526315786,\n",
       "  30: 0.9793103448275863,\n",
       "  50: 0.9828571428571425,\n",
       "  100: 0.9856565656565657,\n",
       "  200: 0.9882412060301511,\n",
       "  300: 0.991415830546265,\n",
       "  500: 0.9932585170340681,\n",
       "  700: 0.9943020641733091,\n",
       "  1000: 0.9955795795795798},\n",
       " 'Genre-Diversity': {5: 0.6999999999999998,\n",
       "  10: 0.777777777777778,\n",
       "  20: 0.5210526315789473,\n",
       "  30: 0.5632183908045977,\n",
       "  50: 0.5942857142857143,\n",
       "  100: 0.5664646464646463,\n",
       "  200: 0.5520100502512564,\n",
       "  300: 0.5821404682274247,\n",
       "  500: 0.5696112224448899,\n",
       "  700: 0.5603801348865726,\n",
       "  1000: 0.5757117117117118}}"
      ]
     },
     "execution_count": 33,
     "metadata": {},
     "output_type": "execute_result"
    }
   ],
   "source": [
    "pop_perf = {dataset_name: {'Test': {'R-Precision': np.mean(rps_pop), \n",
    "                                    'Hit-Rate': {top: np.mean(hitrates_pop[top]) for top in TOPs},\n",
    "                                    'AUC': np.mean(aucs_pop),\n",
    "                                    'Spread': spread_pop,\n",
    "                                    'Novelty': {t: np.mean([np.mean(novelties_pop[t][u]) for u in novelties_pop[t]]) \n",
    "                                                for t in TOPs},\n",
    "                                    'Artist-Diversity': {top: np.mean(artist_diversities_pop[top]) for top in TOPs},\n",
    "                                    'Genre-Diversity': {top: np.mean(genre_diversities_pop[top]) for top in TOPs}},\n",
    "                           'Test_All': {'R-Precision': rps_pop, \n",
    "                                        'Hit-Rate': {top: hitrates_pop[top] for top in TOPs},\n",
    "                                        'AUC': aucs_pop,\n",
    "                                        'Spread': spread_pop,\n",
    "                                        'Novelty': novelties_pop,\n",
    "                                        'Artist-Diversity': artist_diversities_pop,\n",
    "                                        'Genre-Diversity': genre_diversities_pop}}}\n",
    "pop_perf[dataset_name]['Test']"
   ]
  },
  {
   "cell_type": "code",
   "execution_count": 34,
   "metadata": {},
   "outputs": [
    {
     "name": "stdout",
     "output_type": "stream",
     "text": [
      "data/aotm2011/coldstart/setting3/perf-pop.pkl\n"
     ]
    },
    {
     "data": {
      "text/plain": [
       "{'R-Precision': 0.009816267242690632,\n",
       " 'Hit-Rate': {5: 0.005094909581028886,\n",
       "  10: 0.009166222222606553,\n",
       "  20: 0.016499476426301812,\n",
       "  30: 0.022890268838475017,\n",
       "  50: 0.03419538096844783,\n",
       "  100: 0.05754969582098008,\n",
       "  200: 0.09576236300404181,\n",
       "  300: 0.1256562491294101,\n",
       "  500: 0.17588952940853056,\n",
       "  700: 0.21824406560655835,\n",
       "  1000: 0.2683455153982177},\n",
       " 'AUC': 0.9380712780510054,\n",
       " 'Spread': 10.51715942595781,\n",
       " 'Novelty': {5: -9.396369039336703,\n",
       "  10: -9.25592406191471,\n",
       "  20: -9.086312906471067,\n",
       "  30: -8.953573108138498,\n",
       "  50: -8.762863172195072,\n",
       "  100: -8.51010001395116,\n",
       "  200: -8.216316950717681,\n",
       "  300: -8.010798443060093,\n",
       "  500: -7.7365684821441265,\n",
       "  700: -7.552157246004768,\n",
       "  1000: -7.332702451596431},\n",
       " 'Artist-Diversity': {5: 1.0,\n",
       "  10: 1.0,\n",
       "  20: 0.9684210526315786,\n",
       "  30: 0.9793103448275863,\n",
       "  50: 0.9828571428571425,\n",
       "  100: 0.9856565656565657,\n",
       "  200: 0.9882412060301511,\n",
       "  300: 0.991415830546265,\n",
       "  500: 0.9932585170340681,\n",
       "  700: 0.9943020641733091,\n",
       "  1000: 0.9955795795795798},\n",
       " 'Genre-Diversity': {5: 0.6999999999999998,\n",
       "  10: 0.777777777777778,\n",
       "  20: 0.5210526315789473,\n",
       "  30: 0.5632183908045977,\n",
       "  50: 0.5942857142857143,\n",
       "  100: 0.5664646464646463,\n",
       "  200: 0.5520100502512564,\n",
       "  300: 0.5821404682274247,\n",
       "  500: 0.5696112224448899,\n",
       "  700: 0.5603801348865726,\n",
       "  1000: 0.5757117117117118}}"
      ]
     },
     "execution_count": 34,
     "metadata": {},
     "output_type": "execute_result"
    }
   ],
   "source": [
    "fperf_pop = os.path.join(data_dir, 'perf-pop.pkl')\n",
    "print(fperf_pop)\n",
    "pkl.dump(pop_perf, open(fperf_pop, 'wb'))\n",
    "pkl.load(open(fperf_pop, 'rb'))[dataset_name]['Test']"
   ]
  }
 ],
 "metadata": {
  "kernelspec": {
   "display_name": "Python 3",
   "language": "python",
   "name": "python3"
  },
  "language_info": {
   "codemirror_mode": {
    "name": "ipython",
    "version": 3
   },
   "file_extension": ".py",
   "mimetype": "text/x-python",
   "name": "python",
   "nbconvert_exporter": "python",
   "pygments_lexer": "ipython3",
   "version": "3.6.6"
  }
 },
 "nbformat": 4,
 "nbformat_minor": 2
}
