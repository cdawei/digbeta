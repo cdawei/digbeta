{
 "cells": [
  {
   "cell_type": "markdown",
   "metadata": {},
   "source": [
    "# Multi-label classification -- top-push loss"
   ]
  },
  {
   "cell_type": "code",
   "execution_count": 1,
   "metadata": {
    "collapsed": true
   },
   "outputs": [],
   "source": [
    "%matplotlib inline\n",
    "%load_ext line_profiler\n",
    "%load_ext autoreload\n",
    "%autoreload 2\n",
    "\n",
    "import os, sys, time\n",
    "import pickle as pkl\n",
    "import numpy as np\n",
    "import pandas as pd\n",
    "\n",
    "from scipy.optimize import minimize\n",
    "from scipy.optimize import check_grad\n",
    "\n",
    "from sklearn.base import BaseEstimator\n",
    "from sklearn.pipeline import make_pipeline\n",
    "from sklearn.model_selection import train_test_split\n",
    "from sklearn.model_selection import GridSearchCV\n",
    "from sklearn.metrics import classification_report\n",
    "\n",
    "import matplotlib.pyplot as plt\n",
    "import seaborn as sns"
   ]
  },
  {
   "cell_type": "code",
   "execution_count": 2,
   "metadata": {
    "collapsed": true
   },
   "outputs": [],
   "source": [
    "sys.path.append('src')\n",
    "from evaluate import avgPrecision, avgPrecisionK, printEvaluation\n",
    "from datasets import create_dataset_yeast_train, create_dataset_yeast_test, yeast_nLabels\n",
    "from datasets import create_dataset_scene_train, create_dataset_scene_test, scene_nLabels\n",
    "from datasets import create_dataset_mediamill_subset_train, create_dataset_mediamill_subset_test, mm_nLabels"
   ]
  },
  {
   "cell_type": "code",
   "execution_count": 3,
   "metadata": {
    "collapsed": true
   },
   "outputs": [],
   "source": [
    "datasets = ['yeast', 'scene', 'mediamill']\n",
    "num_labels = [yeast_nLabels, scene_nLabels, mm_nLabels]\n",
    "create_dataset_train_funcs = [create_dataset_yeast_train, \n",
    "                              create_dataset_scene_train, \n",
    "                              create_dataset_mediamill_subset_train]\n",
    "create_dataset_test_funcs  = [create_dataset_yeast_test,\n",
    "                              create_dataset_scene_test,\n",
    "                              create_dataset_mediamill_subset_test]"
   ]
  },
  {
   "cell_type": "code",
   "execution_count": 4,
   "metadata": {
    "collapsed": true
   },
   "outputs": [],
   "source": [
    "data_ix = 0"
   ]
  },
  {
   "cell_type": "code",
   "execution_count": 5,
   "metadata": {
    "collapsed": true
   },
   "outputs": [],
   "source": [
    "dataset_name = datasets[data_ix]\n",
    "nLabels = num_labels[data_ix]\n",
    "create_dataset_train = create_dataset_train_funcs[data_ix]\n",
    "create_dataset_test  = create_dataset_test_funcs [data_ix]"
   ]
  },
  {
   "cell_type": "markdown",
   "metadata": {},
   "source": [
    "The sigmoid function."
   ]
  },
  {
   "cell_type": "code",
   "execution_count": 6,
   "metadata": {
    "collapsed": true
   },
   "outputs": [],
   "source": [
    "def sigmoid(x):\n",
    "    return 1.0 / (1.0 + np.exp(-x))"
   ]
  },
  {
   "cell_type": "markdown",
   "metadata": {},
   "source": [
    "## top-push loss"
   ]
  },
  {
   "cell_type": "markdown",
   "metadata": {},
   "source": [
    "Multi-label learning with top push loss."
   ]
  },
  {
   "cell_type": "code",
   "execution_count": 7,
   "metadata": {
    "collapsed": true
   },
   "outputs": [],
   "source": [
    "def obj_top_push(w, X, Y, C):\n",
    "    \"\"\"\n",
    "        Objective with L2 regularisation and top push loss\n",
    "        \n",
    "        Input:\n",
    "            - w: current weight vector, flattened L x D\n",
    "            - X: feature matrix, N x D\n",
    "            - Y: label matrix,   N x K\n",
    "            - C: regularisation constant, is consistent with scikit-learn C = 1 / (N * \\lambda)\n",
    "                 if we normalise the objective J by dividing C, \\lambda = 1/C\n",
    "    \"\"\"\n",
    "    N, D = X.shape\n",
    "    K = Y.shape[1]\n",
    "    assert(w.shape[0] == N * K)\n",
    "    assert(C > 0)\n",
    "    \n",
    "    T = w.reshape(N, K)  # theta\n",
    "        \n",
    "    J = 0.0  # cost\n",
    "    G = np.zeros_like(T)  # gradient matrix\n",
    "    KPosAll = np.sum(Y, axis=1)  # number of positive labels for each example, N by 1\n",
    "    KNegAll = K - KPosAll        # number of negative labels for each example, N by 1\n",
    "    \n",
    "    for k in range(K):\n",
    "        y = Y[:, k]\n",
    "        \n",
    "        posVec = np.zeros(N, dtype=np.float)\n",
    "        negVec = np.zeros(N, dtype=np.float)\n",
    "        posVec[y == 1] = 1\n",
    "        negVec[y == 0] = 1\n",
    "        posVec = np.divide(posVec, KPosAll * N)  # 1 / NK+, N by 1\n",
    "        negVec = np.divide(negVec, KNegAll * N)  # 1 / NK-, N by 1\n",
    "        \n",
    "        a = np.multiply(T[:, k], posVec)  # alpha / NK+ if y_nk = 1 else 0\n",
    "        b = np.multiply(T[:, k], negVec)  # beta  / NK- if y_nk = 0 else 0\n",
    "        c = a + b  # gamma\n",
    "        d = np.sum(X * c[:, None], axis=0)\n",
    "        \n",
    "        t1 = T[y == 1, k]\n",
    "        p1 = posVec[y == 1]\n",
    "        s1 = -np.log(-t1)\n",
    "        s2 = np.log(1 + t1)\n",
    "        J += 0.5 * C * np.dot(d, d) + np.dot(a[y == 1], s1) + np.dot(p1, np.multiply(1+t1, s2))\n",
    "        \n",
    "        p2 = negVec[y == 0]\n",
    "        t2 = np.dot(X, d) * C\n",
    "        G[y == 1, k] = np.multiply(p1, t2[y == 1] + s1 + s2)\n",
    "        G[y == 0, k] = np.multiply(p2, t2[y == 0])\n",
    "        \n",
    "    return (J, G.ravel())"
   ]
  },
  {
   "cell_type": "code",
   "execution_count": 8,
   "metadata": {
    "collapsed": true
   },
   "outputs": [],
   "source": [
    "def obj_top_push_loop(w, X, Y, C):\n",
    "    \"\"\"\n",
    "        Objective with L2 regularisation and top push loss\n",
    "        \n",
    "        Input:\n",
    "            - w: current weight vector, flattened L x D\n",
    "            - X: feature matrix, N x D\n",
    "            - Y: label matrix,   N x K\n",
    "            - C: regularisation constant, is consistent with scikit-learn C = 1 / (N * \\lambda)\n",
    "                 if we normalise the objective J by dividing C, \\lambda = 1/C\n",
    "    \"\"\"\n",
    "    N, D = X.shape\n",
    "    K = Y.shape[1]\n",
    "    assert(w.shape[0] == N * K)\n",
    "    assert(C > 0)\n",
    "    \n",
    "    T = w.reshape(N, K)  # theta\n",
    "    \n",
    "    J = 0.0  # cost\n",
    "    G = np.zeros_like(T)  # gradient matrix\n",
    "    KPosAll = np.sum(Y, axis=1)  # number of positive labels for each example, N by 1\n",
    "    KNegAll = K - KPosAll        # number of negative labels for each example, N by 1\n",
    "    \n",
    "    for k in range(K):\n",
    "        y = Y[:, k]\n",
    "        \n",
    "        # cost\n",
    "        X1 = np.zeros_like(X)\n",
    "        for n in range(N):\n",
    "            t = T[n, k] / (N * KPosAll[n]) if y[n] == 1 else T[n, k] / (N * KNegAll[n])\n",
    "            X1[n, :] = X[n, :] * t\n",
    "        xs = np.sum(X1, axis=0)\n",
    "        J += np.dot(xs, xs) * 0.5 * C\n",
    "        #print(J)\n",
    "        \n",
    "        for n in range(N):\n",
    "            if y[n] == 1:\n",
    "                #print(T[n,k], n, k)\n",
    "                assert(T[n, k] < 0)\n",
    "                assert(T[n, k] + 1 > 0)\n",
    "                J += (-T[n, k] * np.log(-T[n, k]) + (1 + T[n, k]) * np.log(1 + T[n, k])) / (N * KPosAll[n])\n",
    "        \n",
    "        # gradient\n",
    "        for n in range(N):\n",
    "            if y[n] == 1:\n",
    "                ga = C * np.dot(np.sum(X1, axis=0), X[n, :]) - np.log(-T[n, k]) + np.log(1 + T[n, k])\n",
    "                G[n, k] = G[n, k] + ga / (N * KPosAll[n])\n",
    "            else:\n",
    "                gb = C * np.dot(np.sum(X1, axis=0), X[n, :])\n",
    "                G[n, k] = G[n, k] + gb / (N * KNegAll[n])\n",
    "        \n",
    "    return (J, G.ravel())"
   ]
  },
  {
   "cell_type": "code",
   "execution_count": 9,
   "metadata": {
    "collapsed": true
   },
   "outputs": [],
   "source": [
    "def dual2primal(w, X, Y, C):\n",
    "    \"\"\"\n",
    "        Compute primal variable values given dual variable values\n",
    "        \n",
    "        Input:\n",
    "            - w: current weight vector, flattened L x D\n",
    "            - X: feature matrix, N x D\n",
    "            - Y: label matrix,   N x K\n",
    "            - C: regularisation constant, is consistent with scikit-learn C = 1 / (N * \\lambda)\n",
    "                 if we normalise the objective J by dividing C, \\lambda = 1/C\n",
    "    \"\"\"\n",
    "    N, D = X.shape\n",
    "    K = Y.shape[1]\n",
    "    assert(w.shape[0] == N * K)\n",
    "    assert(C > 0)\n",
    "    \n",
    "    W = np.zeros((K, D), dtype=np.float)\n",
    "    T = w.reshape(N, K)  # theta\n",
    "    \n",
    "    KPosAll = np.sum(Y, axis=1)  # number of positive labels for each example, N by 1\n",
    "    KNegAll = K - KPosAll        # number of negative labels for each example, N by 1\n",
    "    \n",
    "    for k in range(K):\n",
    "        y = Y[:, k]\n",
    "        \n",
    "        posVec = np.zeros(N, dtype=np.float)\n",
    "        negVec = np.zeros(N, dtype=np.float)\n",
    "        posVec[y == 1] = 1\n",
    "        negVec[y == 0] = 1\n",
    "        posVec = np.divide(posVec, KPosAll / N)\n",
    "        negVec = np.divide(negVec, KNegAll / N)\n",
    "        \n",
    "        t = np.multiply(T[:, k], posVec) + np.multiply(T[:, k], negVec)  # gamma\n",
    "        W[k, :] = -C * np.sum(X * t[:, None], axis=0)\n",
    "        \n",
    "    return W"
   ]
  },
  {
   "cell_type": "code",
   "execution_count": 10,
   "metadata": {
    "collapsed": true
   },
   "outputs": [],
   "source": [
    "def dual2primal_loop(w, X, Y, C):\n",
    "    \"\"\"\n",
    "        Compute primal variable values given dual variable values\n",
    "        \n",
    "        Input:\n",
    "            - w: current weight vector, flattened L x D\n",
    "            - X: feature matrix, N x D\n",
    "            - Y: label matrix,   N x K\n",
    "            - C: regularisation constant, is consistent with scikit-learn C = 1 / (N * \\lambda)\n",
    "                 if we normalise the objective J by dividing C, \\lambda = 1/C\n",
    "    \"\"\"\n",
    "    N, D = X.shape\n",
    "    K = Y.shape[1]\n",
    "    assert(w.shape[0] == N * K)\n",
    "    assert(C > 0)\n",
    "    \n",
    "    W = np.zeros((K, D), dtype=np.float)\n",
    "    T = w.reshape(N, K)  # theta\n",
    "    \n",
    "    KPosAll = np.sum(Y, axis=1)  # number of positive labels for each example, N by 1\n",
    "    KNegAll = K - KPosAll        # number of negative labels for each example, N by 1\n",
    "    \n",
    "    for k in range(K):\n",
    "        y = Y[:, k]\n",
    "        X1 = X.copy()\n",
    "        for n in range(N):\n",
    "            t = T[n, k] / (N * KPosAll[n]) if y[n] == 1 else T[n, k] / (N * KNegAll[n])\n",
    "            X1[n, :] = X1[n, :] * t\n",
    "        W[k, :] = -C * np.sum(X1, axis=0)\n",
    "        \n",
    "    return W"
   ]
  },
  {
   "cell_type": "code",
   "execution_count": 11,
   "metadata": {
    "collapsed": true
   },
   "outputs": [],
   "source": [
    "#aa = np.array([0,1])\n",
    "#-1 * (2 * aa - 1)"
   ]
  },
  {
   "cell_type": "code",
   "execution_count": 12,
   "metadata": {
    "collapsed": true
   },
   "outputs": [],
   "source": [
    "def init_var(X, Y, seed=None):\n",
    "    \"\"\"\n",
    "        Initialise the dual variables\n",
    "        \n",
    "        Input:\n",
    "            - X: feature matrix, N x D\n",
    "            - Y: label matrix,   N x K\n",
    "        \n",
    "        Output:\n",
    "            - W: matrix with random numbers\n",
    "                 W_{n,k} \\in (-1,0) if Y_{n,k} = 1, \n",
    "                 W_{n,k} \\in (0, 1) if Y_{n,k} = 0.\n",
    "    \"\"\"\n",
    "    N, D = X.shape\n",
    "    K = Y.shape[1]\n",
    "    \n",
    "    I = -1 * (2 * Y - 1)\n",
    "    if seed is not None: np.random.seed(seed)\n",
    "    w0 = np.multiply(np.random.rand(N * K).reshape(N, K), I).ravel()\n",
    "    \n",
    "    return w0"
   ]
  },
  {
   "cell_type": "code",
   "execution_count": 13,
   "metadata": {
    "collapsed": true
   },
   "outputs": [],
   "source": [
    "def init_var_feasible(X, Y):\n",
    "    \"\"\"\n",
    "        Initialise the dual variables\n",
    "        \n",
    "        Input:\n",
    "            - X: feature matrix, N x D\n",
    "            - Y: label matrix,   N x K\n",
    "        \n",
    "        Output:\n",
    "            - W: matrix with real numbers that satisfy all constraints\n",
    "                 W_{n,k} \\in (-1,0) if Y_{n,k} = 1, \n",
    "                 W_{n,k} \\in (0, 1) if Y_{n,k} = 0.\n",
    "    \"\"\"\n",
    "    N, D = X.shape\n",
    "    K = Y.shape[1]\n",
    "    \n",
    "    #I = -1 * (2 * Y - 1)\n",
    "    #if seed is not None: np.random.seed(seed)\n",
    "    #w0 = np.multiply(np.random.rand(N * K).reshape(N, K), I).ravel()\n",
    "    #return w0\n",
    "    \n",
    "    # NOTE: \n",
    "    # simply let\n",
    "    # alpha_{n,k} = -v, 0 < v < 1\n",
    "    # beta_{n,k} = v\n",
    "    # will satisfy the equality constraints\n",
    "\n",
    "    I = -1 * (2 * Y - 1)\n",
    "    \n",
    "    return np.ravel(0.1 * I)"
   ]
  },
  {
   "cell_type": "code",
   "execution_count": 14,
   "metadata": {
    "collapsed": true
   },
   "outputs": [],
   "source": [
    "def obj_constraint(w, n, X, Y):\n",
    "    \"\"\"\n",
    "        Compute the constraints for top push loss\n",
    "        \n",
    "        Input:\n",
    "            - w: weights vector, N*K x 1\n",
    "            - n: the n-th constraint\n",
    "            - X: feature matrix, N x D\n",
    "            - Y: label matrix,   N x K\n",
    "        \n",
    "        Output:\n",
    "            - 0 if all equality constraits satisfy (equal to 0)\n",
    "            - 1 otherwise\n",
    "    \"\"\"\n",
    "    N, D = X.shape\n",
    "    K = Y.shape[1]\n",
    "    T = w.reshape(N, K)  # theta\n",
    "    assert 0 <= n < N\n",
    "    \n",
    "    KPos = np.sum(Y[n, :])  # number of positive labels for the n-th example\n",
    "    KNeg = K - KPos         # number of negative labels for the n-th example\n",
    "    yn = Y[n, :]\n",
    "    \n",
    "    return (np.sum(T[n, yn == 1]) / KPos + np.sum(T[n, yn == 0]) / KNeg) / N"
   ]
  },
  {
   "cell_type": "code",
   "execution_count": 15,
   "metadata": {
    "collapsed": true
   },
   "outputs": [],
   "source": [
    "def grad_constraint(w, n, X, Y):\n",
    "    \"\"\"\n",
    "        Compute the gradient of constraints for top push loss\n",
    "        \n",
    "        Input:\n",
    "            - w: weights vector, N*K x 1\n",
    "            - n: the n-th constraint\n",
    "            - X: feature matrix, N x D\n",
    "            - Y: label matrix,   N x K\n",
    "        \n",
    "        Output:\n",
    "            - an array of gradients\n",
    "    \"\"\"\n",
    "    N, D = X.shape\n",
    "    K = Y.shape[1]\n",
    "    T = w.reshape(N, K)  # theta\n",
    "    assert 0 <= n < N\n",
    "    \n",
    "    KPos = np.sum(Y[n, :])  # number of positive labels for the n-th example\n",
    "    KNeg = K - KPos         # number of negative labels for the n-th example\n",
    "    yn = Y[n, :]\n",
    "    \n",
    "    pos = np.zeros(K, dtype=np.float)\n",
    "    neg = np.zeros(K, dtype=np.float)\n",
    "    pos[yn == 1] = 1\n",
    "    neg[yn == 0] = 1\n",
    "    pos = np.divide(pos, KPos / N)\n",
    "    neg = np.divide(neg, KNeg / N)\n",
    "        \n",
    "    return pos + neg"
   ]
  },
  {
   "cell_type": "markdown",
   "metadata": {},
   "source": [
    "Check gradient"
   ]
  },
  {
   "cell_type": "code",
   "execution_count": 16,
   "metadata": {
    "collapsed": true
   },
   "outputs": [],
   "source": [
    "X_train, Y_train = create_dataset_train()\n",
    "X_test,  Y_test  = create_dataset_test()"
   ]
  },
  {
   "cell_type": "code",
   "execution_count": 17,
   "metadata": {},
   "outputs": [
    {
     "data": {
      "text/plain": [
       "(1500, 103)"
      ]
     },
     "execution_count": 17,
     "metadata": {},
     "output_type": "execute_result"
    }
   ],
   "source": [
    "X_train.shape"
   ]
  },
  {
   "cell_type": "code",
   "execution_count": 18,
   "metadata": {},
   "outputs": [],
   "source": [
    "%%script false\n",
    "# testing func\n",
    "def obj_func(w):\n",
    "    # f = xy + x^2\n",
    "    x = w[0]\n",
    "    y = w[1]\n",
    "    return (x*y + x*x, np.asarray([y + 2*x, x]))\n",
    "\n",
    "eps = 1.49e-08\n",
    "w0 = np.random.rand(2)\n",
    "w = np.zeros_like(w0)\n",
    "for i in range(len(w0)):\n",
    "    wi1 = w0.copy()\n",
    "    wi2 = w0.copy()\n",
    "    wi1[i] = wi1[i] - eps\n",
    "    wi2[i] = wi2[i] + eps\n",
    "    J1, _ = obj_func(wi1)\n",
    "    J2, _ = obj_func(wi2)\n",
    "    w[i] = (J2 - J1) / (2 * eps)\n",
    "J, w1 = obj_func(w0)\n",
    "wdiff = w1 - w\n",
    "print(np.dot(wdiff, wdiff))"
   ]
  },
  {
   "cell_type": "code",
   "execution_count": 19,
   "metadata": {},
   "outputs": [],
   "source": [
    "%%script false\n",
    "C = 1\n",
    "eps = 1.49e-08\n",
    "w0 = init_var(X_train[:100, :], Y_train[:100, :])\n",
    "w = np.zeros_like(w0)\n",
    "for i in range(len(w0)):\n",
    "    wi1 = w0.copy()\n",
    "    wi2 = w0.copy()\n",
    "    wi1[i] = wi1[i] - eps\n",
    "    wi2[i] = wi2[i] + eps\n",
    "    J1, _ = obj_top_push_loop(wi1, X_train[:100, :], Y_train[:100, :], C)\n",
    "    J2, _ = obj_top_push_loop(wi2, X_train[:100, :], Y_train[:100, :], C)\n",
    "    w[i] = (J2 - J1) / (2 * eps)\n",
    "    #print(w[i])\n",
    "J, w1 = obj_top_push_loop(w0, X_train[:100, :], Y_train[:100, :], C)\n",
    "diff = w1 - w\n",
    "np.dot(diff, diff)"
   ]
  },
  {
   "cell_type": "code",
   "execution_count": 20,
   "metadata": {},
   "outputs": [],
   "source": [
    "%%script false\n",
    "C = 1\n",
    "w0 = init_var(X_train[:100, :], Y_train[:100, :])\n",
    "check_grad(lambda w: obj_top_push_loop(w, X_train[:100, :], Y_train[:100, :], C)[0], \n",
    "           lambda w: obj_top_push_loop(w, X_train[:100, :], Y_train[:100, :], C)[1], w0)"
   ]
  },
  {
   "cell_type": "code",
   "execution_count": 21,
   "metadata": {},
   "outputs": [],
   "source": [
    "%%script false\n",
    "N = X_train.shape[0]\n",
    "K = Y_train.shape[1]\n",
    "print('%15s %15s %15s %15s' % ('J_Diff', 'J_loop', 'J_vec', 'G_Diff'))\n",
    "for e in range(-6, 10):\n",
    "    C = 10**(e)\n",
    "    w0 = init_var(X_train, Y_train)\n",
    "    J,  G  = obj_top_push_loop(w0, X_train, Y_train, C)\n",
    "    J1, G1 = obj_top_push(w0, X_train, Y_train, C)\n",
    "    Gdiff = G1 - G\n",
    "    #print('%-15g %-15g %-15g' % (J1 - J, J, J1))\n",
    "    print('%15g %15g %15g %15g' % (J1 - J, J, J1, np.dot(Gdiff, Gdiff)))"
   ]
  },
  {
   "cell_type": "code",
   "execution_count": 22,
   "metadata": {},
   "outputs": [],
   "source": [
    "%%script false\n",
    "C = 1\n",
    "w0 = init_var(X_train, Y_train)\n",
    "check_grad(lambda w: obj_top_push(w, X_train, Y_train, C)[0], \n",
    "           lambda w: obj_top_push(w, X_train, Y_train, C)[1], w0)\n",
    "#%lprun -f obj_top_push check_grad(lambda w: obj_top_push(w, X_train, Y_train, C)[0], \\\n",
    "#                                  lambda w: obj_top_push(w, X_train, Y_train, C)[1], w0)"
   ]
  },
  {
   "cell_type": "code",
   "execution_count": 23,
   "metadata": {},
   "outputs": [],
   "source": [
    "#w0 = init_var(X_train[:100, :], Y_train[:100, :])\n",
    "#check_grad(lambda w: obj_constraint(w, 0, X_train[:100, :], Y_train[:100, :]), \n",
    "#           lambda w: grad_constraint(w, 0, X_train[:100, :], Y_train[:100, :]), w0)"
   ]
  },
  {
   "cell_type": "code",
   "execution_count": 24,
   "metadata": {},
   "outputs": [
    {
     "data": {
      "text/plain": [
       "(1500, 103)"
      ]
     },
     "execution_count": 24,
     "metadata": {},
     "output_type": "execute_result"
    }
   ],
   "source": [
    "X_train.shape"
   ]
  },
  {
   "cell_type": "code",
   "execution_count": 25,
   "metadata": {},
   "outputs": [
    {
     "data": {
      "text/plain": [
       "(1500, 14)"
      ]
     },
     "execution_count": 25,
     "metadata": {},
     "output_type": "execute_result"
    }
   ],
   "source": [
    "Y_train.shape"
   ]
  },
  {
   "cell_type": "code",
   "execution_count": 28,
   "metadata": {
    "collapsed": true
   },
   "outputs": [],
   "source": [
    "class MLC_toppush(BaseEstimator):\n",
    "    \"\"\"All methods are necessary for a scikit-learn estimator\"\"\"\n",
    "    \n",
    "    def __init__(self, p=1, C=1):\n",
    "        \"\"\"Initialisation\"\"\"\n",
    "        \n",
    "        assert C > 0\n",
    "        self.C = C\n",
    "        self.trained = False\n",
    "        \n",
    "    def fit(self, X_train, Y_train):\n",
    "        \"\"\"Model fitting by optimising the objective\"\"\"\n",
    "        \n",
    "        opt_method = 'SLSQP'\n",
    "        options = {'disp': True}\n",
    "        if options['disp']: \n",
    "            print('\\nC: %g' % self.C)\n",
    "            \n",
    "        N = X_train.shape[0]\n",
    "        \n",
    "        # NOTE: initial point should be feasible, otherwise optimisation will fail\n",
    "        w0 = init_var_feasible(X_train, Y_train)\n",
    "        bnds = [(-1, 0) if wi < 0 else (0, None) for wi in w0]\n",
    "        cons = [{'type': 'eq', 'fun': obj_constraint, #'jac': grad_constraint, \\\n",
    "                 'args': (n, X_train, Y_train)} for n in range(N)]\n",
    "        #obj_func = obj_top_push_loop\n",
    "        obj_func = obj_top_push\n",
    "        opt = minimize(obj_func, w0, args=(X_train, Y_train, self.C), method=opt_method, \\\n",
    "                       jac=True, bounds=bnds, constraints=cons, options=options)\n",
    "        #print(opt.success)\n",
    "        #print(type(opt.success))\n",
    "        #print(opt.success == np.True_)\n",
    "        # NOTE: opt.success is of type 'numpy.bool_' which is different from python bool\n",
    "        #if opt.success is True:\n",
    "        if opt.success is np.True_:        \n",
    "            self.W = dual2primal(opt.x, X_train, Y_train, self.C)\n",
    "            self.trained = True\n",
    "        else:\n",
    "            sys.stderr.write('Optimisation failed: \\n')\n",
    "            #print(opt.items())\n",
    "            self.trained = False\n",
    "            \n",
    "            \n",
    "    def decision_function(self, X_test):\n",
    "        \"\"\"Make predictions (score is real number)\"\"\"\n",
    "        \n",
    "        assert self.trained is True, \"Can't make prediction before training\"\n",
    "        D = X_test.shape[1]\n",
    "        return np.dot(X_test, self.W.T)\n",
    "        \n",
    "    \n",
    "    def predict(self, X_test):\n",
    "        \"\"\"Make predictions (score is boolean)\"\"\"\n",
    "        \n",
    "        preds = self.decision_function(X_test)\n",
    "        return (preds > 0)\n",
    "    \n",
    "    \n",
    "    def score(self, X, Y):\n",
    "        \"\"\"Compute scoring metric\"\"\"\n",
    "        \n",
    "        allPreds = self.decision_function(X)\n",
    "        return avgPrecisionK(Y, allPreds)\n",
    "    \n",
    "    # inherit from BaseEstimator instead of re-implement\n",
    "    #\n",
    "    #def get_params(self, deep = True):\n",
    "    #def set_params(self, **params):"
   ]
  },
  {
   "cell_type": "code",
   "execution_count": 30,
   "metadata": {},
   "outputs": [
    {
     "name": "stdout",
     "output_type": "stream",
     "text": [
      "\n",
      "C: 1\n",
      "Optimization terminated successfully.    (Exit mode 0)\n",
      "            Current function value: -0.6923216901189575\n",
      "            Iterations: 8\n",
      "            Function evaluations: 8\n",
      "            Gradient evaluations: 8\n"
     ]
    }
   ],
   "source": [
    "model = MLC_toppush()\n",
    "model.fit(X_train[:100], Y_train[:100])"
   ]
  },
  {
   "cell_type": "code",
   "execution_count": null,
   "metadata": {
    "scrolled": true
   },
   "outputs": [],
   "source": [
    "parameters = [{'C': [10**(e) for e in range(-6,-1)]}]\n",
    "\n",
    "clf = GridSearchCV(MLC_toppush(), parameters, cv=5, n_jobs=1)\n",
    "clf.fit(X_train[:100], Y_train[:100])\n",
    "\n",
    "print(\"\\nBest parameters set found on development set:\")\n",
    "print(clf.best_params_)"
   ]
  },
  {
   "cell_type": "code",
   "execution_count": null,
   "metadata": {
    "collapsed": true
   },
   "outputs": [],
   "source": [
    "for mean, std, params in zip(clf.cv_results_['mean_test_score'], clf.cv_results_['std_test_score'], \\\n",
    "                             clf.cv_results_['params']):\n",
    "    print(\"%0.3f (+/-%0.03f) for %r\" % (mean, std * 2, params))"
   ]
  },
  {
   "cell_type": "code",
   "execution_count": null,
   "metadata": {
    "collapsed": true
   },
   "outputs": [],
   "source": [
    "preds_train = clf.decision_function(X_train)\n",
    "preds_test  = clf.decision_function(X_test)"
   ]
  },
  {
   "cell_type": "code",
   "execution_count": null,
   "metadata": {
    "collapsed": true
   },
   "outputs": [],
   "source": [
    "print('Training set:')\n",
    "printEvaluation(Y_train, preds_train)\n",
    "print()\n",
    "print('Test set:')\n",
    "printEvaluation(Y_test, preds_test)"
   ]
  },
  {
   "cell_type": "markdown",
   "metadata": {},
   "source": [
    "## Result analysis"
   ]
  },
  {
   "cell_type": "code",
   "execution_count": null,
   "metadata": {
    "collapsed": true
   },
   "outputs": [],
   "source": [
    "precisions_train = [avgPrecision(Y_train, preds_train, k) for k in range(1, nLabels+1)]\n",
    "precisions_test  = [avgPrecision(Y_test,  preds_test,  k) for k in range(1, nLabels+1)]"
   ]
  },
  {
   "cell_type": "code",
   "execution_count": null,
   "metadata": {
    "collapsed": true
   },
   "outputs": [],
   "source": [
    "precisionK_train = avgPrecisionK(Y_train, preds_train)\n",
    "precisionK_test  = avgPrecisionK(Y_test,  preds_test)"
   ]
  },
  {
   "cell_type": "code",
   "execution_count": null,
   "metadata": {
    "collapsed": true
   },
   "outputs": [],
   "source": [
    "plt.figure(figsize=[10,5])\n",
    "plt.plot(precisions_train, ls='--', c='r', label='Train')\n",
    "plt.plot(precisions_test,  ls='-',  c='g', label='Test')\n",
    "plt.plot([precisionK_train for k in range(nLabels)], ls='-', c='r', label='Train, Precision@K')\n",
    "plt.plot([precisionK_test  for k in range(nLabels)], ls='-', c='g', label='Test, Precision@K')\n",
    "plt.xticks(np.arange(nLabels), np.arange(1,nLabels+1))\n",
    "plt.xlabel('k')\n",
    "plt.ylabel('Precision@k')\n",
    "plt.legend(loc='best')\n",
    "plt.title('MLC w. Top-push Loss on ' + dataset_name + ' dataset')\n",
    "plt.savefig(dataset_name + '_tp.svg')"
   ]
  }
 ],
 "metadata": {
  "kernelspec": {
   "display_name": "Python 3",
   "language": "python",
   "name": "python3"
  },
  "language_info": {
   "codemirror_mode": {
    "name": "ipython",
    "version": 3
   },
   "file_extension": ".py",
   "mimetype": "text/x-python",
   "name": "python",
   "nbconvert_exporter": "python",
   "pygments_lexer": "ipython3",
   "version": "3.6.3"
  }
 },
 "nbformat": 4,
 "nbformat_minor": 2
}
