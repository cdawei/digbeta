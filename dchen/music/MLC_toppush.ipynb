{
 "cells": [
  {
   "cell_type": "markdown",
   "metadata": {},
   "source": [
    "# Multi-label classification -- top-push loss"
   ]
  },
  {
   "cell_type": "code",
   "execution_count": 1,
   "metadata": {},
   "outputs": [],
   "source": [
    "%matplotlib inline\n",
    "%load_ext line_profiler\n",
    "%load_ext autoreload\n",
    "%autoreload 2\n",
    "\n",
    "import os, sys, time\n",
    "import pickle as pkl\n",
    "import numpy as np\n",
    "import pandas as pd\n",
    "\n",
    "from scipy.optimize import minimize\n",
    "from scipy.optimize import check_grad\n",
    "\n",
    "from sklearn.base import BaseEstimator\n",
    "from sklearn.pipeline import make_pipeline\n",
    "from sklearn.model_selection import train_test_split\n",
    "from sklearn.model_selection import GridSearchCV\n",
    "from sklearn.metrics import classification_report\n",
    "\n",
    "import matplotlib.pyplot as plt\n",
    "import seaborn as sns"
   ]
  },
  {
   "cell_type": "code",
   "execution_count": 2,
   "metadata": {
    "collapsed": true
   },
   "outputs": [],
   "source": [
    "sys.path.append('src')\n",
    "from evaluate import avgPrecision, avgPrecisionK, printEvaluation\n",
    "from datasets import create_dataset_yeast_train, create_dataset_yeast_test, yeast_nLabels\n",
    "from datasets import create_dataset_scene_train, create_dataset_scene_test, scene_nLabels\n",
    "from datasets import create_dataset_mediamill_subset_train, create_dataset_mediamill_subset_test, mm_nLabels"
   ]
  },
  {
   "cell_type": "code",
   "execution_count": 3,
   "metadata": {
    "collapsed": true
   },
   "outputs": [],
   "source": [
    "datasets = ['yeast', 'scene', 'mediamill']\n",
    "num_labels = [yeast_nLabels, scene_nLabels, mm_nLabels]\n",
    "create_dataset_train_funcs = [create_dataset_yeast_train, \n",
    "                              create_dataset_scene_train, \n",
    "                              create_dataset_mediamill_subset_train]\n",
    "create_dataset_test_funcs  = [create_dataset_yeast_test,\n",
    "                              create_dataset_scene_test,\n",
    "                              create_dataset_mediamill_subset_test]"
   ]
  },
  {
   "cell_type": "code",
   "execution_count": 4,
   "metadata": {
    "collapsed": true
   },
   "outputs": [],
   "source": [
    "data_ix = 0"
   ]
  },
  {
   "cell_type": "code",
   "execution_count": 5,
   "metadata": {
    "collapsed": true
   },
   "outputs": [],
   "source": [
    "dataset_name = datasets[data_ix]\n",
    "nLabels = num_labels[data_ix]\n",
    "create_dataset_train = create_dataset_train_funcs[data_ix]\n",
    "create_dataset_test  = create_dataset_test_funcs [data_ix]"
   ]
  },
  {
   "cell_type": "markdown",
   "metadata": {},
   "source": [
    "The sigmoid function."
   ]
  },
  {
   "cell_type": "code",
   "execution_count": 6,
   "metadata": {
    "collapsed": true
   },
   "outputs": [],
   "source": [
    "def sigmoid(x):\n",
    "    return 1.0 / (1.0 + np.exp(-x))"
   ]
  },
  {
   "cell_type": "markdown",
   "metadata": {},
   "source": [
    "## top-push loss"
   ]
  },
  {
   "cell_type": "markdown",
   "metadata": {},
   "source": [
    "Multi-label learning with top push loss."
   ]
  },
  {
   "cell_type": "code",
   "execution_count": 7,
   "metadata": {
    "collapsed": true
   },
   "outputs": [],
   "source": [
    "def obj_top_push(w, X, Y, C):\n",
    "    \"\"\"\n",
    "        Objective with L2 regularisation and top push loss\n",
    "        \n",
    "        Input:\n",
    "            - w: current weight vector, flattened L x D\n",
    "            - X: feature matrix, N x D\n",
    "            - Y: label matrix,   N x K\n",
    "            - C: regularisation constant, is consistent with scikit-learn C = 1 / (N * \\lambda)\n",
    "                 if we normalise the objective J by dividing C, \\lambda = 1/C\n",
    "    \"\"\"\n",
    "    N, D = X.shape\n",
    "    K = Y.shape[1]\n",
    "    assert(w.shape[0] == N * K)\n",
    "    assert(C > 0)\n",
    "    \n",
    "    T = w.reshape(N, K)  # theta\n",
    "        \n",
    "    J = 0.0  # cost\n",
    "    G = np.zeros_like(T)  # gradient matrix\n",
    "    nPosAll = np.sum(Y, axis=1)  # number of positive labels for each example, N by 1\n",
    "    nNegAll = K - nPosAll        # number of negative labels for each example, N by 1\n",
    "    \n",
    "    for k in range(K):\n",
    "        y = Y[:, k]\n",
    "        \n",
    "        posVec = np.zeros(N, dtype=np.float)\n",
    "        negVec = np.zeros(N, dtype=np.float)\n",
    "        posVec[y == 1] = 1\n",
    "        negVec[y == 0] = 1\n",
    "        posVec = np.divide(posVec, nPosAll * N)  # 1 / NK+, N by 1\n",
    "        negVec = np.divide(negVec, nNegAll * N)  # 1 / NK-, N by 1\n",
    "        \n",
    "        a = np.multiply(T[:, k], posVec)  # alpha / NK+ if y_nk = 1 else 0\n",
    "        b = np.multiply(T[:, k], negVec)  # beta  / NK- if y_nk = 0 else 0\n",
    "        c = a + b  # gamma\n",
    "        d = np.sum(X * c[:, None], axis=0)\n",
    "        \n",
    "        t1 = T[y == 1, k]\n",
    "        p1 = posVec[y == 1]\n",
    "        s1 = -np.log(-t1)\n",
    "        s2 = np.log(1 + t1)\n",
    "        J += 0.5 * C * np.dot(d, d) + np.dot(a[y == 1], s1) + np.dot(p1, np.multiply(1+t1, s2))\n",
    "        \n",
    "        p2 = negVec[y == 0]\n",
    "        t2 = np.dot(X, d) * C\n",
    "        G[y == 1, k] = np.multiply(p1, t2[y == 1] + s1 + s2)\n",
    "        G[y == 0, k] = np.multiply(p2, t2[y == 0])\n",
    "        \n",
    "    return (J, G.ravel())"
   ]
  },
  {
   "cell_type": "code",
   "execution_count": 8,
   "metadata": {
    "collapsed": true
   },
   "outputs": [],
   "source": [
    "def obj_top_push_loop(w, X, Y, C):\n",
    "    \"\"\"\n",
    "        Objective with L2 regularisation and top push loss\n",
    "        \n",
    "        Input:\n",
    "            - w: current weight vector, flattened L x D\n",
    "            - X: feature matrix, N x D\n",
    "            - Y: label matrix,   N x K\n",
    "            - C: regularisation constant, is consistent with scikit-learn C = 1 / (N * \\lambda)\n",
    "                 if we normalise the objective J by dividing C, \\lambda = 1/C\n",
    "    \"\"\"\n",
    "    N, D = X.shape\n",
    "    K = Y.shape[1]\n",
    "    assert(w.shape[0] == N * K)\n",
    "    assert(C > 0)\n",
    "    \n",
    "    T = w.reshape(N, K)  # theta\n",
    "    \n",
    "    J = 0.0  # cost\n",
    "    G = np.zeros_like(T)  # gradient matrix\n",
    "    KPosAll = np.sum(Y, axis=1)  # number of positive labels for each example, N by 1\n",
    "    KNegAll = K - KPosAll        # number of negative labels for each example, N by 1\n",
    "    \n",
    "    for k in range(K):\n",
    "        y = Y[:, k]\n",
    "        \n",
    "        # cost\n",
    "        X1 = np.zeros_like(X)\n",
    "        for n in range(N):\n",
    "            t = T[n, k] / (N * KPosAll[n]) if y[n] == 1 else T[n, k] / (N * KNegAll[n])\n",
    "            X1[n, :] = X[n, :] * t\n",
    "        xs = np.sum(X1, axis=0)\n",
    "        J += np.dot(xs, xs) * 0.5 * C\n",
    "        #print(J)\n",
    "        \n",
    "        for n in range(N):\n",
    "            if y[n] == 1:\n",
    "                #print(T[n,k], n, k)\n",
    "                assert(T[n, k] < 0)\n",
    "                J += (-T[n, k] * np.log(-T[n, k]) + (1 + T[n, k]) * np.log(1 + T[n, k])) / (N * KPosAll[n])\n",
    "        \n",
    "        # gradient\n",
    "        for n in range(N):\n",
    "            if y[n] == 1:\n",
    "                ga = C * np.dot(np.sum(X1, axis=0), X[n, :]) - np.log(-T[n, k]) + np.log(1 + T[n, k])\n",
    "                G[n, k] = G[n, k] + ga / (N * KPosAll[n])\n",
    "            else:\n",
    "                gb = C * np.dot(np.sum(X1, axis=0), X[n, :])\n",
    "                G[n, k] = G[n, k] + gb / (N * KNegAll[n])\n",
    "        \n",
    "    return (J, G.ravel())"
   ]
  },
  {
   "cell_type": "code",
   "execution_count": 9,
   "metadata": {
    "collapsed": true
   },
   "outputs": [],
   "source": [
    "def dual2primal(w, X, Y, C):\n",
    "    \"\"\"\n",
    "        Compute primal variable values given dual variable values\n",
    "        \n",
    "        Input:\n",
    "            - w: current weight vector, flattened L x D\n",
    "            - X: feature matrix, N x D\n",
    "            - Y: label matrix,   N x K\n",
    "            - C: regularisation constant, is consistent with scikit-learn C = 1 / (N * \\lambda)\n",
    "                 if we normalise the objective J by dividing C, \\lambda = 1/C\n",
    "    \"\"\"\n",
    "    N, D = X.shape\n",
    "    K = Y.shape[1]\n",
    "    assert(w.shape[0] == N * K)\n",
    "    assert(C > 0)\n",
    "    \n",
    "    W = np.zeros(K, D)\n",
    "    T = w.reshape(N, K)  # theta\n",
    "    \n",
    "    nPosAll = np.sum(Y, axis=1)  # number of positive labels for each example, N by 1\n",
    "    nNegAll = L - nPosAll        # number of negative labels for each example, N by 1\n",
    "    \n",
    "    for k in range(K):\n",
    "        y = Y[:, k]\n",
    "        \n",
    "        posVec = np.zeros(N, dtype=np.float)\n",
    "        negVec = np.zeros(N, dtype=np.float)\n",
    "        posVec[y == 1] = 1\n",
    "        negVec[y == 0] = 1\n",
    "        posVec = np.divide(posVec, nPosAll / N)\n",
    "        negVec = np.divide(negVec, nNegAll / N)\n",
    "        \n",
    "        t = np.multiply(T[:, k], posVec) + np.multiply(T[:, k], negVec)  # gamma\n",
    "        W[k, :] = -C * np.sum(X * t[:, None], axis=0)\n",
    "        \n",
    "    return W"
   ]
  },
  {
   "cell_type": "code",
   "execution_count": 10,
   "metadata": {
    "collapsed": true
   },
   "outputs": [],
   "source": [
    "def dual2primal_loop(w, X, Y, C):\n",
    "    \"\"\"\n",
    "        Compute primal variable values given dual variable values\n",
    "        \n",
    "        Input:\n",
    "            - w: current weight vector, flattened L x D\n",
    "            - X: feature matrix, N x D\n",
    "            - Y: label matrix,   N x K\n",
    "            - C: regularisation constant, is consistent with scikit-learn C = 1 / (N * \\lambda)\n",
    "                 if we normalise the objective J by dividing C, \\lambda = 1/C\n",
    "    \"\"\"\n",
    "    N, D = X.shape\n",
    "    K = Y.shape[1]\n",
    "    assert(w.shape[0] == N * K)\n",
    "    assert(C > 0)\n",
    "    \n",
    "    W = np.zeros(K, D)\n",
    "    T = w.reshape(N, K)  # theta\n",
    "    \n",
    "    KPosAll = np.sum(Y, axis=1)  # number of positive labels for each example, N by 1\n",
    "    KNegAll = L - KPosAll        # number of negative labels for each example, N by 1\n",
    "    \n",
    "    for k in range(K):\n",
    "        y = Y[:, k]\n",
    "        X1 = X.copy()\n",
    "        for n in range(N):\n",
    "            t = T[n, k] / (N * KPosAll[n]) if y[n] == 1 else T[n, k] / (N * KNegAll[n])\n",
    "            X1[n, :] = X1[n, :] * t\n",
    "        W[k, :] = -C * np.sum(X1, axis=0)\n",
    "        \n",
    "    return W"
   ]
  },
  {
   "cell_type": "code",
   "execution_count": 11,
   "metadata": {},
   "outputs": [],
   "source": [
    "#aa = np.array([0,1])\n",
    "#-1 * (2 * aa - 1)"
   ]
  },
  {
   "cell_type": "code",
   "execution_count": 12,
   "metadata": {
    "collapsed": true
   },
   "outputs": [],
   "source": [
    "def initVar(X, Y, seed=None):\n",
    "    \"\"\"\n",
    "        Initialise the dual variables\n",
    "        \n",
    "        Input:\n",
    "            - X: feature matrix, N x D\n",
    "            - Y: label matrix,   N x K\n",
    "        \n",
    "        Output:\n",
    "            - W: matrix with random numbers \n",
    "                 W_{n,k} \\in (-1,0) if Y_{n,k} = 1, \n",
    "                 W_{n,k} \\in (0, 1) if Y_{n,k} = 0.\n",
    "    \"\"\"\n",
    "    N, D = X.shape\n",
    "    K = Y.shape[1]\n",
    "    \n",
    "    I = -1 * (2 * Y - 1)\n",
    "    \n",
    "    if seed is not None: \n",
    "        np.random.seed(seed)\n",
    "    \n",
    "    return np.multiply(np.random.rand(N * K).reshape(N, K), I).ravel()"
   ]
  },
  {
   "cell_type": "markdown",
   "metadata": {},
   "source": [
    "Check gradient"
   ]
  },
  {
   "cell_type": "code",
   "execution_count": 13,
   "metadata": {
    "collapsed": true
   },
   "outputs": [],
   "source": [
    "X_train, Y_train = create_dataset_train()\n",
    "X_test,  Y_test  = create_dataset_test()"
   ]
  },
  {
   "cell_type": "code",
   "execution_count": 14,
   "metadata": {},
   "outputs": [
    {
     "data": {
      "text/plain": [
       "(1500, 103)"
      ]
     },
     "execution_count": 14,
     "metadata": {},
     "output_type": "execute_result"
    }
   ],
   "source": [
    "X_train.shape"
   ]
  },
  {
   "cell_type": "code",
   "execution_count": 15,
   "metadata": {},
   "outputs": [
    {
     "name": "stdout",
     "output_type": "stream",
     "text": [
      "1.36932887022e-18\n"
     ]
    }
   ],
   "source": [
    "# testing func\n",
    "def obj_func(w):\n",
    "    # f = xy + x^2\n",
    "    x = w[0]\n",
    "    y = w[1]\n",
    "    return (x*y + x*x, np.asarray([y + 2*x, x]))\n",
    "\n",
    "eps = 1.49e-08\n",
    "w0 = np.random.rand(2)\n",
    "w = np.zeros_like(w0)\n",
    "for i in range(len(w0)):\n",
    "    wi1 = w0.copy()\n",
    "    wi2 = w0.copy()\n",
    "    wi1[i] = wi1[i] - eps\n",
    "    wi2[i] = wi2[i] + eps\n",
    "    J1, _ = obj_func(wi1)\n",
    "    J2, _ = obj_func(wi2)\n",
    "    w[i] = (J2 - J1) / (2 * eps)\n",
    "J, w1 = obj_func(w0)\n",
    "wdiff = w1 - w\n",
    "print(np.dot(wdiff, wdiff))"
   ]
  },
  {
   "cell_type": "code",
   "execution_count": 16,
   "metadata": {},
   "outputs": [
    {
     "data": {
      "text/plain": [
       "3.0664722752211736e-15"
      ]
     },
     "execution_count": 16,
     "metadata": {},
     "output_type": "execute_result"
    }
   ],
   "source": [
    "C = 1\n",
    "eps = 1.49e-08\n",
    "w0 = initVar(X_train[:100, :], Y_train[:100, :])\n",
    "w = np.zeros_like(w0)\n",
    "for i in range(len(w0)):\n",
    "    wi1 = w0.copy()\n",
    "    wi2 = w0.copy()\n",
    "    wi1[i] = wi1[i] - eps\n",
    "    wi2[i] = wi2[i] + eps\n",
    "    J1, _ = obj_top_push_loop(wi1, X_train[:100, :], Y_train[:100, :], C)\n",
    "    J2, _ = obj_top_push_loop(wi2, X_train[:100, :], Y_train[:100, :], C)\n",
    "    w[i] = (J2 - J1) / (2 * eps)\n",
    "    #print(w[i])\n",
    "J, w1 = obj_top_push_loop(w0, X_train[:100, :], Y_train[:100, :], C)\n",
    "diff = w1 - w\n",
    "np.dot(diff, diff)"
   ]
  },
  {
   "cell_type": "code",
   "execution_count": 17,
   "metadata": {},
   "outputs": [
    {
     "data": {
      "text/plain": [
       "6.9814120533485693e-08"
      ]
     },
     "execution_count": 17,
     "metadata": {},
     "output_type": "execute_result"
    }
   ],
   "source": [
    "C = 1\n",
    "w0 = initVar(X_train[:100, :], Y_train[:100, :])\n",
    "check_grad(lambda w: obj_top_push_loop(w, X_train[:100, :], Y_train[:100, :], C)[0], \n",
    "           lambda w: obj_top_push_loop(w, X_train[:100, :], Y_train[:100, :], C)[1], w0)"
   ]
  },
  {
   "cell_type": "code",
   "execution_count": 18,
   "metadata": {},
   "outputs": [
    {
     "data": {
      "text/plain": [
       "1.0695865106720472e-07"
      ]
     },
     "execution_count": 18,
     "metadata": {},
     "output_type": "execute_result"
    }
   ],
   "source": [
    "C = 1\n",
    "w0 = initVar(X_train[:100, :], Y_train[:100, :])\n",
    "check_grad(lambda w: obj_top_push(w, X_train[:100, :], Y_train[:100, :], C)[0], \n",
    "           lambda w: obj_top_push(w, X_train[:100, :], Y_train[:100, :], C)[1], w0)\n",
    "#%lprun -f obj_top_push check_grad(lambda w: obj_top_push(w, X_train, Y_train, C)[0], \\\n",
    "#                                  lambda w: obj_top_push(w, X_train, Y_train, C)[1], w0)"
   ]
  },
  {
   "cell_type": "code",
   "execution_count": 19,
   "metadata": {},
   "outputs": [
    {
     "name": "stdout",
     "output_type": "stream",
     "text": [
      "         J_Diff          J_loop           J_vec          G_Diff\n",
      "   -2.33147e-15       -0.505574       -0.505574     3.67793e-36\n",
      "    7.21645e-16       -0.499802       -0.499802     3.52158e-36\n",
      "   -3.33067e-16       -0.502555       -0.502555     3.45933e-36\n",
      "   -7.77156e-16       -0.500039       -0.500039     3.56885e-36\n",
      "    2.22045e-15       -0.497506       -0.497506     3.49379e-36\n",
      "    4.44089e-16       -0.504511       -0.504511     3.89773e-36\n",
      "   -5.55112e-16       -0.502103       -0.502103     3.41304e-36\n",
      "   -3.33067e-16        -0.49891        -0.49891     3.42844e-36\n",
      "    8.32667e-16       -0.472686       -0.472686     4.67081e-36\n",
      "   -7.21645e-16       -0.205267       -0.205267     3.89996e-35\n",
      "    8.88178e-16         2.48421         2.48421     3.37529e-33\n",
      "   -5.32907e-14         28.7973         28.7973     3.28946e-31\n",
      "   -3.41061e-13         307.833         307.833      3.4537e-29\n",
      "   -4.54747e-12         2896.18         2896.18     2.81577e-27\n",
      "    2.91038e-11         28541.2         28541.2     3.29362e-25\n",
      "   -9.31323e-10          291984          291984     3.42433e-23\n"
     ]
    }
   ],
   "source": [
    "#%%script false\n",
    "N = X_train.shape[0]\n",
    "K = Y_train.shape[1]\n",
    "print('%15s %15s %15s %15s' % ('J_Diff', 'J_loop', 'J_vec', 'G_Diff'))\n",
    "for e in range(-6, 10):\n",
    "    C = 10**(e)\n",
    "    w0 = initVar(X_train, Y_train)\n",
    "    J,  G  = obj_top_push_loop(w0, X_train, Y_train, C)\n",
    "    J1, G1 = obj_top_push(w0, X_train, Y_train, C)\n",
    "    Gdiff = G1 - G\n",
    "    #print('%-15g %-15g %-15g' % (J1 - J, J, J1))\n",
    "    print('%15g %15g %15g %15g' % (J1 - J, J, J1, np.dot(Gdiff, Gdiff)))"
   ]
  },
  {
   "cell_type": "code",
   "execution_count": null,
   "metadata": {
    "collapsed": true
   },
   "outputs": [],
   "source": [
    "class MLC_toppush(BaseEstimator):\n",
    "    \"\"\"All methods are necessary for a scikit-learn estimator\"\"\"\n",
    "    \n",
    "    def __init__(self, p=1, C=1):\n",
    "        \"\"\"Initialisation\"\"\"\n",
    "        \n",
    "        assert C > 0\n",
    "        self.C = C\n",
    "        self.trained = False\n",
    "        \n",
    "    def fit(self, X_train, Y_train):\n",
    "        \"\"\"Model fitting by optimising the objective\"\"\"\n",
    "        \n",
    "        opt_method = 'SLSQP'\n",
    "        options = {'disp': True}\n",
    "        if options['disp']: \n",
    "            print('\\nC: %g' % self.C)\n",
    "            \n",
    "        D = X_train.shape[1]\n",
    "        L = Y_train.shape[1]\n",
    "        w0 = np.random.rand(L * D)  # initial guess\n",
    "        opt = minimize(obj_top_push, w0, args=(X_train, Y_train, self.C), \\\n",
    "                       method=opt_method, jac=True, options=options)\n",
    "        if opt.success is True:\n",
    "            self.W = dual2primal(opt.x, X_train, Y_train, self.C)\n",
    "            self.trained = True\n",
    "        else:\n",
    "            sys.stderr.write('Optimisation failed')\n",
    "            self.trained = False\n",
    "            \n",
    "            \n",
    "    def decision_function(self, X_test):\n",
    "        \"\"\"Make predictions (score is real number)\"\"\"\n",
    "        \n",
    "        assert self.trained is True, \"Can't make prediction before training\"\n",
    "        D = X_test.shape[1]\n",
    "        return np.dot(X_test, self.W.T)\n",
    "        \n",
    "    \n",
    "    def predict(self, X_test):\n",
    "        \"\"\"Make predictions (score is boolean)\"\"\"\n",
    "        \n",
    "        preds = self.decision_function(X_test)\n",
    "        return (preds > 0)\n",
    "    \n",
    "    \n",
    "    def score(self, X, Y):\n",
    "        \"\"\"Compute scoring metric\"\"\"\n",
    "        \n",
    "        allPreds = self.decision_function(X)\n",
    "        return avgPrecisionK(Y, allPreds)\n",
    "    \n",
    "    # inherit from BaseEstimator instead of re-implement\n",
    "    #\n",
    "    #def get_params(self, deep = True):\n",
    "    #def set_params(self, **params):"
   ]
  },
  {
   "cell_type": "code",
   "execution_count": null,
   "metadata": {
    "collapsed": true,
    "scrolled": true
   },
   "outputs": [],
   "source": [
    "parameters = [{'C': [10**(e) for e in range(-6,-1)]}]\n",
    "\n",
    "clf = GridSearchCV(MLC_toppush(), parameters, cv=5)\n",
    "clf.fit(X_train, Y_train)\n",
    "\n",
    "print(\"\\nBest parameters set found on development set:\")\n",
    "print(clf.best_params_)"
   ]
  },
  {
   "cell_type": "code",
   "execution_count": null,
   "metadata": {
    "collapsed": true
   },
   "outputs": [],
   "source": [
    "for mean, std, params in zip(clf.cv_results_['mean_test_score'], clf.cv_results_['std_test_score'], \\\n",
    "                             clf.cv_results_['params']):\n",
    "    print(\"%0.3f (+/-%0.03f) for %r\" % (mean, std * 2, params))"
   ]
  },
  {
   "cell_type": "code",
   "execution_count": null,
   "metadata": {
    "collapsed": true
   },
   "outputs": [],
   "source": [
    "preds_train = clf.decision_function(X_train)\n",
    "preds_test  = clf.decision_function(X_test)"
   ]
  },
  {
   "cell_type": "code",
   "execution_count": null,
   "metadata": {
    "collapsed": true
   },
   "outputs": [],
   "source": [
    "print('Training set:')\n",
    "printEvaluation(Y_train, preds_train)\n",
    "print()\n",
    "print('Test set:')\n",
    "printEvaluation(Y_test, preds_test)"
   ]
  },
  {
   "cell_type": "markdown",
   "metadata": {},
   "source": [
    "## Result analysis"
   ]
  },
  {
   "cell_type": "code",
   "execution_count": null,
   "metadata": {
    "collapsed": true
   },
   "outputs": [],
   "source": [
    "precisions_train = [avgPrecision(Y_train, preds_train, k) for k in range(1, nLabels+1)]\n",
    "precisions_test  = [avgPrecision(Y_test,  preds_test,  k) for k in range(1, nLabels+1)]"
   ]
  },
  {
   "cell_type": "code",
   "execution_count": null,
   "metadata": {
    "collapsed": true
   },
   "outputs": [],
   "source": [
    "precisionK_train = avgPrecisionK(Y_train, preds_train)\n",
    "precisionK_test  = avgPrecisionK(Y_test,  preds_test)"
   ]
  },
  {
   "cell_type": "code",
   "execution_count": null,
   "metadata": {
    "collapsed": true
   },
   "outputs": [],
   "source": [
    "plt.figure(figsize=[10,5])\n",
    "plt.plot(precisions_train, ls='--', c='r', label='Train')\n",
    "plt.plot(precisions_test,  ls='-',  c='g', label='Test')\n",
    "plt.plot([precisionK_train for k in range(nLabels)], ls='-', c='r', label='Train, Precision@K')\n",
    "plt.plot([precisionK_test  for k in range(nLabels)], ls='-', c='g', label='Test, Precision@K')\n",
    "plt.xticks(np.arange(nLabels), np.arange(1,nLabels+1))\n",
    "plt.xlabel('k')\n",
    "plt.ylabel('Precision@k')\n",
    "plt.legend(loc='best')\n",
    "plt.title('MLC w. Top-push Loss on ' + dataset_name + ' dataset')\n",
    "plt.savefig(dataset_name + '_tp.svg')"
   ]
  }
 ],
 "metadata": {
  "kernelspec": {
   "display_name": "Python 3",
   "language": "python",
   "name": "python3"
  },
  "language_info": {
   "codemirror_mode": {
    "name": "ipython",
    "version": 3
   },
   "file_extension": ".py",
   "mimetype": "text/x-python",
   "name": "python",
   "nbconvert_exporter": "python",
   "pygments_lexer": "ipython3",
   "version": "3.6.2"
  }
 },
 "nbformat": 4,
 "nbformat_minor": 2
}
