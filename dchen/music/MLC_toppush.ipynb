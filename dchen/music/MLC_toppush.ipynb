{
 "cells": [
  {
   "cell_type": "markdown",
   "metadata": {},
   "source": [
    "# Multi-label classification -- top-push loss"
   ]
  },
  {
   "cell_type": "code",
   "execution_count": 1,
   "metadata": {},
   "outputs": [],
   "source": [
    "%matplotlib inline\n",
    "%load_ext line_profiler\n",
    "%load_ext memory_profiler\n",
    "%load_ext autoreload\n",
    "%autoreload 2\n",
    "\n",
    "import os, sys, time\n",
    "import pickle as pkl\n",
    "import numpy as np\n",
    "import pandas as pd\n",
    "\n",
    "from scipy.optimize import minimize\n",
    "from scipy.optimize import check_grad\n",
    "from scipy.misc import logsumexp\n",
    "\n",
    "from sklearn.base import BaseEstimator\n",
    "from sklearn.pipeline import make_pipeline\n",
    "from sklearn.model_selection import train_test_split\n",
    "from sklearn.model_selection import GridSearchCV\n",
    "from sklearn.metrics import classification_report\n",
    "\n",
    "import matplotlib.pyplot as plt\n",
    "import seaborn as sns"
   ]
  },
  {
   "cell_type": "code",
   "execution_count": 2,
   "metadata": {
    "collapsed": true
   },
   "outputs": [],
   "source": [
    "sys.path.append('src')\n",
    "from evaluate import avgPrecision, avgPrecisionK, printEvaluation\n",
    "from datasets import create_dataset_yeast_train, create_dataset_yeast_test, yeast_nLabels\n",
    "from datasets import create_dataset_emotions_train, create_dataset_emotions_test, emotions_nLabels\n",
    "from datasets import create_dataset_scene_train, create_dataset_scene_test, scene_nLabels\n",
    "from datasets import create_dataset_mediamill_subset_train, create_dataset_mediamill_subset_test, mm_nLabels"
   ]
  },
  {
   "cell_type": "code",
   "execution_count": 3,
   "metadata": {
    "collapsed": true
   },
   "outputs": [],
   "source": [
    "datasets = ['yeast', 'emotions', 'scene', 'mediamill']\n",
    "num_labels = [yeast_nLabels, emotions_nLabels, scene_nLabels, mm_nLabels]\n",
    "create_dataset_train_funcs = [create_dataset_yeast_train, \n",
    "                              create_dataset_emotions_train,\n",
    "                              create_dataset_scene_train, \n",
    "                              create_dataset_mediamill_subset_train]\n",
    "create_dataset_test_funcs  = [create_dataset_yeast_test,\n",
    "                              create_dataset_emotions_test,\n",
    "                              create_dataset_scene_test,\n",
    "                              create_dataset_mediamill_subset_test]"
   ]
  },
  {
   "cell_type": "code",
   "execution_count": 4,
   "metadata": {
    "collapsed": true
   },
   "outputs": [],
   "source": [
    "data_ix = 1"
   ]
  },
  {
   "cell_type": "code",
   "execution_count": 5,
   "metadata": {},
   "outputs": [
    {
     "name": "stdout",
     "output_type": "stream",
     "text": [
      "Dataset: emotions\n"
     ]
    }
   ],
   "source": [
    "dataset_name = datasets[data_ix]\n",
    "nLabels = num_labels[data_ix]\n",
    "create_dataset_train = create_dataset_train_funcs[data_ix]\n",
    "create_dataset_test  = create_dataset_test_funcs [data_ix]\n",
    "print('Dataset:', dataset_name)"
   ]
  },
  {
   "cell_type": "markdown",
   "metadata": {},
   "source": [
    "The sigmoid function."
   ]
  },
  {
   "cell_type": "code",
   "execution_count": 6,
   "metadata": {
    "collapsed": true
   },
   "outputs": [],
   "source": [
    "def sigmoid(x):\n",
    "    return 1.0 / (1.0 + np.exp(-x))"
   ]
  },
  {
   "cell_type": "markdown",
   "metadata": {},
   "source": [
    "## top-push loss"
   ]
  },
  {
   "cell_type": "markdown",
   "metadata": {},
   "source": [
    "Multi-label learning with top push loss."
   ]
  },
  {
   "cell_type": "code",
   "execution_count": 7,
   "metadata": {
    "collapsed": true
   },
   "outputs": [],
   "source": [
    "def obj_toppush(w, X, Y, C):\n",
    "    \"\"\"\n",
    "        Objective with L2 regularisation and top push loss\n",
    "        \n",
    "        Input:\n",
    "            - w: current weight vector, flattened L x D\n",
    "            - X: feature matrix, N x D\n",
    "            - Y: label matrix,   N x K\n",
    "            - C: regularisation constant\n",
    "    \"\"\"\n",
    "    N, D = X.shape\n",
    "    K = Y.shape[1]\n",
    "    assert(w.shape[0] == N * K)\n",
    "    assert(C > 0)\n",
    "    \n",
    "    T = w.reshape(N, K)  # theta\n",
    "        \n",
    "    J = 0.0  # cost\n",
    "    G = np.zeros_like(T)  # gradient matrix\n",
    "    KPosAll = np.sum(Y, axis=1)  # number of positive labels for each example, N by 1\n",
    "    KNegAll = K - KPosAll        # number of negative labels for each example, N by 1\n",
    "    \n",
    "    for k in range(K):\n",
    "        y = Y[:, k]\n",
    "        \n",
    "        posVec = np.zeros(N, dtype=np.float)\n",
    "        negVec = np.zeros(N, dtype=np.float)\n",
    "        posVec[y == 1] = 1\n",
    "        negVec[y == 0] = 1\n",
    "        posVec = np.divide(posVec, KPosAll * N)  # 1 / NK+, N by 1\n",
    "        negVec = np.divide(negVec, KNegAll * N)  # 1 / NK-, N by 1\n",
    "        \n",
    "        a = np.multiply(T[:, k], posVec)  # alpha / NK+ if y_nk = 1 else 0\n",
    "        b = np.multiply(T[:, k], negVec)  # beta  / NK- if y_nk = 0 else 0\n",
    "        c = a + b  # gamma\n",
    "        d = np.sum(X * c[:, None], axis=0)\n",
    "        \n",
    "        t1 = T[y == 1, k]\n",
    "        p1 = posVec[y == 1]\n",
    "        s1 = -np.log(-t1)\n",
    "        s2 = np.log(1 + t1)\n",
    "        J += 0.5 * C * np.dot(d, d) + np.dot(a[y == 1], s1) + np.dot(p1, np.multiply(1+t1, s2))\n",
    "        \n",
    "        p2 = negVec[y == 0]\n",
    "        t2 = np.dot(X, d) * C\n",
    "        G[y == 1, k] = np.multiply(p1, t2[y == 1] + s1 + s2)\n",
    "        G[y == 0, k] = np.multiply(p2, t2[y == 0])\n",
    "        \n",
    "    return (J, G.ravel())"
   ]
  },
  {
   "cell_type": "code",
   "execution_count": 8,
   "metadata": {
    "collapsed": true
   },
   "outputs": [],
   "source": [
    "def obj_toppush_loop(w, X, Y, C):\n",
    "    \"\"\"\n",
    "        Objective with L2 regularisation and top push loss\n",
    "        \n",
    "        Input:\n",
    "            - w: current weight vector, flattened L x D\n",
    "            - X: feature matrix, N x D\n",
    "            - Y: label matrix,   N x K\n",
    "            - C: regularisation constant, C = 1 / lambda\n",
    "    \"\"\"\n",
    "    N, D = X.shape\n",
    "    K = Y.shape[1]\n",
    "    assert(w.shape[0] == K * D)\n",
    "    assert(C > 0)\n",
    "    \n",
    "    W = w.reshape(K, D)  # theta\n",
    "    \n",
    "    J = 0.0  # cost\n",
    "    G = np.zeros_like(W)  # gradient matrix\n",
    "    KPosAll = np.sum(Y, axis=1)  # number of positive labels for each example, N by 1\n",
    "    \n",
    "    for k in range(K):\n",
    "        for n in range(N):\n",
    "            if Y[n, k] == 1:\n",
    "                s1 = np.dot(W[k, :], X[n, :])\n",
    "                s2 = logsumexp([np.dot(W[j, :], X[n, :]) for j in range(K) if Y[n, j] == 0])\n",
    "                J += np.log1p(np.exp(-s1 + s2)) / KPosAll[n]\n",
    "                G[k, :] = G[k, :] - X[n, :] / (KPosAll[n] * (1 + np.exp(s1 - s2)))\n",
    "                \n",
    "    J = np.dot(w, w) * 0.5 / C + J / N\n",
    "    G = W / C + G / N\n",
    "    \n",
    "    return (J, G.ravel())"
   ]
  },
  {
   "cell_type": "markdown",
   "metadata": {},
   "source": [
    "Check gradient"
   ]
  },
  {
   "cell_type": "code",
   "execution_count": 9,
   "metadata": {},
   "outputs": [],
   "source": [
    "#aa = np.array([0,1,2, 0])\n",
    "#print(aa)\n",
    "#print([aa[i] for i in range(4) if aa[i] != 0])\n",
    "#print([aa[i] if aa[i] != 0 else 10 for i in range(4)])"
   ]
  },
  {
   "cell_type": "code",
   "execution_count": 10,
   "metadata": {
    "collapsed": true
   },
   "outputs": [],
   "source": [
    "X_train, Y_train = create_dataset_train()\n",
    "X_test,  Y_test  = create_dataset_test()"
   ]
  },
  {
   "cell_type": "code",
   "execution_count": 11,
   "metadata": {},
   "outputs": [
    {
     "data": {
      "text/plain": [
       "(391, 72)"
      ]
     },
     "execution_count": 11,
     "metadata": {},
     "output_type": "execute_result"
    }
   ],
   "source": [
    "X_train.shape"
   ]
  },
  {
   "cell_type": "code",
   "execution_count": 13,
   "metadata": {},
   "outputs": [
    {
     "data": {
      "text/plain": [
       "22312.322480691415"
      ]
     },
     "execution_count": 13,
     "metadata": {},
     "output_type": "execute_result"
    }
   ],
   "source": [
    "#%%script false\n",
    "C = 1\n",
    "eps = 1.49e-08\n",
    "w0 = np.random.rand(Y_train.shape[1] * X_train.shape[1])\n",
    "w = np.zeros_like(w0)\n",
    "for i in range(len(w0)):\n",
    "    wi1 = w0.copy()\n",
    "    wi2 = w0.copy()\n",
    "    wi1[i] = wi1[i] - eps\n",
    "    wi2[i] = wi2[i] + eps\n",
    "    J1, _ = obj_toppush_loop(wi1, X_train[:100, :], Y_train[:100, :], C)\n",
    "    J2, _ = obj_toppush_loop(wi2, X_train[:100, :], Y_train[:100, :], C)\n",
    "    w[i] = (J2 - J1) / (2 * eps)\n",
    "    #print(w[i])\n",
    "J, w1 = obj_toppush_loop(w0, X_train[:100, :], Y_train[:100, :], C)\n",
    "diff = w1 - w\n",
    "np.dot(diff, diff)"
   ]
  },
  {
   "cell_type": "code",
   "execution_count": null,
   "metadata": {},
   "outputs": [],
   "source": [
    "#%%script false\n",
    "C = 1\n",
    "w0 = np.random.rand(Y_train.shape[1] * X_train.shape[1])\n",
    "check_grad(lambda w: obj_toppush_loop(w, X_train[:100, :], Y_train[:100, :], C)[0], \n",
    "           lambda w: obj_toppush_loop(w, X_train[:100, :], Y_train[:100, :], C)[1], w0)"
   ]
  },
  {
   "cell_type": "code",
   "execution_count": null,
   "metadata": {
    "collapsed": true
   },
   "outputs": [],
   "source": [
    "%%script false\n",
    "N = X_train.shape[0]\n",
    "K = Y_train.shape[1]\n",
    "print('%15s %15s %15s %15s' % ('J_Diff', 'J_loop', 'J_vec', 'G_Diff'))\n",
    "for e in range(-6, 10):\n",
    "    C = 10**(e)\n",
    "    w0 = init_var(X_train, Y_train)\n",
    "    J,  G  = obj_top_push_loop(w0, X_train, Y_train, C)\n",
    "    J1, G1 = obj_top_push(w0, X_train, Y_train, C)\n",
    "    Gdiff = G1 - G\n",
    "    #print('%-15g %-15g %-15g' % (J1 - J, J, J1))\n",
    "    print('%15g %15g %15g %15g' % (J1 - J, J, J1, np.dot(Gdiff, Gdiff)))"
   ]
  },
  {
   "cell_type": "code",
   "execution_count": null,
   "metadata": {
    "collapsed": true
   },
   "outputs": [],
   "source": [
    "def minimise_cost(X, Y, C):\n",
    "    #opt_func = minimise_cost_slsqp\n",
    "    #opt_func = minimise_cost_nlopt\n",
    "    opt_func = minimise_cost_ipopt\n",
    "    return opt_func(X, Y, C)\n",
    "\n",
    "class MLC_toppush(BaseEstimator):\n",
    "    \"\"\"All methods are necessary for a scikit-learn estimator\"\"\"\n",
    "    \n",
    "    def __init__(self, p=1, C=1):\n",
    "        \"\"\"Initialisation\"\"\"\n",
    "        \n",
    "        assert C > 0\n",
    "        self.C = C\n",
    "        self.trained = False\n",
    "        \n",
    "    def fit(self, X_train, Y_train):\n",
    "        \"\"\"Model fitting by optimising the objective\"\"\"\n",
    "        optx, success = minimise_cost(X_train, Y_train, self.C)\n",
    "        if success is True:\n",
    "            self.W = dual2primal(optx, X_train, Y_train, self.C)\n",
    "            self.trained = True\n",
    "        else:\n",
    "            self.trained = False\n",
    "            \n",
    "            \n",
    "    def decision_function(self, X_test):\n",
    "        \"\"\"Make predictions (score is real number)\"\"\"\n",
    "        \n",
    "        assert self.trained is True, \"Can't make prediction before training\"\n",
    "        D = X_test.shape[1]\n",
    "        return np.dot(X_test, self.W.T)\n",
    "        \n",
    "    \n",
    "    def predict(self, X_test):\n",
    "        \"\"\"Make predictions (score is boolean)\"\"\"\n",
    "        \n",
    "        preds = self.decision_function(X_test)\n",
    "        return (preds > 0)\n",
    "    \n",
    "    \n",
    "    def score(self, X, Y):\n",
    "        \"\"\"Compute scoring metric\"\"\"\n",
    "        \n",
    "        allPreds = self.decision_function(X)\n",
    "        return avgPrecisionK(Y, allPreds)\n",
    "    \n",
    "    # inherit from BaseEstimator instead of re-implement\n",
    "    #\n",
    "    #def get_params(self, deep = True):\n",
    "    #def set_params(self, **params):"
   ]
  },
  {
   "cell_type": "code",
   "execution_count": null,
   "metadata": {
    "collapsed": true,
    "scrolled": true
   },
   "outputs": [],
   "source": [
    "#%mprun\n",
    "model = MLC_toppush()\n",
    "model.fit(X_train[:50], Y_train[:50])\n",
    "#%memit model.fit(X_train[:30], Y_train[:30])\n",
    "#%mprun -f minimize model.fit(X_train[:100], Y_train[:100])\n",
    "#%mprun -f _minimize_slsqp model.fit(X_train[:10], Y_train[:10])"
   ]
  },
  {
   "cell_type": "code",
   "execution_count": null,
   "metadata": {
    "collapsed": true,
    "scrolled": true
   },
   "outputs": [],
   "source": [
    "parameters = [{'C': [10**(e) for e in range(-6,-1)]}]\n",
    "\n",
    "clf = GridSearchCV(MLC_toppush(), parameters, cv=5, n_jobs=1)\n",
    "clf.fit(X_train[:100], Y_train[:100])\n",
    "\n",
    "print(\"\\nBest parameters set found on development set:\")\n",
    "print(clf.best_params_)"
   ]
  },
  {
   "cell_type": "code",
   "execution_count": null,
   "metadata": {
    "collapsed": true
   },
   "outputs": [],
   "source": [
    "for mean, std, params in zip(clf.cv_results_['mean_test_score'], clf.cv_results_['std_test_score'], \\\n",
    "                             clf.cv_results_['params']):\n",
    "    print(\"%0.3f (+/-%0.03f) for %r\" % (mean, std * 2, params))"
   ]
  },
  {
   "cell_type": "code",
   "execution_count": null,
   "metadata": {
    "collapsed": true
   },
   "outputs": [],
   "source": [
    "clf = model"
   ]
  },
  {
   "cell_type": "code",
   "execution_count": null,
   "metadata": {
    "collapsed": true
   },
   "outputs": [],
   "source": [
    "preds_train = clf.decision_function(X_train)\n",
    "preds_test  = clf.decision_function(X_test)"
   ]
  },
  {
   "cell_type": "code",
   "execution_count": null,
   "metadata": {
    "collapsed": true
   },
   "outputs": [],
   "source": [
    "print('Training set:')\n",
    "printEvaluation(Y_train, preds_train)\n",
    "print()\n",
    "print('Test set:')\n",
    "printEvaluation(Y_test, preds_test)"
   ]
  },
  {
   "cell_type": "markdown",
   "metadata": {},
   "source": [
    "## Result analysis"
   ]
  },
  {
   "cell_type": "code",
   "execution_count": null,
   "metadata": {
    "collapsed": true
   },
   "outputs": [],
   "source": [
    "precisions_train = [avgPrecision(Y_train, preds_train, k) for k in range(1, nLabels+1)]\n",
    "precisions_test  = [avgPrecision(Y_test,  preds_test,  k) for k in range(1, nLabels+1)]"
   ]
  },
  {
   "cell_type": "code",
   "execution_count": null,
   "metadata": {
    "collapsed": true
   },
   "outputs": [],
   "source": [
    "precisionK_train = avgPrecisionK(Y_train, preds_train)\n",
    "precisionK_test  = avgPrecisionK(Y_test,  preds_test)"
   ]
  },
  {
   "cell_type": "code",
   "execution_count": null,
   "metadata": {
    "collapsed": true
   },
   "outputs": [],
   "source": [
    "plt.figure(figsize=[10,5])\n",
    "plt.plot(precisions_train, ls='--', c='r', label='Train')\n",
    "plt.plot(precisions_test,  ls='-',  c='g', label='Test')\n",
    "plt.plot([precisionK_train for k in range(nLabels)], ls='-', c='r', label='Train, Precision@K')\n",
    "plt.plot([precisionK_test  for k in range(nLabels)], ls='-', c='g', label='Test, Precision@K')\n",
    "plt.xticks(np.arange(nLabels), np.arange(1,nLabels+1))\n",
    "plt.xlabel('k')\n",
    "plt.ylabel('Precision@k')\n",
    "plt.legend(loc='best')\n",
    "plt.title('MLC w. Top-push Loss on ' + dataset_name + ' dataset')\n",
    "plt.savefig(dataset_name + '_tp.svg')"
   ]
  }
 ],
 "metadata": {
  "kernelspec": {
   "display_name": "Python 3",
   "language": "python",
   "name": "python3"
  },
  "language_info": {
   "codemirror_mode": {
    "name": "ipython",
    "version": 3
   },
   "file_extension": ".py",
   "mimetype": "text/x-python",
   "name": "python",
   "nbconvert_exporter": "python",
   "pygments_lexer": "ipython3",
   "version": "3.6.3"
  }
 },
 "nbformat": 4,
 "nbformat_minor": 2
}
