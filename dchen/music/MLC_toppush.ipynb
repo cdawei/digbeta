{
 "cells": [
  {
   "cell_type": "markdown",
   "metadata": {},
   "source": [
    "# Multi-label classification -- top-push loss"
   ]
  },
  {
   "cell_type": "code",
   "execution_count": 1,
   "metadata": {},
   "outputs": [],
   "source": [
    "%matplotlib inline\n",
    "%load_ext line_profiler\n",
    "%load_ext memory_profiler\n",
    "%load_ext autoreload\n",
    "%autoreload 2\n",
    "\n",
    "import os, sys, time\n",
    "import pickle as pkl\n",
    "import numpy as np\n",
    "import pandas as pd\n",
    "\n",
    "from scipy.optimize import minimize\n",
    "from scipy.optimize import check_grad\n",
    "from scipy.misc import logsumexp\n",
    "\n",
    "from sklearn.base import BaseEstimator\n",
    "from sklearn.pipeline import make_pipeline\n",
    "from sklearn.model_selection import train_test_split\n",
    "from sklearn.model_selection import GridSearchCV\n",
    "from sklearn.metrics import classification_report\n",
    "\n",
    "import matplotlib.pyplot as plt\n",
    "import seaborn as sns"
   ]
  },
  {
   "cell_type": "code",
   "execution_count": 2,
   "metadata": {
    "collapsed": true
   },
   "outputs": [],
   "source": [
    "sys.path.append('src')\n",
    "from evaluate import avgPrecision, avgPrecisionK, printEvaluation\n",
    "from datasets import create_dataset_yeast_train, create_dataset_yeast_test, yeast_nLabels\n",
    "from datasets import create_dataset_emotions_train, create_dataset_emotions_test, emotions_nLabels\n",
    "from datasets import create_dataset_scene_train, create_dataset_scene_test, scene_nLabels\n",
    "from datasets import create_dataset_mediamill_subset_train, create_dataset_mediamill_subset_test, mm_nLabels"
   ]
  },
  {
   "cell_type": "code",
   "execution_count": 3,
   "metadata": {
    "collapsed": true
   },
   "outputs": [],
   "source": [
    "datasets = ['yeast', 'emotions', 'scene', 'mediamill']\n",
    "num_labels = [yeast_nLabels, emotions_nLabels, scene_nLabels, mm_nLabels]\n",
    "create_dataset_train_funcs = [create_dataset_yeast_train, \n",
    "                              create_dataset_emotions_train,\n",
    "                              create_dataset_scene_train, \n",
    "                              create_dataset_mediamill_subset_train]\n",
    "create_dataset_test_funcs  = [create_dataset_yeast_test,\n",
    "                              create_dataset_emotions_test,\n",
    "                              create_dataset_scene_test,\n",
    "                              create_dataset_mediamill_subset_test]"
   ]
  },
  {
   "cell_type": "code",
   "execution_count": 4,
   "metadata": {
    "collapsed": true
   },
   "outputs": [],
   "source": [
    "data_ix = 0"
   ]
  },
  {
   "cell_type": "code",
   "execution_count": 5,
   "metadata": {},
   "outputs": [
    {
     "name": "stdout",
     "output_type": "stream",
     "text": [
      "Dataset: yeast\n"
     ]
    }
   ],
   "source": [
    "dataset_name = datasets[data_ix]\n",
    "nLabels = num_labels[data_ix]\n",
    "create_dataset_train = create_dataset_train_funcs[data_ix]\n",
    "create_dataset_test  = create_dataset_test_funcs [data_ix]\n",
    "print('Dataset:', dataset_name)"
   ]
  },
  {
   "cell_type": "markdown",
   "metadata": {},
   "source": [
    "The sigmoid function."
   ]
  },
  {
   "cell_type": "code",
   "execution_count": 6,
   "metadata": {
    "collapsed": true
   },
   "outputs": [],
   "source": [
    "def sigmoid(x):\n",
    "    return 1.0 / (1.0 + np.exp(-x))"
   ]
  },
  {
   "cell_type": "markdown",
   "metadata": {},
   "source": [
    "## top-push loss"
   ]
  },
  {
   "cell_type": "markdown",
   "metadata": {},
   "source": [
    "Multi-label learning with top push loss."
   ]
  },
  {
   "cell_type": "code",
   "execution_count": 7,
   "metadata": {},
   "outputs": [
    {
     "data": {
      "text/plain": [
       "array([ 18.,  24.])"
      ]
     },
     "execution_count": 7,
     "metadata": {},
     "output_type": "execute_result"
    }
   ],
   "source": [
    "np.dot(np.ones(3)*2, np.array([[1,2],[3,4],[5,6]]))"
   ]
  },
  {
   "cell_type": "code",
   "execution_count": 8,
   "metadata": {},
   "outputs": [
    {
     "data": {
      "text/plain": [
       "array([  6.,  14.,  22.])"
      ]
     },
     "execution_count": 8,
     "metadata": {},
     "output_type": "execute_result"
    }
   ],
   "source": [
    "np.dot(np.array([[1,2],[3,4],[5,6]]), np.ones(2)*2)"
   ]
  },
  {
   "cell_type": "code",
   "execution_count": 9,
   "metadata": {
    "collapsed": true
   },
   "outputs": [],
   "source": [
    "def obj_toppush(w, X, Y, C, r=1):\n",
    "    \"\"\"\n",
    "        Objective with L2 regularisation and top push loss\n",
    "        \n",
    "        Input:\n",
    "            - w: current weight vector, flattened L x D\n",
    "            - X: feature matrix, N x D\n",
    "            - Y: label matrix,   N x K\n",
    "            - C: regularisation constant, C = 1 / lambda\n",
    "            - r: parameter for log-sum-exp approximation\n",
    "    \"\"\"\n",
    "    N, D = X.shape\n",
    "    K = Y.shape[1]\n",
    "    assert(w.shape[0] == K * D)\n",
    "    assert(r > 0)\n",
    "    assert(C > 0)\n",
    "    \n",
    "    W = w.reshape(K, D)  # theta\n",
    "    \n",
    "    J = 0.0  # cost\n",
    "    G = np.zeros_like(W)  # gradient matrix\n",
    "    KPosAll = np.sum(Y, axis=1)  # number of positive labels for each example, N by 1\n",
    "    \n",
    "    T1 = np.dot(X, W.T)   # N by K\n",
    "    T2 = np.multiply(1-Y, np.exp(T1 * r))  # N by K\n",
    "    T3 = np.power(np.sum(T2, axis=1), 1.0/r)  # N by 1\n",
    "    T4 = np.exp(-T1) * T3[:, None]  # N by K\n",
    "    T5 = np.log1p(T4) * (1.0 / KPosAll)[:, None]  # N by K\n",
    "    T6 = np.multiply(T5, Y)  # N by K\n",
    "    \n",
    "    J = np.dot(w, w) * 0.5 / C + np.dot(np.ones(N), np.dot(T6, np.ones(K))) / N\n",
    "    \n",
    "    T7 = 1 / ((1 + 1/T4) * KPosAll[:, None])  # N by K\n",
    "    T8 = np.multiply(T7, Y) / N  # N by K\n",
    "    \n",
    "    #for k in range(K):\n",
    "    #    G[k, :] = np.sum(X * T8[:, k][:, None], axis=0)\n",
    "    \n",
    "    G = W / C + np.dot(T8.T, X)\n",
    "    \n",
    "    return (J, G.ravel())"
   ]
  },
  {
   "cell_type": "code",
   "execution_count": 21,
   "metadata": {
    "collapsed": true
   },
   "outputs": [],
   "source": [
    "def obj_toppush_loop(w, X, Y, C, r=1):\n",
    "    \"\"\"\n",
    "        Objective with L2 regularisation and top push loss\n",
    "        \n",
    "        Input:\n",
    "            - w: current weight vector, flattened L x D\n",
    "            - X: feature matrix, N x D\n",
    "            - Y: label matrix,   N x K\n",
    "            - C: regularisation constant, C = 1 / lambda\n",
    "            - r: parameter for log-sum-exp approximation\n",
    "    \"\"\"\n",
    "    N, D = X.shape\n",
    "    K = Y.shape[1]\n",
    "    assert(w.shape[0] == K * D)\n",
    "    assert(r > 0)\n",
    "    assert(C > 0)\n",
    "    \n",
    "    W = w.reshape(K, D)  # theta\n",
    "    \n",
    "    J = 0.0  # cost\n",
    "    G = np.zeros_like(W)  # gradient matrix\n",
    "    KPosAll = np.sum(Y, axis=1)  # number of positive labels for each example, N by 1\n",
    "    \n",
    "    for n in range(N):\n",
    "        for k in range(K):\n",
    "            if Y[n, k] == 1:\n",
    "                s1 = np.sum([np.exp(r * np.dot(W[j, :] - W[k, :], X[n, :])) for j in range(K) if Y[n, j] == 0])\n",
    "                J += np.log1p(np.power(s1, 1.0 / r)) / KPosAll[n]\n",
    "    J = np.dot(w, w) * 0.5 / C + J / N\n",
    "    \n",
    "    for k in range(K):\n",
    "        for n in range(N):\n",
    "            if Y[n, k] == 1:\n",
    "                t1 = np.sum([np.exp(r * np.dot(W[j, :] - W[k, :], X[n, :])) for j in range(K) if Y[n, j] == 0])\n",
    "                t2 = -1.0 / (1 + np.power(t1, -1.0 / r))\n",
    "                G[k, :] = G[k, :] + X[n, :] * t2 / KPosAll[n]\n",
    "            else:\n",
    "                sk = 0.0\n",
    "                for k1 in range(K):\n",
    "                    if Y[n, k1] == 1:\n",
    "                        t3 = np.sum([np.exp(r * np.dot(W[j,:] - W[k1, :], X[n, :])) \\\n",
    "                                     for j in range(K) if Y[n, j] == 0])\n",
    "                        t4 = np.exp(r * np.dot(W[k, :] - W[k1, :], X[n, :]))\n",
    "                        sk += t4 / (np.power(t3, 1.0 - 1.0 / r) + t3)\n",
    "                G[k, :] = G[k, :] + X[n, :] * sk / KPosAll[n]\n",
    "                        \n",
    "    G = W / C + G / N\n",
    "    \n",
    "    return (J, G.ravel())"
   ]
  },
  {
   "cell_type": "markdown",
   "metadata": {},
   "source": [
    "Check gradient"
   ]
  },
  {
   "cell_type": "code",
   "execution_count": 12,
   "metadata": {
    "collapsed": true
   },
   "outputs": [],
   "source": [
    "#aa = np.array([0,1,2, 0])\n",
    "#print(aa)\n",
    "#print([aa[i] for i in range(4) if aa[i] != 0])\n",
    "#print([aa[i] if aa[i] != 0 else 10 for i in range(4)])"
   ]
  },
  {
   "cell_type": "code",
   "execution_count": 38,
   "metadata": {
    "collapsed": true
   },
   "outputs": [],
   "source": [
    "X_train, Y_train = create_dataset_train()\n",
    "X_test,  Y_test  = create_dataset_test()"
   ]
  },
  {
   "cell_type": "code",
   "execution_count": 39,
   "metadata": {
    "collapsed": true
   },
   "outputs": [],
   "source": [
    "#X_train = X_train[:100, :]\n",
    "#Y_train = Y_train[:100, :]"
   ]
  },
  {
   "cell_type": "code",
   "execution_count": 40,
   "metadata": {},
   "outputs": [
    {
     "data": {
      "text/plain": [
       "(1500, 103)"
      ]
     },
     "execution_count": 40,
     "metadata": {},
     "output_type": "execute_result"
    }
   ],
   "source": [
    "X_train.shape"
   ]
  },
  {
   "cell_type": "code",
   "execution_count": 41,
   "metadata": {
    "collapsed": true
   },
   "outputs": [],
   "source": [
    "C = 1\n",
    "w0 = np.random.rand(Y_train.shape[1] * X_train.shape[1])"
   ]
  },
  {
   "cell_type": "code",
   "execution_count": 42,
   "metadata": {
    "collapsed": true
   },
   "outputs": [],
   "source": [
    "%%script false\n",
    "check_grad(lambda w: obj_toppush(w, X_train, Y_train, C)[0], \n",
    "           lambda w: obj_toppush(w, X_train, Y_train, C)[1], w0)"
   ]
  },
  {
   "cell_type": "code",
   "execution_count": 43,
   "metadata": {},
   "outputs": [
    {
     "data": {
      "text/plain": [
       "3.1925345092963838e-05"
      ]
     },
     "execution_count": 43,
     "metadata": {},
     "output_type": "execute_result"
    }
   ],
   "source": [
    "#%%script false\n",
    "eps = 1.49e-08\n",
    "w = np.zeros_like(w0)\n",
    "for i in range(len(w0)):\n",
    "    wi1 = w0.copy()\n",
    "    wi2 = w0.copy()\n",
    "    wi1[i] = wi1[i] - eps\n",
    "    wi2[i] = wi2[i] + eps\n",
    "    J1, _ = obj_toppush_loop(wi1, X_train, Y_train, C)\n",
    "    J2, _ = obj_toppush_loop(wi2, X_train, Y_train, C)\n",
    "    w[i] = (J2 - J1) / (2 * eps)\n",
    "    #print(w[i])\n",
    "J, w1 = obj_toppush_loop(w0, X_train, Y_train, C)\n",
    "diff = w1 - w\n",
    "np.sqrt(np.dot(diff, diff))"
   ]
  },
  {
   "cell_type": "code",
   "execution_count": null,
   "metadata": {
    "collapsed": true
   },
   "outputs": [],
   "source": [
    "%%script false\n",
    "check_grad(lambda w: obj_toppush_loop0(w, X_train, Y_train, C)[0], \n",
    "           lambda w: obj_toppush_loop0(w, X_train, Y_train, C)[1], w0)"
   ]
  },
  {
   "cell_type": "code",
   "execution_count": null,
   "metadata": {},
   "outputs": [],
   "source": [
    "#%%script false\n",
    "check_grad(lambda w: obj_toppush_loop(w, X_train, Y_train, C)[0], \n",
    "           lambda w: obj_toppush_loop(w, X_train, Y_train, C)[1], w0)"
   ]
  },
  {
   "cell_type": "code",
   "execution_count": null,
   "metadata": {
    "collapsed": true
   },
   "outputs": [],
   "source": [
    "%%script false\n",
    "print('%15s %15s %15s %15s' % ('J_Diff', 'J_loop', 'J_vec', 'G_Diff'))\n",
    "for e in range(-6, 10):\n",
    "    C = 10**(e)\n",
    "    #w0 = init_var(X_train, Y_train)\n",
    "    J,  G  = obj_toppush_loop(w0, X_train, Y_train, C)\n",
    "    J1, G1 = obj_toppush(w0, X_train, Y_train, C)\n",
    "    Gdiff = G1 - G\n",
    "    #print('%-15g %-15g %-15g' % (J1 - J, J, J1))\n",
    "    print('%15g %15g %15g %15g' % (J1 - J, J, J1, np.dot(Gdiff, Gdiff)))"
   ]
  },
  {
   "cell_type": "code",
   "execution_count": null,
   "metadata": {
    "collapsed": true
   },
   "outputs": [],
   "source": [
    "def minimise_cost(X, Y, C):\n",
    "    #opt_func = minimise_cost_\n",
    "    return opt_func(X, Y, C)\n",
    "\n",
    "class MLC_toppush(BaseEstimator):\n",
    "    \"\"\"All methods are necessary for a scikit-learn estimator\"\"\"\n",
    "    \n",
    "    def __init__(self, p=1, C=1):\n",
    "        \"\"\"Initialisation\"\"\"\n",
    "        \n",
    "        assert C > 0\n",
    "        self.C = C\n",
    "        self.trained = False\n",
    "        \n",
    "    def fit(self, X_train, Y_train):\n",
    "        \"\"\"Model fitting by optimising the objective\"\"\"\n",
    "        optx, success = minimise_cost(X_train, Y_train, self.C)\n",
    "        if success is True:\n",
    "            self.W = dual2primal(optx, X_train, Y_train, self.C)\n",
    "            self.trained = True\n",
    "        else:\n",
    "            self.trained = False\n",
    "            \n",
    "            \n",
    "    def decision_function(self, X_test):\n",
    "        \"\"\"Make predictions (score is real number)\"\"\"\n",
    "        \n",
    "        assert self.trained is True, \"Can't make prediction before training\"\n",
    "        D = X_test.shape[1]\n",
    "        return np.dot(X_test, self.W.T)\n",
    "        \n",
    "    \n",
    "    def predict(self, X_test):\n",
    "        \"\"\"Make predictions (score is boolean)\"\"\"\n",
    "        \n",
    "        preds = self.decision_function(X_test)\n",
    "        return (preds > 0)\n",
    "    \n",
    "    \n",
    "    def score(self, X, Y):\n",
    "        \"\"\"Compute scoring metric\"\"\"\n",
    "        \n",
    "        allPreds = self.decision_function(X)\n",
    "        return avgPrecisionK(Y, allPreds)\n",
    "    \n",
    "    # inherit from BaseEstimator instead of re-implement\n",
    "    #\n",
    "    #def get_params(self, deep = True):\n",
    "    #def set_params(self, **params):"
   ]
  },
  {
   "cell_type": "code",
   "execution_count": null,
   "metadata": {
    "collapsed": true,
    "scrolled": true
   },
   "outputs": [],
   "source": [
    "#%mprun\n",
    "model = MLC_toppush()\n",
    "model.fit(X_train[:50], Y_train[:50])\n",
    "#%memit model.fit(X_train[:30], Y_train[:30])\n",
    "#%mprun -f minimize model.fit(X_train[:100], Y_train[:100])\n",
    "#%mprun -f _minimize_slsqp model.fit(X_train[:10], Y_train[:10])"
   ]
  },
  {
   "cell_type": "code",
   "execution_count": null,
   "metadata": {
    "collapsed": true,
    "scrolled": true
   },
   "outputs": [],
   "source": [
    "parameters = [{'C': [10**(e) for e in range(-6,-1)]}]\n",
    "\n",
    "clf = GridSearchCV(MLC_toppush(), parameters, cv=5, n_jobs=1)\n",
    "clf.fit(X_train[:100], Y_train[:100])\n",
    "\n",
    "print(\"\\nBest parameters set found on development set:\")\n",
    "print(clf.best_params_)"
   ]
  },
  {
   "cell_type": "code",
   "execution_count": null,
   "metadata": {
    "collapsed": true
   },
   "outputs": [],
   "source": [
    "for mean, std, params in zip(clf.cv_results_['mean_test_score'], clf.cv_results_['std_test_score'], \\\n",
    "                             clf.cv_results_['params']):\n",
    "    print(\"%0.3f (+/-%0.03f) for %r\" % (mean, std * 2, params))"
   ]
  },
  {
   "cell_type": "code",
   "execution_count": null,
   "metadata": {
    "collapsed": true
   },
   "outputs": [],
   "source": [
    "clf = model"
   ]
  },
  {
   "cell_type": "code",
   "execution_count": null,
   "metadata": {
    "collapsed": true
   },
   "outputs": [],
   "source": [
    "preds_train = clf.decision_function(X_train)\n",
    "preds_test  = clf.decision_function(X_test)"
   ]
  },
  {
   "cell_type": "code",
   "execution_count": null,
   "metadata": {
    "collapsed": true
   },
   "outputs": [],
   "source": [
    "print('Training set:')\n",
    "printEvaluation(Y_train, preds_train)\n",
    "print()\n",
    "print('Test set:')\n",
    "printEvaluation(Y_test, preds_test)"
   ]
  },
  {
   "cell_type": "markdown",
   "metadata": {},
   "source": [
    "## Result analysis"
   ]
  },
  {
   "cell_type": "code",
   "execution_count": null,
   "metadata": {
    "collapsed": true
   },
   "outputs": [],
   "source": [
    "precisions_train = [avgPrecision(Y_train, preds_train, k) for k in range(1, nLabels+1)]\n",
    "precisions_test  = [avgPrecision(Y_test,  preds_test,  k) for k in range(1, nLabels+1)]"
   ]
  },
  {
   "cell_type": "code",
   "execution_count": null,
   "metadata": {
    "collapsed": true
   },
   "outputs": [],
   "source": [
    "precisionK_train = avgPrecisionK(Y_train, preds_train)\n",
    "precisionK_test  = avgPrecisionK(Y_test,  preds_test)"
   ]
  },
  {
   "cell_type": "code",
   "execution_count": null,
   "metadata": {
    "collapsed": true
   },
   "outputs": [],
   "source": [
    "plt.figure(figsize=[10,5])\n",
    "plt.plot(precisions_train, ls='--', c='r', label='Train')\n",
    "plt.plot(precisions_test,  ls='-',  c='g', label='Test')\n",
    "plt.plot([precisionK_train for k in range(nLabels)], ls='-', c='r', label='Train, Precision@K')\n",
    "plt.plot([precisionK_test  for k in range(nLabels)], ls='-', c='g', label='Test, Precision@K')\n",
    "plt.xticks(np.arange(nLabels), np.arange(1,nLabels+1))\n",
    "plt.xlabel('k')\n",
    "plt.ylabel('Precision@k')\n",
    "plt.legend(loc='best')\n",
    "plt.title('MLC w. Top-push Loss on ' + dataset_name + ' dataset')\n",
    "plt.savefig(dataset_name + '_tp.svg')"
   ]
  }
 ],
 "metadata": {
  "kernelspec": {
   "display_name": "Python 3",
   "language": "python",
   "name": "python3"
  },
  "language_info": {
   "codemirror_mode": {
    "name": "ipython",
    "version": 3
   },
   "file_extension": ".py",
   "mimetype": "text/x-python",
   "name": "python",
   "nbconvert_exporter": "python",
   "pygments_lexer": "ipython3",
   "version": "3.6.3"
  }
 },
 "nbformat": 4,
 "nbformat_minor": 2
}
