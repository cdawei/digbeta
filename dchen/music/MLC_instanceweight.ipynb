{
 "cells": [
  {
   "cell_type": "markdown",
   "metadata": {},
   "source": [
    "# Multi-label classification -- instance weighting with logistic loss"
   ]
  },
  {
   "cell_type": "code",
   "execution_count": 1,
   "metadata": {
    "collapsed": true
   },
   "outputs": [],
   "source": [
    "%matplotlib inline\n",
    "%load_ext autoreload\n",
    "%autoreload 2\n",
    "\n",
    "import os, sys, time\n",
    "import pickle as pkl\n",
    "import numpy as np\n",
    "import pandas as pd\n",
    "\n",
    "from scipy.optimize import minimize\n",
    "from scipy.optimize import check_grad\n",
    "\n",
    "from sklearn.base import BaseEstimator\n",
    "from sklearn.pipeline import make_pipeline\n",
    "from sklearn.model_selection import train_test_split\n",
    "from sklearn.model_selection import GridSearchCV\n",
    "from sklearn.metrics import classification_report\n",
    "\n",
    "import matplotlib.pyplot as plt\n",
    "import seaborn as sns"
   ]
  },
  {
   "cell_type": "code",
   "execution_count": 2,
   "metadata": {
    "collapsed": true
   },
   "outputs": [],
   "source": [
    "sys.path.append('src')\n",
    "from evaluate import avgPrecision, avgPrecisionK, printEvaluation\n",
    "from datasets import create_dataset_yeast_train, create_dataset_yeast_test, yeast_nLabels\n",
    "from datasets import create_dataset_scene_train, create_dataset_scene_test, scene_nLabels\n",
    "from datasets import create_dataset_mediamill_train, create_dataset_mediamill_test, mm_nLabels"
   ]
  },
  {
   "cell_type": "code",
   "execution_count": 3,
   "metadata": {
    "collapsed": true
   },
   "outputs": [],
   "source": [
    "datasets = ['yeast', 'scene', 'mediamill']\n",
    "num_labels = [yeast_nLabels, scene_nLabels, mm_nLabels]\n",
    "create_dataset_train_funcs = [create_dataset_yeast_train, \n",
    "                              create_dataset_scene_train, \n",
    "                              create_dataset_mediamill_train]\n",
    "create_dataset_test_funcs  = [create_dataset_yeast_test,\n",
    "                              create_dataset_scene_test,\n",
    "                              create_dataset_mediamill_test]"
   ]
  },
  {
   "cell_type": "code",
   "execution_count": 4,
   "metadata": {
    "collapsed": true
   },
   "outputs": [],
   "source": [
    "data_ix = 1"
   ]
  },
  {
   "cell_type": "code",
   "execution_count": 5,
   "metadata": {
    "collapsed": true
   },
   "outputs": [],
   "source": [
    "dataset_name = datasets[data_ix]\n",
    "nLabels = num_labels[data_ix]\n",
    "create_dataset_train = create_dataset_train_funcs[data_ix]\n",
    "create_dataset_test  = create_dataset_test_funcs [data_ix]"
   ]
  },
  {
   "cell_type": "code",
   "execution_count": 6,
   "metadata": {
    "collapsed": true
   },
   "outputs": [],
   "source": [
    "SEED = 123456789"
   ]
  },
  {
   "cell_type": "markdown",
   "metadata": {},
   "source": [
    "The sigmoid function."
   ]
  },
  {
   "cell_type": "code",
   "execution_count": 7,
   "metadata": {
    "collapsed": true
   },
   "outputs": [],
   "source": [
    "def sigmoid(x):\n",
    "    return 1.0 / (1.0 + np.exp(-x))"
   ]
  },
  {
   "cell_type": "markdown",
   "metadata": {},
   "source": [
    "## Instance weighting with logistic loss"
   ]
  },
  {
   "cell_type": "markdown",
   "metadata": {},
   "source": [
    "Multi-label learning with p-norm push loss."
   ]
  },
  {
   "cell_type": "code",
   "execution_count": 8,
   "metadata": {
    "collapsed": true
   },
   "outputs": [],
   "source": [
    "def obj_instance_weighting(w, X, Y, C):\n",
    "    \"\"\"\n",
    "        Objective with L2 regularisation and instance weighting with logistic loss\n",
    "        \n",
    "        Input:\n",
    "            - w: current weight vector, flattened L x D\n",
    "            - X: feature matrix, N x D\n",
    "            - Y: label matrix,   N x L\n",
    "            - C: regularisation constant, is consistent with scikit-learn C = 1 / (N * \\lambda)\n",
    "    \"\"\"\n",
    "    N, D = X.shape\n",
    "    L = Y.shape[1]\n",
    "    assert(w.shape[0] == L * D)\n",
    "    assert(C > 0)\n",
    "    \n",
    "    W = w.reshape(L, D)  # reshape weight matrix\n",
    "    \n",
    "    J = 0.0  # cost\n",
    "    G = np.zeros_like(W)  # gradient matrix\n",
    "    nPosAll = np.sum(Y, axis=1)  # number of positive labels for each example, N by 1\n",
    "    nNegAll = L - nPosAll        # number of negative labels for each example, N by 1\n",
    "    \n",
    "    for k in range(nLabels):\n",
    "        wk = W[k, :]\n",
    "        Yk = Y[:, k]\n",
    "        sPosVec = np.dot(X[Yk == 1, :], wk)      # Nk+ by 1\n",
    "        sNegVec = np.dot(X[Yk == 0, :], wk)      # NK- by 1\n",
    "        nPosVec = nPosAll[Yk == 1]               # Nk+ by 1\n",
    "        nNegVec = nNegAll[Yk == 0]               # NK- by 1\n",
    "        \n",
    "        lossPos = np.divide(np.log1p(np.exp(-sPosVec)), nPosVec)  # NK+ by 1\n",
    "        lossNeg = np.divide(np.log1p(np.exp(sNegVec)), nNegVec)  # NK- by 1\n",
    "        \n",
    "        J += np.sum(lossPos) + np.sum(lossNeg)\n",
    "        \n",
    "        GradPos = -X[Yk == 1, :] * (1 / np.multiply(nPosVec, 1 + np.exp( sPosVec)))[:, None]\n",
    "        GradNeg =  X[Yk == 0, :] * (1 / np.multiply(nNegVec, 1 + np.exp(-sNegVec)))[:, None]\n",
    "        \n",
    "        G[k, :] = np.sum(GradPos, axis=0) + np.sum(GradNeg, axis=0)\n",
    "                \n",
    "    #J = 0.5 * C * np.dot(w, w) + J / N\n",
    "    #G = C * W + G / N\n",
    "    \n",
    "    # be consistent with scikit-learn C = 1 / (N * \\lambda)\n",
    "    J = 0.5 * np.dot(w, w) + C * J\n",
    "    G = W + C * G\n",
    "    \n",
    "    return (J, G.ravel())"
   ]
  },
  {
   "cell_type": "markdown",
   "metadata": {},
   "source": [
    "Check gradient"
   ]
  },
  {
   "cell_type": "code",
   "execution_count": 9,
   "metadata": {
    "collapsed": true
   },
   "outputs": [],
   "source": [
    "X_train, Y_train = create_dataset_train()\n",
    "X_test,  Y_test  = create_dataset_test()"
   ]
  },
  {
   "cell_type": "code",
   "execution_count": 10,
   "metadata": {
    "collapsed": true
   },
   "outputs": [],
   "source": [
    "%%script false\n",
    "#C = 1  # if C is lambda\n",
    "C = 1 / X_train.shape[0]\n",
    "w0 = np.random.rand(nFeatures * nLabels)\n",
    "check_grad(lambda w: obj_instance_weighting(w, X_train, Y_train, C)[0], \\\n",
    "           lambda w: obj_instance_weighting(w, X_train, Y_train, C)[1], w0)"
   ]
  },
  {
   "cell_type": "code",
   "execution_count": 11,
   "metadata": {
    "collapsed": true
   },
   "outputs": [],
   "source": [
    "class MLC_instanceweight(BaseEstimator):\n",
    "    \"\"\"All methods are necessary for a scikit-learn estimator\"\"\"\n",
    "    \n",
    "    def __init__(self, C=1):\n",
    "        \"\"\"Initialisation\"\"\"\n",
    "        \n",
    "        assert C > 0\n",
    "        self.C = C\n",
    "        self.trained = False\n",
    "        \n",
    "    def fit(self, X_train, Y_train):\n",
    "        \"\"\"Model fitting by optimising the objective\"\"\"\n",
    "        \n",
    "        opt_method = 'BFGS' #'Newton-CG'\n",
    "        options = {'disp': True}\n",
    "        if options['disp']: \n",
    "            print('\\nC: %g' % self.C)\n",
    "            \n",
    "        D = X_train.shape[1]\n",
    "        L = Y_train.shape[1]\n",
    "        w0 = np.random.rand(L * D)  # initial guess\n",
    "        opt = minimize(obj_instance_weighting, w0, args=(X_train, Y_train, self.C), \\\n",
    "                       method=opt_method, jac=True, options=options)\n",
    "        if opt.success is True:\n",
    "            self.w = opt.x\n",
    "            self.trained = True\n",
    "        else:\n",
    "            sys.stderr.write('Optimisation failed')\n",
    "            self.trained = False\n",
    "    \n",
    "            \n",
    "    def decision_function(self, X_test):\n",
    "        \"\"\"Make predictions (score is real number)\"\"\"\n",
    "        \n",
    "        assert self.trained is True, \"Can't make prediction before training\"\n",
    "        D = X_test.shape[1]\n",
    "        return np.dot(X_test, self.w.reshape(-1, D).T)\n",
    "        \n",
    "    \n",
    "    def predict(self, X_test):\n",
    "        \"\"\"Make predictions (score is boolean)\"\"\"\n",
    "        \n",
    "        preds = self.decision_function(X_test)\n",
    "        return (preds > 0)\n",
    "    \n",
    "    \n",
    "    def score(self, X, Y):\n",
    "        \"\"\"Compute scoring metric\"\"\"\n",
    "        \n",
    "        allPreds = self.decision_function(X)\n",
    "        return avgPrecisionK(Y, allPreds)\n",
    "    \n",
    "    # inherit from BaseEstimator instead of re-implement\n",
    "    #\n",
    "    #def get_params(self, deep = True):\n",
    "    #def set_params(self, **params):"
   ]
  },
  {
   "cell_type": "code",
   "execution_count": 12,
   "metadata": {
    "scrolled": true
   },
   "outputs": [
    {
     "name": "stdout",
     "output_type": "stream",
     "text": [
      "\n",
      "C: 1e-06\n",
      "Optimization terminated successfully.\n",
      "         Current function value: 0.001342\n",
      "         Iterations: 4\n",
      "         Function evaluations: 6\n",
      "         Gradient evaluations: 6\n",
      "\n",
      "C: 1e-06\n",
      "Optimization terminated successfully.\n",
      "         Current function value: 0.001343\n",
      "         Iterations: 4\n",
      "         Function evaluations: 6\n",
      "         Gradient evaluations: 6\n",
      "\n",
      "C: 1e-06\n",
      "Optimization terminated successfully.\n",
      "         Current function value: 0.001343\n",
      "         Iterations: 4\n",
      "         Function evaluations: 6\n",
      "         Gradient evaluations: 6\n",
      "\n",
      "C: 1e-06\n",
      "Optimization terminated successfully.\n",
      "         Current function value: 0.001343\n",
      "         Iterations: 4\n",
      "         Function evaluations: 6\n",
      "         Gradient evaluations: 6\n",
      "\n",
      "C: 1e-06\n",
      "Optimization terminated successfully.\n",
      "         Current function value: 0.001343\n",
      "         Iterations: 4\n",
      "         Function evaluations: 6\n",
      "         Gradient evaluations: 6\n",
      "\n",
      "C: 1e-05\n",
      "Optimization terminated successfully.\n",
      "         Current function value: 0.013388\n",
      "         Iterations: 5\n",
      "         Function evaluations: 7\n",
      "         Gradient evaluations: 7\n",
      "\n",
      "C: 1e-05\n",
      "Optimization terminated successfully.\n",
      "         Current function value: 0.013407\n",
      "         Iterations: 5\n",
      "         Function evaluations: 7\n",
      "         Gradient evaluations: 7\n",
      "\n",
      "C: 1e-05\n",
      "Optimization terminated successfully.\n",
      "         Current function value: 0.013412\n",
      "         Iterations: 5\n",
      "         Function evaluations: 7\n",
      "         Gradient evaluations: 7\n",
      "\n",
      "C: 1e-05\n",
      "Optimization terminated successfully.\n",
      "         Current function value: 0.013414\n",
      "         Iterations: 5\n",
      "         Function evaluations: 7\n",
      "         Gradient evaluations: 7\n",
      "\n",
      "C: 1e-05\n",
      "Optimization terminated successfully.\n",
      "         Current function value: 0.013404\n",
      "         Iterations: 5\n",
      "         Function evaluations: 7\n",
      "         Gradient evaluations: 7\n",
      "\n",
      "C: 0.0001\n",
      "Optimization terminated successfully.\n",
      "         Current function value: 0.131573\n",
      "         Iterations: 7\n",
      "         Function evaluations: 9\n",
      "         Gradient evaluations: 9\n",
      "\n",
      "C: 0.0001\n",
      "Optimization terminated successfully.\n",
      "         Current function value: 0.132167\n",
      "         Iterations: 7\n",
      "         Function evaluations: 9\n",
      "         Gradient evaluations: 9\n",
      "\n",
      "C: 0.0001\n",
      "Optimization terminated successfully.\n",
      "         Current function value: 0.132573\n",
      "         Iterations: 7\n",
      "         Function evaluations: 9\n",
      "         Gradient evaluations: 9\n",
      "\n",
      "C: 0.0001\n",
      "Optimization terminated successfully.\n",
      "         Current function value: 0.132664\n",
      "         Iterations: 7\n",
      "         Function evaluations: 9\n",
      "         Gradient evaluations: 9\n",
      "\n",
      "C: 0.0001\n",
      "Optimization terminated successfully.\n",
      "         Current function value: 0.131848\n",
      "         Iterations: 7\n",
      "         Function evaluations: 9\n",
      "         Gradient evaluations: 9\n",
      "\n",
      "C: 0.001\n",
      "Optimization terminated successfully.\n",
      "         Current function value: 1.215306\n",
      "         Iterations: 19\n",
      "         Function evaluations: 23\n",
      "         Gradient evaluations: 23\n",
      "\n",
      "C: 0.001\n",
      "Optimization terminated successfully.\n",
      "         Current function value: 1.247056\n",
      "         Iterations: 16\n",
      "         Function evaluations: 22\n",
      "         Gradient evaluations: 22\n",
      "\n",
      "C: 0.001\n",
      "Optimization terminated successfully.\n",
      "         Current function value: 1.257217\n",
      "         Iterations: 13\n",
      "         Function evaluations: 20\n",
      "         Gradient evaluations: 20\n",
      "\n",
      "C: 0.001\n",
      "Optimization terminated successfully.\n",
      "         Current function value: 1.255897\n",
      "         Iterations: 17\n",
      "         Function evaluations: 22\n",
      "         Gradient evaluations: 22\n",
      "\n",
      "C: 0.001\n",
      "Optimization terminated successfully.\n",
      "         Current function value: 1.221555\n",
      "         Iterations: 18\n",
      "         Function evaluations: 22\n",
      "         Gradient evaluations: 22\n",
      "\n",
      "C: 0.01\n",
      "Optimization terminated successfully.\n",
      "         Current function value: 9.760129\n",
      "         Iterations: 23\n",
      "         Function evaluations: 28\n",
      "         Gradient evaluations: 28\n",
      "\n",
      "C: 0.01\n",
      "Optimization terminated successfully.\n",
      "         Current function value: 10.749075\n",
      "         Iterations: 22\n",
      "         Function evaluations: 29\n",
      "         Gradient evaluations: 29\n",
      "\n",
      "C: 0.01\n",
      "Optimization terminated successfully.\n",
      "         Current function value: 10.637860\n",
      "         Iterations: 21\n",
      "         Function evaluations: 29\n",
      "         Gradient evaluations: 29\n",
      "\n",
      "C: 0.01\n",
      "Optimization terminated successfully.\n",
      "         Current function value: 10.376622\n",
      "         Iterations: 22\n",
      "         Function evaluations: 30\n",
      "         Gradient evaluations: 30\n",
      "\n",
      "C: 0.01\n",
      "Optimization terminated successfully.\n",
      "         Current function value: 9.848344\n",
      "         Iterations: 22\n",
      "         Function evaluations: 29\n",
      "         Gradient evaluations: 29\n",
      "\n",
      "C: 0.1\n",
      "Optimization terminated successfully.\n",
      "         Current function value: 67.953364\n",
      "         Iterations: 30\n",
      "         Function evaluations: 58\n",
      "         Gradient evaluations: 58\n",
      "\n",
      "C: 0.1\n",
      "Optimization terminated successfully.\n",
      "         Current function value: 79.653178\n",
      "         Iterations: 28\n",
      "         Function evaluations: 52\n",
      "         Gradient evaluations: 52\n",
      "\n",
      "C: 0.1\n",
      "Optimization terminated successfully.\n",
      "         Current function value: 77.083850\n",
      "         Iterations: 27\n",
      "         Function evaluations: 50\n",
      "         Gradient evaluations: 50\n",
      "\n",
      "C: 0.1\n",
      "Optimization terminated successfully.\n",
      "         Current function value: 72.711028\n",
      "         Iterations: 33\n",
      "         Function evaluations: 57\n",
      "         Gradient evaluations: 57\n",
      "\n",
      "C: 0.1\n",
      "Optimization terminated successfully.\n",
      "         Current function value: 68.244852\n",
      "         Iterations: 29\n",
      "         Function evaluations: 52\n",
      "         Gradient evaluations: 52\n",
      "\n",
      "C: 1\n"
     ]
    },
    {
     "name": "stderr",
     "output_type": "stream",
     "text": [
      "/home/dawei/apps/miniconda3/lib/python3.6/site-packages/ipykernel_launcher.py:37: RuntimeWarning: overflow encountered in exp\n",
      "/home/dawei/apps/miniconda3/lib/python3.6/site-packages/ipykernel_launcher.py:37: RuntimeWarning: overflow encountered in multiply\n"
     ]
    },
    {
     "name": "stdout",
     "output_type": "stream",
     "text": [
      "Optimization terminated successfully.\n",
      "         Current function value: 470.871821\n",
      "         Iterations: 77\n",
      "         Function evaluations: 99\n",
      "         Gradient evaluations: 99\n",
      "\n",
      "C: 1\n"
     ]
    },
    {
     "name": "stderr",
     "output_type": "stream",
     "text": [
      "/home/dawei/apps/miniconda3/lib/python3.6/site-packages/ipykernel_launcher.py:37: RuntimeWarning: overflow encountered in exp\n",
      "/home/dawei/apps/miniconda3/lib/python3.6/site-packages/ipykernel_launcher.py:37: RuntimeWarning: overflow encountered in multiply\n"
     ]
    },
    {
     "name": "stdout",
     "output_type": "stream",
     "text": [
      "Optimization terminated successfully.\n",
      "         Current function value: 573.412984\n",
      "         Iterations: 71\n",
      "         Function evaluations: 99\n",
      "         Gradient evaluations: 99\n",
      "\n",
      "C: 1\n"
     ]
    },
    {
     "name": "stderr",
     "output_type": "stream",
     "text": [
      "/home/dawei/apps/miniconda3/lib/python3.6/site-packages/ipykernel_launcher.py:37: RuntimeWarning: overflow encountered in exp\n"
     ]
    },
    {
     "name": "stdout",
     "output_type": "stream",
     "text": [
      "Optimization terminated successfully.\n",
      "         Current function value: 537.161317\n",
      "         Iterations: 72\n",
      "         Function evaluations: 88\n",
      "         Gradient evaluations: 88\n",
      "\n",
      "C: 1\n"
     ]
    },
    {
     "name": "stderr",
     "output_type": "stream",
     "text": [
      "/home/dawei/apps/miniconda3/lib/python3.6/site-packages/ipykernel_launcher.py:31: RuntimeWarning: overflow encountered in exp\n",
      "/home/dawei/apps/miniconda3/lib/python3.6/site-packages/ipykernel_launcher.py:37: RuntimeWarning: overflow encountered in exp\n",
      "/home/dawei/apps/miniconda3/lib/python3.6/site-packages/ipykernel_launcher.py:37: RuntimeWarning: overflow encountered in multiply\n",
      "/home/dawei/apps/miniconda3/lib/python3.6/site-packages/ipykernel_launcher.py:31: RuntimeWarning: overflow encountered in exp\n",
      "/home/dawei/apps/miniconda3/lib/python3.6/site-packages/ipykernel_launcher.py:37: RuntimeWarning: overflow encountered in exp\n",
      "/home/dawei/apps/miniconda3/lib/python3.6/site-packages/ipykernel_launcher.py:37: RuntimeWarning: overflow encountered in multiply\n"
     ]
    },
    {
     "name": "stdout",
     "output_type": "stream",
     "text": [
      "Optimization terminated successfully.\n",
      "         Current function value: 489.165844\n",
      "         Iterations: 76\n",
      "         Function evaluations: 103\n",
      "         Gradient evaluations: 100\n",
      "\n",
      "C: 1\n"
     ]
    },
    {
     "name": "stderr",
     "output_type": "stream",
     "text": [
      "/home/dawei/apps/miniconda3/lib/python3.6/site-packages/ipykernel_launcher.py:37: RuntimeWarning: overflow encountered in exp\n",
      "/home/dawei/apps/miniconda3/lib/python3.6/site-packages/ipykernel_launcher.py:37: RuntimeWarning: overflow encountered in multiply\n"
     ]
    },
    {
     "name": "stdout",
     "output_type": "stream",
     "text": [
      "Optimization terminated successfully.\n",
      "         Current function value: 462.235371\n",
      "         Iterations: 69\n",
      "         Function evaluations: 93\n",
      "         Gradient evaluations: 93\n",
      "\n",
      "C: 1\n",
      "Optimization terminated successfully.\n",
      "         Current function value: 697.216399\n",
      "         Iterations: 89\n",
      "         Function evaluations: 104\n",
      "         Gradient evaluations: 104\n",
      "\n",
      "Best parameters set found on development set:\n",
      "{'C': 1}\n"
     ]
    }
   ],
   "source": [
    "parameters = [{'C': [10**(e) for e in range(-6,1)]}]\n",
    "\n",
    "clf = GridSearchCV(MLC_instanceweight(), parameters, cv=5)\n",
    "clf.fit(X_train, Y_train)\n",
    "\n",
    "print(\"\\nBest parameters set found on development set:\")\n",
    "print(clf.best_params_)"
   ]
  },
  {
   "cell_type": "code",
   "execution_count": 13,
   "metadata": {},
   "outputs": [
    {
     "name": "stdout",
     "output_type": "stream",
     "text": [
      "0.017 (+/-0.036) for {'C': 1e-06}\n",
      "0.018 (+/-0.036) for {'C': 1e-05}\n",
      "0.020 (+/-0.039) for {'C': 0.0001}\n",
      "0.033 (+/-0.043) for {'C': 0.001}\n",
      "0.136 (+/-0.127) for {'C': 0.01}\n",
      "0.205 (+/-0.243) for {'C': 0.1}\n",
      "0.262 (+/-0.344) for {'C': 1}\n"
     ]
    }
   ],
   "source": [
    "for mean, std, params in zip(clf.cv_results_['mean_test_score'], clf.cv_results_['std_test_score'], \\\n",
    "                             clf.cv_results_['params']):\n",
    "    print(\"%0.3f (+/-%0.03f) for %r\" % (mean, std * 2, params))"
   ]
  },
  {
   "cell_type": "code",
   "execution_count": 14,
   "metadata": {
    "collapsed": true
   },
   "outputs": [],
   "source": [
    "preds_train = clf.decision_function(X_train)\n",
    "preds_test  = clf.decision_function(X_test)"
   ]
  },
  {
   "cell_type": "code",
   "execution_count": 15,
   "metadata": {},
   "outputs": [
    {
     "name": "stdout",
     "output_type": "stream",
     "text": [
      "Training set:\n",
      "Average Precision@K: 0.8291, 0.011\n",
      "\n",
      "Test set:\n",
      "Average Precision@K: 0.7291, 0.013\n"
     ]
    }
   ],
   "source": [
    "print('Training set:')\n",
    "printEvaluation(Y_train, preds_train)\n",
    "print()\n",
    "print('Test set:')\n",
    "printEvaluation(Y_test, preds_test)"
   ]
  },
  {
   "cell_type": "markdown",
   "metadata": {},
   "source": [
    "## Result analysis"
   ]
  },
  {
   "cell_type": "code",
   "execution_count": 16,
   "metadata": {
    "collapsed": true
   },
   "outputs": [],
   "source": [
    "precisions_train = [avgPrecision(Y_train, preds_train, k) for k in range(1, nLabels+1)]\n",
    "precisions_test  = [avgPrecision(Y_test,  preds_test,  k) for k in range(1, nLabels+1)]"
   ]
  },
  {
   "cell_type": "code",
   "execution_count": 17,
   "metadata": {
    "collapsed": true
   },
   "outputs": [],
   "source": [
    "precisionK_train = avgPrecisionK(Y_train, preds_train)\n",
    "precisionK_test  = avgPrecisionK(Y_test,  preds_test)"
   ]
  },
  {
   "cell_type": "code",
   "execution_count": 18,
   "metadata": {},
   "outputs": [
    {
     "data": {
      "image/png": "[encoded data removed]",
      "text/plain": [
       "<matplotlib.figure.Figure at 0x7f94a0051390>"
      ]
     },
     "metadata": {},
     "output_type": "display_data"
    }
   ],
   "source": [
    "plt.figure(figsize=[10,5])\n",
    "plt.plot(precisions_train, ls='--', c='r', label='Train')\n",
    "plt.plot(precisions_test,  ls='-',  c='g', label='Test')\n",
    "plt.plot([precisionK_train for k in range(nLabels)], ls='-', c='r', label='Train, Precision@K')\n",
    "plt.plot([precisionK_test  for k in range(nLabels)], ls='-', c='g', label='Test, Precision@K')\n",
    "plt.xticks(np.arange(nLabels), np.arange(1,nLabels+1))\n",
    "plt.xlabel('k')\n",
    "plt.ylabel('Precision@k')\n",
    "plt.legend(loc='best')\n",
    "plt.title('Instance Weighting w. Logistic Loss on ' + dataset_name + ' dataset')\n",
    "plt.savefig(dataset_name + '_iw.svg')"
   ]
  }
 ],
 "metadata": {
  "kernelspec": {
   "display_name": "Python 3",
   "language": "python",
   "name": "python3"
  },
  "language_info": {
   "codemirror_mode": {
    "name": "ipython",
    "version": 3
   },
   "file_extension": ".py",
   "mimetype": "text/x-python",
   "name": "python",
   "nbconvert_exporter": "python",
   "pygments_lexer": "ipython3",
   "version": "3.6.2"
  }
 },
 "nbformat": 4,
 "nbformat_minor": 2
}
