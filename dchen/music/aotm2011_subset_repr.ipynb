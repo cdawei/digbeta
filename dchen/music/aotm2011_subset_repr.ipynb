{
 "cells": [
  {
   "cell_type": "markdown",
   "metadata": {},
   "source": [
    "# A representative subset of AotM-2011 Playlists with MSD Audio Features"
   ]
  },
  {
   "cell_type": "code",
   "execution_count": 1,
   "metadata": {},
   "outputs": [],
   "source": [
    "%matplotlib inline\n",
    "%load_ext autoreload\n",
    "%autoreload 2\n",
    "\n",
    "import os, sys\n",
    "import gzip\n",
    "import pickle as pkl\n",
    "import numpy as np\n",
    "import pandas as pd\n",
    "from sklearn.model_selection import train_test_split\n",
    "from sklearn.metrics import precision_recall_fscore_support, roc_auc_score, average_precision_score\n",
    "from scipy.sparse import lil_matrix, issparse\n",
    "from collections import Counter\n",
    "\n",
    "import matplotlib.pyplot as plt\n",
    "import seaborn as sns"
   ]
  },
  {
   "cell_type": "code",
   "execution_count": 2,
   "metadata": {},
   "outputs": [],
   "source": [
    "sys.path.append('src')\n",
    "from BinaryRelevance import BinaryRelevance\n",
    "#from PClassificationMLC import PClassificationMLC\n",
    "from PCMLC import PCMLC as PClassificationMLC\n",
    "from evaluate import calc_F1, calc_precisionK, calc_rank, f1_score_nowarn"
   ]
  },
  {
   "cell_type": "code",
   "execution_count": 3,
   "metadata": {},
   "outputs": [],
   "source": [
    "data_dir = 'data/aotm-2011'\n",
    "#faotm = os.path.join(data_dir, 'aotm2011-subset.pkl')\n",
    "faotm = os.path.join(data_dir, 'aotm2011-user-playlist.pkl')\n",
    "ffeature = 'data/msd/songID2Features.pkl.gz'\n",
    "fgenre = 'data/msd/song2genre.pkl'"
   ]
  },
  {
   "cell_type": "markdown",
   "metadata": {},
   "source": [
    "## Load playlists"
   ]
  },
  {
   "cell_type": "markdown",
   "metadata": {},
   "source": [
    "Load playlists."
   ]
  },
  {
   "cell_type": "code",
   "execution_count": 4,
   "metadata": {},
   "outputs": [],
   "source": [
    "user_playlists = pkl.load(open(faotm, 'rb'))"
   ]
  },
  {
   "cell_type": "code",
   "execution_count": 5,
   "metadata": {},
   "outputs": [
    {
     "name": "stdout",
     "output_type": "stream",
     "text": [
      "#user    : 14182\n",
      "#playlist: 84710\n"
     ]
    }
   ],
   "source": [
    "print('#user    :', len(user_playlists))\n",
    "print('#playlist:', np.sum([len(user_playlists[u]) for u in user_playlists]))"
   ]
  },
  {
   "cell_type": "code",
   "execution_count": 6,
   "metadata": {},
   "outputs": [
    {
     "name": "stdout",
     "output_type": "stream",
     "text": [
      "Average playlist length: 10.1\n"
     ]
    }
   ],
   "source": [
    "pl_lengths = [len(pl) for u in user_playlists for pl in user_playlists[u]]\n",
    "#plt.hist(pl_lengths, bins=100)\n",
    "print('Average playlist length: %.1f' % np.mean(pl_lengths))"
   ]
  },
  {
   "cell_type": "code",
   "execution_count": 7,
   "metadata": {},
   "outputs": [],
   "source": [
    "users = sorted(user_playlists.keys())"
   ]
  },
  {
   "cell_type": "code",
   "execution_count": 8,
   "metadata": {},
   "outputs": [],
   "source": [
    "songs_user = {u: {sid for pl in user_playlists[u] for sid in pl} for u in users}  # user: a set of songs"
   ]
  },
  {
   "cell_type": "markdown",
   "metadata": {},
   "source": [
    "Compute the number of playlists per user, and the number of songs covered by the user's playlists."
   ]
  },
  {
   "cell_type": "code",
   "execution_count": 9,
   "metadata": {},
   "outputs": [],
   "source": [
    "udf = pd.DataFrame(index=users, columns=['#playlist', '#song'])"
   ]
  },
  {
   "cell_type": "code",
   "execution_count": 10,
   "metadata": {},
   "outputs": [],
   "source": [
    "udf['#playlist'] = [len(user_playlists[u]) for u in users]"
   ]
  },
  {
   "cell_type": "code",
   "execution_count": 11,
   "metadata": {},
   "outputs": [],
   "source": [
    "udf['#song'] = [len(songs_user[u]) for u in users]"
   ]
  },
  {
   "cell_type": "code",
   "execution_count": 12,
   "metadata": {},
   "outputs": [
    {
     "data": {
      "image/png": "[encoded data removed]",
      "text/plain": [
       "<matplotlib.figure.Figure at 0x7f77197daef0>"
      ]
     },
     "metadata": {},
     "output_type": "display_data"
    }
   ],
   "source": [
    "ax = plt.subplot(111)\n",
    "udf['#playlist'].hist(bins=200, ax=ax)\n",
    "ax.set_yscale('log')"
   ]
  },
  {
   "cell_type": "code",
   "execution_count": 13,
   "metadata": {},
   "outputs": [],
   "source": [
    "u_npl = sorted([(u, len(user_playlists[u])) for u in users], key=lambda x: x[1])"
   ]
  },
  {
   "cell_type": "code",
   "execution_count": 14,
   "metadata": {},
   "outputs": [],
   "source": [
    "#u_npl"
   ]
  },
  {
   "cell_type": "code",
   "execution_count": 15,
   "metadata": {},
   "outputs": [],
   "source": [
    "step = 1000  # sample 0.1%\n",
    "subset = [u_npl[ix] for ix in np.arange(0, len(u_npl), step)]"
   ]
  },
  {
   "cell_type": "code",
   "execution_count": 16,
   "metadata": {
    "scrolled": true
   },
   "outputs": [
    {
     "data": {
      "text/plain": [
       "[((914763600.0, 'Grey'), 1),\n",
       " ((1050674400.0, 'World Class Chris'), 1),\n",
       " ((1076418000.0, 'Garick'), 1),\n",
       " ((1076418000.0, 'Tom Jones'), 1),\n",
       " ((1078923600.0, 'Kurt87'), 1),\n",
       " ((1115992800.0, 'm12788'), 1),\n",
       " ((1190728800.0, 'EvaninCambridge'), 1),\n",
       " ((1058364000.0, 'Meg Usta'), 2),\n",
       " ((1092578400.0, 'XxPunk4PeacexX'), 2),\n",
       " ((1049205600.0, 'hobbitcore'), 3),\n",
       " ((1008421200.0, 'Chris Bowron'), 4),\n",
       " ((1079787600.0, 'tragic3rdwoman'), 5),\n",
       " ((1069246800.0, 'Axelsson'), 8),\n",
       " ((1012482000.0, 'lynn*'), 15),\n",
       " ((1009198800.0, 'jarød'), 62)]"
      ]
     },
     "execution_count": 16,
     "metadata": {},
     "output_type": "execute_result"
    }
   ],
   "source": [
    "subset"
   ]
  },
  {
   "cell_type": "code",
   "execution_count": 17,
   "metadata": {},
   "outputs": [],
   "source": [
    "uid_subset = [t[0] for t in subset]"
   ]
  },
  {
   "cell_type": "code",
   "execution_count": 18,
   "metadata": {},
   "outputs": [],
   "source": [
    "#udf_subset = udf[ udf['#playlist'] == 10]\n",
    "#udf_subset.head()"
   ]
  },
  {
   "cell_type": "code",
   "execution_count": 19,
   "metadata": {},
   "outputs": [],
   "source": [
    "#uid_subset += udf_subset.index[[3,4]].tolist()"
   ]
  },
  {
   "cell_type": "code",
   "execution_count": 20,
   "metadata": {},
   "outputs": [],
   "source": [
    "#udf_subset = udf[ udf['#playlist'] == 30]\n",
    "#udf_subset.head()"
   ]
  },
  {
   "cell_type": "code",
   "execution_count": 21,
   "metadata": {},
   "outputs": [],
   "source": [
    "#uid_subset += udf_subset.index[[1,2]].tolist()"
   ]
  },
  {
   "cell_type": "code",
   "execution_count": 22,
   "metadata": {},
   "outputs": [],
   "source": [
    "#udf_subset = udf[ udf['#playlist'].isin(np.arange(95, 105))]\n",
    "#udf_subset.sort_values(by='#playlist')"
   ]
  },
  {
   "cell_type": "code",
   "execution_count": 23,
   "metadata": {},
   "outputs": [],
   "source": [
    "#uid_subset += udf_subset.index[[2,5]].tolist()"
   ]
  },
  {
   "cell_type": "code",
   "execution_count": 24,
   "metadata": {},
   "outputs": [],
   "source": [
    "#udf.sort_values(by=['#playlist'], ascending=False).iloc[100:200]"
   ]
  },
  {
   "cell_type": "code",
   "execution_count": 25,
   "metadata": {
    "scrolled": true
   },
   "outputs": [],
   "source": [
    "#uid_subset"
   ]
  },
  {
   "cell_type": "code",
   "execution_count": 26,
   "metadata": {},
   "outputs": [],
   "source": [
    "#udf[uid_subset]  # tuple are used as multiindex in pandas\n",
    "#udf[[uid_subset]]"
   ]
  },
  {
   "cell_type": "markdown",
   "metadata": {},
   "source": [
    "## Subset of data"
   ]
  },
  {
   "cell_type": "markdown",
   "metadata": {},
   "source": [
    "The user whose playlists cover a *proper number of playlists*, e.g. 50."
   ]
  },
  {
   "cell_type": "code",
   "execution_count": 27,
   "metadata": {},
   "outputs": [],
   "source": [
    "playlists_subset = [pl for u in uid_subset for pl in user_playlists[u]]"
   ]
  },
  {
   "cell_type": "code",
   "execution_count": 28,
   "metadata": {},
   "outputs": [
    {
     "data": {
      "text/plain": [
       "108"
      ]
     },
     "execution_count": 28,
     "metadata": {},
     "output_type": "execute_result"
    }
   ],
   "source": [
    "len(playlists_subset)"
   ]
  },
  {
   "cell_type": "code",
   "execution_count": 29,
   "metadata": {},
   "outputs": [],
   "source": [
    "song_set = sorted({sid for u in uid_subset for sid in songs_user[u]})"
   ]
  },
  {
   "cell_type": "code",
   "execution_count": 30,
   "metadata": {},
   "outputs": [
    {
     "data": {
      "text/plain": [
       "786"
      ]
     },
     "execution_count": 30,
     "metadata": {},
     "output_type": "execute_result"
    }
   ],
   "source": [
    "len(song_set)"
   ]
  },
  {
   "cell_type": "markdown",
   "metadata": {},
   "source": [
    "### Split songs for setting I"
   ]
  },
  {
   "cell_type": "markdown",
   "metadata": {},
   "source": [
    "Split songs (80/20 split) such that the distributions of song popularity (the number of occurrence in playlists) in training and dev set are similiar."
   ]
  },
  {
   "cell_type": "code",
   "execution_count": 31,
   "metadata": {},
   "outputs": [],
   "source": [
    "song_pl_mat = np.zeros((len(song_set), len(playlists_subset)))\n",
    "songind = {sid: ix for ix, sid in enumerate(song_set)}\n",
    "for j in range(len(playlists_subset)):\n",
    "    pl = playlists_subset[j]\n",
    "    ind = [songind[sid] for sid in pl]\n",
    "    song_pl_mat[ind, j] = 1"
   ]
  },
  {
   "cell_type": "code",
   "execution_count": 32,
   "metadata": {},
   "outputs": [],
   "source": [
    "song_pop = np.sum(song_pl_mat, axis=1)"
   ]
  },
  {
   "cell_type": "code",
   "execution_count": 33,
   "metadata": {},
   "outputs": [],
   "source": [
    "#plt.hist(song_pop, bins=20)\n",
    "#print()"
   ]
  },
  {
   "cell_type": "code",
   "execution_count": 34,
   "metadata": {},
   "outputs": [],
   "source": [
    "#np.arange(0, 100, 5)"
   ]
  },
  {
   "cell_type": "code",
   "execution_count": 35,
   "metadata": {},
   "outputs": [],
   "source": [
    "sortix = np.argsort(song_pop)\n",
    "step = 5  # 80/20 split\n",
    "split_ix = np.arange(0, len(song_pop), step)\n",
    "dev_ix = [sortix[ix] for ix in split_ix]\n",
    "dev_song_set = [song_set[ix] for ix in dev_ix]\n",
    "train_song_set = sorted(set(song_set) - set(dev_song_set))"
   ]
  },
  {
   "cell_type": "markdown",
   "metadata": {},
   "source": [
    "Histogram of song popularity in training set."
   ]
  },
  {
   "cell_type": "code",
   "execution_count": 36,
   "metadata": {},
   "outputs": [
    {
     "name": "stdout",
     "output_type": "stream",
     "text": [
      "628\n"
     ]
    },
    {
     "data": {
      "image/png": "[encoded data removed]",
      "text/plain": [
       "<matplotlib.figure.Figure at 0x7f7710f912e8>"
      ]
     },
     "metadata": {},
     "output_type": "display_data"
    }
   ],
   "source": [
    "train_song_pop = [song_pop[songind[sid]] for sid in train_song_set]\n",
    "ax = plt.subplot(111)\n",
    "ax.hist(train_song_pop, bins=30)\n",
    "ax.set_yscale('log')\n",
    "ax.set_xlim(0, song_pop.max()+1)\n",
    "print(len(train_song_set))"
   ]
  },
  {
   "cell_type": "markdown",
   "metadata": {},
   "source": [
    "Histogram of song popularity in dev set."
   ]
  },
  {
   "cell_type": "code",
   "execution_count": 37,
   "metadata": {},
   "outputs": [
    {
     "name": "stdout",
     "output_type": "stream",
     "text": [
      "158\n"
     ]
    },
    {
     "data": {
      "image/png": "[encoded data removed]",
      "text/plain": [
       "<matplotlib.figure.Figure at 0x7f7710c4bc18>"
      ]
     },
     "metadata": {},
     "output_type": "display_data"
    }
   ],
   "source": [
    "dev_song_pop = [song_pop[songind[sid]] for sid in dev_song_set]\n",
    "ax = plt.subplot(111)\n",
    "ax.hist(dev_song_pop, bins=30)\n",
    "ax.set_yscale('log')\n",
    "ax.set_xlim(0, song_pop.max()+1)\n",
    "print(len(dev_song_set))"
   ]
  },
  {
   "cell_type": "markdown",
   "metadata": {},
   "source": [
    "### Split playlists"
   ]
  },
  {
   "cell_type": "markdown",
   "metadata": {},
   "source": [
    "Split playlists (50/50 split) such that the distributions of playlist length (the number of songs in playlists) for each user in training and dev set are similiar."
   ]
  },
  {
   "cell_type": "code",
   "execution_count": 38,
   "metadata": {},
   "outputs": [],
   "source": [
    "train_playlists = []\n",
    "dev_playlists = []"
   ]
  },
  {
   "cell_type": "code",
   "execution_count": 39,
   "metadata": {},
   "outputs": [],
   "source": [
    "#np.arange(0, 10, 2)"
   ]
  },
  {
   "cell_type": "code",
   "execution_count": 40,
   "metadata": {},
   "outputs": [],
   "source": [
    "for u in uid_subset:\n",
    "    u_playlists = user_playlists[u]\n",
    "    if len(u_playlists) < 2: \n",
    "        train_playlists.append((u, u_playlists[0]))\n",
    "        continue\n",
    "    sorted_pl = sorted(u_playlists, key=lambda pl: len(pl))\n",
    "    step = 2\n",
    "    sample_ix = np.arange(0, len(sorted_pl), step)\n",
    "    if len(sample_ix) <= len(sorted_pl) / 2:\n",
    "        dev_ix = sample_ix\n",
    "    else:\n",
    "        dev_ix = [ix for ix in range(len(sorted_pl)) if ix not in sample_ix]\n",
    "    dev_playlists += [(u, sorted_pl[ix]) for ix in dev_ix]\n",
    "    train_playlists += [(u, sorted_pl[ix]) for ix in range(len(sorted_pl)) if ix not in dev_ix]"
   ]
  },
  {
   "cell_type": "code",
   "execution_count": 41,
   "metadata": {},
   "outputs": [],
   "source": [
    "xmax = np.max([len(pl) for pl in playlists_subset]) + 1"
   ]
  },
  {
   "cell_type": "markdown",
   "metadata": {},
   "source": [
    "Histogram of playlist length in training set."
   ]
  },
  {
   "cell_type": "code",
   "execution_count": 42,
   "metadata": {},
   "outputs": [
    {
     "name": "stdout",
     "output_type": "stream",
     "text": [
      "59\n"
     ]
    },
    {
     "data": {
      "image/png": "[encoded data removed]",
      "text/plain": [
       "<matplotlib.figure.Figure at 0x7f7710ac0ba8>"
      ]
     },
     "metadata": {},
     "output_type": "display_data"
    }
   ],
   "source": [
    "ax = plt.subplot(111)\n",
    "ax.hist([len(t[1]) for t in train_playlists], bins=50)\n",
    "ax.set_yscale('log')\n",
    "ax.set_xlim(0, xmax)\n",
    "print(len(train_playlists))"
   ]
  },
  {
   "cell_type": "markdown",
   "metadata": {},
   "source": [
    "Histogram of playlist length in training set."
   ]
  },
  {
   "cell_type": "code",
   "execution_count": 43,
   "metadata": {},
   "outputs": [
    {
     "name": "stdout",
     "output_type": "stream",
     "text": [
      "49\n"
     ]
    },
    {
     "data": {
      "image/png": "[encoded data removed]",
      "text/plain": [
       "<matplotlib.figure.Figure at 0x7f7710934c50>"
      ]
     },
     "metadata": {},
     "output_type": "display_data"
    }
   ],
   "source": [
    "ax = plt.subplot(111)\n",
    "ax.hist([len(t[1]) for t in dev_playlists], bins=50)\n",
    "ax.set_yscale('log')\n",
    "ax.set_xlim(0, xmax)\n",
    "print(len(dev_playlists))"
   ]
  },
  {
   "cell_type": "markdown",
   "metadata": {},
   "source": [
    "### Split songs for setting II"
   ]
  },
  {
   "cell_type": "markdown",
   "metadata": {},
   "source": [
    "Split songs such that \n",
    "- the number unknown entries is the same as that in setting I.\n",
    "- the distributions of song popularity (the number of occurrence in playlists) in training and dev set are similiar."
   ]
  },
  {
   "cell_type": "code",
   "execution_count": 44,
   "metadata": {},
   "outputs": [],
   "source": [
    "num_unknown = len(playlists_subset) * len(dev_song_set)  # the number of unknown in setting I\n",
    "num_dev_song2 = num_unknown / len(dev_playlists)"
   ]
  },
  {
   "cell_type": "code",
   "execution_count": 45,
   "metadata": {},
   "outputs": [],
   "source": [
    "#np.arange(0, 100, 2.5)"
   ]
  },
  {
   "cell_type": "code",
   "execution_count": 46,
   "metadata": {},
   "outputs": [],
   "source": [
    "sortix = np.argsort(song_pop)\n",
    "step = len(song_pop) / (num_dev_song2)\n",
    "split_ix = np.arange(0, len(song_pop), step)\n",
    "np.random.seed(123456789)\n",
    "rounding_prob = step - int(step)\n",
    "dev_ix = [sortix[ix] for ix in [int(x) if np.random.rand() < rounding_prob or int(x) == len(sortix)-1 \\\n",
    "                                else int(x)+1 for x in split_ix]]  # avoid index out of bounds\n",
    "dev_song_set2 = [song_set[ix] for ix in dev_ix]"
   ]
  },
  {
   "cell_type": "code",
   "execution_count": 47,
   "metadata": {},
   "outputs": [
    {
     "name": "stdout",
     "output_type": "stream",
     "text": [
      "17064 17101\n"
     ]
    }
   ],
   "source": [
    "print(num_unknown, len(dev_playlists) * len(dev_song_set2))"
   ]
  },
  {
   "cell_type": "markdown",
   "metadata": {},
   "source": [
    "Histogram of song popularity in training set (all songs)."
   ]
  },
  {
   "cell_type": "code",
   "execution_count": 48,
   "metadata": {},
   "outputs": [
    {
     "name": "stdout",
     "output_type": "stream",
     "text": [
      "786\n"
     ]
    },
    {
     "data": {
      "image/png": "[encoded data removed]",
      "text/plain": [
       "<matplotlib.figure.Figure at 0x7f771084ebe0>"
      ]
     },
     "metadata": {},
     "output_type": "display_data"
    }
   ],
   "source": [
    "ax = plt.subplot(111)\n",
    "ax.hist(song_pop, bins=30)\n",
    "ax.set_yscale('log')\n",
    "ax.set_xlim(0, song_pop.max()+1)\n",
    "print(len(song_set))"
   ]
  },
  {
   "cell_type": "markdown",
   "metadata": {},
   "source": [
    "Histogram of song popularity in dev set."
   ]
  },
  {
   "cell_type": "code",
   "execution_count": 49,
   "metadata": {},
   "outputs": [
    {
     "name": "stdout",
     "output_type": "stream",
     "text": [
      "349\n"
     ]
    },
    {
     "data": {
      "image/png": "[encoded data removed]",
      "text/plain": [
       "<matplotlib.figure.Figure at 0x7f77108a82b0>"
      ]
     },
     "metadata": {},
     "output_type": "display_data"
    }
   ],
   "source": [
    "dev_song_pop2 = [song_pop[songind[sid]] for sid in dev_song_set2]\n",
    "ax = plt.subplot(111)\n",
    "ax.hist(dev_song_pop2, bins=30)\n",
    "ax.set_yscale('log')\n",
    "ax.set_xlim(0, song_pop.max()+1)\n",
    "print(len(dev_song_set2))"
   ]
  },
  {
   "cell_type": "markdown",
   "metadata": {},
   "source": [
    "## Load song features"
   ]
  },
  {
   "cell_type": "markdown",
   "metadata": {},
   "source": [
    "Load `song_id` --> `feature array` mapping: map a song to the audio features of one of its corresponding tracks in MSD."
   ]
  },
  {
   "cell_type": "code",
   "execution_count": 50,
   "metadata": {},
   "outputs": [],
   "source": [
    "song2Features = pkl.load(gzip.open(ffeature, 'rb'))"
   ]
  },
  {
   "cell_type": "markdown",
   "metadata": {},
   "source": [
    "## Load genres"
   ]
  },
  {
   "cell_type": "code",
   "execution_count": 51,
   "metadata": {},
   "outputs": [],
   "source": [
    "song2genre = pkl.load(open(fgenre, 'rb'))"
   ]
  },
  {
   "cell_type": "markdown",
   "metadata": {},
   "source": [
    "Check if all songs have genre info."
   ]
  },
  {
   "cell_type": "code",
   "execution_count": 52,
   "metadata": {},
   "outputs": [
    {
     "data": {
      "text/plain": [
       "False"
      ]
     },
     "execution_count": 52,
     "metadata": {},
     "output_type": "execute_result"
    }
   ],
   "source": [
    "np.all([sid in song2genre for sid in song_set])"
   ]
  },
  {
   "cell_type": "markdown",
   "metadata": {},
   "source": [
    "## Create song-playlist matrix"
   ]
  },
  {
   "cell_type": "markdown",
   "metadata": {},
   "source": [
    "Songs as rows, playlists as columns."
   ]
  },
  {
   "cell_type": "code",
   "execution_count": 53,
   "metadata": {},
   "outputs": [],
   "source": [
    "def gen_dataset_subset(playlists, song_set, features_MSD, song2genre):\n",
    "    \"\"\"\n",
    "    Create labelled dataset: rows are songs, columns are users.\n",
    "    \n",
    "    Input:\n",
    "        - playlists: a set of playlists\n",
    "        - song_set: a set of songIDs\n",
    "        - features_MSD: dictionary that maps songIDs to features from MSD\n",
    "        - song2genre: dictionary that maps songIDs to genre\n",
    "    Output:\n",
    "        - (Feature, Label) pair (X, Y)\n",
    "          X: #songs by #features\n",
    "          Y: #songs by #users\n",
    "    \"\"\" \n",
    "    song_indices = {sid: ix for ix, sid in enumerate(song_set)}\n",
    "    N = len(song_set)\n",
    "    K = len(playlists)\n",
    "    \n",
    "    genre_set = sorted({v for v in song2genre.values()})\n",
    "    genre_indices = {genre: ix for ix, genre in enumerate(genre_set)}\n",
    "    \n",
    "    def onehot_genre(songID):\n",
    "        \"\"\"\n",
    "        One-hot encoding of genres.\n",
    "        Data imputation: one extra entry for songs without genre info.\n",
    "        Should try other options: \n",
    "            mean imputation, sampling from the distribution of genre popularity.\n",
    "        \"\"\"\n",
    "        num = len(genre_set) + 1\n",
    "        vec = np.zeros(num, dtype=np.float)\n",
    "        if songID in song2genre:\n",
    "            genre_ix = genre_indices[song2genre[songID]]\n",
    "            vec[genre_ix] = 1\n",
    "        else:\n",
    "            vec[-1] = 1\n",
    "        return vec\n",
    "    \n",
    "    #X = np.array([features_MSD[sid] for sid in song_set])  # without using genre\n",
    "    X = np.array([np.concatenate([features_MSD[sid], onehot_genre(sid)], axis=-1) for sid in song_set])\n",
    "    Y = np.zeros((N, K), dtype=np.bool)\n",
    "    \n",
    "    for k in range(K):\n",
    "        pl = playlists[k]\n",
    "        indices = [song_indices[sid] for sid in pl if sid in song_indices]\n",
    "        Y[indices, k] = True\n",
    "\n",
    "    return X, Y"
   ]
  },
  {
   "cell_type": "code",
   "execution_count": 54,
   "metadata": {},
   "outputs": [],
   "source": [
    "def mean_normalised_reciprocal_rank(Y_true, Y_pred):\n",
    "    \"\"\"\n",
    "    Compute the mean of normalised reciprocal rank (reciprocal rank are normalised by the best possible ranks)\n",
    "    \"\"\"\n",
    "    normalised_reci_rank = []\n",
    "    npos = np.sum(Y_true, axis=0)\n",
    "    for k in range(Y_true.shape[1]):\n",
    "        ranks = calc_rank(Y_pred[:, k])[Y_true[:, k]]\n",
    "        if len(ranks) > 0:\n",
    "            ideal = np.sum([1./nk for nk in range(1, npos[k]+1)])\n",
    "            real = np.sum([1./r for r in ranks])\n",
    "            normalised_reci_rank.append(real / ideal)  # normalise the reciprocal ranks by the best possible ranks\n",
    "    return np.mean(normalised_reci_rank)"
   ]
  },
  {
   "cell_type": "markdown",
   "metadata": {},
   "source": [
    "## Setting I: hold a subset of songs, use all playlists"
   ]
  },
  {
   "cell_type": "code",
   "execution_count": 55,
   "metadata": {},
   "outputs": [],
   "source": [
    "playlists1 = [t[1] for t in train_playlists + dev_playlists]"
   ]
  },
  {
   "cell_type": "code",
   "execution_count": 56,
   "metadata": {},
   "outputs": [],
   "source": [
    "X_train, Y_train = gen_dataset_subset(playlists=playlists1, song_set=train_song_set, \n",
    "                                      features_MSD=song2Features, song2genre=song2genre)"
   ]
  },
  {
   "cell_type": "code",
   "execution_count": 57,
   "metadata": {},
   "outputs": [],
   "source": [
    "X_dev, Y_dev = gen_dataset_subset(playlists=playlists1, song_set=dev_song_set, \n",
    "                                  features_MSD=song2Features, song2genre=song2genre)"
   ]
  },
  {
   "cell_type": "markdown",
   "metadata": {},
   "source": [
    "Feature normalisation."
   ]
  },
  {
   "cell_type": "code",
   "execution_count": 58,
   "metadata": {},
   "outputs": [],
   "source": [
    "X_train_mean = np.mean(X_train, axis=0).reshape((1, -1))\n",
    "X_train_std = np.std(X_train, axis=0).reshape((1, -1)) + 10 ** (-6)\n",
    "X_train -= X_train_mean\n",
    "X_train /= X_train_std\n",
    "X_dev   -= X_train_mean\n",
    "X_dev   /= X_train_std"
   ]
  },
  {
   "cell_type": "code",
   "execution_count": 59,
   "metadata": {},
   "outputs": [
    {
     "name": "stdout",
     "output_type": "stream",
     "text": [
      "Train:      (628, 218)      (628, 108)\n",
      "Dev  :      (158, 218)      (158, 108)\n"
     ]
    }
   ],
   "source": [
    "print('Train: %15s %15s' % (X_train.shape, Y_train.shape))\n",
    "print('Dev  : %15s %15s' % (X_dev.shape,   Y_dev.shape))"
   ]
  },
  {
   "cell_type": "code",
   "execution_count": 60,
   "metadata": {},
   "outputs": [
    {
     "name": "stdout",
     "output_type": "stream",
     "text": [
      "-7.44259713994e-17\n",
      "-0.0459013902717\n",
      "-0.0302534229084\n",
      "0.0366010807539\n"
     ]
    }
   ],
   "source": [
    "print(np.mean(np.mean(X_train, axis=0)))\n",
    "print(np.mean( np.std(X_train, axis=0)) - 1)\n",
    "print(np.mean(np.mean(X_dev, axis=0)))\n",
    "print(np.mean( np.std(X_dev, axis=0)) - 1)"
   ]
  },
  {
   "cell_type": "code",
   "execution_count": 61,
   "metadata": {},
   "outputs": [],
   "source": [
    "#np.sum(Y_train, axis=0)"
   ]
  },
  {
   "cell_type": "code",
   "execution_count": 62,
   "metadata": {},
   "outputs": [],
   "source": [
    "#np.sum(Y_dev, axis=0)"
   ]
  },
  {
   "cell_type": "markdown",
   "metadata": {},
   "source": [
    "### M1. BR - Independent logistic regression"
   ]
  },
  {
   "cell_type": "code",
   "execution_count": 63,
   "metadata": {},
   "outputs": [],
   "source": [
    "br = BinaryRelevance(C=1, n_jobs=4)\n",
    "br.fit(X_train, Y_train)"
   ]
  },
  {
   "cell_type": "code",
   "execution_count": 64,
   "metadata": {},
   "outputs": [],
   "source": [
    "Y_br = br.predict(X_dev)"
   ]
  },
  {
   "cell_type": "markdown",
   "metadata": {},
   "source": [
    "Evaluation: normalise **per playlist**."
   ]
  },
  {
   "cell_type": "code",
   "execution_count": 65,
   "metadata": {},
   "outputs": [
    {
     "name": "stdout",
     "output_type": "stream",
     "text": [
      "Mean P@K: 0.171759259259\n"
     ]
    }
   ],
   "source": [
    "print('Mean P@K:', np.mean(calc_precisionK(Y_dev.T, Y_br.T)))"
   ]
  },
  {
   "cell_type": "code",
   "execution_count": 66,
   "metadata": {},
   "outputs": [
    {
     "name": "stdout",
     "output_type": "stream",
     "text": [
      "Mean macro-F1: 0.00660429279031\n"
     ]
    }
   ],
   "source": [
    "print('Mean macro-F1:', f1_score_nowarn(Y_dev.T, Y_br.T>=0, average='macro'))"
   ]
  },
  {
   "cell_type": "code",
   "execution_count": 67,
   "metadata": {},
   "outputs": [],
   "source": [
    "nzcol = np.nonzero(np.sum(Y_dev, axis=0))[0]  # columns with at least one True"
   ]
  },
  {
   "cell_type": "code",
   "execution_count": 68,
   "metadata": {},
   "outputs": [
    {
     "name": "stdout",
     "output_type": "stream",
     "text": [
      "Mean AUC: 0.559377098897\n"
     ]
    }
   ],
   "source": [
    "print('Mean AUC:', roc_auc_score(Y_dev[:, nzcol], Y_br[:, nzcol], average='macro'))"
   ]
  },
  {
   "cell_type": "code",
   "execution_count": 69,
   "metadata": {},
   "outputs": [
    {
     "name": "stdout",
     "output_type": "stream",
     "text": [
      "MAP: 0.0651904895492\n"
     ]
    }
   ],
   "source": [
    "print('MAP:', average_precision_score(Y_dev[:, nzcol], Y_br[:, nzcol], average='macro'))"
   ]
  },
  {
   "cell_type": "code",
   "execution_count": 70,
   "metadata": {},
   "outputs": [],
   "source": [
    "#print('P, R, F1:',precision_recall_fscore_support(Y_dev.ravel(), (Y_br>=0).ravel(),average='binary', warn_for=()))"
   ]
  },
  {
   "cell_type": "code",
   "execution_count": 71,
   "metadata": {},
   "outputs": [
    {
     "name": "stdout",
     "output_type": "stream",
     "text": [
      "Mean normalised reciprocal rank: 0.0791191750439\n"
     ]
    }
   ],
   "source": [
    "print('Mean normalised reciprocal rank:', mean_normalised_reciprocal_rank(Y_dev, Y_br))"
   ]
  },
  {
   "cell_type": "markdown",
   "metadata": {},
   "source": [
    "P@K, MAP, NDCG, AUC are good options."
   ]
  },
  {
   "cell_type": "code",
   "execution_count": 72,
   "metadata": {},
   "outputs": [],
   "source": [
    "%%script false\n",
    "min_pos_score = []\n",
    "for col in range(Y_dev.shape[1]):\n",
    "    val = Y_br[:,col][Y_dev[:,col]]\n",
    "    if len(val) > 0:\n",
    "        min_pos_score.append(np.min(val))\n",
    "    else:\n",
    "        min_pos_score.append(np.nan)\n",
    "print(np.array(min_pos_score))"
   ]
  },
  {
   "cell_type": "code",
   "execution_count": 73,
   "metadata": {},
   "outputs": [],
   "source": [
    "%%script false\n",
    "max_neg_score = []\n",
    "for col in range(Y_dev.shape[1]):\n",
    "    val = Y_br[:,col][np.logical_not(Y_dev[:,col])]\n",
    "    if len(val) > 0:\n",
    "        max_neg_score.append(np.max(val))\n",
    "print(np.array(max_neg_score))"
   ]
  },
  {
   "cell_type": "code",
   "execution_count": 74,
   "metadata": {},
   "outputs": [],
   "source": [
    "#print(np.array(min_pos_score)-np.array(max_neg_score))"
   ]
  },
  {
   "cell_type": "markdown",
   "metadata": {},
   "source": [
    "### M2. PC - Multilabel p-classification"
   ]
  },
  {
   "cell_type": "markdown",
   "metadata": {},
   "source": [
    "P-Classification ~ P-norm push ranking."
   ]
  },
  {
   "cell_type": "code",
   "execution_count": 75,
   "metadata": {},
   "outputs": [
    {
     "name": "stdout",
     "output_type": "stream",
     "text": [
      "\n",
      "C: 1, p: 1, weighting: True\n"
     ]
    }
   ],
   "source": [
    "pc1 = PClassificationMLC(C=1, weighting=True, verticalWeighting=True)\n",
    "pc1.fit(X_train, Y_train)"
   ]
  },
  {
   "cell_type": "code",
   "execution_count": 76,
   "metadata": {},
   "outputs": [],
   "source": [
    "X_test = X_dev\n",
    "Y_test = Y_dev"
   ]
  },
  {
   "cell_type": "code",
   "execution_count": 77,
   "metadata": {},
   "outputs": [],
   "source": [
    "Y_pc = pc1.predict(X_test)"
   ]
  },
  {
   "cell_type": "markdown",
   "metadata": {},
   "source": [
    "Evaluation: normalise **per playlist**."
   ]
  },
  {
   "cell_type": "code",
   "execution_count": 78,
   "metadata": {},
   "outputs": [
    {
     "name": "stdout",
     "output_type": "stream",
     "text": [
      "Mean P@K: 0.173148148148\n"
     ]
    }
   ],
   "source": [
    "print('Mean P@K:', np.mean(calc_precisionK(Y_test.T, Y_pc.T)))"
   ]
  },
  {
   "cell_type": "code",
   "execution_count": 79,
   "metadata": {},
   "outputs": [
    {
     "name": "stdout",
     "output_type": "stream",
     "text": [
      "Mean macro-F1: 0.0387358019868\n"
     ]
    }
   ],
   "source": [
    "print('Mean macro-F1:', f1_score_nowarn(Y_test.T, Y_pc.T>=0, average='macro'))"
   ]
  },
  {
   "cell_type": "code",
   "execution_count": 80,
   "metadata": {},
   "outputs": [],
   "source": [
    "nzcol = np.nonzero(np.sum(Y_test, axis=0))[0]  # columns with at least one True"
   ]
  },
  {
   "cell_type": "code",
   "execution_count": 81,
   "metadata": {},
   "outputs": [
    {
     "name": "stdout",
     "output_type": "stream",
     "text": [
      "Mean AUC: 0.671206587561\n"
     ]
    }
   ],
   "source": [
    "print('Mean AUC:', roc_auc_score(Y_test[:, nzcol], Y_pc[:, nzcol], average='macro'))"
   ]
  },
  {
   "cell_type": "code",
   "execution_count": 82,
   "metadata": {},
   "outputs": [
    {
     "name": "stdout",
     "output_type": "stream",
     "text": [
      "MAP: 0.0880778250386\n"
     ]
    }
   ],
   "source": [
    "print('MAP:', average_precision_score(Y_test[:, nzcol], Y_pc[:, nzcol], average='macro'))"
   ]
  },
  {
   "cell_type": "code",
   "execution_count": 83,
   "metadata": {},
   "outputs": [
    {
     "name": "stdout",
     "output_type": "stream",
     "text": [
      "Mean normalised reciprocal rank: 0.101846244957\n"
     ]
    }
   ],
   "source": [
    "print('Mean normalised reciprocal rank:', mean_normalised_reciprocal_rank(Y_test, Y_pc))"
   ]
  },
  {
   "cell_type": "code",
   "execution_count": 84,
   "metadata": {},
   "outputs": [],
   "source": [
    "min_pos_score = []\n",
    "for col in range(Y_test.shape[1]):\n",
    "    val = Y_pc[:,col][Y_test[:,col]]\n",
    "    if len(val) > 0:\n",
    "        min_pos_score.append(np.min(val))\n",
    "    else:\n",
    "        min_pos_score.append(np.nan)\n",
    "#plt.hist((np.array(min_pos_score)))\n",
    "#plt.hist((np.nan_to_num(min_pos_score)), bins=30)\n",
    "#print(np.array(min_pos_score))\n",
    "#print()"
   ]
  },
  {
   "cell_type": "code",
   "execution_count": 85,
   "metadata": {},
   "outputs": [],
   "source": [
    "max_neg_score = []\n",
    "for col in range(Y_test.shape[1]):\n",
    "    val = Y_pc[:,col][np.logical_not(Y_test[:,col])]\n",
    "    if len(val) > 0:\n",
    "        max_neg_score.append(np.max(val))\n",
    "#plt.hist(np.array(max_neg_score), bins=30)\n",
    "#print()"
   ]
  },
  {
   "cell_type": "code",
   "execution_count": 86,
   "metadata": {},
   "outputs": [],
   "source": [
    "#plt.hist(np.nan_to_num(min_pos_score)-np.array(max_neg_score), bins=30)\n",
    "#print()"
   ]
  },
  {
   "cell_type": "markdown",
   "metadata": {},
   "source": [
    "## Setting II: hold a subset of playlists, use all songs"
   ]
  },
  {
   "cell_type": "markdown",
   "metadata": {},
   "source": [
    "### M3. Multilabel p-classification with some playlist fully observed"
   ]
  },
  {
   "cell_type": "code",
   "execution_count": 87,
   "metadata": {},
   "outputs": [
    {
     "name": "stdout",
     "output_type": "stream",
     "text": [
      "786 786\n"
     ]
    }
   ],
   "source": [
    "nondev_song_set2 = sorted({sid for sid in song_set if sid not in dev_song_set2})\n",
    "print(len(nondev_song_set2) + len(dev_song_set2), len(song_set))"
   ]
  },
  {
   "cell_type": "code",
   "execution_count": 88,
   "metadata": {},
   "outputs": [],
   "source": [
    "playlists2 = [t[1] for t in train_playlists + dev_playlists]"
   ]
  },
  {
   "cell_type": "code",
   "execution_count": 89,
   "metadata": {},
   "outputs": [],
   "source": [
    "X, Y = gen_dataset_subset(playlists=playlists2, song_set=nondev_song_set2 + dev_song_set2, \n",
    "                          features_MSD=song2Features, song2genre=song2genre)"
   ]
  },
  {
   "cell_type": "code",
   "execution_count": 90,
   "metadata": {},
   "outputs": [],
   "source": [
    "Y_train = Y.copy().astype(np.float)  # note: np.nan is float\n",
    "Y_train[len(nondev_song_set2):, len(train_playlists):] = np.nan\n",
    "Y_dev = Y[-len(dev_song_set2):, -len(dev_playlists):]"
   ]
  },
  {
   "cell_type": "code",
   "execution_count": 91,
   "metadata": {},
   "outputs": [],
   "source": [
    "#Y_train"
   ]
  },
  {
   "cell_type": "code",
   "execution_count": 92,
   "metadata": {},
   "outputs": [
    {
     "name": "stdout",
     "output_type": "stream",
     "text": [
      "17101 17101\n"
     ]
    }
   ],
   "source": [
    "print(np.sum(np.isnan(Y_train)), len(dev_playlists) * len(dev_song_set2))"
   ]
  },
  {
   "cell_type": "code",
   "execution_count": 93,
   "metadata": {},
   "outputs": [],
   "source": [
    "X_train = X"
   ]
  },
  {
   "cell_type": "markdown",
   "metadata": {},
   "source": [
    "Feature normalisation."
   ]
  },
  {
   "cell_type": "code",
   "execution_count": 94,
   "metadata": {},
   "outputs": [],
   "source": [
    "X_train_mean = np.mean(X_train, axis=0).reshape((1, -1))\n",
    "X_train_std = np.std(X_train, axis=0).reshape((1, -1)) + 10 ** (-6)\n",
    "X_train -= X_train_mean\n",
    "X_train /= X_train_std\n",
    "X_dev = X_train[len(nondev_song_set2):]"
   ]
  },
  {
   "cell_type": "code",
   "execution_count": 95,
   "metadata": {},
   "outputs": [
    {
     "name": "stdout",
     "output_type": "stream",
     "text": [
      "Train:      (786, 218)      (786, 108)\n",
      "Dev  :      (349, 218)       (349, 49)\n"
     ]
    }
   ],
   "source": [
    "print('Train: %15s %15s' % (X_train.shape, Y_train.shape))\n",
    "print('Dev  : %15s %15s' % (X_dev.shape,   Y_dev.shape))"
   ]
  },
  {
   "cell_type": "code",
   "execution_count": 96,
   "metadata": {},
   "outputs": [
    {
     "name": "stdout",
     "output_type": "stream",
     "text": [
      "3.43710489009e-17\n",
      "-0.0458900154908\n",
      "0.0029949467376\n",
      "-0.060802933072\n"
     ]
    }
   ],
   "source": [
    "print(np.mean(np.mean(X_train, axis=0)))\n",
    "print(np.mean( np.std(X_train, axis=0)) - 1)\n",
    "print(np.mean(np.mean(X_dev, axis=0)))\n",
    "print(np.mean( np.std(X_dev, axis=0)) - 1)"
   ]
  },
  {
   "cell_type": "code",
   "execution_count": 97,
   "metadata": {},
   "outputs": [],
   "source": [
    "#np.sum(Y_train, axis=0)"
   ]
  },
  {
   "cell_type": "code",
   "execution_count": 98,
   "metadata": {},
   "outputs": [],
   "source": [
    "#np.sum(Y_dev, axis=0)"
   ]
  },
  {
   "cell_type": "code",
   "execution_count": 99,
   "metadata": {},
   "outputs": [],
   "source": [
    "user_of_playlists2 = [t[0] for t in train_playlists + dev_playlists]\n",
    "#user_of_playlists2"
   ]
  },
  {
   "cell_type": "code",
   "execution_count": 100,
   "metadata": {},
   "outputs": [],
   "source": [
    "same_user_mat = np.zeros((len(playlists2), len(playlists2)), dtype=np.bool)\n",
    "for i in range(len(playlists2)):\n",
    "    for j in range(i+1, len(playlists2)):\n",
    "        if user_of_playlists2[i] == user_of_playlists2[j]:\n",
    "            same_user_mat[i, j] = True\n",
    "            same_user_mat[j, i] = True"
   ]
  },
  {
   "cell_type": "code",
   "execution_count": 101,
   "metadata": {},
   "outputs": [],
   "source": [
    "#same_user_mat"
   ]
  },
  {
   "cell_type": "code",
   "execution_count": 102,
   "metadata": {},
   "outputs": [
    {
     "name": "stdout",
     "output_type": "stream",
     "text": [
      "\n",
      "C: 1, p: 1, weighting: True\n"
     ]
    }
   ],
   "source": [
    "pla = PClassificationMLC(C=1, weighting=True, verticalWeighting=True, similarMat=same_user_mat)\n",
    "pla.fit(X_train, Y_train)"
   ]
  },
  {
   "cell_type": "code",
   "execution_count": 103,
   "metadata": {},
   "outputs": [],
   "source": [
    "Y_pla = pla.predict(X_dev)[:, -len(dev_playlists):]"
   ]
  },
  {
   "cell_type": "markdown",
   "metadata": {},
   "source": [
    "Evaluation: normalise **per playlist**."
   ]
  },
  {
   "cell_type": "code",
   "execution_count": 104,
   "metadata": {},
   "outputs": [
    {
     "name": "stdout",
     "output_type": "stream",
     "text": [
      "Mean P@K: 0.0199546485261\n"
     ]
    }
   ],
   "source": [
    "print('Mean P@K:', np.mean(calc_precisionK(Y_dev.T, Y_pla.T)))"
   ]
  },
  {
   "cell_type": "code",
   "execution_count": 105,
   "metadata": {},
   "outputs": [
    {
     "name": "stdout",
     "output_type": "stream",
     "text": [
      "Mean macro-F1: 0.032017195166\n"
     ]
    }
   ],
   "source": [
    "print('Mean macro-F1:', f1_score_nowarn(Y_dev.T, Y_pla.T>=0, average='macro'))"
   ]
  },
  {
   "cell_type": "code",
   "execution_count": 106,
   "metadata": {},
   "outputs": [],
   "source": [
    "nzcol = np.nonzero(np.sum(Y_dev, axis=0))[0]  # columns with at least one True"
   ]
  },
  {
   "cell_type": "code",
   "execution_count": 107,
   "metadata": {},
   "outputs": [
    {
     "name": "stdout",
     "output_type": "stream",
     "text": [
      "Mean AUC: 0.605977270558\n"
     ]
    }
   ],
   "source": [
    "print('Mean AUC:', roc_auc_score(Y_dev[:, nzcol], Y_pla[:, nzcol], average='macro'))"
   ]
  },
  {
   "cell_type": "code",
   "execution_count": 108,
   "metadata": {},
   "outputs": [
    {
     "name": "stdout",
     "output_type": "stream",
     "text": [
      "MAP: 0.0424092519376\n"
     ]
    }
   ],
   "source": [
    "print('MAP:', average_precision_score(Y_dev[:, nzcol], Y_pla[:, nzcol], average='macro'))"
   ]
  },
  {
   "cell_type": "code",
   "execution_count": 109,
   "metadata": {},
   "outputs": [
    {
     "name": "stdout",
     "output_type": "stream",
     "text": [
      "Mean normalised reciprocal rank: 0.0522068460816\n"
     ]
    }
   ],
   "source": [
    "print('Mean normalised reciprocal rank:', mean_normalised_reciprocal_rank(Y_dev, Y_pla))"
   ]
  },
  {
   "cell_type": "markdown",
   "metadata": {},
   "source": [
    "## M4. Multilabel p-classification with unknows in test set"
   ]
  },
  {
   "cell_type": "code",
   "execution_count": null,
   "metadata": {},
   "outputs": [],
   "source": [
    "N, K = Y.shape"
   ]
  },
  {
   "cell_type": "code",
   "execution_count": null,
   "metadata": {},
   "outputs": [],
   "source": [
    "#type(np.nan)"
   ]
  },
  {
   "cell_type": "code",
   "execution_count": null,
   "metadata": {},
   "outputs": [],
   "source": [
    "Y_nan = Y.copy().astype(np.float)\n",
    "np.random.seed(8967321)\n",
    "rand_num = int(0.2 * N)\n",
    "ones = 0\n",
    "for k in range(K):\n",
    "    randix = np.random.permutation(np.arange(N))[:rand_num]\n",
    "    Y_nan[randix, k] = np.nan\n",
    "    ones += Y[randix, k].sum()"
   ]
  },
  {
   "cell_type": "code",
   "execution_count": null,
   "metadata": {},
   "outputs": [],
   "source": [
    "#np.sum(Y, axis=0)"
   ]
  },
  {
   "cell_type": "code",
   "execution_count": null,
   "metadata": {},
   "outputs": [],
   "source": [
    "#np.nansum(Y_nan, axis=0)"
   ]
  },
  {
   "cell_type": "code",
   "execution_count": null,
   "metadata": {},
   "outputs": [],
   "source": [
    "#np.sum(Y, axis=0) - np.nansum(Y_nan, axis=0)"
   ]
  },
  {
   "cell_type": "code",
   "execution_count": null,
   "metadata": {},
   "outputs": [],
   "source": [
    "#ones  # number of positive entries selected to be masked as NaN"
   ]
  },
  {
   "cell_type": "code",
   "execution_count": null,
   "metadata": {},
   "outputs": [],
   "source": [
    "#Y.shape"
   ]
  },
  {
   "cell_type": "code",
   "execution_count": null,
   "metadata": {},
   "outputs": [],
   "source": [
    "#Y_nan.shape"
   ]
  },
  {
   "cell_type": "markdown",
   "metadata": {},
   "source": [
    "The number of NaN entries."
   ]
  },
  {
   "cell_type": "code",
   "execution_count": null,
   "metadata": {},
   "outputs": [],
   "source": [
    "np.sum(np.isnan(Y_nan))"
   ]
  },
  {
   "cell_type": "code",
   "execution_count": null,
   "metadata": {},
   "outputs": [],
   "source": [
    "#np.sum(Y)"
   ]
  },
  {
   "cell_type": "markdown",
   "metadata": {},
   "source": [
    "Train: *keep running util no overflow warning occurred*."
   ]
  },
  {
   "cell_type": "code",
   "execution_count": null,
   "metadata": {},
   "outputs": [],
   "source": [
    "pc2 = PClassificationMLC(weighting=True, verticalWeighting=True)\n",
    "pc2.fit(X, Y_nan)"
   ]
  },
  {
   "cell_type": "markdown",
   "metadata": {},
   "source": [
    "Prediction: use the minimum of positive entry score of the same example as threshold.  \n",
    "Evaluation: use F1 on all unknown entries (as a 1D array)."
   ]
  },
  {
   "cell_type": "code",
   "execution_count": null,
   "metadata": {},
   "outputs": [],
   "source": [
    "Y_pred2 = pc2.predict(X)"
   ]
  },
  {
   "cell_type": "code",
   "execution_count": null,
   "metadata": {},
   "outputs": [],
   "source": [
    "pos_index = np.nan_to_num(Y_nan).astype(np.bool)\n",
    "nan_index = np.isnan(Y_nan)"
   ]
  },
  {
   "cell_type": "code",
   "execution_count": null,
   "metadata": {},
   "outputs": [],
   "source": [
    "ground_truths = Y[nan_index]"
   ]
  },
  {
   "cell_type": "code",
   "execution_count": null,
   "metadata": {},
   "outputs": [],
   "source": [
    "thresholds = []\n",
    "preds = []\n",
    "for k in range(K):\n",
    "    val = Y_pred2[:, k][pos_index[:, k]]\n",
    "    th = np.min(val)\n",
    "    thresholds.append(th)\n",
    "    preds += (Y_pred2[nan_index[:,k], k] >= th).tolist()"
   ]
  },
  {
   "cell_type": "code",
   "execution_count": null,
   "metadata": {},
   "outputs": [],
   "source": [
    "f1_score_nowarn(ground_truths, preds, average='binary')"
   ]
  },
  {
   "cell_type": "code",
   "execution_count": null,
   "metadata": {},
   "outputs": [],
   "source": [
    "precision_recall_fscore_support(ground_truths, preds, average='binary', warn_for=None)"
   ]
  },
  {
   "cell_type": "markdown",
   "metadata": {},
   "source": [
    "## M5. Multilabel p-classification w/ (some playlist fully observed) & (unknowns in test set)"
   ]
  },
  {
   "cell_type": "code",
   "execution_count": null,
   "metadata": {},
   "outputs": [],
   "source": [
    "N, K = Y.shape"
   ]
  },
  {
   "cell_type": "code",
   "execution_count": null,
   "metadata": {},
   "outputs": [],
   "source": [
    "Y_nan_part2 = Y.copy().astype(np.float)\n",
    "np.random.seed(8967321)\n",
    "rand_num = int(0.4 * N)\n",
    "ones = 0\n",
    "for k in range(int(K/2), K):\n",
    "    randix = np.random.permutation(np.arange(N))[:rand_num]\n",
    "    Y_nan_part2[randix, k] = np.nan\n",
    "    ones += Y[randix, k].sum()"
   ]
  },
  {
   "cell_type": "code",
   "execution_count": null,
   "metadata": {},
   "outputs": [],
   "source": [
    "#np.sum(Y, axis=0)"
   ]
  },
  {
   "cell_type": "code",
   "execution_count": null,
   "metadata": {},
   "outputs": [],
   "source": [
    "#np.nansum(Y_nan_part, axis=0)"
   ]
  },
  {
   "cell_type": "code",
   "execution_count": null,
   "metadata": {},
   "outputs": [],
   "source": [
    "#np.sum(Y, axis=0) - np.nansum(Y_nan_part, axis=0)"
   ]
  },
  {
   "cell_type": "code",
   "execution_count": null,
   "metadata": {},
   "outputs": [],
   "source": [
    "#ones  # number of positive entries selected to be masked as NaN"
   ]
  },
  {
   "cell_type": "code",
   "execution_count": null,
   "metadata": {},
   "outputs": [],
   "source": [
    "#Y.shape"
   ]
  },
  {
   "cell_type": "code",
   "execution_count": null,
   "metadata": {},
   "outputs": [],
   "source": [
    "#Y_nan.shape"
   ]
  },
  {
   "cell_type": "markdown",
   "metadata": {},
   "source": [
    "The number of NaN entries."
   ]
  },
  {
   "cell_type": "code",
   "execution_count": null,
   "metadata": {},
   "outputs": [],
   "source": [
    "np.sum(np.isnan(Y_nan_part2))"
   ]
  },
  {
   "cell_type": "code",
   "execution_count": null,
   "metadata": {},
   "outputs": [],
   "source": [
    "#np.sum(Y)"
   ]
  },
  {
   "cell_type": "code",
   "execution_count": null,
   "metadata": {},
   "outputs": [],
   "source": [
    "pc4 = PClassificationMLC(weighting=True, verticalWeighting=True)\n",
    "pc4.fit(X, Y_nan_part2)"
   ]
  },
  {
   "cell_type": "markdown",
   "metadata": {},
   "source": [
    "Prediction: use the minimum of positive entry score of the same example as threshold.  \n",
    "Evaluation: use F1 on all unknown entries (as a 1D array)."
   ]
  },
  {
   "cell_type": "code",
   "execution_count": null,
   "metadata": {},
   "outputs": [],
   "source": [
    "Y_pred4 = pc4.predict(X)"
   ]
  },
  {
   "cell_type": "code",
   "execution_count": null,
   "metadata": {},
   "outputs": [],
   "source": [
    "pos_index = np.nan_to_num(Y_nan_part2).astype(np.bool)\n",
    "nan_index = np.isnan(Y_nan_part2)"
   ]
  },
  {
   "cell_type": "code",
   "execution_count": null,
   "metadata": {},
   "outputs": [],
   "source": [
    "ground_truths = Y[nan_index]"
   ]
  },
  {
   "cell_type": "code",
   "execution_count": null,
   "metadata": {},
   "outputs": [],
   "source": [
    "thresholds = []\n",
    "preds = []\n",
    "for k in range(int(K/2), K):\n",
    "    val = Y_pred4[:, k][pos_index[:, k]]\n",
    "    th = np.min(val)\n",
    "    #th = np.mean(val)\n",
    "    thresholds.append(th)\n",
    "    preds += (Y_pred4[nan_index[:,k], k] >= th).tolist()"
   ]
  },
  {
   "cell_type": "code",
   "execution_count": null,
   "metadata": {},
   "outputs": [],
   "source": [
    "#np.sum(ground_truths)"
   ]
  },
  {
   "cell_type": "code",
   "execution_count": null,
   "metadata": {},
   "outputs": [],
   "source": [
    "#np.sum(preds)"
   ]
  },
  {
   "cell_type": "code",
   "execution_count": null,
   "metadata": {},
   "outputs": [],
   "source": [
    "f1_score_nowarn(ground_truths, preds, average='binary')"
   ]
  },
  {
   "cell_type": "code",
   "execution_count": null,
   "metadata": {},
   "outputs": [],
   "source": [
    "precision_recall_fscore_support(ground_truths, preds, average='binary', warn_for=None)"
   ]
  },
  {
   "cell_type": "code",
   "execution_count": null,
   "metadata": {},
   "outputs": [],
   "source": [
    "np.sum(ground_truths)"
   ]
  },
  {
   "cell_type": "code",
   "execution_count": null,
   "metadata": {},
   "outputs": [],
   "source": [
    "np.sum(preds)"
   ]
  },
  {
   "cell_type": "code",
   "execution_count": null,
   "metadata": {},
   "outputs": [],
   "source": [
    "np.sum(np.logical_and(ground_truths, preds))"
   ]
  },
  {
   "cell_type": "code",
   "execution_count": null,
   "metadata": {},
   "outputs": [],
   "source": [
    "2 * np.sum(np.logical_and(ground_truths, preds)) / (np.sum(ground_truths) + np.sum(preds))"
   ]
  }
 ],
 "metadata": {
  "kernelspec": {
   "display_name": "Python 3",
   "language": "python",
   "name": "python3"
  },
  "language_info": {
   "codemirror_mode": {
    "name": "ipython",
    "version": 3
   },
   "file_extension": ".py",
   "mimetype": "text/x-python",
   "name": "python",
   "nbconvert_exporter": "python",
   "pygments_lexer": "ipython3",
   "version": "3.6.4"
  }
 },
 "nbformat": 4,
 "nbformat_minor": 2
}
