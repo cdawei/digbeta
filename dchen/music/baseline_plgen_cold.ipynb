{
 "cells": [
  {
   "cell_type": "markdown",
   "metadata": {},
   "source": [
    "# Baselines - playlist generation for known users"
   ]
  },
  {
   "cell_type": "code",
   "execution_count": 1,
   "metadata": {},
   "outputs": [],
   "source": [
    "%matplotlib inline\n",
    "\n",
    "import os, sys, time, gzip\n",
    "import pickle as pkl\n",
    "import numpy as np\n",
    "from scipy.sparse import lil_matrix, issparse\n",
    "\n",
    "import matplotlib.pyplot as plt\n",
    "import seaborn as sns"
   ]
  },
  {
   "cell_type": "code",
   "execution_count": 2,
   "metadata": {},
   "outputs": [],
   "source": [
    "# from tools import calc_RPrecision_HitRate\n",
    "from tools import calc_metrics, diversity, softmax"
   ]
  },
  {
   "cell_type": "code",
   "execution_count": 3,
   "metadata": {},
   "outputs": [],
   "source": [
    "TOPs = [5, 10, 20, 30, 50, 100, 200, 300, 500, 700, 1000]"
   ]
  },
  {
   "cell_type": "code",
   "execution_count": 4,
   "metadata": {},
   "outputs": [],
   "source": [
    "datasets = ['aotm2011', '30music']"
   ]
  },
  {
   "cell_type": "code",
   "execution_count": 5,
   "metadata": {},
   "outputs": [
    {
     "data": {
      "text/plain": [
       "'aotm2011'"
      ]
     },
     "execution_count": 5,
     "metadata": {},
     "output_type": "execute_result"
    }
   ],
   "source": [
    "dix = 0\n",
    "dataset_name = datasets[dix]\n",
    "dataset_name"
   ]
  },
  {
   "cell_type": "code",
   "execution_count": 6,
   "metadata": {},
   "outputs": [],
   "source": [
    "data_dir = 'data/%s/coldstart/setting4' % dataset_name\n",
    "X = pkl.load(gzip.open(os.path.join(data_dir, 'X.pkl.gz'), 'rb'))\n",
    "Y_train = pkl.load(gzip.open(os.path.join(data_dir, 'Y_train.pkl.gz'), 'rb'))\n",
    "Y_test = pkl.load(gzip.open(os.path.join(data_dir, 'Y_test.pkl.gz'), 'rb'))\n",
    "song2pop_train = pkl.load(gzip.open(os.path.join(data_dir, 'song2pop_train.pkl.gz'), 'rb'))"
   ]
  },
  {
   "cell_type": "code",
   "execution_count": 7,
   "metadata": {},
   "outputs": [],
   "source": [
    "playlists3 = pkl.load(gzip.open(os.path.join(data_dir, 'playlists_train_test_s4.pkl.gz'), 'rb'))\n",
    "train_playlists = playlists3['train_playlists']\n",
    "test_playlists = playlists3['test_playlists']"
   ]
  },
  {
   "cell_type": "code",
   "execution_count": 8,
   "metadata": {},
   "outputs": [],
   "source": [
    "all_songs = pkl.load(gzip.open(os.path.join(data_dir, 'all_songs.pkl.gz'), 'rb'))\n",
    "index2song = {ix: sid for ix, (sid, _) in enumerate(all_songs)}"
   ]
  },
  {
   "cell_type": "code",
   "execution_count": 9,
   "metadata": {},
   "outputs": [],
   "source": [
    "song2index = {sid: ix for ix, (sid, _) in enumerate(all_songs)}"
   ]
  },
  {
   "cell_type": "code",
   "execution_count": 10,
   "metadata": {},
   "outputs": [],
   "source": [
    "_song2artist = pkl.load(gzip.open('data/msd/song2artist.pkl.gz', 'rb'))\n",
    "song2artist = {sid: _song2artist[sid] for sid, _ in all_songs if sid in _song2artist}"
   ]
  },
  {
   "cell_type": "code",
   "execution_count": 11,
   "metadata": {},
   "outputs": [],
   "source": [
    "artist2songs = dict()\n",
    "\n",
    "for sid in sorted(song2artist):\n",
    "    artist = song2artist[sid]\n",
    "    try:\n",
    "        artist2songs[artist].append(sid)\n",
    "    except KeyError:\n",
    "        artist2songs[artist] = [sid]"
   ]
  },
  {
   "cell_type": "code",
   "execution_count": 12,
   "metadata": {},
   "outputs": [
    {
     "name": "stdout",
     "output_type": "stream",
     "text": [
      "111,993 | 15,698\n"
     ]
    }
   ],
   "source": [
    "print('{:,} | {:,}'.format(len(song2artist), len(artist2songs)))"
   ]
  },
  {
   "cell_type": "code",
   "execution_count": 13,
   "metadata": {},
   "outputs": [],
   "source": [
    "artist2pop = dict()\n",
    "\n",
    "for pl, _ in train_playlists:\n",
    "    for sid in pl:\n",
    "        if sid in song2artist:\n",
    "            aid = song2artist[sid]\n",
    "            try:\n",
    "                artist2pop[aid] += 1\n",
    "            except KeyError:\n",
    "                artist2pop[aid] = 1"
   ]
  },
  {
   "cell_type": "code",
   "execution_count": 14,
   "metadata": {},
   "outputs": [
    {
     "name": "stdout",
     "output_type": "stream",
     "text": [
      "15698\n"
     ]
    }
   ],
   "source": [
    "print(len(artist2pop))"
   ]
  },
  {
   "cell_type": "code",
   "execution_count": 15,
   "metadata": {},
   "outputs": [],
   "source": [
    "song2genre = pkl.load(gzip.open('data/msd/song2genre.pkl.gz', 'rb'))"
   ]
  },
  {
   "cell_type": "code",
   "execution_count": 16,
   "metadata": {},
   "outputs": [],
   "source": [
    "song2pop = pkl.load(gzip.open(os.path.join(data_dir, 'song2pop.pkl.gz'), 'rb'))"
   ]
  },
  {
   "cell_type": "markdown",
   "metadata": {},
   "source": [
    "### Collocated Artists - Greatest Hits (CAGH), Top 10 Artists"
   ]
  },
  {
   "cell_type": "markdown",
   "metadata": {},
   "source": [
    "Compute the similarity of two artist $a_1$ and $a_2$ given a set of playlist $P$:   \n",
    "$$\n",
    "\\text{sim}(a_1, a_2) \n",
    "= \\frac{\\sum_{p \\in P} \\delta(a_1, p) \\times \\delta(a_2, p)}\n",
    "       {\\sqrt{\\sum_{p \\in P} \\delta(a_1, p) \\times \\sum_{p \\in P} \\delta(a_2, p)}}\n",
    "$$\n",
    "where\n",
    "$$\n",
    "\\delta(a, p) \n",
    "= \\begin{cases}\n",
    "1, \\ \\text{at least one song in playlist $p$ is from artist $a$}, \\\\\n",
    "0, \\ \\text{otherwise}.\n",
    "\\end{cases}\n",
    "$$"
   ]
  },
  {
   "cell_type": "markdown",
   "metadata": {},
   "source": [
    "Recommend according to the popularity of songs, but weighted by similarity of (`top 10 artists`, `artist of song`)."
   ]
  },
  {
   "cell_type": "code",
   "execution_count": 17,
   "metadata": {},
   "outputs": [],
   "source": [
    "all_artist = sorted(set([song2artist[sid] for pl, _ in train_playlists for sid in pl if sid in song2artist]))"
   ]
  },
  {
   "cell_type": "code",
   "execution_count": 18,
   "metadata": {},
   "outputs": [],
   "source": [
    "artist2index = {aid: ix for ix, aid in enumerate(all_artist)}"
   ]
  },
  {
   "cell_type": "code",
   "execution_count": 19,
   "metadata": {},
   "outputs": [],
   "source": [
    "Na = len(all_artist)\n",
    "Np = len(train_playlists)\n",
    "Delta = lil_matrix((Na, Np), dtype=np.float)\n",
    "for j in range(Np):\n",
    "    pl_artist = sorted(set([song2artist[sid] for sid in train_playlists[j][0] if sid in song2artist]))\n",
    "    ix = [artist2index[aid] for aid in pl_artist]\n",
    "    Delta[ix, j] = 1"
   ]
  },
  {
   "cell_type": "code",
   "execution_count": 20,
   "metadata": {},
   "outputs": [],
   "source": [
    "Delta = Delta.tocsr()\n",
    "Dsum = Delta.sum(axis=1).A.reshape(-1)\n",
    "ColloMat = Delta.dot(Delta.T).A\n",
    "\n",
    "assert np.all(np.isclose(ColloMat.diagonal(), Dsum))"
   ]
  },
  {
   "cell_type": "code",
   "execution_count": 21,
   "metadata": {},
   "outputs": [
    {
     "name": "stdout",
     "output_type": "stream",
     "text": [
      "15698 15698\n"
     ]
    }
   ],
   "source": [
    "print(len(Dsum), len(all_artist))"
   ]
  },
  {
   "cell_type": "code",
   "execution_count": 22,
   "metadata": {},
   "outputs": [],
   "source": [
    "#type(ColloMat)"
   ]
  },
  {
   "cell_type": "code",
   "execution_count": 23,
   "metadata": {},
   "outputs": [],
   "source": [
    "T1 = 1. / np.sqrt(Dsum)\n",
    "NormMat = np.dot(T1.reshape(Na, 1), T1.reshape(1, Na))\n",
    "\n",
    "WeightMat = np.multiply(ColloMat, NormMat)"
   ]
  },
  {
   "cell_type": "code",
   "execution_count": 24,
   "metadata": {},
   "outputs": [
    {
     "name": "stdout",
     "output_type": "stream",
     "text": [
      "8260 / 8260\n",
      "8260 / 8260\n"
     ]
    }
   ],
   "source": [
    "rps_cagh = []\n",
    "hitrates_cagh = {top: [] for top in TOPs}\n",
    "aucs_cagh = []\n",
    "novelties_cagh = {top: dict() for top in TOPs}\n",
    "artist_diversities_cagh = {top: [] for top in TOPs}\n",
    "genre_diversities_cagh = {top: [] for top in TOPs}\n",
    "np.random.seed(0)\n",
    "\n",
    "assert Y_test.shape[1] == len(test_playlists)\n",
    "\n",
    "sid_legal = [sid for sid, _ in all_songs if sid in song2artist]\n",
    "aix_legal = [artist2index[song2artist[sid]] for sid in sid_legal]\n",
    "pop_legal = np.asarray([song2pop_train[sid] for sid in sid_legal])\n",
    "ix_legal = [song2index[sid] for sid in sid_legal]\n",
    "\n",
    "top10_artists = sorted(artist2pop, key=lambda aid: artist2pop[aid])[-10:]\n",
    "top10_artists_ix = [artist2index[aix] for aix in top10_artists]\n",
    "y_pred = np.zeros(Y_test.shape[0])\n",
    "y_pred[ix_legal] = np.log(pop_legal) * np.asarray([WeightMat[aix, top10_artists_ix].sum() for aix in aix_legal])\n",
    "\n",
    "y_pred_prob = softmax(y_pred)\n",
    "spread_cagh = -np.dot(y_pred_prob, np.log(y_pred_prob))\n",
    "sortix = np.argsort(-y_pred)\n",
    "\n",
    "for j in range(Y_test.shape[1]):\n",
    "    if (j + 1) % 10 == 0:\n",
    "        sys.stdout.write('\\r%d / %d' % (j+1, Y_test.shape[1]))\n",
    "        sys.stdout.flush()\n",
    "    y_true = Y_test[:, j].A.reshape(-1)\n",
    "    \n",
    "    # rp, hr_dict = calc_RPrecision_HitRate(y_true, y_pred, tops=TOPs)\n",
    "    rp, hr_dict, auc = calc_metrics(y_true, y_pred, tops=TOPs)\n",
    "    rps_cagh.append(rp)\n",
    "    for top in TOPs:\n",
    "        hitrates_cagh[top].append(hr_dict[top])\n",
    "    aucs_cagh.append(auc)\n",
    "    \n",
    "    # novelty\n",
    "    u = test_playlists[j][1]\n",
    "    for top in TOPs:\n",
    "        nov = np.mean([-np.log2(song2pop[index2song[ix]]) for ix in sortix[:top]])\n",
    "        try:\n",
    "            novelties_cagh[top][u].append(nov)\n",
    "        except KeyError:\n",
    "            novelties_cagh[top][u] = [nov]\n",
    "    \n",
    "    # artist/genre diversity\n",
    "    for top in TOPs:\n",
    "        artist_vec = np.array([song2artist[index2song[ix]] if index2song[ix] in song2artist\n",
    "                               else str(np.random.rand()) for ix in sortix[:top]])\n",
    "        genre_vec = np.array([song2genre[index2song[ix]] if index2song[ix] in song2genre \\\n",
    "                              else str(np.random.rand()) for ix in sortix[:top]])\n",
    "        artist_diversities_cagh[top].append( diversity(artist_vec) )\n",
    "        genre_diversities_cagh[top].append( diversity(genre_vec) )\n",
    "\n",
    "print('\\n%d / %d' % (len(rps_cagh), Y_test.shape[1]))"
   ]
  },
  {
   "cell_type": "code",
   "execution_count": 25,
   "metadata": {},
   "outputs": [],
   "source": [
    "# fig = plt.figure(figsize=[20, 5])\n",
    "# ax1 = plt.subplot(131)\n",
    "# ax1.hist(rps_cagh, bins=100)\n",
    "# ax1.set_yscale('log')\n",
    "# ax1.set_title('R-Precision')\n",
    "# #ax.set_xlim(0, xmax)\n",
    "# ax2 = plt.subplot(132)\n",
    "# ax2.hist(aucs_cagh, bins=100)\n",
    "# ax2.set_yscale('log')\n",
    "# ax2.set_title('AUC')\n",
    "# pass"
   ]
  },
  {
   "cell_type": "code",
   "execution_count": 26,
   "metadata": {},
   "outputs": [
    {
     "data": {
      "text/plain": [
       "{'R-Precision': 0.010752888364457081,\n",
       " 'Hit-Rate': {5: 0.007189499596544438,\n",
       "  10: 0.010737942236317412,\n",
       "  20: 0.017424645772924005,\n",
       "  30: 0.022505021135506318,\n",
       "  50: 0.031438483108188066,\n",
       "  100: 0.049118295099717,\n",
       "  200: 0.06308437695173645,\n",
       "  300: 0.07065403232337869,\n",
       "  500: 0.0787953585064552,\n",
       "  700: 0.10703869239355554,\n",
       "  1000: 0.16627896028004344},\n",
       " 'AUC': 0.8808180501207196,\n",
       " 'Spread': 5.274721978715014,\n",
       " 'Novelty': {5: -9.172677325016553,\n",
       "  10: -8.881461910316037,\n",
       "  20: -8.61813233378527,\n",
       "  30: -8.397109599952675,\n",
       "  50: -8.192052876194628,\n",
       "  100: -7.848922134185842,\n",
       "  200: -7.177997031143748,\n",
       "  300: -6.750936363732949,\n",
       "  500: -6.000442273003983,\n",
       "  700: -5.637172472185597,\n",
       "  1000: -5.780984125184579},\n",
       " 'Artist-Diversity': {5: 0.8000000000000002,\n",
       "  10: 0.6888888888888888,\n",
       "  20: 0.6473684210526314,\n",
       "  30: 0.6390804597701151,\n",
       "  50: 0.7608163265306124,\n",
       "  100: 0.8490909090909095,\n",
       "  200: 0.8637688442211057,\n",
       "  300: 0.8845484949832779,\n",
       "  500: 0.8934428857715434,\n",
       "  700: 0.9110075618230126,\n",
       "  1000: 0.9448128128128132},\n",
       " 'Genre-Diversity': {5: 0.0,\n",
       "  10: 0.0,\n",
       "  20: 0.28421052631578947,\n",
       "  30: 0.2528735632183908,\n",
       "  50: 0.29714285714285715,\n",
       "  100: 0.34545454545454557,\n",
       "  200: 0.2866331658291458,\n",
       "  300: 0.2892084726867336,\n",
       "  500: 0.243246492985972,\n",
       "  700: 0.2580380134886573,\n",
       "  1000: 0.32096896896896887}}"
      ]
     },
     "execution_count": 26,
     "metadata": {},
     "output_type": "execute_result"
    }
   ],
   "source": [
    "cagh = {dataset_name: {'Test': {'R-Precision': np.mean(rps_cagh), \n",
    "                                'Hit-Rate': {top: np.mean(hitrates_cagh[top]) for top in TOPs},\n",
    "                                'AUC': np.mean(aucs_cagh),\n",
    "                                'Spread': spread_cagh,\n",
    "                                'Novelty': {t: np.mean([np.mean(novelties_cagh[t][u]) \n",
    "                                                        for u in novelties_cagh[t]]) for t in TOPs},\n",
    "                                'Artist-Diversity': {t: np.mean(artist_diversities_cagh[t]) for t in TOPs},\n",
    "                                'Genre-Diversity': {t: np.mean(genre_diversities_cagh[t]) for t in TOPs}},\n",
    "                       'Test_All': {'R-Precision': rps_cagh, \n",
    "                                    'Hit-Rate': {top: hitrates_cagh[top] for top in TOPs},\n",
    "                                    'AUC': aucs_cagh,\n",
    "                                    'Spread': spread_cagh,\n",
    "                                    'Novelty': novelties_cagh,\n",
    "                                    'Artist-Diversity': artist_diversities_cagh,\n",
    "                                    'Genre-Diversity': genre_diversities_cagh}}}\n",
    "cagh[dataset_name]['Test']"
   ]
  },
  {
   "cell_type": "code",
   "execution_count": 27,
   "metadata": {},
   "outputs": [
    {
     "name": "stdout",
     "output_type": "stream",
     "text": [
      "data/aotm2011/coldstart/setting4/perf-cagh.pkl\n"
     ]
    },
    {
     "data": {
      "text/plain": [
       "{'R-Precision': 0.010752888364457081,\n",
       " 'Hit-Rate': {5: 0.007189499596544438,\n",
       "  10: 0.010737942236317412,\n",
       "  20: 0.017424645772924005,\n",
       "  30: 0.022505021135506318,\n",
       "  50: 0.031438483108188066,\n",
       "  100: 0.049118295099717,\n",
       "  200: 0.06308437695173645,\n",
       "  300: 0.07065403232337869,\n",
       "  500: 0.0787953585064552,\n",
       "  700: 0.10703869239355554,\n",
       "  1000: 0.16627896028004344},\n",
       " 'AUC': 0.8808180501207196,\n",
       " 'Spread': 5.274721978715014,\n",
       " 'Novelty': {5: -9.172677325016553,\n",
       "  10: -8.881461910316037,\n",
       "  20: -8.61813233378527,\n",
       "  30: -8.397109599952675,\n",
       "  50: -8.192052876194628,\n",
       "  100: -7.848922134185842,\n",
       "  200: -7.177997031143748,\n",
       "  300: -6.750936363732949,\n",
       "  500: -6.000442273003983,\n",
       "  700: -5.637172472185597,\n",
       "  1000: -5.780984125184579},\n",
       " 'Artist-Diversity': {5: 0.8000000000000002,\n",
       "  10: 0.6888888888888888,\n",
       "  20: 0.6473684210526314,\n",
       "  30: 0.6390804597701151,\n",
       "  50: 0.7608163265306124,\n",
       "  100: 0.8490909090909095,\n",
       "  200: 0.8637688442211057,\n",
       "  300: 0.8845484949832779,\n",
       "  500: 0.8934428857715434,\n",
       "  700: 0.9110075618230126,\n",
       "  1000: 0.9448128128128132},\n",
       " 'Genre-Diversity': {5: 0.0,\n",
       "  10: 0.0,\n",
       "  20: 0.28421052631578947,\n",
       "  30: 0.2528735632183908,\n",
       "  50: 0.29714285714285715,\n",
       "  100: 0.34545454545454557,\n",
       "  200: 0.2866331658291458,\n",
       "  300: 0.2892084726867336,\n",
       "  500: 0.243246492985972,\n",
       "  700: 0.2580380134886573,\n",
       "  1000: 0.32096896896896887}}"
      ]
     },
     "execution_count": 27,
     "metadata": {},
     "output_type": "execute_result"
    }
   ],
   "source": [
    "fperf_cagh = os.path.join(data_dir, 'perf-cagh.pkl')\n",
    "print(fperf_cagh)\n",
    "pkl.dump(cagh, open(fperf_cagh, 'wb'))\n",
    "pkl.load(open(fperf_cagh, 'rb'))[dataset_name]['Test']"
   ]
  },
  {
   "cell_type": "markdown",
   "metadata": {},
   "source": [
    "### Same Artists - Greatest Hits (SAGH), Top 10 Artists"
   ]
  },
  {
   "cell_type": "markdown",
   "metadata": {},
   "source": [
    "Recommending according to the popularity of songs of the top 10 most popular artists in data."
   ]
  },
  {
   "cell_type": "code",
   "execution_count": 17,
   "metadata": {},
   "outputs": [
    {
     "name": "stdout",
     "output_type": "stream",
     "text": [
      "8200 / 8260\n",
      "8260 / 8260\n"
     ]
    }
   ],
   "source": [
    "rps_sagh = []\n",
    "hitrates_sagh = {top: [] for top in TOPs}\n",
    "aucs_sagh = []\n",
    "novelties_sagh = {top: dict() for top in TOPs}\n",
    "artist_diversities_sagh = {top: [] for top in TOPs}\n",
    "genre_diversities_sagh = {top: [] for top in TOPs}\n",
    "np.random.seed(0)\n",
    "\n",
    "top10_artists = sorted(artist2pop, key=lambda aid: artist2pop[aid])[-10:]\n",
    "candidates = []\n",
    "for aix in top10_artists:\n",
    "    candidates += artist2songs[aix]\n",
    "candidates = sorted(set(candidates))\n",
    "\n",
    "assert len(candidates) > 0\n",
    "y_pred = np.zeros(Y_test.shape[0])\n",
    "for sid in candidates:\n",
    "    ix = song2index[sid]\n",
    "    y_pred[ix] = np.log(song2pop_train[sid])\n",
    "\n",
    "y_pred_prob = softmax(y_pred)\n",
    "spread_sagh = -np.dot(y_pred_prob, np.log(y_pred_prob))\n",
    "sortix = np.argsort(-y_pred)\n",
    "    \n",
    "assert Y_test.shape[1] == len(test_playlists)\n",
    "for j in range(Y_test.shape[1]):\n",
    "    if (j+1) % 100 == 0:\n",
    "        sys.stdout.write('\\r%d / %d' % (j+1, Y_test.shape[1]))\n",
    "        sys.stdout.flush()\n",
    "    y_true = Y_test[:, j].A.reshape(-1)\n",
    "    \n",
    "    # rp, hr_dict = calc_RPrecision_HitRate(y_true, y_pred, tops=TOPs)\n",
    "    rp, hr_dict, auc = calc_metrics(y_true, y_pred, tops=TOPs)\n",
    "    rps_sagh.append(rp)\n",
    "    for top in TOPs:\n",
    "        hitrates_sagh[top].append(hr_dict[top])\n",
    "    aucs_sagh.append(auc)\n",
    "    \n",
    "    # novelty\n",
    "    u = test_playlists[j][1]\n",
    "    for top in TOPs:\n",
    "        nov = np.mean([-np.log2(song2pop[index2song[ix]]) for ix in sortix[:top]])\n",
    "        try:\n",
    "            novelties_sagh[top][u].append(nov)\n",
    "        except KeyError:\n",
    "            novelties_sagh[top][u] = [nov]\n",
    "    \n",
    "    # artist/genre diversity\n",
    "    for top in TOPs:\n",
    "        artist_vec = np.array([song2artist[index2song[ix]] if index2song[ix] in song2artist\n",
    "                               else str(np.random.rand()) for ix in sortix[:top]])\n",
    "        genre_vec = np.array([song2genre[index2song[ix]] if index2song[ix] in song2genre \\\n",
    "                              else str(np.random.rand()) for ix in sortix[:top]])\n",
    "        artist_diversities_sagh[top].append( diversity(artist_vec) )\n",
    "        genre_diversities_sagh[top].append( diversity(genre_vec) )\n",
    "    \n",
    "print('\\n%d / %d' % (len(rps_sagh), Y_test.shape[1]))"
   ]
  },
  {
   "cell_type": "code",
   "execution_count": 18,
   "metadata": {},
   "outputs": [],
   "source": [
    "# fig = plt.figure(figsize=[20, 5])\n",
    "# ax1 = plt.subplot(131)\n",
    "# ax1.hist(rps_sagh, bins=100)\n",
    "# ax1.set_yscale('log')\n",
    "# ax1.set_title('R-Precision')\n",
    "# #ax.set_xlim(0, xmax)\n",
    "# ax2 = plt.subplot(132)\n",
    "# ax2.hist(aucs_sagh, bins=100)\n",
    "# ax2.set_yscale('log')\n",
    "# ax2.set_title('AUC')\n",
    "# pass"
   ]
  },
  {
   "cell_type": "code",
   "execution_count": 19,
   "metadata": {},
   "outputs": [
    {
     "data": {
      "text/plain": [
       "{'R-Precision': 0.011517569953153272,\n",
       " 'Hit-Rate': {5: 0.0072283314410307485,\n",
       "  10: 0.01187346865392709,\n",
       "  20: 0.01828525628932811,\n",
       "  30: 0.023922072564621453,\n",
       "  50: 0.03413255911016453,\n",
       "  100: 0.04971952425464591,\n",
       "  200: 0.06397562584031569,\n",
       "  300: 0.07119360509683723,\n",
       "  500: 0.07886738885942846,\n",
       "  700: 0.08107737771784608,\n",
       "  1000: 0.0836792558494555},\n",
       " 'AUC': 0.5374453818064964,\n",
       " 'Spread': 10.678911088450416,\n",
       " 'Novelty': {5: -9.229374328190145,\n",
       "  10: -9.012952998828593,\n",
       "  20: -8.749442392920043,\n",
       "  30: -8.600460037448288,\n",
       "  50: -8.367884055947888,\n",
       "  100: -7.912705479654146,\n",
       "  200: -7.246027401796856,\n",
       "  300: -6.778342241595182,\n",
       "  500: -6.0064122659859125,\n",
       "  700: -5.227158299741144,\n",
       "  1000: -4.136974641536504},\n",
       " 'Artist-Diversity': {5: 0.9000000000000002,\n",
       "  10: 0.8888888888888892,\n",
       "  20: 0.8736842105263155,\n",
       "  30: 0.8965517241379307,\n",
       "  50: 0.8938775510204079,\n",
       "  100: 0.8868686868686866,\n",
       "  200: 0.8950753768844223,\n",
       "  300: 0.8934002229654401,\n",
       "  500: 0.8957835671342683,\n",
       "  700: 0.8955201307991006,\n",
       "  1000: 0.9367387387387391},\n",
       " 'Genre-Diversity': {5: 0.4000000000000001,\n",
       "  10: 0.20000000000000004,\n",
       "  20: 0.3684210526315788,\n",
       "  30: 0.36551724137931024,\n",
       "  50: 0.3951020408163266,\n",
       "  100: 0.4088888888888889,\n",
       "  200: 0.33648241206030155,\n",
       "  300: 0.3115496098104794,\n",
       "  500: 0.24672545090180356,\n",
       "  700: 0.2431759656652361,\n",
       "  1000: 0.3451651651651651}}"
      ]
     },
     "execution_count": 19,
     "metadata": {},
     "output_type": "execute_result"
    }
   ],
   "source": [
    "sagh = {dataset_name: {'Test': {'R-Precision': np.mean(rps_sagh), \n",
    "                                'Hit-Rate': {top: np.mean(hitrates_sagh[top]) for top in TOPs},\n",
    "                                'AUC': np.mean(aucs_sagh),\n",
    "                                'Spread': spread_sagh,\n",
    "                                'Novelty': {t: np.mean([np.mean(novelties_sagh[t][u]) \n",
    "                                                        for u in novelties_sagh[t]]) for t in TOPs},\n",
    "                                'Artist-Diversity': {t: np.mean(artist_diversities_sagh[t]) for t in TOPs},\n",
    "                                'Genre-Diversity': {t: np.mean(genre_diversities_sagh[t]) for t in TOPs}},\n",
    "                       'Test_All': {'R-Precision': rps_sagh, \n",
    "                                    'Hit-Rate': {top: hitrates_sagh[top] for top in TOPs},\n",
    "                                    'AUC': aucs_sagh,\n",
    "                                    'Spread': spread_sagh,\n",
    "                                    'Novelty': novelties_sagh,\n",
    "                                    'Artist-Diversity': artist_diversities_sagh,\n",
    "                                    'Genre-Diversity': genre_diversities_sagh}}}\n",
    "sagh[dataset_name]['Test']"
   ]
  },
  {
   "cell_type": "code",
   "execution_count": 20,
   "metadata": {},
   "outputs": [
    {
     "name": "stdout",
     "output_type": "stream",
     "text": [
      "data/aotm2011/coldstart/setting4/perf-sagh.pkl\n"
     ]
    },
    {
     "data": {
      "text/plain": [
       "{'R-Precision': 0.011517569953153272,\n",
       " 'Hit-Rate': {5: 0.0072283314410307485,\n",
       "  10: 0.01187346865392709,\n",
       "  20: 0.01828525628932811,\n",
       "  30: 0.023922072564621453,\n",
       "  50: 0.03413255911016453,\n",
       "  100: 0.04971952425464591,\n",
       "  200: 0.06397562584031569,\n",
       "  300: 0.07119360509683723,\n",
       "  500: 0.07886738885942846,\n",
       "  700: 0.08107737771784608,\n",
       "  1000: 0.0836792558494555},\n",
       " 'AUC': 0.5374453818064964,\n",
       " 'Spread': 10.678911088450416,\n",
       " 'Novelty': {5: -9.229374328190145,\n",
       "  10: -9.012952998828593,\n",
       "  20: -8.749442392920043,\n",
       "  30: -8.600460037448288,\n",
       "  50: -8.367884055947888,\n",
       "  100: -7.912705479654146,\n",
       "  200: -7.246027401796856,\n",
       "  300: -6.778342241595182,\n",
       "  500: -6.0064122659859125,\n",
       "  700: -5.227158299741144,\n",
       "  1000: -4.136974641536504},\n",
       " 'Artist-Diversity': {5: 0.9000000000000002,\n",
       "  10: 0.8888888888888892,\n",
       "  20: 0.8736842105263155,\n",
       "  30: 0.8965517241379307,\n",
       "  50: 0.8938775510204079,\n",
       "  100: 0.8868686868686866,\n",
       "  200: 0.8950753768844223,\n",
       "  300: 0.8934002229654401,\n",
       "  500: 0.8957835671342683,\n",
       "  700: 0.8955201307991006,\n",
       "  1000: 0.9367387387387391},\n",
       " 'Genre-Diversity': {5: 0.4000000000000001,\n",
       "  10: 0.20000000000000004,\n",
       "  20: 0.3684210526315788,\n",
       "  30: 0.36551724137931024,\n",
       "  50: 0.3951020408163266,\n",
       "  100: 0.4088888888888889,\n",
       "  200: 0.33648241206030155,\n",
       "  300: 0.3115496098104794,\n",
       "  500: 0.24672545090180356,\n",
       "  700: 0.2431759656652361,\n",
       "  1000: 0.3451651651651651}}"
      ]
     },
     "execution_count": 20,
     "metadata": {},
     "output_type": "execute_result"
    }
   ],
   "source": [
    "fperf_sagh = os.path.join(data_dir, 'perf-sagh.pkl')\n",
    "print(fperf_sagh)\n",
    "pkl.dump(sagh, open(fperf_sagh, 'wb'))\n",
    "pkl.load(open(fperf_sagh, 'rb'))[dataset_name]['Test']"
   ]
  },
  {
   "cell_type": "markdown",
   "metadata": {},
   "source": [
    "### Popularity based recommendation"
   ]
  },
  {
   "cell_type": "code",
   "execution_count": 18,
   "metadata": {},
   "outputs": [
    {
     "name": "stdout",
     "output_type": "stream",
     "text": [
      "8200 / 8260\n",
      "8260 / 8260\n"
     ]
    }
   ],
   "source": [
    "rps_pop = []\n",
    "hitrates_pop = {top: [] for top in TOPs}\n",
    "aucs_pop = []\n",
    "novelties_pop = {top: dict() for top in TOPs}\n",
    "artist_diversities_pop = {top: [] for top in TOPs}\n",
    "genre_diversities_pop = {top: [] for top in TOPs}\n",
    "np.random.seed(0)\n",
    "\n",
    "y_pred = np.array([song2pop_train[index2song[ix]] for ix in range(len(all_songs))])\n",
    "y_pred_prob = softmax(np.log(y_pred))\n",
    "spread_pop = -np.dot(y_pred_prob, np.log(y_pred_prob))\n",
    "sortix = np.argsort(-y_pred)\n",
    "\n",
    "assert Y_test.shape[1] == len(test_playlists)\n",
    "for j in range(Y_test.shape[1]):\n",
    "    if (j+1) % 100 == 0:\n",
    "        sys.stdout.write('\\r%d / %d' % (j+1, Y_test.shape[1]))\n",
    "        sys.stdout.flush()\n",
    "    y_true = Y_test[:, j].A.reshape(-1)\n",
    "    \n",
    "    # rp, hr_dict = calc_RPrecision_HitRate(y_true, y_pred, tops=TOPs)\n",
    "    rp, hr_dict, auc = calc_metrics(y_true, y_pred, tops=TOPs)\n",
    "    rps_pop.append(rp)\n",
    "    for top in TOPs:\n",
    "        hitrates_pop[top].append(hr_dict[top])\n",
    "    aucs_pop.append(auc)\n",
    "    \n",
    "    # novelty\n",
    "    u = test_playlists[j][1]\n",
    "    for top in TOPs:\n",
    "        nov = np.mean([-np.log2(song2pop[index2song[ix]]) for ix in sortix[:top]])\n",
    "        try:\n",
    "            novelties_pop[top][u].append(nov)\n",
    "        except KeyError:\n",
    "            novelties_pop[top][u] = [nov]\n",
    "\n",
    "    # artist/genre diversity\n",
    "    for top in TOPs:\n",
    "        artist_vec = np.array([song2artist[index2song[ix]] if index2song[ix] in song2artist\n",
    "                               else str(np.random.rand()) for ix in sortix[:top]])\n",
    "        genre_vec = np.array([song2genre[index2song[ix]] if index2song[ix] in song2genre \\\n",
    "                              else str(np.random.rand()) for ix in sortix[:top]])\n",
    "        artist_diversities_pop[top].append( diversity(artist_vec) )\n",
    "        genre_diversities_pop[top].append( diversity(genre_vec) )\n",
    "    \n",
    "print('\\n%d / %d' % (len(rps_pop), Y_test.shape[1]))"
   ]
  },
  {
   "cell_type": "code",
   "execution_count": 19,
   "metadata": {},
   "outputs": [],
   "source": [
    "# fig = plt.figure(figsize=[20, 5])\n",
    "# ax1 = plt.subplot(131)\n",
    "# ax1.hist(rps_pop, bins=100)\n",
    "# ax1.set_yscale('log')\n",
    "# ax1.set_title('R-Precision')\n",
    "# #ax.set_xlim(0, xmax)\n",
    "# ax2 = plt.subplot(132)\n",
    "# ax2.hist(aucs_pop, bins=100)\n",
    "# ax2.set_yscale('log')\n",
    "# ax2.set_title('AUC')\n",
    "# pass"
   ]
  },
  {
   "cell_type": "code",
   "execution_count": 20,
   "metadata": {},
   "outputs": [
    {
     "data": {
      "text/plain": [
       "{'R-Precision': 0.013474986581867915,\n",
       " 'Hit-Rate': {5: 0.007437095890911096,\n",
       "  10: 0.013500769773350406,\n",
       "  20: 0.023683353747034324,\n",
       "  30: 0.03242516552828786,\n",
       "  50: 0.045383596859801874,\n",
       "  100: 0.07433122144062095,\n",
       "  200: 0.12010383330765882,\n",
       "  300: 0.15331994733081822,\n",
       "  500: 0.20927495300053606,\n",
       "  700: 0.2523368469298472,\n",
       "  1000: 0.30757834458153016},\n",
       " 'AUC': 0.9175872878653097,\n",
       " 'Spread': 10.50565527339403,\n",
       " 'Novelty': {5: -9.396369039336701,\n",
       "  10: -9.252264346548355,\n",
       "  20: -9.090907011521443,\n",
       "  30: -8.954077992930292,\n",
       "  50: -8.761668669637778,\n",
       "  100: -8.508119687075622,\n",
       "  200: -8.213573203874882,\n",
       "  300: -8.00689396789298,\n",
       "  500: -7.738719831535387,\n",
       "  700: -7.5509709347005876,\n",
       "  1000: -7.3321758203662615},\n",
       " 'Artist-Diversity': {5: 1.0,\n",
       "  10: 1.0,\n",
       "  20: 0.9736842105263155,\n",
       "  30: 0.9747126436781612,\n",
       "  50: 0.9763265306122446,\n",
       "  100: 0.9854545454545458,\n",
       "  200: 0.9889949748743715,\n",
       "  300: 0.9905462653288738,\n",
       "  500: 0.9934268537074149,\n",
       "  700: 0.994138565297364,\n",
       "  1000: 0.995413413413413},\n",
       " 'Genre-Diversity': {5: 0.6999999999999998,\n",
       "  10: 0.6666666666666665,\n",
       "  20: 0.5210526315789473,\n",
       "  30: 0.5632183908045977,\n",
       "  50: 0.5681632653061224,\n",
       "  100: 0.5664646464646463,\n",
       "  200: 0.5849246231155779,\n",
       "  300: 0.5949832775919733,\n",
       "  500: 0.5748376753507014,\n",
       "  700: 0.5642223584712855,\n",
       "  1000: 0.5823323323323322}}"
      ]
     },
     "execution_count": 20,
     "metadata": {},
     "output_type": "execute_result"
    }
   ],
   "source": [
    "pop_perf = {dataset_name: {'Test': {'R-Precision': np.mean(rps_pop), \n",
    "                                    'Hit-Rate': {top: np.mean(hitrates_pop[top]) for top in TOPs},\n",
    "                                    'AUC': np.mean(aucs_pop),\n",
    "                                    'Spread': spread_pop,\n",
    "                                    'Novelty': {t: np.mean([np.mean(novelties_pop[t][u]) for u in novelties_pop[t]]) \n",
    "                                                for t in TOPs},\n",
    "                                    'Artist-Diversity': {top: np.mean(artist_diversities_pop[top]) for top in TOPs},\n",
    "                                    'Genre-Diversity': {top: np.mean(genre_diversities_pop[top]) for top in TOPs}},\n",
    "                           'Test_All': {'R-Precision': rps_pop, \n",
    "                                        'Hit-Rate': {top: hitrates_pop[top] for top in TOPs},\n",
    "                                        'AUC': aucs_pop,\n",
    "                                        'Spread': spread_pop,\n",
    "                                        'Novelty': novelties_pop,\n",
    "                                        'Artist-Diversity': artist_diversities_pop,\n",
    "                                        'Genre-Diversity': genre_diversities_pop}}}\n",
    "pop_perf[dataset_name]['Test']"
   ]
  },
  {
   "cell_type": "code",
   "execution_count": 21,
   "metadata": {},
   "outputs": [
    {
     "name": "stdout",
     "output_type": "stream",
     "text": [
      "data/aotm2011/coldstart/setting4/perf-pop.pkl\n"
     ]
    },
    {
     "data": {
      "text/plain": [
       "{'R-Precision': 0.013474986581867915,\n",
       " 'Hit-Rate': {5: 0.007437095890911096,\n",
       "  10: 0.013500769773350406,\n",
       "  20: 0.023683353747034324,\n",
       "  30: 0.03242516552828786,\n",
       "  50: 0.045383596859801874,\n",
       "  100: 0.07433122144062095,\n",
       "  200: 0.12010383330765882,\n",
       "  300: 0.15331994733081822,\n",
       "  500: 0.20927495300053606,\n",
       "  700: 0.2523368469298472,\n",
       "  1000: 0.30757834458153016},\n",
       " 'AUC': 0.9175872878653097,\n",
       " 'Spread': 10.50565527339403,\n",
       " 'Novelty': {5: -9.396369039336701,\n",
       "  10: -9.252264346548355,\n",
       "  20: -9.090907011521443,\n",
       "  30: -8.954077992930292,\n",
       "  50: -8.761668669637778,\n",
       "  100: -8.508119687075622,\n",
       "  200: -8.213573203874882,\n",
       "  300: -8.00689396789298,\n",
       "  500: -7.738719831535387,\n",
       "  700: -7.5509709347005876,\n",
       "  1000: -7.3321758203662615},\n",
       " 'Artist-Diversity': {5: 1.0,\n",
       "  10: 1.0,\n",
       "  20: 0.9736842105263155,\n",
       "  30: 0.9747126436781612,\n",
       "  50: 0.9763265306122446,\n",
       "  100: 0.9854545454545458,\n",
       "  200: 0.9889949748743715,\n",
       "  300: 0.9905462653288738,\n",
       "  500: 0.9934268537074149,\n",
       "  700: 0.994138565297364,\n",
       "  1000: 0.995413413413413},\n",
       " 'Genre-Diversity': {5: 0.6999999999999998,\n",
       "  10: 0.6666666666666665,\n",
       "  20: 0.5210526315789473,\n",
       "  30: 0.5632183908045977,\n",
       "  50: 0.5681632653061224,\n",
       "  100: 0.5664646464646463,\n",
       "  200: 0.5849246231155779,\n",
       "  300: 0.5949832775919733,\n",
       "  500: 0.5748376753507014,\n",
       "  700: 0.5642223584712855,\n",
       "  1000: 0.5823323323323322}}"
      ]
     },
     "execution_count": 21,
     "metadata": {},
     "output_type": "execute_result"
    }
   ],
   "source": [
    "fperf_pop = os.path.join(data_dir, 'perf-pop.pkl')\n",
    "print(fperf_pop)\n",
    "pkl.dump(pop_perf, open(fperf_pop, 'wb'))\n",
    "pkl.load(open(fperf_pop, 'rb'))[dataset_name]['Test']"
   ]
  }
 ],
 "metadata": {
  "kernelspec": {
   "display_name": "Python 3",
   "language": "python",
   "name": "python3"
  },
  "language_info": {
   "codemirror_mode": {
    "name": "ipython",
    "version": 3
   },
   "file_extension": ".py",
   "mimetype": "text/x-python",
   "name": "python",
   "nbconvert_exporter": "python",
   "pygments_lexer": "ipython3",
   "version": "3.6.6"
  }
 },
 "nbformat": 4,
 "nbformat_minor": 2
}
