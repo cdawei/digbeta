{
 "cells": [
  {
   "cell_type": "markdown",
   "metadata": {},
   "source": [
    "# Statistics of AotM-2011 Dataset"
   ]
  },
  {
   "cell_type": "code",
   "execution_count": 2,
   "metadata": {},
   "outputs": [],
   "source": [
    "%matplotlib inline\n",
    "import os, sys\n",
    "import json, gzip, codecs\n",
    "import numpy as np\n",
    "import pandas as pd\n",
    "import matplotlib.pyplot as plt\n",
    "from collections import Counter"
   ]
  },
  {
   "cell_type": "code",
   "execution_count": 3,
   "metadata": {},
   "outputs": [],
   "source": [
    "data_dir = 'data/aotm-2011'"
   ]
  },
  {
   "cell_type": "code",
   "execution_count": 4,
   "metadata": {},
   "outputs": [],
   "source": [
    "fname = os.path.join(data_dir, 'aotm2011_playlists.json.gz')\n",
    "reader = codecs.getreader(\"utf-8\")\n",
    "with gzip.open(fname, 'r') as fd:\n",
    "    playlists = json.load(reader(fd))"
   ]
  },
  {
   "cell_type": "code",
   "execution_count": 5,
   "metadata": {},
   "outputs": [],
   "source": [
    "#playlists[0]"
   ]
  },
  {
   "cell_type": "code",
   "execution_count": 6,
   "metadata": {},
   "outputs": [],
   "source": [
    "lengths = [len(playlists[j]['playlist']) for j in range(len(playlists))]"
   ]
  },
  {
   "cell_type": "code",
   "execution_count": 7,
   "metadata": {},
   "outputs": [
    {
     "name": "stdout",
     "output_type": "stream",
     "text": [
      "#Playlists: 101343\n"
     ]
    }
   ],
   "source": [
    "print('#Playlists:', len(lengths))"
   ]
  },
  {
   "cell_type": "markdown",
   "metadata": {},
   "source": [
    "Histogram of playlist length."
   ]
  },
  {
   "cell_type": "code",
   "execution_count": 15,
   "metadata": {},
   "outputs": [
    {
     "data": {
      "text/plain": [
       "Text(0,0.5,'#Playlists')"
      ]
     },
     "execution_count": 15,
     "metadata": {},
     "output_type": "execute_result"
    },
    {
     "data": {
      "image/png": "[encoded data removed]",
      "text/plain": [
       "<matplotlib.figure.Figure at 0x7f2d8dbef0f0>"
      ]
     },
     "metadata": {},
     "output_type": "display_data"
    }
   ],
   "source": [
    "ax = plt.subplot(111)\n",
    "pd.Series(lengths).hist(ax=ax)\n",
    "ax.set_xlabel('Playlist length')\n",
    "ax.set_ylabel('#Playlists')\n",
    "#ax.set_yscale('log')"
   ]
  },
  {
   "cell_type": "markdown",
   "metadata": {},
   "source": [
    "Categories."
   ]
  },
  {
   "cell_type": "code",
   "execution_count": 16,
   "metadata": {},
   "outputs": [],
   "source": [
    "cats = [playlists[j]['category'] for j in range(len(playlists))]"
   ]
  },
  {
   "cell_type": "code",
   "execution_count": 17,
   "metadata": {},
   "outputs": [
    {
     "name": "stdout",
     "output_type": "stream",
     "text": [
      "#Categories: 43\n"
     ]
    }
   ],
   "source": [
    "print('#Categories:', np.unique(cats).shape[0])"
   ]
  },
  {
   "cell_type": "code",
   "execution_count": 18,
   "metadata": {},
   "outputs": [],
   "source": [
    "counter = Counter(cats)"
   ]
  },
  {
   "cell_type": "code",
   "execution_count": 19,
   "metadata": {},
   "outputs": [],
   "source": [
    "#counter"
   ]
  },
  {
   "cell_type": "code",
   "execution_count": 20,
   "metadata": {},
   "outputs": [],
   "source": [
    "X = sorted([key for key in counter])\n",
    "Y = [counter[key] for key in X]"
   ]
  },
  {
   "cell_type": "markdown",
   "metadata": {},
   "source": [
    "Scatter plot of the number of playlists for all categories."
   ]
  },
  {
   "cell_type": "code",
   "execution_count": 21,
   "metadata": {},
   "outputs": [
    {
     "data": {
      "text/plain": [
       "[<matplotlib.lines.Line2D at 0x7f2d8d6ca8d0>]"
      ]
     },
     "execution_count": 21,
     "metadata": {},
     "output_type": "execute_result"
    },
    {
     "data": {
      "image/png": "[encoded data removed]",
      "text/plain": [
       "<matplotlib.figure.Figure at 0x7f2d8d71f400>"
      ]
     },
     "metadata": {},
     "output_type": "display_data"
    }
   ],
   "source": [
    "ax = plt.subplot(111)\n",
    "#ax.set_xlabel('Category (ID)')\n",
    "ax.set_xlabel('Category')\n",
    "ax.set_ylabel('#Playlists')\n",
    "ax.set_yscale('log')\n",
    "#ax.plot(Y)\n",
    "ax.plot(sorted(Y))"
   ]
  },
  {
   "cell_type": "markdown",
   "metadata": {},
   "source": [
    "Playlists in which all tracks are in MSD: **too few!**"
   ]
  },
  {
   "cell_type": "code",
   "execution_count": 22,
   "metadata": {},
   "outputs": [],
   "source": [
    "#subset_ix = [j for j in range(len(playlists)) \\\n",
    "#             if len(playlists[j]['playlist']) == len([x for y in playlists[j]['filtered_lists'] for x in y])]"
   ]
  },
  {
   "cell_type": "code",
   "execution_count": 23,
   "metadata": {},
   "outputs": [],
   "source": [
    "#len(subset_ix)"
   ]
  },
  {
   "cell_type": "code",
   "execution_count": 27,
   "metadata": {},
   "outputs": [],
   "source": [
    "#subsubset_ix = [ix for ix in subset_ix if len(playlists[ix]['playlist']) > 1]\n",
    "#len(subsubset_ix)"
   ]
  },
  {
   "cell_type": "markdown",
   "metadata": {},
   "source": [
    "The *Filtered_lists* field is grouped by some unknown properity!"
   ]
  },
  {
   "cell_type": "code",
   "execution_count": 28,
   "metadata": {},
   "outputs": [
    {
     "data": {
      "text/plain": [
       "93985"
      ]
     },
     "execution_count": 28,
     "metadata": {},
     "output_type": "execute_result"
    }
   ],
   "source": [
    "subset_ix = [ix for ix in range(len(playlists)) if len(playlists[ix]['filtered_lists']) > 1]\n",
    "len(subset_ix)"
   ]
  },
  {
   "cell_type": "code",
   "execution_count": 34,
   "metadata": {},
   "outputs": [
    {
     "name": "stdout",
     "output_type": "stream",
     "text": [
      "26\n",
      "5\n",
      "12\n"
     ]
    }
   ],
   "source": [
    "idx = subset_ix[10]\n",
    "print(len(playlists[idx]['playlist']))\n",
    "print(len(playlists[idx]['filtered_lists']))\n",
    "print(len([st[1] for st in playlists[idx]['playlist'] if st[1] is not None]))"
   ]
  },
  {
   "cell_type": "code",
   "execution_count": 35,
   "metadata": {},
   "outputs": [
    {
     "data": {
      "text/plain": [
       "{'category': 'Mixed Genre',\n",
       " 'filtered_lists': [['SOYDAVA12A8C13FD10',\n",
       "   'SOHHDAW12A8C1384BA',\n",
       "   'SOGIEOU12A8C134815'],\n",
       "  ['SOSBDKK12A8C13F61F'],\n",
       "  ['SODQBJT12A8C1339E9',\n",
       "   'SOBILME12A6701EEAB',\n",
       "   'SOTVPHW12A8C13EED6',\n",
       "   'SOCWOIJ12AB0187087'],\n",
       "  ['SORILGN12A5891EC2B', 'SOSKHHS12D0219A596', 'SOKXADL12AB0183307'],\n",
       "  ['SOGBYUP12A8C1390B1']],\n",
       " 'mix_id': 21415,\n",
       " 'playlist': [[['goldfrapp', 'u.k. girls (physical)'], None],\n",
       "  [['poe', 'junkie'], None],\n",
       "  [['david arnold w/ nina persson', 'theme from \"randall and hopkirk\"'], None],\n",
       "  [['bis', 'the end is today'], None],\n",
       "  [['kylie minogue', 'fever'], None],\n",
       "  [['jill scott', 'long walk'], 'SOYDAVA12A8C13FD10'],\n",
       "  [['tricky', 'your name'], 'SOHHDAW12A8C1384BA'],\n",
       "  [['bjork', 'human behaviour (live)'], 'SOGIEOU12A8C134815'],\n",
       "  [['the cardigans', 'country hell'], None],\n",
       "  [['ivy', 'undertow'], 'SOSBDKK12A8C13F61F'],\n",
       "  [[\"eve's plum\", 'eye'], None],\n",
       "  [['unkle', 'chaos'], None],\n",
       "  [['cat power', 'cross bones style'], 'SODQBJT12A8C1339E9'],\n",
       "  [['goldfrapp', 'lovely head (live)'], 'SOBILME12A6701EEAB'],\n",
       "  [['lamb', 'bonfire'], 'SOTVPHW12A8C13EED6'],\n",
       "  [['scott weiland', 'lady, your roof brings me down'], 'SOCWOIJ12AB0187087'],\n",
       "  [['david arnold w/ chrissie hynde', 'live and let die'], None],\n",
       "  [['luscious jackson', 'love is here'], 'SORILGN12A5891EC2B'],\n",
       "  [['blondie', 'atomic'], 'SOSKHHS12D0219A596'],\n",
       "  [['heart', 'barracuda'], 'SOKXADL12AB0183307'],\n",
       "  [['elastica w/ stephen malkmus', 'unheard music'], None],\n",
       "  [['tori amos', 'heart of gold'], None],\n",
       "  [['fiona apple', 'a mistake'], None],\n",
       "  [['aimee mann', 'one'], 'SOGBYUP12A8C1390B1'],\n",
       "  [['radiohead', 'true love waits (love)'], None],\n",
       "  [['emiliana torrini', 'summerbreeze'], None]],\n",
       " 'timestamp': '2002-02-04T10:49:00',\n",
       " 'user': {'member_since': '2001-12-25T00:00:00',\n",
       "  'mixes_posted': '71',\n",
       "  'name': 'jarød'}}"
      ]
     },
     "execution_count": 35,
     "metadata": {},
     "output_type": "execute_result"
    }
   ],
   "source": [
    "playlists[idx]"
   ]
  },
  {
   "cell_type": "code",
   "execution_count": 45,
   "metadata": {
    "collapsed": true
   },
   "outputs": [],
   "source": [
    "#playlists_subset = [playlists[ix] for ix in subsubset_ix]"
   ]
  },
  {
   "cell_type": "code",
   "execution_count": 48,
   "metadata": {},
   "outputs": [
    {
     "data": {
      "text/plain": [
       "241"
      ]
     },
     "execution_count": 48,
     "metadata": {},
     "output_type": "execute_result"
    }
   ],
   "source": [
    "#len(playlists_subset)"
   ]
  },
  {
   "cell_type": "markdown",
   "metadata": {},
   "source": [
    "Rebuild the list of song IDs for each playlist, ignore songs without ID or playlist with only one song ID."
   ]
  },
  {
   "cell_type": "code",
   "execution_count": 36,
   "metadata": {},
   "outputs": [],
   "source": [
    "playlists_songIDs = [[st[1] for st in playlists[idx]['playlist'] if st[1] is not None] \\\n",
    "                     for idx in range(len(playlists))]"
   ]
  },
  {
   "cell_type": "code",
   "execution_count": 37,
   "metadata": {},
   "outputs": [
    {
     "data": {
      "text/plain": [
       "101343"
      ]
     },
     "execution_count": 37,
     "metadata": {},
     "output_type": "execute_result"
    }
   ],
   "source": [
    "len(playlists_songIDs)"
   ]
  },
  {
   "cell_type": "code",
   "execution_count": 38,
   "metadata": {},
   "outputs": [],
   "source": [
    "playlists_subset = [sl for sl in playlists_songIDs if len(sl) > 1]"
   ]
  },
  {
   "cell_type": "code",
   "execution_count": 39,
   "metadata": {},
   "outputs": [
    {
     "data": {
      "text/plain": [
       "95298"
      ]
     },
     "execution_count": 39,
     "metadata": {},
     "output_type": "execute_result"
    }
   ],
   "source": [
    "len(playlists_subset)"
   ]
  },
  {
   "cell_type": "code",
   "execution_count": 44,
   "metadata": {},
   "outputs": [
    {
     "data": {
      "text/plain": [
       "['SOFDPDC12A58A7D198',\n",
       " 'SOPIEQP12A8C13F268',\n",
       " 'SOKMCJK12A6D4F6105',\n",
       " 'SOGTGJR12A6310E08D',\n",
       " 'SOLTBYJ12A6310F2BB',\n",
       " 'SOBOXXN12A6D4FA1A2',\n",
       " 'SOUQUFO12B0B80778E']"
      ]
     },
     "execution_count": 44,
     "metadata": {},
     "output_type": "execute_result"
    }
   ],
   "source": [
    "playlists_subset[0]"
   ]
  },
  {
   "cell_type": "code",
   "execution_count": 48,
   "metadata": {},
   "outputs": [
    {
     "name": "stdout",
     "output_type": "stream",
     "text": [
      "Average #Songs in playlist: 9.4\n"
     ]
    }
   ],
   "source": [
    "lengths_subset = [len(sl) for sl in playlists_subset]\n",
    "print('Average #Songs in playlist: %.1f' % np.mean(lengths_subset))"
   ]
  },
  {
   "cell_type": "code",
   "execution_count": 49,
   "metadata": {},
   "outputs": [
    {
     "data": {
      "text/plain": [
       "Text(0,0.5,'#Playlists')"
      ]
     },
     "execution_count": 49,
     "metadata": {},
     "output_type": "execute_result"
    },
    {
     "data": {
      "image/png": "[encoded data removed]",
      "text/plain": [
       "<matplotlib.figure.Figure at 0x7f2d8de51ac8>"
      ]
     },
     "metadata": {},
     "output_type": "display_data"
    }
   ],
   "source": [
    "ax = plt.subplot(111)\n",
    "pd.Series(lengths_subset).hist(ax=ax)\n",
    "ax.set_xlabel('Playlist length')\n",
    "ax.set_ylabel('#Playlists')\n",
    "#ax.set_yscale('log')"
   ]
  },
  {
   "cell_type": "code",
   "execution_count": 50,
   "metadata": {},
   "outputs": [],
   "source": [
    "import pickle as pkl"
   ]
  },
  {
   "cell_type": "code",
   "execution_count": 52,
   "metadata": {},
   "outputs": [],
   "source": [
    "pkl.dump(playlists_subset, open(os.path.join(data_dir, 'aotm-2011-subset.pkl'), 'wb'))"
   ]
  },
  {
   "cell_type": "markdown",
   "metadata": {},
   "source": [
    "### Check multiple ground truth"
   ]
  },
  {
   "cell_type": "markdown",
   "metadata": {},
   "source": [
    "Assume query is:\n",
    "- `query = (start_song)`\n",
    "- `query = (start_song, length)`\n",
    "- `query = (start_song, length, user)`"
   ]
  },
  {
   "cell_type": "code",
   "execution_count": 18,
   "metadata": {
    "collapsed": true
   },
   "outputs": [],
   "source": [
    "query_dict0 = dict()\n",
    "query_dict1 = dict()\n",
    "query_dict2 = dict()"
   ]
  },
  {
   "cell_type": "code",
   "execution_count": 19,
   "metadata": {
    "collapsed": true
   },
   "outputs": [],
   "source": [
    "for ix in range(len(playlists)):\n",
    "    playlist = playlists[ix]['playlist']\n",
    "    if len(playlist) == 0: continue\n",
    "    \n",
    "    track0_name = str.upper(playlist[0][0][1])\n",
    "    user_name = str.upper(playlists[ix]['user']['name'])\n",
    "    ntracks = len(playlists[ix]['playlist'])\n",
    "    \n",
    "    q0 = track0_name\n",
    "    q1 = (track0_name, ntracks)\n",
    "    q2 = (track0_name, ntracks, user_name)\n",
    "    try:\n",
    "        query_dict0[q0].append(ix)\n",
    "    except KeyError:\n",
    "        query_dict0[q0] = [ix]\n",
    "    try:\n",
    "        query_dict1[q1].append(ix)\n",
    "    except KeyError:\n",
    "        query_dict1[q1] = [ix]\n",
    "    try:\n",
    "        query_dict2[q2].append(ix)\n",
    "    except KeyError:\n",
    "        query_dict2[q2] = [ix]"
   ]
  },
  {
   "cell_type": "code",
   "execution_count": 21,
   "metadata": {},
   "outputs": [],
   "source": [
    "#query_dict0"
   ]
  },
  {
   "cell_type": "code",
   "execution_count": 22,
   "metadata": {
    "collapsed": true
   },
   "outputs": [],
   "source": [
    "#query_dict1"
   ]
  },
  {
   "cell_type": "code",
   "execution_count": 23,
   "metadata": {
    "collapsed": true
   },
   "outputs": [],
   "source": [
    "#query_dict2"
   ]
  },
  {
   "cell_type": "markdown",
   "metadata": {},
   "source": [
    "queries with multiple ground truths."
   ]
  },
  {
   "cell_type": "code",
   "execution_count": 24,
   "metadata": {
    "collapsed": true
   },
   "outputs": [],
   "source": [
    "queries0 = sorted([q0 for q0 in query_dict0 if len(query_dict0[q0]) > 1])"
   ]
  },
  {
   "cell_type": "code",
   "execution_count": 25,
   "metadata": {},
   "outputs": [
    {
     "name": "stdout",
     "output_type": "stream",
     "text": [
      "query = start_song\n",
      "Queries with multiple ground truth: 14280/57719, ratio: 24.74%\n"
     ]
    }
   ],
   "source": [
    "print('query = start_song')\n",
    "print('Queries with multiple ground truth: %d/%d, ratio: %.2f%%' % \\\n",
    "      (len(queries0), len(query_dict0), 100*len(queries0) / len(query_dict0)))"
   ]
  },
  {
   "cell_type": "code",
   "execution_count": 26,
   "metadata": {
    "collapsed": true
   },
   "outputs": [],
   "source": [
    "queries1 = sorted([q1 for q1 in query_dict1 if len(query_dict1[q1]) > 1])"
   ]
  },
  {
   "cell_type": "code",
   "execution_count": 27,
   "metadata": {},
   "outputs": [
    {
     "name": "stdout",
     "output_type": "stream",
     "text": [
      "query = (start_song, length)\n",
      "Queries with multiple ground truth: 7390/90828, ratio: 8.14%\n"
     ]
    }
   ],
   "source": [
    "print('query = (start_song, length)')\n",
    "print('Queries with multiple ground truth: %d/%d, ratio: %.2f%%' % \\\n",
    "      (len(queries1), len(query_dict1), 100*len(queries1) / len(query_dict1)))"
   ]
  },
  {
   "cell_type": "code",
   "execution_count": 28,
   "metadata": {
    "collapsed": true
   },
   "outputs": [],
   "source": [
    "queries2 = sorted([q2 for q2 in query_dict2 if len(query_dict2[q2]) > 1])"
   ]
  },
  {
   "cell_type": "code",
   "execution_count": 29,
   "metadata": {},
   "outputs": [
    {
     "name": "stdout",
     "output_type": "stream",
     "text": [
      "query = (start_song, length, user)\n",
      "Queries with multiple ground truth: 933/100128, ratio: 0.93%\n"
     ]
    }
   ],
   "source": [
    "print('query = (start_song, length, user)')\n",
    "print('Queries with multiple ground truth: %d/%d, ratio: %.2f%%' % \\\n",
    "      (len(queries2), len(query_dict2), 100*len(queries2) / len(query_dict2)))"
   ]
  }
 ],
 "metadata": {
  "kernelspec": {
   "display_name": "Python 3",
   "language": "python",
   "name": "python3"
  },
  "language_info": {
   "codemirror_mode": {
    "name": "ipython",
    "version": 3
   },
   "file_extension": ".py",
   "mimetype": "text/x-python",
   "name": "python",
   "nbconvert_exporter": "python",
   "pygments_lexer": "ipython3",
   "version": "3.6.3"
  }
 },
 "nbformat": 4,
 "nbformat_minor": 2
}
