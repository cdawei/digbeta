{
 "cells": [
  {
   "cell_type": "markdown",
   "metadata": {},
   "source": [
    "# Filtering the AotM-2011 Dataset"
   ]
  },
  {
   "cell_type": "code",
   "execution_count": 1,
   "metadata": {},
   "outputs": [],
   "source": [
    "%matplotlib inline\n",
    "import os, sys, time\n",
    "import json, gzip, codecs\n",
    "import numpy as np\n",
    "import pandas as pd\n",
    "import pickle as pkl\n",
    "import matplotlib.pyplot as plt\n",
    "import seaborn as sns\n",
    "from collections import Counter"
   ]
  },
  {
   "cell_type": "code",
   "execution_count": 2,
   "metadata": {},
   "outputs": [],
   "source": [
    "data_dir = 'data/aotm-2011'\n",
    "fuserpl = os.path.join(data_dir, 'aotm2011-user-playlist.pkl')"
   ]
  },
  {
   "cell_type": "markdown",
   "metadata": {},
   "source": [
    "## Load data"
   ]
  },
  {
   "cell_type": "code",
   "execution_count": 3,
   "metadata": {},
   "outputs": [],
   "source": [
    "fname = os.path.join(data_dir, 'aotm2011_playlists.json.gz')\n",
    "reader = codecs.getreader(\"utf-8\")\n",
    "with gzip.open(fname, 'r') as fd:\n",
    "    playlists = json.load(reader(fd))"
   ]
  },
  {
   "cell_type": "code",
   "execution_count": 4,
   "metadata": {},
   "outputs": [
    {
     "data": {
      "text/plain": [
       "{'category': 'Mixed Genre',\n",
       " 'filtered_lists': [['SOFDPDC12A58A7D198'],\n",
       "  ['SOPIEQP12A8C13F268', 'SOKMCJK12A6D4F6105'],\n",
       "  ['SOGTGJR12A6310E08D',\n",
       "   'SOLTBYJ12A6310F2BB',\n",
       "   'SOBOXXN12A6D4FA1A2',\n",
       "   'SOUQUFO12B0B80778E']],\n",
       " 'mix_id': 89567,\n",
       " 'playlist': [[['peter murphy', \"marlene dietrich's favourite poem\"], None],\n",
       "  [['the walker brothers', \"the sun ain't gonna shine anymore\"],\n",
       "   'SOFDPDC12A58A7D198'],\n",
       "  [['marc almond', 'jacky'], None],\n",
       "  [['tindersticks', 'dying slowly'], None],\n",
       "  [['tori amos', 'me and a gun'], 'SOPIEQP12A8C13F268'],\n",
       "  [['suzanne vega', 'luka'], 'SOKMCJK12A6D4F6105'],\n",
       "  [['madonna', 'spanish eyes'], None],\n",
       "  [['the angels of light', 'praise your name'], None],\n",
       "  [['eurythmics', 'sex crime'], None],\n",
       "  [['tom waits', 'drunk on the moon'], None],\n",
       "  [['kate bush', 'wuthering heights'], 'SOGTGJR12A6310E08D'],\n",
       "  [['david bowie', \"new york's in love\"], 'SOLTBYJ12A6310F2BB'],\n",
       "  [['echo & the bunnymen', 'crocodiles'], 'SOBOXXN12A6D4FA1A2'],\n",
       "  [['peter murphy', \"i'll fall with your knife\"], 'SOUQUFO12B0B80778E']],\n",
       " 'timestamp': '2005-03-27T10:53:00',\n",
       " 'user': {'member_since': '2004-03-21T00:00:00',\n",
       "  'mixes_posted': '23',\n",
       "  'name': 'pulmotor'}}"
      ]
     },
     "execution_count": 4,
     "metadata": {},
     "output_type": "execute_result"
    }
   ],
   "source": [
    "playlists[0]"
   ]
  },
  {
   "cell_type": "markdown",
   "metadata": {},
   "source": [
    "## Filtering data"
   ]
  },
  {
   "cell_type": "code",
   "execution_count": 5,
   "metadata": {},
   "outputs": [],
   "source": [
    "min_length = 5  # filtering out playlists shorter than this"
   ]
  },
  {
   "cell_type": "code",
   "execution_count": 8,
   "metadata": {},
   "outputs": [],
   "source": [
    "def filtering(playlists, min_length):\n",
    "    \"\"\"\n",
    "    Extract user information and playlist that has MSD songIDs.\n",
    "    Filtering out playlists with only 1 song, remove duplicated songs in the same playlist.\n",
    "    \"\"\"\n",
    "    assert len(playlists) > 0\n",
    "    assert min_length > 0\n",
    "    results = {}\n",
    "    for ix in range(len(playlists)):\n",
    "        if (ix+1) % 1000 == 0:\n",
    "            sys.stdout.write('\\r%d / %d' % (ix+1, len(playlists)))\n",
    "            sys.stdout.flush()\n",
    "            \n",
    "        pl = playlists[ix]['playlist']\n",
    "        user = playlists[ix]['user']\n",
    "        member_time = time.strptime(user['member_since'].strip(), '%Y-%m-%dT%H:%M:%S')\n",
    "        user_name = user['name'].strip()\n",
    "        key = (time.mktime(member_time), user_name)\n",
    "        sidlist = [t[1] for t in pl if t[1] is not None]\n",
    "        sidset = set(sidlist)\n",
    "        if len(sidset) >= min_length:\n",
    "            if len(sidlist) != len(set(sidlist)):\n",
    "                sids = []\n",
    "                for sid in sidlist:\n",
    "                    if sid not in sids: \n",
    "                        sids.append(sid)\n",
    "            else:\n",
    "                sids = sidlist\n",
    "\n",
    "            try:\n",
    "                results[key].append(sids)\n",
    "            except:\n",
    "                results[key] = [sids]\n",
    "                \n",
    "    return results"
   ]
  },
  {
   "cell_type": "code",
   "execution_count": 9,
   "metadata": {},
   "outputs": [
    {
     "name": "stdout",
     "output_type": "stream",
     "text": [
      "101000 / 101343"
     ]
    }
   ],
   "source": [
    "filtered_dict = filtering(playlists, min_length)"
   ]
  },
  {
   "cell_type": "markdown",
   "metadata": {},
   "source": [
    "## Statistics of filtered playlists"
   ]
  },
  {
   "cell_type": "code",
   "execution_count": 10,
   "metadata": {},
   "outputs": [],
   "source": [
    "npl_user = [len(filtered_dict[u]) for u in filtered_dict]"
   ]
  },
  {
   "cell_type": "code",
   "execution_count": 11,
   "metadata": {},
   "outputs": [
    {
     "name": "stdout",
     "output_type": "stream",
     "text": [
      "#user    : 14182\n",
      "#playlist: 84710\n"
     ]
    }
   ],
   "source": [
    "print('#user    :', len(filtered_dict))\n",
    "print('#playlist:', np.sum(npl_user))"
   ]
  },
  {
   "cell_type": "code",
   "execution_count": 27,
   "metadata": {},
   "outputs": [
    {
     "data": {
      "text/plain": [
       "1857"
      ]
     },
     "execution_count": 27,
     "metadata": {},
     "output_type": "execute_result"
    }
   ],
   "source": [
    "np.sum(np.array(npl_user) >= 10)"
   ]
  },
  {
   "cell_type": "markdown",
   "metadata": {},
   "source": [
    "Histogram of #playlist per user."
   ]
  },
  {
   "cell_type": "code",
   "execution_count": 15,
   "metadata": {},
   "outputs": [
    {
     "name": "stdout",
     "output_type": "stream",
     "text": [
      "Average #playlist per user: 6.0\n"
     ]
    },
    {
     "data": {
      "image/png": "[encoded data removed]",
      "text/plain": [
       "<matplotlib.figure.Figure at 0x1a20607be0>"
      ]
     },
     "metadata": {},
     "output_type": "display_data"
    }
   ],
   "source": [
    "ax = plt.subplot(111)\n",
    "pd.Series(npl_user).hist(ax=ax, bins=100)\n",
    "ax.set_title('Histogram of #playlist per user')\n",
    "ax.set_xlabel('#Playlist')\n",
    "ax.set_ylabel('#User')\n",
    "ax.set_yscale('log')\n",
    "print('Average #playlist per user: %.1f' % np.mean(npl_user))"
   ]
  },
  {
   "cell_type": "markdown",
   "metadata": {},
   "source": [
    "Histogram of playlist length."
   ]
  },
  {
   "cell_type": "code",
   "execution_count": 13,
   "metadata": {},
   "outputs": [],
   "source": [
    "pl_lengths = [len(pl) for u in filtered_dict for pl in filtered_dict[u]]"
   ]
  },
  {
   "cell_type": "code",
   "execution_count": 16,
   "metadata": {},
   "outputs": [
    {
     "name": "stdout",
     "output_type": "stream",
     "text": [
      "Average #song per playlist: 10.1\n"
     ]
    },
    {
     "data": {
      "image/png": "[encoded data removed]",
      "text/plain": [
       "<matplotlib.figure.Figure at 0x1a218849e8>"
      ]
     },
     "metadata": {},
     "output_type": "display_data"
    }
   ],
   "source": [
    "ax = plt.subplot(111)\n",
    "pd.Series(pl_lengths).hist(ax=ax, bins=100)\n",
    "ax.set_title('Histogram of playlist length')\n",
    "ax.set_xlabel('Playlist length')\n",
    "ax.set_ylabel('#Playlists')\n",
    "ax.set_yscale('log')\n",
    "print('Average #song per playlist: %.1f' % np.mean(pl_lengths))"
   ]
  },
  {
   "cell_type": "markdown",
   "metadata": {},
   "source": [
    "## Dump filtered playlists"
   ]
  },
  {
   "cell_type": "code",
   "execution_count": 17,
   "metadata": {},
   "outputs": [],
   "source": [
    "pkl.dump(filtered_dict, open(fuserpl, 'wb'))"
   ]
  },
  {
   "cell_type": "markdown",
   "metadata": {},
   "source": [
    "## Original playlists"
   ]
  },
  {
   "cell_type": "code",
   "execution_count": null,
   "metadata": {},
   "outputs": [],
   "source": [
    "lengths = [len(playlists[j]['playlist']) for j in range(len(playlists))]"
   ]
  },
  {
   "cell_type": "code",
   "execution_count": null,
   "metadata": {},
   "outputs": [],
   "source": [
    "print('#Playlists:', len(lengths))"
   ]
  },
  {
   "cell_type": "markdown",
   "metadata": {},
   "source": [
    "Histogram of playlist length."
   ]
  },
  {
   "cell_type": "code",
   "execution_count": null,
   "metadata": {},
   "outputs": [],
   "source": [
    "ax = plt.subplot(111)\n",
    "pd.Series(lengths).hist(ax=ax)\n",
    "ax.set_xlabel('Playlist length')\n",
    "ax.set_ylabel('#Playlists')\n",
    "#ax.set_yscale('log')"
   ]
  },
  {
   "cell_type": "markdown",
   "metadata": {},
   "source": [
    "Categories."
   ]
  },
  {
   "cell_type": "code",
   "execution_count": null,
   "metadata": {},
   "outputs": [],
   "source": [
    "cats = [playlists[j]['category'] for j in range(len(playlists))]"
   ]
  },
  {
   "cell_type": "code",
   "execution_count": null,
   "metadata": {},
   "outputs": [],
   "source": [
    "print('#Categories:', np.unique(cats).shape[0])"
   ]
  },
  {
   "cell_type": "code",
   "execution_count": null,
   "metadata": {},
   "outputs": [],
   "source": [
    "counter = Counter(cats)"
   ]
  },
  {
   "cell_type": "code",
   "execution_count": null,
   "metadata": {},
   "outputs": [],
   "source": [
    "#counter"
   ]
  },
  {
   "cell_type": "code",
   "execution_count": null,
   "metadata": {},
   "outputs": [],
   "source": [
    "X = sorted([key for key in counter])\n",
    "Y = [counter[key] for key in X]"
   ]
  },
  {
   "cell_type": "markdown",
   "metadata": {},
   "source": [
    "Scatter plot of the number of playlists for all categories."
   ]
  },
  {
   "cell_type": "code",
   "execution_count": null,
   "metadata": {},
   "outputs": [],
   "source": [
    "ax = plt.subplot(111)\n",
    "#ax.set_xlabel('Category (ID)')\n",
    "ax.set_xlabel('Category')\n",
    "ax.set_ylabel('#Playlists')\n",
    "ax.set_yscale('log')\n",
    "#ax.plot(Y)\n",
    "ax.plot(sorted(Y))"
   ]
  },
  {
   "cell_type": "markdown",
   "metadata": {},
   "source": [
    "Playlists in which all tracks are in MSD: **too few!**"
   ]
  },
  {
   "cell_type": "code",
   "execution_count": null,
   "metadata": {},
   "outputs": [],
   "source": [
    "#subset_ix = [j for j in range(len(playlists)) \\\n",
    "#             if len(playlists[j]['playlist']) == len([x for y in playlists[j]['filtered_lists'] for x in y])]"
   ]
  },
  {
   "cell_type": "code",
   "execution_count": null,
   "metadata": {},
   "outputs": [],
   "source": [
    "#len(subset_ix)"
   ]
  },
  {
   "cell_type": "code",
   "execution_count": null,
   "metadata": {},
   "outputs": [],
   "source": [
    "#subsubset_ix = [ix for ix in subset_ix if len(playlists[ix]['playlist']) > 1]\n",
    "#len(subsubset_ix)"
   ]
  },
  {
   "cell_type": "markdown",
   "metadata": {},
   "source": [
    "**NOTE**: The *Filtered_lists* field is grouped by some unknown properity!"
   ]
  },
  {
   "cell_type": "code",
   "execution_count": null,
   "metadata": {},
   "outputs": [],
   "source": [
    "subset_ix = [ix for ix in range(len(playlists)) if len(playlists[ix]['filtered_lists']) > 1]\n",
    "len(subset_ix)"
   ]
  },
  {
   "cell_type": "code",
   "execution_count": null,
   "metadata": {},
   "outputs": [],
   "source": [
    "idx = subset_ix[10]\n",
    "print(len(playlists[idx]['playlist']))\n",
    "print(len(playlists[idx]['filtered_lists']))\n",
    "print(len([st[1] for st in playlists[idx]['playlist'] if st[1] is not None]))"
   ]
  },
  {
   "cell_type": "code",
   "execution_count": null,
   "metadata": {},
   "outputs": [],
   "source": [
    "playlists[idx]"
   ]
  },
  {
   "cell_type": "code",
   "execution_count": null,
   "metadata": {},
   "outputs": [],
   "source": [
    "#playlists_subset = [playlists[ix] for ix in subsubset_ix]"
   ]
  },
  {
   "cell_type": "code",
   "execution_count": null,
   "metadata": {},
   "outputs": [],
   "source": [
    "#len(playlists_subset)"
   ]
  },
  {
   "cell_type": "markdown",
   "metadata": {},
   "source": [
    "Rebuild the list of song IDs for each playlist, ignore songs without ID or playlist with only one song ID."
   ]
  },
  {
   "cell_type": "code",
   "execution_count": null,
   "metadata": {},
   "outputs": [],
   "source": [
    "playlists_songIDs = [[st[1] for st in playlists[idx]['playlist'] if st[1] is not None] \\\n",
    "                     for idx in range(len(playlists))]"
   ]
  },
  {
   "cell_type": "code",
   "execution_count": null,
   "metadata": {},
   "outputs": [],
   "source": [
    "len(playlists_songIDs)"
   ]
  },
  {
   "cell_type": "code",
   "execution_count": null,
   "metadata": {},
   "outputs": [],
   "source": [
    "playlists_subset = [sl for sl in playlists_songIDs if len(sl) > 1]"
   ]
  },
  {
   "cell_type": "code",
   "execution_count": null,
   "metadata": {},
   "outputs": [],
   "source": [
    "len(playlists_subset)"
   ]
  },
  {
   "cell_type": "code",
   "execution_count": null,
   "metadata": {},
   "outputs": [],
   "source": [
    "playlists_subset[0]"
   ]
  },
  {
   "cell_type": "markdown",
   "metadata": {},
   "source": [
    "Check for duplicated songs in the same playlist."
   ]
  },
  {
   "cell_type": "code",
   "execution_count": null,
   "metadata": {},
   "outputs": [],
   "source": [
    "np.sum([len(pl) for pl in playlists_subset])"
   ]
  },
  {
   "cell_type": "code",
   "execution_count": null,
   "metadata": {},
   "outputs": [],
   "source": [
    "np.sum([len(set(pl)) for pl in playlists_subset])"
   ]
  },
  {
   "cell_type": "code",
   "execution_count": null,
   "metadata": {},
   "outputs": [],
   "source": [
    "playlists_filtered = []"
   ]
  },
  {
   "cell_type": "code",
   "execution_count": null,
   "metadata": {},
   "outputs": [],
   "source": [
    "for i in range(len(playlists_subset)):\n",
    "    if (i+1) % 100 == 0:\n",
    "        sys.stdout.write('\\r%d / %d' % (i+1, len(playlists_subset)))\n",
    "        sys.stdout.flush()\n",
    "        \n",
    "    pl = playlists_subset[i]\n",
    "    if len(pl) == len(set(pl)):\n",
    "        playlists_filtered.append(pl)\n",
    "    else:\n",
    "        sid_list = []\n",
    "        for sid in pl:\n",
    "            if sid not in sid_list:\n",
    "                sid_list.append(sid)\n",
    "        if len(sid_list) > 1:\n",
    "            playlists_filtered.append(sid_list)"
   ]
  },
  {
   "cell_type": "code",
   "execution_count": null,
   "metadata": {},
   "outputs": [],
   "source": [
    "len(playlists_filtered)"
   ]
  },
  {
   "cell_type": "code",
   "execution_count": null,
   "metadata": {},
   "outputs": [],
   "source": [
    "np.sum([len(pl) for pl in playlists_filtered])"
   ]
  },
  {
   "cell_type": "code",
   "execution_count": null,
   "metadata": {},
   "outputs": [],
   "source": [
    "np.sum([len(set(pl)) for pl in playlists_filtered])"
   ]
  },
  {
   "cell_type": "code",
   "execution_count": null,
   "metadata": {},
   "outputs": [],
   "source": [
    "lengths_subset = [len(sl) for sl in playlists_filtered]\n",
    "print('Average #Songs in playlist: %.1f' % np.mean(lengths_subset))"
   ]
  },
  {
   "cell_type": "code",
   "execution_count": null,
   "metadata": {},
   "outputs": [],
   "source": [
    "ax = plt.subplot(111)\n",
    "pd.Series(lengths_subset).hist(ax=ax)\n",
    "ax.set_xlabel('Playlist length')\n",
    "ax.set_ylabel('#Playlists')\n",
    "#ax.set_yscale('log')"
   ]
  },
  {
   "cell_type": "code",
   "execution_count": null,
   "metadata": {},
   "outputs": [],
   "source": [
    "pkl.dump(playlists_filtered, open(os.path.join(data_dir, 'aotm2011-subset.pkl'), 'wb'))"
   ]
  },
  {
   "cell_type": "markdown",
   "metadata": {},
   "source": [
    "### Check multiple ground truth"
   ]
  },
  {
   "cell_type": "markdown",
   "metadata": {},
   "source": [
    "Assume query is:\n",
    "- `query = (start_song)`\n",
    "- `query = (start_song, length)`\n",
    "- `query = (start_song, length, user)`"
   ]
  },
  {
   "cell_type": "code",
   "execution_count": null,
   "metadata": {},
   "outputs": [],
   "source": [
    "query_dict0 = dict()\n",
    "query_dict1 = dict()\n",
    "query_dict2 = dict()"
   ]
  },
  {
   "cell_type": "code",
   "execution_count": null,
   "metadata": {},
   "outputs": [],
   "source": [
    "for ix in range(len(playlists)):\n",
    "    playlist = playlists[ix]['playlist']\n",
    "    if len(playlist) == 0: continue\n",
    "    \n",
    "    track0_name = str.upper(playlist[0][0][1])\n",
    "    user_name = str.upper(playlists[ix]['user']['name'])\n",
    "    ntracks = len(playlists[ix]['playlist'])\n",
    "    \n",
    "    q0 = track0_name\n",
    "    q1 = (track0_name, ntracks)\n",
    "    q2 = (track0_name, ntracks, user_name)\n",
    "    try:\n",
    "        query_dict0[q0].append(ix)\n",
    "    except KeyError:\n",
    "        query_dict0[q0] = [ix]\n",
    "    try:\n",
    "        query_dict1[q1].append(ix)\n",
    "    except KeyError:\n",
    "        query_dict1[q1] = [ix]\n",
    "    try:\n",
    "        query_dict2[q2].append(ix)\n",
    "    except KeyError:\n",
    "        query_dict2[q2] = [ix]"
   ]
  },
  {
   "cell_type": "code",
   "execution_count": null,
   "metadata": {},
   "outputs": [],
   "source": [
    "#query_dict0"
   ]
  },
  {
   "cell_type": "code",
   "execution_count": null,
   "metadata": {},
   "outputs": [],
   "source": [
    "#query_dict1"
   ]
  },
  {
   "cell_type": "code",
   "execution_count": null,
   "metadata": {},
   "outputs": [],
   "source": [
    "#query_dict2"
   ]
  },
  {
   "cell_type": "markdown",
   "metadata": {},
   "source": [
    "queries with multiple ground truths."
   ]
  },
  {
   "cell_type": "code",
   "execution_count": null,
   "metadata": {},
   "outputs": [],
   "source": [
    "queries0 = sorted([q0 for q0 in query_dict0 if len(query_dict0[q0]) > 1])"
   ]
  },
  {
   "cell_type": "code",
   "execution_count": null,
   "metadata": {},
   "outputs": [],
   "source": [
    "print('query = start_song')\n",
    "print('Queries with multiple ground truth: %d/%d, ratio: %.2f%%' % \\\n",
    "      (len(queries0), len(query_dict0), 100*len(queries0) / len(query_dict0)))"
   ]
  },
  {
   "cell_type": "code",
   "execution_count": null,
   "metadata": {},
   "outputs": [],
   "source": [
    "queries1 = sorted([q1 for q1 in query_dict1 if len(query_dict1[q1]) > 1])"
   ]
  },
  {
   "cell_type": "code",
   "execution_count": null,
   "metadata": {},
   "outputs": [],
   "source": [
    "print('query = (start_song, length)')\n",
    "print('Queries with multiple ground truth: %d/%d, ratio: %.2f%%' % \\\n",
    "      (len(queries1), len(query_dict1), 100*len(queries1) / len(query_dict1)))"
   ]
  },
  {
   "cell_type": "code",
   "execution_count": null,
   "metadata": {},
   "outputs": [],
   "source": [
    "queries2 = sorted([q2 for q2 in query_dict2 if len(query_dict2[q2]) > 1])"
   ]
  },
  {
   "cell_type": "code",
   "execution_count": null,
   "metadata": {},
   "outputs": [],
   "source": [
    "print('query = (start_song, length, user)')\n",
    "print('Queries with multiple ground truth: %d/%d, ratio: %.2f%%' % \\\n",
    "      (len(queries2), len(query_dict2), 100*len(queries2) / len(query_dict2)))"
   ]
  }
 ],
 "metadata": {
  "kernelspec": {
   "display_name": "Python 3",
   "language": "python",
   "name": "python3"
  },
  "language_info": {
   "codemirror_mode": {
    "name": "ipython",
    "version": 3
   },
   "file_extension": ".py",
   "mimetype": "text/x-python",
   "name": "python",
   "nbconvert_exporter": "python",
   "pygments_lexer": "ipython3",
   "version": "3.6.4"
  }
 },
 "nbformat": 4,
 "nbformat_minor": 2
}
