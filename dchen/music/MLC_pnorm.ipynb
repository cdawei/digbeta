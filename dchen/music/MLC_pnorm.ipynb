{
 "cells": [
  {
   "cell_type": "markdown",
   "metadata": {},
   "source": [
    "# P-Norm push loss -- ranking on multi-label data"
   ]
  },
  {
   "cell_type": "code",
   "execution_count": null,
   "metadata": {},
   "outputs": [],
   "source": [
    "%matplotlib inline\n",
    "%load_ext line_profiler\n",
    "%load_ext autoreload\n",
    "%autoreload 2\n",
    "\n",
    "import os, sys, time\n",
    "import pickle as pkl\n",
    "import numpy as np\n",
    "import pandas as pd\n",
    "\n",
    "from scipy.optimize import minimize\n",
    "from scipy.optimize import check_grad\n",
    "from scipy.special import expit as sigmoid\n",
    "\n",
    "from sklearn.base import BaseEstimator\n",
    "from sklearn.pipeline import make_pipeline\n",
    "from sklearn.model_selection import train_test_split\n",
    "from sklearn.model_selection import GridSearchCV\n",
    "from sklearn.metrics import classification_report, make_scorer, label_ranking_loss\n",
    "\n",
    "import matplotlib.pyplot as plt\n",
    "import seaborn as sns\n",
    "from joblib import Parallel, delayed"
   ]
  },
  {
   "cell_type": "code",
   "execution_count": null,
   "metadata": {},
   "outputs": [],
   "source": [
    "sys.path.append('src')\n",
    "from evaluate import avgPrecisionK, evaluatePrecision, evaluateF1, evaluateRankingLoss, f1_score_nowarn, calcLoss\n",
    "from datasets import create_dataset, dataset_names, nLabels_dict"
   ]
  },
  {
   "cell_type": "code",
   "execution_count": null,
   "metadata": {},
   "outputs": [],
   "source": [
    "dataset_names"
   ]
  },
  {
   "cell_type": "code",
   "execution_count": null,
   "metadata": {},
   "outputs": [],
   "source": [
    "data_ix = 2"
   ]
  },
  {
   "cell_type": "code",
   "execution_count": null,
   "metadata": {},
   "outputs": [],
   "source": [
    "dataset_name = dataset_names[data_ix]\n",
    "nLabels = nLabels_dict[dataset_name]\n",
    "print(dataset_name, nLabels)"
   ]
  },
  {
   "cell_type": "code",
   "execution_count": null,
   "metadata": {},
   "outputs": [],
   "source": [
    "data_dir = 'data'\n",
    "SEED = 918273645\n",
    "fmodel_base = os.path.join(data_dir, 'pc-' + dataset_name + '-base.pkl')\n",
    "fmodel_prec = os.path.join(data_dir, 'pc-' + dataset_name + '-prec.pkl')\n",
    "fmodel_f1 = os.path.join(data_dir, 'pc-' + dataset_name + '-f1.pkl')"
   ]
  },
  {
   "cell_type": "markdown",
   "metadata": {},
   "source": [
    "Load data."
   ]
  },
  {
   "cell_type": "code",
   "execution_count": null,
   "metadata": {},
   "outputs": [],
   "source": [
    "X_train, Y_train = create_dataset(dataset_name, train_data=True, shuffle=True, random_state=SEED)\n",
    "X_test,  Y_test  = create_dataset(dataset_name, train_data=False)"
   ]
  },
  {
   "cell_type": "markdown",
   "metadata": {},
   "source": [
    "Feature normalisation."
   ]
  },
  {
   "cell_type": "code",
   "execution_count": null,
   "metadata": {},
   "outputs": [],
   "source": [
    "X_train_mean = np.mean(X_train, axis=0).reshape((1, -1))\n",
    "X_train_std = np.std(X_train, axis=0).reshape((1, -1)) + 10 ** (-6)\n",
    "X_train -= X_train_mean\n",
    "X_train /= X_train_std\n",
    "X_test  -= X_train_mean\n",
    "X_test  /= X_train_std"
   ]
  },
  {
   "cell_type": "code",
   "execution_count": null,
   "metadata": {},
   "outputs": [],
   "source": [
    "def print_dataset_info(X_train, Y_train, X_test, Y_test):\n",
    "    N_train, D = X_train.shape\n",
    "    K = Y_train.shape[1]\n",
    "    N_test = X_test.shape[0]\n",
    "    print('%-45s %s' % ('Number of training examples:', '{:,}'.format(N_train)))\n",
    "    print('%-45s %s' % ('Number of test examples:', '{:,}'.format(N_test)))\n",
    "    print('%-45s %s' % ('Number of features:', '{:,}'.format(D)))\n",
    "    print('%-45s %s' % ('Number of labels:', '{:,}'.format(K)))\n",
    "    avgK_train = np.mean(np.sum(Y_train, axis=1))\n",
    "    avgK_test  = np.mean(np.sum(Y_test, axis=1))\n",
    "    print('%-45s %.3f (%.2f%%)' % ('Average number of positive labels (train):', avgK_train, 100*avgK_train / K))\n",
    "    print('%-45s %.3f (%.2f%%)' % ('Average number of positive labels (test):', avgK_test, 100*avgK_test / K))\n",
    "    #print('%-45s %.4f%%' % ('Average label occurrence (train):', np.mean(np.sum(Y_train, axis=0)) / N_train))\n",
    "    #print('%-45s %.4f%%' % ('Average label occurrence (test):', np.mean(np.sum(Y_test, axis=0)) / N_test))\n",
    "    print('%-45s %.3f%%' % ('Sparsity (percent) (train):', 100 * np.sum(Y_train) / np.prod(Y_train.shape)))\n",
    "    print('%-45s %.3f%%' % ('Sparsity (percent) (test):', 100 * np.sum(Y_test) / np.prod(Y_test.shape)))"
   ]
  },
  {
   "cell_type": "code",
   "execution_count": null,
   "metadata": {},
   "outputs": [],
   "source": [
    "print('%-45s %s' % ('Dataset:', dataset_name))\n",
    "print_dataset_info(X_train, Y_train, X_test, Y_test)"
   ]
  },
  {
   "cell_type": "markdown",
   "metadata": {},
   "source": [
    "## p-classification loss"
   ]
  },
  {
   "cell_type": "markdown",
   "metadata": {},
   "source": [
    "Multi-label learning with p-classification loss."
   ]
  },
  {
   "cell_type": "code",
   "execution_count": null,
   "metadata": {},
   "outputs": [],
   "source": [
    "def obj_pnorm(w, X, Y, C, p, weighting=True):\n",
    "    \"\"\"\n",
    "        Objective with L2 regularisation and p-norm push loss\n",
    "        \n",
    "        Input:\n",
    "            - w: current weight vector, flattened L x D\n",
    "            - X: feature matrix, N x D\n",
    "            - Y: label matrix,   N x L\n",
    "            - C: regularisation constant, is consistent with scikit-learn C = 1 / (N * \\lambda)\n",
    "            - p: constant for p-norm push loss\n",
    "    \"\"\"\n",
    "    N, D = X.shape\n",
    "    K = Y.shape[1]\n",
    "    assert(w.shape[0] == K * D)\n",
    "    assert(p >= 1)\n",
    "    assert(C > 0)\n",
    "    \n",
    "    W = w.reshape(K, D)  # reshape weight matrix\n",
    "    OneN = np.ones(N)  # N by 1\n",
    "    OneK = np.ones(K)  # K by 1\n",
    "    \n",
    "    if weighting is True:\n",
    "        #KPosAll = np.sum(Y, axis=1)  # number of positive labels for each example, N by 1\n",
    "        KPosAll = np.dot(Y, OneK)\n",
    "        KNegAll = K - KPosAll        # number of negative labels for each example, N by 1\n",
    "    else:\n",
    "        KPosAll = np.ones(N)\n",
    "        KNegAll = np.ones(N)\n",
    "    A_diag = np.divide(1, KPosAll)  # N by 1\n",
    "    P_diag = np.divide(1, KNegAll)  # N by 1\n",
    "    \n",
    "    T1 = np.dot(X, W.T) # N by K\n",
    "    \n",
    "    T1p = np.multiply(Y, T1)\n",
    "    T2 = np.multiply(Y, np.exp(-T1p))  # N by K\n",
    "    T3 = T2 * A_diag[:, None]  # N by K\n",
    "    T4 = np.dot(T3, OneK)  # N by 1\n",
    "    \n",
    "    #T1n = np.multiply(1-Y, T1)\n",
    "    T1n = T1 - T1p\n",
    "    T5 = np.multiply(1-Y, np.exp(p * T1n))  # N by K\n",
    "    T6 = T5 * P_diag[:, None]  # N by K\n",
    "    T7 = np.dot(T6, OneK)  # N by 1\n",
    "    \n",
    "    T8 = np.power(T4, p-1)  # N by 1\n",
    "    T9 = np.power(T4, p)    # N by 1\n",
    "    J = np.dot(w, w) * 0.5 / C + np.dot(OneN, T9 * T7) / N\n",
    "    \n",
    "    T10 = T8 * T7  # N by 1\n",
    "    G1 = p * np.dot((T3 * T10[:, None]).T, -X)  # K by D\n",
    "    \n",
    "    G2 = p * np.dot((T6 * T9[:, None]).T, X)  # K by D\n",
    "    \n",
    "    G = W / C + (G1 + G2) / N\n",
    "    \n",
    "    return (J, G.ravel())"
   ]
  },
  {
   "cell_type": "code",
   "execution_count": null,
   "metadata": {},
   "outputs": [],
   "source": [
    "def obj_pnorm_loop(w, X, Y, C, p, weighting=True):\n",
    "    \"\"\"\n",
    "        Objective with L2 regularisation and p-classification loss\n",
    "        \n",
    "        Input:\n",
    "            - w: current weight vector, flattened L x D\n",
    "            - X: feature matrix, N x D\n",
    "            - Y: label matrix,   N x L\n",
    "            - C: regularisation constant, is consistent with scikit-learn C = 1 / (N * \\lambda)\n",
    "            - p: constant for p-classification push loss\n",
    "    \"\"\"\n",
    "    N, D = X.shape\n",
    "    K = Y.shape[1]\n",
    "    assert(w.shape[0] == K * D)\n",
    "    assert(p >= 1)\n",
    "    assert(C > 0)\n",
    "    \n",
    "    W = w.reshape(K, D)  # reshape weight matrix\n",
    "    \n",
    "    J = 0.0  # cost\n",
    "    G = np.zeros_like(W)  # gradient matrix\n",
    "    if weighting is True:\n",
    "        KPosAll = np.sum(Y, axis=1)  # number of positive labels for each example, N by 1\n",
    "        KNegAll = K - KPosAll        # number of negative labels for each example, N by 1\n",
    "    else:\n",
    "        KPosAll = np.ones(N)\n",
    "        KNegAll = np.ones(N)\n",
    "    \n",
    "    pscores = np.zeros(N)\n",
    "    nscores = np.zeros(N)\n",
    "    for n in range(N):\n",
    "        pscore = 0.0\n",
    "        nscore = 0.0\n",
    "        for k in range(K):\n",
    "            score = np.dot(W[k, :], X[n, :])\n",
    "            if Y[n, k] == 1:\n",
    "                t1 = np.exp(-score) / KPosAll[n]\n",
    "                pscore += t1\n",
    "            else:\n",
    "                t2 = np.exp(p * score) / KNegAll[n]\n",
    "                nscore += t2\n",
    "        pscores[n] = pscore\n",
    "        nscores[n] = nscore\n",
    "        \n",
    "    for n in range(N):\n",
    "        for k in range(K):\n",
    "            score = np.dot(W[k, :], X[n, :])\n",
    "            if Y[n, k] == 1:\n",
    "                G[k, :] = G[k,:] - (np.power(pscores[n], p-1) * nscores[n] * np.exp(-score) / KPosAll[n]) * X[n,:]\n",
    "            else:\n",
    "                G[k, :] = G[k,:] + (np.power(pscores[n], p) * np.exp(p * score) / KNegAll[n]) * X[n,:]\n",
    "        \n",
    "    J = np.dot(w, w) * 0.5 / C + np.sum(np.power(pscores, p) * nscores) / N\n",
    "    G = W / C + G * p / N\n",
    "    \n",
    "    return (J, G.ravel())"
   ]
  },
  {
   "cell_type": "markdown",
   "metadata": {},
   "source": [
    "Check gradient"
   ]
  },
  {
   "cell_type": "code",
   "execution_count": null,
   "metadata": {},
   "outputs": [],
   "source": [
    "#w0 = 0.001 * np.random.randn(Y_train.shape[1] * X_train.shape[1])\n",
    "#check_grad(lambda w: obj_pnorm(w, X_train, Y_train, C=1, p=3)[0], \n",
    "#           lambda w: obj_pnorm(w, X_train, Y_train, C=1, p=3)[1], w0)"
   ]
  },
  {
   "cell_type": "code",
   "execution_count": null,
   "metadata": {},
   "outputs": [],
   "source": [
    "#w0 = 0.001 * np.random.randn(Y_train.shape[1] * X_train.shape[1])\n",
    "#check_grad(lambda w: obj_pnorm_loop(w, X_train, Y_train, C=1, p=2)[0], \n",
    "#           lambda w: obj_pnorm_loop(w, X_train, Y_train, C=1, p=2)[1], w0)"
   ]
  },
  {
   "cell_type": "code",
   "execution_count": null,
   "metadata": {},
   "outputs": [],
   "source": [
    "def cmp_loop_vec(func_loop, func_vec, X_train, Y_train, p=1):\n",
    "    print('%15s %15s %15s %15s %15s' % ('C','J_Diff', 'J_loop', 'J_vec', 'G_Diff'))\n",
    "    w0 = 0.001 * np.random.randn(Y_train.shape[1] * X_train.shape[1])\n",
    "    for e in range(-6, 10):\n",
    "        C = 10**(e)\n",
    "        J,  G  = func_loop(w0, X_train, Y_train, C, p=p)\n",
    "        J1, G1 = func_vec( w0, X_train, Y_train, C, p=p)\n",
    "        Gdiff = G1 - G\n",
    "        print('%15g %15g %15g %15g %15g' % (C, J1 - J, J, J1, np.dot(Gdiff, Gdiff)))"
   ]
  },
  {
   "cell_type": "code",
   "execution_count": null,
   "metadata": {},
   "outputs": [],
   "source": [
    "#cmp_loop_vec(obj_pnorm_loop, obj_pnorm, X_train, Y_train, p=8)"
   ]
  },
  {
   "cell_type": "markdown",
   "metadata": {},
   "source": [
    "Line profiling"
   ]
  },
  {
   "cell_type": "code",
   "execution_count": null,
   "metadata": {},
   "outputs": [],
   "source": [
    "#C = 10; p = 2\n",
    "#w0 = np.random.rand(X_train.shape[1] * nLabels + 1)\n",
    "#%lprun -f obj_pclassification check_grad(lambda w: obj_pclassification(w, X_train, Y_train, C, p)[0], \\\n",
    "#                                         lambda w: obj_pclassification(w, X_train, Y_train, C, p)[1], w0)"
   ]
  },
  {
   "cell_type": "markdown",
   "metadata": {},
   "source": [
    "Class definition."
   ]
  },
  {
   "cell_type": "code",
   "execution_count": null,
   "metadata": {},
   "outputs": [],
   "source": [
    "class MLC_pnorm(BaseEstimator):\n",
    "    \"\"\"All methods are necessary for a scikit-learn estimator\"\"\"\n",
    "    \n",
    "    def __init__(self, C=1, p=1, weighting=True):\n",
    "        \"\"\"Initialisation\"\"\"\n",
    "        \n",
    "        assert C >  0\n",
    "        assert p >= 1\n",
    "        self.C = C\n",
    "        self.p = p\n",
    "        self.weighting = weighting\n",
    "        self.obj_func = obj_pnorm\n",
    "        self.trained = False\n",
    "        \n",
    "    def fit(self, X_train, Y_train):\n",
    "        \"\"\"Model fitting by optimising the objective\"\"\"\n",
    "        opt_method = 'L-BFGS-B' #'BFGS' #'Newton-CG'\n",
    "        options = {'disp': 1, 'maxiter': 10**5, 'maxfun': 10**5} # , 'iprint': 99}\n",
    "        sys.stdout.write('\\nC: %g, p: %g, weighting: %s\\n' % (self.C, self.p, self.weighting))\n",
    "        sys.stdout.flush()\n",
    "            \n",
    "        N, D = X_train.shape\n",
    "        K = Y_train.shape[1]\n",
    "        #w0 = np.random.rand(K * D + 1) - 0.5  # initial guess in range [-1, 1]\n",
    "        w0 = 0.001 * np.random.randn(K * D)\n",
    "        opt = minimize(self.obj_func, w0, args=(X_train, Y_train, self.C, self.p, self.weighting), \\\n",
    "                       method=opt_method, jac=True, options=options)\n",
    "        if opt.success is True:\n",
    "            self.W = np.reshape(opt.x, (K, D))\n",
    "            self.trained = True\n",
    "        else:\n",
    "            sys.stderr.write('Optimisation failed')\n",
    "            print(opt.items())\n",
    "            self.trained = False\n",
    "            \n",
    "            \n",
    "    def decision_function(self, X_test):\n",
    "        \"\"\"Make predictions (score is real number)\"\"\"\n",
    "        \n",
    "        assert self.trained is True, \"Can't make prediction before training\"\n",
    "        D = X_test.shape[1]\n",
    "        return np.dot(X_test, self.W.T)  # log of prediction score\n",
    "        \n",
    "    \n",
    "    def predict(self, X_test):\n",
    "        return self.decision_function(X_test)\n",
    "    #    \"\"\"Make predictions (score is boolean)\"\"\"   \n",
    "    #    preds = sigmoid(self.decision_function(X_test))\n",
    "    #    #return (preds >= 0)\n",
    "    #    assert self.TH is not None\n",
    "    #    return preds >= self.TH        \n",
    "        \n",
    "    # inherit from BaseEstimator instead of re-implement\n",
    "    #\n",
    "    #def get_params(self, deep = True):\n",
    "    #def set_params(self, **params):"
   ]
  },
  {
   "cell_type": "code",
   "execution_count": null,
   "metadata": {},
   "outputs": [],
   "source": [
    "def avgF1(Y_true, Y_pred):\n",
    "    #THs = [0, 0.05, 0.10, 0.15, 0.2, 0.25, 0.30, 0.35, 0.4, 0.45, 0.5, 0.55, 0.60, 0.65, 0.70, 0.75]  # SPEN THs\n",
    "    THs = [0, 0.05, 0.1, 0.15, 0.2, 0.25, 0.3, 0.35, 0.4, 0.45, 0.5, 0.55, 0.6, 0.65, 0.7, 0.75, 0.8, 0.85]\n",
    "    F1 = Parallel(n_jobs=-1)(delayed(f1_score_nowarn)(Y_true, Y_pred >= th, average='samples') for th in THs)\n",
    "    bestix = np.argmax(F1)\n",
    "    print('best threshold: %g, best F1: %g, #examples: %g' % (THs[bestix], F1[bestix], Y_true.shape[0]))\n",
    "    return F1[bestix]"
   ]
  },
  {
   "cell_type": "code",
   "execution_count": null,
   "metadata": {},
   "outputs": [],
   "source": [
    "def avgF1_0(Y_true, Y_pred):\n",
    "    F1 = f1_score_nowarn(Y_true, Y_pred >= 0, average='samples')\n",
    "    print('F1: %g, #examples: %g' % (F1, Y_true.shape[0]))\n",
    "    return F1"
   ]
  },
  {
   "cell_type": "code",
   "execution_count": null,
   "metadata": {},
   "outputs": [],
   "source": [
    "clf = MLC_pnorm(C=1000, p=8, weighting=True)\n",
    "clf.fit(X_train, Y_train)\n",
    "print(avgF1(Y_train, clf.decision_function(X_train)))\n",
    "print(avgF1(Y_test, clf.decision_function(X_test)))"
   ]
  },
  {
   "cell_type": "code",
   "execution_count": null,
   "metadata": {
    "scrolled": true
   },
   "outputs": [],
   "source": [
    "C_set = [0.01, 0.1, 1, 10, 100, 1000]  # bibtex, bookmarks level 1\n",
    "p_set = [1, 2, 3, 4, 5, 6]\n",
    "parameters = [{'C': C_set, 'p': p_set, 'weighting': [True]}]\n",
    "#scorer = {'Prec': make_scorer(avgPrecisionK)}\n",
    "scorer = {'F1': make_scorer(avgF1)}"
   ]
  },
  {
   "cell_type": "code",
   "execution_count": null,
   "metadata": {
    "scrolled": true
   },
   "outputs": [],
   "source": [
    "clf = GridSearchCV(MLC_pnorm(), parameters, scoring=scorer, cv=5, n_jobs=1, refit='F1')\n",
    "clf.fit(X_train, Y_train)\n",
    "#pkl.dump(clf, open(fmodel_f1, 'wb'))"
   ]
  },
  {
   "cell_type": "code",
   "execution_count": null,
   "metadata": {},
   "outputs": [],
   "source": [
    "clf.cv_results_['mean_test_F1'].reshape(len(C_set), len(p_set))"
   ]
  },
  {
   "cell_type": "code",
   "execution_count": null,
   "metadata": {},
   "outputs": [],
   "source": [
    "clf.best_params_"
   ]
  },
  {
   "cell_type": "code",
   "execution_count": null,
   "metadata": {},
   "outputs": [],
   "source": [
    "C_set = [3000, 6000] # bookmarks level 2\n",
    "p_set = [2, 3, 4, 5, 6]\n",
    "parameters = [{'C': C_set, 'p': p_set, 'weighting': [True]}]"
   ]
  },
  {
   "cell_type": "code",
   "execution_count": null,
   "metadata": {
    "scrolled": true
   },
   "outputs": [],
   "source": [
    "clf2 = GridSearchCV(MLC_pnorm(), parameters, scoring=scorer, cv=5, n_jobs=1, refit='F1')\n",
    "clf2.fit(X_train, Y_train)\n",
    "#pkl.dump(clf, open(fmodel_f1, 'wb'))"
   ]
  },
  {
   "cell_type": "code",
   "execution_count": null,
   "metadata": {},
   "outputs": [],
   "source": [
    "clf2.cv_results_['mean_test_F1'].reshape(len(C_set), len(p_set))"
   ]
  },
  {
   "cell_type": "code",
   "execution_count": null,
   "metadata": {},
   "outputs": [],
   "source": [
    "#C_set = [1500, 2000, 2500] # bookmarks level 2\n",
    "C_set = [1100, 1200, 1300, 1400]\n",
    "p_set = [4, 5, 6, 7, 8]\n",
    "parameters = [{'C': C_set, 'p': p_set, 'weighting': [True]}]"
   ]
  },
  {
   "cell_type": "code",
   "execution_count": null,
   "metadata": {
    "scrolled": true
   },
   "outputs": [],
   "source": [
    "clf3 = GridSearchCV(MLC_pnorm(), parameters, scoring=scorer, cv=5, n_jobs=1, refit='F1')\n",
    "clf3.fit(X_train, Y_train)\n",
    "#pkl.dump(clf, open(fmodel_f1, 'wb'))"
   ]
  },
  {
   "cell_type": "code",
   "execution_count": null,
   "metadata": {},
   "outputs": [],
   "source": [
    "clf3.cv_results_['mean_test_F1'].reshape(len(C_set), len(p_set))"
   ]
  },
  {
   "cell_type": "code",
   "execution_count": null,
   "metadata": {},
   "outputs": [],
   "source": [
    "clf3.best_params_"
   ]
  },
  {
   "cell_type": "code",
   "execution_count": null,
   "metadata": {},
   "outputs": [],
   "source": [
    "print(avgF1(Y_train, clf3.decision_function(X_train)))\n",
    "print(avgF1(Y_test, clf3.decision_function(X_test)))"
   ]
  },
  {
   "cell_type": "code",
   "execution_count": null,
   "metadata": {},
   "outputs": [],
   "source": [
    "pkl.dump(clf2, open(fmodel_f1, 'wb'))"
   ]
  },
  {
   "cell_type": "code",
   "execution_count": null,
   "metadata": {},
   "outputs": [],
   "source": [
    "print('Train (' + dataset_name + '):', avgF1(Y_train, clf.decision_function(X_train))); print()\n",
    "print('Test (' + dataset_name + '):', avgF1(Y_test, clf.decision_function(X_test)))"
   ]
  },
  {
   "cell_type": "code",
   "execution_count": null,
   "metadata": {},
   "outputs": [],
   "source": [
    "# use the testing threshold of the best hyper-params in cross validation above\n",
    "# it is 0.8 for both bibtex and bookmarks dataset\n",
    "threshold = 0.7\n",
    "print('average F1:', f1_score_nowarn(Y_test, clf2.decision_function(X_test) >= threshold, average='samples'))"
   ]
  },
  {
   "cell_type": "markdown",
   "metadata": {},
   "source": [
    "## Results"
   ]
  },
  {
   "cell_type": "code",
   "execution_count": null,
   "metadata": {},
   "outputs": [],
   "source": [
    "#ysum = Y_train.sum(axis=1)"
   ]
  },
  {
   "cell_type": "code",
   "execution_count": null,
   "metadata": {},
   "outputs": [],
   "source": [
    "#ax = plt.subplot('111')\n",
    "#ax.hist(ysum, bins=20)\n",
    "#ax.set_yscale('log')"
   ]
  },
  {
   "cell_type": "code",
   "execution_count": null,
   "metadata": {},
   "outputs": [],
   "source": [
    "def calcF1(Y_true, Y_pred):\n",
    "    \"\"\"\n",
    "    Compute F1 scores for multilabel prediction, one score for each example.\n",
    "    precision = true_positive / n_true\n",
    "    recall = true_positive / n_positive\n",
    "    f1 = (2 * precision * recall) / (precision + recall) = 2 * true_positive / (n_true + n_positive)\n",
    "    \"\"\"\n",
    "    assert Y_true.shape == Y_pred.shape\n",
    "    N, K = Y_true.shape\n",
    "    OneK = np.ones(K)\n",
    "    \n",
    "    n_true = np.dot(Y_true, OneK)\n",
    "    n_positive = np.dot(Y_pred, OneK)\n",
    "    true_positive = np.dot(np.multiply(Y_true, Y_pred), OneK)\n",
    "    \n",
    "    numerator = 2 * true_positive\n",
    "    denominator = n_true + n_positive\n",
    "    nonzero_ix = np.nonzero(denominator)[0]\n",
    "    \n",
    "    f1 = np.zeros(N)\n",
    "    f1[nonzero_ix] = np.divide(numerator[nonzero_ix], denominator[nonzero_ix])\n",
    "    \n",
    "    return f1"
   ]
  },
  {
   "cell_type": "code",
   "execution_count": null,
   "metadata": {},
   "outputs": [],
   "source": [
    "f1_score_nowarn(Y_train, clf.decision_function(X_train) > 0.9, average='samples')"
   ]
  },
  {
   "cell_type": "code",
   "execution_count": null,
   "metadata": {},
   "outputs": [],
   "source": [
    "np.mean(calcF1(Y_train, clf.decision_function(X_train) > 0.9))"
   ]
  }
 ],
 "metadata": {
  "kernelspec": {
   "display_name": "Python 3",
   "language": "python",
   "name": "python3"
  },
  "language_info": {
   "codemirror_mode": {
    "name": "ipython",
    "version": 3
   },
   "file_extension": ".py",
   "mimetype": "text/x-python",
   "name": "python",
   "nbconvert_exporter": "python",
   "pygments_lexer": "ipython3",
   "version": "3.6.4"
  }
 },
 "nbformat": 4,
 "nbformat_minor": 2
}
