{
 "cells": [
  {
   "cell_type": "markdown",
   "metadata": {},
   "source": [
    "# An example of generating playlist by multilable learning w. audio features"
   ]
  },
  {
   "cell_type": "code",
   "execution_count": 1,
   "metadata": {},
   "outputs": [],
   "source": [
    "%matplotlib inline\n",
    "\n",
    "import os, sys, time\n",
    "import pickle as pkl\n",
    "import numpy as np\n",
    "import pandas as pd\n",
    "import sklearn as sk\n",
    "from sklearn.preprocessing import StandardScaler\n",
    "from sklearn.linear_model import LogisticRegression\n",
    "\n",
    "import matplotlib.pyplot as plt\n",
    "import seaborn as sns"
   ]
  },
  {
   "cell_type": "code",
   "execution_count": 2,
   "metadata": {},
   "outputs": [],
   "source": [
    "sys.path.append('src')\n",
    "import hdf5_getters as h5getters"
   ]
  },
  {
   "cell_type": "code",
   "execution_count": 3,
   "metadata": {},
   "outputs": [],
   "source": [
    "data_dir = 'data'\n",
    "faotm = os.path.join(data_dir, 'aotm-2011/aotm-2011-subset.pkl')\n",
    "fmap  = os.path.join(data_dir, 'aotm-2011/songID2TrackID.pkl')\n",
    "ffeatures = os.path.join(data_dir, 'aotm-2011/songID2Features.pkl')\n",
    "msd_h5dir = os.path.join(data_dir, 'msd/files')"
   ]
  },
  {
   "cell_type": "markdown",
   "metadata": {},
   "source": [
    "## Data loading"
   ]
  },
  {
   "cell_type": "markdown",
   "metadata": {},
   "source": [
    "Load playlists."
   ]
  },
  {
   "cell_type": "code",
   "execution_count": 4,
   "metadata": {},
   "outputs": [],
   "source": [
    "playlists_aotm = pkl.load(open(faotm, 'rb'))"
   ]
  },
  {
   "cell_type": "code",
   "execution_count": 5,
   "metadata": {},
   "outputs": [
    {
     "name": "stdout",
     "output_type": "stream",
     "text": [
      "#Playlists: 95298\n"
     ]
    }
   ],
   "source": [
    "print('#Playlists: %d' % len(playlists_aotm))"
   ]
  },
  {
   "cell_type": "code",
   "execution_count": 6,
   "metadata": {},
   "outputs": [
    {
     "data": {
      "text/plain": [
       "['SOFDPDC12A58A7D198',\n",
       " 'SOPIEQP12A8C13F268',\n",
       " 'SOKMCJK12A6D4F6105',\n",
       " 'SOGTGJR12A6310E08D',\n",
       " 'SOLTBYJ12A6310F2BB',\n",
       " 'SOBOXXN12A6D4FA1A2',\n",
       " 'SOUQUFO12B0B80778E']"
      ]
     },
     "execution_count": 6,
     "metadata": {},
     "output_type": "execute_result"
    }
   ],
   "source": [
    "playlists_aotm[0]"
   ]
  },
  {
   "cell_type": "code",
   "execution_count": 7,
   "metadata": {},
   "outputs": [],
   "source": [
    "song_set = sorted({songID for p in playlists_aotm for songID in p})"
   ]
  },
  {
   "cell_type": "code",
   "execution_count": 8,
   "metadata": {},
   "outputs": [
    {
     "name": "stdout",
     "output_type": "stream",
     "text": [
      "#Songs: 119466\n"
     ]
    }
   ],
   "source": [
    "print('#Songs: %d' % len(song_set))"
   ]
  },
  {
   "cell_type": "code",
   "execution_count": 9,
   "metadata": {},
   "outputs": [
    {
     "name": "stdout",
     "output_type": "stream",
     "text": [
      "Average playlist length: 9.4\n"
     ]
    }
   ],
   "source": [
    "lengths = [len(p) for p in playlists_aotm]\n",
    "#plt.hist(lengths, bins=20)\n",
    "print('Average playlist length: %.1f' % np.mean(lengths))"
   ]
  },
  {
   "cell_type": "markdown",
   "metadata": {},
   "source": [
    "`Song_id --> Song_name` mapping."
   ]
  },
  {
   "cell_type": "code",
   "execution_count": 10,
   "metadata": {},
   "outputs": [],
   "source": [
    "#songID2Name = {s[1]: s[0] for p in playlists_aotm for s in p['playlist']}"
   ]
  },
  {
   "cell_type": "markdown",
   "metadata": {},
   "source": [
    "Load `song_id` --> `track_id` mapping: a song may correspond to multiple tracks."
   ]
  },
  {
   "cell_type": "code",
   "execution_count": 11,
   "metadata": {},
   "outputs": [],
   "source": [
    "song2TrackID = pkl.load(open(fmap, 'rb'))"
   ]
  },
  {
   "cell_type": "code",
   "execution_count": 12,
   "metadata": {},
   "outputs": [
    {
     "data": {
      "text/plain": [
       "119466"
      ]
     },
     "execution_count": 12,
     "metadata": {},
     "output_type": "execute_result"
    }
   ],
   "source": [
    "len(song2TrackID)"
   ]
  },
  {
   "cell_type": "code",
   "execution_count": 13,
   "metadata": {},
   "outputs": [
    {
     "data": {
      "text/plain": [
       "{'SOAAAFI12A6D4F9C66': ['TRZEXLQ128F1491D17'],\n",
       " 'SOAAAMT12AB018C9C4': ['TRYIOYF12903CD4E73'],\n",
       " 'SOAAASR12AB018A516': ['TRRTOHC12903CDD2EA'],\n",
       " 'SOAABHX12AAF3B40E7': ['TRZARKN128F92DE096'],\n",
       " 'SOAABLG12A6D4F73D2': ['TRFUCDA128F1455C96'],\n",
       " 'SOAABMP12A6D4F7633': ['TRQVPBD128F1458060'],\n",
       " 'SOAABMR12A6D4F70E4': ['TRVMASA128F149BB53'],\n",
       " 'SOAABQL12A67020E76': ['TRJOVXI128E0791CFA'],\n",
       " 'SOAABRB12A58A792A3': ['TRZGOQN128F935F425'],\n",
       " 'SOAACBE12A6D4F7A54': ['TRHRWOM128F1466747']}"
      ]
     },
     "execution_count": 13,
     "metadata": {},
     "output_type": "execute_result"
    }
   ],
   "source": [
    "{ k : song2TrackID[k] for k in list(song2TrackID.keys())[:10] }"
   ]
  },
  {
   "cell_type": "markdown",
   "metadata": {},
   "source": [
    "## Load audio features"
   ]
  },
  {
   "cell_type": "markdown",
   "metadata": {},
   "source": [
    "Load the audio features given `songID`, if a song has more than one `trackID`, simply use the first available track."
   ]
  },
  {
   "cell_type": "code",
   "execution_count": 14,
   "metadata": {},
   "outputs": [
    {
     "name": "stdout",
     "output_type": "stream",
     "text": [
      "1\n"
     ]
    }
   ],
   "source": [
    "trackID = 'TRQVPBD128F1458060'\n",
    "h5 = h5getters.open_h5_file_read(os.path.join(msd_h5dir, trackID + '.h5'))\n",
    "print(h5getters.get_num_songs(h5))\n",
    "#print(h5getters.get_artist_mbid(h5))\n",
    "#print(h5getters.get_artist_mbtags(h5))  # SS: song specific\n",
    "#print(h5getters.get_artist_mbtags_count(h5)) # SS array\n",
    "#print(h5getters.get_artist_name(h5))\n",
    "#print(h5getters.get_artist_playmeid(h5))\n",
    "#print(h5getters.get_artist_terms(h5).shape) # SS, Y, text\n",
    "#print(h5getters.get_artist_terms_freq(h5).shape) # SS, Y, numerical\n",
    "#print(h5getters.get_artist_terms_weight(h5).shape) # SS, Y, numerical\n",
    "#print(h5getters.get_audio_md5(h5))\n",
    "#print(h5getters.get_bars_confidence(h5).shape) # SS, Y, numerical\n",
    "#print(h5getters.get_bars_start(h5).shape) # SS, Y, numerical\n",
    "#print(h5getters.get_beats_confidence(h5).shape) # SS, Y, numerical\n",
    "#print(h5getters.get_beats_start(h5).shape) # SS, Y, numerical\n",
    "#print(h5getters.get_danceability(h5)) # Y\n",
    "#print(h5getters.get_duration(h5)) # Y, seconds\n",
    "#print(h5getters.get_end_of_fade_in(h5)) # Y, seconds\n",
    "#print(h5getters.get_energy(h5)) # Y\n",
    "#print(h5getters.get_key(h5)) # Y\n",
    "#print(h5getters.get_key_confidence(h5)) # Y\n",
    "#print(h5getters.get_loudness(h5)) # Y\n",
    "#print(h5getters.get_mode(h5)) # Y\n",
    "#print(h5getters.get_mode_confidence(h5)) # Y\n",
    "#print(h5getters.get_release(h5)) # album name\n",
    "#print(h5getters.get_release_7digitalid(h5))\n",
    "#print(h5getters.get_sections_confidence(h5).shape) # SS, Y, numerical\n",
    "#print(h5getters.get_sections_start(h5).shape) # SS, Y, numerical\n",
    "#print(h5getters.get_segments_confidence(h5).shape) # SS, Y, numerical\n",
    "#print(h5getters.get_segments_loudness_max(h5).shape) # SS, Y, numerical\n",
    "#print(h5getters.get_segments_loudness_max_time(h5).shape) # SS, Y, numerical\n",
    "#print(h5getters.get_segments_loudness_start(h5).shape) # SS, Y, numerical\n",
    "#print(h5getters.get_segments_pitches(h5).shape) # SS, Y, numerical, matrix with 12 cols\n",
    "#print(h5getters.get_segments_start(h5).shape) # SS, Y, numerical\n",
    "#print(h5getters.get_segments_timbre(h5).shape) # SS, Y, numerical, matrix with 12 cols\n",
    "#print(h5getters.get_similar_artists(h5).shape) # artist IDs\n",
    "#print(h5getters.get_song_hotttnesss(h5)) # Y\n",
    "#print(h5getters.get_song_id(h5)) # song ID\n",
    "#print(h5getters.get_start_of_fade_out(h5)) # Y, seconds\n",
    "#print(h5getters.get_tatums_confidence(h5).shape) # SS, Y, numerical\n",
    "#print(h5getters.get_tatums_start(h5).shape) # SS, Y, numerical\n",
    "#print(h5getters.get_tempo(h5)) # Y\n",
    "#print(h5getters.get_time_signature(h5)) # Y, usual number of beats per bar\n",
    "#print(h5getters.get_time_signature_confidence(h5)) # Y\n",
    "#print(h5getters.get_title(h5)) # song title\n",
    "#print(h5getters.get_track_7digitalid(h5))\n",
    "#print(h5getters.get_track_id(h5))\n",
    "#print(h5getters.get_year(h5)) # Y, year of release\n",
    "\n",
    "#print('age:', time.gmtime().tm_year - h5getters.get_year(h5))\n",
    "h5.close()"
   ]
  },
  {
   "cell_type": "code",
   "execution_count": 130,
   "metadata": {},
   "outputs": [],
   "source": [
    "def extract_msd_track_features(ftrack):\n",
    "    assert os.path.exists(ftrack)\n",
    "    assert ftrack.endswith('.h5') or ftrack.endswith('.H5')\n",
    "    \n",
    "    features = []    \n",
    "    h5 = h5getters.open_h5_file_read(ftrack)\n",
    "    \n",
    "    #print(h5getters.get_artist_terms(h5).shape) # SS, Y, text, word2vec?\n",
    "    \n",
    "    #artist_terms_freq = h5getters.get_artist_terms_freq(h5) # SS, Y, numerical\n",
    "    #features.append(np.mean(artist_terms_freq))\n",
    "    #features.append(np.var(artist_terms_freq))\n",
    "    #print(artist_terms_freq) # can be empty\n",
    "    \n",
    "    #artist_terms_weight = h5getters.get_artist_terms_weight(h5) # SS, Y, numerical\n",
    "    #features.append(np.mean(artist_terms_weight))\n",
    "    #features.append(np.var(artist_terms_weight))\n",
    "    #print(artist_terms_weight) # can be empty\n",
    "    \n",
    "    bars_confidence = h5getters.get_bars_confidence(h5) # SS, Y, numerical\n",
    "    if len(bars_confidence) == 0:\n",
    "        features = features + [0, 0]\n",
    "    else:\n",
    "        features.append(np.mean(bars_confidence))\n",
    "        features.append(np.var(bars_confidence))\n",
    "    #print(bars_confidence) # can be empty\n",
    "    \n",
    "    bars_start = h5getters.get_bars_start(h5) # SS, Y, numerical\n",
    "    if len(bars_start) == 0:\n",
    "        features = features + [0, 0]\n",
    "    else:\n",
    "        features.append(np.mean(bars_start))\n",
    "        features.append(np.var(bars_start))\n",
    "    #print(bars_start) # can be empty\n",
    "    \n",
    "    beats_confidence = h5getters.get_beats_confidence(h5) # SS, Y, numerical\n",
    "    if len(beats_confidence) == 0:\n",
    "        features = features + [0, 0]\n",
    "    else:\n",
    "        features.append(np.mean(beats_confidence))\n",
    "        features.append(np.var(beats_confidence))\n",
    "    #print(beats_confidence) # can be empty\n",
    "    \n",
    "    beats_start = h5getters.get_beats_start(h5) # SS, Y, numerical\n",
    "    if len(beats_start) == 0:\n",
    "        features = features + [0, 0]\n",
    "    else:\n",
    "        features.append(np.mean(beats_start))\n",
    "        features.append(np.var(beats_start))\n",
    "    #print(beats_start) # can be empty\n",
    "    \n",
    "    danceability = h5getters.get_danceability(h5) # Y\n",
    "    features.append(danceability)\n",
    "    \n",
    "    duration = h5getters.get_duration(h5) # Y, seconds\n",
    "    features.append(duration)\n",
    "    \n",
    "    end_of_fade_in = h5getters.get_end_of_fade_in(h5) # Y, seconds\n",
    "    features.append(end_of_fade_in)\n",
    "    features.append(end_of_fade_in / duration)\n",
    "    \n",
    "    energy = h5getters.get_energy(h5) # Y\n",
    "    features.append(energy)\n",
    "    \n",
    "    key = h5getters.get_key(h5) # Y\n",
    "    features.append(key)\n",
    "    \n",
    "    key_confidence = h5getters.get_key_confidence(h5) # Y\n",
    "    features.append(key_confidence)\n",
    "    \n",
    "    loudness = h5getters.get_loudness(h5) # Y\n",
    "    features.append(loudness)\n",
    "    \n",
    "    mode = h5getters.get_mode(h5) # Y\n",
    "    features.append(mode)\n",
    "    \n",
    "    mode_confidence = h5getters.get_mode_confidence(h5) # Y\n",
    "    features.append(mode_confidence)\n",
    "    \n",
    "    sections_confidence = h5getters.get_sections_confidence(h5) # SS, Y, numerical\n",
    "    if len(sections_confidence) == 0:\n",
    "        features = features + [0, 0]\n",
    "    else:\n",
    "        features.append(np.mean(sections_confidence))\n",
    "        features.append(np.var(sections_confidence))\n",
    "    #print(sections_confidence) # can be empty\n",
    "    \n",
    "    sections_start = h5getters.get_sections_start(h5) # SS, Y, numerical\n",
    "    if len(sections_start) == 0:\n",
    "        features = features + [0, 0]\n",
    "    else:\n",
    "        features.append(np.mean(sections_start))\n",
    "        features.append(np.var(sections_start))\n",
    "    #print(sections_start) # can be empty\n",
    "    \n",
    "    segments_confidence = h5getters.get_segments_confidence(h5) # SS, Y, numerical\n",
    "    features.append(np.mean(segments_confidence))\n",
    "    features.append(np.var(segments_confidence))\n",
    "    #print(segments_confidence)\n",
    "    \n",
    "    segments_loudness_max = h5getters.get_segments_loudness_max(h5) # SS, Y, numerical\n",
    "    features.append(np.mean(segments_loudness_max))\n",
    "    features.append(np.var(segments_loudness_max))\n",
    "    #print(segments_loudness_max)\n",
    "    \n",
    "    segments_loudness_max_time = h5getters.get_segments_loudness_max_time(h5) # SS, Y, numerical\n",
    "    features.append(np.mean(segments_loudness_max_time))\n",
    "    features.append(np.var(segments_loudness_max_time))\n",
    "    #print(segments_loudness_max_time)\n",
    "    \n",
    "    segments_loudness_start = h5getters.get_segments_loudness_start(h5) # SS, Y, numerical\n",
    "    features.append(np.mean(segments_loudness_start))\n",
    "    features.append(np.var(segments_loudness_start))\n",
    "    #print(segments_loudness_start)\n",
    "    \n",
    "    segments_pitches = h5getters.get_segments_pitches(h5) # SS, Y, numerical, matrix with 12 cols\n",
    "    features = features + np.mean(segments_pitches, axis=0).tolist()\n",
    "    features = features + np.var(segments_pitches, axis=0).tolist()\n",
    "    #print(segments_pitches)\n",
    "    \n",
    "    segments_start = h5getters.get_segments_start(h5) # SS, Y, numerical\n",
    "    features.append(np.mean(segments_start))\n",
    "    features.append(np.var(segments_start))\n",
    "    #print(segments_start)\n",
    "    \n",
    "    segments_timbre = h5getters.get_segments_timbre(h5) # SS, Y, numerical, matrix with 12 cols\n",
    "    features = features + np.mean(segments_timbre, axis=0).tolist()\n",
    "    features = features + np.var(segments_timbre, axis=0).tolist()\n",
    "    #print(segments_timbre)\n",
    "    \n",
    "    song_hotttnesss = h5getters.get_song_hotttnesss(h5) # Y\n",
    "    features.append(song_hotttnesss)\n",
    "    #print(song_hotttnesss) # can be NaN\n",
    "    \n",
    "    start_of_fade_out = h5getters.get_start_of_fade_out(h5) # Y, seconds\n",
    "    features.append(start_of_fade_out)\n",
    "    features.append(start_of_fade_out / duration)\n",
    "    \n",
    "    tatums_confidence = h5getters.get_tatums_confidence(h5) # SS, Y, numerical\n",
    "    if len(tatums_confidence) == 0:\n",
    "        features = features + [0, 0]\n",
    "    else:\n",
    "        features.append(np.mean(tatums_confidence))\n",
    "        features.append(np.var(tatums_confidence))\n",
    "    #print(tatums_confidence) # can be empty\n",
    "    \n",
    "    tatums_start = h5getters.get_tatums_start(h5) # SS, Y, numerical\n",
    "    if len(tatums_start) == 0:\n",
    "        features = features + [0, 0]\n",
    "    else:\n",
    "        features.append(np.mean(tatums_start))\n",
    "        features.append(np.var(tatums_start))\n",
    "    #print(tatums_start) # can be empty\n",
    "    \n",
    "    tempo = h5getters.get_tempo(h5) # Y\n",
    "    features.append(tempo)\n",
    "    \n",
    "    time_signature = h5getters.get_time_signature(h5) # Y, usual number of beats per bar\n",
    "    features.append(time_signature)\n",
    "    \n",
    "    time_signature_confidence = h5getters.get_time_signature_confidence(h5) # Y\n",
    "    features.append(time_signature_confidence)\n",
    "    \n",
    "    year_of_release = h5getters.get_year(h5) # Y, year of release\n",
    "    age = time.gmtime().tm_year - year_of_release\n",
    "    features.append(age)\n",
    "    \n",
    "    h5.close()\n",
    "    \n",
    "    return np.nan_to_num(np.asarray(features), copy=False)"
   ]
  },
  {
   "cell_type": "code",
   "execution_count": 60,
   "metadata": {},
   "outputs": [
    {
     "data": {
      "text/plain": [
       "(91,)"
      ]
     },
     "execution_count": 60,
     "metadata": {},
     "output_type": "execute_result"
    }
   ],
   "source": [
    "#trackID = 'TRQVPBD128F1458060'\n",
    "#trackID = 'TRZARKN128F92DE096'\n",
    "trackID = 'TRZEXLQ128F1491D17'\n",
    "extract_msd_track_features(os.path.join(msd_h5dir, trackID + '.h5')).shape"
   ]
  },
  {
   "cell_type": "code",
   "execution_count": 61,
   "metadata": {},
   "outputs": [],
   "source": [
    "def gen_aotm2011_song_features(songID, msd_h5dir = msd_h5dir, song2TrackID = song2TrackID):\n",
    "    assert(songID in song2TrackID)\n",
    "    trackIDs = song2TrackID[songID]\n",
    "    for trackID in trackIDs:\n",
    "        h5f = os.path.join(msd_h5dir, trackID + '.h5')\n",
    "        if os.path.exists(h5f):\n",
    "            return extract_msd_track_features(h5f)\n",
    "        else:\n",
    "            continue\n",
    "        \n",
    "    # no track available\n",
    "    return None"
   ]
  },
  {
   "cell_type": "code",
   "execution_count": 135,
   "metadata": {},
   "outputs": [
    {
     "data": {
      "text/plain": [
       "array([  1.48666667e-01,   1.74568889e-02,   2.21179167e+00,\n",
       "         1.95335714e+00,   5.40800000e-01,   4.32625600e-02,\n",
       "         2.75852750e+00,   2.48118284e+00,   0.00000000e+00,\n",
       "         5.77261000e+00,   0.00000000e+00,   0.00000000e+00,\n",
       "         0.00000000e+00,   6.00000000e+00,   4.35000000e-01,\n",
       "        -1.02700000e+01,   0.00000000e+00,   4.80000000e-01,\n",
       "         0.00000000e+00,   0.00000000e+00,   0.00000000e+00,\n",
       "         0.00000000e+00,   5.32551724e-01,   1.12608040e-01,\n",
       "        -1.13642414e+01,   2.65759901e+00,   4.72613793e-02,\n",
       "         8.62155108e-04,  -2.09690345e+01,   1.07815580e+02,\n",
       "         6.47344828e-01,   7.44103448e-01,   4.66517241e-01,\n",
       "         4.76551724e-01,   6.35827586e-01,   5.37758621e-01,\n",
       "         6.06379310e-01,   6.02137931e-01,   5.65103448e-01,\n",
       "         5.75034483e-01,   4.95862069e-01,   2.78551724e-01,\n",
       "         7.98858121e-02,   8.14030583e-02,   4.17908704e-02,\n",
       "         4.37474887e-02,   4.24103496e-02,   4.94388038e-02,\n",
       "         1.00368580e-01,   9.70535672e-02,   7.25731962e-02,\n",
       "         7.05847919e-02,   5.08106706e-02,   6.24087990e-02,\n",
       "         3.20835655e+00,   2.53232416e+00,   4.48752069e+01,\n",
       "         5.09686897e+01,   1.56465517e+01,  -6.89282759e+00,\n",
       "         1.72766552e+01,   4.73672414e+00,   5.49524138e+00,\n",
       "         1.81485172e+01,  -1.67834483e+00,   8.64727586e+00,\n",
       "         1.73906897e+00,   1.10096897e+01,   9.00255789e+00,\n",
       "         1.59686192e+03,   1.81262947e+03,   1.35312861e+03,\n",
       "         8.71761400e+02,   4.36871331e+03,   4.36752698e+02,\n",
       "         5.32719893e+02,   3.33626097e+02,   5.65224644e+02,\n",
       "         8.42308793e+02,   1.63484671e+02,   0.00000000e+00,\n",
       "         5.77300000e+00,   1.00006756e+00,   3.59512195e-01,\n",
       "         1.24995717e-03,   2.75872122e+00,   2.61185188e+00,\n",
       "         2.20099000e+02,   3.00000000e+00,   1.00000000e+00,\n",
       "         2.20000000e+01])"
      ]
     },
     "execution_count": 135,
     "metadata": {},
     "output_type": "execute_result"
    }
   ],
   "source": [
    "#songID = 'SOFDPDC12A58A7D198'\n",
    "#songID = 'SOKMCJK12A6D4F6105'\n",
    "#songID = 'SOGTGJR12A6310E08D'\n",
    "#songID = song_set[139]\n",
    "#songID = song_set[443]\n",
    "songID = song_set[518]\n",
    "gen_aotm2011_song_features(songID)"
   ]
  },
  {
   "cell_type": "code",
   "execution_count": 132,
   "metadata": {
    "scrolled": true
   },
   "outputs": [
    {
     "name": "stdout",
     "output_type": "stream",
     "text": [
      "119460 / 119466"
     ]
    }
   ],
   "source": [
    "#ffeatures = os.path.join(data_dir, 'features.pkl')\n",
    "song2Feature = dict()\n",
    "cnt = 0\n",
    "for songID in song_set:\n",
    "    cnt += 1\n",
    "    if cnt % 10 == 0:\n",
    "        sys.stdout.write('\\r%d / %d' % (cnt, len(song_set)))\n",
    "        sys.stdout.flush()\n",
    "    #print(songID)\n",
    "    \n",
    "    features = gen_aotm2011_song_features(songID)\n",
    "    assert(features is not None)\n",
    "    song2Feature[songID] = features"
   ]
  },
  {
   "cell_type": "code",
   "execution_count": 133,
   "metadata": {},
   "outputs": [
    {
     "data": {
      "text/plain": [
       "119466"
      ]
     },
     "execution_count": 133,
     "metadata": {},
     "output_type": "execute_result"
    }
   ],
   "source": [
    "len(song2Feature)"
   ]
  },
  {
   "cell_type": "code",
   "execution_count": 134,
   "metadata": {},
   "outputs": [],
   "source": [
    "pkl.dump(song2Feature, open(ffeatures, 'wb'))"
   ]
  }
 ],
 "metadata": {
  "kernelspec": {
   "display_name": "Python 3",
   "language": "python",
   "name": "python3"
  },
  "language_info": {
   "codemirror_mode": {
    "name": "ipython",
    "version": 3
   },
   "file_extension": ".py",
   "mimetype": "text/x-python",
   "name": "python",
   "nbconvert_exporter": "python",
   "pygments_lexer": "ipython3",
   "version": "3.6.3"
  }
 },
 "nbformat": 4,
 "nbformat_minor": 2
}
