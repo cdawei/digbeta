{
 "cells": [
  {
   "cell_type": "markdown",
   "metadata": {},
   "source": [
    "# An example of generating playlist by multilable learning w. audio features"
   ]
  },
  {
   "cell_type": "code",
   "execution_count": 1,
   "metadata": {},
   "outputs": [],
   "source": [
    "%matplotlib inline\n",
    "\n",
    "import os, sys, time\n",
    "import pickle as pkl\n",
    "import numpy as np\n",
    "import pandas as pd\n",
    "import sklearn as sk\n",
    "from sklearn.preprocessing import StandardScaler\n",
    "from sklearn.linear_model import LogisticRegression\n",
    "\n",
    "import matplotlib.pyplot as plt\n",
    "import seaborn as sns"
   ]
  },
  {
   "cell_type": "code",
   "execution_count": 67,
   "metadata": {},
   "outputs": [
    {
     "data": {
      "text/plain": [
       "2017"
      ]
     },
     "execution_count": 67,
     "metadata": {},
     "output_type": "execute_result"
    }
   ],
   "source": [
    "time.gmtime().tm_year"
   ]
  },
  {
   "cell_type": "code",
   "execution_count": 3,
   "metadata": {},
   "outputs": [],
   "source": [
    "sys.path.append('src')\n",
    "import hdf5_getters as h5getters"
   ]
  },
  {
   "cell_type": "code",
   "execution_count": 18,
   "metadata": {},
   "outputs": [],
   "source": [
    "data_dir = 'data'\n",
    "faotm = os.path.join(data_dir, 'aotm-2011/aotm-2011-subset.pkl')\n",
    "fmap  = os.path.join(data_dir, 'aotm-2011/songID2TrackID.pkl')\n",
    "msd_h5dir = os.path.join(data_dir, 'msd/files')"
   ]
  },
  {
   "cell_type": "markdown",
   "metadata": {},
   "source": [
    "## Data loading"
   ]
  },
  {
   "cell_type": "markdown",
   "metadata": {},
   "source": [
    "Load playlists."
   ]
  },
  {
   "cell_type": "code",
   "execution_count": 19,
   "metadata": {},
   "outputs": [],
   "source": [
    "playlists_aotm = pkl.load(open(faotm, 'rb'))"
   ]
  },
  {
   "cell_type": "code",
   "execution_count": 20,
   "metadata": {},
   "outputs": [
    {
     "name": "stdout",
     "output_type": "stream",
     "text": [
      "#Playlists: 95298\n"
     ]
    }
   ],
   "source": [
    "print('#Playlists: %d' % len(playlists_aotm))"
   ]
  },
  {
   "cell_type": "code",
   "execution_count": 21,
   "metadata": {},
   "outputs": [
    {
     "data": {
      "text/plain": [
       "['SOFDPDC12A58A7D198',\n",
       " 'SOPIEQP12A8C13F268',\n",
       " 'SOKMCJK12A6D4F6105',\n",
       " 'SOGTGJR12A6310E08D',\n",
       " 'SOLTBYJ12A6310F2BB',\n",
       " 'SOBOXXN12A6D4FA1A2',\n",
       " 'SOUQUFO12B0B80778E']"
      ]
     },
     "execution_count": 21,
     "metadata": {},
     "output_type": "execute_result"
    }
   ],
   "source": [
    "playlists_aotm[0]"
   ]
  },
  {
   "cell_type": "code",
   "execution_count": 22,
   "metadata": {},
   "outputs": [],
   "source": [
    "song_set = sorted({songID for p in playlists_aotm for songID in p})"
   ]
  },
  {
   "cell_type": "code",
   "execution_count": 23,
   "metadata": {},
   "outputs": [
    {
     "name": "stdout",
     "output_type": "stream",
     "text": [
      "#Songs: 119466\n"
     ]
    }
   ],
   "source": [
    "print('#Songs: %d' % len(song_set))"
   ]
  },
  {
   "cell_type": "code",
   "execution_count": 24,
   "metadata": {},
   "outputs": [
    {
     "name": "stdout",
     "output_type": "stream",
     "text": [
      "Average playlist length: 9.4\n"
     ]
    }
   ],
   "source": [
    "lengths = [len(p) for p in playlists_aotm]\n",
    "#plt.hist(lengths, bins=20)\n",
    "print('Average playlist length: %.1f' % np.mean(lengths))"
   ]
  },
  {
   "cell_type": "markdown",
   "metadata": {},
   "source": [
    "`Song_id --> Song_name` mapping."
   ]
  },
  {
   "cell_type": "code",
   "execution_count": 25,
   "metadata": {},
   "outputs": [],
   "source": [
    "#songID2Name = {s[1]: s[0] for p in playlists_aotm for s in p['playlist']}"
   ]
  },
  {
   "cell_type": "markdown",
   "metadata": {},
   "source": [
    "Load `song_id` --> `track_id` mapping: a song may correspond to multiple tracks."
   ]
  },
  {
   "cell_type": "code",
   "execution_count": 26,
   "metadata": {},
   "outputs": [],
   "source": [
    "song2TrackID = pkl.load(open(fmap, 'rb'))"
   ]
  },
  {
   "cell_type": "code",
   "execution_count": 28,
   "metadata": {},
   "outputs": [
    {
     "data": {
      "text/plain": [
       "119466"
      ]
     },
     "execution_count": 28,
     "metadata": {},
     "output_type": "execute_result"
    }
   ],
   "source": [
    "len(song2TrackID)"
   ]
  },
  {
   "cell_type": "code",
   "execution_count": 27,
   "metadata": {},
   "outputs": [
    {
     "data": {
      "text/plain": [
       "{'SOAAAFI12A6D4F9C66': ['TRZEXLQ128F1491D17'],\n",
       " 'SOAAAMT12AB018C9C4': ['TRYIOYF12903CD4E73'],\n",
       " 'SOAAASR12AB018A516': ['TRRTOHC12903CDD2EA'],\n",
       " 'SOAABHX12AAF3B40E7': ['TRZARKN128F92DE096'],\n",
       " 'SOAABLG12A6D4F73D2': ['TRFUCDA128F1455C96'],\n",
       " 'SOAABMP12A6D4F7633': ['TRQVPBD128F1458060'],\n",
       " 'SOAABMR12A6D4F70E4': ['TRVMASA128F149BB53'],\n",
       " 'SOAABQL12A67020E76': ['TRJOVXI128E0791CFA'],\n",
       " 'SOAABRB12A58A792A3': ['TRZGOQN128F935F425'],\n",
       " 'SOAACBE12A6D4F7A54': ['TRHRWOM128F1466747']}"
      ]
     },
     "execution_count": 27,
     "metadata": {},
     "output_type": "execute_result"
    }
   ],
   "source": [
    "{ k : song2TrackID[k] for k in list(song2TrackID.keys())[:10] }"
   ]
  },
  {
   "cell_type": "markdown",
   "metadata": {},
   "source": [
    "## Load audio features"
   ]
  },
  {
   "cell_type": "markdown",
   "metadata": {},
   "source": [
    "Load the audio features given `songID`, if a song has more than one `trackID`, simply use the first available track."
   ]
  },
  {
   "cell_type": "code",
   "execution_count": 13,
   "metadata": {
    "collapsed": true
   },
   "outputs": [],
   "source": [
    "def load_features(songID, msd_h5dir = msd_h5dir, song2TrackID = song2TrackID):\n",
    "    assert(songID in song2TrackID)\n",
    "    trackIDs = song2TrackID[songID]\n",
    "    for trackID in trackIDs:\n",
    "        h5f = os.path.join(msd_h5dir, trackID + '.h5')\n",
    "        if os.path.exists(h5f): \n",
    "            h5 = h5getters.open_h5_file_read(h5f)\n",
    "            \n",
    "            segpits = h5getters.get_segments_pitches(h5)\n",
    "            segtimbs = h5getters.get_segments_timbre(h5)\n",
    "            assert(segpits.shape == segtimbs.shape)\n",
    "\n",
    "            # possibly different first dimension for different tracks, simply take the mean\n",
    "            m = segpits.shape[1]\n",
    "            features = np.sum(segpits, axis = 0) / m + np.sum(segtimbs, axis = 0) / m \n",
    "\n",
    "            h5.close()\n",
    "            return features\n",
    "        \n",
    "    # no track available\n",
    "    return None"
   ]
  },
  {
   "cell_type": "code",
   "execution_count": 199,
   "metadata": {},
   "outputs": [
    {
     "name": "stdout",
     "output_type": "stream",
     "text": [
      "1\n",
      "1954\n",
      "age: 63\n"
     ]
    }
   ],
   "source": [
    "trackID = 'TRQVPBD128F1458060'\n",
    "h5 = h5getters.open_h5_file_read(os.path.join(msd_h5dir, trackID + '.h5'))\n",
    "print(h5getters.get_num_songs(h5))\n",
    "#print(h5getters.get_artist_mbid(h5))\n",
    "#print(h5getters.get_artist_mbtags(h5))  # SS: song specific\n",
    "#print(h5getters.get_artist_mbtags_count(h5)) # SS array\n",
    "#print(h5getters.get_artist_name(h5))\n",
    "#print(h5getters.get_artist_playmeid(h5))\n",
    "#print(h5getters.get_artist_terms(h5).shape) # SS, Y, text\n",
    "#print(h5getters.get_artist_terms_freq(h5).shape) # SS, Y, numerical\n",
    "#print(h5getters.get_artist_terms_weight(h5).shape) # SS, Y, numerical\n",
    "#print(h5getters.get_audio_md5(h5))\n",
    "#print(h5getters.get_bars_confidence(h5).shape) # SS, Y, numerical\n",
    "#print(h5getters.get_bars_start(h5).shape) # SS, Y, numerical\n",
    "#print(h5getters.get_beats_confidence(h5).shape) # SS, Y, numerical\n",
    "#print(h5getters.get_beats_start(h5).shape) # SS, Y, numerical\n",
    "#print(h5getters.get_danceability(h5)) # Y\n",
    "#print(h5getters.get_duration(h5)) # Y, seconds\n",
    "#print(h5getters.get_end_of_fade_in(h5)) # Y, seconds\n",
    "#print(h5getters.get_energy(h5)) # Y\n",
    "#print(h5getters.get_key(h5)) # Y\n",
    "#print(h5getters.get_key_confidence(h5)) # Y\n",
    "#print(h5getters.get_loudness(h5)) # Y\n",
    "#print(h5getters.get_mode(h5)) # Y\n",
    "#print(h5getters.get_mode_confidence(h5)) # Y\n",
    "#print(h5getters.get_release(h5)) # album name\n",
    "#print(h5getters.get_release_7digitalid(h5))\n",
    "#print(h5getters.get_sections_confidence(h5)) # SS, Y, numerical\n",
    "#print(h5getters.get_sections_start(h5).shape) # SS, Y, numerical\n",
    "#print(h5getters.get_segments_confidence(h5).shape) # SS, Y, numerical\n",
    "#print(h5getters.get_segments_loudness_max(h5).shape) # SS, Y, numerical\n",
    "#print(h5getters.get_segments_loudness_max_time(h5).shape) # SS, Y, numerical\n",
    "#print(h5getters.get_segments_loudness_start(h5).shape) # SS, Y, numerical\n",
    "#print(h5getters.get_segments_pitches(h5).shape) # SS, Y, numerical, matrix with 12 cols\n",
    "#print(h5getters.get_segments_start(h5).shape) # SS, Y, numerical\n",
    "#print(h5getters.get_segments_timbre(h5).shape) # SS, Y, numerical, matrix with 12 cols\n",
    "#print(h5getters.get_similar_artists(h5).shape) # artist IDs\n",
    "#print(h5getters.get_song_hotttnesss(h5)) # Y\n",
    "#print(h5getters.get_song_id(h5)) # song ID\n",
    "#print(h5getters.get_start_of_fade_out(h5)) # Y, seconds\n",
    "#print(h5getters.get_tatums_confidence(h5).shape) # SS, Y, numerical\n",
    "#print(h5getters.get_tatums_start(h5).shape) # SS, Y, numerical\n",
    "#print(h5getters.get_tempo(h5)) # Y\n",
    "#print(h5getters.get_time_signature(h5)) # Y, usual number of beats per bar\n",
    "#print(h5getters.get_time_signature_confidence(h5)) # Y\n",
    "#print(h5getters.get_title(h5)) # song title\n",
    "#print(h5getters.get_track_7digitalid(h5))\n",
    "#print(h5getters.get_track_id(h5))\n",
    "#print(h5getters.get_year(h5)) # Y, year of release\n",
    "\n",
    "print('age:', time.gmtime().tm_year - h5getters.get_year(h5))\n",
    "h5.close()"
   ]
  },
  {
   "cell_type": "code",
   "execution_count": 14,
   "metadata": {
    "collapsed": true
   },
   "outputs": [],
   "source": [
    "#ffeatures = os.path.join(data_dir, 'features.pkl')\n",
    "song2Feature = dict()\n",
    "for songID in song_set:\n",
    "    features = load_features(songID)\n",
    "    assert(features is not None)\n",
    "    song2Feature[songID] = features"
   ]
  },
  {
   "cell_type": "code",
   "execution_count": 15,
   "metadata": {},
   "outputs": [],
   "source": [
    "#song2Feature"
   ]
  },
  {
   "cell_type": "code",
   "execution_count": 16,
   "metadata": {
    "collapsed": true
   },
   "outputs": [],
   "source": [
    "# save to features to file\n",
    "# load features"
   ]
  },
  {
   "cell_type": "code",
   "execution_count": 17,
   "metadata": {
    "collapsed": true
   },
   "outputs": [],
   "source": [
    "def gen_features(songID, song2Feature = song2Feature):\n",
    "    assert(songID in song2Feature)\n",
    "    return song2Feature[songID]"
   ]
  },
  {
   "cell_type": "code",
   "execution_count": 18,
   "metadata": {
    "collapsed": true
   },
   "outputs": [],
   "source": [
    "def gen_feature_map(song_id, seed):\n",
    "    \"\"\"\n",
    "        Generate feature mapping for a given (label, query) pair\n",
    "    \"\"\"\n",
    "    \n",
    "    #return gen_features(song_id) - gen_features(seed)  # feature map\n",
    "    return gen_features(seed)  # a trivial feature map"
   ]
  },
  {
   "cell_type": "code",
   "execution_count": 19,
   "metadata": {},
   "outputs": [],
   "source": [
    "def gen_training_set(label_ix, playlists = playlists_aotm, song_set = song_set):\n",
    "    \"\"\"\n",
    "        Create the labelled dataset for a given song index\n",
    "        \n",
    "        Input:\n",
    "            - label_ix: song index, number in { 0, ..., # songs }\n",
    "            - playlists: which playlists to create features for\n",
    "            \n",
    "        Output:\n",
    "            - (Feature, Label) pair (X, y), with # num playlists rows\n",
    "              X comprises the features for each seed song and the given song\n",
    "              y comprises the indicator of whether the given song is present in the respective playlist\n",
    "    \"\"\"\n",
    "\n",
    "    assert(label_ix >= 0)\n",
    "    assert(label_ix < len(song_set))\n",
    "    \n",
    "    _feature = gen_feature_map(song_set[0], playlists[0]['filtered_lists'][0][0])\n",
    "\n",
    "    N = len(playlists)\n",
    "    d = _feature.shape[0]\n",
    "\n",
    "    X = np.zeros((N, d), dtype = np.float)\n",
    "    y = np.zeros(N, dtype = np.float)\n",
    "    \n",
    "    whichSong = song_set[label_ix]\n",
    "    \n",
    "    for i in range(len(playlists)):\n",
    "        playlist = playlists[i]['filtered_lists'][0]\n",
    "        seed     = playlist[0]\n",
    "\n",
    "        X[i,:] = gen_feature_map(whichSong, seed)\n",
    "        y[i]   = int(whichSong in playlist)\n",
    "\n",
    "    return X, y"
   ]
  },
  {
   "cell_type": "code",
   "execution_count": 20,
   "metadata": {},
   "outputs": [
    {
     "data": {
      "text/plain": [
       "array([ 1870.8585    ,   417.34866667,  -900.51725   , -1263.148     ,\n",
       "       -1194.73758333,  -669.576     ,  -422.739     ,  -622.09241667,\n",
       "         404.70966667,     8.75233333,     6.93216667,  1148.1455    ])"
      ]
     },
     "execution_count": 20,
     "metadata": {},
     "output_type": "execute_result"
    }
   ],
   "source": [
    "gen_feature_map(song_set[0], playlists_aotm[0]['filtered_lists'][0][0])"
   ]
  },
  {
   "cell_type": "markdown",
   "metadata": {},
   "source": [
    "## Training & Testing"
   ]
  },
  {
   "cell_type": "markdown",
   "metadata": {},
   "source": [
    "Train a logistic regression model for each label."
   ]
  },
  {
   "cell_type": "code",
   "execution_count": 21,
   "metadata": {
    "collapsed": true
   },
   "outputs": [],
   "source": [
    "classifiers = [LogisticRegression(class_weight='balanced') for i in range(len(song_set))]"
   ]
  },
  {
   "cell_type": "code",
   "execution_count": 22,
   "metadata": {
    "scrolled": true
   },
   "outputs": [
    {
     "name": "stdout",
     "output_type": "stream",
     "text": [
      "1718 / 1718"
     ]
    }
   ],
   "source": [
    "allPreds  = [ ]\n",
    "allTruths = [ ]\n",
    "coefMat = [ ]\n",
    "labelIndices = [ ]\n",
    "\n",
    "#sample_ix = np.random.choice(np.arange(len(playlists_aotm)), 100)\n",
    "#playlists = [playlists_aotm[ix] for ix in sample_ix]\n",
    "playlists = playlists_aotm\n",
    "\n",
    "Y = np.NAN * np.ones((len(playlists), len(song_set)))\n",
    "\n",
    "for label_ix in range(len(song_set)):\n",
    "    sys.stdout.write('\\r%d / %d' % (label_ix+1, len(song_set)))\n",
    "    sys.stdout.flush()    \n",
    "    \n",
    "    X, y = gen_training_set(label_ix, playlists=playlists)\n",
    "    Y[:, label_ix] = y\n",
    "    scaler = StandardScaler(copy=False)\n",
    "    X = scaler.fit_transform(X)    \n",
    "    \n",
    "    # by fixing random seed, the same playlists will be in the test set each time\n",
    "    X_train, X_test, y_train, y_test = sk.model_selection.train_test_split(X, y, \\\n",
    "                                                                           test_size = 0.33, \\\n",
    "                                                                           random_state = 31)    \n",
    "    \n",
    "    if np.max(y_train) == 0.0: # or np.max(y_test) == 0.0:\n",
    "        continue\n",
    "\n",
    "    classifiers[label_ix].fit(X_train, y_train)\n",
    "    \n",
    "    allPreds.append(classifiers[label_ix].decision_function(X_test))\n",
    "    allTruths.append(y_test)    \n",
    "\n",
    "    coefMat.append(classifiers[label_ix].coef_.reshape(-1))\n",
    "    labelIndices.append(label_ix)\n",
    "    #print(classifiers[label_ix].coef_)\n",
    "    #print(classifiers[label_ix].intercept_)"
   ]
  },
  {
   "cell_type": "code",
   "execution_count": 23,
   "metadata": {},
   "outputs": [
    {
     "name": "stdout",
     "output_type": "stream",
     "text": [
      "(80, 1273)\n",
      "(80, 1273)\n"
     ]
    }
   ],
   "source": [
    "allPreds = np.array(allPreds).T\n",
    "allTruths = np.array(allTruths).T\n",
    "\n",
    "print(allPreds.shape)\n",
    "print(allTruths.shape)"
   ]
  },
  {
   "cell_type": "markdown",
   "metadata": {},
   "source": [
    "## Evaluation"
   ]
  },
  {
   "cell_type": "markdown",
   "metadata": {},
   "source": [
    "Compute AUC."
   ]
  },
  {
   "cell_type": "code",
   "execution_count": 24,
   "metadata": {},
   "outputs": [
    {
     "name": "stdout",
     "output_type": "stream",
     "text": [
      "Average AUC: 0.6542\n"
     ]
    },
    {
     "data": {
      "image/png": "[encoded data removed]",
      "text/plain": [
       "<matplotlib.figure.Figure at 0x7fde2da0bbe0>"
      ]
     },
     "metadata": {},
     "output_type": "display_data"
    }
   ],
   "source": [
    "aucs = [ ]\n",
    "for i in range(0,allPreds.shape[0]):\n",
    "    pred  = allPreds[i,:]\n",
    "    truth = allTruths[i,:]\n",
    "    \n",
    "    if np.max(truth) == 0.0:\n",
    "        continue\n",
    "    \n",
    "    aucs.append(sk.metrics.roc_auc_score(truth, pred))\n",
    "    \n",
    "print('Average AUC: %1.4f' % np.mean(aucs))\n",
    "plt.hist(aucs, bins = 10);"
   ]
  },
  {
   "cell_type": "markdown",
   "metadata": {},
   "source": [
    "Compute average precision."
   ]
  },
  {
   "cell_type": "markdown",
   "metadata": {},
   "source": [
    "## Result analysis"
   ]
  },
  {
   "cell_type": "markdown",
   "metadata": {},
   "source": [
    "Coefficient matrix `(#Genres, #Songs)`."
   ]
  },
  {
   "cell_type": "code",
   "execution_count": 25,
   "metadata": {
    "collapsed": true
   },
   "outputs": [],
   "source": [
    "coefMat = np.array(coefMat).T"
   ]
  },
  {
   "cell_type": "code",
   "execution_count": 26,
   "metadata": {},
   "outputs": [
    {
     "data": {
      "text/plain": [
       "(12, 1273)"
      ]
     },
     "execution_count": 26,
     "metadata": {},
     "output_type": "execute_result"
    }
   ],
   "source": [
    "coefMat.shape"
   ]
  }
 ],
 "metadata": {
  "kernelspec": {
   "display_name": "Python 3",
   "language": "python",
   "name": "python3"
  },
  "language_info": {
   "codemirror_mode": {
    "name": "ipython",
    "version": 3
   },
   "file_extension": ".py",
   "mimetype": "text/x-python",
   "name": "python",
   "nbconvert_exporter": "python",
   "pygments_lexer": "ipython3",
   "version": "3.6.3"
  }
 },
 "nbformat": 4,
 "nbformat_minor": 2
}
