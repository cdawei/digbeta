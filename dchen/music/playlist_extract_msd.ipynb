{
 "cells": [
  {
   "cell_type": "code",
   "execution_count": null,
   "metadata": {
    "collapsed": true
   },
   "outputs": [],
   "source": [
    "import os, sys, time\n",
    "import tarfile\n",
    "import pickle as pkl"
   ]
  },
  {
   "cell_type": "code",
   "execution_count": null,
   "metadata": {
    "collapsed": true
   },
   "outputs": [],
   "source": [
    "data_dir = '../data'\n",
    "msd_dir = os.path.join(data_dir, 'msd/')\n",
    "fmap  = os.path.join(data_dir, 'aotm-2011/map_song_track.pkl')"
   ]
  },
  {
   "cell_type": "markdown",
   "metadata": {},
   "source": [
    "## Data loading"
   ]
  },
  {
   "cell_type": "markdown",
   "metadata": {},
   "source": [
    "Load `song_id` --> `track_id` mapping: a song may correspond to multiple tracks."
   ]
  },
  {
   "cell_type": "code",
   "execution_count": null,
   "metadata": {
    "collapsed": true
   },
   "outputs": [],
   "source": [
    "song2TrackID = pkl.load(open(fmap, 'rb'))"
   ]
  },
  {
   "cell_type": "code",
   "execution_count": null,
   "metadata": {},
   "outputs": [],
   "source": [
    "{ k : song2TrackID[k] for k in sorted(song2TrackID.keys())[:10] }"
   ]
  },
  {
   "cell_type": "markdown",
   "metadata": {},
   "source": [
    "## Extract all related track files"
   ]
  },
  {
   "cell_type": "code",
   "execution_count": null,
   "metadata": {
    "collapsed": true
   },
   "outputs": [],
   "source": [
    "trackIDs = sorted({trackID for value in song2TrackID.values() for trackID in value})"
   ]
  },
  {
   "cell_type": "code",
   "execution_count": null,
   "metadata": {},
   "outputs": [],
   "source": [
    "len(trackIDs)"
   ]
  },
  {
   "cell_type": "code",
   "execution_count": null,
   "metadata": {},
   "outputs": [],
   "source": [
    "trackIDs[:10]"
   ]
  },
  {
   "cell_type": "code",
   "execution_count": null,
   "metadata": {},
   "outputs": [],
   "source": [
    "tar = None\n",
    "flag = None\n",
    "cnt = 0\n",
    "for trackID in trackIDs:\n",
    "    cnt += 1\n",
    "    sys.stdout.write(\"\\r%d / %d\" % (cnt, len(trackIDs)))\n",
    "    sys.stdout.flush()\n",
    "    \n",
    "    ftrack = trackID[2] + '/' + trackID[3] + '/' + trackID[4] + '/' + trackID + '.h5'\n",
    "    \n",
    "    # practical solution: generate bash commands\n",
    "    # workflow: extract .tar.gz -> move files-of-interest -> remove all extracted files; repeat this.\n",
    "    #fnew = 'files/' + trackID + '.h5'\n",
    "    #if os.path.exists(os.path.join(data_dir, fnew)): continue\n",
    "    #print('mv', ftrack, fnew)\n",
    "    \n",
    "    fnew = os.path.join(data_dir, 'files/' + trackID + '.h5')\n",
    "    ftar = os.path.join(msd_dir, trackID[2] + '.tar.gz')\n",
    "    \n",
    "    if os.path.exists(fnew): continue\n",
    "    \n",
    "    if flag is None or flag != trackID[2]:\n",
    "        flag = trackID[2]\n",
    "        if tar is not None:\n",
    "            tar.close()    \n",
    "        tar = tarfile.open(name=ftar, mode='r:gz')\n",
    "        \n",
    "    if tar is None:\n",
    "        tar = tarfile.open(name=ftar, mode='r:gz')\n",
    "    \n",
    "    fdr = tar.extractfile(ftrack)\n",
    "    with open(fnew, 'wb') as fdw:\n",
    "        fdw.write(fdr.read())\n",
    "    fdr.close()"
   ]
  }
 ],
 "metadata": {
  "kernelspec": {
   "display_name": "Python [default]",
   "language": "python",
   "name": "python3"
  },
  "language_info": {
   "codemirror_mode": {
    "name": "ipython",
    "version": 3
   },
   "file_extension": ".py",
   "mimetype": "text/x-python",
   "name": "python",
   "nbconvert_exporter": "python",
   "pygments_lexer": "ipython3",
   "version": "3.5.3"
  }
 },
 "nbformat": 4,
 "nbformat_minor": 2
}
