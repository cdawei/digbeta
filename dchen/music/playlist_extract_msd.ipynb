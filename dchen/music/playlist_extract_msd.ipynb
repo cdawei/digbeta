{
 "cells": [
  {
   "cell_type": "code",
   "execution_count": 1,
   "metadata": {},
   "outputs": [],
   "source": [
    "import os, sys, time\n",
    "import tarfile\n",
    "import pickle as pkl"
   ]
  },
  {
   "cell_type": "code",
   "execution_count": 2,
   "metadata": {},
   "outputs": [],
   "source": [
    "data_dir = 'data'\n",
    "msd_dir = os.path.join(data_dir, 'msd/')\n",
    "fmap  = os.path.join(data_dir, 'aotm-2011/songID2TrackID.pkl')"
   ]
  },
  {
   "cell_type": "markdown",
   "metadata": {},
   "source": [
    "## Data loading"
   ]
  },
  {
   "cell_type": "markdown",
   "metadata": {},
   "source": [
    "Load `song_id` --> `track_id` mapping: a song may correspond to multiple tracks."
   ]
  },
  {
   "cell_type": "code",
   "execution_count": 3,
   "metadata": {},
   "outputs": [],
   "source": [
    "song2TrackID = pkl.load(open(fmap, 'rb'))"
   ]
  },
  {
   "cell_type": "code",
   "execution_count": 4,
   "metadata": {},
   "outputs": [
    {
     "data": {
      "text/plain": [
       "{'SOAAAFI12A6D4F9C66': ['TRZEXLQ128F1491D17'],\n",
       " 'SOAAAMT12AB018C9C4': ['TRYIOYF12903CD4E73'],\n",
       " 'SOAAASR12AB018A516': ['TRRTOHC12903CDD2EA'],\n",
       " 'SOAABHX12AAF3B40E7': ['TRZARKN128F92DE096'],\n",
       " 'SOAABLG12A6D4F73D2': ['TRFUCDA128F1455C96'],\n",
       " 'SOAABMP12A6D4F7633': ['TRQVPBD128F1458060'],\n",
       " 'SOAABMR12A6D4F70E4': ['TRVMASA128F149BB53'],\n",
       " 'SOAABQL12A67020E76': ['TRJOVXI128E0791CFA'],\n",
       " 'SOAABRB12A58A792A3': ['TRZGOQN128F935F425'],\n",
       " 'SOAACBE12A6D4F7A54': ['TRHRWOM128F1466747']}"
      ]
     },
     "execution_count": 4,
     "metadata": {},
     "output_type": "execute_result"
    }
   ],
   "source": [
    "{ k : song2TrackID[k] for k in sorted(song2TrackID.keys())[:10] }"
   ]
  },
  {
   "cell_type": "markdown",
   "metadata": {},
   "source": [
    "## Extract all related track files"
   ]
  },
  {
   "cell_type": "code",
   "execution_count": 5,
   "metadata": {},
   "outputs": [],
   "source": [
    "trackIDs = sorted({trackID for value in song2TrackID.values() for trackID in value})"
   ]
  },
  {
   "cell_type": "code",
   "execution_count": 6,
   "metadata": {},
   "outputs": [
    {
     "data": {
      "text/plain": [
       "119953"
      ]
     },
     "execution_count": 6,
     "metadata": {},
     "output_type": "execute_result"
    }
   ],
   "source": [
    "len(trackIDs)"
   ]
  },
  {
   "cell_type": "code",
   "execution_count": 7,
   "metadata": {},
   "outputs": [
    {
     "data": {
      "text/plain": [
       "['TRAAABD128F429CF47',\n",
       " 'TRAAAHJ128F931194C',\n",
       " 'TRAAAHZ128E0799171',\n",
       " 'TRAAANK128F428B515',\n",
       " 'TRAAAUR128F428B1FA',\n",
       " 'TRAAAYL128F4271A5B',\n",
       " 'TRAABHB12903CAFC2F',\n",
       " 'TRAABIG128F9356C56',\n",
       " 'TRAABJS128F9325C99',\n",
       " 'TRAABPG128F14774DD']"
      ]
     },
     "execution_count": 7,
     "metadata": {},
     "output_type": "execute_result"
    }
   ],
   "source": [
    "trackIDs[:10]"
   ]
  },
  {
   "cell_type": "code",
   "execution_count": 8,
   "metadata": {},
   "outputs": [],
   "source": [
    "%%script false\n",
    "# TOO slow!\n",
    "tar = None\n",
    "flag = None\n",
    "cnt = 0\n",
    "for trackID in trackIDs:\n",
    "    cnt += 1\n",
    "    sys.stdout.write(\"\\r%d / %d\" % (cnt, len(trackIDs)))\n",
    "    sys.stdout.flush()\n",
    "    \n",
    "    ftrack = trackID[2] + '/' + trackID[3] + '/' + trackID[4] + '/' + trackID + '.h5'\n",
    "    \n",
    "    # practical solution: generate bash commands\n",
    "    # workflow: extract .tar.gz -> move files-of-interest -> remove all extracted files; repeat this.\n",
    "    #fnew = 'files/' + trackID + '.h5'\n",
    "    #if os.path.exists(os.path.join(data_dir, fnew)): continue\n",
    "    #print('mv', ftrack, fnew)\n",
    "    \n",
    "    fnew = os.path.join(data_dir, 'files/' + trackID + '.h5')\n",
    "    ftar = os.path.join(msd_dir, trackID[2] + '.tar.gz')\n",
    "    \n",
    "    if os.path.exists(fnew): continue\n",
    "    \n",
    "    if flag is None or flag != trackID[2]:\n",
    "        flag = trackID[2]\n",
    "        if tar is not None:\n",
    "            tar.close()    \n",
    "        tar = tarfile.open(name=ftar, mode='r:gz')\n",
    "        \n",
    "    if tar is None:\n",
    "        tar = tarfile.open(name=ftar, mode='r:gz')\n",
    "    \n",
    "    fdr = tar.extractfile(ftrack)\n",
    "    with open(fnew, 'wb') as fdw:\n",
    "        fdw.write(fdr.read())\n",
    "    fdr.close()"
   ]
  },
  {
   "cell_type": "code",
   "execution_count": 16,
   "metadata": {},
   "outputs": [
    {
     "name": "stdout",
     "output_type": "stream",
     "text": [
      "119900 / 119953"
     ]
    }
   ],
   "source": [
    "# practical solution: generate bash commands\n",
    "# workflow: extract .tar.gz -> move files-of-interest -> remove all extracted files; repeat this.\n",
    "\n",
    "trackIDs = sorted(trackIDs)\n",
    "cnt = 0\n",
    "flag = None\n",
    "fscript = os.path.join(data_dir, 'msd/extract_aotm2011.sh')\n",
    "with open(fscript, 'w') as fd:\n",
    "    for trackID in trackIDs:\n",
    "        cnt += 1\n",
    "        if cnt % 100 == 0:\n",
    "            sys.stdout.write(\"\\r%d / %d\" % (cnt, len(trackIDs))); sys.stdout.flush()\n",
    "        \n",
    "        fnew = 'files/' + trackID + '.h5'\n",
    "        if os.path.exists(fnew): continue\n",
    "        ftrack = trackID[2] + '/' + trackID[3] + '/' + trackID[4] + '/' + trackID + '.h5'\n",
    "        \n",
    "        if flag is None or flag != trackID[2]:\n",
    "            if flag is not None:\n",
    "                fd.write('rm -rf %s/ \\n' % flag)\n",
    "            flag = trackID[2]\n",
    "            fd.write('echo \"extracting %s\"\\n' % flag)\n",
    "            fd.write('tar xzf %s.tar.gz\\n' % flag)\n",
    "            \n",
    "        fd.write('mv %s %s\\n' % (ftrack, fnew))"
   ]
  },
  {
   "cell_type": "code",
   "execution_count": null,
   "metadata": {},
   "outputs": [],
   "source": []
  }
 ],
 "metadata": {
  "kernelspec": {
   "display_name": "Python 3",
   "language": "python",
   "name": "python3"
  },
  "language_info": {
   "codemirror_mode": {
    "name": "ipython",
    "version": 3
   },
   "file_extension": ".py",
   "mimetype": "text/x-python",
   "name": "python",
   "nbconvert_exporter": "python",
   "pygments_lexer": "ipython3",
   "version": "3.6.3"
  }
 },
 "nbformat": 4,
 "nbformat_minor": 2
}
