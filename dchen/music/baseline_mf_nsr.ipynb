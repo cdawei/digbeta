{
 "cells": [
  {
   "cell_type": "markdown",
   "metadata": {},
   "source": [
    "# Baseline of new song recommendation - MF + CNN"
   ]
  },
  {
   "cell_type": "code",
   "execution_count": null,
   "metadata": {},
   "outputs": [],
   "source": [
    "%matplotlib inline\n",
    "\n",
    "import os, sys, time, gzip\n",
    "import pickle as pkl\n",
    "import numpy as np\n",
    "from scipy.sparse import lil_matrix, csr_matrix, issparse\n",
    "\n",
    "import matplotlib.pyplot as plt\n",
    "import seaborn as sns\n",
    "from tqdm import tqdm"
   ]
  },
  {
   "cell_type": "code",
   "execution_count": null,
   "metadata": {},
   "outputs": [],
   "source": [
    "from tools import calc_metrics, diversity, pairwise_distance_hamming, softmax"
   ]
  },
  {
   "cell_type": "code",
   "execution_count": null,
   "metadata": {},
   "outputs": [],
   "source": [
    "np.seterr(all='raise')"
   ]
  },
  {
   "cell_type": "code",
   "execution_count": null,
   "metadata": {},
   "outputs": [],
   "source": [
    "TOPs = [5, 10, 20, 30, 50, 100, 200, 300, 500, 700, 1000]"
   ]
  },
  {
   "cell_type": "code",
   "execution_count": null,
   "metadata": {},
   "outputs": [],
   "source": [
    "datasets = ['aotm2011', '30music']"
   ]
  },
  {
   "cell_type": "code",
   "execution_count": null,
   "metadata": {},
   "outputs": [],
   "source": [
    "dix = 1\n",
    "dataset_name = datasets[dix]\n",
    "dataset_name"
   ]
  },
  {
   "cell_type": "code",
   "execution_count": null,
   "metadata": {},
   "outputs": [],
   "source": [
    "data_dir = 'data/%s/coldstart/setting1' % dataset_name\n",
    "X_trndev = pkl.load(gzip.open(os.path.join(data_dir, 'X_trndev.pkl.gz'), 'rb'))\n",
    "Y_trndev = pkl.load(gzip.open(os.path.join(data_dir, 'Y_trndev.pkl.gz'), 'rb'))\n",
    "X_test = pkl.load(gzip.open(os.path.join(data_dir, 'X_test.pkl.gz'), 'rb'))\n",
    "Y_test = pkl.load(gzip.open(os.path.join(data_dir, 'Y_test.pkl.gz'), 'rb'))"
   ]
  },
  {
   "cell_type": "code",
   "execution_count": null,
   "metadata": {},
   "outputs": [],
   "source": [
    "songs1 = pkl.load(gzip.open(os.path.join(data_dir, 'songs_train_dev_test_s1.pkl.gz'), 'rb'))\n",
    "train_songs = songs1['train_song_set']\n",
    "dev_songs = songs1['dev_song_set']\n",
    "test_songs = songs1['test_song_set']"
   ]
  },
  {
   "cell_type": "code",
   "execution_count": null,
   "metadata": {},
   "outputs": [],
   "source": [
    "song2index_trndev = {sid: ix for ix, (sid, _) in enumerate(train_songs + dev_songs)}\n",
    "song2index_test = {sid: ix for ix, (sid, _) in enumerate(test_songs)}\n",
    "index2song_test = {ix: sid for ix, (sid, _) in enumerate(test_songs)}"
   ]
  },
  {
   "cell_type": "code",
   "execution_count": null,
   "metadata": {},
   "outputs": [],
   "source": [
    "_song2artist = pkl.load(gzip.open('data/msd/song2artist.pkl.gz', 'rb'))\n",
    "song2artist = {sid: _song2artist[sid] for sid, _ in train_songs + dev_songs + test_songs if sid in _song2artist}"
   ]
  },
  {
   "cell_type": "code",
   "execution_count": null,
   "metadata": {},
   "outputs": [],
   "source": [
    "all_playlists = pkl.load(gzip.open(os.path.join(data_dir, 'playlists_s1.pkl.gz'), 'rb'))"
   ]
  },
  {
   "cell_type": "code",
   "execution_count": null,
   "metadata": {},
   "outputs": [],
   "source": [
    "artist2pop = dict()\n",
    "test_songset = set(test_songs)\n",
    "\n",
    "for pl, _ in all_playlists:\n",
    "    for sid in [sid for sid in pl if sid not in test_songset]:\n",
    "        if sid in song2artist:\n",
    "            aid = song2artist[sid]\n",
    "            try:\n",
    "                artist2pop[aid] += 1\n",
    "            except KeyError:\n",
    "                artist2pop[aid] = 1"
   ]
  },
  {
   "cell_type": "code",
   "execution_count": null,
   "metadata": {},
   "outputs": [],
   "source": [
    "song2genre = pkl.load(gzip.open('data/msd/song2genre.pkl.gz', 'rb'))"
   ]
  },
  {
   "cell_type": "code",
   "execution_count": null,
   "metadata": {},
   "outputs": [],
   "source": [
    "cliques_all = pkl.load(gzip.open(os.path.join(data_dir, 'cliques_trndev.pkl.gz'), 'rb'))"
   ]
  },
  {
   "cell_type": "code",
   "execution_count": null,
   "metadata": {},
   "outputs": [],
   "source": [
    "U = len(cliques_all)\n",
    "pl2u = np.zeros(Y_test.shape[1], dtype=np.int32)\n",
    "for u in range(U):\n",
    "    clq = cliques_all[u]\n",
    "    pl2u[clq] = u"
   ]
  },
  {
   "cell_type": "code",
   "execution_count": null,
   "metadata": {},
   "outputs": [],
   "source": [
    "song2pop = pkl.load(gzip.open(os.path.join(data_dir, 'song2pop.pkl.gz'), 'rb'))"
   ]
  },
  {
   "cell_type": "code",
   "execution_count": null,
   "metadata": {},
   "outputs": [],
   "source": [
    "Y_test.shape"
   ]
  },
  {
   "cell_type": "markdown",
   "metadata": {},
   "source": [
    "## Matrix Factorisation"
   ]
  },
  {
   "cell_type": "code",
   "execution_count": null,
   "metadata": {},
   "outputs": [],
   "source": [
    "X_trndev.shape"
   ]
  },
  {
   "cell_type": "code",
   "execution_count": null,
   "metadata": {},
   "outputs": [],
   "source": [
    "Y_trndev.shape"
   ]
  },
  {
   "cell_type": "markdown",
   "metadata": {},
   "source": [
    "Let $S \\in \\mathbb{R}^{M \\times D}, P \\in \\mathbb{R}^{N \\times D}, Y \\in \\mathbb{R}^{M \\times N}$ be the latent factors of songs and playlists, respectively.\n",
    "\n",
    "The optimisation objective:\n",
    "$\n",
    "\\begin{aligned}\n",
    "J = \\sum_{m=1}^M \\sum_{n=1}^N \\left( y_{m,n} - \\mathbf{s}_m^\\top \\mathbf{p}_n \\right)^2 \n",
    "    + C \\left( \\sum_{m=1}^M \\mathbf{s}_m^\\top \\mathbf{s}_m + \\sum_{n=1}^N \\mathbf{p}_n^\\top \\mathbf{p}_n \\right)\n",
    "\\end{aligned}\n",
    "$  \n",
    "Use alternating least squares optimisation method:"
   ]
  },
  {
   "cell_type": "markdown",
   "metadata": {},
   "source": [
    "1. Fix $S$, then let\n",
    "$\n",
    "\\begin{aligned}\n",
    "\\mathbf{0}\n",
    "= \\frac{\\partial J}{\\partial \\mathbf{p}_n}\n",
    "= \\sum_{m=1}^M 2 \\left( y_{m,n} - \\mathbf{s}_m^\\top \\mathbf{p}_n \\right) (-\\mathbf{s}_m) + 2 C \\mathbf{p}_n\n",
    "\\end{aligned}\n",
    "$  \n",
    "in other words\n",
    "$\n",
    "\\begin{aligned}\n",
    "\\sum_{m=1}^M y_{m,n} \\mathbf{s}_m \n",
    "= \\sum_{m=1}^M (\\mathbf{s}_m^\\top \\mathbf{p}_n^*) \\mathbf{s}_m + C \\mathbf{p}_n^*\n",
    "= \\sum_{m=1}^M \\mathbf{s}_m \\mathbf{s}_m^\\top \\mathbf{p}_n^* + C \\mathbf{p}_n^*\n",
    "= \\left( \\sum_{m=1}^M \\mathbf{s}_m \\mathbf{s}_m^\\top + C \\mathbf{I} \\right) \\mathbf{p}_n^*\n",
    "\\end{aligned}\n",
    "$  \n",
    "where $\\mathbf{I} \\in \\mathbb{R}^{D \\times D}$ diagonal matrix and the every element at diagonal is 1.  \n",
    "So \n",
    "$\n",
    "\\begin{aligned}\n",
    "\\mathbf{p}_n^* = \\left( \\sum_{m=1}^M \\mathbf{s}_m \\mathbf{s}_m^\\top + C \\mathbf{I} \\right)^{-1} \\sum_{m=1}^M y_{m,n} \\mathbf{s}_m\n",
    "\\end{aligned}\n",
    "$  \n",
    "or equivalently\n",
    "$\n",
    "\\begin{aligned}\n",
    "\\mathbf{p}_n^* \n",
    "= \\left( S^\\top S + C \\mathbf{I} \\right)^{-1} \\left( \\mathbf{y}_{:n}^\\top S \\right)^\\top\n",
    "= \\left( S^\\top S + C \\mathbf{I} \\right)^{-1} S^\\top \\mathbf{y}_{:n}\n",
    "\\end{aligned}\n",
    "$  \n",
    "The matrix form is  \n",
    "$\n",
    "\\begin{aligned}\n",
    "P' \n",
    "= \\left( \\left( S^\\top S + C \\mathbf{I} \\right)^{-1} S^\\top Y \\right)^\\top\n",
    "= Y^\\top S \\left( \\left( S^\\top S + C \\mathbf{I} \\right)^{-1} \\right)^\\top\n",
    "\\end{aligned}\n",
    "$  "
   ]
  },
  {
   "cell_type": "markdown",
   "metadata": {},
   "source": [
    "2. Fix $S$, then let\n",
    "$\n",
    "\\begin{aligned}\n",
    "\\mathbf{0}\n",
    "= \\frac{\\partial J}{\\partial \\mathbf{s}_m}\n",
    "= \\sum_{n=1}^N 2 \\left( y_{m,n} - \\mathbf{s}_m^\\top \\mathbf{p}_n \\right) (-\\mathbf{p}_n) + 2 C \\mathbf{s}_m\n",
    "\\end{aligned}\n",
    "$  \n",
    "by symmetry, we have  \n",
    "$\n",
    "\\begin{aligned}\n",
    "\\mathbf{s}_m^* = \\left( \\sum_{n=1}^N \\mathbf{p}_n \\mathbf{p}_n^\\top + C \\mathbf{I} \\right)^{-1} \\sum_{n=1}^N y_{m,n} \\mathbf{p}_n\n",
    "\\end{aligned}\n",
    "$  \n",
    "The matrix form is  \n",
    "$\n",
    "\\begin{aligned}\n",
    "S' \n",
    "= \\left( \\left( P^\\top P + C \\mathbf{I} \\right)^{-1} (Y P)^\\top \\right)^\\top\n",
    "= Y P \\left( \\left( P^\\top P + C \\mathbf{I} \\right)^{-1} \\right)^\\top\n",
    "\\end{aligned}\n",
    "$  "
   ]
  },
  {
   "cell_type": "code",
   "execution_count": null,
   "metadata": {
    "scrolled": true
   },
   "outputs": [],
   "source": [
    "M, N = Y_trndev.shape\n",
    "D = 80\n",
    "C = 1\n",
    "n_sweeps = 200\n",
    "\n",
    "np.random.seed(0)\n",
    "S = np.random.rand(M, D)\n",
    "P = np.random.rand(N, D)\n",
    "\n",
    "# alternating least squares\n",
    "for sweep in range(n_sweeps):\n",
    "    # fix S, optimise P\n",
    "    SS = np.dot(S.T, S)  # D by D\n",
    "    np.fill_diagonal(SS, C + SS.diagonal())\n",
    "    P_new = np.dot(Y_trndev.transpose().dot(S), np.linalg.inv(SS).T)  # N by D\n",
    "    pdiff = (P_new - P).ravel()\n",
    "    P = P_new\n",
    "    \n",
    "    # fix P, optimise S\n",
    "    PP = np.dot(P.T, P)  # D by D\n",
    "    np.fill_diagonal(PP, C + PP.diagonal())\n",
    "    S_new = np.dot(Y_trndev.dot(P), np.linalg.inv(PP).T)  # M by D\n",
    "    sdiff = (S_new - S).ravel()\n",
    "    S = S_new\n",
    "    print('P diff: {:8.6f}, S diff: {:8.6f}'.format(np.sqrt(pdiff.dot(pdiff)), np.sqrt(sdiff.dot(sdiff))))"
   ]
  },
  {
   "cell_type": "markdown",
   "metadata": {},
   "source": [
    "Sanity check, RMSE"
   ]
  },
  {
   "cell_type": "code",
   "execution_count": null,
   "metadata": {},
   "outputs": [],
   "source": [
    "Y_trndev_coo = Y_trndev.tocoo()"
   ]
  },
  {
   "cell_type": "code",
   "execution_count": null,
   "metadata": {},
   "outputs": [],
   "source": [
    "loss = 0.\n",
    "for row, col in tqdm(zip(Y_trndev_coo.row, Y_trndev_coo.col)):\n",
    "    diff = S[row, :].dot(P[col, :]) - 1\n",
    "    loss += diff * diff\n",
    "loss /= Y_trndev_coo.nnz\n",
    "print('RMSE:', np.sqrt(loss))"
   ]
  },
  {
   "cell_type": "markdown",
   "metadata": {},
   "source": [
    "## Map song features to song latent factors"
   ]
  },
  {
   "cell_type": "code",
   "execution_count": null,
   "metadata": {},
   "outputs": [],
   "source": [
    "rps = []\n",
    "hitrates = {top: [] for top in TOPs}\n",
    "aucs = []\n",
    "spreads = []\n",
    "novelties = {top: dict() for top in TOPs}\n",
    "artist_diversities = {top: [] for top in TOPs}\n",
    "genre_diversities = {top: [] for top in TOPs}\n",
    "np.random.seed(0)\n",
    "\n",
    "npos = Y_test.sum(axis=0).A.reshape(-1)\n",
    "assert Y_test.shape[0] == len(test_songs)\n",
    "for j in range(Y_test.shape[1]):\n",
    "    if (j+1) % 100 == 0:\n",
    "        sys.stdout.write('\\r%d / %d' % (j+1, Y_test.shape[1]))\n",
    "        sys.stdout.flush()\n",
    "\n",
    "    if npos[j] < 1:\n",
    "        continue\n",
    "        \n",
    "    y_true = Y_test[:, j].A.reshape(-1)\n",
    "    \n",
    "    y_pred = np.zeros(len(test_songs))\n",
    "    for ix in range(len(test_songs)):\n",
    "        sid = index2song_test[ix]\n",
    "        # map song feature to song latent factor\n",
    "        # score (song, playlist) pair by the dot product of their latent factors\n",
    "\n",
    "    rp, hr_dict, auc = calc_metrics(y_true, y_pred, tops=TOPs)\n",
    "    rps.append(rp)\n",
    "    for top in TOPs:\n",
    "        hitrates[top].append(hr_dict[top])\n",
    "    aucs.append(auc)\n",
    "    \n",
    "    # spread\n",
    "    y_pred_prob = softmax(y_pred)\n",
    "    spreads.append(-np.dot(y_pred_prob, np.log(y_pred_prob)))\n",
    "\n",
    "    # novelty\n",
    "    sortix = np.argsort(-y_pred)\n",
    "    u = pl2u[j]\n",
    "    for top in TOPs:\n",
    "        nov = np.mean([-np.log2(song2pop[index2song_test[ix]]) for ix in sortix[:top]])\n",
    "        try:\n",
    "            novelties[top][u].append(nov)\n",
    "        except KeyError:\n",
    "            novelties[top][u] = [nov]\n",
    "    \n",
    "    # artist/genre diversity\n",
    "    for top in TOPs:\n",
    "        artist_vec = np.array([song2artist[index2song_test[ix]] for ix in sortix[:top]])\n",
    "        genre_vec = np.array([song2genre[index2song_test[ix]] if index2song_test[ix] in song2genre \\\n",
    "                              else str(np.random.rand()) for ix in sortix[:top]])\n",
    "        artist_diversities[top].append( diversity(artist_vec) )\n",
    "        genre_diversities[top].append( diversity(genre_vec) )\n",
    "    \n",
    "print('\\n%d / %d' % (len(rps), Y_test.shape[1]))"
   ]
  },
  {
   "cell_type": "code",
   "execution_count": null,
   "metadata": {
    "scrolled": true
   },
   "outputs": [],
   "source": [
    "perf = {dataset_name: {'Test': {'R-Precision': np.mean(rps), \n",
    "                                'Hit-Rate': {top: np.mean(hitrates[top]) for top in TOPs},\n",
    "                                'AUC': np.mean(aucs),\n",
    "                                'Spread': np.mean(spreads),\n",
    "                                'Novelty': {t: np.mean([np.mean(novelties[t][u]) for u in novelties[t]]) \n",
    "                                            for t in TOPs},\n",
    "                                'Artist-Diversity': {top: np.mean(artist_diversities[top]) for top in TOPs},\n",
    "                                'Genre-Diversity': {top: np.mean(genre_diversities[top]) for top in TOPs}},\n",
    "                        'Test_All': {'R-Precision': rps,\n",
    "                                    'Hit-Rate': {top: hitrates[top] for top in TOPs},\n",
    "                                    'AUC': aucs,\n",
    "                                    'Spread': spreads,\n",
    "                                    'Novelty': novelties,\n",
    "                                    'Artist-Diversity': artist_diversities,\n",
    "                                    'Genre-Diversity': genre_diversities}}}\n",
    "perf[dataset_name]['Test']"
   ]
  },
  {
   "cell_type": "code",
   "execution_count": null,
   "metadata": {
    "scrolled": true
   },
   "outputs": [],
   "source": [
    "fperf = os.path.join(data_dir, 'perf-mfcnn.pkl')\n",
    "print(fperf)\n",
    "pkl.dump(perf, open(fperf, 'wb'))\n",
    "pkl.load(open(fperf, 'rb'))[dataset_name]['Test']"
   ]
  }
 ],
 "metadata": {
  "kernelspec": {
   "display_name": "Python 3",
   "language": "python",
   "name": "python3"
  },
  "language_info": {
   "codemirror_mode": {
    "name": "ipython",
    "version": 3
   },
   "file_extension": ".py",
   "mimetype": "text/x-python",
   "name": "python",
   "nbconvert_exporter": "python",
   "pygments_lexer": "ipython3",
   "version": "3.6.6"
  }
 },
 "nbformat": 4,
 "nbformat_minor": 2
}
