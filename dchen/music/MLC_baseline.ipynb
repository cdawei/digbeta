{
 "cells": [
  {
   "cell_type": "markdown",
   "metadata": {},
   "source": [
    "# Multi-label classification -- binary relevance baseline"
   ]
  },
  {
   "cell_type": "code",
   "execution_count": null,
   "metadata": {},
   "outputs": [],
   "source": [
    "%matplotlib inline\n",
    "%load_ext autoreload\n",
    "%autoreload 2\n",
    "\n",
    "import os, sys, time\n",
    "import pickle as pkl\n",
    "import numpy as np\n",
    "import pandas as pd\n",
    "\n",
    "from sklearn.base import BaseEstimator\n",
    "from sklearn.linear_model import LogisticRegression\n",
    "from sklearn.multiclass import OneVsRestClassifier\n",
    "from sklearn.pipeline import make_pipeline\n",
    "from sklearn.model_selection import train_test_split\n",
    "from sklearn.model_selection import GridSearchCV\n",
    "from sklearn.metrics import classification_report, make_scorer, f1_score, label_ranking_loss\n",
    "\n",
    "import matplotlib.pyplot as plt\n",
    "import seaborn as sns"
   ]
  },
  {
   "cell_type": "code",
   "execution_count": null,
   "metadata": {},
   "outputs": [],
   "source": [
    "sys.path.append('src')\n",
    "from evaluate import avgPrecisionK, evaluatePrecision, evaluateF1, evaluateRankingLoss, f1_score_nowarn\n",
    "from datasets import create_dataset, dataset_names, nLabels_dict"
   ]
  },
  {
   "cell_type": "code",
   "execution_count": null,
   "metadata": {},
   "outputs": [],
   "source": [
    "dataset_names"
   ]
  },
  {
   "cell_type": "code",
   "execution_count": null,
   "metadata": {},
   "outputs": [],
   "source": [
    "data_ix = 0"
   ]
  },
  {
   "cell_type": "code",
   "execution_count": null,
   "metadata": {},
   "outputs": [],
   "source": [
    "dataset_name = dataset_names[data_ix]\n",
    "nLabels = nLabels_dict[dataset_name]\n",
    "print(dataset_name, nLabels)"
   ]
  },
  {
   "cell_type": "code",
   "execution_count": null,
   "metadata": {},
   "outputs": [],
   "source": [
    "data_dir = 'data'\n",
    "SEED = 918273645\n",
    "fmodel_prec = os.path.join(data_dir, 'br-' + dataset_name + '-prec.pkl')\n",
    "fmodel_f1 = os.path.join(data_dir, 'br-' + dataset_name + '-f1.pkl')\n",
    "fmodel_base = os.path.join(data_dir, 'br-' + dataset_name + '-base.pkl')\n",
    "fperf_prec = os.path.join(data_dir, 'perf-lr-prec.pkl')\n",
    "fperf_f1 = os.path.join(data_dir, 'perf-lr-f1.pkl')\n",
    "fperf_base = os.path.join(data_dir, 'perf-lr-base.pkl')"
   ]
  },
  {
   "cell_type": "markdown",
   "metadata": {},
   "source": [
    "Load data."
   ]
  },
  {
   "cell_type": "code",
   "execution_count": null,
   "metadata": {},
   "outputs": [],
   "source": [
    "X_train, Y_train = create_dataset(dataset_name=dataset_name, train_data=True, shuffle=True, random_state=SEED)\n",
    "X_test,  Y_test  = create_dataset(dataset_name=dataset_name, train_data=False)"
   ]
  },
  {
   "cell_type": "markdown",
   "metadata": {},
   "source": [
    "Feature normalisation."
   ]
  },
  {
   "cell_type": "code",
   "execution_count": null,
   "metadata": {},
   "outputs": [],
   "source": [
    "X_train_mean = np.mean(X_train, axis=0).reshape((1, -1))\n",
    "X_train_std = np.std(X_train, axis=0).reshape((1, -1)) + 10 ** (-6)\n",
    "X_train -= X_train_mean\n",
    "X_train /= X_train_std\n",
    "X_test  -= X_train_mean\n",
    "X_test  /= X_train_std"
   ]
  },
  {
   "cell_type": "markdown",
   "metadata": {},
   "source": [
    "## Naive baseline"
   ]
  },
  {
   "cell_type": "markdown",
   "metadata": {},
   "source": [
    "Use the estimated probability for each label as the predicted score for any example."
   ]
  },
  {
   "cell_type": "code",
   "execution_count": null,
   "metadata": {},
   "outputs": [],
   "source": [
    "#probs = np.mean(Y_train, axis=0)"
   ]
  },
  {
   "cell_type": "code",
   "execution_count": null,
   "metadata": {},
   "outputs": [],
   "source": [
    "#probs"
   ]
  },
  {
   "cell_type": "code",
   "execution_count": null,
   "metadata": {},
   "outputs": [],
   "source": [
    "#preds = np.tile(probs, (X_test.shape[0], 1))"
   ]
  },
  {
   "cell_type": "code",
   "execution_count": null,
   "metadata": {},
   "outputs": [],
   "source": [
    "#evaluatePrecision(Y_test, preds, verbose=1)"
   ]
  },
  {
   "cell_type": "code",
   "execution_count": null,
   "metadata": {},
   "outputs": [],
   "source": [
    "#evaluateRankingLoss(Y_test, preds, n_jobs=4)"
   ]
  },
  {
   "cell_type": "markdown",
   "metadata": {},
   "source": [
    "## Binary relevance baseline"
   ]
  },
  {
   "cell_type": "markdown",
   "metadata": {},
   "source": [
    "Train a logistic regression model for each label."
   ]
  },
  {
   "cell_type": "markdown",
   "metadata": {},
   "source": [
    "Note that [OneVsRestClassifier](http://scikit-learn.org/stable/modules/generated/sklearn.multiclass.OneVsRestClassifier.html) can be either a multiclass classifier or a multilabel classifier, see this [binary relevance example on yeast dataset](http://scikit-learn.org/stable/auto_examples/multioutput/plot_classifier_chain_yeast.html)."
   ]
  },
  {
   "cell_type": "markdown",
   "metadata": {},
   "source": [
    "NOTE: To do cross validation (i.e. fit a GridSearchCV), one has to put OneVsRestClassifier into a class wrapper, as  the constructor of OneVsRestClassifier doesn't have a parameter `C`."
   ]
  },
  {
   "cell_type": "code",
   "execution_count": null,
   "metadata": {},
   "outputs": [],
   "source": [
    "class BinaryRelevance(BaseEstimator):\n",
    "    \"\"\"\n",
    "        Independent logistic regression based on OneVsRestClassifier wrapper.\n",
    "    \"\"\"\n",
    "    \n",
    "    def __init__(self, C=1):\n",
    "        assert C > 0\n",
    "        self.C = C\n",
    "        self.trained = False\n",
    "        \n",
    "    def fit(self, X_train, Y_train):\n",
    "        assert X_train.shape[0] == Y_train.shape[0]\n",
    "        # don't make two changes at the same time\n",
    "        #self.estimator = OneVsRestClassifier(LogisticRegression(class_weight='balanced', C=self.C))\n",
    "        self.estimator = OneVsRestClassifier(LogisticRegression(C=self.C))\n",
    "        self.estimator.fit(X_train, Y_train)\n",
    "        self.trained = True\n",
    "        \n",
    "    def decision_function(self, X_test):\n",
    "        assert self.trained is True\n",
    "        return self.estimator.decision_function(X_test)\n",
    "    \n",
    "    def predict(self, X_test, binarise=False):\n",
    "        preds = self.decision_function(X_test)\n",
    "        return preds >= 0.5 if binarise is True else preds        "
   ]
  },
  {
   "cell_type": "code",
   "execution_count": null,
   "metadata": {},
   "outputs": [],
   "source": [
    "def print_cv_results(clf):\n",
    "    if hasattr(clf, 'best_params_'):\n",
    "        print(\"\\nBest parameters set found on development set:\")\n",
    "        print(clf.best_params_)\n",
    "    if hasattr(clf, 'cv_results_'):\n",
    "        for mean, std, params in zip(clf.cv_results_['mean_test_score'], \\\n",
    "                                     clf.cv_results_['std_test_score'], \\\n",
    "                                     clf.cv_results_['params']):\n",
    "            print(\"%0.3f (+/-%0.03f) for %r\" % (mean, std * 2, params))"
   ]
  },
  {
   "cell_type": "code",
   "execution_count": null,
   "metadata": {},
   "outputs": [],
   "source": [
    "def dump_results(predictor, X_train, Y_train, X_test, Y_test, fname):\n",
    "    \"\"\"\n",
    "        Compute and save performance results\n",
    "    \"\"\"\n",
    "    preds_train = predictor.decision_function(X_train)\n",
    "    preds_test  = predictor.decision_function(X_test)\n",
    "    \n",
    "    print('Training set:')\n",
    "    perf_dict_train = evaluatePrecision(Y_train, preds_train)\n",
    "    print()\n",
    "    print('Test set:')\n",
    "    perf_dict_test = evaluatePrecision(Y_test, preds_test)\n",
    "    \n",
    "    print()\n",
    "    print('Training set:')\n",
    "    perf_dict_train.update(evaluateRankingLoss(Y_train, preds_train))\n",
    "    print(label_ranking_loss(Y_train, preds_train))\n",
    "    print()\n",
    "    print('Test set:')\n",
    "    perf_dict_test.update(evaluateRankingLoss(Y_test, preds_test))\n",
    "    print(label_ranking_loss(Y_test, preds_test))\n",
    "    \n",
    "    F1_train = f1_score_nowarn(Y_train, preds_train >= 0.5, average='samples')\n",
    "    F1_test  = f1_score_nowarn(Y_test, preds_test >= 0.5, average='samples')\n",
    "    print('\\nF1 Train: %.4f, %f' % (F1_train, f1_score(Y_train, preds_train >= 0.5, average='samples')))\n",
    "    print('\\nF1 Test : %.4f  %f' % (F1_test, f1_score(Y_test, preds_test >= 0.5, average='samples')))\n",
    "    \n",
    "    perf_dict_train.update({'F1': (F1_train,)})\n",
    "    perf_dict_test.update({'F1': (F1_test,)})\n",
    "    \n",
    "    perf_dict = {'Train': perf_dict_train, 'Test': perf_dict_test}\n",
    "    if os.path.exists(fname):\n",
    "        _dict = pkl.load(open(fname, 'rb'))\n",
    "        if dataset_name not in _dict:\n",
    "            _dict[dataset_name] = perf_dict\n",
    "    else:\n",
    "        _dict = {dataset_name: perf_dict}\n",
    "    pkl.dump(_dict, open(fname, 'wb'))\n",
    "    \n",
    "    print()\n",
    "    print(pkl.load(open(fname, 'rb')))"
   ]
  },
  {
   "cell_type": "code",
   "execution_count": null,
   "metadata": {},
   "outputs": [],
   "source": [
    "def avgF1(Y_true, Y_pred):\n",
    "    F1 = f1_score_nowarn(Y_true, Y_pred >= 0, average='samples')\n",
    "    print('\\nF1: %g, #examples: %g' % (F1, Y_true.shape[0]))\n",
    "    return F1"
   ]
  },
  {
   "cell_type": "code",
   "execution_count": null,
   "metadata": {},
   "outputs": [],
   "source": [
    "C_set = [1e-6, 3e-6, 1e-5, 3e-5, 1e-4, 3e-4, 1e-3, 3e-3, 0.01, 0.03, 0.1, 0.3,\n",
    "         1, 3, 10, 30, 100, 300, 1e3, 3e3, 1e4, 3e4, 1e5, 3e5, 1e6, 3e6]\n",
    "parameters = [{'C': C_set}]\n",
    "scorer = {'F1': make_scorer(avgF1)}"
   ]
  },
  {
   "cell_type": "markdown",
   "metadata": {},
   "source": [
    "Cross validation according to F1."
   ]
  },
  {
   "cell_type": "code",
   "execution_count": null,
   "metadata": {
    "scrolled": true
   },
   "outputs": [],
   "source": [
    "if os.path.exists(fmodel_f1):\n",
    "    clf = pkl.load(open(fmodel_f1, 'rb'))\n",
    "else:\n",
    "    clf = GridSearchCV(BinaryRelevance(), parameters, cv=5, scoring=scorer, verbose=2, n_jobs=10, refit='F1')\n",
    "    clf.fit(X_train, Y_train)\n",
    "    pkl.dump(clf, open(fmodel_f1, 'wb'))"
   ]
  },
  {
   "cell_type": "code",
   "execution_count": null,
   "metadata": {},
   "outputs": [],
   "source": [
    "f1_score_nowarn(Y_test, clf.decision_function(X_test) >= 0, average='samples')"
   ]
  },
  {
   "cell_type": "code",
   "execution_count": null,
   "metadata": {},
   "outputs": [],
   "source": [
    "clf.best_params_"
   ]
  },
  {
   "cell_type": "code",
   "execution_count": null,
   "metadata": {},
   "outputs": [],
   "source": [
    "print_cv_results(clf)"
   ]
  },
  {
   "cell_type": "code",
   "execution_count": null,
   "metadata": {
    "scrolled": true
   },
   "outputs": [],
   "source": [
    "dump_results(clf, X_train, Y_train, X_test, Y_test, fperf_prec)"
   ]
  },
  {
   "cell_type": "markdown",
   "metadata": {},
   "source": [
    "Cross validation according to F1."
   ]
  },
  {
   "cell_type": "code",
   "execution_count": null,
   "metadata": {},
   "outputs": [],
   "source": [
    "plot_loss_of_clf(clf, X_train, Y_train, X_test, Y_test)"
   ]
  },
  {
   "cell_type": "code",
   "execution_count": null,
   "metadata": {},
   "outputs": [],
   "source": [
    "from evaluate import calcLoss\n",
    "from matplotlib.ticker import NullFormatter\n",
    "\n",
    "def plot_loss_of_clf(clf, X_train, Y_train, X_test, Y_test):\n",
    "    preds_train = clf.decision_function(X_train)\n",
    "    tploss_train = calcLoss(Y_train, preds_train, 'TopPush', njobs=4)\n",
    "    pak_train = calcLoss(Y_train, preds_train, 'Precision@K', njobs=4)\n",
    "    preds_test = clf.decision_function(X_test)\n",
    "    tploss_test = calcLoss(Y_test, preds_test, 'TopPush', njobs=4)\n",
    "    pak_test = calcLoss(Y_test, preds_test, 'Precision@K', njobs=4)\n",
    "    #plot_loss(tploss_train, pak_train, 'Training set (' + dataset_name + ')')\n",
    "    \n",
    "    plot_loss(tploss_test, pak_test, 'Test set (' + dataset_name + ')')"
   ]
  },
  {
   "cell_type": "code",
   "execution_count": null,
   "metadata": {},
   "outputs": [],
   "source": [
    "def plot_loss(loss, pak, title):\n",
    "    # the data\n",
    "    x = loss\n",
    "    y = 1 - pak\n",
    "    \n",
    "    print('away from diagonal portion:', np.mean(loss != 1-pak))\n",
    "\n",
    "    nullfmt = NullFormatter()         # no labels\n",
    "\n",
    "    # definitions for the axes\n",
    "    left, width = 0.1, 0.65\n",
    "    bottom, height = 0.1, 0.65\n",
    "    bottom_h = left_h = left + width + 0.02\n",
    "\n",
    "    rect_scatter = [left, bottom, width, height]\n",
    "    rect_histx = [left, bottom_h, width, 0.2]\n",
    "    rect_histy = [left_h, bottom, 0.2, height]\n",
    "\n",
    "    # start with a rectangular Figure\n",
    "    plt.figure(1, figsize=(8, 8))\n",
    "\n",
    "    axScatter = plt.axes(rect_scatter)\n",
    "    axHistx = plt.axes(rect_histx)\n",
    "    axHisty = plt.axes(rect_histy)\n",
    "\n",
    "    # no labels\n",
    "    axHistx.xaxis.set_major_formatter(nullfmt)\n",
    "    axHisty.yaxis.set_major_formatter(nullfmt)\n",
    "\n",
    "    # the scatter plot:\n",
    "    axScatter.scatter(x, y, color='b', alpha=0.5)\n",
    "    axScatter.plot([0, 1], [0, 1], ls='--', color='g')\n",
    "    axScatter.set_xlabel('Top push loss', fontdict={'fontsize': 12})\n",
    "    axScatter.set_ylabel('1 - precision@K', fontdict={'fontsize': 12})\n",
    "\n",
    "    # now determine nice limits by hand:\n",
    "    #binwidth = 0.25\n",
    "    #xymax = np.max([np.max(np.fabs(x)), np.max(np.fabs(y))])\n",
    "    #lim = (int(xymax/binwidth) + 1) * binwidth\n",
    "\n",
    "    #axScatter.set_xlim((-lim, lim))\n",
    "    #axScatter.set_ylim((-lim, lim))\n",
    "\n",
    "    #bins = np.arange(-lim, lim + binwidth, binwidth)\n",
    "\n",
    "    axHistx.hist(x, bins=10, color='g', alpha=0.3)\n",
    "    axHistx.set_yscale('log')\n",
    "    axHisty.hist(y, bins=10, color='g', alpha=0.3, orientation='horizontal')\n",
    "    axHisty.set_xscale('log')\n",
    "\n",
    "    #axHistx.set_xlim(axScatter.get_xlim())\n",
    "    #axHisty.set_ylim(axScatter.get_ylim())\n",
    "\n",
    "    axHistx.set_title(title, fontdict={'fontsize': 15}, loc='center')"
   ]
  },
  {
   "cell_type": "code",
   "execution_count": null,
   "metadata": {
    "scrolled": true
   },
   "outputs": [],
   "source": [
    "%%script false\n",
    "# NOTE: binary predictions (by predict()) are required for this method to work \n",
    "if os.path.exists(fmodel_f1):\n",
    "    clf = pkl.load(open(fmodel_f1, 'rb'))\n",
    "else:\n",
    "    scorer = make_scorer(f1_score_nowarn, average='samples')\n",
    "    clf = GridSearchCV(BinaryRelevance(), parameters, cv=5, scoring=scorer, verbose=2, n_jobs=6)\n",
    "    clf.fit(X_train, Y_train)\n",
    "    pkl.dump(clf, open(fmodel_f1, 'wb'))\n",
    "print_cv_results(clf)"
   ]
  },
  {
   "cell_type": "code",
   "execution_count": null,
   "metadata": {},
   "outputs": [],
   "source": [
    "#dump_results(clf, X_train, Y_train, X_test, Y_test, fperf_f1)"
   ]
  },
  {
   "cell_type": "markdown",
   "metadata": {},
   "source": [
    "Plain logistic regression."
   ]
  },
  {
   "cell_type": "code",
   "execution_count": null,
   "metadata": {},
   "outputs": [],
   "source": [
    "if os.path.exists(fmodel_base):\n",
    "    clf = pkl.load(open(fmodel_base, 'rb'))\n",
    "else:\n",
    "    clf = OneVsRestClassifier(LogisticRegression(verbose=1))\n",
    "    clf.fit(X_train, Y_train)\n",
    "    pkl.dump(clf, open(fmodel_base, 'wb'))"
   ]
  },
  {
   "cell_type": "code",
   "execution_count": null,
   "metadata": {},
   "outputs": [],
   "source": [
    "dump_results(clf, X_train, Y_train, X_test, Y_test, fperf_base)"
   ]
  },
  {
   "cell_type": "markdown",
   "metadata": {},
   "source": [
    "Cross validation for classifier of each label."
   ]
  },
  {
   "cell_type": "code",
   "execution_count": null,
   "metadata": {
    "scrolled": true
   },
   "outputs": [],
   "source": [
    "%%script false\n",
    "allPreds_train  = [ ]\n",
    "allPreds_test  = [ ]\n",
    "allTruths_train = [ ]\n",
    "allTruths_test = [ ]\n",
    "coefMat = [ ]\n",
    "labelIndices = [ ]\n",
    "\n",
    "ranges = range(-6, 7)\n",
    "parameters = [{'C': sorted([10**(e) for e in ranges] + [3 * 10**(e) for e in ranges])}]\n",
    "scoring = 'average_precision' # 'accuracy' #'precision_macro'\n",
    "\n",
    "for label_ix in range(nLabels):\n",
    "    print('Training for Label %d' % (label_ix+1))\n",
    "    \n",
    "    y_train = Y_train[:, label_ix]\n",
    "    y_test  = Y_test [:, label_ix]\n",
    "    \n",
    "    allTruths_train.append(y_train)\n",
    "    allTruths_test.append(y_test) \n",
    "    \n",
    "    assert( (not np.all(y_train == 0)) and (not np.all(y_train == 1)) )\n",
    "    \n",
    "    # searching for a baseline in (Lin et al.) with:\n",
    "    # test F1 on bibtex 0.372, 26.8 \n",
    "    # test F1 on bookmarks 0.307, 0.219\n",
    "    # test F1 on delicious 0.265, 0.102\n",
    "    \n",
    "    # test F1 on bibtex: 0.3730, 0.277\n",
    "    # test F1 on bookmarks: 0.2912, 0.2072\n",
    "    # test F1 on delicious: 0.1899, 0.1268\n",
    "    #clf = LogisticRegression(C=100)\n",
    "    \n",
    "    # test F1 on bookmarks: 0.2928, 0.2109\n",
    "    #clf = LogisticRegression(C=60)    \n",
    "    \n",
    "    # test F1 on bibtex: 0.4282\n",
    "    #clf = GridSearchCV(LogisticRegression(class_weight='balanced'), parameters, cv=5, scoring=scoring)\n",
    "    \n",
    "    # test F1 on bibtex: < 0.3\n",
    "    # test F1 on bookmarks: 0.2981, 0.2281\n",
    "    # test F1 on delicious: 0.1756, 0.0861\n",
    "    #clf = LogisticRegression()  \n",
    "    \n",
    "    # test F1 on bibtex: 0.4342\n",
    "    #clf = LogisticRegression(class_weight='balanced') \n",
    "    \n",
    "    # test F1 on bibtex: 0.3018\n",
    "    #clf = GridSearchCV(LogisticRegression(), parameters, cv=5, scoring=scoring)\n",
    "    \n",
    "    # test F1 on bibtex: 0.3139\n",
    "    #clf = GridSearchCV(LogisticRegression(), parameters, scoring=scoring)\n",
    "    \n",
    "    # test F1 on bibtex: 0.4252\n",
    "    #clf = GridSearchCV(LogisticRegression(class_weight='balanced'), parameters, scoring=scoring)\n",
    "    \n",
    "    # test F1 on bibtex: 0.3598\n",
    "    #clf = LogisticRegression(C=10) \n",
    "    \n",
    "    # test F1 on bibtex: 0.3670\n",
    "    #clf = LogisticRegression(C=30)\n",
    "    \n",
    "    estimator = LogisticRegression(class_weight='balanced')#, solver='lbfgs')\n",
    "    clf = GridSearchCV(estimator, parameters, cv=5, scoring=scoring, n_jobs=4)\n",
    "    clf.fit(X_train, y_train)\n",
    "\n",
    "    print(\"Best parameters set found on development set:\")\n",
    "    print(clf.best_params_)\n",
    "    print()\n",
    "    \n",
    "    allPreds_train.append(clf.decision_function(X_train))\n",
    "    allPreds_test.append(clf.decision_function(X_test))\n",
    "    \n",
    "allTruths_train = np.array(allTruths_train).T\n",
    "allTruths_test = np.array(allTruths_test).T\n",
    "\n",
    "allPreds_train  = np.array(allPreds_train).T\n",
    "allPreds_test  = np.array(allPreds_test).T\n",
    "\n",
    "print(allPreds_test.shape)\n",
    "print(allTruths_test.shape)"
   ]
  },
  {
   "cell_type": "markdown",
   "metadata": {},
   "source": [
    "## Result analysis"
   ]
  },
  {
   "cell_type": "code",
   "execution_count": null,
   "metadata": {},
   "outputs": [],
   "source": [
    "#coefMat = np.array(coefMat).T\n",
    "#coefMat.shape\n",
    "#sns.heatmap(coefMat[:, :30])"
   ]
  },
  {
   "cell_type": "code",
   "execution_count": null,
   "metadata": {},
   "outputs": [],
   "source": [
    "#precisions_train = [avgPrecision(allTruths_train, allPreds_train, k) for k in range(1, nLabels+1)]\n",
    "#precisions_test  = [avgPrecision(allTruths_test,  allPreds_test,  k) for k in range(1, nLabels+1)]"
   ]
  },
  {
   "cell_type": "code",
   "execution_count": null,
   "metadata": {},
   "outputs": [],
   "source": [
    "#precisionK_train = avgPrecisionK(allTruths_train, allPreds_train)\n",
    "#precisionK_test  = avgPrecisionK(allTruths_test,  allPreds_test)"
   ]
  },
  {
   "cell_type": "code",
   "execution_count": null,
   "metadata": {},
   "outputs": [],
   "source": [
    "%%script false\n",
    "plt.figure(figsize=[10,5])\n",
    "plt.plot(precisions_train, ls='--', c='r', label='Train')\n",
    "plt.plot(precisions_test,  ls='-',  c='g', label='Test')\n",
    "plt.plot([precisionK_train for k in range(nLabels)], ls='-', c='r', label='Train, Precision@K')\n",
    "plt.plot([precisionK_test  for k in range(nLabels)], ls='-', c='g', label='Test, Precision@K')\n",
    "plt.xticks(np.arange(nLabels), np.arange(1,nLabels+1))\n",
    "plt.xlabel('k')\n",
    "plt.ylabel('Precision@k')\n",
    "plt.legend(loc='best')\n",
    "plt.title('Independent Logistic Regression on ' + dataset_name + ' dataset')\n",
    "plt.savefig(dataset_name + '_lr.svg')"
   ]
  }
 ],
 "metadata": {
  "kernelspec": {
   "display_name": "Python 3",
   "language": "python",
   "name": "python3"
  },
  "language_info": {
   "codemirror_mode": {
    "name": "ipython",
    "version": 3
   },
   "file_extension": ".py",
   "mimetype": "text/x-python",
   "name": "python",
   "nbconvert_exporter": "python",
   "pygments_lexer": "ipython3",
   "version": "3.6.3"
  }
 },
 "nbformat": 4,
 "nbformat_minor": 2
}
