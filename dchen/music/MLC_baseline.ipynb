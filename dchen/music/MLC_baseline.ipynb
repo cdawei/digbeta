{
 "cells": [
  {
   "cell_type": "markdown",
   "metadata": {},
   "source": [
    "# Multi-label classification -- binary relevance baseline"
   ]
  },
  {
   "cell_type": "code",
   "execution_count": 1,
   "metadata": {
    "collapsed": true
   },
   "outputs": [],
   "source": [
    "%matplotlib inline\n",
    "%load_ext autoreload\n",
    "%autoreload 2\n",
    "\n",
    "import os, sys, time\n",
    "import pickle as pkl\n",
    "import numpy as np\n",
    "import pandas as pd\n",
    "\n",
    "from sklearn.linear_model import LogisticRegression\n",
    "from sklearn.pipeline import make_pipeline\n",
    "from sklearn.model_selection import train_test_split\n",
    "from sklearn.model_selection import GridSearchCV\n",
    "from sklearn.metrics import classification_report\n",
    "\n",
    "import matplotlib.pyplot as plt\n",
    "import seaborn as sns"
   ]
  },
  {
   "cell_type": "code",
   "execution_count": 2,
   "metadata": {},
   "outputs": [],
   "source": [
    "sys.path.append('src')\n",
    "from evaluate import avgPrecision, avgPrecisionK, printEvaluation\n",
    "from datasets import create_dataset_per_label_yeast_train\n",
    "from datasets import create_dataset_per_label_yeast_test\n",
    "from datasets import create_dataset_per_label_scene_train\n",
    "from datasets import create_dataset_per_label_scene_test\n",
    "from datasets import create_dataset_per_label_mediamill_train\n",
    "from datasets import create_dataset_per_label_mediamill_test\n",
    "from datasets import yeast_nLabels\n",
    "from datasets import scene_nLabels\n",
    "from datasets import mm_nLabels"
   ]
  },
  {
   "cell_type": "code",
   "execution_count": 3,
   "metadata": {
    "collapsed": true
   },
   "outputs": [],
   "source": [
    "datasets = ['yeast', 'scene', 'mediamill']\n",
    "num_labels = [yeast_nLabels, scene_nLabels, mm_nLabels]\n",
    "create_dataset_train_funcs = [create_dataset_per_label_yeast_train, \n",
    "                              create_dataset_per_label_scene_train, \n",
    "                              create_dataset_per_label_mediamill_train]\n",
    "create_dataset_test_funcs  = [create_dataset_per_label_yeast_test,\n",
    "                              create_dataset_per_label_scene_test,\n",
    "                              create_dataset_per_label_mediamill_test]"
   ]
  },
  {
   "cell_type": "code",
   "execution_count": 4,
   "metadata": {
    "collapsed": true
   },
   "outputs": [],
   "source": [
    "data_ix = 1"
   ]
  },
  {
   "cell_type": "code",
   "execution_count": 5,
   "metadata": {
    "collapsed": true
   },
   "outputs": [],
   "source": [
    "dataset_name = datasets[data_ix]\n",
    "nLabels = num_labels[data_ix]\n",
    "create_dataset_train = create_dataset_train_funcs[data_ix]\n",
    "create_dataset_test  = create_dataset_test_funcs [data_ix]"
   ]
  },
  {
   "cell_type": "markdown",
   "metadata": {},
   "source": [
    "## Binary relevance baseline"
   ]
  },
  {
   "cell_type": "markdown",
   "metadata": {},
   "source": [
    "Train a logistic regression model for each label."
   ]
  },
  {
   "cell_type": "code",
   "execution_count": 6,
   "metadata": {
    "scrolled": true
   },
   "outputs": [
    {
     "name": "stdout",
     "output_type": "stream",
     "text": [
      "Training for Label 1\n",
      "Best parameters set found on development set:\n",
      "{'C': 0.1}\n",
      "\n",
      "Training for Label 2\n",
      "Best parameters set found on development set:\n",
      "{'C': 0.1}\n",
      "\n",
      "Training for Label 3\n",
      "Best parameters set found on development set:\n",
      "{'C': 1e-05}\n",
      "\n",
      "Training for Label 4\n",
      "Best parameters set found on development set:\n",
      "{'C': 0.1}\n",
      "\n",
      "Training for Label 5\n",
      "Best parameters set found on development set:\n",
      "{'C': 1e-06}\n",
      "\n",
      "Training for Label 6\n",
      "Best parameters set found on development set:\n",
      "{'C': 0.1}\n",
      "\n"
     ]
    }
   ],
   "source": [
    "allPreds_train  = [ ]\n",
    "allPreds_test  = [ ]\n",
    "allTruths_train = [ ]\n",
    "allTruths_test = [ ]\n",
    "coefMat = [ ]\n",
    "labelIndices = [ ]\n",
    "\n",
    "parameters = [{'C': [10**(e) for e in range(-6,7)]}]\n",
    "scoring = 'average_precision' # 'accuracy' #'precision_macro'\n",
    "\n",
    "for label_ix in range(nLabels):\n",
    "    print('Training for Label %d' % (label_ix+1))\n",
    "    \n",
    "    X_train, y_train = create_dataset_train(label_ix)\n",
    "    X_test, y_test   = create_dataset_test(label_ix)\n",
    "    \n",
    "    allTruths_train.append(y_train)\n",
    "    allTruths_test.append(y_test) \n",
    "    \n",
    "    assert( (not np.all(y_train == 0)) and (not np.all(y_train == 1)) )\n",
    "    \n",
    "    clf = GridSearchCV(LogisticRegression(class_weight='balanced'), parameters, cv=5, scoring=scoring)\n",
    "    clf.fit(X_train, y_train)\n",
    "\n",
    "    print(\"Best parameters set found on development set:\")\n",
    "    print(clf.best_params_)\n",
    "    print()\n",
    "    \n",
    "    allPreds_train.append(clf.decision_function(X_train))\n",
    "    allPreds_test.append(clf.decision_function(X_test))"
   ]
  },
  {
   "cell_type": "code",
   "execution_count": 7,
   "metadata": {},
   "outputs": [
    {
     "name": "stdout",
     "output_type": "stream",
     "text": [
      "(1196, 6)\n",
      "(1196, 6)\n"
     ]
    }
   ],
   "source": [
    "allTruths_train = np.array(allTruths_train).T\n",
    "allTruths_test = np.array(allTruths_test).T\n",
    "\n",
    "allPreds_train  = np.array(allPreds_train).T\n",
    "allPreds_test  = np.array(allPreds_test).T\n",
    "\n",
    "print(allPreds_test.shape)\n",
    "print(allTruths_test.shape)"
   ]
  },
  {
   "cell_type": "code",
   "execution_count": 8,
   "metadata": {
    "collapsed": true
   },
   "outputs": [],
   "source": [
    "#allPreds_test[0]"
   ]
  },
  {
   "cell_type": "code",
   "execution_count": 9,
   "metadata": {},
   "outputs": [
    {
     "name": "stdout",
     "output_type": "stream",
     "text": [
      "Training set:\n",
      "Average Precision@K: 0.6647, 0.013\n",
      "\n",
      "Test set:\n",
      "Average Precision@K: 0.6564, 0.013\n"
     ]
    }
   ],
   "source": [
    "print('Training set:')\n",
    "printEvaluation(allTruths_train, allPreds_train)\n",
    "print()\n",
    "print('Test set:')\n",
    "printEvaluation(allTruths_test, allPreds_test)"
   ]
  },
  {
   "cell_type": "markdown",
   "metadata": {},
   "source": [
    "## Result analysis"
   ]
  },
  {
   "cell_type": "code",
   "execution_count": 10,
   "metadata": {
    "collapsed": true
   },
   "outputs": [],
   "source": [
    "#coefMat = np.array(coefMat).T\n",
    "#coefMat.shape\n",
    "#sns.heatmap(coefMat[:, :30])"
   ]
  },
  {
   "cell_type": "code",
   "execution_count": 11,
   "metadata": {
    "collapsed": true
   },
   "outputs": [],
   "source": [
    "precisions_train = [avgPrecision(allTruths_train, allPreds_train, k) for k in range(1, nLabels+1)]\n",
    "precisions_test  = [avgPrecision(allTruths_test,  allPreds_test,  k) for k in range(1, nLabels+1)]"
   ]
  },
  {
   "cell_type": "code",
   "execution_count": 12,
   "metadata": {
    "collapsed": true
   },
   "outputs": [],
   "source": [
    "precisionK_train = avgPrecisionK(allTruths_train, allPreds_train)\n",
    "precisionK_test  = avgPrecisionK(allTruths_test,  allPreds_test)"
   ]
  },
  {
   "cell_type": "code",
   "execution_count": 13,
   "metadata": {},
   "outputs": [
    {
     "data": {
      "image/png": "[encoded data removed]",
      "text/plain": [
       "<matplotlib.figure.Figure at 0x7fa375aae4e0>"
      ]
     },
     "metadata": {},
     "output_type": "display_data"
    }
   ],
   "source": [
    "plt.figure(figsize=[10,5])\n",
    "plt.plot(precisions_train, ls='--', c='r', label='Train')\n",
    "plt.plot(precisions_test,  ls='-',  c='g', label='Test')\n",
    "plt.plot([precisionK_train for k in range(nLabels)], ls='-', c='r', label='Train, Precision@K')\n",
    "plt.plot([precisionK_test  for k in range(nLabels)], ls='-', c='g', label='Test, Precision@K')\n",
    "plt.xticks(np.arange(nLabels), np.arange(1,nLabels+1))\n",
    "plt.xlabel('k')\n",
    "plt.ylabel('Precision@k')\n",
    "plt.legend(loc='best')\n",
    "plt.title('Independent Logistic Regression on ' + dataset_name + ' dataset')\n",
    "plt.savefig(dataset_name + '_lr.svg')"
   ]
  }
 ],
 "metadata": {
  "kernelspec": {
   "display_name": "Python 3",
   "language": "python",
   "name": "python3"
  },
  "language_info": {
   "codemirror_mode": {
    "name": "ipython",
    "version": 3
   },
   "file_extension": ".py",
   "mimetype": "text/x-python",
   "name": "python",
   "nbconvert_exporter": "python",
   "pygments_lexer": "ipython3",
   "version": "3.6.2"
  }
 },
 "nbformat": 4,
 "nbformat_minor": 2
}
