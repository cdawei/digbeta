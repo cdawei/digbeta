{
 "cells": [
  {
   "cell_type": "markdown",
   "metadata": {},
   "source": [
    "# Multi-label classification -- binary relevance baseline"
   ]
  },
  {
   "cell_type": "code",
   "execution_count": null,
   "metadata": {
    "collapsed": true
   },
   "outputs": [],
   "source": [
    "%matplotlib inline\n",
    "%load_ext autoreload\n",
    "%autoreload 2\n",
    "\n",
    "import os, sys, time\n",
    "import pickle as pkl\n",
    "import numpy as np\n",
    "import pandas as pd\n",
    "\n",
    "from sklearn.base import BaseEstimator\n",
    "from sklearn.linear_model import LogisticRegression\n",
    "from sklearn.multiclass import OneVsRestClassifier\n",
    "from sklearn.pipeline import make_pipeline\n",
    "from sklearn.model_selection import train_test_split\n",
    "from sklearn.model_selection import GridSearchCV\n",
    "from sklearn.metrics import classification_report, make_scorer, f1_score\n",
    "\n",
    "import matplotlib.pyplot as plt\n",
    "import seaborn as sns"
   ]
  },
  {
   "cell_type": "code",
   "execution_count": null,
   "metadata": {
    "collapsed": true
   },
   "outputs": [],
   "source": [
    "sys.path.append('src')\n",
    "from evaluate import avgPrecision, avgPrecisionK, evaluatePrecision, evaluateF1, f1_score_nowarn\n",
    "from datasets import create_dataset, dataset_names, nLabels_dict"
   ]
  },
  {
   "cell_type": "code",
   "execution_count": null,
   "metadata": {},
   "outputs": [],
   "source": [
    "dataset_names"
   ]
  },
  {
   "cell_type": "code",
   "execution_count": null,
   "metadata": {
    "collapsed": true
   },
   "outputs": [],
   "source": [
    "data_ix = 4"
   ]
  },
  {
   "cell_type": "code",
   "execution_count": null,
   "metadata": {},
   "outputs": [],
   "source": [
    "dataset_name = dataset_names[data_ix]\n",
    "nLabels = nLabels_dict[dataset_name]\n",
    "print(dataset_name, nLabels)"
   ]
  },
  {
   "cell_type": "code",
   "execution_count": null,
   "metadata": {
    "collapsed": true
   },
   "outputs": [],
   "source": [
    "data_dir = 'data'\n",
    "fmodel_prec = os.path.join(data_dir, 'lr-' + dataset_name + '-prec.pkl')\n",
    "fmodel_f1 = os.path.join(data_dir, 'lr-' + dataset_name + '-f1.pkl')\n",
    "fmodel_base = os.path.join(data_dir, 'lr-' + dataset_name + '-base.pkl')\n",
    "fperf_prec = os.path.join(data_dir, 'perf-lr-prec.pkl')\n",
    "fperf_f1 = os.path.join(data_dir, 'perf-lr-f1.pkl')\n",
    "fperf_base = os.path.join(data_dir, 'perf-lr-base.pkl')"
   ]
  },
  {
   "cell_type": "markdown",
   "metadata": {},
   "source": [
    "## Binary relevance baseline"
   ]
  },
  {
   "cell_type": "markdown",
   "metadata": {},
   "source": [
    "Train a logistic regression model for each label."
   ]
  },
  {
   "cell_type": "markdown",
   "metadata": {},
   "source": [
    "Note that [OneVsRestClassifier](http://scikit-learn.org/stable/modules/generated/sklearn.multiclass.OneVsRestClassifier.html) can be either a multiclass classifier or a multilabel classifier, see this [binary relevance example on yeast dataset](http://scikit-learn.org/stable/auto_examples/multioutput/plot_classifier_chain_yeast.html)."
   ]
  },
  {
   "cell_type": "markdown",
   "metadata": {},
   "source": [
    "NOTE: To do cross validation (i.e. fit a GridSearchCV), one has to put OneVsRestClassifier into a class wrapper, as  the constructor of OneVsRestClassifier doesn't have a parameter `C`."
   ]
  },
  {
   "cell_type": "code",
   "execution_count": null,
   "metadata": {
    "collapsed": true
   },
   "outputs": [],
   "source": [
    "X_train, Y_train = create_dataset(dataset_name=dataset_name, train_data=True)\n",
    "X_test,  Y_test  = create_dataset(dataset_name=dataset_name, train_data=False)"
   ]
  },
  {
   "cell_type": "code",
   "execution_count": null,
   "metadata": {
    "collapsed": true
   },
   "outputs": [],
   "source": [
    "class BinaryRelevance(BaseEstimator):\n",
    "    \"\"\"\n",
    "        Independent logistic regression based on OneVsRestClassifier wrapper.\n",
    "    \"\"\"\n",
    "    \n",
    "    def __init__(self, C=1):\n",
    "        assert C > 0\n",
    "        self.C = C\n",
    "        self.trained = False\n",
    "        \n",
    "    def fit(self, X_train, Y_train):\n",
    "        assert X_train.shape[0] == Y_train.shape[0]\n",
    "        self.estimator = OneVsRestClassifier(LogisticRegression(class_weight='balanced', C=self.C))\n",
    "        self.estimator.fit(X_train, Y_train)\n",
    "        self.trained = True\n",
    "        \n",
    "    def decision_function(self, X_test):\n",
    "        assert self.trained is True\n",
    "        return self.estimator.decision_function(X_test)\n",
    "    \n",
    "    def predict(self, X_test, binarise=False):\n",
    "    #def predict(self, X_test, binarise=True):\n",
    "        preds = self.decision_function(X_test)\n",
    "        return preds >= 0.5 if binarise is True else preds        "
   ]
  },
  {
   "cell_type": "code",
   "execution_count": null,
   "metadata": {
    "collapsed": true
   },
   "outputs": [],
   "source": [
    "def print_cv_results(clf):\n",
    "    print(\"Best parameters set found on development set:\")\n",
    "    print(clf.best_params_)\n",
    "    for mean, std, params in zip(clf.cv_results_['mean_test_score'], \\\n",
    "                                 clf.cv_results_['std_test_score'], \\\n",
    "                                 clf.cv_results_['params']):\n",
    "        print(\"%0.3f (+/-%0.03f) for %r\" % (mean, std * 2, params))"
   ]
  },
  {
   "cell_type": "code",
   "execution_count": null,
   "metadata": {},
   "outputs": [],
   "source": [
    "ranges = range(-6, 7)\n",
    "parameters = [{'C': sorted([10**(e) for e in ranges] + [3 * 10**(e) for e in ranges])}]\n",
    "print(len(parameters[0]['C']))"
   ]
  },
  {
   "cell_type": "markdown",
   "metadata": {},
   "source": [
    "Cross validation according to precision at K."
   ]
  },
  {
   "cell_type": "code",
   "execution_count": null,
   "metadata": {
    "scrolled": true
   },
   "outputs": [],
   "source": [
    "if os.path.exists(fmodel_prec):\n",
    "    clf = pkl.load(open(fmodel_prec, 'rb'))\n",
    "else:\n",
    "    scorer = make_scorer(avgPrecisionK)\n",
    "    clf = GridSearchCV(BinaryRelevance(), parameters, cv=5, scoring=scorer, verbose=2, n_jobs=2)\n",
    "    clf.fit(X_train, Y_train)\n",
    "    pkl.dump(clf, open(fmodel_prec, 'wb'))\n",
    "print_cv_results(clf)"
   ]
  },
  {
   "cell_type": "code",
   "execution_count": null,
   "metadata": {
    "collapsed": true
   },
   "outputs": [],
   "source": [
    "def dump_results(predictor, X_train, Y_train, X_test, Y_test, fname):\n",
    "    \"\"\"\n",
    "        Compute and save performance results\n",
    "    \"\"\"\n",
    "    preds_train = predictor.decision_function(X_train)\n",
    "    preds_test  = predictor.decision_function(X_test)\n",
    "    \n",
    "    print('Training set:')\n",
    "    perf_dict_train = evaluatePrecision(Y_train, preds_train)\n",
    "    print()\n",
    "    print('Test set:')\n",
    "    perf_dict_test = evaluatePrecision(Y_test, preds_test)\n",
    "    \n",
    "    F1_train = f1_score_nowarn(Y_train, preds_train >= 0.5, average='samples')\n",
    "    F1_test  = f1_score_nowarn(Y_test, preds_test >= 0.5, average='samples')\n",
    "    print('\\nF1 Train: %.4f, %f' % (F1_train, f1_score(Y_train, preds_train >= 0.5, average='samples')))\n",
    "    print('\\nF1 Test : %.4f  %f' % (F1_test, f1_score(Y_test, preds_test >= 0.5, average='samples')))\n",
    "    \n",
    "    perf_dict_train.update({'F1': (F1_train,)})\n",
    "    perf_dict_test.update({'F1': (F1_test,)})\n",
    "    \n",
    "    perf_dict = {'Train': perf_dict_train, 'Test': perf_dict_test}\n",
    "    if os.path.exists(fname):\n",
    "        _dict = pkl.load(open(fname, 'rb'))\n",
    "        if dataset_name not in _dict:\n",
    "            _dict[dataset_name] = perf_dict\n",
    "    else:\n",
    "        _dict = {dataset_name: perf_dict}\n",
    "    pkl.dump(_dict, open(fname, 'wb'))\n",
    "    \n",
    "    print()\n",
    "    print(pkl.load(open(fname, 'rb')))"
   ]
  },
  {
   "cell_type": "code",
   "execution_count": null,
   "metadata": {},
   "outputs": [],
   "source": [
    "dump_results(clf, X_train, Y_train, X_test, Y_test, fperf_prec)"
   ]
  },
  {
   "cell_type": "markdown",
   "metadata": {},
   "source": [
    "Cross validation according to F1."
   ]
  },
  {
   "cell_type": "code",
   "execution_count": null,
   "metadata": {
    "scrolled": true
   },
   "outputs": [],
   "source": [
    "# NOTE: binary predictions (by predict()) are required for this method to work \n",
    "if os.path.exists(fmodel_f1):\n",
    "    clf = pkl.load(open(fmodel_f1, 'rb'))\n",
    "else:\n",
    "    scorer = make_scorer(f1_score_nowarn, average='samples')\n",
    "    clf = GridSearchCV(BinaryRelevance(), parameters, cv=5, scoring=scorer, verbose=2, n_jobs=6)\n",
    "    clf.fit(X_train, Y_train)\n",
    "    pkl.dump(clf, open(fmodel_f1, 'wb'))\n",
    "print_cv_results(clf)"
   ]
  },
  {
   "cell_type": "code",
   "execution_count": null,
   "metadata": {},
   "outputs": [],
   "source": [
    "dump_results(clf, X_train, Y_train, X_test, Y_test, fperf_f1)"
   ]
  },
  {
   "cell_type": "markdown",
   "metadata": {},
   "source": [
    "Plain logistic regression."
   ]
  },
  {
   "cell_type": "code",
   "execution_count": null,
   "metadata": {
    "collapsed": true
   },
   "outputs": [],
   "source": [
    "if os.path.exists(fmodel_base):\n",
    "    clf = pkl.load(open(fmodel_base, 'rb'))\n",
    "else:\n",
    "    clf = OneVsRestClassifier(LogisticRegression(verbose=1))\n",
    "    clf.fit(X_train, Y_train)\n",
    "    pkl.dump(clf, open(fmodel_base, 'wb'))"
   ]
  },
  {
   "cell_type": "code",
   "execution_count": null,
   "metadata": {},
   "outputs": [],
   "source": [
    "dump_results(clf, X_train, Y_train, X_test, Y_test, fperf_base)"
   ]
  },
  {
   "cell_type": "markdown",
   "metadata": {},
   "source": [
    "Cross validation for classifier of each label."
   ]
  },
  {
   "cell_type": "code",
   "execution_count": null,
   "metadata": {
    "collapsed": true,
    "scrolled": true
   },
   "outputs": [],
   "source": [
    "%%script false\n",
    "allPreds_train  = [ ]\n",
    "allPreds_test  = [ ]\n",
    "allTruths_train = [ ]\n",
    "allTruths_test = [ ]\n",
    "coefMat = [ ]\n",
    "labelIndices = [ ]\n",
    "\n",
    "ranges = range(-6, 7)\n",
    "parameters = [{'C': sorted([10**(e) for e in ranges] + [3 * 10**(e) for e in ranges])}]\n",
    "scoring = 'average_precision' # 'accuracy' #'precision_macro'\n",
    "\n",
    "for label_ix in range(nLabels):\n",
    "    print('Training for Label %d' % (label_ix+1))\n",
    "    \n",
    "    y_train = Y_train[:, label_ix]\n",
    "    y_test  = Y_test [:, label_ix]\n",
    "    \n",
    "    allTruths_train.append(y_train)\n",
    "    allTruths_test.append(y_test) \n",
    "    \n",
    "    assert( (not np.all(y_train == 0)) and (not np.all(y_train == 1)) )\n",
    "    \n",
    "    # searching for a baseline in (Lin et al.) with:\n",
    "    # test F1 on bibtex 0.372, 26.8 \n",
    "    # test F1 on bookmarks 0.307, 0.219\n",
    "    # test F1 on delicious 0.265, 0.102\n",
    "    \n",
    "    # test F1 on bibtex: 0.3730, 0.277\n",
    "    # test F1 on bookmarks: 0.2912, 0.2072\n",
    "    # test F1 on delicious: 0.1899, 0.1268\n",
    "    #clf = LogisticRegression(C=100)\n",
    "    \n",
    "    # test F1 on bookmarks: 0.2928, 0.2109\n",
    "    #clf = LogisticRegression(C=60)    \n",
    "    \n",
    "    # test F1 on bibtex: 0.4282\n",
    "    #clf = GridSearchCV(LogisticRegression(class_weight='balanced'), parameters, cv=5, scoring=scoring)\n",
    "    \n",
    "    # test F1 on bibtex: < 0.3\n",
    "    # test F1 on bookmarks: 0.2981, 0.2281\n",
    "    # test F1 on delicious: 0.1756, 0.0861\n",
    "    #clf = LogisticRegression()  \n",
    "    \n",
    "    # test F1 on bibtex: 0.4342\n",
    "    #clf = LogisticRegression(class_weight='balanced') \n",
    "    \n",
    "    # test F1 on bibtex: 0.3018\n",
    "    #clf = GridSearchCV(LogisticRegression(), parameters, cv=5, scoring=scoring)\n",
    "    \n",
    "    # test F1 on bibtex: 0.3139\n",
    "    #clf = GridSearchCV(LogisticRegression(), parameters, scoring=scoring)\n",
    "    \n",
    "    # test F1 on bibtex: 0.4252\n",
    "    #clf = GridSearchCV(LogisticRegression(class_weight='balanced'), parameters, scoring=scoring)\n",
    "    \n",
    "    # test F1 on bibtex: 0.3598\n",
    "    #clf = LogisticRegression(C=10) \n",
    "    \n",
    "    # test F1 on bibtex: 0.3670\n",
    "    #clf = LogisticRegression(C=30)\n",
    "    \n",
    "    estimator = LogisticRegression(class_weight='balanced')#, solver='lbfgs')\n",
    "    clf = GridSearchCV(estimator, parameters, cv=5, scoring=scoring, n_jobs=4)\n",
    "    clf.fit(X_train, y_train)\n",
    "\n",
    "    print(\"Best parameters set found on development set:\")\n",
    "    print(clf.best_params_)\n",
    "    print()\n",
    "    \n",
    "    allPreds_train.append(clf.decision_function(X_train))\n",
    "    allPreds_test.append(clf.decision_function(X_test))\n",
    "    \n",
    "allTruths_train = np.array(allTruths_train).T\n",
    "allTruths_test = np.array(allTruths_test).T\n",
    "\n",
    "allPreds_train  = np.array(allPreds_train).T\n",
    "allPreds_test  = np.array(allPreds_test).T\n",
    "\n",
    "print(allPreds_test.shape)\n",
    "print(allTruths_test.shape)"
   ]
  },
  {
   "cell_type": "markdown",
   "metadata": {},
   "source": [
    "## Result analysis"
   ]
  },
  {
   "cell_type": "code",
   "execution_count": null,
   "metadata": {
    "collapsed": true
   },
   "outputs": [],
   "source": [
    "#coefMat = np.array(coefMat).T\n",
    "#coefMat.shape\n",
    "#sns.heatmap(coefMat[:, :30])"
   ]
  },
  {
   "cell_type": "code",
   "execution_count": null,
   "metadata": {
    "collapsed": true
   },
   "outputs": [],
   "source": [
    "#precisions_train = [avgPrecision(allTruths_train, allPreds_train, k) for k in range(1, nLabels+1)]\n",
    "#precisions_test  = [avgPrecision(allTruths_test,  allPreds_test,  k) for k in range(1, nLabels+1)]"
   ]
  },
  {
   "cell_type": "code",
   "execution_count": null,
   "metadata": {
    "collapsed": true
   },
   "outputs": [],
   "source": [
    "#precisionK_train = avgPrecisionK(allTruths_train, allPreds_train)\n",
    "#precisionK_test  = avgPrecisionK(allTruths_test,  allPreds_test)"
   ]
  },
  {
   "cell_type": "code",
   "execution_count": null,
   "metadata": {
    "collapsed": true
   },
   "outputs": [],
   "source": [
    "%%script false\n",
    "plt.figure(figsize=[10,5])\n",
    "plt.plot(precisions_train, ls='--', c='r', label='Train')\n",
    "plt.plot(precisions_test,  ls='-',  c='g', label='Test')\n",
    "plt.plot([precisionK_train for k in range(nLabels)], ls='-', c='r', label='Train, Precision@K')\n",
    "plt.plot([precisionK_test  for k in range(nLabels)], ls='-', c='g', label='Test, Precision@K')\n",
    "plt.xticks(np.arange(nLabels), np.arange(1,nLabels+1))\n",
    "plt.xlabel('k')\n",
    "plt.ylabel('Precision@k')\n",
    "plt.legend(loc='best')\n",
    "plt.title('Independent Logistic Regression on ' + dataset_name + ' dataset')\n",
    "plt.savefig(dataset_name + '_lr.svg')"
   ]
  }
 ],
 "metadata": {
  "kernelspec": {
   "display_name": "Python 3",
   "language": "python",
   "name": "python3"
  },
  "language_info": {
   "codemirror_mode": {
    "name": "ipython",
    "version": 3
   },
   "file_extension": ".py",
   "mimetype": "text/x-python",
   "name": "python",
   "nbconvert_exporter": "python",
   "pygments_lexer": "ipython3",
   "version": "3.6.3"
  }
 },
 "nbformat": 4,
 "nbformat_minor": 2
}
