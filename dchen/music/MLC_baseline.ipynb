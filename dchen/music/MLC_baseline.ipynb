{
 "cells": [
  {
   "cell_type": "markdown",
   "metadata": {},
   "source": [
    "# Multi-label classification -- binary relevance baseline"
   ]
  },
  {
   "cell_type": "code",
   "execution_count": 1,
   "metadata": {
    "collapsed": true
   },
   "outputs": [],
   "source": [
    "%matplotlib inline\n",
    "%load_ext autoreload\n",
    "%autoreload 2\n",
    "\n",
    "import os, sys, time\n",
    "import pickle as pkl\n",
    "import numpy as np\n",
    "import pandas as pd\n",
    "\n",
    "from sklearn.linear_model import LogisticRegression\n",
    "from sklearn.pipeline import make_pipeline\n",
    "from sklearn.model_selection import train_test_split\n",
    "from sklearn.model_selection import GridSearchCV\n",
    "from sklearn.metrics import classification_report\n",
    "\n",
    "import matplotlib.pyplot as plt\n",
    "import seaborn as sns"
   ]
  },
  {
   "cell_type": "code",
   "execution_count": 2,
   "metadata": {},
   "outputs": [],
   "source": [
    "sys.path.append('src')\n",
    "from evaluate import avgPrecision, avgPrecisionK, evaluationPrecision, evaluationF1\n",
    "from datasets import create_dataset, dataset_names, nLabels_dict"
   ]
  },
  {
   "cell_type": "code",
   "execution_count": 3,
   "metadata": {},
   "outputs": [
    {
     "data": {
      "text/plain": [
       "['yeast', 'scene', 'bibtex', 'bookmarks', 'delicious', 'mediamill']"
      ]
     },
     "execution_count": 3,
     "metadata": {},
     "output_type": "execute_result"
    }
   ],
   "source": [
    "dataset_names"
   ]
  },
  {
   "cell_type": "code",
   "execution_count": 4,
   "metadata": {
    "collapsed": true
   },
   "outputs": [],
   "source": [
    "data_ix = 3"
   ]
  },
  {
   "cell_type": "code",
   "execution_count": 5,
   "metadata": {},
   "outputs": [
    {
     "name": "stdout",
     "output_type": "stream",
     "text": [
      "bookmarks 208\n"
     ]
    }
   ],
   "source": [
    "dataset_name = dataset_names[data_ix]\n",
    "nLabels = nLabels_dict[dataset_name]\n",
    "print(dataset_name, nLabels)"
   ]
  },
  {
   "cell_type": "code",
   "execution_count": 6,
   "metadata": {
    "collapsed": true
   },
   "outputs": [],
   "source": [
    "data_dir = 'data'\n",
    "fmodel = os.path.join(data_dir, 'lr-' + dataset_name + '.pkl')\n",
    "fperf  = os.path.join(data_dir, 'perf-lr.pkl')"
   ]
  },
  {
   "cell_type": "markdown",
   "metadata": {},
   "source": [
    "## Binary relevance baseline"
   ]
  },
  {
   "cell_type": "markdown",
   "metadata": {},
   "source": [
    "Train a logistic regression model for each label."
   ]
  },
  {
   "cell_type": "code",
   "execution_count": null,
   "metadata": {
    "collapsed": true
   },
   "outputs": [],
   "source": [
    "X_train, Y_train = create_dataset(dataset_name=dataset_name, train_data=True)\n",
    "X_test,  Y_test  = create_dataset(dataset_name=dataset_name, train_data=False)"
   ]
  },
  {
   "cell_type": "code",
   "execution_count": null,
   "metadata": {
    "scrolled": true
   },
   "outputs": [
    {
     "name": "stdout",
     "output_type": "stream",
     "text": [
      "Training for Label 1\n",
      "Best parameters set found on development set:\n",
      "{'C': 0.001}\n",
      "\n",
      "Training for Label 2\n",
      "Best parameters set found on development set:\n",
      "{'C': 0.01}\n",
      "\n",
      "Training for Label 3\n",
      "Best parameters set found on development set:\n",
      "{'C': 0.001}\n",
      "\n",
      "Training for Label 4\n",
      "Best parameters set found on development set:\n",
      "{'C': 0.01}\n",
      "\n",
      "Training for Label 5\n",
      "Best parameters set found on development set:\n",
      "{'C': 0.001}\n",
      "\n",
      "Training for Label 6\n",
      "Best parameters set found on development set:\n",
      "{'C': 0.01}\n",
      "\n",
      "Training for Label 7\n",
      "Best parameters set found on development set:\n",
      "{'C': 0.001}\n",
      "\n",
      "Training for Label 8\n",
      "Best parameters set found on development set:\n",
      "{'C': 0.01}\n",
      "\n",
      "Training for Label 9\n",
      "Best parameters set found on development set:\n",
      "{'C': 0.01}\n",
      "\n",
      "Training for Label 10\n",
      "Best parameters set found on development set:\n",
      "{'C': 0.001}\n",
      "\n",
      "Training for Label 11\n",
      "Best parameters set found on development set:\n",
      "{'C': 0.001}\n",
      "\n",
      "Training for Label 12\n",
      "Best parameters set found on development set:\n",
      "{'C': 0.001}\n",
      "\n",
      "Training for Label 13\n",
      "Best parameters set found on development set:\n",
      "{'C': 0.001}\n",
      "\n",
      "Training for Label 14\n",
      "Best parameters set found on development set:\n",
      "{'C': 0.01}\n",
      "\n",
      "Training for Label 15\n",
      "Best parameters set found on development set:\n",
      "{'C': 0.001}\n",
      "\n",
      "Training for Label 16\n",
      "Best parameters set found on development set:\n",
      "{'C': 0.001}\n",
      "\n",
      "Training for Label 17\n",
      "Best parameters set found on development set:\n",
      "{'C': 0.001}\n",
      "\n",
      "Training for Label 18\n",
      "Best parameters set found on development set:\n",
      "{'C': 0.001}\n",
      "\n",
      "Training for Label 19\n",
      "Best parameters set found on development set:\n",
      "{'C': 0.001}\n",
      "\n",
      "Training for Label 20\n",
      "Best parameters set found on development set:\n",
      "{'C': 0.01}\n",
      "\n",
      "Training for Label 21\n",
      "Best parameters set found on development set:\n",
      "{'C': 0.01}\n",
      "\n",
      "Training for Label 22\n",
      "Best parameters set found on development set:\n",
      "{'C': 0.001}\n",
      "\n",
      "Training for Label 23\n",
      "Best parameters set found on development set:\n",
      "{'C': 0.01}\n",
      "\n",
      "Training for Label 24\n",
      "Best parameters set found on development set:\n",
      "{'C': 0.01}\n",
      "\n",
      "Training for Label 25\n",
      "Best parameters set found on development set:\n",
      "{'C': 0.01}\n",
      "\n",
      "Training for Label 26\n",
      "Best parameters set found on development set:\n",
      "{'C': 0.01}\n",
      "\n",
      "Training for Label 27\n",
      "Best parameters set found on development set:\n",
      "{'C': 0.001}\n",
      "\n",
      "Training for Label 28\n",
      "Best parameters set found on development set:\n",
      "{'C': 0.001}\n",
      "\n",
      "Training for Label 29\n",
      "Best parameters set found on development set:\n",
      "{'C': 0.001}\n",
      "\n",
      "Training for Label 30\n",
      "Best parameters set found on development set:\n",
      "{'C': 0.001}\n",
      "\n",
      "Training for Label 31\n"
     ]
    }
   ],
   "source": [
    "allPreds_train  = [ ]\n",
    "allPreds_test  = [ ]\n",
    "allTruths_train = [ ]\n",
    "allTruths_test = [ ]\n",
    "coefMat = [ ]\n",
    "labelIndices = [ ]\n",
    "\n",
    "parameters = [{'C': [10**(e) for e in range(-6,7)]}]\n",
    "scoring = 'average_precision' # 'accuracy' #'precision_macro'\n",
    "\n",
    "for label_ix in range(nLabels):\n",
    "    print('Training for Label %d' % (label_ix+1))\n",
    "    \n",
    "    y_train = Y_train[:, label_ix]\n",
    "    y_test  = Y_test [:, label_ix]\n",
    "    \n",
    "    allTruths_train.append(y_train)\n",
    "    allTruths_test.append(y_test) \n",
    "    \n",
    "    assert( (not np.all(y_train == 0)) and (not np.all(y_train == 1)) )\n",
    "    \n",
    "    # search for a baseline with test F1 on bibtex 0.372 (Lin et al.)\n",
    "    \n",
    "    # test F1 on bibtex: 0.3730\n",
    "    #clf = LogisticRegression(C=100)\n",
    "    \n",
    "    # test F1 on bibtex: 0.4282\n",
    "    #clf = GridSearchCV(LogisticRegression(class_weight='balanced'), parameters, cv=5, scoring=scoring)\n",
    "    \n",
    "    # test F1 on bibtex: < 0.3\n",
    "    #clf = LogisticRegression()  \n",
    "    \n",
    "    # test F1 on bibtex: 0.4342\n",
    "    #clf = LogisticRegression(class_weight='balanced') \n",
    "    \n",
    "    # test F1 on bibtex: 0.3018\n",
    "    #clf = GridSearchCV(LogisticRegression(), parameters, cv=5, scoring=scoring)\n",
    "    \n",
    "    # test F1 on bibtex: 0.3139\n",
    "    #clf = GridSearchCV(LogisticRegression(), parameters, scoring=scoring)\n",
    "    \n",
    "    # test F1 on bibtex: 0.4252\n",
    "    #clf = GridSearchCV(LogisticRegression(class_weight='balanced'), parameters, scoring=scoring)\n",
    "    \n",
    "    # test F1 on bibtex: 0.3598\n",
    "    #clf = LogisticRegression(C=10) \n",
    "    \n",
    "    # test F1 on bibtex: 0.3670\n",
    "    #clf = LogisticRegression(C=30)\n",
    "    \n",
    "    clf = GridSearchCV(LogisticRegression(class_weight='balanced'), parameters, cv=5, scoring=scoring)\n",
    "    clf.fit(X_train, y_train)\n",
    "\n",
    "    print(\"Best parameters set found on development set:\")\n",
    "    print(clf.best_params_)\n",
    "    print()\n",
    "    \n",
    "    allPreds_train.append(clf.decision_function(X_train))\n",
    "    allPreds_test.append(clf.decision_function(X_test))"
   ]
  },
  {
   "cell_type": "code",
   "execution_count": null,
   "metadata": {},
   "outputs": [],
   "source": [
    "allTruths_train = np.array(allTruths_train).T\n",
    "allTruths_test = np.array(allTruths_test).T\n",
    "\n",
    "allPreds_train  = np.array(allPreds_train).T\n",
    "allPreds_test  = np.array(allPreds_test).T\n",
    "\n",
    "print(allPreds_test.shape)\n",
    "print(allTruths_test.shape)"
   ]
  },
  {
   "cell_type": "code",
   "execution_count": null,
   "metadata": {
    "collapsed": true
   },
   "outputs": [],
   "source": [
    "#allPreds_test[0]"
   ]
  },
  {
   "cell_type": "code",
   "execution_count": null,
   "metadata": {},
   "outputs": [],
   "source": [
    "print('Training set:')\n",
    "perf_dict_train = evaluationPrecision(allTruths_train, allPreds_train)\n",
    "print()\n",
    "print('Test set:')\n",
    "perf_dict_test = evaluationPrecision(allTruths_test, allPreds_test)"
   ]
  },
  {
   "cell_type": "code",
   "execution_count": null,
   "metadata": {},
   "outputs": [],
   "source": [
    "print('Training set:')\n",
    "f1_train = evaluationF1(allTruths_train, allPreds_train >= 0.5)\n",
    "print()\n",
    "print('Test set:')\n",
    "f1_test = evaluationF1(allTruths_test, allPreds_test >= 0.5)"
   ]
  },
  {
   "cell_type": "code",
   "execution_count": null,
   "metadata": {
    "collapsed": true
   },
   "outputs": [],
   "source": [
    "perf_dict_train.update(f1_train)\n",
    "perf_dict_test.update(f1_test)"
   ]
  },
  {
   "cell_type": "code",
   "execution_count": null,
   "metadata": {},
   "outputs": [],
   "source": [
    "print(perf_dict_train)\n",
    "print(perf_dict_test)"
   ]
  },
  {
   "cell_type": "code",
   "execution_count": null,
   "metadata": {},
   "outputs": [],
   "source": [
    "fperf"
   ]
  },
  {
   "cell_type": "code",
   "execution_count": null,
   "metadata": {
    "collapsed": true
   },
   "outputs": [],
   "source": [
    "perf_dict = {'Train': perf_dict_train, 'Test': perf_dict_test}\n",
    "if os.path.exists(fperf):\n",
    "    _dict = pkl.load(open(fperf, 'rb'))\n",
    "    if dataset_name not in _dict:\n",
    "        _dict[dataset_name] = perf_dict\n",
    "else:\n",
    "    _dict = {dataset_name: perf_dict}\n",
    "pkl.dump(_dict, open(fperf, 'wb'))"
   ]
  },
  {
   "cell_type": "code",
   "execution_count": null,
   "metadata": {},
   "outputs": [],
   "source": [
    "pkl.load(open(fperf, 'rb'))"
   ]
  },
  {
   "cell_type": "markdown",
   "metadata": {},
   "source": [
    "## Result analysis"
   ]
  },
  {
   "cell_type": "code",
   "execution_count": null,
   "metadata": {
    "collapsed": true
   },
   "outputs": [],
   "source": [
    "#coefMat = np.array(coefMat).T\n",
    "#coefMat.shape\n",
    "#sns.heatmap(coefMat[:, :30])"
   ]
  },
  {
   "cell_type": "code",
   "execution_count": null,
   "metadata": {
    "collapsed": true
   },
   "outputs": [],
   "source": [
    "precisions_train = [avgPrecision(allTruths_train, allPreds_train, k) for k in range(1, nLabels+1)]\n",
    "precisions_test  = [avgPrecision(allTruths_test,  allPreds_test,  k) for k in range(1, nLabels+1)]"
   ]
  },
  {
   "cell_type": "code",
   "execution_count": null,
   "metadata": {
    "collapsed": true
   },
   "outputs": [],
   "source": [
    "precisionK_train = avgPrecisionK(allTruths_train, allPreds_train)\n",
    "precisionK_test  = avgPrecisionK(allTruths_test,  allPreds_test)"
   ]
  },
  {
   "cell_type": "code",
   "execution_count": null,
   "metadata": {
    "collapsed": true
   },
   "outputs": [],
   "source": [
    "plt.figure(figsize=[10,5])\n",
    "plt.plot(precisions_train, ls='--', c='r', label='Train')\n",
    "plt.plot(precisions_test,  ls='-',  c='g', label='Test')\n",
    "plt.plot([precisionK_train for k in range(nLabels)], ls='-', c='r', label='Train, Precision@K')\n",
    "plt.plot([precisionK_test  for k in range(nLabels)], ls='-', c='g', label='Test, Precision@K')\n",
    "plt.xticks(np.arange(nLabels), np.arange(1,nLabels+1))\n",
    "plt.xlabel('k')\n",
    "plt.ylabel('Precision@k')\n",
    "plt.legend(loc='best')\n",
    "plt.title('Independent Logistic Regression on ' + dataset_name + ' dataset')\n",
    "plt.savefig(dataset_name + '_lr.svg')"
   ]
  }
 ],
 "metadata": {
  "kernelspec": {
   "display_name": "Python 3",
   "language": "python",
   "name": "python3"
  },
  "language_info": {
   "codemirror_mode": {
    "name": "ipython",
    "version": 3
   },
   "file_extension": ".py",
   "mimetype": "text/x-python",
   "name": "python",
   "nbconvert_exporter": "python",
   "pygments_lexer": "ipython3",
   "version": "3.6.3"
  }
 },
 "nbformat": 4,
 "nbformat_minor": 2
}
