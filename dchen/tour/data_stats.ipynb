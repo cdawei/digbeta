{
 "cells": [
  {
   "cell_type": "code",
   "execution_count": null,
   "metadata": {
    "collapsed": true
   },
   "outputs": [],
   "source": [
    "%matplotlib inline\n",
    "\n",
    "import sys\n",
    "import numpy as np\n",
    "import pandas as pd\n",
    "import matplotlib.pyplot as plt"
   ]
  },
  {
   "cell_type": "code",
   "execution_count": null,
   "metadata": {
    "collapsed": false
   },
   "outputs": [],
   "source": [
    "sys.path.append('src/')\n",
    "from shared import TrajData"
   ]
  },
  {
   "cell_type": "code",
   "execution_count": null,
   "metadata": {
    "collapsed": true
   },
   "outputs": [],
   "source": [
    "dat_ix = 0"
   ]
  },
  {
   "cell_type": "code",
   "execution_count": null,
   "metadata": {
    "collapsed": true
   },
   "outputs": [],
   "source": [
    "dat_obj = TrajData(dat_ix)"
   ]
  },
  {
   "cell_type": "markdown",
   "metadata": {},
   "source": [
    "Plot the **histogram of the number of trajectories** over queries."
   ]
  },
  {
   "cell_type": "code",
   "execution_count": null,
   "metadata": {
    "collapsed": false
   },
   "outputs": [],
   "source": [
    "plt.figure(figsize=[15, 5])\n",
    "ax = plt.subplot()\n",
    "ax.set_xlabel('#Trajectories')\n",
    "ax.set_ylabel('#Queries')\n",
    "ax.set_title('Histogram of #Trajectories')\n",
    "queries = sorted(dat_obj.TRAJID_GROUP_DICT.keys())\n",
    "X = [len(dat_obj.TRAJID_GROUP_DICT[q]) for q in queries]\n",
    "pd.Series(X).hist(ax=ax, bins=20)"
   ]
  },
  {
   "cell_type": "markdown",
   "metadata": {},
   "source": [
    "Plot the **histogram of the length of trajectory given a start point**."
   ]
  },
  {
   "cell_type": "code",
   "execution_count": null,
   "metadata": {
    "collapsed": false
   },
   "outputs": [],
   "source": [
    "dat_obj.poi_all.index"
   ]
  },
  {
   "cell_type": "code",
   "execution_count": null,
   "metadata": {
    "collapsed": false
   },
   "outputs": [],
   "source": [
    "startPOI = 20\n",
    "X = [len(dat_obj.traj_dict[tid]) for tid in dat_obj.trajid_set_all \\\n",
    "     if dat_obj.traj_dict[tid][0] == startPOI and len(dat_obj.traj_dict[tid]) >= 2]\n",
    "if len(X) > 0: \n",
    "    plt.figure(figsize=[15, 5])\n",
    "    ax = plt.subplot()\n",
    "    ax.set_xlabel('Trajectory Length')\n",
    "    ax.set_ylabel('#Trajectories')\n",
    "    ax.set_title('Histogram of Trajectory Length (startPOI: %d)' % startPOI)\n",
    "    pd.Series(X).hist(ax=ax, bins=20)\n",
    "print('Trajectory Length:', X)"
   ]
  },
  {
   "cell_type": "markdown",
   "metadata": {},
   "source": [
    "Compute the **ratio of multi-label when query=(start, length)**."
   ]
  },
  {
   "cell_type": "code",
   "execution_count": null,
   "metadata": {
    "collapsed": false
   },
   "outputs": [],
   "source": [
    "multi_label_queries = [q for q in dat_obj.TRAJID_GROUP_DICT if len(dat_obj.TRAJID_GROUP_DICT[q]) > 1]\n",
    "nqueries = len(dat_obj.TRAJID_GROUP_DICT)\n",
    "print('%d/%d ~ %.1f%%' % (len(multi_label_queries), nqueries, 100 * len(multi_label_queries) / nqueries))"
   ]
  },
  {
   "cell_type": "markdown",
   "metadata": {},
   "source": [
    "Compute the **ratio of multi-label when query=(start, user)**."
   ]
  },
  {
   "cell_type": "code",
   "execution_count": null,
   "metadata": {
    "collapsed": false
   },
   "outputs": [],
   "source": [
    "dat_obj.traj_user['userID'].unique().shape"
   ]
  },
  {
   "cell_type": "code",
   "execution_count": null,
   "metadata": {
    "collapsed": true
   },
   "outputs": [],
   "source": [
    "query_dict = dict()\n",
    "for tid in dat_obj.trajid_set_all:\n",
    "    t = dat_obj.traj_dict[tid]\n",
    "    if len(t) >= 2:\n",
    "        query = (t[0], dat_obj.traj_user.loc[tid, 'userID'])\n",
    "        try: query_dict[query].add(tid)\n",
    "        except: query_dict[query] = set({tid})"
   ]
  },
  {
   "cell_type": "code",
   "execution_count": null,
   "metadata": {
    "collapsed": false
   },
   "outputs": [],
   "source": [
    "multi_label_queries = [q for q in query_dict.keys() if len(query_dict[q]) > 1]\n",
    "print('%d/%d ~ %.1f%%' % (len(multi_label_queries), len(query_dict), 100 * len(multi_label_queries) / len(query_dict)))"
   ]
  },
  {
   "cell_type": "markdown",
   "metadata": {},
   "source": [
    "Compute the **ratio of multi-label when query=(start, user, length)**."
   ]
  },
  {
   "cell_type": "code",
   "execution_count": null,
   "metadata": {
    "collapsed": true
   },
   "outputs": [],
   "source": [
    "query_dict = dict()\n",
    "for tid in dat_obj.trajid_set_all:\n",
    "    t = dat_obj.traj_dict[tid]\n",
    "    if len(t) >= 2:\n",
    "        query = (t[0], dat_obj.traj_user.loc[tid, 'userID'], len(t))\n",
    "        try: query_dict[query].add(tid)\n",
    "        except: query_dict[query] = set({tid})"
   ]
  },
  {
   "cell_type": "code",
   "execution_count": null,
   "metadata": {
    "collapsed": false
   },
   "outputs": [],
   "source": [
    "multi_label_queries = [q for q in query_dict.keys() if len(query_dict[q]) > 1]\n",
    "print('%d/%d ~ %.1f%%' % (len(multi_label_queries), len(query_dict), 100 * len(multi_label_queries) / len(query_dict)))"
   ]
  }
 ],
 "metadata": {
  "kernelspec": {
   "display_name": "Python [default]",
   "language": "python",
   "name": "python3"
  },
  "language_info": {
   "codemirror_mode": {
    "name": "ipython",
    "version": 3
   },
   "file_extension": ".py",
   "mimetype": "text/x-python",
   "name": "python",
   "nbconvert_exporter": "python",
   "pygments_lexer": "ipython3",
   "version": "3.5.2"
  }
 },
 "nbformat": 4,
 "nbformat_minor": 2
}
