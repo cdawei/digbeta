{
 "cells": [
  {
   "cell_type": "markdown",
   "metadata": {
    "collapsed": true
   },
   "source": [
    "# Trajectory Recommendation - Baselines"
   ]
  },
  {
   "cell_type": "markdown",
   "metadata": {},
   "source": [
    "1. [Random Guessing](#1.-Random-Guessing)\n",
    "1. [POI Scoring](#2.-POI-Scoring)\n",
    " 1. [Pairwise POI ranking using RankSVM](#2.1-Pairwise-POI-ranking-using-RankSVM)\n",
    " 1. [POI occurrence prediction](#2.2-POI-occurrence-prediction)\n",
    " 1. [Direct rank/location prediction](#2.3-Direct-rank/location-prediction)\n",
    " 1. [Pairwise POI ranking](#2.4-Pairwise-POI-ranking)\n",
    "1. [Trajectory Scoring](#3.-Trajectory-Scoring)\n",
    " 1. [Transition Matrix between POIs](#3.1-Transition-Matrix-between-POIs)\n",
    " 1. [Inference: Viterbi Decoding vs ILP](#3.2-Inference:-Viterbi-Decoding-vs-ILP)\n",
    " 1. [Naively combine POI ranking and transition probabilities](#3.3-Naively-combine-POI-ranking-and-transition-probabilities)"
   ]
  },
  {
   "cell_type": "code",
   "execution_count": null,
   "metadata": {
    "collapsed": true
   },
   "outputs": [],
   "source": [
    "#% matplotlib inline\n",
    "\n",
    "import os, sys, time, pickle, tempfile\n",
    "import math, random, itertools\n",
    "import pandas as pd\n",
    "import numpy as np\n",
    "from scipy.linalg import kron\n",
    "from scipy.optimize import minimize\n",
    "\n",
    "from sklearn.linear_model import LinearRegression\n",
    "from sklearn.linear_model import LogisticRegression\n",
    "from sklearn.preprocessing import MinMaxScaler, StandardScaler, MaxAbsScaler\n",
    "\n",
    "from joblib import Parallel, delayed\n",
    "import cython\n",
    "import pulp"
   ]
  },
  {
   "cell_type": "code",
   "execution_count": null,
   "metadata": {
    "collapsed": true
   },
   "outputs": [],
   "source": [
    "sys.path.append('src')"
   ]
  },
  {
   "cell_type": "code",
   "execution_count": null,
   "metadata": {
    "collapsed": true
   },
   "outputs": [],
   "source": [
    "from shared import TrajData, evaluate, do_evaluation, DF_COLUMNS, LOG_SMALL\n",
    "from ssvm import calc_node_features"
   ]
  },
  {
   "cell_type": "code",
   "execution_count": null,
   "metadata": {
    "collapsed": true
   },
   "outputs": [],
   "source": [
    "derived_features = ['trajLen', 'sameCatStart', 'distStart', 'diffPopStart', 'diffNVisitStart', \n",
    "                    'diffDurationStart', 'sameNeighbourhoodStart']"
   ]
  },
  {
   "cell_type": "code",
   "execution_count": null,
   "metadata": {
    "collapsed": true
   },
   "outputs": [],
   "source": [
    "random.seed(1234567890)\n",
    "np.random.seed(1234567890)\n",
    "ranksvm_dir = '$HOME/work/ranksvm'  # directory that contains rankSVM binaries: train, predict, svm-scale"
   ]
  },
  {
   "cell_type": "code",
   "execution_count": null,
   "metadata": {
    "collapsed": true
   },
   "outputs": [],
   "source": [
    "dat_ix = 4\n",
    "data_dir = 'data/data-new'"
   ]
  },
  {
   "cell_type": "code",
   "execution_count": null,
   "metadata": {
    "collapsed": true
   },
   "outputs": [],
   "source": [
    "dat_obj = TrajData(dat_ix, data_dir=data_dir)"
   ]
  },
  {
   "cell_type": "markdown",
   "metadata": {},
   "source": [
    "Hyperparameters."
   ]
  },
  {
   "cell_type": "code",
   "execution_count": null,
   "metadata": {
    "collapsed": true
   },
   "outputs": [],
   "source": [
    "N_JOBS = 6         # number of parallel jobs\n",
    "USE_GUROBI = False # whether to use GUROBI as ILP solver\n",
    "ABS_SCALER = False  # feature scaling, True: MaxAbsScaler, False: MinMaxScaler #False: StandardScaler\n",
    "C_SET = [0.01, 0.03, 0.1, 0.3, 1, 3, 10, 30, 100, 300, 1000, 3000]  # regularisation parameter\n",
    "ALPHA_SET = [0.01, 0.1, 0.3, 0.5, 0.7, 0.9, 0.99]  # trade-off parameter\n",
    "MC_PORTION = 0.1   # the portion of data that sampled by Monte-Carlo cross-validation\n",
    "MC_NITER = 5       # number of iterations for Monte-Carlo cross-validation"
   ]
  },
  {
   "cell_type": "markdown",
   "metadata": {},
   "source": [
    "Method switches."
   ]
  },
  {
   "cell_type": "code",
   "execution_count": null,
   "metadata": {
    "collapsed": true
   },
   "outputs": [],
   "source": [
    "run_rand = False\n",
    "run_rand_topk = True\n",
    "run_rank = False\n",
    "run_rank_topk = False\n",
    "run_logreg = False\n",
    "run_linreg = False\n",
    "run_pwr = False\n",
    "run_tran = False\n",
    "run_comb = False"
   ]
  },
  {
   "cell_type": "markdown",
   "metadata": {},
   "source": [
    "# 1. Random Guessing"
   ]
  },
  {
   "cell_type": "code",
   "execution_count": null,
   "metadata": {
    "collapsed": true
   },
   "outputs": [],
   "source": [
    "if run_rand == True:\n",
    "    recdict_rand = dict()\n",
    "    cnt = 1\n",
    "    keys = sorted(dat_obj.TRAJID_GROUP_DICT.keys())\n",
    "\n",
    "    # outer loop to evaluate the test performance by cross validation\n",
    "    for i in range(len(keys)):\n",
    "        ps, L = keys[i]\n",
    "\n",
    "        # train model using all examples in training set and measure performance on test set\n",
    "        trajid_set_train = set(dat_obj.trajid_set_all) - dat_obj.TRAJID_GROUP_DICT[keys[i]]\n",
    "        poi_set = {poi for tid in trajid_set_train for poi in dat_obj.traj_dict[tid]}\n",
    "        if ps not in poi_set: continue\n",
    "            \n",
    "        poi_list = sorted(poi_set)\n",
    "        np.random.shuffle(poi_list)\n",
    "        recdict_rand[(ps, L)] = {'PRED': [[ps] + poi_list[:L-1]]}\n",
    "       \n",
    "        #print_progress(cnt, len(keys)); cnt += 1; sys.stdout.flush()\n",
    "    print()"
   ]
  },
  {
   "cell_type": "code",
   "execution_count": null,
   "metadata": {
    "collapsed": true
   },
   "outputs": [],
   "source": [
    "if run_rand == True:\n",
    "    do_evaluation(dat_obj, recdict_rand)"
   ]
  },
  {
   "cell_type": "code",
   "execution_count": null,
   "metadata": {
    "collapsed": true
   },
   "outputs": [],
   "source": [
    "if run_rand == True:\n",
    "    frand = os.path.join(data_dir, 'rand-' + dat_obj.dat_suffix[dat_ix] + '.pkl')\n",
    "    pickle.dump(recdict_rand, open(frand, 'bw'))"
   ]
  },
  {
   "cell_type": "code",
   "execution_count": null,
   "metadata": {
    "collapsed": true
   },
   "outputs": [],
   "source": [
    "if run_rand_topk == True:\n",
    "    recdict_rand = dict()\n",
    "    cnt = 1\n",
    "    keys = sorted(dat_obj.TRAJID_GROUP_DICT.keys())\n",
    "\n",
    "    # outer loop to evaluate the test performance by cross validation\n",
    "    for i in range(len(keys)):\n",
    "        ps, L = keys[i]\n",
    "\n",
    "        # train model using all examples in training set and measure performance on test set\n",
    "        trajid_set_train = set(dat_obj.trajid_set_all) - dat_obj.TRAJID_GROUP_DICT[keys[i]]\n",
    "        poi_set = {poi for tid in trajid_set_train for poi in dat_obj.traj_dict[tid]}\n",
    "        if ps not in poi_set: continue\n",
    "            \n",
    "        poi_list = sorted(poi_set - set([ps]))\n",
    "        results = []\n",
    "        for k in range(10):\n",
    "            np.random.shuffle(poi_list)\n",
    "            results.append([ps] + poi_list[:L-1])\n",
    "        recdict_rand[(ps, L)] = {'PRED': results}\n",
    "       \n",
    "        #print_progress(cnt, len(keys)); cnt += 1; sys.stdout.flush()\n",
    "    #print()"
   ]
  },
  {
   "cell_type": "code",
   "execution_count": null,
   "metadata": {},
   "outputs": [],
   "source": [
    "if run_rand_topk == True:\n",
    "    do_evaluation(dat_obj, recdict_rand)\n",
    "    frand = os.path.join(data_dir, 'rand10-' + dat_obj.dat_suffix[dat_ix] + '.pkl')\n",
    "    pickle.dump(recdict_rand, open(frand, 'bw'))"
   ]
  },
  {
   "cell_type": "markdown",
   "metadata": {},
   "source": [
    "# 2. POI Scoring"
   ]
  },
  {
   "cell_type": "markdown",
   "metadata": {},
   "source": [
    "**Query-based Leave-one-out Evaluation**\n",
    "\n",
    "Group trajectories according to queries, hold every group for test and use all other groups for training.\n",
    "\n",
    "The performance of a prediction $\\bf \\bar{y}$ given a query $\\bf x$ is the maximum (or average) similarity score between $\\bf \\bar{y}$ and every trajectory $\\bf y$ in test set (which conforms to $\\bf x$)."
   ]
  },
  {
   "cell_type": "markdown",
   "metadata": {},
   "source": [
    "## 2.1 Pairwise POI ranking using RankSVM"
   ]
  },
  {
   "cell_type": "markdown",
   "metadata": {},
   "source": [
    "### 2.1.1 Training DataFrame"
   ]
  },
  {
   "cell_type": "markdown",
   "metadata": {},
   "source": [
    "Training data are generated as follows:\n",
    "1. each input tuple $(\\text{startPOI}, \\text{#POI})$ form a `query` (in IR terminology).\n",
    "1. the label of a specific POI is the number of presence of that POI in the set of trajectories grouped by a specific `query`, excluding the presence as $\\text{startPOI}$. (the label of all absence POIs w.r.t. that `query` got a label `0`)"
   ]
  },
  {
   "cell_type": "markdown",
   "metadata": {},
   "source": [
    "The dimension of training data matrix is `#(qid, poi)` by `#feature`."
   ]
  },
  {
   "cell_type": "code",
   "execution_count": null,
   "metadata": {
    "collapsed": true
   },
   "outputs": [],
   "source": [
    "def gen_train_subdf(poi_id, poi_info, query_id_set, query_id_rdict, dat_obj):\n",
    "    assert(type(dat_obj) == TrajData)\n",
    "    \n",
    "    columns = DF_COLUMNS\n",
    "    poi_distmat = dat_obj.POI_DISTMAT\n",
    "    poi_clusters = dat_obj.POI_CLUSTERS\n",
    "    cats = dat_obj.POI_CAT_LIST\n",
    "    clusters = dat_obj.POI_CLUSTER_LIST\n",
    "    \n",
    "    df_ = pd.DataFrame(index=np.arange(len(query_id_set)), columns=columns)\n",
    "    \n",
    "    pop, nvisit = poi_info.loc[poi_id, 'popularity'], poi_info.loc[poi_id, 'nVisit']\n",
    "    cat, cluster = poi_info.loc[poi_id, 'poiCat'], poi_clusters.loc[poi_id, 'clusterID'] \n",
    "    duration = poi_info.loc[poi_id, 'avgDuration']\n",
    "    \n",
    "    for j in range(len(query_id_set)):\n",
    "        qid = query_id_set[j]\n",
    "        assert(qid in query_id_rdict) # qid --> (start, end, length)\n",
    "        (p0, trajLen) = query_id_rdict[qid]\n",
    "        idx = df_.index[j]\n",
    "        df_.loc[idx, 'poiID'] = poi_id\n",
    "        df_.loc[idx, 'queryID'] = qid\n",
    "        df_.set_value(idx, 'category', tuple((cat == np.array(cats)).astype(np.int) * 2 - 1))\n",
    "        df_.set_value(idx, 'neighbourhood', tuple((cluster == np.array(clusters)).astype(np.int) * 2 - 1))\n",
    "        df_.loc[idx, 'popularity'] = LOG_SMALL if pop < 1 else np.log10(pop)\n",
    "        df_.loc[idx, 'nVisit'] = LOG_SMALL if nvisit < 1 else np.log10(nvisit)\n",
    "        df_.loc[idx, 'avgDuration'] = LOG_SMALL if duration < 1 else np.log10(duration)\n",
    "        df_.loc[idx, 'trajLen'] = trajLen\n",
    "        df_.loc[idx, 'sameCatStart'] = 1 if cat == poi_info.loc[p0, 'poiCat'] else -1\n",
    "        df_.loc[idx, 'distStart'] = poi_distmat.loc[poi_id, p0]\n",
    "        df_.loc[idx, 'diffPopStart'] = pop - poi_info.loc[p0, 'popularity']\n",
    "        df_.loc[idx, 'diffNVisitStart'] = nvisit - poi_info.loc[p0, 'nVisit']\n",
    "        df_.loc[idx, 'diffDurationStart'] = duration - poi_info.loc[p0, 'avgDuration']\n",
    "        df_.loc[idx, 'sameNeighbourhoodStart'] = 1 if cluster == poi_clusters.loc[p0, 'clusterID'] else -1\n",
    "        \n",
    "    return df_"
   ]
  },
  {
   "cell_type": "code",
   "execution_count": null,
   "metadata": {
    "collapsed": true
   },
   "outputs": [],
   "source": [
    "def gen_train_df(trajid_list, poi_info, dat_obj, n_jobs=-1):    \n",
    "    assert(type(dat_obj) == TrajData)\n",
    "    \n",
    "    columns = DF_COLUMNS\n",
    "    query_id_dict = dat_obj.QUERY_ID_DICT\n",
    "    train_trajs = [dat_obj.traj_dict[x] for x in trajid_list if len(dat_obj.traj_dict[x]) >= 2]\n",
    "    qid_set = sorted(set([query_id_dict[(t[0], len(t))] for t in train_trajs]))\n",
    "    poi_set = {poi for tr in train_trajs for poi in tr}\n",
    "    #M = len(poi_set)\n",
    "    \n",
    "    query_id_rdict = dict()\n",
    "    for k, v in query_id_dict.items(): \n",
    "        query_id_rdict[v] = k  # qid --> (start, length)\n",
    "    \n",
    "    train_df_list = Parallel(n_jobs=n_jobs)\\\n",
    "                    (delayed(gen_train_subdf)(poi, poi_info, qid_set, query_id_rdict, dat_obj) for poi in poi_set)\n",
    "                        \n",
    "    assert(len(train_df_list) > 0)\n",
    "    df_ = train_df_list[0]\n",
    "    for j in range(1, len(train_df_list)):\n",
    "        df_ = df_.append(train_df_list[j], ignore_index=True)            \n",
    "        \n",
    "    # set label\n",
    "    df_.set_index(['queryID', 'poiID'], inplace=True)\n",
    "    df_['label'] = 0\n",
    "    for t in train_trajs:\n",
    "        qid = query_id_dict[(t[0], len(t))]\n",
    "        for poi in t[1:]:  # do NOT count if the POI is startPOI/endPOI\n",
    "            df_.loc[(qid, poi), 'label'] += 1\n",
    "        #for j in range(1, len(t)):\n",
    "            #poi = t[j]; df_.loc[(qid, poi), 'label'] += M - j  # add the rank of this POI\n",
    "\n",
    "    df_.reset_index(inplace=True)\n",
    "    return df_"
   ]
  },
  {
   "cell_type": "code",
   "execution_count": null,
   "metadata": {
    "collapsed": true
   },
   "outputs": [],
   "source": [
    "def gen_train_df2(trajid_list, poi_info, dat_obj, n_jobs=-1):    \n",
    "    assert(type(dat_obj) == TrajData)\n",
    "    \n",
    "    columns = DF_COLUMNS\n",
    "    poi_distmat = dat_obj.POI_DISTMAT\n",
    "    poi_clusters = dat_obj.POI_CLUSTERS\n",
    "    cats = dat_obj.POI_CAT_LIST\n",
    "    clusters = dat_obj.POI_CLUSTER_LIST\n",
    "    \n",
    "    train_trajs = [dat_obj.traj_dict[x] for x in trajid_list if len(dat_obj.traj_dict[x]) >= 2]\n",
    "    poi_set = {poi for tr in train_trajs for poi in tr}\n",
    "    M = len(poi_set)\n",
    "     \n",
    "    df_ = pd.DataFrame(columns=columns)\n",
    "    idx = 0\n",
    "    for q in sorted(dat_obj.TRAJID_GROUP_DICT.keys()):\n",
    "        for tid in sorted(dat_obj.TRAJID_GROUP_DICT[q]):\n",
    "            if tid not in trajid_list: continue\n",
    "            tr = dat_obj.traj_dict[tid]\n",
    "            trajLen = len(tr)\n",
    "            p0 = tr[0]\n",
    "            assert(len(tr) >= 2)\n",
    "            for j in range(len(tr)):\n",
    "                poi_id = tr[j]\n",
    "                pop, nvisit = poi_info.loc[poi_id, 'popularity'], poi_info.loc[poi_id, 'nVisit']\n",
    "                cat, cluster = poi_info.loc[poi_id, 'poiCat'], poi_clusters.loc[poi_id, 'clusterID'] \n",
    "                duration = poi_info.loc[poi_id, 'avgDuration']\n",
    "                \n",
    "                df_.loc[idx, 'poiID'] = poi_id\n",
    "                df_.loc[idx, 'queryID'] = dat_obj.QUERY_ID_DICT[q]\n",
    "                df_.set_value(idx, 'category', tuple((cat == np.array(cats)).astype(np.int) * 2 - 1))\n",
    "                df_.set_value(idx, 'neighbourhood', tuple((cluster == np.array(clusters)).astype(np.int) * 2 - 1))\n",
    "                df_.loc[idx, 'popularity'] = LOG_SMALL if pop < 1 else np.log10(pop)\n",
    "                df_.loc[idx, 'nVisit'] = LOG_SMALL if nvisit < 1 else np.log10(nvisit)\n",
    "                df_.loc[idx, 'avgDuration'] = LOG_SMALL if duration < 1 else np.log10(duration)\n",
    "                df_.loc[idx, 'trajLen'] = trajLen\n",
    "                df_.loc[idx, 'sameCatStart'] = 1 if cat == poi_info.loc[p0, 'poiCat'] else -1\n",
    "                df_.loc[idx, 'distStart'] = poi_distmat.loc[poi_id, p0]\n",
    "                df_.loc[idx, 'diffPopStart'] = pop - poi_info.loc[p0, 'popularity']\n",
    "                df_.loc[idx, 'diffNVisitStart'] = nvisit - poi_info.loc[p0, 'nVisit']\n",
    "                df_.loc[idx, 'diffDurationStart'] = duration - poi_info.loc[p0, 'avgDuration']\n",
    "                df_.loc[idx, 'sameNeighbourhoodStart'] = 1 if cluster == poi_clusters.loc[p0, 'clusterID'] else -1\n",
    "                df_.loc[idx, 'label'] = M - j\n",
    "                \n",
    "                idx += 1\n",
    "    return df_"
   ]
  },
  {
   "cell_type": "markdown",
   "metadata": {},
   "source": [
    "### 2.1.2 Test DataFrame"
   ]
  },
  {
   "cell_type": "markdown",
   "metadata": {},
   "source": [
    "Test data are generated the same way as training data, except that the labels of testing data (unknown) could be arbitrary values as suggested in [libsvm FAQ](http://www.csie.ntu.edu.tw/~cjlin/libsvm/faq.html#f431).\n",
    "The reported accuracy (by `svm-predict` command) is meaningless as it is calculated based on these labels."
   ]
  },
  {
   "cell_type": "markdown",
   "metadata": {},
   "source": [
    "The dimension of training data matrix is `#poi` by `#feature` with one specific `query`, i.e. tuple $(\\text{startPOI}, \\text{#POI})$."
   ]
  },
  {
   "cell_type": "code",
   "execution_count": null,
   "metadata": {
    "collapsed": true
   },
   "outputs": [],
   "source": [
    "def gen_test_df(startPOI, nPOI, poi_info, dat_obj):\n",
    "    assert(type(dat_obj) == TrajData)\n",
    "    \n",
    "    columns = DF_COLUMNS\n",
    "    poi_distmat = dat_obj.POI_DISTMAT\n",
    "    poi_clusters = dat_obj.POI_CLUSTERS\n",
    "    cats = dat_obj.POI_CAT_LIST\n",
    "    clusters = dat_obj.POI_CLUSTER_LIST\n",
    "    query_id_dict = dat_obj.QUERY_ID_DICT\n",
    "    key = (p0, trajLen) = (startPOI, nPOI)\n",
    "    assert(key in query_id_dict)\n",
    "    assert(p0 in poi_info.index)\n",
    "    \n",
    "    df_ = pd.DataFrame(index=np.arange(poi_info.shape[0]), columns=columns)\n",
    "    poi_list = sorted(poi_info.index)\n",
    "    \n",
    "    qid = query_id_dict[key]\n",
    "    df_['queryID'] = qid\n",
    "    df_['label'] = np.random.rand(df_.shape[0]) # label for test data is arbitrary according to libsvm FAQ\n",
    "\n",
    "    for i in range(df_.index.shape[0]):\n",
    "        poi = poi_list[i]\n",
    "        lon, lat = poi_info.loc[poi, 'poiLon'], poi_info.loc[poi, 'poiLat']\n",
    "        pop, nvisit = poi_info.loc[poi, 'popularity'], poi_info.loc[poi, 'nVisit']\n",
    "        cat, cluster = poi_info.loc[poi, 'poiCat'], poi_clusters.loc[poi, 'clusterID']\n",
    "        duration = poi_info.loc[poi, 'avgDuration']\n",
    "        idx = df_.index[i]\n",
    "        df_.loc[idx, 'poiID'] = poi\n",
    "        df_.set_value(idx, 'category', tuple((cat == np.array(cats)).astype(np.int) * 2 - 1))\n",
    "        df_.set_value(idx, 'neighbourhood', tuple((cluster == np.array(clusters)).astype(np.int) * 2 - 1))\n",
    "        df_.loc[idx, 'popularity'] = LOG_SMALL if pop < 1 else np.log10(pop)\n",
    "        df_.loc[idx, 'nVisit'] = LOG_SMALL if nvisit < 1 else np.log10(nvisit)\n",
    "        df_.loc[idx, 'avgDuration'] = LOG_SMALL if duration < 1 else np.log10(duration)\n",
    "        df_.loc[idx, 'trajLen'] = trajLen\n",
    "        df_.loc[idx, 'sameCatStart'] = 1 if cat == poi_info.loc[p0, 'poiCat'] else -1\n",
    "        df_.loc[idx, 'distStart'] = poi_distmat.loc[poi, p0]\n",
    "        df_.loc[idx, 'diffPopStart'] = pop - poi_info.loc[p0, 'popularity']\n",
    "        df_.loc[idx, 'diffNVisitStart'] = nvisit - poi_info.loc[p0, 'nVisit']\n",
    "        df_.loc[idx, 'diffDurationStart'] = duration - poi_info.loc[p0, 'avgDuration']\n",
    "        df_.loc[idx, 'sameNeighbourhoodStart'] = 1 if cluster == poi_clusters.loc[p0, 'clusterID'] else -1\n",
    "\n",
    "    return df_"
   ]
  },
  {
   "cell_type": "markdown",
   "metadata": {},
   "source": [
    "Generate a string for a training/test data frame."
   ]
  },
  {
   "cell_type": "code",
   "execution_count": null,
   "metadata": {
    "collapsed": true
   },
   "outputs": [],
   "source": [
    "def gen_data_str(df_, df_columns=DF_COLUMNS):\n",
    "    for col in df_columns:\n",
    "        assert(col in df_.columns)\n",
    "        \n",
    "    lines = []\n",
    "    for idx in df_.index:\n",
    "        slist = [str(df_.loc[idx, 'label'])]\n",
    "        slist.append(' qid:')\n",
    "        slist.append(str(int(df_.loc[idx, 'queryID'])))\n",
    "        fid = 1\n",
    "        for j in range(3, len(df_columns)):\n",
    "            values_ = df_.get_value(idx, df_columns[j])\n",
    "            values_ = values_ if isinstance(values_, tuple) else [values_]\n",
    "            for v in values_:\n",
    "                slist.append(' ')\n",
    "                slist.append(str(fid)); fid += 1\n",
    "                slist.append(':')\n",
    "                slist.append(str(v))\n",
    "        slist.append('\\n')\n",
    "        lines.append(''.join(slist))\n",
    "    return ''.join(lines)"
   ]
  },
  {
   "cell_type": "markdown",
   "metadata": {},
   "source": [
    "### 2.1.3 Ranking POIs using rankSVM"
   ]
  },
  {
   "cell_type": "markdown",
   "metadata": {},
   "source": [
    "Here the [rankSVM implementation](https://www.csie.ntu.edu.tw/~cjlin/libsvmtools/#large_scale_ranksvm) could be [liblinear-ranksvm](https://www.csie.ntu.edu.tw/~cjlin/libsvmtools/ranksvm/liblinear-ranksvm-2.1.zip) or [libsvm-ranksvm](https://www.csie.ntu.edu.tw/~cjlin/libsvmtools/ranksvm/libsvm-ranksvm-3.20.zip), please read `README.ranksvm` in the zip file for installation instructions."
   ]
  },
  {
   "cell_type": "markdown",
   "metadata": {},
   "source": [
    "Use [softmax function](https://en.wikipedia.org/wiki/Softmax_function) to convert ranking scores to a probability distribution."
   ]
  },
  {
   "cell_type": "code",
   "execution_count": null,
   "metadata": {
    "collapsed": true
   },
   "outputs": [],
   "source": [
    "def softmax(x):\n",
    "    x1 = x.copy()\n",
    "    x1 -= np.max(x1)  # numerically more stable, REF: http://cs231n.github.io/linear-classify/#softmax\n",
    "    expx = np.exp(x1)\n",
    "    return expx / np.sum(expx, axis=0) # column-wise sum"
   ]
  },
  {
   "cell_type": "markdown",
   "metadata": {},
   "source": [
    "Below is a python wrapper of the `svm-train` or `train` and `svm-predict` or `predict` commands of rankSVM with ranking probabilities $P(p_i \\lvert (p_s, p_e, len))$ computed using [softmax function](https://en.wikipedia.org/wiki/Softmax_function)."
   ]
  },
  {
   "cell_type": "code",
   "execution_count": null,
   "metadata": {
    "collapsed": true
   },
   "outputs": [],
   "source": [
    "# python wrapper of rankSVM\n",
    "class RankSVM:\n",
    "    def __init__(self, bin_dir, useLinear=True, debug=False):\n",
    "        dir_ = !echo $bin_dir  # deal with environmental variables in path\n",
    "        assert(os.path.exists(dir_[0]))\n",
    "        self.bin_dir = dir_[0]\n",
    "        \n",
    "        self.bin_train = 'svm-train'\n",
    "        self.bin_predict = 'svm-predict'\n",
    "        if useLinear:\n",
    "            self.bin_train = 'train'\n",
    "            self.bin_predict = 'predict'\n",
    "        \n",
    "        assert(isinstance(debug, bool))\n",
    "        self.debug = debug\n",
    "        \n",
    "        # create named tmp files for model and feature scaling parameters\n",
    "        self.fmodel = None\n",
    "        self.fscale = None\n",
    "        with tempfile.NamedTemporaryFile(delete=False) as fd: \n",
    "            self.fmodel = fd.name\n",
    "        with tempfile.NamedTemporaryFile(delete=False) as fd: \n",
    "            self.fscale = fd.name\n",
    "        \n",
    "        if self.debug:\n",
    "            print('model file:', self.fmodel)\n",
    "            print('feature scaling parameter file:', self.fscale)\n",
    "    \n",
    "    \n",
    "    def __del__(self):\n",
    "        # remove tmp files\n",
    "        if self.debug == False:\n",
    "            if self.fmodel is not None and os.path.exists(self.fmodel):\n",
    "                os.unlink(self.fmodel)\n",
    "            if self.fscale is not None and os.path.exists(self.fscale):\n",
    "                os.unlink(self.fscale)\n",
    "\n",
    "    \n",
    "    def train(self, train_df, cost=1):\n",
    "        # cost is parameter C in SVM\n",
    "        # write train data to file\n",
    "        ftrain = None\n",
    "        with tempfile.NamedTemporaryFile(mode='w+t', delete=False) as fd: \n",
    "            ftrain = fd.name\n",
    "            datastr = gen_data_str(train_df)\n",
    "            fd.write(datastr)\n",
    "        \n",
    "        # feature scaling\n",
    "        ftrain_scaled = None\n",
    "        with tempfile.NamedTemporaryFile(mode='w+t', delete=False) as fd: \n",
    "            ftrain_scaled = fd.name\n",
    "        result = !$self.bin_dir/svm-scale -s $self.fscale $ftrain > $ftrain_scaled\n",
    "        \n",
    "        if self.debug:\n",
    "            print('cost:', cost)\n",
    "            print('train data file:', ftrain)\n",
    "            print('feature scaled train data file:', ftrain_scaled)\n",
    "        \n",
    "        # train rank svm and generate model file, if the model file exists, rewrite it\n",
    "        result = !$self.bin_dir/$self.bin_train -c $cost $ftrain_scaled $self.fmodel\n",
    "        if self.debug:\n",
    "            print('Training finished.')\n",
    "            for i in range(len(result)): print(result[i])\n",
    "                \n",
    "        # load model parameters\n",
    "        w = []\n",
    "        header = 5\n",
    "        with open(self.fmodel, 'r') as f:\n",
    "            for j in range(header): _ = f.readline()\n",
    "            for line in f: w.append(float(line.strip()))\n",
    "        self.w = np.array(w)\n",
    "\n",
    "        # remove train data file\n",
    "        if self.debug == False:\n",
    "            os.unlink(ftrain)\n",
    "            os.unlink(ftrain_scaled)        \n",
    "\n",
    "    \n",
    "    def predict(self, test_df, probability=False):\n",
    "        # predict ranking scores for the given feature matrix\n",
    "        if self.fmodel is None or not os.path.exists(self.fmodel):\n",
    "            print('Model should be trained before prediction')\n",
    "            return\n",
    "        \n",
    "        # write test data to file\n",
    "        ftest = None\n",
    "        with tempfile.NamedTemporaryFile(mode='w+t', delete=False) as fd: \n",
    "            ftest = fd.name\n",
    "            datastr = gen_data_str(test_df)\n",
    "            fd.write(datastr)\n",
    "                \n",
    "        # feature scaling\n",
    "        ftest_scaled = None\n",
    "        with tempfile.NamedTemporaryFile(delete=False) as fd: \n",
    "            ftest_scaled = fd.name\n",
    "        result = !$self.bin_dir/svm-scale -r $self.fscale $ftest > $ftest_scaled\n",
    "            \n",
    "        # generate prediction file\n",
    "        fpredict = None\n",
    "        with tempfile.NamedTemporaryFile(delete=False) as fd: \n",
    "            fpredict = fd.name\n",
    "            \n",
    "        if self.debug:\n",
    "            print('test data file:', ftest)\n",
    "            print('feature scaled test data file:', ftest_scaled)\n",
    "            print('predict result file:', fpredict)\n",
    "            \n",
    "        # predict using trained model and write prediction to file\n",
    "        result = !$self.bin_dir/$self.bin_predict $ftest_scaled $self.fmodel $fpredict\n",
    "        if self.debug:\n",
    "            print('Predict result: %-30s  %s' % (result[0], result[1]))\n",
    "        \n",
    "        # generate prediction DataFrame from prediction file\n",
    "        poi_rank_df = pd.read_csv(fpredict, header=None)\n",
    "        poi_rank_df.rename(columns={0:'rank'}, inplace=True)\n",
    "        poi_rank_df['poiID'] = test_df['poiID'].astype(np.int)\n",
    "        poi_rank_df.set_index('poiID', inplace=True)\n",
    "        if probability == True: poi_rank_df['probability'] = softmax(poi_rank_df['rank'])\n",
    "        \n",
    "        # remove test file and prediction file\n",
    "        if self.debug == False:\n",
    "            os.unlink(ftest)\n",
    "            os.unlink(ftest_scaled)\n",
    "            os.unlink(fpredict)\n",
    "\n",
    "        return poi_rank_df"
   ]
  },
  {
   "cell_type": "markdown",
   "metadata": {},
   "source": [
    "Nested cross-validation with Monte-Carlo cross-validation as inner loop."
   ]
  },
  {
   "cell_type": "code",
   "execution_count": null,
   "metadata": {
    "collapsed": true,
    "scrolled": true
   },
   "outputs": [],
   "source": [
    "if run_rank == True:\n",
    "    recdict_rank = dict()\n",
    "    recdict_rank_pop = dict()\n",
    "    cnt = 1\n",
    "    keys = sorted(dat_obj.TRAJID_GROUP_DICT.keys())\n",
    "\n",
    "    # outer loop to evaluate the test performance by cross validation\n",
    "    for i in range(len(keys)):\n",
    "        ps, L = keys[i]\n",
    "\n",
    "        best_C = 1\n",
    "        #best_F1 = 0; best_pF1 = 0\n",
    "        best_Tau = 0\n",
    "        keys_cv = keys[:i] + keys[i+1:]\n",
    "        \n",
    "        # use all training+validation set to compute POI features, \n",
    "        # make sure features do NOT change for training and validation\n",
    "        trajid_set_i = set(dat_obj.trajid_set_all) - dat_obj.TRAJID_GROUP_DICT[keys[i]]\n",
    "        poi_info_i = dat_obj.calc_poi_info(list(trajid_set_i))\n",
    "        \n",
    "        poi_set_i = {p for tid in trajid_set_i for p in dat_obj.traj_dict[tid] if len(dat_obj.traj_dict[tid]) >= 2}\n",
    "        if ps not in poi_set_i: \n",
    "            sys.stderr.write('start POI of query %s does not exist in training set.\\n' % str(keys[i]))\n",
    "            continue\n",
    "\n",
    "        # tune regularisation constant C\n",
    "        for rank_C in C_SET:\n",
    "            print('\\n--------------- try_C: %.2f ---------------\\n' % rank_C); sys.stdout.flush() \n",
    "            F1_rank = []; pF1_rank = []; Tau_rank = []        \n",
    "\n",
    "            # inner loop to evaluate the performance of a model with a specified C by Monte-Carlo cross validation\n",
    "            for j in range(MC_NITER):\n",
    "                poi_list = []\n",
    "                while True: # make sure the start POI in test set are also in training set\n",
    "                    rand_ix = np.arange(len(keys_cv)); np.random.shuffle(rand_ix)\n",
    "                    test_ix = rand_ix[:int(MC_PORTION*len(rand_ix))]\n",
    "                    assert(len(test_ix) > 0)\n",
    "                    trajid_set_train = set(dat_obj.trajid_set_all) - dat_obj.TRAJID_GROUP_DICT[keys[i]]\n",
    "                    for j in test_ix: \n",
    "                        trajid_set_train = trajid_set_train - dat_obj.TRAJID_GROUP_DICT[keys_cv[j]]\n",
    "                    poi_set = {poi for tid in trajid_set_train for poi in dat_obj.traj_dict[tid]}\n",
    "                    good_partition = True\n",
    "                    for j in test_ix: \n",
    "                        if keys_cv[j][0] not in poi_set: good_partition = False; break\n",
    "                    if good_partition == True: \n",
    "                        poi_list = sorted(poi_set)\n",
    "                        break\n",
    "\n",
    "                # train                \n",
    "                train_df = gen_train_df(list(trajid_set_train), poi_info_i.loc[poi_list].copy(), dat_obj, n_jobs=N_JOBS)\n",
    "                ranksvm = RankSVM(ranksvm_dir, useLinear=True)#, debug=True)\n",
    "                ranksvm.train(train_df, cost=rank_C)\n",
    "                #sys.exit(0)\n",
    "                \n",
    "                # test\n",
    "                for j in test_ix:  # test\n",
    "                    ps_cv, L_cv = keys_cv[j]\n",
    "                    test_df = gen_test_df(ps_cv, L_cv, poi_info_i.loc[poi_list].copy(), dat_obj)\n",
    "                    rank_df = ranksvm.predict(test_df)\n",
    "                    rank_df.sort_values(by='rank', ascending=False, inplace=True)\n",
    "                    y_hat = [ps_cv] + [p for p in rank_df.index.tolist() if p != ps_cv][:L_cv-1]\n",
    "                    F1, pF1, tau = evaluate(dat_obj, keys_cv[j], [y_hat])\n",
    "                    F1_rank.append(F1); pF1_rank.append(pF1); Tau_rank.append(tau)\n",
    "                    \n",
    "            #mean_F1 = np.mean(F1_rank); mean_pF1 = np.mean(pF1_rank)\n",
    "            mean_Tau = np.mean(Tau_rank)\n",
    "            print('mean_Tau: %.3f' % mean_Tau)\n",
    "            if mean_Tau > best_Tau:\n",
    "                best_Tau = mean_Tau\n",
    "                best_C = rank_C\n",
    "        print('\\n--------------- %d/%d, Query: (%d, %d), Best_C: %.2f ---------------\\n' % (cnt,len(keys),ps,L,best_C))\n",
    "        sys.stdout.flush()\n",
    "\n",
    "        # train model using all examples in training+validation set and measure performance on test set\n",
    "        train_df = gen_train_df(list(trajid_set_i), poi_info_i.copy(), dat_obj, n_jobs=N_JOBS)\n",
    "        ranksvm = RankSVM(ranksvm_dir, useLinear=True)\n",
    "        ranksvm.train(train_df, cost=best_C)\n",
    "        test_df = gen_test_df(ps, L, poi_info_i, dat_obj)\n",
    "        rank_df = ranksvm.predict(test_df)\n",
    "        rank_df.sort_values(by='rank', ascending=False, inplace=True)\n",
    "        y_hat = [ps] + [p for p in rank_df.index.tolist() if p != ps][:L-1]\n",
    "        recdict_rank[(ps, L)] = {'PRED': [y_hat], 'C':best_C, 'W': ranksvm.w}\n",
    "        \n",
    "        # POI popularity based ranking\n",
    "        poi_info_i.sort_values(by='popularity', ascending=False, inplace=True)\n",
    "        y_hat_pop = [ps] + [p for p in poi_info_i.index.tolist() if p != ps][:L-1]        \n",
    "        recdict_rank_pop[(ps, L)] = {'PRED': [y_hat_pop]}\n",
    "\n",
    "        cnt += 1; #print_progress(cnt, len(keys)); sys.stdout.flush()"
   ]
  },
  {
   "cell_type": "code",
   "execution_count": null,
   "metadata": {
    "collapsed": true
   },
   "outputs": [],
   "source": [
    "if run_rank == True:\n",
    "    print(len(recdict_rank))\n",
    "    print('RankSVM:')\n",
    "    do_evaluation(dat_obj, recdict_rank)\n",
    "    print('\\nPopularity:')\n",
    "    do_evaluation(dat_obj, recdict_rank_pop)"
   ]
  },
  {
   "cell_type": "code",
   "execution_count": null,
   "metadata": {
    "collapsed": true
   },
   "outputs": [],
   "source": [
    "if run_rank == True:\n",
    "    frank = os.path.join(data_dir, 'rank-' + dat_obj.dat_suffix[dat_ix] + '.pkl')\n",
    "    fpop  = os.path.join(data_dir, 'pop-' + dat_obj.dat_suffix[dat_ix] + '.pkl')\n",
    "    pickle.dump(recdict_rank, open(frank, 'bw'))\n",
    "    pickle.dump(recdict_rank_pop, open(fpop, 'bw'))"
   ]
  },
  {
   "cell_type": "code",
   "execution_count": null,
   "metadata": {
    "collapsed": true
   },
   "outputs": [],
   "source": [
    "%load_ext Cython"
   ]
  },
  {
   "cell_type": "code",
   "execution_count": null,
   "metadata": {
    "collapsed": true
   },
   "outputs": [],
   "source": [
    "%%cython\n",
    "import numpy as np\n",
    "import heapq as hq\n",
    "import sys\n",
    "cimport numpy as np\n",
    "\n",
    "cdef class HeapItem:  # an item in heapq (min-heap)\n",
    "    cdef readonly float priority\n",
    "    cdef readonly object task, string\n",
    "    \n",
    "    def __init__(self, float priority, task):\n",
    "        self.priority = priority\n",
    "        self.task = task\n",
    "        self.string = str(priority) + ': ' + str(task)\n",
    "            \n",
    "    def __richcmp__(self, other, int op):\n",
    "        if op == 2: # ==\n",
    "            return self.priority == other.priority\n",
    "        elif op == 3: # !=\n",
    "            return self.priority != other.priority\n",
    "        elif op == 0: # <\n",
    "            return self.priority < other.priority\n",
    "        elif op == 1: # <=\n",
    "            return self.priority <= other.priority\n",
    "        elif op == 4: # >\n",
    "            return self.priority > other.priority\n",
    "        elif op == 5: # >=\n",
    "            return self.priority >= other.priority\n",
    "        else:\n",
    "            assert False\n",
    "            \n",
    "    def __repr__(self):\n",
    "        return self.string\n",
    "    \n",
    "    def __str__(self):\n",
    "        return self.string\n",
    "\n",
    "\n",
    "cpdef do_inference_list_viterbi(int ps, int L, int M, np.ndarray[dtype=np.float64_t, ndim=1] poi_scores, int top=10):\n",
    "    assert(L > 1)\n",
    "    assert(M >= L)\n",
    "    assert(ps >= 0)\n",
    "    assert(ps < M)\n",
    "    assert(top > 0)\n",
    "    \n",
    "    cdef int pi, pj, t, pk, parix, partition_index, partition_index_start, k_partition_index\n",
    "    cdef long k, maxIter = long(1e6)\n",
    "    cdef float priority, new_priority\n",
    "    \n",
    "    Cu = np.zeros(M, dtype=np.float)\n",
    "    Cp = np.zeros((M, M), dtype=np.float)\n",
    "    \n",
    "    # a intermediate POI should NOT be the start POI, NO self-loops\n",
    "    for pi in range(M):\n",
    "        Cu[pi] = poi_scores[pi]\n",
    "        for pj in range(M):\n",
    "            Cp[pi, pj] = -np.inf if (pj == ps or pi == pj) else 0\n",
    "            \n",
    "    # forward-backward procedure: adapted from the Rabiner paper\n",
    "    Alpha = np.zeros((L, M), dtype=np.float)  # alpha_t(p_i)\n",
    "    Beta  = np.zeros((L, M), dtype=np.float)  # beta_t(p_i)\n",
    "    \n",
    "    for pj in range(M): Alpha[1, pj] = Cp[ps, pj] + Cu[pj]\n",
    "    for t in range(2, L):\n",
    "        for pj in range(M): # ps~~pi--pj\n",
    "            Alpha[t, pj] = np.max([Alpha[t-1, pi] + Cp[pi, pj] + Cu[pj] for pi in range(M)])\n",
    "    \n",
    "    for pi in range(M): Beta[L-1, pi] = 0\n",
    "    for t in range(L-1, 1, -1):\n",
    "        for pi in range(M): # ps~~pi--pj\n",
    "            Beta[t-1, pi] = np.max([Cp[pi, pj] + Cu[pj] + Beta[t, pj] for pj in range(M)])\n",
    "    Beta[0, ps] = np.max([Cp[ps, pj] + Cu[pj] + Beta[1, pj] for pj in range(M)])\n",
    "    \n",
    "    Fp = np.zeros((L-1, M, M), dtype=np.float)  # f_{t, t+1}(p, p')\n",
    "    \n",
    "    for t in range(L-1):\n",
    "        for pi in range(M):\n",
    "            for pj in range(M):\n",
    "                Fp[t, pi, pj] = Alpha[t, pi] + Cp[pi, pj] + Cu[pj] + Beta[t+1, pj]\n",
    "                \n",
    "    # identify the best path/walk: adapted from the IJCAI01 paper\n",
    "    y_best = np.ones(L, dtype=np.int) * (-1)\n",
    "    y_best[0] = ps\n",
    "    y_best[1] = np.argmax(Fp[0, ps, :])  # the start POI is specified\n",
    "    for t in range(2, L): \n",
    "        y_best[t] = np.argmax(Fp[t-1, y_best[t-1], :])\n",
    "    \n",
    "    Q = []  # priority queue (min-heap)\n",
    "        \n",
    "    # heap item for the best path/walk\n",
    "    priority = -np.max(Alpha[L-1, :])  # -1 * score as priority\n",
    "    partition_index = -1\n",
    "    exclude_set = set()  \n",
    "    hq.heappush(Q, HeapItem(priority, (y_best, partition_index, exclude_set)))\n",
    "    \n",
    "    results = []\n",
    "    k = 0; y_last = None\n",
    "    while len(Q) > 0 and k < maxIter:\n",
    "        hitem = hq.heappop(Q)\n",
    "        k_priority = hitem.priority\n",
    "        (k_best, k_partition_index, k_exclude_set) = hitem.task\n",
    "        k += 1; y_last = k_best\n",
    "        \n",
    "        if len(set(k_best)) == L:\n",
    "            #print(-k_priority)\n",
    "            results.append(k_best); top -= 1\n",
    "            if top == 0: return results\n",
    "    \n",
    "        # identify the (k+1)-th best path/walk given the 1st, 2nd, ..., k-th best: adapted from the IJCAI01 paper\n",
    "        partition_index_start = 1\n",
    "        if k_partition_index > 0:\n",
    "            assert(k_partition_index < L)\n",
    "            partition_index_start = k_partition_index\n",
    "\n",
    "        for parix in range(partition_index_start, L):\n",
    "            # new_best[:parix]\n",
    "            new_best = np.zeros(L, dtype=np.int) * (-1)\n",
    "            new_best[:parix] = k_best[:parix]\n",
    "            if len(set(new_best[:parix])) < parix: break\n",
    "            \n",
    "            # new_best[parix]\n",
    "            #new_exclude_set = set({k_best[parix]})\n",
    "            new_exclude_set = set(k_best[:parix+1]) # exclude all visited POIs\n",
    "            if parix == partition_index_start: new_exclude_set = new_exclude_set | k_exclude_set\n",
    "            candidate_points = [p for p in range(M) if p not in new_exclude_set]\n",
    "            if len(candidate_points) == 0: continue\n",
    "            candidate_maxix = np.argmax([Fp[parix-1, k_best[parix-1], p] for p in candidate_points])\n",
    "            new_best[parix] = candidate_points[candidate_maxix]\n",
    "            \n",
    "            # new_best[parix+1:]\n",
    "            for pk in range(parix+1, L):\n",
    "                new_best[pk] = np.argmax([Fp[pk-1, new_best[pk-1], p] for p in range(M)])\n",
    "                #new_best[pk] = np.argmax([Fp[pk-1, new_best[pk-1], p] for p in range(M) if p not in new_best[:pk]])\n",
    "                #new_best[pk] = np.argmax([Fp[pk-1, new_best[pk-1], p] for p in range(M) if p not in new_best[:parix+1]])\n",
    "            \n",
    "            new_priority = Fp[parix-1, k_best[parix-1], new_best[parix]]\n",
    "            if k_partition_index > 0:\n",
    "                new_priority += (-k_priority) - Fp[parix-1, k_best[parix-1], k_best[parix]]\n",
    "            new_priority *= -1.0   # NOTE: -np.inf - np.inf + np.inf = nan\n",
    "\n",
    "            #print('push: %s, %d' % (str(new_best), parix))\n",
    "            \n",
    "            hq.heappush(Q, HeapItem(new_priority, (new_best, parix, new_exclude_set)))\n",
    "            \n",
    "    if k >= maxIter: \n",
    "        sys.stderr.write('WARN: reaching max number of iterations, NO optimal solution found, \\\n",
    "                          return suboptimal solution.\\n')\n",
    "    if len(Q) == 0:\n",
    "        sys.stderr.write('WARN: empty queue, return the last one\\n')\n",
    "    results.append(y_last); top -= 1\n",
    "    while len(Q) > 0 and top > 0:\n",
    "        hitem = hq.heappop(Q)\n",
    "        results.append(hitem.task[0])\n",
    "        top -= 1\n",
    "    return results"
   ]
  },
  {
   "cell_type": "code",
   "execution_count": null,
   "metadata": {
    "collapsed": true,
    "scrolled": true
   },
   "outputs": [],
   "source": [
    "if run_rank_topk == True:\n",
    "    recdict_c = pickle.load(open(os.path.join(data_dir, 'rank-' + dat_obj.dat_suffix[dat_ix] + '.pkl'), 'rb'))\n",
    "    recdict_rank = dict()\n",
    "    recdict_rank_pop = dict()\n",
    "    cnt = 1\n",
    "    keys = sorted(dat_obj.TRAJID_GROUP_DICT.keys())\n",
    "\n",
    "    # outer loop to evaluate the test performance by cross validation\n",
    "    for i in range(len(keys)):\n",
    "        ps, L = keys[i]\n",
    "\n",
    "        best_C = 1\n",
    "        #best_F1 = 0; best_pF1 = 0\n",
    "        best_Tau = 0\n",
    "        keys_cv = keys[:i] + keys[i+1:]\n",
    "        \n",
    "        # use all training+validation set to compute POI features, \n",
    "        # make sure features do NOT change for training and validation\n",
    "        trajid_set_i = set(dat_obj.trajid_set_all) - dat_obj.TRAJID_GROUP_DICT[keys[i]]\n",
    "        poi_info_i = dat_obj.calc_poi_info(list(trajid_set_i))\n",
    "        \n",
    "        poi_set_i = {p for tid in trajid_set_i for p in dat_obj.traj_dict[tid] if len(dat_obj.traj_dict[tid]) >= 2}\n",
    "        if ps not in poi_set_i: \n",
    "            sys.stderr.write('start POI of query %s does not exist in training set.\\n' % str(keys[i]))\n",
    "            continue\n",
    "        \n",
    "        best_C = recdict_c[(ps, L)]['C']\n",
    "\n",
    "        print('\\n--------------- %d/%d, Query: (%d, %d), Best_C: %.2f ---------------\\n' % (cnt,len(keys),ps,L,best_C))\n",
    "        sys.stdout.flush()\n",
    "\n",
    "        # train model using all examples in training+validation set and measure performance on test set\n",
    "        train_df = gen_train_df(list(trajid_set_i), poi_info_i.copy(), dat_obj, n_jobs=N_JOBS)\n",
    "        ranksvm = RankSVM(ranksvm_dir, useLinear=True)\n",
    "        ranksvm.train(train_df, cost=best_C)\n",
    "        test_df = gen_test_df(ps, L, poi_info_i, dat_obj)\n",
    "        rank_df = ranksvm.predict(test_df, probability=True)\n",
    "        poi_list_rank = rank_df.index.tolist()\n",
    "        poiid_dict_rank = {poi: ix for ix, poi in enumerate(poi_list_rank)}\n",
    "        rank_scores = np.log10(rank_df['probability'].values)\n",
    "        top10 = do_inference_list_viterbi(poiid_dict_rank[ps], L, len(poi_list_rank), rank_scores)\n",
    "        recdict_rank[(ps, L)] = {'PRED': [[poi_list_rank[pi] for pi in t] for t in top10], 'C':best_C}\n",
    "        \n",
    "        # POI popularity based ranking\n",
    "        poi_info_i.sort_values(by='popularity', ascending=False, inplace=True)\n",
    "        poi_list_pop = poi_info_i.index.tolist()\n",
    "        poiid_dict_pop = {poi: ix for ix, poi in enumerate(poi_list_pop)}\n",
    "        pop_scores = poi_info_i['popularity'].astype(np.float).values\n",
    "        top10 = do_inference_list_viterbi(poiid_dict_pop[ps], L, len(poi_list_pop), pop_scores)\n",
    "        recdict_rank_pop[(ps, L)] = {'PRED': [[poi_list_pop[pi] for pi in t] for t in top10]}\n",
    "        \n",
    "        cnt += 1"
   ]
  },
  {
   "cell_type": "code",
   "execution_count": null,
   "metadata": {
    "collapsed": true
   },
   "outputs": [],
   "source": [
    "if run_rank_topk == True:\n",
    "    print(len(recdict_rank))\n",
    "    print('RankSVM:')\n",
    "    topk = [1, 3, 5, 10]\n",
    "    recdicts = [{q: {'PRED': recdict_rank[q]['PRED'][:k]} for q in recdict_rank.keys()} for k in topk]\n",
    "    for j in range(len(topk)): do_evaluation(dat_obj, recdicts[j])\n",
    "    print('\\nPopularity:')\n",
    "    recdicts = [{q: {'PRED': recdict_rank_pop[q]['PRED'][:k]} for q in recdict_rank_pop} for k in topk]\n",
    "    for j in range(len(topk)): do_evaluation(dat_obj, recdicts[j])"
   ]
  },
  {
   "cell_type": "code",
   "execution_count": null,
   "metadata": {
    "collapsed": true
   },
   "outputs": [],
   "source": [
    "if run_rank_topk == True:\n",
    "    frank = os.path.join(data_dir, 'rank10-' + dat_obj.dat_suffix[dat_ix] + '.pkl')\n",
    "    fpop  = os.path.join(data_dir, 'pop10-' + dat_obj.dat_suffix[dat_ix] + '.pkl')\n",
    "    pickle.dump(recdict_rank, open(frank, 'bw'))\n",
    "    pickle.dump(recdict_rank_pop, open(fpop, 'bw'))"
   ]
  },
  {
   "cell_type": "markdown",
   "metadata": {},
   "source": [
    "## 2.2 POI occurrence prediction"
   ]
  },
  {
   "cell_type": "markdown",
   "metadata": {},
   "source": [
    "Generate features."
   ]
  },
  {
   "cell_type": "code",
   "execution_count": null,
   "metadata": {
    "collapsed": true
   },
   "outputs": [],
   "source": [
    "def gen_features(startPOI, nPOI, poi_info, poi_clusters, cats, clusters):\n",
    "    \"\"\"\n",
    "    Generate feature vectors for all POIs given query (startPOI, nPOI)\n",
    "    \"\"\"\n",
    "    assert(isinstance(cats, list))\n",
    "    assert(isinstance(clusters, list))\n",
    "    \n",
    "    columns = DF_COLUMNS[3:]\n",
    "    poi_distmat = POI_DISTMAT\n",
    "    query_id_dict = QUERY_ID_DICT\n",
    "    key = (p0, trajLen) = (startPOI, nPOI)\n",
    "    assert(key in query_id_dict)\n",
    "    assert(p0 in poi_info.index)\n",
    "    \n",
    "    df_ = pd.DataFrame(index=np.arange(poi_info.shape[0]), columns=columns)\n",
    "    poi_list = sorted(poi_info.index)\n",
    "        \n",
    "    for i in range(df_.index.shape[0]):\n",
    "        poi = poi_list[i]\n",
    "        lon, lat = poi_info.loc[poi, 'poiLon'], poi_info.loc[poi, 'poiLat']\n",
    "        pop, nvisit = poi_info.loc[poi, 'popularity'], poi_info.loc[poi, 'nVisit']\n",
    "        cat, cluster = poi_info.loc[poi, 'poiCat'], poi_clusters.loc[poi, 'clusterID']\n",
    "        duration = poi_info.loc[poi, 'avgDuration']\n",
    "        idx = df_.index[i]\n",
    "        df_.set_value(idx, 'category', tuple((cat == np.array(cats)).astype(np.int) * 2 - 1))\n",
    "        df_.set_value(idx, 'neighbourhood', tuple((cluster == np.array(clusters)).astype(np.int) * 2 - 1))\n",
    "        df_.loc[idx, 'popularity'] = LOG_SMALL if pop < 1 else np.log10(pop)\n",
    "        df_.loc[idx, 'nVisit'] = LOG_SMALL if nvisit < 1 else np.log10(nvisit)\n",
    "        df_.loc[idx, 'avgDuration'] = LOG_SMALL if duration < 1 else np.log10(duration)\n",
    "        df_.loc[idx, 'trajLen'] = trajLen\n",
    "        df_.loc[idx, 'sameCatStart'] = 1 if cat == poi_all.loc[p0, 'poiCat'] else -1\n",
    "        df_.loc[idx, 'distStart'] = poi_distmat.loc[poi, p0]\n",
    "        df_.loc[idx, 'diffPopStart'] = pop - poi_info.loc[p0, 'popularity']\n",
    "        df_.loc[idx, 'diffNVisitStart'] = nvisit - poi_info.loc[p0, 'nVisit']\n",
    "        df_.loc[idx, 'diffDurationStart'] = duration - poi_info.loc[p0, 'avgDuration']\n",
    "        df_.loc[idx, 'sameNeighbourhoodStart'] = 1 if cluster == poi_clusters.loc[p0, 'clusterID'] else -1\n",
    "    \n",
    "    # convert to matrix\n",
    "    nrows = df_.shape[0]\n",
    "    ncols = df_.shape[1] + len(cats) + len(clusters) - 2\n",
    "    \n",
    "    # features other than category and neighbourhood\n",
    "    X = df_[list(set(df_.columns) - {'category', 'neighbourhood'})].values  \n",
    "    \n",
    "    # boolean features: category (+1, -1)\n",
    "    cat_features = np.vstack([list(df_.loc[x, 'category']) for x in df_.index])\n",
    "    \n",
    "    # boolean features: neighbourhood (+1, -1)\n",
    "    neigh_features = np.vstack([list(df_.loc[x, 'neighbourhood']) for x in df_.index])\n",
    "    \n",
    "    return np.hstack([X, cat_features.astype(np.float), neigh_features.astype(np.float)])"
   ]
  },
  {
   "cell_type": "markdown",
   "metadata": {},
   "source": [
    "Generate labels."
   ]
  },
  {
   "cell_type": "code",
   "execution_count": null,
   "metadata": {
    "collapsed": true
   },
   "outputs": [],
   "source": [
    "def gen_labels(traj_truth, poi_info, binarise=False):\n",
    "    \"\"\"\n",
    "    Generate labels for all POIs given a ground truth trajectory\n",
    "    \"\"\"\n",
    "    poi_list = sorted(poi_info.index)\n",
    "    ranks = np.zeros(len(poi_list), dtype=np.float)\n",
    "    for j in range(len(poi_list)):\n",
    "        try:\n",
    "            poi = poi_list[j]\n",
    "            ranks[j] = (len(poi_list) - traj_truth.index(poi)) / len(poi_list) # normalise\n",
    "        except ValueError:\n",
    "            pass # default rank is 0\n",
    "        \n",
    "    if binarise == True:\n",
    "        return (ranks > 0).astype(np.float)*2 - 1 # binary labels (+1, -1)\n",
    "    \n",
    "    return ranks.astype(np.int)"
   ]
  },
  {
   "cell_type": "markdown",
   "metadata": {},
   "source": [
    "POI occurrence prediction: logistic regression"
   ]
  },
  {
   "cell_type": "code",
   "execution_count": null,
   "metadata": {
    "collapsed": true,
    "scrolled": true
   },
   "outputs": [],
   "source": [
    "class LOGIT_REG:\n",
    "    def __init__(self, C=1.0, poi_info=None, debug=False):\n",
    "        self.C = C\n",
    "        self.debug = debug\n",
    "        self.trained = False\n",
    "        \n",
    "        if poi_info is None:\n",
    "            self.poi_info = None\n",
    "        else:\n",
    "            self.poi_info = poi_info\n",
    "    \n",
    "    \n",
    "    def train(self, trajid_set_train):\n",
    "        # generate training data\n",
    "        if self.poi_info is None:\n",
    "            self.poi_info = calc_poi_info(list(trajid_set_train), traj_all, poi_all)\n",
    "        self.poi_list = sorted(self.poi_info.index)\n",
    "            \n",
    "        train_traj_list = [traj_dict[x] for x in trajid_set_train if len(traj_dict[x]) >= 2]\n",
    "        feature_list = Parallel(n_jobs=N_JOBS)\\\n",
    "                               (delayed(gen_features)(tr[0], len(tr), self.poi_info, poi_clusters=POI_CLUSTERS, \\\n",
    "                                                      cats=POI_CAT_LIST, clusters=POI_CLUSTER_LIST)\n",
    "                                for tr in train_traj_list)\n",
    "        labels_logreg = Parallel(n_jobs=N_JOBS)\\\n",
    "                                (delayed(gen_labels)(tr, self.poi_info, binarise=True) for tr in train_traj_list)\n",
    "        \n",
    "        X = np.vstack(feature_list)\n",
    "        Y_logreg = np.hstack(labels_logreg)\n",
    "\n",
    "        # feature scaling\n",
    "        if ABS_SCALER == True:\n",
    "            self.scaler = MaxAbsScaler(copy=False)\n",
    "        else:\n",
    "            self.scaler = MinMaxScaler(feature_range=(-1,1), copy=False)\n",
    "            #self.scaler = StandardScaler(copy=False)\n",
    "        X = self.scaler.fit_transform(X)\n",
    "\n",
    "        # train\n",
    "        self.logreg = LogisticRegression(C=self.C, n_jobs=N_JOBS)\n",
    "        self.logreg.fit(X, Y_logreg)\n",
    "        self.trained = True\n",
    "        \n",
    "    \n",
    "    \n",
    "    def predict(self, startPOI, nPOI):\n",
    "        assert(self.trained == True)\n",
    "        if startPOI not in self.poi_list: return None\n",
    "        X_test = gen_features(startPOI, nPOI, self.poi_info, poi_clusters=POI_CLUSTERS, \\\n",
    "                              cats=POI_CAT_LIST,clusters=POI_CLUSTER_LIST)\n",
    "        X_test = self.scaler.transform(X_test)\n",
    "        scores_logreg = self.logreg.decision_function(X_test)\n",
    "        \n",
    "        # form recommendation\n",
    "        assert(len(scores_logreg) == len(self.poi_list))\n",
    "        p0_ix = self.poi_list.index(startPOI)\n",
    "        scores_logreg[p0_ix] = -1e6  # mask the start POI\n",
    "        topk_logreg = list(np.argsort(-np.asarray(scores_logreg))[:nPOI-1])\n",
    "        y_hat = [startPOI] + list(np.array(self.poi_list)[topk_logreg])\n",
    "        return np.array(y_hat)"
   ]
  },
  {
   "cell_type": "markdown",
   "metadata": {},
   "source": [
    "Nested cross-validation with Monte-Carlo cross-validation as inner loop."
   ]
  },
  {
   "cell_type": "code",
   "execution_count": null,
   "metadata": {
    "collapsed": true
   },
   "outputs": [],
   "source": [
    "if run_logreg == True:\n",
    "    recdict_logreg = dict()\n",
    "    cnt = 1\n",
    "    keys = sorted(TRAJ_GROUP_DICT.keys())\n",
    "\n",
    "    # outer loop to evaluate the test performance by cross validation\n",
    "    for i in range(len(keys)):\n",
    "        ps, L = keys[i]\n",
    "\n",
    "        best_C = 1\n",
    "        #best_F1 = 0; best_pF1 = 0\n",
    "        best_Tau = 0\n",
    "        keys_cv = keys[:i] + keys[i+1:]\n",
    "        \n",
    "        # use all training+validation set to compute POI features, \n",
    "        # make sure features do NOT change for training and validation\n",
    "        trajid_set_i = set(trajid_set_all) - TRAJ_GROUP_DICT[keys[i]]\n",
    "        poi_info_i = calc_poi_info(list(trajid_set_i), traj_all, poi_all)\n",
    "\n",
    "        # tune regularisation constant C\n",
    "        for logit_C in C_SET:\n",
    "            print('\\n--------------- try_C: %f ---------------\\n' % logit_C); sys.stdout.flush() \n",
    "            F1_logreg = []; pF1_logreg = []; Tau_logreg = []        \n",
    "\n",
    "            # inner loop to evaluate the performance of a model with a specified C by Monte-Carlo cross validation\n",
    "            for j in range(MC_NITER):\n",
    "                poi_list = []\n",
    "                while True: # make sure the start POI in test set are also in training set\n",
    "                    rand_ix = np.arange(len(keys_cv)); np.random.shuffle(rand_ix)\n",
    "                    test_ix = rand_ix[:int(MC_PORTION*len(rand_ix))]\n",
    "                    assert(len(test_ix) > 0)\n",
    "                    trajid_set_train = set(trajid_set_all) - TRAJ_GROUP_DICT[keys[i]]\n",
    "                    for j in test_ix: \n",
    "                        trajid_set_train = trajid_set_train - TRAJ_GROUP_DICT[keys_cv[j]]\n",
    "                    poi_set = set()\n",
    "                    for tid in trajid_set_train: poi_set = poi_set | set(traj_dict[tid])\n",
    "                    good_partition = True\n",
    "                    for j in test_ix: \n",
    "                        if keys_cv[j][0] not in poi_set: good_partition = False; break\n",
    "                    if good_partition == True: \n",
    "                        poi_list = sorted(poi_set)\n",
    "                        break\n",
    "                        \n",
    "                # train\n",
    "                logreg = LOGIT_REG(C=logit_C, poi_info=poi_info_i.loc[poi_list].copy(), debug=True)\n",
    "                logreg.train(list(trajid_set_train))\n",
    "                \n",
    "                # test\n",
    "                for j in test_ix:\n",
    "                    ps_cv, L_cv = keys_cv[j]\n",
    "                    y_hat = logreg.predict(ps_cv, L_cv)\n",
    "                    if y_hat is not None:\n",
    "                        F1, pF1, tau = evaluate(y_hat, TRAJ_GROUP_DICT[keys_cv[j]])\n",
    "                        F1_logreg.append(F1); pF1_logreg.append(pF1); Tau_logreg.append(tau)\n",
    "                        \n",
    "            #mean_F1 = np.mean(F1_logreg); mean_pF1 = np.mean(pF1_logreg)\n",
    "            mean_Tau = np.mean(Tau_logreg)\n",
    "            print('mean_Tau: %.3f' % mean_Tau)\n",
    "            if mean_Tau > best_Tau:\n",
    "                best_Tau = mean_Tau\n",
    "                best_C = logit_C\n",
    "        print('\\n--------------- %d/%d, Query: (%d, %d), Best_C: %f ---------------\\n' % (cnt, len(keys), ps, L, best_C))\n",
    "        sys.stdout.flush()\n",
    "\n",
    "        # train model using all examples in training set and measure performance on test set\n",
    "        logreg = LOGIT_REG(C=best_C, poi_info=poi_info_i, debug=True)\n",
    "        logreg.train(trajid_set_i)\n",
    "        y_hat = logreg.predict(ps, L)\n",
    "        if y_hat is not None:\n",
    "            recdict_logreg[(ps, L)] = {'PRED': y_hat, 'C': logreg.C}\n",
    "\n",
    "        cnt += 1; #print_progress(cnt, len(keys)); sys.stdout.flush()"
   ]
  },
  {
   "cell_type": "code",
   "execution_count": null,
   "metadata": {
    "collapsed": true
   },
   "outputs": [],
   "source": [
    "if run_logreg == True:\n",
    "    F1_logreg = []; pF1_logreg = []; Tau_logreg = []\n",
    "    for key in sorted(recdict_logreg.keys()):\n",
    "        F1, pF1, tau = evaluate(recdict_logreg[key]['PRED'], TRAJ_GROUP_DICT[key])\n",
    "        F1_logreg.append(F1); pF1_logreg.append(pF1); Tau_logreg.append(tau)\n",
    "    print('LogReg: F1 (%.3f, %.3f), pairsF1 (%.3f, %.3f), Tau (%.3f, %.3f)' % \\\n",
    "          (np.mean(F1_logreg), np.std(F1_logreg)/np.sqrt(len(F1_logreg)), \\\n",
    "           np.mean(pF1_logreg), np.std(pF1_logreg)/np.sqrt(len(pF1_logreg)), \\\n",
    "           np.mean(Tau_logreg), np.std(Tau_logreg)/np.sqrt(len(Tau_logreg))))"
   ]
  },
  {
   "cell_type": "code",
   "execution_count": null,
   "metadata": {
    "collapsed": true
   },
   "outputs": [],
   "source": [
    "if run_logreg == True:\n",
    "    flogreg = os.path.join(data_dir, 'logreg-' + dat_suffix[dat_ix] + '.pkl')\n",
    "    pickle.dump(recdict_logreg, open(flogreg, 'bw'))"
   ]
  },
  {
   "cell_type": "markdown",
   "metadata": {},
   "source": [
    "## 2.3 Direct rank/location prediction"
   ]
  },
  {
   "cell_type": "markdown",
   "metadata": {},
   "source": [
    "Direct rank/location prediction: linear regression"
   ]
  },
  {
   "cell_type": "code",
   "execution_count": null,
   "metadata": {
    "collapsed": true,
    "scrolled": true
   },
   "outputs": [],
   "source": [
    "class LINEAR_REG:\n",
    "    def __init__(self, poi_info=None, debug=False):\n",
    "        self.debug = debug\n",
    "        self.trained = False\n",
    "        \n",
    "        if poi_info is None:\n",
    "            self.poi_info = None\n",
    "        else:\n",
    "            self.poi_info = poi_info\n",
    "        \n",
    "    \n",
    "    def train(self, trajid_set_train):\n",
    "        if self.poi_info is None:\n",
    "            self.poi_info = calc_poi_info(list(trajid_set_train), traj_all, poi_all)\n",
    "        self.poi_list = sorted(self.poi_info.index)\n",
    "        \n",
    "        # generate training data\n",
    "        train_traj_list = [traj_dict[x] for x in trajid_set_train if len(traj_dict[x]) >= 2]    \n",
    "        feature_list = Parallel(n_jobs=N_JOBS)\\\n",
    "                               (delayed(gen_features)(tr[0], len(tr), self.poi_info, poi_clusters=POI_CLUSTERS, \\\n",
    "                                        cats=POI_CAT_LIST, clusters=POI_CLUSTER_LIST)\n",
    "                                for tr in train_traj_list)\n",
    "        labels_linreg = Parallel(n_jobs=N_JOBS)\\\n",
    "                                (delayed(gen_labels)(tr, self.poi_info, binarise=False) for tr in train_traj_list)\n",
    "        X = np.vstack(feature_list)\n",
    "        Y_linreg = np.hstack(labels_linreg)\n",
    "        \n",
    "        # remove training examples with label '0', i.e., features of POIs that do not exist in trajectory\n",
    "        #valid_ix = np.nonzero(Y_linreg)[0]\n",
    "        #X = X[valid_ix, :]\n",
    "        #Y_linreg = Y_linreg[valid_ix]\n",
    "        \n",
    "        # feature scaling\n",
    "        if ABS_SCALER == True:\n",
    "            self.scaler = MaxAbsScaler(copy=False)\n",
    "        else:\n",
    "            self.scaler = MinMaxScaler(feature_range=(-1,1), copy=False)\n",
    "            #self.scaler = StandardScaler(copy=False)\n",
    "        X = self.scaler.fit_transform(X)\n",
    "        \n",
    "        # train\n",
    "        self.linreg = LinearRegression(normalize=True, n_jobs=N_JOBS)\n",
    "        self.linreg.fit(X, Y_linreg)\n",
    "        self.trained = True        \n",
    "    \n",
    "    \n",
    "    def predict(self, startPOI, nPOI):\n",
    "        assert(self.trained == True)\n",
    "        if startPOI not in self.poi_list: return None\n",
    "        X_test = gen_features(startPOI, nPOI, self.poi_info, poi_clusters=POI_CLUSTERS, \\\n",
    "                              cats=POI_CAT_LIST,clusters=POI_CLUSTER_LIST)\n",
    "        X_test = self.scaler.transform(X_test)\n",
    "        scores_linreg = self.linreg.predict(X_test)\n",
    "        \n",
    "        # form recommendation\n",
    "        assert(len(scores_linreg) == len(self.poi_list))\n",
    "        p0_ix = self.poi_list.index(startPOI)\n",
    "        scores_linreg[p0_ix] = -1e6  # mask the start POI\n",
    "        topk_linreg = list(np.argsort(-np.asarray(scores_linreg))[:nPOI-1])\n",
    "        y_hat = [startPOI] + list(np.array(self.poi_list)[topk_linreg])\n",
    "        return np.array(y_hat)"
   ]
  },
  {
   "cell_type": "markdown",
   "metadata": {},
   "source": [
    "Leave-one-out cross-validation, NO hyper-parameters to tune."
   ]
  },
  {
   "cell_type": "code",
   "execution_count": null,
   "metadata": {
    "collapsed": true
   },
   "outputs": [],
   "source": [
    "if run_linreg == True:\n",
    "    recdict_linreg = dict()\n",
    "    cnt = 1\n",
    "    keys = sorted(TRAJ_GROUP_DICT.keys())\n",
    "\n",
    "    # outer loop to evaluate the test performance by cross validation\n",
    "    for i in range(len(keys)):\n",
    "        ps, L = keys[i]\n",
    "        trajid_set_i = set(trajid_set_all) - TRAJ_GROUP_DICT[keys[i]]\n",
    "        poi_info_i = calc_poi_info(list(trajid_set_i), traj_all, poi_all)\n",
    "\n",
    "        print('\\n--------------- %d/%d, Query: (%d, %d) ---------------\\n' % (cnt, len(keys), ps, L))\n",
    "\n",
    "        # train model using all examples in training+evaluation set and measure performance on test set\n",
    "        linreg = LINEAR_REG(poi_info=poi_info_i)\n",
    "        linreg.train(list(trajid_set_i))\n",
    "        y_hat = linreg.predict(ps, L)\n",
    "        if y_hat is not None:\n",
    "            recdict_linreg[(ps, L)] = {'PRED': y_hat}\n",
    "\n",
    "        cnt += 1; #print_progress(cnt, len(keys)); sys.stdout.flush()"
   ]
  },
  {
   "cell_type": "code",
   "execution_count": null,
   "metadata": {
    "collapsed": true
   },
   "outputs": [],
   "source": [
    "if run_linreg == True:\n",
    "    F1_linreg = []; pF1_linreg = []; Tau_linreg = []\n",
    "    for key in sorted(recdict_linreg.keys()):\n",
    "        F1, pF1, tau = evaluate(recdict_linreg[key]['PRED'], TRAJ_GROUP_DICT[key])\n",
    "        F1_linreg.append(F1); pF1_linreg.append(pF1); Tau_linreg.append(tau)\n",
    "    print('LinReg: F1 (%.3f, %.3f), pairsF1 (%.3f, %.3f), Tau (%.3f, %.3f)' % \\\n",
    "          (np.mean(F1_linreg), np.std(F1_linreg)/np.sqrt(len(F1_linreg)), \\\n",
    "           np.mean(pF1_linreg), np.std(pF1_linreg)/np.sqrt(len(pF1_linreg)), \\\n",
    "           np.mean(Tau_linreg), np.std(Tau_linreg)/np.sqrt(len(Tau_linreg))))"
   ]
  },
  {
   "cell_type": "code",
   "execution_count": null,
   "metadata": {
    "collapsed": true
   },
   "outputs": [],
   "source": [
    "if run_linreg == True:\n",
    "    flinreg = os.path.join(data_dir, 'linreg-' + dat_suffix[dat_ix] + '.pkl')\n",
    "    pickle.dump(recdict_linreg, open(flinreg, 'bw'))"
   ]
  },
  {
   "cell_type": "markdown",
   "metadata": {},
   "source": [
    "## 2.4 Pairwise POI ranking"
   ]
  },
  {
   "cell_type": "markdown",
   "metadata": {},
   "source": [
    "Cost function and its gradient for pairwise POI ranking."
   ]
  },
  {
   "cell_type": "code",
   "execution_count": null,
   "metadata": {
    "collapsed": true
   },
   "outputs": [],
   "source": [
    "%load_ext Cython"
   ]
  },
  {
   "cell_type": "code",
   "execution_count": null,
   "metadata": {
    "collapsed": true
   },
   "outputs": [],
   "source": [
    "%%cython\n",
    "import numpy as np\n",
    "cimport numpy as np\n",
    "\n",
    "cpdef pwr_obj(w, X, Y, float C, long M, logit_loss=True):\n",
    "    \"\"\"\n",
    "    w - parameter vector\n",
    "    X - feature matrix for all training examples (features of all POIs for the 1st example, then 2nd, ...)\n",
    "    Y - labels/ranks for all training examples (labels of all POIs for the 1st example, then 2nd, ...)\n",
    "    C - regularisation constant\n",
    "    M - total number of POIs\n",
    "    logit_loss - True for logistic loss, False for squared hinge loss\n",
    "    return the cost and the gradient of cost\n",
    "    \"\"\"\n",
    "    assert(C > 0)\n",
    "    assert(M > 0)\n",
    "    cdef long N, N1, D, i, pj, pk, ix_j, ix_k\n",
    "    Nq = int(np.shape(X)[0]/M) # number of queries\n",
    "    D = np.shape(X)[1]\n",
    "    assert(D == np.shape(w)[0])\n",
    "    assert(np.shape(X)[0] == np.shape(Y)[0])\n",
    "    N1 = 10 * np.shape(X)[0]  # 10 * M * N\n",
    "    \n",
    "    cdef double cost, costi, lossi, l_jk\n",
    "    cost = 0.0\n",
    "    grad = np.zeros(D, dtype=np.float)\n",
    "    \n",
    "    for i in range(Nq):\n",
    "        costi = 0.0\n",
    "        gradi = np.zeros(D, dtype=np.float)\n",
    "        for pj in range(M-1): # symmetric breaking of pair (pj, pk), #pairs should be n choose 2 not n^2\n",
    "            ix_j = i*M + pj  # index of feature vector/label for POI pj\n",
    "            for pk in range(pj+1, M):\n",
    "                #if pj == pk:\n",
    "                #    #result += np.log(2)  # constant\n",
    "                #    continue\n",
    "                ix_k = i*M + pk\n",
    "                l_jk = 0\n",
    "                if Y[ix_j] > Y[ix_k]: l_jk = 1.0\n",
    "                if Y[ix_j] < Y[ix_k]: l_jk = -1.0\n",
    "                phi_jk = X[ix_j] - X[ix_k]\n",
    "                term = l_jk * np.dot(w, phi_jk)\n",
    "                if logit_loss == True:\n",
    "                    costi += np.log1p(np.exp(-1.0 * term))\n",
    "                    gradi = gradi + phi_jk * (-1.0 * l_jk / (1.0 + np.exp(term)))\n",
    "                else:\n",
    "                    if term < 1:\n",
    "                        costi += (1.0 - term)**2\n",
    "                        gradi = gradi - 2 * l_jk * (1.0 - term) * phi_jk\n",
    "                \n",
    "        cost += costi / N1\n",
    "        grad = grad + gradi / N1\n",
    "        \n",
    "    cost = 0.5 * np.dot(w, w) + C * cost\n",
    "    grad = w + C * grad\n",
    "    \n",
    "    return (cost, grad)"
   ]
  },
  {
   "cell_type": "markdown",
   "metadata": {},
   "source": [
    "Pairwise POI ranking."
   ]
  },
  {
   "cell_type": "markdown",
   "metadata": {},
   "source": [
    "**Use the same features and labels as RankSVM**"
   ]
  },
  {
   "cell_type": "code",
   "execution_count": null,
   "metadata": {
    "collapsed": true,
    "scrolled": true
   },
   "outputs": [],
   "source": [
    "class PW_RANK:\n",
    "    def __init__(self, dat_obj, C=1.0, poi_info=None, logit_loss=True, debug=False):\n",
    "        self.dat_obj = dat_obj\n",
    "        self.C = C\n",
    "        self.logit_loss = logit_loss\n",
    "        self.debug = debug\n",
    "        self.trained = False\n",
    "        \n",
    "        if poi_info is None:\n",
    "            self.poi_info = None\n",
    "        else:\n",
    "            self.poi_info = poi_info\n",
    "            \n",
    "       \n",
    "    def train(self, trajid_set_train):\n",
    "        if self.poi_info is None:\n",
    "            self.poi_info = self.dat_obj.calc_poi_info(list(trajid_set_train))\n",
    "        self.poi_list = sorted(self.poi_info.index)\n",
    "        \n",
    "        #train_traj_list = [traj_dict[x] for x in trajid_set_train if len(traj_dict[x]) >= 2]            \n",
    "        #feature_list = Parallel(n_jobs=N_JOBS)\\\n",
    "        #                       (delayed(gen_features)(tr[0], len(tr), self.poi_info, poi_clusters=POI_CLUSTERS, \\\n",
    "        #                                cats=POI_CAT_LIST, clusters=POI_CLUSTER_LIST)\n",
    "        #                        for tr in train_traj_list)\n",
    "        #labels_linreg = Parallel(n_jobs=N_JOBS)\\\n",
    "        #                        (delayed(gen_labels)(tr, self.poi_info, binarise=False) for tr in train_traj_list)\n",
    "        \n",
    "        traj_groups = dict()\n",
    "        for tid in trajid_set_train:\n",
    "            tr = self.dat_obj.traj_dict[tid]\n",
    "            if len(tr) < 2: continue\n",
    "            q = (tr[0], len(tr))\n",
    "            try: traj_groups[q].append(tid)\n",
    "            except: traj_groups[q] = [tid]\n",
    "        queries = sorted(traj_groups.keys())\n",
    "        feature_list = Parallel(n_jobs=N_JOBS)\\\n",
    "                               (delayed(calc_node_features)(q[0], q[1], self.poi_list, self.poi_info, self.dat_obj)\\\n",
    "                                for q in queries)\n",
    "        labels = []\n",
    "        for q in queries:\n",
    "            label = pd.Series(data=np.zeros(len(self.poi_list), dtype=np.float), index=self.poi_list)\n",
    "            for tid in traj_groups[q]:\n",
    "                tr = self.dat_obj.traj_dict[tid]\n",
    "                for poi in tr[1:]: label.loc[poi] += 1\n",
    "            labels.append(label)   \n",
    "        \n",
    "        X = np.vstack(feature_list)\n",
    "        Y = np.hstack(labels)\n",
    "        \n",
    "        # remove training examples with label '0', i.e., features of POIs that do not exist in trajectory\n",
    "        #valid_ix = np.nonzero(Y_linreg)[0]\n",
    "        #X = X[valid_ix, :]\n",
    "        #Y_linreg = Y_linreg[valid_ix]\n",
    "        \n",
    "        # feature scaling\n",
    "        if ABS_SCALER == True:\n",
    "            self.Xscaler = MaxAbsScaler(copy=False)\n",
    "            #self.Yscaler = MaxAbsScaler(copy=False)\n",
    "        else:\n",
    "            self.Xscaler = MinMaxScaler(feature_range=(-1,1), copy=False)\n",
    "            #self.Yscaler = MinMaxScaler(feature_range=(-1,1), copy=False)\n",
    "            #self.scaler = StandardScaler(copy=False)\n",
    "        X = self.Xscaler.fit_transform(X)\n",
    "        #Y = self.Yscaler.fit_transform(Y.reshape(-1, 1))\n",
    "        #Y = Y.reshape(-1)  # reshape to one dimension\n",
    "        \n",
    "        w = np.random.rand(np.shape(X)[1])  # initial guess\n",
    "        opt_method = 'BFGS' #'Newton-CG' \n",
    "        options = {'disp': True} if self.debug == True else dict()\n",
    "        opt = minimize(pwr_obj, w, args=(X, Y, self.C, len(self.poi_list), self.logit_loss), \\\n",
    "                       method=opt_method, jac=True, options=options)\n",
    "        if opt.success == True:\n",
    "            self.w = opt.x\n",
    "            self.trained = True\n",
    "        else:\n",
    "            sys.stderr.write('Optimisation failed, C=%f\\n' % self.C)\n",
    "            self.trained = False\n",
    "        return self.trained\n",
    "        \n",
    "    \n",
    "    def predict(self, startPOI, nPOI):\n",
    "        assert(self.trained == True)\n",
    "        if startPOI not in self.poi_list: return None\n",
    "        X_test = calc_node_features(startPOI, nPOI, self.poi_list, self.poi_info, self.dat_obj)\n",
    "        #X_test = gen_features(startPOI, nPOI, self.poi_info, poi_clusters=POI_CLUSTERS, \\\n",
    "        #                      cats=POI_CAT_LIST,clusters=POI_CLUSTER_LIST)\n",
    "        X_test = self.Xscaler.transform(X_test)\n",
    "        scores_pwr = 1.0 / (1.0 + np.exp(-1.0 * np.dot(X_test, self.w)))\n",
    "        \n",
    "        # form recommendation\n",
    "        assert(len(scores_pwr) == len(self.poi_list))\n",
    "        p0_ix = self.poi_list.index(startPOI)\n",
    "        scores_pwr[p0_ix] = -1e6  # mask the start POI\n",
    "        topk_pwr = list(np.argsort(-np.asarray(scores_pwr))[:nPOI-1])\n",
    "        y_hat = [startPOI] + list(np.array(self.poi_list)[topk_pwr])\n",
    "        return np.array(y_hat)"
   ]
  },
  {
   "cell_type": "markdown",
   "metadata": {},
   "source": [
    "Nested cross-validation with Monte-Carlo cross-validation as inner loop."
   ]
  },
  {
   "cell_type": "code",
   "execution_count": null,
   "metadata": {
    "collapsed": true,
    "scrolled": true
   },
   "outputs": [],
   "source": [
    "if run_pwr == True:\n",
    "    LOGIT_LOSS = False\n",
    "    recdict_pwr = dict()\n",
    "    cnt = 1\n",
    "    keys = sorted(dat_obj.TRAJID_GROUP_DICT.keys())\n",
    "\n",
    "    # outer loop to evaluate the test performance by cross validation\n",
    "    for i in range(len(keys)):\n",
    "        ps, L = keys[i]\n",
    "\n",
    "        best_C = 1\n",
    "        #best_F1 = 0; best_pF1 = 0\n",
    "        best_Tau = 0\n",
    "        keys_cv = keys[:i] + keys[i+1:]\n",
    "        \n",
    "        # use all training+validation set to compute POI features, \n",
    "        # make sure features do NOT change for training and validation\n",
    "        trajid_set_i = set(dat_obj.trajid_set_all) - dat_obj.TRAJID_GROUP_DICT[keys[i]]\n",
    "        poi_info_i = dat_obj.calc_poi_info(list(trajid_set_i))\n",
    "\n",
    "        poi_set_i = {p for tid in trajid_set_i for p in dat_obj.traj_dict[tid] if len(dat_obj.traj_dict[tid]) >= 2}\n",
    "        if ps not in poi_set_i: \n",
    "            sys.stderr.write('start POI of query %s does not exist in training set.\\n' % str(keys[i]))\n",
    "            continue\n",
    "\n",
    "        # tune regularisation constant C\n",
    "        for logit_C in C_SET:\n",
    "            print('\\n--------------- try_C: %f ---------------\\n' % logit_C); sys.stdout.flush() \n",
    "            F1_pwr = []; pF1_pwr = []; Tau_pwr = []        \n",
    "\n",
    "            # inner loop to evaluate the performance of a model with a specified C by Monte-Carlo cross validation\n",
    "            for j in range(MC_NITER):\n",
    "                poi_list = []\n",
    "                while True: # make sure the start POI in test set are also in training set\n",
    "                    rand_ix = np.arange(len(keys_cv)); np.random.shuffle(rand_ix)\n",
    "                    test_ix = rand_ix[:int(MC_PORTION*len(rand_ix))]\n",
    "                    assert(len(test_ix) > 0)\n",
    "                    trajid_set_train = set(dat_obj.trajid_set_all) - dat_obj.TRAJID_GROUP_DICT[keys[i]]\n",
    "                    for j in test_ix: \n",
    "                        trajid_set_train = trajid_set_train - dat_obj.TRAJID_GROUP_DICT[keys_cv[j]]\n",
    "                    poi_set = {poi for tid in trajid_set_train for poi in dat_obj.traj_dict[tid]}\n",
    "                    good_partition = True\n",
    "                    for j in test_ix: \n",
    "                        if keys_cv[j][0] not in poi_set: good_partition = False; break\n",
    "                    if good_partition == True:\n",
    "                        poi_list = sorted(poi_set)\n",
    "                        break\n",
    "\n",
    "                # train\n",
    "                pwr = PW_RANK(dat_obj, C=logit_C, poi_info=poi_info_i.loc[poi_list].copy(), \n",
    "                              logit_loss=LOGIT_LOSS, debug=True)\n",
    "                if pwr.train(list(trajid_set_train)) == True:\n",
    "                    for j in test_ix:  # test\n",
    "                        ps_cv, L_cv = keys_cv[j]\n",
    "                        y_hat = pwr.predict(ps_cv, L_cv)\n",
    "                        if y_hat is not None:\n",
    "                            F1, pF1, tau = evaluate(dat_obj, keys_cv[j], [y_hat])\n",
    "                            F1_pwr.append(F1); pF1_pwr.append(pF1); Tau_pwr.append(tau)\n",
    "                else:  # if training is failed\n",
    "                    for j in test_ix:\n",
    "                        F1_pwr.append(0); pF1_pwr.append(0); Tau_pwr.append(0)\n",
    "\n",
    "            #mean_F1 = np.mean(F1_pwr); mean_pF1 = np.mean(pF1_pwr)\n",
    "            mean_Tau = np.mean(Tau_pwr)\n",
    "            print('mean_Tau: %.3f' % mean_Tau)\n",
    "            if mean_Tau > best_Tau:\n",
    "                best_Tau = mean_Tau\n",
    "                best_C = logit_C\n",
    "        print('\\n--------------- %d/%d, Query: (%d, %d), Best_C: %f ---------------\\n' % (cnt, len(keys), ps, L, best_C))\n",
    "        sys.stdout.flush()\n",
    "\n",
    "        # train model using all examples in training set and measure performance on test set\n",
    "        pwr = PW_RANK(dat_obj, C=best_C, poi_info=poi_info_i, logit_loss=LOGIT_LOSS, debug=True)\n",
    "        if pwr.train(trajid_set_i) == True:\n",
    "            y_hat = pwr.predict(ps, L)\n",
    "            if y_hat is not None:\n",
    "                recdict_pwr[(ps, L)] = {'PRED': [y_hat], 'W': pwr.w, 'C': pwr.C}\n",
    "                print(y_hat)\n",
    "\n",
    "        cnt += 1; #print_progress(cnt, len(keys)); sys.stdout.flush()"
   ]
  },
  {
   "cell_type": "code",
   "execution_count": null,
   "metadata": {
    "collapsed": true
   },
   "outputs": [],
   "source": [
    "len(recdict_pwr)"
   ]
  },
  {
   "cell_type": "code",
   "execution_count": null,
   "metadata": {
    "collapsed": true
   },
   "outputs": [],
   "source": [
    "if run_pwr == True:\n",
    "    print('PW_RANK:')\n",
    "    do_evaluation(dat_obj, recdict_pwr)"
   ]
  },
  {
   "cell_type": "code",
   "execution_count": null,
   "metadata": {
    "collapsed": true
   },
   "outputs": [],
   "source": [
    "if run_pwr == True:\n",
    "    fpwr = os.path.join(data_dir, 'pwr-' + dat_obj.dat_suffix[dat_ix] + '.pkl')\n",
    "    pickle.dump(recdict_pwr, open(fpwr, 'bw'))"
   ]
  },
  {
   "cell_type": "markdown",
   "metadata": {},
   "source": [
    "# 3. Trajectory Scoring"
   ]
  },
  {
   "cell_type": "markdown",
   "metadata": {},
   "source": [
    "## 3.1 Transition Matrix between POIs"
   ]
  },
  {
   "cell_type": "markdown",
   "metadata": {},
   "source": [
    "Approximate transition probabilities (matrix) between different POI features (vector) using the [Kronecker product](https://en.wikipedia.org/wiki/Kronecker_product) of individual transition matrix corresponding to each feature, i.e., POI category, POI popularity (discritized), POI average visit duration (discritized) and POI neighborhoods (clusters)."
   ]
  },
  {
   "cell_type": "markdown",
   "metadata": {},
   "source": [
    "Deal with features without corresponding POIs and feature with more than one corresponding POIs. (*Before Normalisation*)\n",
    "- For features without corresponding POIs, just remove the rows and columns from the matrix obtained by Kronecker product.\n",
    "- For different POIs with the exact same feature, \n",
    "  - Let POIs with the same feature as a POI group,\n",
    "  - The *incoming* **transition value (i.e., unnormalised transition probability)** of this POI group \n",
    "    should be divided uniformly among the group members, \n",
    "    *which corresponds to choose a group member uniformly at random in the incoming case*.\n",
    "  - The *outgoing* transition value should be duplicated (i.e., the same) among all group members, \n",
    "    **as we were already in that group in the outgoing case**.\n",
    "  - For each POI in the group, the allocation transition value of the *self-loop of the POI group* is similar to \n",
    "    that in the *outgoing* case, **as we were already in that group**, so just duplicate and then divide uniformly among \n",
    "    the transitions from this POI to other POIs in the same group, \n",
    "    *which corresponds to choose a outgoing transition uniformly at random from all outgoing transitions\n",
    "    excluding the self-loop of this POI*.\n",
    "- **Concretely**, for a POI group with $n$ POIs, \n",
    "    1. If the *incoming* transition value of POI group is $m_1$,\n",
    "       then the corresponding *incoming* transition value for each group member is $\\frac{m_1}{n}$.\n",
    "    1. If the *outgoing* transition value of POI group is $m_2$,\n",
    "       then the corresponding *outgoing* transition value for each group member is also $m_2$.\n",
    "    1. If the transition value of *self-loop of the POI group* is $m_3$,\n",
    "       then transition value of *self-loop of individual POIs* should be $0$,  \n",
    "       and *other in-group transitions* with value $\\frac{m_3}{n-1}$\n",
    "       as the total number of outgoing transitions to other POIs in the same group is $n-1$ (excluding the self-loop),\n",
    "       i.e. $n-1$ choose $1$.\n",
    "       \n",
    "**NOTE**: execute the above division before or after row normalisation will lead to the same result, *as the division itself does NOT change the normalising constant of each row (i.e., the sum of each row before normalising)*."
   ]
  },
  {
   "cell_type": "code",
   "execution_count": null,
   "metadata": {
    "collapsed": true
   },
   "outputs": [],
   "source": [
    "def gen_poi_logtransmat(trajid_list, poi_set, traj_dict, poi_info, debug=False):\n",
    "    transmat_cat                        = gen_transmat_cat(trajid_list, traj_dict, poi_info)\n",
    "    transmat_pop,      logbins_pop      = gen_transmat_pop(trajid_list, traj_dict, poi_info)\n",
    "    transmat_visit,    logbins_visit    = gen_transmat_visit(trajid_list, traj_dict, poi_info)\n",
    "    transmat_duration, logbins_duration = gen_transmat_duration(trajid_list, traj_dict, poi_info)\n",
    "    transmat_neighbor, poi_clusters     = gen_transmat_neighbor(trajid_list, traj_dict, poi_info)\n",
    "\n",
    "    # Kronecker product\n",
    "    transmat_ix = list(itertools.product(transmat_cat.index, transmat_pop.index, transmat_visit.index, \\\n",
    "                                         transmat_duration.index, transmat_neighbor.index))\n",
    "    transmat_value = transmat_cat.values\n",
    "    for transmat in [transmat_pop, transmat_visit, transmat_duration, transmat_neighbor]:\n",
    "        transmat_value = kron(transmat_value, transmat.values)\n",
    "    transmat_feature = pd.DataFrame(data=transmat_value, index=transmat_ix, columns=transmat_ix)\n",
    "    \n",
    "    poi_train = sorted(poi_set)\n",
    "    feature_names = ['poiCat', 'popularity', 'nVisit', 'avgDuration', 'clusterID']\n",
    "    poi_features = pd.DataFrame(data=np.zeros((len(poi_train), len(feature_names))), \\\n",
    "                                columns=feature_names, index=poi_train)\n",
    "    poi_features.index.name = 'poiID'\n",
    "    poi_features['poiCat'] = poi_info.loc[poi_train, 'poiCat']\n",
    "    poi_features['popularity'] = np.digitize(poi_info.loc[poi_train, 'popularity'], logbins_pop)\n",
    "    poi_features['nVisit'] = np.digitize(poi_info.loc[poi_train, 'nVisit'], logbins_visit)\n",
    "    poi_features['avgDuration'] = np.digitize(poi_info.loc[poi_train, 'avgDuration'], logbins_duration)\n",
    "    poi_features['clusterID'] = poi_clusters.loc[poi_train, 'clusterID']\n",
    "    \n",
    "    # shrink the result of Kronecker product and deal with POIs with the same features\n",
    "    poi_logtransmat = pd.DataFrame(data=np.zeros((len(poi_train), len(poi_train)), dtype=np.float), \\\n",
    "                                   columns=poi_train, index=poi_train)\n",
    "    for p1 in poi_logtransmat.index:\n",
    "        rix = tuple(poi_features.loc[p1])\n",
    "        for p2 in poi_logtransmat.columns:\n",
    "            cix = tuple(poi_features.loc[p2])\n",
    "            value_ = transmat_feature.loc[(rix,), (cix,)]\n",
    "            poi_logtransmat.loc[p1, p2] = value_.values[0, 0]\n",
    "    \n",
    "    # group POIs with the same features\n",
    "    features_dup = dict()\n",
    "    for poi in poi_features.index:\n",
    "        key = tuple(poi_features.loc[poi])\n",
    "        if key in features_dup:\n",
    "            features_dup[key].append(poi)\n",
    "        else:\n",
    "            features_dup[key] = [poi]\n",
    "    if debug == True:\n",
    "        for key in sorted(features_dup.keys()):\n",
    "            print(key, '->', features_dup[key])\n",
    "            \n",
    "    # deal with POIs with the same features\n",
    "    for feature in sorted(features_dup.keys()):\n",
    "        n = len(features_dup[feature])\n",
    "        if n > 1:\n",
    "            group = features_dup[feature]\n",
    "            v1 = poi_logtransmat.loc[group[0], group[0]]  # transition value of self-loop of POI group\n",
    "            \n",
    "            # divide incoming transition value (i.e. unnormalised transition probability) uniformly among group members\n",
    "            for poi in group:\n",
    "                poi_logtransmat[poi] /= n\n",
    "                \n",
    "            # outgoing transition value has already been duplicated (value copied above)\n",
    "            \n",
    "            # duplicate & divide transition value of self-loop of POI group uniformly among all outgoing transitions,\n",
    "            # from a POI to all other POIs in the same group (excluding POI self-loop)\n",
    "            v2 = v1 / (n - 1)\n",
    "            for pair in itertools.permutations(group, 2):\n",
    "                poi_logtransmat.loc[pair[0], pair[1]] = v2\n",
    "                            \n",
    "    # normalise each row\n",
    "    for p1 in poi_logtransmat.index:\n",
    "        poi_logtransmat.loc[p1, p1] = 0\n",
    "        rowsum = poi_logtransmat.loc[p1].sum()\n",
    "        assert(rowsum > 0)\n",
    "        logrowsum = np.log10(rowsum)\n",
    "        for p2 in poi_logtransmat.columns:\n",
    "            if p1 == p2:\n",
    "                poi_logtransmat.loc[p1, p2] = LOG_ZERO  # deal with log(0) explicitly\n",
    "            else:\n",
    "                poi_logtransmat.loc[p1, p2] = np.log10(poi_logtransmat.loc[p1, p2]) - logrowsum\n",
    "    \n",
    "    return poi_logtransmat"
   ]
  },
  {
   "cell_type": "code",
   "execution_count": null,
   "metadata": {
    "collapsed": true
   },
   "outputs": [],
   "source": [
    "#transmat_ = gen_poi_logtransmat(trajid_set_all, set(poi_info_all.index), traj_dict, poi_info_all, debug=True)"
   ]
  },
  {
   "cell_type": "markdown",
   "metadata": {},
   "source": [
    "## 3.2 Inference: Viterbi Decoding vs ILP"
   ]
  },
  {
   "cell_type": "markdown",
   "metadata": {},
   "source": [
    "Use dynamic programming to find a possibly non-simple path, i.e., walk.   "
   ]
  },
  {
   "cell_type": "code",
   "execution_count": null,
   "metadata": {
    "collapsed": true
   },
   "outputs": [],
   "source": [
    "def find_viterbi(V, E, ps, L, withNodeWeight=False, alpha=0.5):\n",
    "    assert(isinstance(V, pd.DataFrame))\n",
    "    assert(isinstance(E, pd.DataFrame))\n",
    "    assert(ps in V.index)\n",
    "    assert(2 <= L <= V.index.shape[0])\n",
    "    if withNodeWeight == True:\n",
    "        assert(0 < alpha < 1)\n",
    "        beta = 1 - alpha\n",
    "    else:\n",
    "        alpha = 0\n",
    "        beta = 1\n",
    "        weightkey = 'weight'\n",
    "        if weightkey not in V.columns:\n",
    "            V['weight'] = 1  # dummy weights, will not be used as alpha=0\n",
    "    poi_id_dict, poi_id_rdict = dict(), dict()\n",
    "    for ix, poi in enumerate(V.index):\n",
    "        poi_id_dict[poi] = ix\n",
    "        poi_id_rdict[ix] = poi\n",
    "    M = V.shape[0]\n",
    "    assert(E.shape[0] >= M)\n",
    "    assert(E.shape[1] >= M)\n",
    "    \n",
    "    A = np.zeros((L-1, M), dtype=np.float)     # scores matrix\n",
    "    B = np.ones((L-1, M), dtype=np.int) * (-1) # backtracking pointers\n",
    "    \n",
    "    for p in range(M): # ps--p1\n",
    "        p1 = poi_id_rdict[p]\n",
    "        A[0, p] = alpha * V.loc[p1, 'weight'] + beta * E.loc[ps, p1] if p1 != ps else -np.inf\n",
    "        B[0, p] = poi_id_dict[ps]\n",
    "\n",
    "    for t in range(0, L-2): # ps~~p2'--p3\n",
    "        for p in range(M):\n",
    "            p3 = poi_id_rdict[p]\n",
    "            scores = [A[t, p2] + alpha * V.loc[p3, 'weight'] + beta * E.loc[poi_id_rdict[p2], p3] \\\n",
    "                      if poi_id_rdict[p2] not in {ps, p3} else -np.inf for p2 in range(M)] \n",
    "            maxix = np.argmax(scores)\n",
    "            A[t+1, p] = scores[maxix]\n",
    "            B[t+1, p] = maxix\n",
    "            \n",
    "    y_hat = [np.argmax(A[L-2, :])]\n",
    "    p, t = y_hat[-1], L-2\n",
    "    while t >= 0:\n",
    "        y_hat.append(B[t, p])\n",
    "        p, t = y_hat[-1], t-1\n",
    "    y_hat.reverse()\n",
    "\n",
    "    return np.asarray([poi_id_rdict[p] for p in y_hat])"
   ]
  },
  {
   "cell_type": "markdown",
   "metadata": {},
   "source": [
    "Use integer linear programming (ILP) to find a simple path."
   ]
  },
  {
   "cell_type": "code",
   "execution_count": null,
   "metadata": {
    "collapsed": true
   },
   "outputs": [],
   "source": [
    "def find_ILP(V, E, ps, L, withNodeWeight=False, alpha=0.5):\n",
    "    assert(isinstance(V, pd.DataFrame))\n",
    "    assert(isinstance(E, pd.DataFrame))\n",
    "    assert(ps in V.index)\n",
    "    assert(2 <= L <= V.index.shape[0])\n",
    "    if withNodeWeight == True:\n",
    "        assert(0 < alpha < 1)\n",
    "    beta = 1 - alpha\n",
    "    \n",
    "    p0 = str(ps); M = V.index.shape[0]\n",
    "    \n",
    "    # REF: pythonhosted.org/PuLP/index.html\n",
    "    pois = [str(p) for p in V.index] # create a string list for each POI\n",
    "    pb = pulp.LpProblem('MostLikelyTraj', pulp.LpMaximize) # create problem\n",
    "    # visit_i_j = 1 means POI i and j are visited in sequence\n",
    "    visit_vars = pulp.LpVariable.dicts('visit', (pois, pois), 0, 1, pulp.LpInteger) \n",
    "    # isend_l = 1 means POI l is the END POI of trajectory\n",
    "    isend_vars = pulp.LpVariable.dicts('isend', pois, 0, 1, pulp.LpInteger) \n",
    "    # a dictionary contains all dummy variables\n",
    "    dummy_vars = pulp.LpVariable.dicts('u', [x for x in pois if x != p0], 2, M, pulp.LpInteger)\n",
    "    \n",
    "    # add objective\n",
    "    objlist = []\n",
    "    if withNodeWeight == True:\n",
    "        objlist.append(alpha * V.loc[int(p0), 'weight'])\n",
    "    for pi in [x for x in pois]:     # from\n",
    "        for pj in [y for y in pois if y != p0]: # to\n",
    "            if withNodeWeight == True:\n",
    "                objlist.append(visit_vars[pi][pj] * (alpha * V.loc[int(pj), 'weight'] + beta * E.loc[int(pi), int(pj)]))\n",
    "            else:\n",
    "                objlist.append(visit_vars[pi][pj] * E.loc[int(pi), int(pj)])\n",
    "    pb += pulp.lpSum(objlist), 'Objective'\n",
    "    \n",
    "    # add constraints, each constraint should be in ONE line\n",
    "    pb += pulp.lpSum([visit_vars[pi][pi] for pi in pois]) == 0, 'NoSelfLoops'\n",
    "    pb += pulp.lpSum([visit_vars[p0][pj] for pj in pois]) == 1, 'StartAt_p0'\n",
    "    pb += pulp.lpSum([visit_vars[pi][p0] for pi in pois]) == 0, 'NoIncoming_p0'\n",
    "    pb += pulp.lpSum([visit_vars[pi][pj] for pi in pois for pj in pois]) == L-1, 'Length'\n",
    "    pb += pulp.lpSum([isend_vars[pi] for pi in pois]) == 1, 'OneEnd'\n",
    "    pb += isend_vars[p0] == 0, 'StartNotEnd'\n",
    "    \n",
    "    for pk in [x for x in pois if x != p0]:\n",
    "        pb += pulp.lpSum([visit_vars[pi][pk] for pi in pois]) == isend_vars[pk] + \\\n",
    "              pulp.lpSum([visit_vars[pk][pj] for pj in pois if pj != p0]), 'ConnectedAt_' + pk\n",
    "        pb += pulp.lpSum([visit_vars[pi][pk] for pi in pois]) <= 1, 'Enter_' + pk + '_AtMostOnce'\n",
    "        pb += pulp.lpSum([visit_vars[pk][pj] for pj in pois if pj != p0]) + isend_vars[pk] <= 1, \\\n",
    "              'Leave_' + pk + '_AtMostOnce'\n",
    "    for pi in [x for x in pois if x != p0]:\n",
    "        for pj in [y for y in pois if y != p0]:\n",
    "            pb += dummy_vars[pi] - dummy_vars[pj] + 1 <= (M - 1) * (1 - visit_vars[pi][pj]), \\\n",
    "                    'SubTourElimination_' + pi + '_' + pj\n",
    "    #pb.writeLP(\"traj_tmp.lp\")\n",
    "    \n",
    "    # solve problem: solver should be available in PATH\n",
    "    if USE_GUROBI == True:\n",
    "        gurobi_options = [('TimeLimit', '7200'), ('Threads', str(N_JOBS)), ('NodefileStart', '0.2'), ('Cuts', '2')]\n",
    "        pb.solve(pulp.GUROBI_CMD(path='gurobi_cl', options=gurobi_options)) # GUROBI\n",
    "    else:\n",
    "        pb.solve(pulp.COIN_CMD(path='cbc', options=['-threads', str(N_JOBS), '-strategy', '1', '-maxIt', '2000000']))#CBC\n",
    "    visit_mat = pd.DataFrame(data=np.zeros((len(pois), len(pois)), dtype=np.float), index=pois, columns=pois)\n",
    "    isend_vec = pd.Series(data=np.zeros(len(pois), dtype=np.float), index=pois)\n",
    "    for pi in pois:\n",
    "        isend_vec.loc[pi] = isend_vars[pi].varValue\n",
    "        for pj in pois: visit_mat.loc[pi, pj] = visit_vars[pi][pj].varValue\n",
    "    #visit_mat.to_csv('visit.csv')\n",
    "\n",
    "    # build the recommended trajectory\n",
    "    recseq = [p0]\n",
    "    while True:\n",
    "        pi = recseq[-1]\n",
    "        pj = visit_mat.loc[pi].idxmax()\n",
    "        value = visit_mat.loc[pi, pj]\n",
    "        #print(value, int(round(value)))\n",
    "        #print(recseq)\n",
    "        assert(int(round(value)) == 1)\n",
    "        recseq.append(pj)\n",
    "        if len(recseq) == L: \n",
    "            assert(int(round(isend_vec[pj])) == 1)\n",
    "            #print('===:', recseq, ':====')\n",
    "            return np.asarray([int(x) for x in recseq])"
   ]
  },
  {
   "cell_type": "markdown",
   "metadata": {},
   "source": [
    "Recommend trajectories by leveraging POI-POI transition probabilities (maximise the transition likelihood)."
   ]
  },
  {
   "cell_type": "markdown",
   "metadata": {},
   "source": [
    "Leave-one-out cross-validation, NO hyper-parameters to tune."
   ]
  },
  {
   "cell_type": "code",
   "execution_count": null,
   "metadata": {
    "collapsed": true
   },
   "outputs": [],
   "source": [
    "if run_tran == True:\n",
    "    recdict_tran_DP = dict()\n",
    "    recdict_tran_ILP = dict()\n",
    "    cnt = 1\n",
    "    keys = sorted(TRAJ_GROUP_DICT.keys())\n",
    "\n",
    "    # outer loop to evaluate the test performance by cross validation\n",
    "    for i in range(len(keys)):\n",
    "        ps, L = keys[i]\n",
    "        \n",
    "        print('\\n--------------- %d/%d, Query: (%d, %d) ---------------\\n' % (cnt, len(keys), ps, L))\n",
    "\n",
    "        # train model using all examples in training+validation set and measure performance on test set\n",
    "        trajid_set_train = set(trajid_set_all) - TRAJ_GROUP_DICT[keys[i]]\n",
    "        poi_info = calc_poi_info(list(trajid_set_train), traj_all, poi_all)\n",
    "           \n",
    "        if ps not in poi_info.index: continue\n",
    "        \n",
    "        poi_logtransmat = gen_poi_logtransmat(trajid_set_train, set(poi_info.index), traj_dict, poi_info)\n",
    "        edges = poi_logtransmat\n",
    "\n",
    "        recdict_tran_DP[(ps, L)] = {'PRED': find_viterbi(poi_info.copy(), edges.copy(), ps, L)}\n",
    "        recdict_tran_ILP[(ps, L)] = {'PRED': find_ILP(poi_info, edges, ps, L)}\n",
    "        assert(len(recdict_tran_ILP[(ps, L)]) == len(set(recdict_tran_ILP[(ps, L)])))\n",
    "       \n",
    "        cnt += 1; #print_progress(cnt, len(keys)); sys.stdout.flush()"
   ]
  },
  {
   "cell_type": "code",
   "execution_count": null,
   "metadata": {
    "collapsed": true
   },
   "outputs": [],
   "source": [
    "if run_tran == True:\n",
    "    F1_DP = []; pF1_DP = []; Tau_DP = []\n",
    "    F1_ILP = []; pF1_ILP = []; Tau_ILP = []\n",
    "    for key in sorted(recdict_tran_DP.keys()):\n",
    "        F1, pF1, tau = evaluate(recdict_tran_DP[key]['PRED'], TRAJ_GROUP_DICT[key])\n",
    "        F1_DP.append(F1); pF1_DP.append(pF1); Tau_DP.append(tau)\n",
    "        assert(key in recdict_tran_ILP)\n",
    "        F1, pF1, tau = evaluate(recdict_tran_ILP[key]['PRED'], TRAJ_GROUP_DICT[key])\n",
    "        F1_ILP.append(F1); pF1_ILP.append(pF1); Tau_ILP.append(tau)\n",
    "    print('Transition Viterbi: F1 (%.3f, %.3f), pairsF1 (%.3f, %.3f), Tau (%.3f, %.3f)' % \\\n",
    "          (np.mean(F1_DP), np.std(F1_DP)/np.sqrt(len(F1_DP)), \\\n",
    "           np.mean(pF1_DP), np.std(pF1_DP)/np.sqrt(len(pF1_DP)), \\\n",
    "           np.mean(Tau_DP), np.std(Tau_DP)/np.sqrt(len(Tau_DP))))\n",
    "    print('Transition ILP: F1 (%.3f, %.3f), pairsF1 (%.3f, %.3f), Tau (%.3f, %.3f)' % \\\n",
    "          (np.mean(F1_ILP), np.std(F1_ILP)/np.sqrt(len(F1_ILP)), \\\n",
    "           np.mean(pF1_ILP), np.std(pF1_ILP)/np.sqrt(len(pF1_ILP)), \\\n",
    "           np.mean(Tau_ILP), np.std(Tau_ILP)/np.sqrt(len(Tau_ILP))))"
   ]
  },
  {
   "cell_type": "code",
   "execution_count": null,
   "metadata": {
    "collapsed": true
   },
   "outputs": [],
   "source": [
    "if run_tran == True:\n",
    "    fDP = os.path.join(data_dir, 'tranDP-' + dat_suffix[dat_ix] + '.pkl')\n",
    "    fILP = os.path.join(data_dir, 'tranILP-' + dat_suffix[dat_ix] + '.pkl')\n",
    "    pickle.dump(recdict_tran_DP, open(fDP, 'bw'))\n",
    "    pickle.dump(recdict_tran_ILP, open(fILP, 'bw'))"
   ]
  },
  {
   "cell_type": "markdown",
   "metadata": {},
   "source": [
    "## 3.3 Naively combine POI ranking and transition probabilities"
   ]
  },
  {
   "cell_type": "code",
   "execution_count": null,
   "metadata": {
    "collapsed": true
   },
   "outputs": [],
   "source": [
    "comb_methods = [find_viterbi, find_ILP]\n",
    "methods_str = ['DP', 'ILP']"
   ]
  },
  {
   "cell_type": "code",
   "execution_count": null,
   "metadata": {
    "collapsed": true
   },
   "outputs": [],
   "source": [
    "method_ix = 0"
   ]
  },
  {
   "cell_type": "markdown",
   "metadata": {},
   "source": [
    "Nested cross-validation with Monte-Carlo cross-validation as inner loop."
   ]
  },
  {
   "cell_type": "code",
   "execution_count": null,
   "metadata": {
    "collapsed": true
   },
   "outputs": [],
   "source": [
    "if run_comb == True:\n",
    "    recdict_comb = dict()\n",
    "    cnt = 1\n",
    "    keys = sorted(TRAJ_GROUP_DICT.keys())\n",
    "    inference_fun = comb_methods[method_ix]\n",
    "\n",
    "    # outer loop to evaluate the test performance by cross validation\n",
    "    for i in range(len(keys)):\n",
    "        ps, L = keys[i]\n",
    "\n",
    "        best_C = 1\n",
    "        best_alpha = 0.5\n",
    "        #best_F1 = 0; best_pF1 = 0\n",
    "        best_Tau = 0\n",
    "        keys_cv = keys[:i] + keys[i+1:]\n",
    "        \n",
    "        # use all training+validation set to compute POI features,\n",
    "        # make sure features do NOT change for training and validation\n",
    "        trajid_set_i = set(trajid_set_all) - TRAJ_GROUP_DICT[keys[i]]\n",
    "        poi_info_i = calc_poi_info(list(trajid_set_i), traj_all, poi_all)\n",
    "\n",
    "        # tune regularisation constant C\n",
    "        for rank_C in C_SET:\n",
    "            for alpha in ALPHA_SET:\n",
    "                print('\\n--------------- try_C: %.3f, try_alpha: %.3f ---------------\\n' % (rank_C, alpha))\n",
    "                sys.stdout.flush()\n",
    "                F1_comb = []; pF1_comb = []; Tau_comb = []        \n",
    "\n",
    "                # inner loop to evaluate the performance of a model with a specified C by Monte-Carlo cross validation\n",
    "                for j in range(MC_NITER):\n",
    "                    poi_list = []\n",
    "                    while True: # make sure the start POI in test set are also in training set\n",
    "                        rand_ix = np.arange(len(keys_cv)); np.random.shuffle(rand_ix)\n",
    "                        test_ix = rand_ix[:int(MC_PORTION*len(rand_ix))]\n",
    "                        assert(len(test_ix) > 0)\n",
    "                        trajid_set_train = set(trajid_set_all) - TRAJ_GROUP_DICT[keys[i]]\n",
    "                        for j in test_ix: \n",
    "                            trajid_set_train = trajid_set_train - TRAJ_GROUP_DICT[keys_cv[j]]\n",
    "                        poi_set = set()\n",
    "                        for tid in trajid_set_train: poi_set = poi_set | set(traj_dict[tid])\n",
    "                        good_partition = True\n",
    "                        for j in test_ix: \n",
    "                            if keys_cv[j][0] not in poi_set: good_partition = False; break\n",
    "                        if good_partition == True: \n",
    "                            poi_list = sorted(poi_set)\n",
    "                            break\n",
    "\n",
    "                    # train\n",
    "                    train_df = gen_train_df(list(trajid_set_train), traj_dict, poi_info_i.loc[poi_list].copy(), \n",
    "                                            poi_clusters=POI_CLUSTERS, cats=POI_CAT_LIST, clusters=POI_CLUSTER_LIST, \n",
    "                                            n_jobs=N_JOBS)\n",
    "                    ranksvm = RankSVM(ranksvm_dir, useLinear=True)\n",
    "                    ranksvm.train(train_df, cost=rank_C)\n",
    "                    poi_logtransmat = gen_poi_logtransmat(trajid_set_train, set(poi_list), traj_dict, \n",
    "                                                          poi_info_i.loc[poi_list].copy())\n",
    "                    edges = poi_logtransmat                \n",
    "\n",
    "                    # test\n",
    "                    for j in test_ix:  # test\n",
    "                        ps_cv, L_cv = keys_cv[j]\n",
    "                        test_df = gen_test_df(ps_cv, L_cv, poi_info_i.loc[poi_list].copy(), poi_clusters=POI_CLUSTERS, \\\n",
    "                                              cats=POI_CAT_LIST, clusters=POI_CLUSTER_LIST)\n",
    "                        rank_df = ranksvm.predict(test_df, probability=True)\n",
    "                        nodes = rank_df.copy()\n",
    "                        nodes['weight'] = np.log10(nodes['probability'])\n",
    "\n",
    "                        y_hat = inference_fun(nodes, edges.copy(), ps_cv, L_cv, withNodeWeight=True, alpha=alpha)\n",
    "                        F1, pF1, tau = evaluate(y_hat, TRAJ_GROUP_DICT[keys_cv[j]])\n",
    "                        F1_comb.append(F1); pF1_comb.append(pF1); Tau_comb.append(tau)\n",
    "\n",
    "                #mean_F1 = np.mean(F1_comb); mean_pF1 = np.mean(pF1_comb)\n",
    "                mean_Tau = np.mean(Tau_comb)\n",
    "                print('mean_Tau: %.3f' % mean_Tau)\n",
    "                if mean_Tau > best_Tau:\n",
    "                    best_Tau = mean_Tau\n",
    "                    best_C = rank_C\n",
    "                    best_alpha = alpha\n",
    "        print('\\n--------------- %d/%d, Query: (%d, %d), Best_C: %.3f, Best_alpha: %.3f ---------------\\n' % \\\n",
    "              (cnt, len(keys), ps, L, best_C, best_alpha))\n",
    "        sys.stdout.flush()\n",
    "\n",
    "        # train model using all examples in training set and measure performance on test set\n",
    "        train_df = gen_train_df(list(trajid_set_i), traj_dict, poi_info_i.copy(), poi_clusters=POI_CLUSTERS, \\\n",
    "                                cats=POI_CAT_LIST, clusters=POI_CLUSTER_LIST, n_jobs=N_JOBS)\n",
    "        ranksvm = RankSVM(ranksvm_dir, useLinear=True)\n",
    "        ranksvm.train(train_df, cost=best_C)\n",
    "        test_df = gen_test_df(ps, L, poi_info_i.copy(), poi_clusters=POI_CLUSTERS, \\\n",
    "                              cats=POI_CAT_LIST, clusters=POI_CLUSTER_LIST)\n",
    "        rank_df = ranksvm.predict(test_df, probability=True)\n",
    "        nodes = rank_df.copy()\n",
    "        nodes['weight'] = np.log10(nodes['probability'])\n",
    "        poi_logtransmat = gen_poi_logtransmat(trajid_set_i, set(poi_info_i.index), traj_dict, poi_info_i)\n",
    "        edges = poi_logtransmat \n",
    "\n",
    "        y_hat = inference_fun(nodes, edges, ps, L, withNodeWeight=True, alpha=best_alpha)\n",
    "        recdict_comb[(ps, L)] = {'PRED': y_hat, 'C': best_C, 'alpha': best_alpha}\n",
    "\n",
    "        cnt += 1; #print_progress(cnt, len(keys)); sys.stdout.flush()"
   ]
  },
  {
   "cell_type": "code",
   "execution_count": null,
   "metadata": {
    "collapsed": true
   },
   "outputs": [],
   "source": [
    "if run_comb == True:\n",
    "    F1_comb = []; pF1_comb = []; Tau_comb = []\n",
    "    for key in sorted(recdict_comb.keys()):\n",
    "        F1, pF1, tau = evaluate(recdict_comb[key]['PRED'], TRAJ_GROUP_DICT[key])\n",
    "        F1_comb.append(F1); pF1_comb.append(pF1); Tau_comb.append(tau)\n",
    "    print('Comb ' + methods_str[method_ix] + ': F1 (%.3f, %.3f), pairsF1 (%.3f, %.3f), Tau (%.3f, %.3f)' % \\\n",
    "          (np.mean(F1_comb), np.std(F1_comb)/np.sqrt(len(F1_comb)), \\\n",
    "           np.mean(pF1_comb), np.std(pF1_comb)/np.sqrt(len(pF1_comb)), \\\n",
    "           np.mean(Tau_comb), np.std(Tau_comb)/np.sqrt(len(Tau_comb))))"
   ]
  },
  {
   "cell_type": "code",
   "execution_count": null,
   "metadata": {
    "collapsed": true
   },
   "outputs": [],
   "source": [
    "if run_comb == True:\n",
    "    fcomb = os.path.join(data_dir, 'comb' + methods_str[method_ix] + '-' + dat_suffix[dat_ix] + '.pkl')\n",
    "    pickle.dump(recdict_comb, open(fcomb, 'bw'))"
   ]
  }
 ],
 "metadata": {
  "anaconda-cloud": {},
  "kernelspec": {
   "display_name": "Python [default]",
   "language": "python",
   "name": "python3"
  },
  "language_info": {
   "codemirror_mode": {
    "name": "ipython",
    "version": 3
   },
   "file_extension": ".py",
   "mimetype": "text/x-python",
   "name": "python",
   "nbconvert_exporter": "python",
   "pygments_lexer": "ipython3",
   "version": "3.5.3"
  }
 },
 "nbformat": 4,
 "nbformat_minor": 1
}
