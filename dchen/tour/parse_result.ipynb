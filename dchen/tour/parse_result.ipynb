{
 "cells": [
  {
   "cell_type": "code",
   "execution_count": 1,
   "metadata": {
    "collapsed": true
   },
   "outputs": [],
   "source": [
    "%matplotlib inline\n",
    "\n",
    "import numpy as np\n",
    "import pandas as pd\n",
    "import pickle as pkl\n",
    "import os, sys\n",
    "import matplotlib.pyplot as plt\n",
    "from collections import Counter"
   ]
  },
  {
   "cell_type": "code",
   "execution_count": 2,
   "metadata": {
    "collapsed": true
   },
   "outputs": [],
   "source": [
    "sys.path.append('src')\n",
    "from shared import TrajData, evaluate, do_evaluation"
   ]
  },
  {
   "cell_type": "code",
   "execution_count": 3,
   "metadata": {
    "collapsed": true
   },
   "outputs": [],
   "source": [
    "#data_dir = 'data/data-new'\n",
    "#dat_suffix = ['Osak', 'Glas', 'Edin', 'Toro', 'Melb']\n",
    "dat_name = ['Osaka', 'Glasgow', 'Edinburgh', 'Toronto']#, 'Melbourne']\n",
    "C_SET = [0.01, 0.03, 0.1, 0.3, 1, 3, 10, 30, 100, 300, 1000, 3000]  # regularisation parameter\n",
    "METRIC_MAX = True  # True: pick the best prediction, False: use the average of all predictions"
   ]
  },
  {
   "cell_type": "code",
   "execution_count": 4,
   "metadata": {
    "collapsed": true
   },
   "outputs": [],
   "source": [
    "#algo = ['rand', 'pop', 'linreg', 'logreg', 'rank', 'logpwr', 'tranDP', 'tranILP', 'combDP', 'combILP', \\\n",
    "#        'ssvm-greedy', 'ssvm-viterbi', 'ssvm-listViterbi', 'ssvm-ILP', 'memm']\n",
    "#algo_name = ['Random', 'Popularity', 'POILocationPrediction', 'POIOccurrencePrediction', 'RankSVM', 'RankLogistic', \\\n",
    "#             'Markov', 'MarkovPath', 'Rank+Markov', 'Rank+MarkovPath', \\\n",
    "#             'SSVM-Greedy', 'SSVM-Viterbi', 'SSVM-ListViterbi', 'SSVM-ILP', 'MEMM']\n",
    "#metric_name = ['F$_1$', 'pairs-F$_1$', '$\\\\tau$']"
   ]
  },
  {
   "cell_type": "code",
   "execution_count": 5,
   "metadata": {
    "collapsed": true
   },
   "outputs": [],
   "source": [
    "#algo = ['rand', 'pop10', 'rank10', 'ssvm-B10', 'ssvm-A10', 'ssvm-D10', 'ssvm-C10']\n",
    "#algo = ['rand', 'pop', 'rank', 'ssvm-B', 'ssvm-A', 'ssvm-D', 'ssvm-C']\n",
    "algo = ['rand10', 'pop10', 'rank10', 'markov10', 'ssvm-00', 'ssvm-01', 'ssvm-10', 'ssvm-11']\n",
    "algo_name = ['\\\\textsc{Random}', '\\\\textsc{Popularity}', '\\\\textsc{PoiRank}', '\\\\textsc{Markov}', \n",
    "            '\\\\textsc{SP}', '\\\\textsc{SPpath}', '\\\\textsc{SR}', '\\\\textsc{SRpath}']\n",
    "#            '\\\\textsc{SP}', '\\\\textsc{SPpath}', '\\\\textsc{SR} inf. w/o pairwise', '\\\\textsc{SRpath}']\n",
    "metric_name = ['F$_1$', 'pairs-F$_1$', '$\\\\tau$']\n",
    "styles = [':', '--', '-', '--', '-.', '-.', '-', '-']\n",
    "markers = [None, None, None, 'o', 'o', 's', 'o', 's']\n",
    "#ranges_short = [(0.5, 1.0), (0.5, 0.8), (0.5, 0.9)]\n",
    "#ranges_long = [(0.5, 1.0), (0.5, 0.8), (0.5, 0.9)]\n",
    "#index = [0, 1, 2, 3, 5]\n",
    "#algo = [algo[ix] for ix in index]\n",
    "#algo_name = [algo_name[ix] for ix in index]\n",
    "#styles = [styles[ix] for ix in index]\n",
    "#markers = [markers[ix] for ix in index]"
   ]
  },
  {
   "cell_type": "code",
   "execution_count": 6,
   "metadata": {
    "collapsed": true
   },
   "outputs": [],
   "source": [
    "skip_indices = [(4, 2), (6, 2)]  # (algo, dataset)"
   ]
  },
  {
   "cell_type": "markdown",
   "metadata": {},
   "source": [
    "Histogram of the number of ground truths for queries."
   ]
  },
  {
   "cell_type": "code",
   "execution_count": 26,
   "metadata": {},
   "outputs": [
    {
     "data": {
      "image/png": "[encoded data removed]",
      "text/plain": [
       "<matplotlib.figure.Figure at 0x7f9539e91400>"
      ]
     },
     "metadata": {},
     "output_type": "display_data"
    }
   ],
   "source": [
    "#%%script false\n",
    "fig = plt.figure(figsize=[20, 3])\n",
    "#for dat_ix in range(len(dat_name)):\n",
    "#indices = [2, 1, 4, 0, 3]\n",
    "indices = [0, 1, 3]\n",
    "fsize = 20\n",
    "for j in range(len(indices)):\n",
    "    dat_ix = indices[j]\n",
    "    dat_obj = TrajData(dat_ix)\n",
    "    ax = plt.subplot(int('14' + str(j+1)))\n",
    "    ax.set_xlabel('#Ground Truths')\n",
    "    ax.xaxis.label.set_fontsize(fsize)\n",
    "    if j == 0:\n",
    "        ax.set_ylabel('#Queries')\n",
    "        ax.yaxis.label.set_fontsize(fsize)\n",
    "    ax.set_yscale('log')\n",
    "    #ax.set_ylim([0.1, 1000])\n",
    "    ax.set_ylim([0.5, 100])\n",
    "    ax.set_title(dat_name[dat_ix])\n",
    "    ax.title.set_fontsize(fsize)\n",
    "    Y = [len(dat_obj.TRAJID_GROUP_DICT[q]) for q in dat_obj.TRAJID_GROUP_DICT]\n",
    "    pd.Series(Y).hist(bins=10, ax=ax)\n",
    "    fig.savefig('hist_query.svg')"
   ]
  },
  {
   "cell_type": "markdown",
   "metadata": {},
   "source": [
    "Simple dataset stats."
   ]
  },
  {
   "cell_type": "code",
   "execution_count": 8,
   "metadata": {
    "collapsed": true
   },
   "outputs": [],
   "source": [
    "dat_ix = 0\n",
    "dat_obj = TrajData(dat_ix)"
   ]
  },
  {
   "cell_type": "code",
   "execution_count": 9,
   "metadata": {},
   "outputs": [
    {
     "data": {
      "text/plain": [
       "[[10, 22, 7]]"
      ]
     },
     "execution_count": 9,
     "metadata": {},
     "output_type": "execute_result"
    }
   ],
   "source": [
    "[dat_obj.traj_dict[tid] for tid in dat_obj.TRAJID_GROUP_DICT[(10,3)]]"
   ]
  },
  {
   "cell_type": "code",
   "execution_count": 10,
   "metadata": {},
   "outputs": [
    {
     "name": "stdout",
     "output_type": "stream",
     "text": [
      "#Traj: 186\n"
     ]
    }
   ],
   "source": [
    "ntrajs = np.sum([len(dat_obj.TRAJID_GROUP_DICT[q]) for q in dat_obj.TRAJID_GROUP_DICT.keys()])\n",
    "print('#Traj:', ntrajs)"
   ]
  },
  {
   "cell_type": "code",
   "execution_count": 11,
   "metadata": {},
   "outputs": [
    {
     "name": "stdout",
     "output_type": "stream",
     "text": [
      "#POIs: 26\n"
     ]
    }
   ],
   "source": [
    "pois = {p for q in dat_obj.TRAJID_GROUP_DICT.keys() for tid in dat_obj.TRAJID_GROUP_DICT[q] \\\n",
    "        for p in dat_obj.traj_dict[tid]}\n",
    "print('#POIs:', len(pois))"
   ]
  },
  {
   "cell_type": "code",
   "execution_count": 12,
   "metadata": {},
   "outputs": [
    {
     "name": "stdout",
     "output_type": "stream",
     "text": [
      "#Users: 130\n"
     ]
    }
   ],
   "source": [
    "users = {dat_obj.traj_user.loc[tid, 'userID'] for q in dat_obj.TRAJID_GROUP_DICT.keys() \\\n",
    "         for tid in dat_obj.TRAJID_GROUP_DICT[q]}\n",
    "print('#Users:', len(users))"
   ]
  },
  {
   "cell_type": "code",
   "execution_count": 13,
   "metadata": {},
   "outputs": [
    {
     "name": "stdout",
     "output_type": "stream",
     "text": [
      "#Queries: 47\n"
     ]
    }
   ],
   "source": [
    "print('#Queries:', len(dat_obj.TRAJID_GROUP_DICT))"
   ]
  },
  {
   "cell_type": "code",
   "execution_count": 14,
   "metadata": {
    "collapsed": true
   },
   "outputs": [],
   "source": [
    "ntrajs_q = [len(dat_obj.TRAJID_GROUP_DICT[q]) for q in dat_obj.TRAJID_GROUP_DICT]"
   ]
  },
  {
   "cell_type": "code",
   "execution_count": 15,
   "metadata": {},
   "outputs": [
    {
     "data": {
      "text/plain": [
       "(array([17, 22,  8]), array([  1.,   2.,   6.,  inf]))"
      ]
     },
     "execution_count": 15,
     "metadata": {},
     "output_type": "execute_result"
    }
   ],
   "source": [
    "np.histogram(ntrajs_q, bins=[1, 2, 6, np.inf], density=False)"
   ]
  },
  {
   "cell_type": "code",
   "execution_count": 16,
   "metadata": {},
   "outputs": [],
   "source": [
    "#Counter(ntrajs_q)"
   ]
  },
  {
   "cell_type": "code",
   "execution_count": 17,
   "metadata": {
    "collapsed": true
   },
   "outputs": [],
   "source": [
    "lengths = [len(dat_obj.traj_dict[tid]) for q in dat_obj.TRAJID_GROUP_DICT.keys() for tid in dat_obj.TRAJID_GROUP_DICT[q]]"
   ]
  },
  {
   "cell_type": "code",
   "execution_count": 18,
   "metadata": {},
   "outputs": [
    {
     "name": "stdout",
     "output_type": "stream",
     "text": [
      "AvgLengh: 2.4\n"
     ]
    }
   ],
   "source": [
    "#lentotal = np.sum([len(dat_obj.traj_dict[tid]) for q in dat_obj.TRAJID_GROUP_DICT.keys() \\\n",
    "#                   for tid in dat_obj.TRAJID_GROUP_DICT[q]])\n",
    "lentotal = np.sum(lengths)\n",
    "print('AvgLengh: %.1f' % (lentotal/ntrajs))"
   ]
  },
  {
   "cell_type": "code",
   "execution_count": 19,
   "metadata": {},
   "outputs": [
    {
     "data": {
      "text/plain": [
       "(array([178,   8]), array([  2.,   5.,  inf]))"
      ]
     },
     "execution_count": 19,
     "metadata": {},
     "output_type": "execute_result"
    }
   ],
   "source": [
    "np.histogram(lengths, bins=[2, 5, np.inf], density=False)"
   ]
  },
  {
   "cell_type": "code",
   "execution_count": 20,
   "metadata": {},
   "outputs": [
    {
     "data": {
      "text/plain": [
       "Counter({2: 139, 3: 32, 4: 7, 5: 7, 6: 1})"
      ]
     },
     "execution_count": 20,
     "metadata": {},
     "output_type": "execute_result"
    }
   ],
   "source": [
    "Counter(lengths)"
   ]
  },
  {
   "cell_type": "markdown",
   "metadata": {},
   "source": [
    "Histogram of trajectory length."
   ]
  },
  {
   "cell_type": "code",
   "execution_count": 25,
   "metadata": {},
   "outputs": [
    {
     "data": {
      "image/png": "[encoded data removed]",
      "text/plain": [
       "<matplotlib.figure.Figure at 0x7f953a43e6a0>"
      ]
     },
     "metadata": {},
     "output_type": "display_data"
    }
   ],
   "source": [
    "#%%script false\n",
    "#plt.rc('text', usetex=True)\n",
    "#plt.rc('font', family='serif')\n",
    "#plt.rc('font',**{'family':'sans-serif','sans-serif':['Helvetica'], 'size':22})\n",
    "\n",
    "fig = plt.figure(figsize=[20, 3])\n",
    "indices = [0, 1, 3]\n",
    "#nbins = [10, 20, 30]\n",
    "fsize = 20\n",
    "for j in range(len(indices)):\n",
    "    dat_ix = indices[j]\n",
    "    dat_obj = TrajData(dat_ix)\n",
    "    ax = plt.subplot(int('14' + str(j+1)))\n",
    "    ax.set_xlabel('Trajectory Length')\n",
    "    ax.xaxis.label.set_fontsize(fsize)\n",
    "    if j == 0: \n",
    "        ax.set_ylabel('#Trajectories')\n",
    "        ax.yaxis.label.set_fontsize(fsize)\n",
    "    ax.set_yscale('log')\n",
    "    ax.set_ylim([0.5, 1000])\n",
    "    ax.set_title(dat_name[dat_ix])\n",
    "    ax.title.set_fontsize(fsize)\n",
    "    Y = [len(dat_obj.traj_dict[tid]) for q in dat_obj.TRAJID_GROUP_DICT.keys() for tid in dat_obj.TRAJID_GROUP_DICT[q]]\n",
    "    pd.Series(Y).hist(bins=15, ax=ax)\n",
    "    \n",
    "    fig.savefig('hist_length.svg')"
   ]
  },
  {
   "cell_type": "markdown",
   "metadata": {},
   "source": [
    "Curves for hyper-parameter `C`."
   ]
  },
  {
   "cell_type": "code",
   "execution_count": null,
   "metadata": {
    "collapsed": true
   },
   "outputs": [],
   "source": [
    "%%script false\n",
    "plt.figure(figsize=[15, 5])\n",
    "keys = sorted(recdict.keys())\n",
    "X = np.arange(len(keys))\n",
    "Y1 = [recdict[q]['C'] for q in keys]\n",
    "Y2 = [recdict1[q]['C'] for q in keys]\n",
    "Y3 = [recdict0[q]['C'] for q in keys]\n",
    "#plt.plot(X, Y1, c='r', ls='--', marker='^', markeredgewidth=0, label='NEW-NOLOG')\n",
    "plt.plot(X, Y2, c='g', ls='--', marker='v', markeredgewidth=0, label='NEW-LOG')\n",
    "plt.plot(X, Y3, c='b', ls='--', marker='o', markeredgewidth=0, label='OLD-LOG')\n",
    "plt.xticks(np.arange(len(keys)), [str(q) for q in keys], fontsize=10, rotation=50, horizontalalignment='right')\n",
    "plt.xlim(-1, len(keys))\n",
    "plt.ylim(0.001, 10000)\n",
    "plt.plot([-1, len(keys)], [C_SET[0],  C_SET[0]],  c='b', ls='-')\n",
    "plt.plot([-1, len(keys)], [C_SET[-1], C_SET[-1]], c='b', ls='-')\n",
    "plt.yscale('log')\n",
    "plt.xlabel('Query')\n",
    "plt.ylabel('C')\n",
    "plt.title('Values of hyper-parameter $C$')\n",
    "plt.legend(loc='best')"
   ]
  },
  {
   "cell_type": "markdown",
   "metadata": {},
   "source": [
    "Construct file names."
   ]
  },
  {
   "cell_type": "code",
   "execution_count": null,
   "metadata": {
    "collapsed": true
   },
   "outputs": [],
   "source": [
    "def build_fnames(dat_obj, dat_ix):\n",
    "    fnames = []\n",
    "    for a in algo:\n",
    "        fnames.append(os.path.join(dat_obj.data_dir, a + '-' + dat_obj.dat_suffix[dat_ix] + '.pkl'))\n",
    "    return fnames        "
   ]
  },
  {
   "cell_type": "code",
   "execution_count": null,
   "metadata": {
    "collapsed": true
   },
   "outputs": [],
   "source": [
    "#fnames = build_fnames(dat_obj, dat_ix)\n",
    "#fnames"
   ]
  },
  {
   "cell_type": "markdown",
   "metadata": {},
   "source": [
    "Compute evaluation metrics."
   ]
  },
  {
   "cell_type": "code",
   "execution_count": null,
   "metadata": {
    "collapsed": true
   },
   "outputs": [],
   "source": [
    "def calc_metrics(dat_obj, fnames, topk):\n",
    "    assert(len(fnames) == len(algo))\n",
    "    recdicts = []\n",
    "    for f in fnames:\n",
    "        recdicts.append(pkl.load(open(f, 'rb')))\n",
    "    \n",
    "    queries = set(recdicts[0].keys())\n",
    "    #print(len(keys))\n",
    "    for d in recdicts[1:]:\n",
    "        queries = queries & set(d.keys())\n",
    "        #print(len(d.keys()))\n",
    "    print('#Records:', len(queries))\n",
    "    queries = sorted(queries)\n",
    "    \n",
    "    metrics = np.zeros((len(algo), 3, len(queries)), dtype=np.float)\n",
    "    #Cs = -1 * np.ones((len(algo), len(queries)), dtype=np.float)\n",
    "    \n",
    "    for i in range(len(recdicts)):\n",
    "        #d = {q: {'PRED': recdicts[i][q]['PRED'][:topk], 'C': recdicts[i][q]['C']} for q in queries}\n",
    "        d = {q: {'PRED': recdicts[i][q]['PRED'][:topk]} for q in queries}\n",
    "        F1_list, pF1_list, Tau_list = do_evaluation(dat_obj, d, debug=False)\n",
    "        assert(len(F1_list) == len(pF1_list) == len(Tau_list) == len(queries))\n",
    "        metrics[i, 0, :] = F1_list\n",
    "        metrics[i, 1, :] = pF1_list\n",
    "        metrics[i, 2, :] = Tau_list\n",
    "        \n",
    "        #for k in range(len(queries)):\n",
    "        #    q = queries[k]\n",
    "        #    if 'C' in d[q]: Cs[i, k] = d[q]['C']\n",
    "    #return metrics, queries, Cs\n",
    "    return metrics"
   ]
  },
  {
   "cell_type": "code",
   "execution_count": null,
   "metadata": {
    "collapsed": true
   },
   "outputs": [],
   "source": [
    "#metrics, keys, Cs = calc_metrics(dat_obj, fnames)"
   ]
  },
  {
   "cell_type": "code",
   "execution_count": null,
   "metadata": {
    "collapsed": true
   },
   "outputs": [],
   "source": [
    "def calc_metrics_topk(dat_obj, fnames):\n",
    "    assert(len(fnames) == len(algo))\n",
    "    recdicts = []\n",
    "    for f in fnames:\n",
    "        recdicts.append(pkl.load(open(f, 'rb')))\n",
    "    \n",
    "    queries = set(recdicts[0].keys())\n",
    "    #print(len(keys))\n",
    "    for d in recdicts[1:]:\n",
    "        queries = queries & set(d.keys())\n",
    "        #print(len(d.keys()))\n",
    "    print('#Records:', len(queries))\n",
    "    queries = sorted(queries)\n",
    "    \n",
    "    TOPK = 10\n",
    "    LONG = 5\n",
    "    metrics_short = np.empty((len(algo), 3, TOPK), dtype=np.object)  # each item is a list of metrics\n",
    "    metrics_long = np.empty((len(algo), 3, TOPK), dtype=np.object)\n",
    "    \n",
    "    for i in range(len(recdicts)):\n",
    "        for k in range(TOPK):\n",
    "            d_short = {q: {'PRED': recdicts[i][q]['PRED'][:k+1]} for q in queries if q[1] < LONG}\n",
    "            d_long = {q: {'PRED': recdicts[i][q]['PRED'][:k+1]} for q in queries if q[1] >= LONG}\n",
    "            F1_short, pF1_short, Tau_short = do_evaluation(dat_obj, d_short, use_max=METRIC_MAX, debug=False)\n",
    "            F1_long, pF1_long, Tau_long = do_evaluation(dat_obj, d_long, use_max=METRIC_MAX, debug=False)\n",
    "            assert(len(F1_short) == len(pF1_short) == len(Tau_short))\n",
    "            assert(len(F1_long) == len(pF1_long) == len(Tau_long))\n",
    "            assert(len(F1_short) + len(F1_long) == len(queries))\n",
    "            metrics_short[i, 0, k] = F1_short\n",
    "            metrics_short[i, 1, k] = pF1_short\n",
    "            metrics_short[i, 2, k] = Tau_short\n",
    "            metrics_long[i, 0, k] = F1_long\n",
    "            metrics_long[i, 1, k] = pF1_long\n",
    "            metrics_long[i, 2, k] = Tau_long\n",
    "            \n",
    "    return metrics_short, metrics_long"
   ]
  },
  {
   "cell_type": "code",
   "execution_count": null,
   "metadata": {
    "collapsed": true
   },
   "outputs": [],
   "source": [
    "#rankdict = pkl.load(open('data/data-new/rank10-Glas.pkl', 'rb'))"
   ]
  },
  {
   "cell_type": "code",
   "execution_count": null,
   "metadata": {},
   "outputs": [],
   "source": [
    "#rankdict"
   ]
  },
  {
   "cell_type": "code",
   "execution_count": null,
   "metadata": {},
   "outputs": [],
   "source": [
    "dat_ix = 3\n",
    "dat_obj = TrajData(dat_ix)\n",
    "fnames = build_fnames(dat_obj, dat_ix)\n",
    "metrics_short, metrics_long = calc_metrics_topk(dat_obj, fnames)"
   ]
  },
  {
   "cell_type": "code",
   "execution_count": null,
   "metadata": {},
   "outputs": [],
   "source": [
    "plt.rc('text', usetex=True)\n",
    "#plt.rc('font', family='serif')\n",
    "plt.rc('font',**{'family':'sans-serif','sans-serif':['Helvetica']})\n",
    "metric_ix = 2  # [F1, pairs-F1, Tau]\n",
    "TOPK = 10\n",
    "fig = plt.figure(figsize=[12, 5])\n",
    "X = np.arange(1, TOPK+1)\n",
    "for i in range(len(algo)):\n",
    "    ax1 = plt.subplot(121)\n",
    "    ax2 = plt.subplot(122)\n",
    "    Y1 = [np.mean(metrics_short[i, metric_ix, k]) for k in range(TOPK)]\n",
    "    Y2 = [np.mean(metrics_long[i, metric_ix, k]) for k in range(TOPK)]\n",
    "    ax1.plot(X, Y1, ls=styles[i], marker=markers[i], markeredgewidth=0, label=algo_name[i]) #marker='^'\n",
    "    ax2.plot(X, Y2, ls=styles[i], marker=markers[i], markeredgewidth=0, label=algo_name[i])\n",
    "#    ax1.set_ylim(ranges[metric_ix])\n",
    "#    ax2.set_ylim(ranges[metric_ix])\n",
    "    ax1.set_xlabel('Top-K')\n",
    "    ax2.set_xlabel('Top-K')\n",
    "    ax1.set_ylabel(metric_name[metric_ix])\n",
    "    ax2.set_ylabel(metric_name[metric_ix])\n",
    "    ax1.set_title('Average ' + metric_name[metric_ix] + ' of short trajectories (length $<$ 5), ' + dat_name[dat_ix])\n",
    "    ax2.set_title('Average ' + metric_name[metric_ix] + ' of long trajectories (length $\\ge$ 5), ' + dat_name[dat_ix])\n",
    "    ax1.legend(loc='lower right')\n",
    "    ax2.legend(loc='lower right')\n",
    "#fig.savefig(metric_name[metric_ix].replace('$', '').replace('\\\\', '') + '-np_' + dat_name[dat_ix] + '.svg')\n",
    "fig.savefig(metric_name[metric_ix].replace('$', '').replace('\\\\', '') + '-' + dat_name[dat_ix] + '.svg')"
   ]
  },
  {
   "cell_type": "markdown",
   "metadata": {},
   "source": [
    "Plot the values of metrics."
   ]
  },
  {
   "cell_type": "code",
   "execution_count": null,
   "metadata": {
    "collapsed": true
   },
   "outputs": [],
   "source": [
    "%%script false\n",
    "metric_ix = 0  # [F1, pairs-F1, Tau]\n",
    "\n",
    "plt.figure(figsize=[15, 5])\n",
    "X = np.arange(metrics.shape[2])\n",
    "plt.plot(X, metrics[4, metric_ix, :], c='r', ls='--', marker='^', markeredgewidth=0, label='RankSVM')\n",
    "plt.plot(X, metrics[12, metric_ix, :], c='g', ls='--', marker='v', markeredgewidth=0, label='SSVM-ListViterbi')\n",
    "plt.xticks(np.arange(metrics.shape[2]), [str(q) for q in keys], fontsize=10, rotation=50, horizontalalignment='right')\n",
    "plt.xlim(-1, metrics.shape[2])\n",
    "plt.ylim(-0.1, 1.1)\n",
    "plt.xlabel('Query')\n",
    "plt.ylabel(metric_name[metric_ix])\n",
    "plt.title('Values of evaluation metric ' + metric_name[metric_ix])\n",
    "plt.legend(loc='best')"
   ]
  },
  {
   "cell_type": "markdown",
   "metadata": {},
   "source": [
    "Plot values of hyper-parameters."
   ]
  },
  {
   "cell_type": "code",
   "execution_count": null,
   "metadata": {
    "collapsed": true
   },
   "outputs": [],
   "source": [
    "%%script false\n",
    "plt.figure(figsize=[15, 5])\n",
    "X = np.arange(Cs.shape[1])\n",
    "plt.plot(X, Cs[4, :], c='r', ls='--', marker='^', markeredgewidth=0, label='RankSVM')\n",
    "plt.plot(X, Cs[12, :], c='g', ls='--', marker='v', markeredgewidth=0, label='SSVM-ListViterbi')\n",
    "plt.xticks(np.arange(Cs.shape[1]), [str(q) for q in keys], fontsize=10, rotation=50, horizontalalignment='right')\n",
    "plt.xlim(-1, Cs.shape[1])\n",
    "plt.ylim(0.001, 10000)\n",
    "plt.plot([-1, Cs.shape[1]], [C_SET[0],  C_SET[0]],  c='b', ls='-')\n",
    "plt.plot([-1, Cs.shape[1]], [C_SET[-1], C_SET[-1]], c='b', ls='-')\n",
    "plt.yscale('log')\n",
    "plt.xlabel('Query')\n",
    "plt.ylabel('C')\n",
    "plt.title('Values of hyper-parameter $C$')\n",
    "plt.legend(loc='best')"
   ]
  },
  {
   "cell_type": "markdown",
   "metadata": {},
   "source": [
    "Generate LaTeX table for each dataset."
   ]
  },
  {
   "cell_type": "code",
   "execution_count": null,
   "metadata": {
    "collapsed": true
   },
   "outputs": [],
   "source": [
    "def gen_latex_h(mean, stderr, title, label):\n",
    "    assert(mean.shape == stderr.shape)\n",
    "    assert(mean.shape == (len(algo), 3))\n",
    "    \n",
    "    max_1st = np.zeros(len(metric_name), dtype=np.int)\n",
    "    max_2nd = np.zeros(len(metric_name), dtype=np.int)\n",
    "    \n",
    "    for j in range(mean.shape[1]):\n",
    "        max_2nd[j], max_1st[j] = np.argsort(mean[:, j])[-2:]\n",
    "    \n",
    "    strs = []\n",
    "    strs.append('\\\\begin{table*}[t]\\n')\n",
    "    strs.append('\\\\caption{' + title + '}\\n')\n",
    "    strs.append('\\\\label{' + label + '}\\n')\n",
    "    strs.append('\\\\centering\\n')\n",
    "    strs.append('\\\\begin{tabular}{l|' + (mean.shape[1])*'c' + '} \\\\hline\\n')\n",
    "    for j in range(mean.shape[1]):\n",
    "        strs.append(' & ' + metric_name[j])\n",
    "    strs.append(' \\\\\\\\ \\\\hline\\n')\n",
    "    for i in range(mean.shape[0]):\n",
    "        strs.append(algo_name[i] + ' ')\n",
    "        for j in range(mean.shape[1]):\n",
    "            strs.append('& $')\n",
    "            if i == max_1st[j]: strs.append('\\\\mathbf{')\n",
    "            if i == max_2nd[j]: strs.append('\\\\mathit{')\n",
    "            strs.append('%.3f' % mean[i, j] + '\\\\pm' + '%.3f' % stderr[i, j])\n",
    "            if i in [max_1st[j], max_2nd[j]]: strs.append('}')\n",
    "            strs.append('$ ')\n",
    "        strs.append('\\\\\\\\\\n')\n",
    "    strs.append('\\\\hline\\n')\n",
    "    strs.append('\\\\end{tabular}\\n')\n",
    "    strs.append('\\\\end{table*}\\n')\n",
    "    return ''.join(strs)    "
   ]
  },
  {
   "cell_type": "code",
   "execution_count": null,
   "metadata": {
    "collapsed": true
   },
   "outputs": [],
   "source": [
    "%%script false\n",
    "mean   = np.zeros((len(algo), 3), dtype=np.float)\n",
    "stderr = np.zeros((len(algo), 3), dtype=np.float)\n",
    "for i in range(len(algo)):\n",
    "        mean[i, 0] = np.mean(metrics[i, 0, :]); stderr[i, 0] = np.std(metrics[i, 0, :]) / np.sqrt(metrics.shape[2])\n",
    "        mean[i, 1] = np.mean(metrics[i, 1, :]); stderr[i, 1] = np.std(metrics[i, 1, :]) / np.sqrt(metrics.shape[2])\n",
    "        mean[i, 2] = np.mean(metrics[i, 2, :]); stderr[i, 2] = np.std(metrics[i, 2, :]) / np.sqrt(metrics.shape[2])\n",
    "strs = gen_latex_h(mean, stderr, 'Performance', 'tab:performance')\n",
    "print(strs)"
   ]
  },
  {
   "cell_type": "markdown",
   "metadata": {},
   "source": [
    "Generate LaTeX table for each evaluation metric."
   ]
  },
  {
   "cell_type": "code",
   "execution_count": null,
   "metadata": {
    "collapsed": true
   },
   "outputs": [],
   "source": [
    "def calc_metric_mean(metrics_list, metric_ix):\n",
    "    assert(len(metrics_list) == len(dat_name))\n",
    "    assert(type(metric_ix) == int)\n",
    "    assert(0 <= metric_ix < len(metric_name))\n",
    "    mean   = np.zeros((len(algo), len(dat_name)), dtype=np.float)\n",
    "    stderr = np.zeros((len(algo), len(dat_name)), dtype=np.float)\n",
    "    for i in range(len(algo)):\n",
    "        for j in range(len(dat_name)):\n",
    "            mean[i, j]   = np.mean(metrics_list[j][i, metric_ix, :])\n",
    "            stderr[i, j] = np.std(metrics_list[j][i, metric_ix, :]) / np.sqrt(metrics_list[j].shape[2])\n",
    "    return mean, stderr   "
   ]
  },
  {
   "cell_type": "code",
   "execution_count": null,
   "metadata": {
    "collapsed": true
   },
   "outputs": [],
   "source": [
    "def calc_metric_diff(metrics_list, metric_ix, baseline_ix=2):\n",
    "    assert(len(metrics_list) == len(dat_name))\n",
    "    assert(type(metric_ix) == int)\n",
    "    assert(0 <= metric_ix < len(metric_name))\n",
    "    assert(type(baseline_ix) == int)\n",
    "    assert(0 <= baseline_ix < len(algo))\n",
    "    diffmetrics_list = []\n",
    "    for dat_ix in range(len(metrics_list)):\n",
    "        diffmetrics = metrics_list[dat_ix].copy()\n",
    "        for i in range(diffmetrics.shape[0]):\n",
    "            diffmetrics[i, 0, :] -= metrics_list[dat_ix][baseline_ix, 0, :]\n",
    "            diffmetrics[i, 1, :] -= metrics_list[dat_ix][baseline_ix, 1, :]\n",
    "            diffmetrics[i, 2, :] -= metrics_list[dat_ix][baseline_ix, 2, :]\n",
    "        diffmetrics_list.append(diffmetrics)\n",
    "    \n",
    "    diffmean   = np.zeros((len(algo), len(dat_name)), dtype=np.float)\n",
    "    diffstderr = np.zeros((len(algo), len(dat_name)), dtype=np.float)\n",
    "    for i in range(len(algo)):\n",
    "        for j in range(len(dat_name)):\n",
    "            diffmean[i, j]   = np.mean(diffmetrics_list[j][i, metric_ix, :])\n",
    "            diffstderr[i, j] = np.std(diffmetrics_list[j][i, metric_ix, :]) / np.sqrt(diffmetrics_list[j].shape[2])\n",
    "    return diffmean, diffstderr"
   ]
  },
  {
   "cell_type": "code",
   "execution_count": null,
   "metadata": {
    "collapsed": true
   },
   "outputs": [],
   "source": [
    "def gen_latex_v(mean, stderr, title, label):\n",
    "    assert(mean.shape == stderr.shape)\n",
    "    assert(mean.shape == (len(algo), len(dat_name)))\n",
    "    \n",
    "    max_1st = np.zeros(len(dat_name), dtype=np.int)\n",
    "    max_2nd = np.zeros(len(dat_name), dtype=np.int)\n",
    "    \n",
    "    for j in range(mean.shape[1]):\n",
    "        max_2nd[j], max_1st[j] = np.argsort(mean[:, j])[-2:]\n",
    "    \n",
    "    strs = []\n",
    "    strs.append('\\\\begin{table*}[t]\\n')\n",
    "    strs.append('\\\\caption{' + title + '}\\n')\n",
    "    #strs.append('\\\\label{' + label + '}\\n')\n",
    "    strs.append('\\\\centering\\n')\n",
    "    strs.append('\\\\begin{tabular}{l|' + (mean.shape[1])*'c' + '} \\\\hline\\n')\n",
    "    for j in range(mean.shape[1]):\n",
    "        if j == 2: continue\n",
    "        strs.append(' & ' + dat_name[j])\n",
    "    strs.append(' \\\\\\\\ \\\\hline\\n')\n",
    "    for i in range(mean.shape[0]):\n",
    "        strs.append(algo_name[i] + ' ')\n",
    "        for j in range(mean.shape[1]):\n",
    "            if j == 2: continue\n",
    "            strs.append('& $')\n",
    "            if i == max_1st[j]: strs.append('\\\\mathbf{')\n",
    "            if i == max_2nd[j]: strs.append('\\\\mathit{')\n",
    "            if (i, j) in skip_indices: strs.append('-')\n",
    "            else: strs.append('%.3f' % mean[i, j] + '\\\\pm' + '%.3f' % stderr[i, j])\n",
    "            if i in [max_1st[j], max_2nd[j]]: strs.append('}')\n",
    "            strs.append('$ ')\n",
    "        strs.append('\\\\\\\\\\n')\n",
    "    strs.append('\\\\hline\\n')\n",
    "    strs.append('\\\\end{tabular}\\n')\n",
    "    strs.append('\\\\end{table*}\\n')\n",
    "    return ''.join(strs)"
   ]
  },
  {
   "cell_type": "code",
   "execution_count": null,
   "metadata": {
    "collapsed": true
   },
   "outputs": [],
   "source": [
    "def gen_latex_m(mean_list, stderr_list, header_list, title, label):\n",
    "    assert(len(mean_list) == len(stderr_list) == len(header_list))\n",
    "    max_1st_list = []\n",
    "    max_2nd_list = []\n",
    "    for mean, stderr in zip(mean_list, stderr_list):\n",
    "        assert(mean.shape == stderr.shape)\n",
    "        assert(mean.shape == (len(algo), len(dat_name)))\n",
    "        max_1st = np.zeros(len(dat_name), dtype=np.int)\n",
    "        max_2nd = np.zeros(len(dat_name), dtype=np.int)\n",
    "        for j in range(mean.shape[1]):\n",
    "            max_2nd[j], max_1st[j] = np.argsort(mean[:, j])[-2:]\n",
    "        max_1st_list.append(max_1st)\n",
    "        max_2nd_list.append(max_2nd)\n",
    "    \n",
    "    strs = []\n",
    "    strs.append('\\\\begin{table*}[t]\\n')\n",
    "    strs.append('\\\\caption{' + title + '}\\n')\n",
    "    strs.append('\\\\label{' + label + '}\\n')\n",
    "    strs.append('\\\\centering\\n')\n",
    "    strs.append('\\\\begin{tabular}{l|')\n",
    "    for mean in mean_list:\n",
    "        strs.append('|' + (mean.shape[1])*'c')\n",
    "    strs.append('} \\\\hline\\n')\n",
    "    for header in header_list:\n",
    "        strs.append('\\\\multicolumn{%d}{c}{%s} \\\\cline{2-%d}\\n' % (len(dat_name),header,1+len(header_list)*len(dat_name)))\n",
    "    for j in range(len(dat_name)):\n",
    "        strs.append(' & ' + dat_name[j])\n",
    "    strs.append(' \\\\\\\\ \\\\hline\\n')\n",
    "    for i in range(mean.shape[0]):\n",
    "        strs.append(algo_name[i] + ' ')\n",
    "        for j in range(mean.shape[1]):\n",
    "            strs.append('& $')\n",
    "            if i == max_1st[j]: strs.append('\\\\mathbf{')\n",
    "            if i == max_2nd[j]: strs.append('\\\\mathit{')\n",
    "            if (i, j) in skip_indices: strs.append('-')\n",
    "            else: strs.append('%.3f' % mean[i, j] + '\\\\pm' + '%.3f' % stderr[i, j])\n",
    "            if i in [max_1st[j], max_2nd[j]]: strs.append('}')\n",
    "            strs.append('$ ')\n",
    "        strs.append('\\\\\\\\\\n')\n",
    "    strs.append('\\\\hline\\n')\n",
    "    strs.append('\\\\end{tabular}\\n')\n",
    "    strs.append('\\\\end{table*}\\n')\n",
    "    return ''.join(strs)"
   ]
  },
  {
   "cell_type": "code",
   "execution_count": null,
   "metadata": {
    "collapsed": true
   },
   "outputs": [],
   "source": [
    "def gen_latex_t(mean, stderr, title, label):\n",
    "    assert(mean.shape == stderr.shape)\n",
    "    assert(mean.shape == (len(algo), len(dat_name)))\n",
    "    \n",
    "    max_1st = np.zeros(len(dat_name), dtype=np.int)\n",
    "    max_2nd = np.zeros(len(dat_name), dtype=np.int)\n",
    "    \n",
    "    for j in range(mean.shape[1]):\n",
    "        max_2nd[j], max_1st[j] = np.argsort(mean[:, j])[-2:]\n",
    "    \n",
    "    strs = []\n",
    "    strs.append('\\\\begin{table*}[t]\\n')\n",
    "    strs.append('\\\\caption{' + title + '}\\n')\n",
    "    #strs.append('\\\\label{' + label + '}\\n')\n",
    "    strs.append('\\\\centering\\n')\n",
    "    #strs.append('\\\\begin{tabular}{l|' + (mean.shape[0])*'c' + '} \\\\hline\\n')\n",
    "    strs.append('\\\\begin{tabular}{l|cc|ccc|ccc} \\\\hline\\n')\n",
    "    for i in range(mean.shape[0]):\n",
    "        strs.append(' & ' + algo_name[i])\n",
    "    strs.append(' \\\\\\\\ \\\\hline\\n')\n",
    "    for j in range(mean.shape[1]):\n",
    "        if j == 2: continue\n",
    "        strs.append(dat_name[j] + ' ')\n",
    "        for i in range(mean.shape[0]):\n",
    "            strs.append('& $')\n",
    "            if i == max_1st[j]: strs.append('\\\\mathbf{')\n",
    "            if i == max_2nd[j]: strs.append('\\\\mathit{')\n",
    "            if (i, j) in skip_indices: strs.append('-')\n",
    "            else: strs.append('%.3f' % mean[i, j] + '\\\\pm' + '%.3f' % stderr[i, j])\n",
    "            if i in [max_1st[j], max_2nd[j]]: strs.append('}')\n",
    "            strs.append('$ ')\n",
    "        strs.append('\\\\\\\\\\n')\n",
    "    strs.append('\\\\hline\\n')\n",
    "    strs.append('\\\\end{tabular}\\n')\n",
    "    strs.append('\\\\end{table*}\\n')\n",
    "    return ''.join(strs)"
   ]
  },
  {
   "cell_type": "code",
   "execution_count": null,
   "metadata": {
    "collapsed": true
   },
   "outputs": [],
   "source": [
    "#nb_stdout = sys.stdout  # save the device for notebook output\n",
    "#sys.stdout = open('/dev/stdout', 'w')  # redirect the output of %run to terminal"
   ]
  },
  {
   "cell_type": "code",
   "execution_count": null,
   "metadata": {},
   "outputs": [],
   "source": [
    "topk = 10  # [1, 3, 5, 10]\n",
    "metrics_list = []\n",
    "for dat_ix in range(len(dat_name)):\n",
    "    dat_obj = TrajData(dat_ix)\n",
    "    fnames = build_fnames(dat_obj, dat_ix)\n",
    "    #metrics, keys, Cs = calc_metrics(dat_obj, fnames, topk)\n",
    "    metrics = calc_metrics(dat_obj, fnames, topk)\n",
    "    metrics_list.append(metrics)"
   ]
  },
  {
   "cell_type": "code",
   "execution_count": null,
   "metadata": {
    "collapsed": true
   },
   "outputs": [],
   "source": [
    "#sys.stdout = nb_stdout  # restore the output to notebook\n",
    "#sys.stdout"
   ]
  },
  {
   "cell_type": "markdown",
   "metadata": {},
   "source": [
    "Evaluation metrics and difference of evaluation metrics between baseline and others."
   ]
  },
  {
   "cell_type": "code",
   "execution_count": null,
   "metadata": {
    "collapsed": true
   },
   "outputs": [],
   "source": [
    "#baseline_ix = 2\n",
    "#baseline_algo = algo_name[baseline_ix]"
   ]
  },
  {
   "cell_type": "code",
   "execution_count": null,
   "metadata": {
    "collapsed": true
   },
   "outputs": [],
   "source": [
    "titles = ['F$_1$ score on points, top-%d' % topk, 'F$_1$ score on pairs, top-%d' % topk, \\\n",
    "          'Kendall\\'s $\\\\tau$, top-%d' % topk]\n",
    "labels = ['tab:f1', 'tab:pf1', 'tab:tau']"
   ]
  },
  {
   "cell_type": "code",
   "execution_count": null,
   "metadata": {
    "collapsed": true
   },
   "outputs": [],
   "source": [
    "#titles_diff = ['Difference of F$_1$ score on points from ' + baseline_algo, \n",
    "#               'Difference of F$_1$ score on pairs from ' + baseline_algo, \n",
    "#               'Difference of Kendall\\'s $\\\\tau$ from ' + baseline_algo]\n",
    "#labels_diff = ['tab:df1', 'tab:dpf1', 'tab:dtau']"
   ]
  },
  {
   "cell_type": "code",
   "execution_count": null,
   "metadata": {
    "scrolled": false
   },
   "outputs": [],
   "source": [
    "for metric_ix in range(len(metric_name)):\n",
    "    mean, stderr = calc_metric_mean(metrics_list, metric_ix)\n",
    "    print(gen_latex_t(mean, stderr, titles[metric_ix], labels[metric_ix]))\n",
    "    #print(gen_latex_v(mean, stderr, titles[metric_ix], labels[metric_ix]))\n",
    "    #diffmean, diffstderr = calc_metric_diff(metrics_list, metric_ix, baseline_ix=baseline_ix)\n",
    "    #print(gen_latex_v(diffmean, diffstderr, titles_diff[metric_ix], labels_diff[metric_ix]))"
   ]
  },
  {
   "cell_type": "code",
   "execution_count": null,
   "metadata": {
    "collapsed": true
   },
   "outputs": [],
   "source": []
  }
 ],
 "metadata": {
  "anaconda-cloud": {},
  "kernelspec": {
   "display_name": "Python [default]",
   "language": "python",
   "name": "python3"
  },
  "language_info": {
   "codemirror_mode": {
    "name": "ipython",
    "version": 3
   },
   "file_extension": ".py",
   "mimetype": "text/x-python",
   "name": "python",
   "nbconvert_exporter": "python",
   "pygments_lexer": "ipython3",
   "version": "3.6.2"
  }
 },
 "nbformat": 4,
 "nbformat_minor": 2
}
