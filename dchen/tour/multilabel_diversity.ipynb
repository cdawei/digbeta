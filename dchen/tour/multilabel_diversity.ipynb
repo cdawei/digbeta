{
 "cells": [
  {
   "cell_type": "markdown",
   "metadata": {},
   "source": [
    "# The Diversity of Multi-label in Real Data"
   ]
  },
  {
   "cell_type": "markdown",
   "metadata": {},
   "source": [
    "If the similarity between two trajectories/labels are measured by (normalised) Hamming loss,\n",
    "what is the diversity of trajectories for a given query in real data?"
   ]
  },
  {
   "cell_type": "code",
   "execution_count": null,
   "metadata": {
    "collapsed": false
   },
   "outputs": [],
   "source": [
    "%matplotlib inline\n",
    "import os, sys\n",
    "import numpy as np\n",
    "import matplotlib.pyplot as plt\n",
    "import seaborn as sns"
   ]
  },
  {
   "cell_type": "code",
   "execution_count": null,
   "metadata": {
    "collapsed": true
   },
   "outputs": [],
   "source": [
    "sys.path.append('src/')"
   ]
  },
  {
   "cell_type": "code",
   "execution_count": null,
   "metadata": {
    "collapsed": false
   },
   "outputs": [],
   "source": [
    "from shared import TrajData, evaluate"
   ]
  },
  {
   "cell_type": "code",
   "execution_count": null,
   "metadata": {
    "collapsed": true
   },
   "outputs": [],
   "source": [
    "dat_ix = 0\n",
    "data_dir = 'data/data-new'"
   ]
  },
  {
   "cell_type": "code",
   "execution_count": null,
   "metadata": {
    "collapsed": false
   },
   "outputs": [],
   "source": [
    "dat_obj = TrajData(dat_ix, data_dir=data_dir)"
   ]
  },
  {
   "cell_type": "code",
   "execution_count": null,
   "metadata": {
    "collapsed": true
   },
   "outputs": [],
   "source": [
    "def calc_diversity_mat(dat_obj, query):\n",
    "    assert(query in dat_obj.TRAJ_GROUP_DICT)\n",
    "    if len(dat_obj.TRAJ_GROUP_DICT[query]) == 1:\n",
    "        print('only one label for query:', query)\n",
    "    tid_list = sorted(dat_obj.TRAJ_GROUP_DICT[query])\n",
    "    nLabels = len(tid_list)\n",
    "    assert(nLabels > 1)\n",
    "    mat = np.zeros((nLabels, nLabels), dtype=np.float)\n",
    "    for i in range(nLabels):\n",
    "        ti = dat_obj.traj_dict[tid_list[i]]\n",
    "        for j in range(i+1, nLabels):\n",
    "            tj = dat_obj.traj_dict[tid_list[j]]\n",
    "            assert(len(ti) == len(tj))\n",
    "            mat[i, j] = np.sum(np.asarray(ti) != np.asarray(tj)) / len(ti)\n",
    "    return mat"
   ]
  },
  {
   "cell_type": "code",
   "execution_count": null,
   "metadata": {
    "collapsed": false
   },
   "outputs": [],
   "source": [
    "queries = sorted(dat_obj.TRAJ_GROUP_DICT.keys())\n",
    "print(len(queries))"
   ]
  },
  {
   "cell_type": "code",
   "execution_count": null,
   "metadata": {
    "collapsed": false
   },
   "outputs": [],
   "source": [
    "q_ix = 0\n",
    "query = queries[q_ix]"
   ]
  },
  {
   "cell_type": "code",
   "execution_count": null,
   "metadata": {
    "collapsed": false
   },
   "outputs": [],
   "source": [
    "[dat_obj.traj_dict[x] for x in dat_obj.TRAJ_GROUP_DICT[query]]"
   ]
  },
  {
   "cell_type": "code",
   "execution_count": null,
   "metadata": {
    "collapsed": false
   },
   "outputs": [],
   "source": [
    "mat = calc_diversity_mat(dat_obj, query)"
   ]
  },
  {
   "cell_type": "code",
   "execution_count": null,
   "metadata": {
    "collapsed": false
   },
   "outputs": [],
   "source": [
    "sns.heatmap(mat, cmap='BuGn', vmin=0, vmax=1)"
   ]
  }
 ],
 "metadata": {
  "anaconda-cloud": {},
  "kernelspec": {
   "display_name": "Python [default]",
   "language": "python",
   "name": "python3"
  },
  "language_info": {
   "codemirror_mode": {
    "name": "ipython",
    "version": 3
   },
   "file_extension": ".py",
   "mimetype": "text/x-python",
   "name": "python",
   "nbconvert_exporter": "python",
   "pygments_lexer": "ipython3",
   "version": "3.5.2"
  }
 },
 "nbformat": 4,
 "nbformat_minor": 0
}
