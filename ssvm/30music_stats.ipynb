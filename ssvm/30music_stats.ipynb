{
 "cells": [
  {
   "cell_type": "markdown",
   "metadata": {},
   "source": [
    "# 30Music Dataset Statistics"
   ]
  },
  {
   "cell_type": "markdown",
   "metadata": {},
   "source": [
    "Common statistics for [30Music dataset](http://crowdrec.eu/2015/11/30music-dataset-release/)."
   ]
  },
  {
   "cell_type": "code",
   "execution_count": 1,
   "metadata": {
    "collapsed": true
   },
   "outputs": [],
   "source": [
    "%matplotlib inline\n",
    "import os, sys\n",
    "import numpy as np\n",
    "import pandas as pd\n",
    "import matplotlib.pyplot as plt"
   ]
  },
  {
   "cell_type": "code",
   "execution_count": 2,
   "metadata": {
    "collapsed": true
   },
   "outputs": [],
   "source": [
    "data_dir = 'data/30music'"
   ]
  },
  {
   "cell_type": "markdown",
   "metadata": {},
   "source": [
    "### Albums"
   ]
  },
  {
   "cell_type": "code",
   "execution_count": 3,
   "metadata": {
    "collapsed": true
   },
   "outputs": [],
   "source": [
    "falbums = os.path.join(data_dir, 'albums.csv')"
   ]
  },
  {
   "cell_type": "code",
   "execution_count": 4,
   "metadata": {
    "collapsed": true
   },
   "outputs": [],
   "source": [
    "albums = pd.read_csv(falbums, index_col='ID', sep=';')"
   ]
  },
  {
   "cell_type": "code",
   "execution_count": 5,
   "metadata": {},
   "outputs": [
    {
     "name": "stdout",
     "output_type": "stream",
     "text": [
      "217337\n",
      "#albums: 217337\n"
     ]
    },
    {
     "data": {
      "text/html": [
       "<div>\n",
       "<table border=\"1\" class=\"dataframe\">\n",
       "  <thead>\n",
       "    <tr style=\"text-align: right;\">\n",
       "      <th></th>\n",
       "      <th>MBID</th>\n",
       "      <th>Title</th>\n",
       "    </tr>\n",
       "    <tr>\n",
       "      <th>ID</th>\n",
       "      <th></th>\n",
       "      <th></th>\n",
       "    </tr>\n",
       "  </thead>\n",
       "  <tbody>\n",
       "    <tr>\n",
       "      <th>0</th>\n",
       "      <td>81a775f4-4a0e-401f-b167-f8dd97453193</td>\n",
       "      <td>Mutazione: Italian Electronic &amp; New Wave Under...</td>\n",
       "    </tr>\n",
       "    <tr>\n",
       "      <th>1</th>\n",
       "      <td>189bd32e-65ec-46d6-b939-6e4988ac6872</td>\n",
       "      <td>Like What, Me Worry / Why Can't I Say</td>\n",
       "    </tr>\n",
       "    <tr>\n",
       "      <th>2</th>\n",
       "      <td>8cc6207e-cfc2-40d9-a564-0d64aed50b0d</td>\n",
       "      <td>009 Sound System</td>\n",
       "    </tr>\n",
       "    <tr>\n",
       "      <th>3</th>\n",
       "      <td>38d1a53d-ed44-4924-b1b8-bd1504e61e6c</td>\n",
       "      <td>Angels &amp; Demons</td>\n",
       "    </tr>\n",
       "    <tr>\n",
       "      <th>4</th>\n",
       "      <td>442444dc-b87a-4084-b049-e6015b1ba343</td>\n",
       "      <td>Running / Reflux</td>\n",
       "    </tr>\n",
       "  </tbody>\n",
       "</table>\n",
       "</div>"
      ],
      "text/plain": [
       "                                    MBID  \\\n",
       "ID                                         \n",
       "0   81a775f4-4a0e-401f-b167-f8dd97453193   \n",
       "1   189bd32e-65ec-46d6-b939-6e4988ac6872   \n",
       "2   8cc6207e-cfc2-40d9-a564-0d64aed50b0d   \n",
       "3   38d1a53d-ed44-4924-b1b8-bd1504e61e6c   \n",
       "4   442444dc-b87a-4084-b049-e6015b1ba343   \n",
       "\n",
       "                                                Title  \n",
       "ID                                                     \n",
       "0   Mutazione: Italian Electronic & New Wave Under...  \n",
       "1               Like What, Me Worry / Why Can't I Say  \n",
       "2                                    009 Sound System  \n",
       "3                                     Angels & Demons  \n",
       "4                                    Running / Reflux  "
      ]
     },
     "execution_count": 5,
     "metadata": {},
     "output_type": "execute_result"
    }
   ],
   "source": [
    "print(albums.shape[0])\n",
    "print('#albums:', albums.index.unique().shape[0])\n",
    "albums.head()"
   ]
  },
  {
   "cell_type": "markdown",
   "metadata": {},
   "source": [
    "### Artists"
   ]
  },
  {
   "cell_type": "code",
   "execution_count": 6,
   "metadata": {
    "collapsed": true
   },
   "outputs": [],
   "source": [
    "fartists = os.path.join(data_dir, 'persons.csv')"
   ]
  },
  {
   "cell_type": "code",
   "execution_count": 7,
   "metadata": {
    "collapsed": true
   },
   "outputs": [],
   "source": [
    "artists = pd.read_csv(fartists, index_col='ID', sep=';')"
   ]
  },
  {
   "cell_type": "code",
   "execution_count": 8,
   "metadata": {},
   "outputs": [
    {
     "name": "stdout",
     "output_type": "stream",
     "text": [
      "560927\n",
      "#artists: 560927\n"
     ]
    },
    {
     "data": {
      "text/html": [
       "<div>\n",
       "<table border=\"1\" class=\"dataframe\">\n",
       "  <thead>\n",
       "    <tr style=\"text-align: right;\">\n",
       "      <th></th>\n",
       "      <th>MBID</th>\n",
       "      <th>Name</th>\n",
       "    </tr>\n",
       "    <tr>\n",
       "      <th>ID</th>\n",
       "      <th></th>\n",
       "      <th></th>\n",
       "    </tr>\n",
       "  </thead>\n",
       "  <tbody>\n",
       "    <tr>\n",
       "      <th>145148</th>\n",
       "      <td>NaN</td>\n",
       "      <td>Everything+Is+Illuminated</td>\n",
       "    </tr>\n",
       "    <tr>\n",
       "      <th>297899</th>\n",
       "      <td>NaN</td>\n",
       "      <td>Robin+O%27Brien</td>\n",
       "    </tr>\n",
       "    <tr>\n",
       "      <th>250429</th>\n",
       "      <td>NaN</td>\n",
       "      <td>Nicholas+Gunn++(2012)</td>\n",
       "    </tr>\n",
       "    <tr>\n",
       "      <th>32765</th>\n",
       "      <td>NaN</td>\n",
       "      <td>Aspasia+Stratigou</td>\n",
       "    </tr>\n",
       "    <tr>\n",
       "      <th>18689</th>\n",
       "      <td>NaN</td>\n",
       "      <td>Allison+Veltz</td>\n",
       "    </tr>\n",
       "  </tbody>\n",
       "</table>\n",
       "</div>"
      ],
      "text/plain": [
       "       MBID                       Name\n",
       "ID                                    \n",
       "145148  NaN  Everything+Is+Illuminated\n",
       "297899  NaN            Robin+O%27Brien\n",
       "250429  NaN      Nicholas+Gunn++(2012)\n",
       "32765   NaN          Aspasia+Stratigou\n",
       "18689   NaN              Allison+Veltz"
      ]
     },
     "execution_count": 8,
     "metadata": {},
     "output_type": "execute_result"
    }
   ],
   "source": [
    "print(artists.shape[0])\n",
    "print('#artists:', artists.index.unique().shape[0])\n",
    "artists.head()"
   ]
  },
  {
   "cell_type": "markdown",
   "metadata": {},
   "source": [
    "### Users"
   ]
  },
  {
   "cell_type": "code",
   "execution_count": 9,
   "metadata": {
    "collapsed": true
   },
   "outputs": [],
   "source": [
    "fusers = os.path.join(data_dir, 'users.csv')"
   ]
  },
  {
   "cell_type": "code",
   "execution_count": 10,
   "metadata": {
    "collapsed": true
   },
   "outputs": [],
   "source": [
    "users = pd.read_csv(fusers, index_col='ID', sep=';')"
   ]
  },
  {
   "cell_type": "code",
   "execution_count": 11,
   "metadata": {},
   "outputs": [
    {
     "name": "stdout",
     "output_type": "stream",
     "text": [
      "45167\n",
      "#users: 45167\n"
     ]
    },
    {
     "data": {
      "text/html": [
       "<div>\n",
       "<table border=\"1\" class=\"dataframe\">\n",
       "  <thead>\n",
       "    <tr style=\"text-align: right;\">\n",
       "      <th></th>\n",
       "      <th>Timestamp</th>\n",
       "      <th>#Playlists</th>\n",
       "      <th>Age</th>\n",
       "      <th>Country</th>\n",
       "      <th>Gender</th>\n",
       "      <th>Playcount</th>\n",
       "      <th>Subscribertype</th>\n",
       "      <th>Username</th>\n",
       "    </tr>\n",
       "    <tr>\n",
       "      <th>ID</th>\n",
       "      <th></th>\n",
       "      <th></th>\n",
       "      <th></th>\n",
       "      <th></th>\n",
       "      <th></th>\n",
       "      <th></th>\n",
       "      <th></th>\n",
       "      <th></th>\n",
       "    </tr>\n",
       "  </thead>\n",
       "  <tbody>\n",
       "    <tr>\n",
       "      <th>1</th>\n",
       "      <td>1116715959</td>\n",
       "      <td>2</td>\n",
       "      <td>24.0</td>\n",
       "      <td>US</td>\n",
       "      <td>F</td>\n",
       "      <td>221012</td>\n",
       "      <td>base</td>\n",
       "      <td>000123</td>\n",
       "    </tr>\n",
       "    <tr>\n",
       "      <th>2</th>\n",
       "      <td>1163123792</td>\n",
       "      <td>9</td>\n",
       "      <td>39.0</td>\n",
       "      <td>CZ</td>\n",
       "      <td>M</td>\n",
       "      <td>217535</td>\n",
       "      <td>base</td>\n",
       "      <td>000333</td>\n",
       "    </tr>\n",
       "    <tr>\n",
       "      <th>3</th>\n",
       "      <td>1184426573</td>\n",
       "      <td>2</td>\n",
       "      <td>NaN</td>\n",
       "      <td>NaN</td>\n",
       "      <td>F</td>\n",
       "      <td>49733</td>\n",
       "      <td>base</td>\n",
       "      <td>00elen</td>\n",
       "    </tr>\n",
       "    <tr>\n",
       "      <th>4</th>\n",
       "      <td>1123157597</td>\n",
       "      <td>2</td>\n",
       "      <td>32.0</td>\n",
       "      <td>DE</td>\n",
       "      <td>M</td>\n",
       "      <td>168054</td>\n",
       "      <td>base</td>\n",
       "      <td>00Eraser00</td>\n",
       "    </tr>\n",
       "    <tr>\n",
       "      <th>5</th>\n",
       "      <td>1171302116</td>\n",
       "      <td>2</td>\n",
       "      <td>23.0</td>\n",
       "      <td>UK</td>\n",
       "      <td>M</td>\n",
       "      <td>45700</td>\n",
       "      <td>base</td>\n",
       "      <td>00fieldsy</td>\n",
       "    </tr>\n",
       "  </tbody>\n",
       "</table>\n",
       "</div>"
      ],
      "text/plain": [
       "     Timestamp  #Playlists   Age Country Gender  Playcount Subscribertype  \\\n",
       "ID                                                                          \n",
       "1   1116715959           2  24.0      US      F     221012           base   \n",
       "2   1163123792           9  39.0      CZ      M     217535           base   \n",
       "3   1184426573           2   NaN     NaN      F      49733           base   \n",
       "4   1123157597           2  32.0      DE      M     168054           base   \n",
       "5   1171302116           2  23.0      UK      M      45700           base   \n",
       "\n",
       "      Username  \n",
       "ID              \n",
       "1       000123  \n",
       "2       000333  \n",
       "3       00elen  \n",
       "4   00Eraser00  \n",
       "5    00fieldsy  "
      ]
     },
     "execution_count": 11,
     "metadata": {},
     "output_type": "execute_result"
    }
   ],
   "source": [
    "print(users.shape[0])\n",
    "print('#users:', users.index.unique().shape[0])\n",
    "users.head()"
   ]
  },
  {
   "cell_type": "markdown",
   "metadata": {},
   "source": [
    "### Tags"
   ]
  },
  {
   "cell_type": "code",
   "execution_count": 12,
   "metadata": {
    "collapsed": true
   },
   "outputs": [],
   "source": [
    "ftags = os.path.join(data_dir, 'tags.csv')"
   ]
  },
  {
   "cell_type": "code",
   "execution_count": 13,
   "metadata": {
    "collapsed": true
   },
   "outputs": [],
   "source": [
    "tags = pd.read_csv(ftags, index_col='ID', sep=';')"
   ]
  },
  {
   "cell_type": "code",
   "execution_count": 14,
   "metadata": {},
   "outputs": [
    {
     "name": "stdout",
     "output_type": "stream",
     "text": [
      "276618\n",
      "#tags: 276618\n"
     ]
    },
    {
     "data": {
      "text/html": [
       "<div>\n",
       "<table border=\"1\" class=\"dataframe\">\n",
       "  <thead>\n",
       "    <tr style=\"text-align: right;\">\n",
       "      <th></th>\n",
       "      <th>URL</th>\n",
       "      <th>Value</th>\n",
       "    </tr>\n",
       "    <tr>\n",
       "      <th>ID</th>\n",
       "      <th></th>\n",
       "      <th></th>\n",
       "    </tr>\n",
       "  </thead>\n",
       "  <tbody>\n",
       "    <tr>\n",
       "      <th>152244</th>\n",
       "      <td>www.last.fm/tag/m-dibango</td>\n",
       "      <td>m-dibango</td>\n",
       "    </tr>\n",
       "    <tr>\n",
       "      <th>58983</th>\n",
       "      <td>www.last.fm/tag/demonios%20da%20garoa</td>\n",
       "      <td>demonios da garoa</td>\n",
       "    </tr>\n",
       "    <tr>\n",
       "      <th>263526</th>\n",
       "      <td>www.last.fm/tag/violon-celle</td>\n",
       "      <td>violon-celle</td>\n",
       "    </tr>\n",
       "    <tr>\n",
       "      <th>197824</th>\n",
       "      <td>www.last.fm/tag/radio%20critical%20rachel</td>\n",
       "      <td>radio critical rachel</td>\n",
       "    </tr>\n",
       "    <tr>\n",
       "      <th>75705</th>\n",
       "      <td>www.last.fm/tag/eurovision%201957</td>\n",
       "      <td>eurovision 1957</td>\n",
       "    </tr>\n",
       "  </tbody>\n",
       "</table>\n",
       "</div>"
      ],
      "text/plain": [
       "                                              URL                  Value\n",
       "ID                                                                      \n",
       "152244                  www.last.fm/tag/m-dibango              m-dibango\n",
       "58983       www.last.fm/tag/demonios%20da%20garoa      demonios da garoa\n",
       "263526               www.last.fm/tag/violon-celle           violon-celle\n",
       "197824  www.last.fm/tag/radio%20critical%20rachel  radio critical rachel\n",
       "75705           www.last.fm/tag/eurovision%201957        eurovision 1957"
      ]
     },
     "execution_count": 14,
     "metadata": {},
     "output_type": "execute_result"
    }
   ],
   "source": [
    "print(tags.shape[0])\n",
    "print('#tags:', tags.index.unique().shape[0])\n",
    "tags.head()"
   ]
  },
  {
   "cell_type": "markdown",
   "metadata": {},
   "source": [
    "### Tracks / Songs"
   ]
  },
  {
   "cell_type": "code",
   "execution_count": 15,
   "metadata": {
    "collapsed": true
   },
   "outputs": [],
   "source": [
    "ftracks = os.path.join(data_dir, 'tracks.csv')"
   ]
  },
  {
   "cell_type": "code",
   "execution_count": 16,
   "metadata": {},
   "outputs": [
    {
     "name": "stderr",
     "output_type": "stream",
     "text": [
      "/home/dawei/apps/miniconda3/lib/python3.5/site-packages/IPython/core/interactiveshell.py:2717: DtypeWarning: Columns (1,2) have mixed types. Specify dtype option on import or set low_memory=False.\n",
      "  interactivity=interactivity, compiler=compiler, result=result)\n"
     ]
    }
   ],
   "source": [
    "tracks = pd.read_csv(ftracks, sep=';', keep_default_na=False)"
   ]
  },
  {
   "cell_type": "code",
   "execution_count": 17,
   "metadata": {
    "collapsed": true
   },
   "outputs": [],
   "source": [
    "tracks.set_index('ID', inplace=True)"
   ]
  },
  {
   "cell_type": "code",
   "execution_count": 18,
   "metadata": {},
   "outputs": [
    {
     "name": "stdout",
     "output_type": "stream",
     "text": [
      "4519105\n",
      "#tracks: 4519105\n"
     ]
    },
    {
     "data": {
      "text/html": [
       "<div>\n",
       "<table border=\"1\" class=\"dataframe\">\n",
       "  <thead>\n",
       "    <tr style=\"text-align: right;\">\n",
       "      <th></th>\n",
       "      <th>Duration</th>\n",
       "      <th>Playcount</th>\n",
       "      <th>MBID</th>\n",
       "      <th>Name</th>\n",
       "      <th>ArtistsID</th>\n",
       "      <th>AlbumsID</th>\n",
       "      <th>TagsID</th>\n",
       "    </tr>\n",
       "    <tr>\n",
       "      <th>ID</th>\n",
       "      <th></th>\n",
       "      <th></th>\n",
       "      <th></th>\n",
       "      <th></th>\n",
       "      <th></th>\n",
       "      <th></th>\n",
       "      <th></th>\n",
       "    </tr>\n",
       "  </thead>\n",
       "  <tbody>\n",
       "    <tr>\n",
       "      <th>0</th>\n",
       "      <td>-1</td>\n",
       "      <td>4</td>\n",
       "      <td></td>\n",
       "      <td>000003+Music+Instructor/_/Dj%27s+Rock+Da+House...</td>\n",
       "      <td>0</td>\n",
       "      <td></td>\n",
       "      <td></td>\n",
       "    </tr>\n",
       "    <tr>\n",
       "      <th>1</th>\n",
       "      <td>-1</td>\n",
       "      <td>495</td>\n",
       "      <td></td>\n",
       "      <td>00-01/_/%D0%A2%D0%B5%D0%BA%D1%81%D1%82</td>\n",
       "      <td>1</td>\n",
       "      <td></td>\n",
       "      <td></td>\n",
       "    </tr>\n",
       "    <tr>\n",
       "      <th>2</th>\n",
       "      <td>-1</td>\n",
       "      <td>2</td>\n",
       "      <td></td>\n",
       "      <td>0005.+Overkill/_/Overkill</td>\n",
       "      <td>2</td>\n",
       "      <td></td>\n",
       "      <td></td>\n",
       "    </tr>\n",
       "    <tr>\n",
       "      <th>3</th>\n",
       "      <td>-1</td>\n",
       "      <td>2</td>\n",
       "      <td></td>\n",
       "      <td>000C+Tony+Dize/_/Ruleta+Rusa</td>\n",
       "      <td>3</td>\n",
       "      <td></td>\n",
       "      <td></td>\n",
       "    </tr>\n",
       "    <tr>\n",
       "      <th>4</th>\n",
       "      <td>-1</td>\n",
       "      <td>1</td>\n",
       "      <td></td>\n",
       "      <td>000+Oscarcito/_/Tumbay%E2%80%9A+(Lyrics)</td>\n",
       "      <td>4</td>\n",
       "      <td></td>\n",
       "      <td></td>\n",
       "    </tr>\n",
       "  </tbody>\n",
       "</table>\n",
       "</div>"
      ],
      "text/plain": [
       "   Duration Playcount MBID                                               Name  \\\n",
       "ID                                                                              \n",
       "0        -1         4       000003+Music+Instructor/_/Dj%27s+Rock+Da+House...   \n",
       "1        -1       495                  00-01/_/%D0%A2%D0%B5%D0%BA%D1%81%D1%82   \n",
       "2        -1         2                               0005.+Overkill/_/Overkill   \n",
       "3        -1         2                            000C+Tony+Dize/_/Ruleta+Rusa   \n",
       "4        -1         1                000+Oscarcito/_/Tumbay%E2%80%9A+(Lyrics)   \n",
       "\n",
       "    ArtistsID AlbumsID TagsID  \n",
       "ID                             \n",
       "0           0                  \n",
       "1           1                  \n",
       "2           2                  \n",
       "3           3                  \n",
       "4           4                  "
      ]
     },
     "execution_count": 18,
     "metadata": {},
     "output_type": "execute_result"
    }
   ],
   "source": [
    "print(tracks.shape[0])\n",
    "print('#tracks:', tracks.index.unique().shape[0])\n",
    "tracks.head()"
   ]
  },
  {
   "cell_type": "markdown",
   "metadata": {},
   "source": [
    "### Playlist"
   ]
  },
  {
   "cell_type": "code",
   "execution_count": 19,
   "metadata": {
    "collapsed": true
   },
   "outputs": [],
   "source": [
    "fplaylist = os.path.join(data_dir, 'playlist.csv')"
   ]
  },
  {
   "cell_type": "code",
   "execution_count": 20,
   "metadata": {
    "collapsed": true
   },
   "outputs": [],
   "source": [
    "playlist = pd.read_csv(fplaylist, index_col='ID', sep=';')"
   ]
  },
  {
   "cell_type": "code",
   "execution_count": 21,
   "metadata": {},
   "outputs": [
    {
     "name": "stdout",
     "output_type": "stream",
     "text": [
      "56388\n",
      "#playlist: 56388\n"
     ]
    },
    {
     "data": {
      "text/html": [
       "<div>\n",
       "<table border=\"1\" class=\"dataframe\">\n",
       "  <thead>\n",
       "    <tr style=\"text-align: right;\">\n",
       "      <th></th>\n",
       "      <th>Timestamp</th>\n",
       "      <th>Title</th>\n",
       "      <th>#Tracks</th>\n",
       "      <th>Duration</th>\n",
       "      <th>UserID</th>\n",
       "      <th>TracksID</th>\n",
       "    </tr>\n",
       "    <tr>\n",
       "      <th>ID</th>\n",
       "      <th></th>\n",
       "      <th></th>\n",
       "      <th></th>\n",
       "      <th></th>\n",
       "      <th></th>\n",
       "      <th></th>\n",
       "    </tr>\n",
       "  </thead>\n",
       "  <tbody>\n",
       "    <tr>\n",
       "      <th>2973549</th>\n",
       "      <td>1216545588</td>\n",
       "      <td>my_favorites</td>\n",
       "      <td>27</td>\n",
       "      <td>6522</td>\n",
       "      <td>41504</td>\n",
       "      <td>3006631,1885124,2548942,1350486,3734368,355901...</td>\n",
       "    </tr>\n",
       "    <tr>\n",
       "      <th>5429703</th>\n",
       "      <td>1249326867</td>\n",
       "      <td>NaN</td>\n",
       "      <td>9</td>\n",
       "      <td>2650</td>\n",
       "      <td>41504</td>\n",
       "      <td>2807573,2807606,1119655,1378148,805788,2944005...</td>\n",
       "    </tr>\n",
       "    <tr>\n",
       "      <th>5926742</th>\n",
       "      <td>1257766688</td>\n",
       "      <td>1989</td>\n",
       "      <td>16</td>\n",
       "      <td>3645</td>\n",
       "      <td>44542</td>\n",
       "      <td>2236990,3005440,2941671,3004987,2834239,298436...</td>\n",
       "    </tr>\n",
       "    <tr>\n",
       "      <th>5353183</th>\n",
       "      <td>1248079275</td>\n",
       "      <td>Fly me to the moon...</td>\n",
       "      <td>15</td>\n",
       "      <td>4151</td>\n",
       "      <td>44542</td>\n",
       "      <td>2338780,1813232,199079,3295925,1175085,3452508...</td>\n",
       "    </tr>\n",
       "    <tr>\n",
       "      <th>330569</th>\n",
       "      <td>1175201268</td>\n",
       "      <td>The playlist who must not be named</td>\n",
       "      <td>84</td>\n",
       "      <td>18414</td>\n",
       "      <td>44542</td>\n",
       "      <td>1632714,2933827,1632721,2533642,2652489,353378...</td>\n",
       "    </tr>\n",
       "  </tbody>\n",
       "</table>\n",
       "</div>"
      ],
      "text/plain": [
       "          Timestamp                               Title  #Tracks  Duration  \\\n",
       "ID                                                                           \n",
       "2973549  1216545588                        my_favorites       27      6522   \n",
       "5429703  1249326867                                 NaN        9      2650   \n",
       "5926742  1257766688                                1989       16      3645   \n",
       "5353183  1248079275               Fly me to the moon...       15      4151   \n",
       "330569   1175201268  The playlist who must not be named       84     18414   \n",
       "\n",
       "         UserID                                           TracksID  \n",
       "ID                                                                  \n",
       "2973549   41504  3006631,1885124,2548942,1350486,3734368,355901...  \n",
       "5429703   41504  2807573,2807606,1119655,1378148,805788,2944005...  \n",
       "5926742   44542  2236990,3005440,2941671,3004987,2834239,298436...  \n",
       "5353183   44542  2338780,1813232,199079,3295925,1175085,3452508...  \n",
       "330569    44542  1632714,2933827,1632721,2533642,2652489,353378...  "
      ]
     },
     "execution_count": 21,
     "metadata": {},
     "output_type": "execute_result"
    }
   ],
   "source": [
    "print(playlist.shape[0])\n",
    "print('#playlist:', playlist.index.unique().shape[0])\n",
    "playlist.head()"
   ]
  },
  {
   "cell_type": "markdown",
   "metadata": {},
   "source": [
    "Histogram of playlist length (i.e., the number of tracks/songs)."
   ]
  },
  {
   "cell_type": "code",
   "execution_count": 22,
   "metadata": {},
   "outputs": [
    {
     "data": {
      "text/plain": [
       "<matplotlib.axes._subplots.AxesSubplot at 0x7f0740a3bfd0>"
      ]
     },
     "execution_count": 22,
     "metadata": {},
     "output_type": "execute_result"
    },
    {
     "data": {
      "image/png": "[encoded data removed]",
      "text/plain": [
       "<matplotlib.figure.Figure at 0x7f0740a3b588>"
      ]
     },
     "metadata": {},
     "output_type": "display_data"
    }
   ],
   "source": [
    "ax = plt.subplot(111)\n",
    "#playlist['#Tracks'].hist(log=True, xlabel='#Tracks', ylabel='#Playlist')\n",
    "#ax.set_xlabel = '#Tracks'\n",
    "#ax.set_ylabel = '#Playlists'\n",
    "#ax.set_yscale = 'log'\n",
    "playlist['#Tracks'].hist(ax=ax, log=True)"
   ]
  },
  {
   "cell_type": "code",
   "execution_count": 23,
   "metadata": {},
   "outputs": [
    {
     "data": {
      "text/plain": [
       "count    56388.000000\n",
       "mean        31.378254\n",
       "std         42.940788\n",
       "min          1.000000\n",
       "25%          5.000000\n",
       "50%         14.000000\n",
       "75%         37.000000\n",
       "max        200.000000\n",
       "Name: #Tracks, dtype: float64"
      ]
     },
     "execution_count": 23,
     "metadata": {},
     "output_type": "execute_result"
    }
   ],
   "source": [
    "playlist['#Tracks'].describe()"
   ]
  },
  {
   "cell_type": "code",
   "execution_count": 24,
   "metadata": {},
   "outputs": [
    {
     "data": {
      "text/plain": [
       "14.0"
      ]
     },
     "execution_count": 24,
     "metadata": {},
     "output_type": "execute_result"
    }
   ],
   "source": [
    "playlist['#Tracks'].median()"
   ]
  },
  {
   "cell_type": "markdown",
   "metadata": {},
   "source": [
    "Filtering out playlists without tracks data."
   ]
  },
  {
   "cell_type": "code",
   "execution_count": 25,
   "metadata": {},
   "outputs": [
    {
     "data": {
      "text/html": [
       "<div>\n",
       "<table border=\"1\" class=\"dataframe\">\n",
       "  <thead>\n",
       "    <tr style=\"text-align: right;\">\n",
       "      <th></th>\n",
       "      <th>Timestamp</th>\n",
       "      <th>Title</th>\n",
       "      <th>#Tracks</th>\n",
       "      <th>Duration</th>\n",
       "      <th>UserID</th>\n",
       "      <th>TracksID</th>\n",
       "    </tr>\n",
       "    <tr>\n",
       "      <th>ID</th>\n",
       "      <th></th>\n",
       "      <th></th>\n",
       "      <th></th>\n",
       "      <th></th>\n",
       "      <th></th>\n",
       "      <th></th>\n",
       "    </tr>\n",
       "  </thead>\n",
       "  <tbody>\n",
       "    <tr>\n",
       "      <th>136481</th>\n",
       "      <td>1172149901</td>\n",
       "      <td>-kamyk-'s playlist</td>\n",
       "      <td>89</td>\n",
       "      <td>30451</td>\n",
       "      <td>43704</td>\n",
       "      <td>NaN</td>\n",
       "    </tr>\n",
       "    <tr>\n",
       "      <th>8603774</th>\n",
       "      <td>1305954247</td>\n",
       "      <td>favorites</td>\n",
       "      <td>11</td>\n",
       "      <td>2572</td>\n",
       "      <td>40433</td>\n",
       "      <td>NaN</td>\n",
       "    </tr>\n",
       "    <tr>\n",
       "      <th>5484436</th>\n",
       "      <td>1250243469</td>\n",
       "      <td>Untitled</td>\n",
       "      <td>8</td>\n",
       "      <td>1382</td>\n",
       "      <td>44636</td>\n",
       "      <td>NaN</td>\n",
       "    </tr>\n",
       "    <tr>\n",
       "      <th>4719071</th>\n",
       "      <td>1238569157</td>\n",
       "      <td>Untitled</td>\n",
       "      <td>4</td>\n",
       "      <td>1435</td>\n",
       "      <td>40874</td>\n",
       "      <td>NaN</td>\n",
       "    </tr>\n",
       "    <tr>\n",
       "      <th>731052</th>\n",
       "      <td>1182008126</td>\n",
       "      <td>NaN</td>\n",
       "      <td>4</td>\n",
       "      <td>1435</td>\n",
       "      <td>44459</td>\n",
       "      <td>NaN</td>\n",
       "    </tr>\n",
       "  </tbody>\n",
       "</table>\n",
       "</div>"
      ],
      "text/plain": [
       "          Timestamp               Title  #Tracks  Duration  UserID TracksID\n",
       "ID                                                                         \n",
       "136481   1172149901  -kamyk-'s playlist       89     30451   43704      NaN\n",
       "8603774  1305954247           favorites       11      2572   40433      NaN\n",
       "5484436  1250243469            Untitled        8      1382   44636      NaN\n",
       "4719071  1238569157            Untitled        4      1435   40874      NaN\n",
       "731052   1182008126                 NaN        4      1435   44459      NaN"
      ]
     },
     "execution_count": 25,
     "metadata": {},
     "output_type": "execute_result"
    }
   ],
   "source": [
    "#playlist[playlist['TracksID'].isin([np.nan])].head()\n",
    "playlist[playlist['TracksID'].isnull()].head()"
   ]
  },
  {
   "cell_type": "code",
   "execution_count": 26,
   "metadata": {},
   "outputs": [
    {
     "data": {
      "text/plain": [
       "(48422, 6)"
      ]
     },
     "execution_count": 26,
     "metadata": {},
     "output_type": "execute_result"
    }
   ],
   "source": [
    "playlist[playlist['TracksID'].notnull()].shape"
   ]
  },
  {
   "cell_type": "code",
   "execution_count": 27,
   "metadata": {
    "collapsed": true
   },
   "outputs": [],
   "source": [
    "playlist = playlist[playlist['TracksID'].notnull()]"
   ]
  },
  {
   "cell_type": "markdown",
   "metadata": {},
   "source": [
    "#### Check multiple ground truth"
   ]
  },
  {
   "cell_type": "markdown",
   "metadata": {},
   "source": [
    "Assume query is:\n",
    "- `query = (start_song, length)`\n",
    "- `query = (start_song, length, user)`"
   ]
  },
  {
   "cell_type": "code",
   "execution_count": 28,
   "metadata": {
    "collapsed": true
   },
   "outputs": [],
   "source": [
    "query_dict1 = dict()\n",
    "query_dict2 = dict()"
   ]
  },
  {
   "cell_type": "code",
   "execution_count": 29,
   "metadata": {},
   "outputs": [],
   "source": [
    "for ix in playlist.index:\n",
    "    uid = playlist.loc[ix, 'UserID']\n",
    "    tracks = [int(x) for x in str(playlist.loc[ix, 'TracksID']).split(',')]\n",
    "    ntracks = len(tracks)\n",
    "    q1 = (tracks[0], ntracks)\n",
    "    q2 = (tracks[0], ntracks, uid)\n",
    "    try:\n",
    "        query_dict1[q1].append(ix)\n",
    "    except KeyError:\n",
    "        query_dict1[q1] = [ix]\n",
    "    try:\n",
    "        query_dict2[q2].append(ix)\n",
    "    except KeyError:\n",
    "        query_dict2[q2] = [ix]"
   ]
  },
  {
   "cell_type": "markdown",
   "metadata": {},
   "source": [
    "queries with multiple ground truths."
   ]
  },
  {
   "cell_type": "code",
   "execution_count": 30,
   "metadata": {
    "collapsed": true
   },
   "outputs": [],
   "source": [
    "queries1 = sorted([q1 for q1 in query_dict1 if len(query_dict1[q1]) > 1])"
   ]
  },
  {
   "cell_type": "code",
   "execution_count": 31,
   "metadata": {},
   "outputs": [
    {
     "name": "stdout",
     "output_type": "stream",
     "text": [
      "query = (start_song, length)\n",
      "#Queries with multiple ground truth: 551, ratio: 1.15%\n"
     ]
    }
   ],
   "source": [
    "print('query = (start_song, length)')\n",
    "print('#Queries with multiple ground truth: %d, ratio: %.2f%%' % (len(queries1), 100*len(queries1) / len(query_dict1)))"
   ]
  },
  {
   "cell_type": "code",
   "execution_count": 32,
   "metadata": {
    "collapsed": true
   },
   "outputs": [],
   "source": [
    "queries2 = sorted([q2 for q2 in query_dict2 if len(query_dict2[q2]) > 1])"
   ]
  },
  {
   "cell_type": "code",
   "execution_count": 33,
   "metadata": {},
   "outputs": [
    {
     "name": "stdout",
     "output_type": "stream",
     "text": [
      "query = (start_song, length, user)\n",
      "#Queries with multiple ground truth: 47, ratio: 0.10%\n"
     ]
    }
   ],
   "source": [
    "print('query = (start_song, length, user)')\n",
    "print('#Queries with multiple ground truth: %d, ratio: %.2f%%' % (len(queries2), 100*len(queries2) / len(query_dict2)))"
   ]
  },
  {
   "cell_type": "markdown",
   "metadata": {},
   "source": [
    "### User preference"
   ]
  },
  {
   "cell_type": "code",
   "execution_count": 34,
   "metadata": {
    "collapsed": true
   },
   "outputs": [],
   "source": [
    "fpref = os.path.join(data_dir, 'love.csv')"
   ]
  },
  {
   "cell_type": "code",
   "execution_count": 35,
   "metadata": {
    "collapsed": true
   },
   "outputs": [],
   "source": [
    "pref = pd.read_csv(fpref, sep=';')"
   ]
  },
  {
   "cell_type": "code",
   "execution_count": 36,
   "metadata": {},
   "outputs": [
    {
     "name": "stdout",
     "output_type": "stream",
     "text": [
      "#likes: 4106341\n"
     ]
    },
    {
     "data": {
      "text/html": [
       "<div>\n",
       "<table border=\"1\" class=\"dataframe\">\n",
       "  <thead>\n",
       "    <tr style=\"text-align: right;\">\n",
       "      <th></th>\n",
       "      <th>UserID</th>\n",
       "      <th>TrackID</th>\n",
       "    </tr>\n",
       "  </thead>\n",
       "  <tbody>\n",
       "    <tr>\n",
       "      <th>0</th>\n",
       "      <td>44542</td>\n",
       "      <td>2785601</td>\n",
       "    </tr>\n",
       "    <tr>\n",
       "      <th>1</th>\n",
       "      <td>44542</td>\n",
       "      <td>2785590</td>\n",
       "    </tr>\n",
       "    <tr>\n",
       "      <th>2</th>\n",
       "      <td>44542</td>\n",
       "      <td>143076</td>\n",
       "    </tr>\n",
       "    <tr>\n",
       "      <th>3</th>\n",
       "      <td>44542</td>\n",
       "      <td>143037</td>\n",
       "    </tr>\n",
       "    <tr>\n",
       "      <th>4</th>\n",
       "      <td>44542</td>\n",
       "      <td>143052</td>\n",
       "    </tr>\n",
       "  </tbody>\n",
       "</table>\n",
       "</div>"
      ],
      "text/plain": [
       "   UserID  TrackID\n",
       "0   44542  2785601\n",
       "1   44542  2785590\n",
       "2   44542   143076\n",
       "3   44542   143037\n",
       "4   44542   143052"
      ]
     },
     "execution_count": 36,
     "metadata": {},
     "output_type": "execute_result"
    }
   ],
   "source": [
    "print('#likes:', pref.shape[0])\n",
    "pref.head()"
   ]
  }
 ],
 "metadata": {
  "kernelspec": {
   "display_name": "Python [default]",
   "language": "python",
   "name": "python3"
  },
  "language_info": {
   "codemirror_mode": {
    "name": "ipython",
    "version": 3
   },
   "file_extension": ".py",
   "mimetype": "text/x-python",
   "name": "python",
   "nbconvert_exporter": "python",
   "pygments_lexer": "ipython3",
   "version": "3.5.3"
  }
 },
 "nbformat": 4,
 "nbformat_minor": 2
}
