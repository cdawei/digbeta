{
 "cells": [
  {
   "cell_type": "markdown",
   "metadata": {},
   "source": [
    "# Statistics of AotM-2011 Dataset"
   ]
  },
  {
   "cell_type": "code",
   "execution_count": 1,
   "metadata": {
    "collapsed": true
   },
   "outputs": [],
   "source": [
    "%matplotlib inline\n",
    "import os, sys\n",
    "import json, gzip, codecs\n",
    "import numpy as np\n",
    "import pandas as pd\n",
    "import matplotlib.pyplot as plt\n",
    "from collections import Counter"
   ]
  },
  {
   "cell_type": "code",
   "execution_count": 2,
   "metadata": {
    "collapsed": true
   },
   "outputs": [],
   "source": [
    "data_dir = 'data/aotm-2011'"
   ]
  },
  {
   "cell_type": "code",
   "execution_count": 3,
   "metadata": {
    "collapsed": true
   },
   "outputs": [],
   "source": [
    "fname = os.path.join(data_dir, 'aotm2011_playlists.json.gz')\n",
    "reader = codecs.getreader(\"utf-8\")\n",
    "with gzip.open(fname, 'r') as fd:\n",
    "    playlists = json.load(reader(fd))"
   ]
  },
  {
   "cell_type": "code",
   "execution_count": 4,
   "metadata": {
    "collapsed": true
   },
   "outputs": [],
   "source": [
    "#playlists[0]"
   ]
  },
  {
   "cell_type": "code",
   "execution_count": 5,
   "metadata": {
    "collapsed": true
   },
   "outputs": [],
   "source": [
    "lengths = [len(playlists[j]['playlist']) for j in range(len(playlists))]"
   ]
  },
  {
   "cell_type": "code",
   "execution_count": 6,
   "metadata": {},
   "outputs": [
    {
     "name": "stdout",
     "output_type": "stream",
     "text": [
      "#Playlists: 101343\n"
     ]
    }
   ],
   "source": [
    "print('#Playlists:', len(lengths))"
   ]
  },
  {
   "cell_type": "markdown",
   "metadata": {},
   "source": [
    "Histogram of playlist length."
   ]
  },
  {
   "cell_type": "code",
   "execution_count": 7,
   "metadata": {},
   "outputs": [
    {
     "data": {
      "image/png": "[encoded data removed]",
      "text/plain": [
       "<matplotlib.figure.Figure at 0x7f7a2bafb908>"
      ]
     },
     "metadata": {},
     "output_type": "display_data"
    }
   ],
   "source": [
    "ax = plt.subplot(111)\n",
    "pd.Series(lengths).hist(ax=ax)\n",
    "ax.set_xlabel('Playlist length')\n",
    "ax.set_ylabel('#Playlists')\n",
    "ax.set_yscale('log')"
   ]
  },
  {
   "cell_type": "markdown",
   "metadata": {},
   "source": [
    "Categories."
   ]
  },
  {
   "cell_type": "code",
   "execution_count": 8,
   "metadata": {
    "collapsed": true
   },
   "outputs": [],
   "source": [
    "cats = [playlists[j]['category'] for j in range(len(playlists))]"
   ]
  },
  {
   "cell_type": "code",
   "execution_count": 9,
   "metadata": {},
   "outputs": [
    {
     "name": "stdout",
     "output_type": "stream",
     "text": [
      "#Categories: 43\n"
     ]
    }
   ],
   "source": [
    "print('#Categories:', np.unique(cats).shape[0])"
   ]
  },
  {
   "cell_type": "code",
   "execution_count": 10,
   "metadata": {
    "collapsed": true
   },
   "outputs": [],
   "source": [
    "counter = Counter(cats)"
   ]
  },
  {
   "cell_type": "code",
   "execution_count": 11,
   "metadata": {
    "collapsed": true
   },
   "outputs": [],
   "source": [
    "#counter"
   ]
  },
  {
   "cell_type": "code",
   "execution_count": 12,
   "metadata": {
    "collapsed": true
   },
   "outputs": [],
   "source": [
    "X = sorted([key for key in counter])\n",
    "Y = [counter[key] for key in X]"
   ]
  },
  {
   "cell_type": "markdown",
   "metadata": {},
   "source": [
    "Scatter plot of the number of playlists for all categories."
   ]
  },
  {
   "cell_type": "code",
   "execution_count": 14,
   "metadata": {},
   "outputs": [
    {
     "data": {
      "text/plain": [
       "[<matplotlib.lines.Line2D at 0x7f7a54c7ec88>]"
      ]
     },
     "execution_count": 14,
     "metadata": {},
     "output_type": "execute_result"
    },
    {
     "data": {
      "image/png": "[encoded data removed]",
      "text/plain": [
       "<matplotlib.figure.Figure at 0x7f7a54c7ed30>"
      ]
     },
     "metadata": {},
     "output_type": "display_data"
    }
   ],
   "source": [
    "ax = plt.subplot(111)\n",
    "#ax.set_xlabel('Category (ID)')\n",
    "ax.set_xlabel('Category')\n",
    "ax.set_ylabel('#Playlists')\n",
    "ax.set_yscale('log')\n",
    "#ax.plot(Y)\n",
    "ax.plot(sorted(Y))"
   ]
  },
  {
   "cell_type": "markdown",
   "metadata": {},
   "source": [
    "Playlists in which all tracks are in MSD."
   ]
  },
  {
   "cell_type": "code",
   "execution_count": 15,
   "metadata": {
    "collapsed": true
   },
   "outputs": [],
   "source": [
    "subset_ix = [j for j in range(len(playlists)) \\\n",
    "             if len(playlists[j]['playlist']) == len([x for y in playlists[j]['filtered_lists'] for x in y])]"
   ]
  },
  {
   "cell_type": "code",
   "execution_count": 30,
   "metadata": {},
   "outputs": [
    {
     "data": {
      "text/plain": [
       "471"
      ]
     },
     "execution_count": 30,
     "metadata": {},
     "output_type": "execute_result"
    }
   ],
   "source": [
    "len(subset_ix)"
   ]
  },
  {
   "cell_type": "code",
   "execution_count": 42,
   "metadata": {
    "collapsed": true
   },
   "outputs": [],
   "source": [
    "subsubset_ix = [ix for ix in subset_ix if len(playlists[ix]['playlist']) > 1]"
   ]
  },
  {
   "cell_type": "code",
   "execution_count": 44,
   "metadata": {},
   "outputs": [
    {
     "data": {
      "text/plain": [
       "241"
      ]
     },
     "execution_count": 44,
     "metadata": {},
     "output_type": "execute_result"
    }
   ],
   "source": [
    "len(subsubset_ix)"
   ]
  },
  {
   "cell_type": "code",
   "execution_count": 41,
   "metadata": {},
   "outputs": [
    {
     "data": {
      "text/plain": [
       "{'category': 'Mixed Genre',\n",
       " 'filtered_lists': [['SOKFLTD12A8C142D54',\n",
       "   'SOCURKJ12AB018AFC4',\n",
       "   'SOTLXNN12A58A7DC7E',\n",
       "   'SONCQKA12A6D4F825E',\n",
       "   'SOIPCGZ12A8C13C805',\n",
       "   'SOXFKPE12A8C1319D6',\n",
       "   'SOPMVTW12AF72A720A',\n",
       "   'SOQXLRP12D021B3FF9',\n",
       "   'SOFLURK12A8C130037',\n",
       "   'SOXOURR12AB0186379']],\n",
       " 'mix_id': 15263,\n",
       " 'playlist': [[['Metallica', 'Of Wolf And Man'], 'SOKFLTD12A8C142D54'],\n",
       "  [['Disturbed', 'Voices'], 'SOCURKJ12AB018AFC4'],\n",
       "  [['Stabbing Westward', 'How Can I Hold On'], 'SOTLXNN12A58A7DC7E'],\n",
       "  [['Metallica', 'Damage Inc.'], 'SONCQKA12A6D4F825E'],\n",
       "  [['Disturbed', 'Down with the sickness'], 'SOIPCGZ12A8C13C805'],\n",
       "  [['Stabbing Westward', 'Shame'], 'SOXFKPE12A8C1319D6'],\n",
       "  [['Rage Against The Machine', 'Wake Up'], 'SOPMVTW12AF72A720A'],\n",
       "  [['Pantera', 'Cowboys From Hell'], 'SOQXLRP12D021B3FF9'],\n",
       "  [['Stabbing Westward', 'The Thing I hate'], 'SOFLURK12A8C130037'],\n",
       "  [['Godsmack', 'Awake'], 'SOXOURR12AB0186379']],\n",
       " 'timestamp': '2001-09-01T00:22:00',\n",
       " 'user': {'member_since': '2001-09-01T00:00:00',\n",
       "  'mixes_posted': '4',\n",
       "  'name': 'John123456789'}}"
      ]
     },
     "execution_count": 41,
     "metadata": {},
     "output_type": "execute_result"
    }
   ],
   "source": [
    "playlists[subset_ix[10]]"
   ]
  },
  {
   "cell_type": "code",
   "execution_count": 45,
   "metadata": {
    "collapsed": true
   },
   "outputs": [],
   "source": [
    "playlists_subset = [playlists[ix] for ix in subsubset_ix]"
   ]
  },
  {
   "cell_type": "code",
   "execution_count": 48,
   "metadata": {},
   "outputs": [
    {
     "data": {
      "text/plain": [
       "241"
      ]
     },
     "execution_count": 48,
     "metadata": {},
     "output_type": "execute_result"
    }
   ],
   "source": [
    "len(playlists_subset)"
   ]
  },
  {
   "cell_type": "code",
   "execution_count": 49,
   "metadata": {
    "collapsed": true
   },
   "outputs": [],
   "source": [
    "import pickle as pkl"
   ]
  },
  {
   "cell_type": "code",
   "execution_count": 50,
   "metadata": {
    "collapsed": true
   },
   "outputs": [],
   "source": [
    "pkl.dump(playlists_subset, open('data/aotm-2011-subset.pkl', 'wb'))"
   ]
  },
  {
   "cell_type": "markdown",
   "metadata": {},
   "source": [
    "### Check multiple ground truth"
   ]
  },
  {
   "cell_type": "markdown",
   "metadata": {},
   "source": [
    "Assume query is:\n",
    "- `query = (start_song)`\n",
    "- `query = (start_song, length)`\n",
    "- `query = (start_song, length, user)`"
   ]
  },
  {
   "cell_type": "code",
   "execution_count": 18,
   "metadata": {
    "collapsed": true
   },
   "outputs": [],
   "source": [
    "query_dict0 = dict()\n",
    "query_dict1 = dict()\n",
    "query_dict2 = dict()"
   ]
  },
  {
   "cell_type": "code",
   "execution_count": 19,
   "metadata": {
    "collapsed": true
   },
   "outputs": [],
   "source": [
    "for ix in range(len(playlists)):\n",
    "    playlist = playlists[ix]['playlist']\n",
    "    if len(playlist) == 0: continue\n",
    "    \n",
    "    track0_name = str.upper(playlist[0][0][1])\n",
    "    user_name = str.upper(playlists[ix]['user']['name'])\n",
    "    ntracks = len(playlists[ix]['playlist'])\n",
    "    \n",
    "    q0 = track0_name\n",
    "    q1 = (track0_name, ntracks)\n",
    "    q2 = (track0_name, ntracks, user_name)\n",
    "    try:\n",
    "        query_dict0[q0].append(ix)\n",
    "    except KeyError:\n",
    "        query_dict0[q0] = [ix]\n",
    "    try:\n",
    "        query_dict1[q1].append(ix)\n",
    "    except KeyError:\n",
    "        query_dict1[q1] = [ix]\n",
    "    try:\n",
    "        query_dict2[q2].append(ix)\n",
    "    except KeyError:\n",
    "        query_dict2[q2] = [ix]"
   ]
  },
  {
   "cell_type": "code",
   "execution_count": 21,
   "metadata": {},
   "outputs": [],
   "source": [
    "#query_dict0"
   ]
  },
  {
   "cell_type": "code",
   "execution_count": 22,
   "metadata": {
    "collapsed": true
   },
   "outputs": [],
   "source": [
    "#query_dict1"
   ]
  },
  {
   "cell_type": "code",
   "execution_count": 23,
   "metadata": {
    "collapsed": true
   },
   "outputs": [],
   "source": [
    "#query_dict2"
   ]
  },
  {
   "cell_type": "markdown",
   "metadata": {},
   "source": [
    "queries with multiple ground truths."
   ]
  },
  {
   "cell_type": "code",
   "execution_count": 24,
   "metadata": {
    "collapsed": true
   },
   "outputs": [],
   "source": [
    "queries0 = sorted([q0 for q0 in query_dict0 if len(query_dict0[q0]) > 1])"
   ]
  },
  {
   "cell_type": "code",
   "execution_count": 25,
   "metadata": {},
   "outputs": [
    {
     "name": "stdout",
     "output_type": "stream",
     "text": [
      "query = start_song\n",
      "Queries with multiple ground truth: 14280/57719, ratio: 24.74%\n"
     ]
    }
   ],
   "source": [
    "print('query = start_song')\n",
    "print('Queries with multiple ground truth: %d/%d, ratio: %.2f%%' % \\\n",
    "      (len(queries0), len(query_dict0), 100*len(queries0) / len(query_dict0)))"
   ]
  },
  {
   "cell_type": "code",
   "execution_count": 26,
   "metadata": {
    "collapsed": true
   },
   "outputs": [],
   "source": [
    "queries1 = sorted([q1 for q1 in query_dict1 if len(query_dict1[q1]) > 1])"
   ]
  },
  {
   "cell_type": "code",
   "execution_count": 27,
   "metadata": {},
   "outputs": [
    {
     "name": "stdout",
     "output_type": "stream",
     "text": [
      "query = (start_song, length)\n",
      "Queries with multiple ground truth: 7390/90828, ratio: 8.14%\n"
     ]
    }
   ],
   "source": [
    "print('query = (start_song, length)')\n",
    "print('Queries with multiple ground truth: %d/%d, ratio: %.2f%%' % \\\n",
    "      (len(queries1), len(query_dict1), 100*len(queries1) / len(query_dict1)))"
   ]
  },
  {
   "cell_type": "code",
   "execution_count": 28,
   "metadata": {
    "collapsed": true
   },
   "outputs": [],
   "source": [
    "queries2 = sorted([q2 for q2 in query_dict2 if len(query_dict2[q2]) > 1])"
   ]
  },
  {
   "cell_type": "code",
   "execution_count": 29,
   "metadata": {},
   "outputs": [
    {
     "name": "stdout",
     "output_type": "stream",
     "text": [
      "query = (start_song, length, user)\n",
      "Queries with multiple ground truth: 933/100128, ratio: 0.93%\n"
     ]
    }
   ],
   "source": [
    "print('query = (start_song, length, user)')\n",
    "print('Queries with multiple ground truth: %d/%d, ratio: %.2f%%' % \\\n",
    "      (len(queries2), len(query_dict2), 100*len(queries2) / len(query_dict2)))"
   ]
  }
 ],
 "metadata": {
  "kernelspec": {
   "display_name": "Python [default]",
   "language": "python",
   "name": "python3"
  },
  "language_info": {
   "codemirror_mode": {
    "name": "ipython",
    "version": 3
   },
   "file_extension": ".py",
   "mimetype": "text/x-python",
   "name": "python",
   "nbconvert_exporter": "python",
   "pygments_lexer": "ipython3",
   "version": "3.5.3"
  }
 },
 "nbformat": 4,
 "nbformat_minor": 2
}
