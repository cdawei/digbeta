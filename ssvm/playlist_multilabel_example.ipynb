{
 "cells": [
  {
   "cell_type": "markdown",
   "metadata": {},
   "source": [
    "# A simple example of generating playlist by multilable learning"
   ]
  },
  {
   "cell_type": "code",
   "execution_count": 1,
   "metadata": {},
   "outputs": [],
   "source": [
    "%matplotlib inline\n",
    "\n",
    "import os, sys, time\n",
    "import pickle as pkl\n",
    "import numpy as np\n",
    "import pandas as pd\n",
    "import sklearn as sk\n",
    "from sklearn.linear_model import LogisticRegression\n",
    "\n",
    "import matplotlib.pyplot as plt\n",
    "import seaborn as sns"
   ]
  },
  {
   "cell_type": "code",
   "execution_count": 2,
   "metadata": {
    "collapsed": true
   },
   "outputs": [],
   "source": [
    "data_dir = 'data'\n",
    "faotm = os.path.join(data_dir, 'aotm-2011/aotm-2011-subset.pkl')\n",
    "fmap  = os.path.join(data_dir, 'aotm-2011/map_song_track.pkl')\n",
    "ftag  = os.path.join(data_dir, 'msd/msd_tagtraum_cd2c.cls')"
   ]
  },
  {
   "cell_type": "markdown",
   "metadata": {},
   "source": [
    "## Data loading"
   ]
  },
  {
   "cell_type": "markdown",
   "metadata": {},
   "source": [
    "Load playlists."
   ]
  },
  {
   "cell_type": "code",
   "execution_count": 3,
   "metadata": {
    "collapsed": true
   },
   "outputs": [],
   "source": [
    "playlists = pkl.load(open(faotm, 'rb'))"
   ]
  },
  {
   "cell_type": "code",
   "execution_count": 4,
   "metadata": {},
   "outputs": [
    {
     "name": "stdout",
     "output_type": "stream",
     "text": [
      "#Playlists: 241\n"
     ]
    }
   ],
   "source": [
    "print('#Playlists: %d' % len(playlists))"
   ]
  },
  {
   "cell_type": "code",
   "execution_count": 5,
   "metadata": {},
   "outputs": [
    {
     "data": {
      "text/plain": [
       "{'category': 'Road Trip',\n",
       " 'filtered_lists': [['SOYXQBU12CF5F88FAA',\n",
       "   'SOYDNDN12A58A77663',\n",
       "   'SOOLDQA12A6D4F9370',\n",
       "   'SOHCPBA12AB018377B',\n",
       "   'SOHGHSU12AB0186C5F',\n",
       "   'SOFRCHU12A8C13F96B',\n",
       "   'SONHAWL12A6310F260',\n",
       "   'SOXRJWV12A8C13DE1D',\n",
       "   'SOUPNVN12AB018B0B4',\n",
       "   'SOEYNQL12A67ADE655',\n",
       "   'SOZTMFN12A58A7DCEE',\n",
       "   'SORDYVO12A8C141A40']],\n",
       " 'mix_id': 113009,\n",
       " 'playlist': [[['Simon & Garfunkel', 'America'], 'SOYXQBU12CF5F88FAA'],\n",
       "  [['Marc Cohn', 'Walking In Memphis'], 'SOYDNDN12A58A77663'],\n",
       "  [['Matt Pond PA', 'Lily Two'], 'SOOLDQA12A6D4F9370'],\n",
       "  [['Grateful Dead', 'Tennessee Jed'], 'SOHCPBA12AB018377B'],\n",
       "  [['Braid', 'Killing a Camera'], 'SOHGHSU12AB0186C5F'],\n",
       "  [['Johnny Cash', 'Hey Porter'], 'SOFRCHU12A8C13F96B'],\n",
       "  [[\"Marcy's Playground\", 'Memphis'], 'SONHAWL12A6310F260'],\n",
       "  [['Whiskeytown', 'Lo-Fi Tennessee Mountain Angel'], 'SOXRJWV12A8C13DE1D'],\n",
       "  [['Something Corporate', 'I Woke Up in a Car'], 'SOUPNVN12AB018B0B4'],\n",
       "  [['The Boy Least Likely To',\n",
       "    \"I'm Glad I Hitched My Apple Wagon to Your Star\"],\n",
       "   'SOEYNQL12A67ADE655'],\n",
       "  [['The Promise Ring', 'Everywhere In Denver'], 'SOZTMFN12A58A7DCEE'],\n",
       "  [['Jeff Buckley', 'Hallelujah'], 'SORDYVO12A8C141A40']],\n",
       " 'timestamp': '2007-06-23T00:46:00',\n",
       " 'user': {'member_since': '2003-12-27T00:00:00',\n",
       "  'mixes_posted': '14',\n",
       "  'name': 'elizabeth123456'}}"
      ]
     },
     "execution_count": 5,
     "metadata": {},
     "output_type": "execute_result"
    }
   ],
   "source": [
    "playlists[0]"
   ]
  },
  {
   "cell_type": "code",
   "execution_count": 6,
   "metadata": {},
   "outputs": [
    {
     "name": "stdout",
     "output_type": "stream",
     "text": [
      "#Songs: 1718\n"
     ]
    }
   ],
   "source": [
    "print('#Songs: %d' % len({songID for p in playlists for songID in p['filtered_lists'][0]}))"
   ]
  },
  {
   "cell_type": "code",
   "execution_count": 7,
   "metadata": {},
   "outputs": [
    {
     "name": "stdout",
     "output_type": "stream",
     "text": [
      "Average playlist length: 9.2\n"
     ]
    }
   ],
   "source": [
    "lengths = [len(p['filtered_lists'][0]) for p in playlists]\n",
    "#plt.hist(lengths, bins=20)\n",
    "print('Average playlist length: %.1f' % np.mean(lengths))"
   ]
  },
  {
   "cell_type": "markdown",
   "metadata": {},
   "source": [
    "Load `song_id` --> `track_id` mapping: a song may correspond to multiple tracks."
   ]
  },
  {
   "cell_type": "code",
   "execution_count": 8,
   "metadata": {
    "collapsed": true
   },
   "outputs": [],
   "source": [
    "song2TrackID = pkl.load(open(fmap, 'rb'))"
   ]
  },
  {
   "cell_type": "code",
   "execution_count": 9,
   "metadata": {},
   "outputs": [
    {
     "data": {
      "text/plain": [
       "{'SOCSRZE12A6D4F9DC9': ['TREZJSF128F146D229'],\n",
       " 'SOHCPBA12AB018377B': ['TRUVAJB128F9336D0F'],\n",
       " 'SOJSUHG12A670215B6': ['TRQYXGS128E078569C'],\n",
       " 'SOKJSGT12AB0183D54': ['TRRUIQI128F9314D83'],\n",
       " 'SOPGEWM12B0B809EFA': ['TRZGQRG12903CD524E'],\n",
       " 'SOPXKYD12A6D4FA876': ['TRIKGRK128E0780DB0', 'TRTZNQZ12903CD044C'],\n",
       " 'SORACYK12D02193097': ['TRFCCKL128F426EE8E'],\n",
       " 'SOSPBXZ12A8C132D68': ['TRZHXTM128F424DA16'],\n",
       " 'SOTLZZJ12B0B8066A5': ['TRNEMQQ128F426C2F0'],\n",
       " 'SOXIOKT12AF72A04DA': ['TRMXTTH128F4288808']}"
      ]
     },
     "execution_count": 9,
     "metadata": {},
     "output_type": "execute_result"
    }
   ],
   "source": [
    "{ k : song2TrackID[k] for k in list(song2TrackID.keys())[:10] }"
   ]
  },
  {
   "cell_type": "markdown",
   "metadata": {},
   "source": [
    "Load song tags, build `track_id` --> `tag` mapping."
   ]
  },
  {
   "cell_type": "code",
   "execution_count": 10,
   "metadata": {
    "collapsed": true
   },
   "outputs": [],
   "source": [
    "track2Tags = dict()"
   ]
  },
  {
   "cell_type": "code",
   "execution_count": 11,
   "metadata": {
    "collapsed": true
   },
   "outputs": [],
   "source": [
    "with open(ftag) as f:\n",
    "    for line in f:\n",
    "        if line[0] == '#': continue\n",
    "        tid, tag = line.strip().split('\\t')\n",
    "        #print(tid, tag)\n",
    "        track2Tags[tid] = tag"
   ]
  },
  {
   "cell_type": "code",
   "execution_count": 12,
   "metadata": {},
   "outputs": [
    {
     "name": "stdout",
     "output_type": "stream",
     "text": [
      "#(Track, Tag): 191401\n"
     ]
    }
   ],
   "source": [
    "print('#(Track, Tag): %d' % len(track2Tags))"
   ]
  },
  {
   "cell_type": "code",
   "execution_count": 13,
   "metadata": {},
   "outputs": [
    {
     "data": {
      "text/plain": [
       "{'TRCTRXJ128F42B01C8': 'RnB',\n",
       " 'TRDMCPI128F92F79E2': 'New Age',\n",
       " 'TRELRBT128F92D0638': 'Blues',\n",
       " 'TRHTPHZ128F42839DF': 'Metal',\n",
       " 'TRIOUAW12903CE5336': 'Punk',\n",
       " 'TRPNBFI128F149C6B4': 'Rock',\n",
       " 'TRSMOVB128F1487C35': 'Rock',\n",
       " 'TRTPSQH12903CBF378': 'Rock',\n",
       " 'TRVDMKO128F422F59B': 'Rap',\n",
       " 'TRZDCXX128F429B5EA': 'World'}"
      ]
     },
     "execution_count": 13,
     "metadata": {},
     "output_type": "execute_result"
    }
   ],
   "source": [
    "{ k : track2Tags[k] for k in list(track2Tags.keys())[:10] }"
   ]
  },
  {
   "cell_type": "markdown",
   "metadata": {},
   "source": [
    "## Data cleaning"
   ]
  },
  {
   "cell_type": "markdown",
   "metadata": {},
   "source": [
    "Use the subset of playlist such that the first song (i.e. the *seed* song) in each playlist has tag(s)."
   ]
  },
  {
   "cell_type": "code",
   "execution_count": 14,
   "metadata": {
    "collapsed": true
   },
   "outputs": [],
   "source": [
    "subset_ix = []"
   ]
  },
  {
   "cell_type": "code",
   "execution_count": 15,
   "metadata": {
    "collapsed": true
   },
   "outputs": [],
   "source": [
    "for ix in range(len(playlists)):\n",
    "    # the list of song IDs in the playlist\n",
    "    songIDs = playlists[ix]['filtered_lists'][0]\n",
    "\n",
    "    # seed song\n",
    "    seedSongID   = songIDs[0]\n",
    "    seedTrackIDs = song2TrackID[seedSongID]\n",
    "    \n",
    "    # make sure that at least one track for the song has a corresponding tag\n",
    "    flag = [ (trackID in track2Tags) for trackID in seedTrackIDs]\n",
    "    if not np.any(flag):\n",
    "        continue\n",
    "\n",
    "    subset_ix.append(ix)"
   ]
  },
  {
   "cell_type": "code",
   "execution_count": 16,
   "metadata": {
    "collapsed": true
   },
   "outputs": [],
   "source": [
    "playlists_subset = [playlists[ix] for ix in subset_ix]"
   ]
  },
  {
   "cell_type": "code",
   "execution_count": 17,
   "metadata": {},
   "outputs": [
    {
     "name": "stdout",
     "output_type": "stream",
     "text": [
      "#Playlists used: 130\n"
     ]
    }
   ],
   "source": [
    "print('#Playlists used: %d' % len(subset_ix))"
   ]
  },
  {
   "cell_type": "markdown",
   "metadata": {},
   "source": [
    "The set of unique songs, **in multilabel learning, we have a label for each song in this set**."
   ]
  },
  {
   "cell_type": "code",
   "execution_count": 18,
   "metadata": {
    "collapsed": true
   },
   "outputs": [],
   "source": [
    "song_set = sorted({songID for p in playlists_subset for songID in p['filtered_lists'][0]})"
   ]
  },
  {
   "cell_type": "code",
   "execution_count": 19,
   "metadata": {},
   "outputs": [
    {
     "name": "stdout",
     "output_type": "stream",
     "text": [
      "#Songs used: 927\n"
     ]
    }
   ],
   "source": [
    "print('#Songs used: %d' % len(song_set))"
   ]
  },
  {
   "cell_type": "code",
   "execution_count": 20,
   "metadata": {},
   "outputs": [
    {
     "name": "stdout",
     "output_type": "stream",
     "text": [
      "['SOAAFAC12A67ADF7EB', 'SOAAJWZ12A67AE16FB', 'SOABLRM12A6701F091', 'SOADISH12AB018DFAC', 'SOADQHJ12AF729D75C', 'SOAGENT12A8C1363D1', 'SOAGGRW12A6D4F920E', 'SOAGSYE12A58A7A5A7', 'SOAHSMI12AF72A9FA7', 'SOAJJRO12AB0182B3A']\n"
     ]
    }
   ],
   "source": [
    "print(song_set[:10])"
   ]
  },
  {
   "cell_type": "markdown",
   "metadata": {},
   "source": [
    "Histogram of playlist length."
   ]
  },
  {
   "cell_type": "code",
   "execution_count": 21,
   "metadata": {},
   "outputs": [
    {
     "name": "stdout",
     "output_type": "stream",
     "text": [
      "Average playlist length: 9.1\n"
     ]
    },
    {
     "data": {
      "image/png": "[encoded data removed]",
      "text/plain": [
       "<matplotlib.figure.Figure at 0x7f9afb93ddd8>"
      ]
     },
     "metadata": {},
     "output_type": "display_data"
    }
   ],
   "source": [
    "playlist_lengths = [len(playlist['filtered_lists'][0]) for playlist in playlists_subset]\n",
    "plt.hist(playlist_lengths, bins=20)\n",
    "print('Average playlist length: %.1f' % np.mean(playlist_lengths))"
   ]
  },
  {
   "cell_type": "markdown",
   "metadata": {},
   "source": [
    "`Song_id --> Song_name` mapping."
   ]
  },
  {
   "cell_type": "code",
   "execution_count": 22,
   "metadata": {
    "collapsed": true
   },
   "outputs": [],
   "source": [
    "songID2Name = {s[1]: s[0] for p in playlists_subset for s in p['playlist']}"
   ]
  },
  {
   "cell_type": "code",
   "execution_count": 23,
   "metadata": {},
   "outputs": [],
   "source": [
    "#songID2Name"
   ]
  },
  {
   "cell_type": "markdown",
   "metadata": {},
   "source": [
    "## One-hot tag encoding"
   ]
  },
  {
   "cell_type": "markdown",
   "metadata": {},
   "source": [
    "Indicator of tags: `tag` --> `index` mapping."
   ]
  },
  {
   "cell_type": "code",
   "execution_count": 24,
   "metadata": {
    "collapsed": true
   },
   "outputs": [],
   "source": [
    "# the set of unique tags\n",
    "tag_set = sorted(set(track2Tags.values()))"
   ]
  },
  {
   "cell_type": "code",
   "execution_count": 25,
   "metadata": {},
   "outputs": [
    {
     "name": "stdout",
     "output_type": "stream",
     "text": [
      "#Tags: 15\n"
     ]
    }
   ],
   "source": [
    "print('#Tags: %d' % len(tag_set))"
   ]
  },
  {
   "cell_type": "code",
   "execution_count": 26,
   "metadata": {
    "collapsed": true
   },
   "outputs": [],
   "source": [
    "tag_indicator = { tag: ix for ix, tag in enumerate(tag_set) }"
   ]
  },
  {
   "cell_type": "code",
   "execution_count": 27,
   "metadata": {},
   "outputs": [
    {
     "data": {
      "text/plain": [
       "{'Blues': 0,\n",
       " 'Country': 1,\n",
       " 'Electronic': 2,\n",
       " 'Folk': 3,\n",
       " 'Jazz': 4,\n",
       " 'Latin': 5,\n",
       " 'Metal': 6,\n",
       " 'New Age': 7,\n",
       " 'Pop': 8,\n",
       " 'Punk': 9,\n",
       " 'Rap': 10,\n",
       " 'Reggae': 11,\n",
       " 'RnB': 12,\n",
       " 'Rock': 13,\n",
       " 'World': 14}"
      ]
     },
     "execution_count": 27,
     "metadata": {},
     "output_type": "execute_result"
    }
   ],
   "source": [
    "tag_indicator"
   ]
  },
  {
   "cell_type": "markdown",
   "metadata": {},
   "source": [
    "## Feature extraction"
   ]
  },
  {
   "cell_type": "markdown",
   "metadata": {},
   "source": [
    "Build features (1-hot encoding of tag) for a song given its `song_id`."
   ]
  },
  {
   "cell_type": "code",
   "execution_count": 28,
   "metadata": {
    "collapsed": true
   },
   "outputs": [],
   "source": [
    "def gen_features(song_id, song2TrackID = song2TrackID, tag_indicator = tag_indicator):\n",
    "    \"\"\"\n",
    "        Generate one-hot feature vector for a given song ID\n",
    "    \"\"\"\n",
    "\n",
    "    features = np.zeros(len(tag_set), dtype = np.float)\n",
    "    trackIDs = song2TrackID[song_id]\n",
    "\n",
    "    cnt = 0\n",
    "    for trackID in trackIDs:\n",
    "        if trackID in track2Tags:\n",
    "            cnt += 1\n",
    "            tag = track2Tags[trackID]\n",
    "            tag_ix = tag_indicator[tag]\n",
    "            features[tag_ix] = 1\n",
    "\n",
    "    # must have at least one tag for the song, else useless\n",
    "    assert(cnt >= 1)\n",
    "\n",
    "    return features"
   ]
  },
  {
   "cell_type": "code",
   "execution_count": 29,
   "metadata": {
    "collapsed": true
   },
   "outputs": [],
   "source": [
    "def gen_feature_map(song_id, seed):\n",
    "    \"\"\"\n",
    "        Generate feature mapping for a given (label, query) pair\n",
    "    \"\"\"\n",
    "    \n",
    "    #return gen_features(song_id) - gen_features(seed)  # feature map\n",
    "    return gen_features(seed)  # a trivial feature map"
   ]
  },
  {
   "cell_type": "code",
   "execution_count": 30,
   "metadata": {
    "collapsed": true
   },
   "outputs": [],
   "source": [
    "def gen_training_set(label_ix, playlists = playlists_subset, song_set = song_set):\n",
    "    \"\"\"\n",
    "        Create the labelled dataset for a given song index\n",
    "        \n",
    "        Input:\n",
    "            - label_ix: song index, number in { 0, ..., # songs }\n",
    "            - playlists: which playlists to create features for\n",
    "            \n",
    "        Output:\n",
    "            - (Feature, Label) pair (X, y), with # num playlists rows\n",
    "              X comprises the features for each seed song and the given song\n",
    "              y comprises the indicator of whether the given song is present in the respective playlist\n",
    "    \"\"\"\n",
    "\n",
    "    assert(label_ix >= 0)\n",
    "    assert(label_ix < len(song_set))\n",
    "\n",
    "    N = len(playlists)\n",
    "    d = len(tag_set)\n",
    "\n",
    "    X = np.zeros((N, d), dtype = np.float)\n",
    "    y = np.zeros(N, dtype = np.float)\n",
    "    \n",
    "    whichSong = song_set[label_ix]\n",
    "    \n",
    "    for i in range(len(playlists)):\n",
    "        playlist = playlists[i]['filtered_lists'][0]\n",
    "        seed     = playlist[0]\n",
    "\n",
    "        X[i,:] = gen_feature_map(whichSong, seed)\n",
    "        y[i]   = int(whichSong in playlist)\n",
    "\n",
    "    return X, y"
   ]
  },
  {
   "cell_type": "code",
   "execution_count": 31,
   "metadata": {},
   "outputs": [
    {
     "data": {
      "text/plain": [
       "array([ 0.,  0.,  0.,  0.,  0.,  0.,  0.,  0.,  0.,  0.,  0.,  0.,  0.,\n",
       "        1.,  0.])"
      ]
     },
     "execution_count": 31,
     "metadata": {},
     "output_type": "execute_result"
    }
   ],
   "source": [
    "gen_feature_map(song_set[100], playlists_subset[0]['filtered_lists'][0][0])"
   ]
  },
  {
   "cell_type": "markdown",
   "metadata": {},
   "source": [
    "## Training & Testing"
   ]
  },
  {
   "cell_type": "markdown",
   "metadata": {},
   "source": [
    "Train a logistic regression model for each label."
   ]
  },
  {
   "cell_type": "code",
   "execution_count": 32,
   "metadata": {},
   "outputs": [],
   "source": [
    "classifiers = [LogisticRegression(class_weight='balanced') for i in range(len(song_set))]"
   ]
  },
  {
   "cell_type": "code",
   "execution_count": 33,
   "metadata": {},
   "outputs": [],
   "source": [
    "allPreds  = [ ]\n",
    "allTruths = [ ]\n",
    "coefMat = [ ]\n",
    "labelIndices = [ ]\n",
    "\n",
    "for label_ix in range(len(song_set)):\n",
    "    X, y = gen_training_set(label_ix)\n",
    "    \n",
    "    # by fixing random seed, the same playlists will be in the test set each time\n",
    "    X_train, X_test, y_train, y_test = sk.model_selection.train_test_split(X, y, \\\n",
    "                                                                           test_size = 0.33, \\\n",
    "                                                                           random_state = 31)    \n",
    "    \n",
    "    if np.max(y_train) == 0.0: # or np.max(y_test) == 0.0:\n",
    "        continue\n",
    "\n",
    "    classifiers[label_ix].fit(X_train, y_train)\n",
    "    \n",
    "    allPreds.append(classifiers[label_ix].decision_function(X_test))\n",
    "    allTruths.append(y_test)    \n",
    "\n",
    "    coefMat.append(classifiers[label_ix].coef_.reshape(-1))\n",
    "    labelIndices.append(label_ix)\n",
    "    #print(classifiers[label_ix].coef_)\n",
    "    #print(classifiers[label_ix].intercept_)"
   ]
  },
  {
   "cell_type": "code",
   "execution_count": 34,
   "metadata": {},
   "outputs": [
    {
     "name": "stdout",
     "output_type": "stream",
     "text": [
      "(43, 699)\n",
      "(43, 699)\n"
     ]
    }
   ],
   "source": [
    "allPreds = np.array(allPreds).T\n",
    "allTruths = np.array(allTruths).T\n",
    "\n",
    "print(allPreds.shape)\n",
    "print(allTruths.shape)"
   ]
  },
  {
   "cell_type": "markdown",
   "metadata": {},
   "source": [
    "## Evaluation"
   ]
  },
  {
   "cell_type": "markdown",
   "metadata": {},
   "source": [
    "Compute AUC."
   ]
  },
  {
   "cell_type": "code",
   "execution_count": 35,
   "metadata": {},
   "outputs": [
    {
     "name": "stdout",
     "output_type": "stream",
     "text": [
      "Average AUC: 0.6577\n"
     ]
    },
    {
     "data": {
      "image/png": "[encoded data removed]",
      "text/plain": [
       "<matplotlib.figure.Figure at 0x7f9afb607400>"
      ]
     },
     "metadata": {},
     "output_type": "display_data"
    }
   ],
   "source": [
    "aucs = [ ]\n",
    "for i in range(0,allPreds.shape[0]):\n",
    "    pred  = allPreds[i,:]\n",
    "    truth = allTruths[i,:]\n",
    "    \n",
    "    if np.max(truth) == 0.0:\n",
    "        continue\n",
    "    \n",
    "    aucs.append(sk.metrics.roc_auc_score(truth, pred))\n",
    "    \n",
    "print('Average AUC: %1.4f' % np.mean(aucs))\n",
    "plt.hist(aucs, bins = 10);"
   ]
  },
  {
   "cell_type": "markdown",
   "metadata": {},
   "source": [
    "Compute average precision."
   ]
  },
  {
   "cell_type": "markdown",
   "metadata": {},
   "source": [
    "Coefficient matrix `(#Genres, #Songs)`."
   ]
  },
  {
   "cell_type": "code",
   "execution_count": 36,
   "metadata": {
    "collapsed": true
   },
   "outputs": [],
   "source": [
    "coefMat = np.array(coefMat).T"
   ]
  },
  {
   "cell_type": "code",
   "execution_count": 37,
   "metadata": {},
   "outputs": [
    {
     "data": {
      "text/plain": [
       "(15, 699)"
      ]
     },
     "execution_count": 37,
     "metadata": {},
     "output_type": "execute_result"
    }
   ],
   "source": [
    "coefMat.shape"
   ]
  },
  {
   "cell_type": "code",
   "execution_count": 38,
   "metadata": {},
   "outputs": [],
   "source": [
    "#sns.heatmap(coefMat[:, :30])"
   ]
  },
  {
   "cell_type": "markdown",
   "metadata": {},
   "source": [
    "Top 10 songs of each genre (w.r.t.) the coefficients."
   ]
  },
  {
   "cell_type": "code",
   "execution_count": 39,
   "metadata": {
    "collapsed": true
   },
   "outputs": [],
   "source": [
    "labelIndices = np.array(labelIndices)"
   ]
  },
  {
   "cell_type": "code",
   "execution_count": 40,
   "metadata": {},
   "outputs": [],
   "source": [
    "Top10Songs_ix = [ ]\n",
    "for i in range(coefMat.shape[0]):\n",
    "    ix = np.argsort(coefMat[i, :])[::-1][:10]\n",
    "    Top10Songs_ix.append(labelIndices[ix])"
   ]
  },
  {
   "cell_type": "code",
   "execution_count": 41,
   "metadata": {},
   "outputs": [],
   "source": [
    "#Top10Songs_ix"
   ]
  },
  {
   "cell_type": "code",
   "execution_count": 42,
   "metadata": {},
   "outputs": [],
   "source": [
    "#np.array(song_set)[Top10Songs_ix[0]]"
   ]
  },
  {
   "cell_type": "code",
   "execution_count": 43,
   "metadata": {},
   "outputs": [],
   "source": [
    "Top10Songs = pd.DataFrame(np.zeros((len(tag_set), 10), dtype = object),\n",
    "                          index = tag_set, columns = ['Top %d' % k for k in range(1, 11)])"
   ]
  },
  {
   "cell_type": "code",
   "execution_count": 44,
   "metadata": {},
   "outputs": [],
   "source": [
    "for i in range(len(tag_set)):\n",
    "    row = tag_set[i]\n",
    "    for j in range(10):\n",
    "        song_ix = Top10Songs_ix[i][j]\n",
    "        songID = song_set[song_ix]\n",
    "        songName = songID2Name[songID]\n",
    "        col = 'Top %d' % (j+1)\n",
    "        Top10Songs.loc[row, col] = songName"
   ]
  },
  {
   "cell_type": "code",
   "execution_count": 45,
   "metadata": {},
   "outputs": [
    {
     "data": {
      "text/html": [
       "<div>\n",
       "<style>\n",
       "    .dataframe thead tr:only-child th {\n",
       "        text-align: right;\n",
       "    }\n",
       "\n",
       "    .dataframe thead th {\n",
       "        text-align: left;\n",
       "    }\n",
       "\n",
       "    .dataframe tbody tr th {\n",
       "        vertical-align: top;\n",
       "    }\n",
       "</style>\n",
       "<table border=\"1\" class=\"dataframe\">\n",
       "  <thead>\n",
       "    <tr style=\"text-align: right;\">\n",
       "      <th></th>\n",
       "      <th>Top 1</th>\n",
       "      <th>Top 2</th>\n",
       "      <th>Top 3</th>\n",
       "      <th>Top 4</th>\n",
       "      <th>Top 5</th>\n",
       "      <th>Top 6</th>\n",
       "      <th>Top 7</th>\n",
       "      <th>Top 8</th>\n",
       "      <th>Top 9</th>\n",
       "      <th>Top 10</th>\n",
       "    </tr>\n",
       "  </thead>\n",
       "  <tbody>\n",
       "    <tr>\n",
       "      <th>Blues</th>\n",
       "      <td>[LCD Soundsystem, Watch The Tapes]</td>\n",
       "      <td>[morcheeba, blindfold]</td>\n",
       "      <td>[Radiohead, Permanent Daylight]</td>\n",
       "      <td>[Soundgarden, Black Hole Sun]</td>\n",
       "      <td>[evanescence, my immortal]</td>\n",
       "      <td>[Iron Butterfly, In-a-Gadda-Da-Vida (single ve...</td>\n",
       "      <td>[Alice in Chains, Them Bones]</td>\n",
       "      <td>[Radiohead, Anyone Can Play Guitar]</td>\n",
       "      <td>[The Damned, New Rose]</td>\n",
       "      <td>[Dar Williams, What Do You Hear In These Sounds]</td>\n",
       "    </tr>\n",
       "    <tr>\n",
       "      <th>Country</th>\n",
       "      <td>[Keith Urban, Who Wouldn't Wanna be Me]</td>\n",
       "      <td>[Nickel Creek, The Smoothie Song]</td>\n",
       "      <td>[Kenny Chesney, The Good Stuff]</td>\n",
       "      <td>[pedro the lion, of up and coming monarchs]</td>\n",
       "      <td>[Jim Noir, I Me You I'm Your]</td>\n",
       "      <td>[The Clash, Train in Vain]</td>\n",
       "      <td>[Gorillaz, Dare]</td>\n",
       "      <td>[The Stone Roses, Fools Gold]</td>\n",
       "      <td>[Garbage, Dog New Tricks]</td>\n",
       "      <td>[Radiohead, Vegetable (Live)]</td>\n",
       "    </tr>\n",
       "    <tr>\n",
       "      <th>Electronic</th>\n",
       "      <td>[Depeche Mode, Wrong]</td>\n",
       "      <td>[, Walking In My Shoes]</td>\n",
       "      <td>[dogs die in hot cars, godhopping]</td>\n",
       "      <td>[LCD Soundsystem, Someone Great]</td>\n",
       "      <td>[modest mouse, float on]</td>\n",
       "      <td>[morcheeba, part of the process]</td>\n",
       "      <td>[beth orton, central reservation(orbit mix)]</td>\n",
       "      <td>[morcheeba, let me see]</td>\n",
       "      <td>[happy mondays, 24 hour party people]</td>\n",
       "      <td>[LCD Soundsystem, All I Want]</td>\n",
       "    </tr>\n",
       "    <tr>\n",
       "      <th>Folk</th>\n",
       "      <td>[something corporate, space]</td>\n",
       "      <td>[michelle branch, where are you now]</td>\n",
       "      <td>[damien rice, volcano]</td>\n",
       "      <td>[linkin park, numb]</td>\n",
       "      <td>[trapt, headstrong]</td>\n",
       "      <td>[fuel, falls on me]</td>\n",
       "      <td>[3 doors down, going down in flames]</td>\n",
       "      <td>[chevelle, the red]</td>\n",
       "      <td>[matchbox twenty, busted (acoustic)]</td>\n",
       "      <td>[yellowcard, way away]</td>\n",
       "    </tr>\n",
       "    <tr>\n",
       "      <th>Jazz</th>\n",
       "      <td>[LCD Soundsystem, Watch The Tapes]</td>\n",
       "      <td>[morcheeba, blindfold]</td>\n",
       "      <td>[Radiohead, Permanent Daylight]</td>\n",
       "      <td>[Soundgarden, Black Hole Sun]</td>\n",
       "      <td>[evanescence, my immortal]</td>\n",
       "      <td>[Iron Butterfly, In-a-Gadda-Da-Vida (single ve...</td>\n",
       "      <td>[Alice in Chains, Them Bones]</td>\n",
       "      <td>[Radiohead, Anyone Can Play Guitar]</td>\n",
       "      <td>[The Damned, New Rose]</td>\n",
       "      <td>[Dar Williams, What Do You Hear In These Sounds]</td>\n",
       "    </tr>\n",
       "    <tr>\n",
       "      <th>Latin</th>\n",
       "      <td>[LCD Soundsystem, Watch The Tapes]</td>\n",
       "      <td>[morcheeba, blindfold]</td>\n",
       "      <td>[Radiohead, Permanent Daylight]</td>\n",
       "      <td>[Soundgarden, Black Hole Sun]</td>\n",
       "      <td>[evanescence, my immortal]</td>\n",
       "      <td>[Iron Butterfly, In-a-Gadda-Da-Vida (single ve...</td>\n",
       "      <td>[Alice in Chains, Them Bones]</td>\n",
       "      <td>[Radiohead, Anyone Can Play Guitar]</td>\n",
       "      <td>[The Damned, New Rose]</td>\n",
       "      <td>[Dar Williams, What Do You Hear In These Sounds]</td>\n",
       "    </tr>\n",
       "    <tr>\n",
       "      <th>Metal</th>\n",
       "      <td>[LCD Soundsystem, Watch The Tapes]</td>\n",
       "      <td>[morcheeba, blindfold]</td>\n",
       "      <td>[Radiohead, Permanent Daylight]</td>\n",
       "      <td>[Soundgarden, Black Hole Sun]</td>\n",
       "      <td>[evanescence, my immortal]</td>\n",
       "      <td>[Iron Butterfly, In-a-Gadda-Da-Vida (single ve...</td>\n",
       "      <td>[Alice in Chains, Them Bones]</td>\n",
       "      <td>[Radiohead, Anyone Can Play Guitar]</td>\n",
       "      <td>[The Damned, New Rose]</td>\n",
       "      <td>[Dar Williams, What Do You Hear In These Sounds]</td>\n",
       "    </tr>\n",
       "    <tr>\n",
       "      <th>New Age</th>\n",
       "      <td>[LCD Soundsystem, Watch The Tapes]</td>\n",
       "      <td>[morcheeba, blindfold]</td>\n",
       "      <td>[Radiohead, Permanent Daylight]</td>\n",
       "      <td>[Soundgarden, Black Hole Sun]</td>\n",
       "      <td>[evanescence, my immortal]</td>\n",
       "      <td>[Iron Butterfly, In-a-Gadda-Da-Vida (single ve...</td>\n",
       "      <td>[Alice in Chains, Them Bones]</td>\n",
       "      <td>[Radiohead, Anyone Can Play Guitar]</td>\n",
       "      <td>[The Damned, New Rose]</td>\n",
       "      <td>[Dar Williams, What Do You Hear In These Sounds]</td>\n",
       "    </tr>\n",
       "    <tr>\n",
       "      <th>Pop</th>\n",
       "      <td>[Christina Aguilera, Fighter]</td>\n",
       "      <td>[Britney Spears, Oops I Did It Again]</td>\n",
       "      <td>[Spice Girls, Wannabe]</td>\n",
       "      <td>[Michelle Branch, You Get Me]</td>\n",
       "      <td>[Christina Aguilera, Impossible]</td>\n",
       "      <td>[Christina Aguilera, Lady Marmalade]</td>\n",
       "      <td>[Lil Wayne, A Milli]</td>\n",
       "      <td>[Christina Aguilera, Beautiful]</td>\n",
       "      <td>[Nick Lachey, I Swear]</td>\n",
       "      <td>[Flo Rida, Low]</td>\n",
       "    </tr>\n",
       "    <tr>\n",
       "      <th>Punk</th>\n",
       "      <td>[the ataris, boys of summer]</td>\n",
       "      <td>[AFI, bleed black]</td>\n",
       "      <td>[AFI, death of seasons]</td>\n",
       "      <td>[Radiohead, Vegetable (Live)]</td>\n",
       "      <td>[The Clash, Train in Vain]</td>\n",
       "      <td>[Gorillaz, Dare]</td>\n",
       "      <td>[Belle &amp; Sebastian, Step Into My Office, Baby]</td>\n",
       "      <td>[Garbage, Dog New Tricks]</td>\n",
       "      <td>[Jim Noir, I Me You I'm Your]</td>\n",
       "      <td>[pedro the lion, of up and coming monarchs]</td>\n",
       "    </tr>\n",
       "    <tr>\n",
       "      <th>Rap</th>\n",
       "      <td>[Cypress Hill, How I Could Just Kill A Man]</td>\n",
       "      <td>[Cypress Hill, Kronologik]</td>\n",
       "      <td>[Cypress Hill, What's Your Number (ft. Tim Arm...</td>\n",
       "      <td>[Cypress Hill, Riot Starter]</td>\n",
       "      <td>[Cypress Hill, Killa Hill Niggas]</td>\n",
       "      <td>[Cypress Hill, Tequila Sunrise]</td>\n",
       "      <td>[Cypress Hill, Make A Move]</td>\n",
       "      <td>[Cypress Hill, Latin Lingo]</td>\n",
       "      <td>[Cypress Hill, Boom Biddy Bye Bye]</td>\n",
       "      <td>[Cypress Hill, Lowrider]</td>\n",
       "    </tr>\n",
       "    <tr>\n",
       "      <th>Reggae</th>\n",
       "      <td>[LCD Soundsystem, Watch The Tapes]</td>\n",
       "      <td>[morcheeba, blindfold]</td>\n",
       "      <td>[Radiohead, Permanent Daylight]</td>\n",
       "      <td>[Soundgarden, Black Hole Sun]</td>\n",
       "      <td>[evanescence, my immortal]</td>\n",
       "      <td>[Iron Butterfly, In-a-Gadda-Da-Vida (single ve...</td>\n",
       "      <td>[Alice in Chains, Them Bones]</td>\n",
       "      <td>[Radiohead, Anyone Can Play Guitar]</td>\n",
       "      <td>[The Damned, New Rose]</td>\n",
       "      <td>[Dar Williams, What Do You Hear In These Sounds]</td>\n",
       "    </tr>\n",
       "    <tr>\n",
       "      <th>RnB</th>\n",
       "      <td>[bjork, it's not up to you]</td>\n",
       "      <td>[res, i've known the garden]</td>\n",
       "      <td>[faye wong, (can't read song title, ai shan yi...</td>\n",
       "      <td>[Macy Gray, She Don't Write Songs About You]</td>\n",
       "      <td>[Macy Gray, Speechless]</td>\n",
       "      <td>[Macy Gray, Freak Like Me]</td>\n",
       "      <td>[Macy Gray, The Letter]</td>\n",
       "      <td>[Macy Gray, Still]</td>\n",
       "      <td>[Macy Gray, A Moment To Myself]</td>\n",
       "      <td>[Macy Gray, Forgiveness]</td>\n",
       "    </tr>\n",
       "    <tr>\n",
       "      <th>Rock</th>\n",
       "      <td>[, Electioneering]</td>\n",
       "      <td>[Radiohead, Polyethylene [parts 1 &amp; 2]]</td>\n",
       "      <td>[Radiohead, Climbing Up The Walls]</td>\n",
       "      <td>[radiohead, paranoid android]</td>\n",
       "      <td>[radiohead, just]</td>\n",
       "      <td>[Radiohead, Talk Show Host [nellee hooper]]</td>\n",
       "      <td>[Radiohead, Fitter Happier]</td>\n",
       "      <td>[radiohead, street spirit (fade out)]</td>\n",
       "      <td>[radiohead, black star]</td>\n",
       "      <td>[Coldplay, Clocks]</td>\n",
       "    </tr>\n",
       "    <tr>\n",
       "      <th>World</th>\n",
       "      <td>[LCD Soundsystem, Watch The Tapes]</td>\n",
       "      <td>[morcheeba, blindfold]</td>\n",
       "      <td>[Radiohead, Permanent Daylight]</td>\n",
       "      <td>[Soundgarden, Black Hole Sun]</td>\n",
       "      <td>[evanescence, my immortal]</td>\n",
       "      <td>[Iron Butterfly, In-a-Gadda-Da-Vida (single ve...</td>\n",
       "      <td>[Alice in Chains, Them Bones]</td>\n",
       "      <td>[Radiohead, Anyone Can Play Guitar]</td>\n",
       "      <td>[The Damned, New Rose]</td>\n",
       "      <td>[Dar Williams, What Do You Hear In These Sounds]</td>\n",
       "    </tr>\n",
       "  </tbody>\n",
       "</table>\n",
       "</div>"
      ],
      "text/plain": [
       "                                                  Top 1  \\\n",
       "Blues                [LCD Soundsystem, Watch The Tapes]   \n",
       "Country         [Keith Urban, Who Wouldn't Wanna be Me]   \n",
       "Electronic                        [Depeche Mode, Wrong]   \n",
       "Folk                       [something corporate, space]   \n",
       "Jazz                 [LCD Soundsystem, Watch The Tapes]   \n",
       "Latin                [LCD Soundsystem, Watch The Tapes]   \n",
       "Metal                [LCD Soundsystem, Watch The Tapes]   \n",
       "New Age              [LCD Soundsystem, Watch The Tapes]   \n",
       "Pop                       [Christina Aguilera, Fighter]   \n",
       "Punk                       [the ataris, boys of summer]   \n",
       "Rap         [Cypress Hill, How I Could Just Kill A Man]   \n",
       "Reggae               [LCD Soundsystem, Watch The Tapes]   \n",
       "RnB                         [bjork, it's not up to you]   \n",
       "Rock                                 [, Electioneering]   \n",
       "World                [LCD Soundsystem, Watch The Tapes]   \n",
       "\n",
       "                                              Top 2  \\\n",
       "Blues                        [morcheeba, blindfold]   \n",
       "Country           [Nickel Creek, The Smoothie Song]   \n",
       "Electronic                  [, Walking In My Shoes]   \n",
       "Folk           [michelle branch, where are you now]   \n",
       "Jazz                         [morcheeba, blindfold]   \n",
       "Latin                        [morcheeba, blindfold]   \n",
       "Metal                        [morcheeba, blindfold]   \n",
       "New Age                      [morcheeba, blindfold]   \n",
       "Pop           [Britney Spears, Oops I Did It Again]   \n",
       "Punk                             [AFI, bleed black]   \n",
       "Rap                      [Cypress Hill, Kronologik]   \n",
       "Reggae                       [morcheeba, blindfold]   \n",
       "RnB                    [res, i've known the garden]   \n",
       "Rock        [Radiohead, Polyethylene [parts 1 & 2]]   \n",
       "World                        [morcheeba, blindfold]   \n",
       "\n",
       "                                                        Top 3  \\\n",
       "Blues                         [Radiohead, Permanent Daylight]   \n",
       "Country                       [Kenny Chesney, The Good Stuff]   \n",
       "Electronic                 [dogs die in hot cars, godhopping]   \n",
       "Folk                                   [damien rice, volcano]   \n",
       "Jazz                          [Radiohead, Permanent Daylight]   \n",
       "Latin                         [Radiohead, Permanent Daylight]   \n",
       "Metal                         [Radiohead, Permanent Daylight]   \n",
       "New Age                       [Radiohead, Permanent Daylight]   \n",
       "Pop                                    [Spice Girls, Wannabe]   \n",
       "Punk                                  [AFI, death of seasons]   \n",
       "Rap         [Cypress Hill, What's Your Number (ft. Tim Arm...   \n",
       "Reggae                        [Radiohead, Permanent Daylight]   \n",
       "RnB         [faye wong, (can't read song title, ai shan yi...   \n",
       "Rock                       [Radiohead, Climbing Up The Walls]   \n",
       "World                         [Radiohead, Permanent Daylight]   \n",
       "\n",
       "                                                   Top 4  \\\n",
       "Blues                      [Soundgarden, Black Hole Sun]   \n",
       "Country      [pedro the lion, of up and coming monarchs]   \n",
       "Electronic              [LCD Soundsystem, Someone Great]   \n",
       "Folk                                 [linkin park, numb]   \n",
       "Jazz                       [Soundgarden, Black Hole Sun]   \n",
       "Latin                      [Soundgarden, Black Hole Sun]   \n",
       "Metal                      [Soundgarden, Black Hole Sun]   \n",
       "New Age                    [Soundgarden, Black Hole Sun]   \n",
       "Pop                        [Michelle Branch, You Get Me]   \n",
       "Punk                       [Radiohead, Vegetable (Live)]   \n",
       "Rap                         [Cypress Hill, Riot Starter]   \n",
       "Reggae                     [Soundgarden, Black Hole Sun]   \n",
       "RnB         [Macy Gray, She Don't Write Songs About You]   \n",
       "Rock                       [radiohead, paranoid android]   \n",
       "World                      [Soundgarden, Black Hole Sun]   \n",
       "\n",
       "                                        Top 5  \\\n",
       "Blues              [evanescence, my immortal]   \n",
       "Country         [Jim Noir, I Me You I'm Your]   \n",
       "Electronic           [modest mouse, float on]   \n",
       "Folk                      [trapt, headstrong]   \n",
       "Jazz               [evanescence, my immortal]   \n",
       "Latin              [evanescence, my immortal]   \n",
       "Metal              [evanescence, my immortal]   \n",
       "New Age            [evanescence, my immortal]   \n",
       "Pop          [Christina Aguilera, Impossible]   \n",
       "Punk               [The Clash, Train in Vain]   \n",
       "Rap         [Cypress Hill, Killa Hill Niggas]   \n",
       "Reggae             [evanescence, my immortal]   \n",
       "RnB                   [Macy Gray, Speechless]   \n",
       "Rock                        [radiohead, just]   \n",
       "World              [evanescence, my immortal]   \n",
       "\n",
       "                                                        Top 6  \\\n",
       "Blues       [Iron Butterfly, In-a-Gadda-Da-Vida (single ve...   \n",
       "Country                            [The Clash, Train in Vain]   \n",
       "Electronic                   [morcheeba, part of the process]   \n",
       "Folk                                      [fuel, falls on me]   \n",
       "Jazz        [Iron Butterfly, In-a-Gadda-Da-Vida (single ve...   \n",
       "Latin       [Iron Butterfly, In-a-Gadda-Da-Vida (single ve...   \n",
       "Metal       [Iron Butterfly, In-a-Gadda-Da-Vida (single ve...   \n",
       "New Age     [Iron Butterfly, In-a-Gadda-Da-Vida (single ve...   \n",
       "Pop                      [Christina Aguilera, Lady Marmalade]   \n",
       "Punk                                         [Gorillaz, Dare]   \n",
       "Rap                           [Cypress Hill, Tequila Sunrise]   \n",
       "Reggae      [Iron Butterfly, In-a-Gadda-Da-Vida (single ve...   \n",
       "RnB                                [Macy Gray, Freak Like Me]   \n",
       "Rock              [Radiohead, Talk Show Host [nellee hooper]]   \n",
       "World       [Iron Butterfly, In-a-Gadda-Da-Vida (single ve...   \n",
       "\n",
       "                                                     Top 7  \\\n",
       "Blues                        [Alice in Chains, Them Bones]   \n",
       "Country                                   [Gorillaz, Dare]   \n",
       "Electronic    [beth orton, central reservation(orbit mix)]   \n",
       "Folk                  [3 doors down, going down in flames]   \n",
       "Jazz                         [Alice in Chains, Them Bones]   \n",
       "Latin                        [Alice in Chains, Them Bones]   \n",
       "Metal                        [Alice in Chains, Them Bones]   \n",
       "New Age                      [Alice in Chains, Them Bones]   \n",
       "Pop                                   [Lil Wayne, A Milli]   \n",
       "Punk        [Belle & Sebastian, Step Into My Office, Baby]   \n",
       "Rap                            [Cypress Hill, Make A Move]   \n",
       "Reggae                       [Alice in Chains, Them Bones]   \n",
       "RnB                                [Macy Gray, The Letter]   \n",
       "Rock                           [Radiohead, Fitter Happier]   \n",
       "World                        [Alice in Chains, Them Bones]   \n",
       "\n",
       "                                            Top 8  \\\n",
       "Blues         [Radiohead, Anyone Can Play Guitar]   \n",
       "Country             [The Stone Roses, Fools Gold]   \n",
       "Electronic                [morcheeba, let me see]   \n",
       "Folk                          [chevelle, the red]   \n",
       "Jazz          [Radiohead, Anyone Can Play Guitar]   \n",
       "Latin         [Radiohead, Anyone Can Play Guitar]   \n",
       "Metal         [Radiohead, Anyone Can Play Guitar]   \n",
       "New Age       [Radiohead, Anyone Can Play Guitar]   \n",
       "Pop               [Christina Aguilera, Beautiful]   \n",
       "Punk                    [Garbage, Dog New Tricks]   \n",
       "Rap                   [Cypress Hill, Latin Lingo]   \n",
       "Reggae        [Radiohead, Anyone Can Play Guitar]   \n",
       "RnB                            [Macy Gray, Still]   \n",
       "Rock        [radiohead, street spirit (fade out)]   \n",
       "World         [Radiohead, Anyone Can Play Guitar]   \n",
       "\n",
       "                                            Top 9  \\\n",
       "Blues                      [The Damned, New Rose]   \n",
       "Country                 [Garbage, Dog New Tricks]   \n",
       "Electronic  [happy mondays, 24 hour party people]   \n",
       "Folk         [matchbox twenty, busted (acoustic)]   \n",
       "Jazz                       [The Damned, New Rose]   \n",
       "Latin                      [The Damned, New Rose]   \n",
       "Metal                      [The Damned, New Rose]   \n",
       "New Age                    [The Damned, New Rose]   \n",
       "Pop                        [Nick Lachey, I Swear]   \n",
       "Punk                [Jim Noir, I Me You I'm Your]   \n",
       "Rap            [Cypress Hill, Boom Biddy Bye Bye]   \n",
       "Reggae                     [The Damned, New Rose]   \n",
       "RnB               [Macy Gray, A Moment To Myself]   \n",
       "Rock                      [radiohead, black star]   \n",
       "World                      [The Damned, New Rose]   \n",
       "\n",
       "                                                      Top 10  \n",
       "Blues       [Dar Williams, What Do You Hear In These Sounds]  \n",
       "Country                        [Radiohead, Vegetable (Live)]  \n",
       "Electronic                     [LCD Soundsystem, All I Want]  \n",
       "Folk                                  [yellowcard, way away]  \n",
       "Jazz        [Dar Williams, What Do You Hear In These Sounds]  \n",
       "Latin       [Dar Williams, What Do You Hear In These Sounds]  \n",
       "Metal       [Dar Williams, What Do You Hear In These Sounds]  \n",
       "New Age     [Dar Williams, What Do You Hear In These Sounds]  \n",
       "Pop                                          [Flo Rida, Low]  \n",
       "Punk             [pedro the lion, of up and coming monarchs]  \n",
       "Rap                                 [Cypress Hill, Lowrider]  \n",
       "Reggae      [Dar Williams, What Do You Hear In These Sounds]  \n",
       "RnB                                 [Macy Gray, Forgiveness]  \n",
       "Rock                                      [Coldplay, Clocks]  \n",
       "World       [Dar Williams, What Do You Hear In These Sounds]  "
      ]
     },
     "execution_count": 45,
     "metadata": {},
     "output_type": "execute_result"
    }
   ],
   "source": [
    "Top10Songs"
   ]
  }
 ],
 "metadata": {
  "kernelspec": {
   "display_name": "Python [default]",
   "language": "python",
   "name": "python3"
  },
  "language_info": {
   "codemirror_mode": {
    "name": "ipython",
    "version": 3
   },
   "file_extension": ".py",
   "mimetype": "text/x-python",
   "name": "python",
   "nbconvert_exporter": "python",
   "pygments_lexer": "ipython3",
   "version": "3.5.3"
  }
 },
 "nbformat": 4,
 "nbformat_minor": 2
}
