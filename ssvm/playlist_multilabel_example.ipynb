{
 "cells": [
  {
   "cell_type": "markdown",
   "metadata": {},
   "source": [
    "# A simple example of generating playlist by multilable learning"
   ]
  },
  {
   "cell_type": "code",
   "execution_count": 1,
   "metadata": {
    "collapsed": true
   },
   "outputs": [],
   "source": [
    "%matplotlib inline\n",
    "\n",
    "import os, sys, time\n",
    "import pickle as pkl\n",
    "import numpy as np\n",
    "import sklearn as sk\n",
    "\n",
    "from sklearn.linear_model import LogisticRegression as LR\n",
    "\n",
    "import matplotlib.pyplot as plt\n",
    "import seaborn as sns"
   ]
  },
  {
   "cell_type": "code",
   "execution_count": 2,
   "metadata": {
    "collapsed": true
   },
   "outputs": [],
   "source": [
    "data_dir = 'data'\n",
    "faotm = os.path.join(data_dir, 'aotm-2011/aotm-2011-subset.pkl')\n",
    "fmap  = os.path.join(data_dir, 'aotm-2011/map_song_track.pkl')\n",
    "ftag  = os.path.join(data_dir, 'msd/msd_tagtraum_cd2c.cls')"
   ]
  },
  {
   "cell_type": "markdown",
   "metadata": {},
   "source": [
    "## Data loading"
   ]
  },
  {
   "cell_type": "markdown",
   "metadata": {},
   "source": [
    "Load playlists."
   ]
  },
  {
   "cell_type": "code",
   "execution_count": 3,
   "metadata": {
    "collapsed": true
   },
   "outputs": [],
   "source": [
    "playlists = pkl.load(open(faotm, 'rb'))"
   ]
  },
  {
   "cell_type": "code",
   "execution_count": 4,
   "metadata": {},
   "outputs": [
    {
     "name": "stdout",
     "output_type": "stream",
     "text": [
      "#Playlists: 241\n"
     ]
    }
   ],
   "source": [
    "print('#Playlists: %d' % len(playlists))"
   ]
  },
  {
   "cell_type": "code",
   "execution_count": 5,
   "metadata": {},
   "outputs": [
    {
     "data": {
      "text/plain": [
       "{'category': 'Road Trip',\n",
       " 'filtered_lists': [['SOYXQBU12CF5F88FAA',\n",
       "   'SOYDNDN12A58A77663',\n",
       "   'SOOLDQA12A6D4F9370',\n",
       "   'SOHCPBA12AB018377B',\n",
       "   'SOHGHSU12AB0186C5F',\n",
       "   'SOFRCHU12A8C13F96B',\n",
       "   'SONHAWL12A6310F260',\n",
       "   'SOXRJWV12A8C13DE1D',\n",
       "   'SOUPNVN12AB018B0B4',\n",
       "   'SOEYNQL12A67ADE655',\n",
       "   'SOZTMFN12A58A7DCEE',\n",
       "   'SORDYVO12A8C141A40']],\n",
       " 'mix_id': 113009,\n",
       " 'playlist': [[['Simon & Garfunkel', 'America'], 'SOYXQBU12CF5F88FAA'],\n",
       "  [['Marc Cohn', 'Walking In Memphis'], 'SOYDNDN12A58A77663'],\n",
       "  [['Matt Pond PA', 'Lily Two'], 'SOOLDQA12A6D4F9370'],\n",
       "  [['Grateful Dead', 'Tennessee Jed'], 'SOHCPBA12AB018377B'],\n",
       "  [['Braid', 'Killing a Camera'], 'SOHGHSU12AB0186C5F'],\n",
       "  [['Johnny Cash', 'Hey Porter'], 'SOFRCHU12A8C13F96B'],\n",
       "  [[\"Marcy's Playground\", 'Memphis'], 'SONHAWL12A6310F260'],\n",
       "  [['Whiskeytown', 'Lo-Fi Tennessee Mountain Angel'], 'SOXRJWV12A8C13DE1D'],\n",
       "  [['Something Corporate', 'I Woke Up in a Car'], 'SOUPNVN12AB018B0B4'],\n",
       "  [['The Boy Least Likely To',\n",
       "    \"I'm Glad I Hitched My Apple Wagon to Your Star\"],\n",
       "   'SOEYNQL12A67ADE655'],\n",
       "  [['The Promise Ring', 'Everywhere In Denver'], 'SOZTMFN12A58A7DCEE'],\n",
       "  [['Jeff Buckley', 'Hallelujah'], 'SORDYVO12A8C141A40']],\n",
       " 'timestamp': '2007-06-23T00:46:00',\n",
       " 'user': {'member_since': '2003-12-27T00:00:00',\n",
       "  'mixes_posted': '14',\n",
       "  'name': 'elizabeth123456'}}"
      ]
     },
     "execution_count": 5,
     "metadata": {},
     "output_type": "execute_result"
    }
   ],
   "source": [
    "playlists[0]"
   ]
  },
  {
   "cell_type": "code",
   "execution_count": 6,
   "metadata": {},
   "outputs": [
    {
     "name": "stdout",
     "output_type": "stream",
     "text": [
      "#Songs: 1718\n"
     ]
    }
   ],
   "source": [
    "print('#Songs: %d' % len({songID for p in playlists for songID in p['filtered_lists'][0]}))"
   ]
  },
  {
   "cell_type": "code",
   "execution_count": 7,
   "metadata": {},
   "outputs": [
    {
     "name": "stdout",
     "output_type": "stream",
     "text": [
      "Average playlist length: 9.2\n"
     ]
    }
   ],
   "source": [
    "lengths = [len(p['filtered_lists'][0]) for p in playlists]\n",
    "#plt.hist(lengths, bins=20)\n",
    "print('Average playlist length: %.1f' % np.mean(lengths))"
   ]
  },
  {
   "cell_type": "markdown",
   "metadata": {},
   "source": [
    "Load `song_id` --> `track_id` mapping: a song may correspond to multiple tracks."
   ]
  },
  {
   "cell_type": "code",
   "execution_count": 8,
   "metadata": {
    "collapsed": true
   },
   "outputs": [],
   "source": [
    "song2TrackID = pkl.load(open(fmap, 'rb'))"
   ]
  },
  {
   "cell_type": "code",
   "execution_count": 9,
   "metadata": {},
   "outputs": [
    {
     "data": {
      "text/plain": [
       "{'SOAKHZF12AB0186DC9': ['TRQTKLH12903CE2904'],\n",
       " 'SOCCPYP12A8C13FBEC': ['TRRARAE128F42911F0'],\n",
       " 'SODJOYQ12A58A7D951': ['TRRNQNR128F42583D4'],\n",
       " 'SOEEYNQ12A8C132864': ['TRJOLVL128F4262D6E'],\n",
       " 'SOHGLRR12A8C139D15': ['TRIWEQL128F4277E16'],\n",
       " 'SOIHAXS12AC4689194': ['TRTMIXS12903D07910'],\n",
       " 'SOJSUHG12A670215B6': ['TRQYXGS128E078569C'],\n",
       " 'SOWSZBE12AB01830DE': ['TRMZYRP128F9326829'],\n",
       " 'SOYOGAQ12A6D4F8252': ['TRWDWNS128F147CBCB'],\n",
       " 'SOZKNJE12A6701D1A7': ['TRKAROU128E07844BD']}"
      ]
     },
     "execution_count": 9,
     "metadata": {},
     "output_type": "execute_result"
    }
   ],
   "source": [
    "{ k : song2TrackID[k] for k in list(song2TrackID.keys())[:10] }"
   ]
  },
  {
   "cell_type": "markdown",
   "metadata": {},
   "source": [
    "Load song tags, build `track_id` --> `tag` mapping."
   ]
  },
  {
   "cell_type": "code",
   "execution_count": 10,
   "metadata": {
    "collapsed": true
   },
   "outputs": [],
   "source": [
    "track2Tags = dict()"
   ]
  },
  {
   "cell_type": "code",
   "execution_count": 11,
   "metadata": {
    "collapsed": true
   },
   "outputs": [],
   "source": [
    "with open(ftag) as f:\n",
    "    for line in f:\n",
    "        if line[0] == '#': continue\n",
    "        tid, tag = line.strip().split('\\t')\n",
    "        #print(tid, tag)\n",
    "        track2Tags[tid] = tag"
   ]
  },
  {
   "cell_type": "code",
   "execution_count": 12,
   "metadata": {},
   "outputs": [
    {
     "name": "stdout",
     "output_type": "stream",
     "text": [
      "#(Track, Tag): 191401\n"
     ]
    }
   ],
   "source": [
    "print('#(Track, Tag): %d' % len(track2Tags))"
   ]
  },
  {
   "cell_type": "code",
   "execution_count": 13,
   "metadata": {},
   "outputs": [
    {
     "data": {
      "text/plain": [
       "{'TRCTRXJ128F42B01C8': 'RnB',\n",
       " 'TRGNDZP128F421972E': 'Rock',\n",
       " 'TRGVBAA128F427F1B6': 'Rock',\n",
       " 'TRHPOWB128F423E879': 'Jazz',\n",
       " 'TRNJDYU128F4264739': 'Pop',\n",
       " 'TRPWHGC128F92E4328': 'Rock',\n",
       " 'TRWCALQ128EF3590B5': 'Reggae',\n",
       " 'TRWCMNN128F426E888': 'Blues',\n",
       " 'TRYDARC128F42BA7DE': 'Rap',\n",
       " 'TRZXJMS128F4259AFC': 'RnB'}"
      ]
     },
     "execution_count": 13,
     "metadata": {},
     "output_type": "execute_result"
    }
   ],
   "source": [
    "{ k : track2Tags[k] for k in list(track2Tags.keys())[:10] }"
   ]
  },
  {
   "cell_type": "markdown",
   "metadata": {},
   "source": [
    "## Data cleaning"
   ]
  },
  {
   "cell_type": "markdown",
   "metadata": {},
   "source": [
    "Use the subset of playlist such that the first song (i.e. the *seed* song) in each playlist has tag(s)."
   ]
  },
  {
   "cell_type": "code",
   "execution_count": 14,
   "metadata": {
    "collapsed": true
   },
   "outputs": [],
   "source": [
    "subset_ix = []"
   ]
  },
  {
   "cell_type": "code",
   "execution_count": 15,
   "metadata": {
    "collapsed": true
   },
   "outputs": [],
   "source": [
    "for ix in range(len(playlists)):\n",
    "    # the list of song IDs in the playlist\n",
    "    songIDs = playlists[ix]['filtered_lists'][0]\n",
    "\n",
    "    # seed song\n",
    "    seedSongID   = songIDs[0]\n",
    "    seedTrackIDs = song2TrackID[seedSongID]\n",
    "    \n",
    "    # make sure that at least one track for the song has a corresponding tag\n",
    "    flag = [ (trackID in track2Tags) for trackID in seedTrackIDs]\n",
    "    if not np.any(flag):\n",
    "        continue\n",
    "\n",
    "    subset_ix.append(ix)"
   ]
  },
  {
   "cell_type": "code",
   "execution_count": 16,
   "metadata": {
    "collapsed": true
   },
   "outputs": [],
   "source": [
    "playlists_subset = [playlists[ix] for ix in subset_ix]"
   ]
  },
  {
   "cell_type": "code",
   "execution_count": 17,
   "metadata": {},
   "outputs": [
    {
     "name": "stdout",
     "output_type": "stream",
     "text": [
      "#Playlists used: 130\n"
     ]
    }
   ],
   "source": [
    "print('#Playlists used: %d' % len(subset_ix))"
   ]
  },
  {
   "cell_type": "markdown",
   "metadata": {},
   "source": [
    "The set of unique songs, **in multilabel learning, we have a label for each song in this set**."
   ]
  },
  {
   "cell_type": "code",
   "execution_count": 18,
   "metadata": {
    "collapsed": true
   },
   "outputs": [],
   "source": [
    "song_set = sorted({songID for p in playlists_subset for songID in p['filtered_lists'][0]})"
   ]
  },
  {
   "cell_type": "code",
   "execution_count": 19,
   "metadata": {},
   "outputs": [
    {
     "name": "stdout",
     "output_type": "stream",
     "text": [
      "#Songs used: 927\n"
     ]
    }
   ],
   "source": [
    "print('#Songs used: %d' % len(song_set))"
   ]
  },
  {
   "cell_type": "code",
   "execution_count": 20,
   "metadata": {},
   "outputs": [
    {
     "name": "stdout",
     "output_type": "stream",
     "text": [
      "['SOAAFAC12A67ADF7EB', 'SOAAJWZ12A67AE16FB', 'SOABLRM12A6701F091', 'SOADISH12AB018DFAC', 'SOADQHJ12AF729D75C', 'SOAGENT12A8C1363D1', 'SOAGGRW12A6D4F920E', 'SOAGSYE12A58A7A5A7', 'SOAHSMI12AF72A9FA7', 'SOAJJRO12AB0182B3A']\n"
     ]
    }
   ],
   "source": [
    "print(song_set[:10])"
   ]
  },
  {
   "cell_type": "markdown",
   "metadata": {},
   "source": [
    "Histogram of playlist length."
   ]
  },
  {
   "cell_type": "code",
   "execution_count": 21,
   "metadata": {},
   "outputs": [
    {
     "name": "stdout",
     "output_type": "stream",
     "text": [
      "Average playlist length: 9.1\n"
     ]
    },
    {
     "data": {
      "image/png": "[encoded data removed]",
      "text/plain": [
       "<matplotlib.figure.Figure at 0x7f6128ec0b70>"
      ]
     },
     "metadata": {},
     "output_type": "display_data"
    }
   ],
   "source": [
    "playlist_lengths = [len(playlist['filtered_lists'][0]) for playlist in playlists_subset]\n",
    "plt.hist(playlist_lengths, bins=20)\n",
    "print('Average playlist length: %.1f' % np.mean(playlist_lengths))"
   ]
  },
  {
   "cell_type": "markdown",
   "metadata": {},
   "source": [
    "## One-hot tag encoding"
   ]
  },
  {
   "cell_type": "markdown",
   "metadata": {},
   "source": [
    "Indicator of tags: `tag` --> `index` mapping."
   ]
  },
  {
   "cell_type": "code",
   "execution_count": 22,
   "metadata": {
    "collapsed": true
   },
   "outputs": [],
   "source": [
    "# the set of unique tags\n",
    "tag_set = list(set(track2Tags.values()))"
   ]
  },
  {
   "cell_type": "code",
   "execution_count": 23,
   "metadata": {},
   "outputs": [
    {
     "name": "stdout",
     "output_type": "stream",
     "text": [
      "#Tags: 15\n"
     ]
    }
   ],
   "source": [
    "print('#Tags: %d' % len(tag_set))"
   ]
  },
  {
   "cell_type": "code",
   "execution_count": 24,
   "metadata": {
    "collapsed": true
   },
   "outputs": [],
   "source": [
    "tag_indicator = { tag: ix for ix, tag in enumerate(sorted(tag_set)) }"
   ]
  },
  {
   "cell_type": "code",
   "execution_count": 25,
   "metadata": {},
   "outputs": [
    {
     "data": {
      "text/plain": [
       "{'Blues': 0,\n",
       " 'Country': 1,\n",
       " 'Electronic': 2,\n",
       " 'Folk': 3,\n",
       " 'Jazz': 4,\n",
       " 'Latin': 5,\n",
       " 'Metal': 6,\n",
       " 'New Age': 7,\n",
       " 'Pop': 8,\n",
       " 'Punk': 9,\n",
       " 'Rap': 10,\n",
       " 'Reggae': 11,\n",
       " 'RnB': 12,\n",
       " 'Rock': 13,\n",
       " 'World': 14}"
      ]
     },
     "execution_count": 25,
     "metadata": {},
     "output_type": "execute_result"
    }
   ],
   "source": [
    "tag_indicator"
   ]
  },
  {
   "cell_type": "markdown",
   "metadata": {},
   "source": [
    "## Feature extraction"
   ]
  },
  {
   "cell_type": "markdown",
   "metadata": {},
   "source": [
    "Build features (1-hot encoding of tag) for a song given its `song_id`."
   ]
  },
  {
   "cell_type": "code",
   "execution_count": 26,
   "metadata": {
    "collapsed": true
   },
   "outputs": [],
   "source": [
    "def gen_features(song_id, song2TrackID = song2TrackID, tag_indicator = tag_indicator):\n",
    "    \"\"\"\n",
    "        Generate one-hot feature vector for a given song ID\n",
    "    \"\"\"\n",
    "\n",
    "    features = np.zeros(len(tag_set), dtype = np.float)\n",
    "    trackIDs = song2TrackID[song_id]\n",
    "\n",
    "    cnt = 0\n",
    "    for trackID in trackIDs:\n",
    "        if trackID in track2Tags:\n",
    "            cnt += 1\n",
    "            tag = track2Tags[trackID]\n",
    "            tag_ix = tag_indicator[tag]\n",
    "            features[tag_ix] = 1\n",
    "\n",
    "    # must have at least one tag for the song, else useless\n",
    "    assert(cnt >= 1)\n",
    "\n",
    "    return features"
   ]
  },
  {
   "cell_type": "code",
   "execution_count": 27,
   "metadata": {
    "collapsed": true
   },
   "outputs": [],
   "source": [
    "def gen_feature_map(song_id, seed):\n",
    "    \"\"\"\n",
    "        Generate feature mapping for a given (label, query) pair\n",
    "    \"\"\"\n",
    "    \n",
    "    #return gen_features(song_id) - gen_features(seed)  # feature map\n",
    "    return gen_features(seed)  # a trivial feature map"
   ]
  },
  {
   "cell_type": "code",
   "execution_count": 28,
   "metadata": {
    "collapsed": true
   },
   "outputs": [],
   "source": [
    "def gen_training_set(label_ix, playlists = playlists_subset, song_set = song_set):\n",
    "    \"\"\"\n",
    "        Create the labelled dataset for a given song index\n",
    "        \n",
    "        Input:\n",
    "            - label_ix: song index, number in { 0, ..., # songs }\n",
    "            - playlists: which playlists to create features for\n",
    "            \n",
    "        Output:\n",
    "            - (Feature, Label) pair (X, y), with # num playlists rows\n",
    "              X comprises the features for each seed song and the given song\n",
    "              y comprises the indicator of whether the given song is present in the respective playlist\n",
    "    \"\"\"\n",
    "\n",
    "    assert(label_ix >= 0)\n",
    "    assert(label_ix < len(song_set))\n",
    "\n",
    "    N = len(playlists)\n",
    "    d = len(tag_set)\n",
    "\n",
    "    X = np.zeros((N, d), dtype = np.float)\n",
    "    y = np.zeros(N, dtype = np.float)\n",
    "    \n",
    "    whichSong = song_set[label_ix]\n",
    "    \n",
    "    for i in range(len(playlists)):\n",
    "        playlist = playlists[i]['filtered_lists'][0]\n",
    "        seed     = playlist[0]\n",
    "\n",
    "        X[i,:] = gen_feature_map(whichSong, seed)\n",
    "        y[i]   = int(whichSong in playlist)\n",
    "\n",
    "    return X, y"
   ]
  },
  {
   "cell_type": "code",
   "execution_count": 29,
   "metadata": {},
   "outputs": [
    {
     "data": {
      "text/plain": [
       "array([ 0.,  0.,  0.,  0.,  0.,  0.,  0.,  0.,  0.,  0.,  0.,  0.,  0.,\n",
       "        1.,  0.])"
      ]
     },
     "execution_count": 29,
     "metadata": {},
     "output_type": "execute_result"
    }
   ],
   "source": [
    "gen_feature_map(song_set[100], playlists_subset[0]['filtered_lists'][0][0])"
   ]
  },
  {
   "cell_type": "markdown",
   "metadata": {},
   "source": [
    "## Training & Testing"
   ]
  },
  {
   "cell_type": "markdown",
   "metadata": {},
   "source": [
    "Train a logistic regression model for each label."
   ]
  },
  {
   "cell_type": "code",
   "execution_count": 30,
   "metadata": {
    "collapsed": true
   },
   "outputs": [],
   "source": [
    "classifiers = [LR(class_weight='balanced') for i in range(len(song_set))]"
   ]
  },
  {
   "cell_type": "code",
   "execution_count": 31,
   "metadata": {
    "collapsed": true
   },
   "outputs": [],
   "source": [
    "allPreds  = [ ]\n",
    "allTruths = [ ]\n",
    "\n",
    "for label_ix in range(len(song_set)):\n",
    "    X, y = gen_training_set(label_ix)\n",
    "    \n",
    "    # by fixing random seed, the same playlists will be in the test set each time\n",
    "    X_train, X_test, y_train, y_test = sk.model_selection.train_test_split(X, y, \\\n",
    "                                                                           test_size = 0.33, \\\n",
    "                                                                           random_state = 31)    \n",
    "    \n",
    "    if np.max(y_train) == 0.0: # or np.max(y_test) == 0.0:\n",
    "        continue\n",
    "\n",
    "    classifiers[label_ix].fit(X_train, y_train)\n",
    "    \n",
    "    allPreds.append(classifiers[label_ix].decision_function(X_test))\n",
    "    allTruths.append(y_test)    \n",
    "\n",
    "#     print(classifiers[label_ix].coef_)\n",
    "#     print(classifiers[label_ix].intercept_)    "
   ]
  },
  {
   "cell_type": "code",
   "execution_count": 32,
   "metadata": {},
   "outputs": [
    {
     "name": "stdout",
     "output_type": "stream",
     "text": [
      "(43, 699)\n",
      "(43, 699)\n"
     ]
    }
   ],
   "source": [
    "allPreds = np.array(allPreds).T\n",
    "allTruths = np.array(allTruths).T\n",
    "\n",
    "print(allPreds.shape)\n",
    "print(allTruths.shape)"
   ]
  },
  {
   "cell_type": "code",
   "execution_count": 33,
   "metadata": {},
   "outputs": [
    {
     "name": "stdout",
     "output_type": "stream",
     "text": [
      "Average AUC: 0.6577\n"
     ]
    },
    {
     "data": {
      "image/png": "[encoded data removed]",
      "text/plain": [
       "<matplotlib.figure.Figure at 0x7f615c101518>"
      ]
     },
     "metadata": {},
     "output_type": "display_data"
    }
   ],
   "source": [
    "aucs = [ ]\n",
    "for i in range(0,allPreds.shape[0]):\n",
    "    pred  = allPreds[i,:]\n",
    "    truth = allTruths[i,:]\n",
    "    \n",
    "    if np.max(truth) == 0.0:\n",
    "        continue\n",
    "    \n",
    "    aucs.append(sk.metrics.roc_auc_score(truth, pred))\n",
    "    \n",
    "print('Average AUC: %1.4f' % np.mean(aucs))\n",
    "plt.hist(aucs, bins = 10);"
   ]
  }
 ],
 "metadata": {
  "kernelspec": {
   "display_name": "Python [default]",
   "language": "python",
   "name": "python3"
  },
  "language_info": {
   "codemirror_mode": {
    "name": "ipython",
    "version": 3
   },
   "file_extension": ".py",
   "mimetype": "text/x-python",
   "name": "python",
   "nbconvert_exporter": "python",
   "pygments_lexer": "ipython3",
   "version": "3.5.3"
  }
 },
 "nbformat": 4,
 "nbformat_minor": 2
}
