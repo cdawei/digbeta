{
 "cells": [
  {
   "cell_type": "code",
   "execution_count": 64,
   "metadata": {
    "collapsed": true
   },
   "outputs": [],
   "source": [
    "%matplotlib inline\n",
    "\n",
    "import os, sys, time\n",
    "import pickle as pkl\n",
    "import numpy as np\n",
    "from sklearn.linear_model import LogisticRegression as LR\n",
    "\n",
    "import matplotlib.pyplot as plt\n",
    "import seaborn as sns\n",
    "\n",
    "#from scipy.optimize import minimize\n",
    "#from scipy.misc import logsumexp"
   ]
  },
  {
   "cell_type": "code",
   "execution_count": 2,
   "metadata": {
    "collapsed": true
   },
   "outputs": [],
   "source": [
    "data_dir = 'data'\n",
    "faotm = os.path.join(data_dir, 'aotm-2011/aotm-2011-subset.pkl')\n",
    "fmap  = os.path.join(data_dir, 'aotm-2011/map_song_track.pkl')\n",
    "ftag  = os.path.join(data_dir, 'msd/msd_tagtraum_cd2c.cls')"
   ]
  },
  {
   "cell_type": "markdown",
   "metadata": {},
   "source": [
    "## Data loading"
   ]
  },
  {
   "cell_type": "markdown",
   "metadata": {},
   "source": [
    "Load playlists."
   ]
  },
  {
   "cell_type": "code",
   "execution_count": 3,
   "metadata": {
    "collapsed": true
   },
   "outputs": [],
   "source": [
    "playlists = pkl.load(open(faotm, 'rb'))"
   ]
  },
  {
   "cell_type": "code",
   "execution_count": 4,
   "metadata": {},
   "outputs": [
    {
     "name": "stdout",
     "output_type": "stream",
     "text": [
      "241\n"
     ]
    }
   ],
   "source": [
    "print(len(playlists))"
   ]
  },
  {
   "cell_type": "code",
   "execution_count": 5,
   "metadata": {},
   "outputs": [
    {
     "data": {
      "text/plain": [
       "{'category': 'Road Trip',\n",
       " 'filtered_lists': [['SOYXQBU12CF5F88FAA',\n",
       "   'SOYDNDN12A58A77663',\n",
       "   'SOOLDQA12A6D4F9370',\n",
       "   'SOHCPBA12AB018377B',\n",
       "   'SOHGHSU12AB0186C5F',\n",
       "   'SOFRCHU12A8C13F96B',\n",
       "   'SONHAWL12A6310F260',\n",
       "   'SOXRJWV12A8C13DE1D',\n",
       "   'SOUPNVN12AB018B0B4',\n",
       "   'SOEYNQL12A67ADE655',\n",
       "   'SOZTMFN12A58A7DCEE',\n",
       "   'SORDYVO12A8C141A40']],\n",
       " 'mix_id': 113009,\n",
       " 'playlist': [[['Simon & Garfunkel', 'America'], 'SOYXQBU12CF5F88FAA'],\n",
       "  [['Marc Cohn', 'Walking In Memphis'], 'SOYDNDN12A58A77663'],\n",
       "  [['Matt Pond PA', 'Lily Two'], 'SOOLDQA12A6D4F9370'],\n",
       "  [['Grateful Dead', 'Tennessee Jed'], 'SOHCPBA12AB018377B'],\n",
       "  [['Braid', 'Killing a Camera'], 'SOHGHSU12AB0186C5F'],\n",
       "  [['Johnny Cash', 'Hey Porter'], 'SOFRCHU12A8C13F96B'],\n",
       "  [[\"Marcy's Playground\", 'Memphis'], 'SONHAWL12A6310F260'],\n",
       "  [['Whiskeytown', 'Lo-Fi Tennessee Mountain Angel'], 'SOXRJWV12A8C13DE1D'],\n",
       "  [['Something Corporate', 'I Woke Up in a Car'], 'SOUPNVN12AB018B0B4'],\n",
       "  [['The Boy Least Likely To',\n",
       "    \"I'm Glad I Hitched My Apple Wagon to Your Star\"],\n",
       "   'SOEYNQL12A67ADE655'],\n",
       "  [['The Promise Ring', 'Everywhere In Denver'], 'SOZTMFN12A58A7DCEE'],\n",
       "  [['Jeff Buckley', 'Hallelujah'], 'SORDYVO12A8C141A40']],\n",
       " 'timestamp': '2007-06-23T00:46:00',\n",
       " 'user': {'member_since': '2003-12-27T00:00:00',\n",
       "  'mixes_posted': '14',\n",
       "  'name': 'elizabeth123456'}}"
      ]
     },
     "execution_count": 5,
     "metadata": {},
     "output_type": "execute_result"
    }
   ],
   "source": [
    "playlists[0]"
   ]
  },
  {
   "cell_type": "markdown",
   "metadata": {},
   "source": [
    "Load `song_id` --> `track_id` mapping."
   ]
  },
  {
   "cell_type": "code",
   "execution_count": 6,
   "metadata": {
    "collapsed": true
   },
   "outputs": [],
   "source": [
    "song2TrackID = pkl.load(open(fmap, 'rb'))"
   ]
  },
  {
   "cell_type": "code",
   "execution_count": 7,
   "metadata": {},
   "outputs": [
    {
     "data": {
      "text/plain": [
       "{'SOARSZT12A8C13A21A': ['TRYNVIL128F4296300'],\n",
       " 'SOBQQSF12A8C13AF5A': ['TRHMUGZ128F428CA6D'],\n",
       " 'SOBSAAB12A8AE46253': ['TRGVYBU128F425B737'],\n",
       " 'SOCRAIA12AF729FD40': ['TRQARLV12903CD6D5A'],\n",
       " 'SONCQKA12A6D4F825E': ['TRYETLN128F9331376'],\n",
       " 'SOPRZQA12A58A7A112': ['TRDFPKD128E0781B20'],\n",
       " 'SOQNVTB12AB01869AB': ['TRQNNIP128F933122C'],\n",
       " 'SOSCERR12A58A7E236': ['TRQUSPL128F4265001'],\n",
       " 'SOSKEGE12A8C134A86': ['TRPVGFU128F426A577'],\n",
       " 'SOWCEMD12A8C137121': ['TREELGP128F428748B']}"
      ]
     },
     "execution_count": 7,
     "metadata": {},
     "output_type": "execute_result"
    }
   ],
   "source": [
    "{ k : song2TrackID[k] for k in list(song2TrackID.keys())[:10] }"
   ]
  },
  {
   "cell_type": "markdown",
   "metadata": {},
   "source": [
    "Load song tags."
   ]
  },
  {
   "cell_type": "code",
   "execution_count": 9,
   "metadata": {
    "collapsed": true
   },
   "outputs": [],
   "source": [
    "track2Tags = dict()"
   ]
  },
  {
   "cell_type": "code",
   "execution_count": 10,
   "metadata": {
    "collapsed": true
   },
   "outputs": [],
   "source": [
    "with open(ftag) as f:\n",
    "    for line in f:\n",
    "        if line[0] == '#': continue\n",
    "        tid, tag = line.strip().split('\\t')\n",
    "        #print(tid, tag)\n",
    "        track2Tags[tid] = tag"
   ]
  },
  {
   "cell_type": "code",
   "execution_count": 11,
   "metadata": {},
   "outputs": [
    {
     "data": {
      "text/plain": [
       "191401"
      ]
     },
     "execution_count": 11,
     "metadata": {},
     "output_type": "execute_result"
    }
   ],
   "source": [
    "len(track2Tags)"
   ]
  },
  {
   "cell_type": "code",
   "execution_count": 12,
   "metadata": {},
   "outputs": [
    {
     "data": {
      "text/plain": [
       "{'TRAXJZV12903CEB4DB': 'Electronic',\n",
       " 'TREUOZE128F422F626': 'Punk',\n",
       " 'TRFJWRC128F4271F19': 'Rock',\n",
       " 'TRFXMZW128F9303187': 'Rap',\n",
       " 'TRQHYFI128F4291FE1': 'Reggae',\n",
       " 'TRVXELZ128F4252E00': 'Folk',\n",
       " 'TRWIHPB128F428AB14': 'Rap',\n",
       " 'TRXOCHW128F4244C2E': 'Metal',\n",
       " 'TRZKPFJ128F9349927': 'Rock',\n",
       " 'TRZZQLC12903CE2FEC': 'Country'}"
      ]
     },
     "execution_count": 12,
     "metadata": {},
     "output_type": "execute_result"
    }
   ],
   "source": [
    "{ k : track2Tags[k] for k in list(track2Tags.keys())[:10] }"
   ]
  },
  {
   "cell_type": "markdown",
   "metadata": {},
   "source": [
    "## Data cleaning"
   ]
  },
  {
   "cell_type": "markdown",
   "metadata": {},
   "source": [
    "Use the subset of playlist that each song in it has a tag."
   ]
  },
  {
   "cell_type": "code",
   "execution_count": 13,
   "metadata": {
    "collapsed": true
   },
   "outputs": [],
   "source": [
    "subset_ix = []"
   ]
  },
  {
   "cell_type": "code",
   "execution_count": 14,
   "metadata": {
    "collapsed": true
   },
   "outputs": [],
   "source": [
    "# for ix in range(len(playlists)):\n",
    "#     sids = playlists[ix]['filtered_lists'][0]\n",
    "#     proper = True\n",
    "#     for sid in sids:\n",
    "#         tids = map_song_track[sid]\n",
    "#         flag = [tid in tags for tid in tids]\n",
    "#         if not np.any(flag):\n",
    "#             proper = False\n",
    "#             break\n",
    "#     if proper: subset_ix.append(ix)"
   ]
  },
  {
   "cell_type": "code",
   "execution_count": 16,
   "metadata": {},
   "outputs": [],
   "source": [
    "for ix in range(len(playlists)):\n",
    "    # the list of song IDs in the playlist\n",
    "    songIDs = playlists[ix]['filtered_lists'][0]\n",
    "\n",
    "    # seed song\n",
    "    seedSongID   = songIDs[0]\n",
    "    seedTrackIDs = song2TrackID[seedSongID]\n",
    "    \n",
    "    # make sure that at least one track for the song has a corresponding tag\n",
    "    flag = [ (trackID in track2Tags) for trackID in seedTrackIDs]\n",
    "    if not np.any(flag):\n",
    "        continue\n",
    "\n",
    "    subset_ix.append(ix)"
   ]
  },
  {
   "cell_type": "code",
   "execution_count": 17,
   "metadata": {},
   "outputs": [
    {
     "data": {
      "text/plain": [
       "130"
      ]
     },
     "execution_count": 17,
     "metadata": {},
     "output_type": "execute_result"
    }
   ],
   "source": [
    "len(subset_ix)"
   ]
  },
  {
   "cell_type": "code",
   "execution_count": 18,
   "metadata": {
    "collapsed": true
   },
   "outputs": [],
   "source": [
    "playlists_subset = [playlists[ix] for ix in subset_ix]"
   ]
  },
  {
   "cell_type": "markdown",
   "metadata": {},
   "source": [
    "## Tag assignment"
   ]
  },
  {
   "cell_type": "markdown",
   "metadata": {},
   "source": [
    "We want to find a list of tags for each track."
   ]
  },
  {
   "cell_type": "code",
   "execution_count": 31,
   "metadata": {
    "collapsed": true
   },
   "outputs": [],
   "source": [
    "song_set = sorted([sid for playlist in playlists_subset for sid in playlist['filtered_lists'][0]])"
   ]
  },
  {
   "cell_type": "code",
   "execution_count": 32,
   "metadata": {},
   "outputs": [
    {
     "data": {
      "text/plain": [
       "1186"
      ]
     },
     "execution_count": 32,
     "metadata": {},
     "output_type": "execute_result"
    }
   ],
   "source": [
    "len(song_set)"
   ]
  },
  {
   "cell_type": "code",
   "execution_count": 33,
   "metadata": {},
   "outputs": [
    {
     "name": "stdout",
     "output_type": "stream",
     "text": [
      "['SOAAFAC12A67ADF7EB', 'SOAAJWZ12A67AE16FB', 'SOABLRM12A6701F091', 'SOADISH12AB018DFAC', 'SOADISH12AB018DFAC', 'SOADISH12AB018DFAC', 'SOADISH12AB018DFAC', 'SOADQHJ12AF729D75C', 'SOAGENT12A8C1363D1', 'SOAGGRW12A6D4F920E']\n"
     ]
    }
   ],
   "source": [
    "print(song_set[:10])"
   ]
  },
  {
   "cell_type": "code",
   "execution_count": 36,
   "metadata": {},
   "outputs": [],
   "source": [
    "tags_set = []\n",
    "for sid in song_set:\n",
    "    tids = song2TrackID[sid]\n",
    "    for tid in tids:\n",
    "        if tid in track2Tags:\n",
    "            tag = track2Tags[tid]\n",
    "            tags_set.append(tag)    "
   ]
  },
  {
   "cell_type": "code",
   "execution_count": 68,
   "metadata": {},
   "outputs": [
    {
     "name": "stdout",
     "output_type": "stream",
     "text": [
      "['Electronic', 'Rock', 'Rock', 'Rock', 'Rock', 'Rock', 'Rock', 'Rock', 'Rock', 'Folk']\n"
     ]
    }
   ],
   "source": [
    "print(tags_set[:10])"
   ]
  },
  {
   "cell_type": "markdown",
   "metadata": {},
   "source": [
    "## One-hot tag encoding"
   ]
  },
  {
   "cell_type": "markdown",
   "metadata": {},
   "source": [
    "Indicator of tags: `tag` --> `tag index` mapping."
   ]
  },
  {
   "cell_type": "code",
   "execution_count": 38,
   "metadata": {},
   "outputs": [],
   "source": [
    "# the set of unique tags\n",
    "tag_set = list(set(track2Tags.values()))"
   ]
  },
  {
   "cell_type": "code",
   "execution_count": 39,
   "metadata": {},
   "outputs": [
    {
     "data": {
      "text/plain": [
       "15"
      ]
     },
     "execution_count": 39,
     "metadata": {},
     "output_type": "execute_result"
    }
   ],
   "source": [
    "len(tag_set)"
   ]
  },
  {
   "cell_type": "code",
   "execution_count": 40,
   "metadata": {
    "collapsed": true
   },
   "outputs": [],
   "source": [
    "tag_indicator = { tag: ix for ix, tag in enumerate(sorted(tag_set)) }"
   ]
  },
  {
   "cell_type": "code",
   "execution_count": 41,
   "metadata": {},
   "outputs": [
    {
     "data": {
      "text/plain": [
       "{'Blues': 0,\n",
       " 'Country': 1,\n",
       " 'Electronic': 2,\n",
       " 'Folk': 3,\n",
       " 'Jazz': 4,\n",
       " 'Latin': 5,\n",
       " 'Metal': 6,\n",
       " 'New Age': 7,\n",
       " 'Pop': 8,\n",
       " 'Punk': 9,\n",
       " 'Rap': 10,\n",
       " 'Reggae': 11,\n",
       " 'RnB': 12,\n",
       " 'Rock': 13,\n",
       " 'World': 14}"
      ]
     },
     "execution_count": 41,
     "metadata": {},
     "output_type": "execute_result"
    }
   ],
   "source": [
    "tag_indicator"
   ]
  },
  {
   "cell_type": "markdown",
   "metadata": {},
   "source": [
    "Build features (1-hot encoding of tag) for a song given its `song_id`."
   ]
  },
  {
   "cell_type": "code",
   "execution_count": 42,
   "metadata": {
    "collapsed": true
   },
   "outputs": [],
   "source": [
    "def gen_features(song_id):\n",
    "    features = np.zeros(len(tag_set), dtype=np.float)\n",
    "    trackIDs = song2TrackID[song_id]\n",
    "    cnt = 0\n",
    "    for trackID in trackIDs:\n",
    "        if trackID in track2Tags:\n",
    "            cnt += 1\n",
    "            tag = track2Tags[trackID]\n",
    "            tag_ix = tag_indicator[tag]\n",
    "            features[tag_ix] = 1\n",
    "    assert(cnt >= 1)\n",
    "    return features"
   ]
  },
  {
   "cell_type": "code",
   "execution_count": 43,
   "metadata": {
    "collapsed": true
   },
   "outputs": [],
   "source": [
    "def gen_feature_map(song_id, seed):\n",
    "    #return gen_features(song_id) - gen_features(seed)  # feature map\n",
    "    return gen_features(seed)  # feature map"
   ]
  },
  {
   "cell_type": "markdown",
   "metadata": {},
   "source": [
    "## Training"
   ]
  },
  {
   "cell_type": "code",
   "execution_count": 44,
   "metadata": {
    "collapsed": true
   },
   "outputs": [],
   "source": [
    "def gen_training_set(label_ix):\n",
    "    assert(label_ix >= 0)\n",
    "    assert(label_ix < len(song_set))\n",
    "    N = len(playlists_subset)\n",
    "    d = len(tag_set)\n",
    "    X = np.zeros((N, d), dtype=np.float)\n",
    "    y = np.zeros(N, dtype=np.float)\n",
    "    for i in range(len(playlists_subset)):\n",
    "        playlist = playlists_subset[i]['filtered_lists'][0]\n",
    "        seed = playlist[0]\n",
    "        X[i] = gen_feature_map(song_set[label_ix], seed)\n",
    "        y[i] = int(song_set[label_ix] in playlist)\n",
    "    return X, y"
   ]
  },
  {
   "cell_type": "code",
   "execution_count": 45,
   "metadata": {},
   "outputs": [
    {
     "data": {
      "text/plain": [
       "array([ 0.,  0.,  1.,  0.,  0.,  0.,  0.,  0.,  0.,  0.,  0.,  0.,  0.,\n",
       "        0.,  0.])"
      ]
     },
     "execution_count": 45,
     "metadata": {},
     "output_type": "execute_result"
    }
   ],
   "source": [
    "gen_feature_map(song_set[42], song_set[0])"
   ]
  },
  {
   "cell_type": "code",
   "execution_count": 46,
   "metadata": {
    "collapsed": true
   },
   "outputs": [],
   "source": [
    "ix = 50"
   ]
  },
  {
   "cell_type": "code",
   "execution_count": 48,
   "metadata": {},
   "outputs": [
    {
     "data": {
      "text/plain": [
       "'Rock'"
      ]
     },
     "execution_count": 48,
     "metadata": {},
     "output_type": "execute_result"
    }
   ],
   "source": [
    "track2Tags[song2TrackID[song_set[ix]][0]]"
   ]
  },
  {
   "cell_type": "markdown",
   "metadata": {},
   "source": [
    "Train a logistic regression model for each label."
   ]
  },
  {
   "cell_type": "code",
   "execution_count": 49,
   "metadata": {
    "collapsed": true
   },
   "outputs": [],
   "source": [
    "classifiers = [LR(class_weight='balanced') for i in range(len(song_set))]"
   ]
  },
  {
   "cell_type": "code",
   "execution_count": 63,
   "metadata": {},
   "outputs": [],
   "source": [
    "for label_ix in range(len(song_set)):\n",
    "    X, y = gen_training_set(label_ix)\n",
    "    classifiers[label_ix].fit(X, y)\n",
    "#     print(classifiers[label_ix].coef_)\n",
    "#     print(classifiers[label_ix].intercept_)    "
   ]
  },
  {
   "cell_type": "markdown",
   "metadata": {},
   "source": [
    "## Testing"
   ]
  },
  {
   "cell_type": "markdown",
   "metadata": {},
   "source": [
    "Test on training set."
   ]
  },
  {
   "cell_type": "code",
   "execution_count": 54,
   "metadata": {
    "collapsed": true
   },
   "outputs": [],
   "source": [
    "#seed_ix = np.random.choice(np.arange(len(song_set)))\n",
    "playlist_ix = np.random.choice(np.arange(len(playlists_subset)))"
   ]
  },
  {
   "cell_type": "code",
   "execution_count": 59,
   "metadata": {},
   "outputs": [
    {
     "data": {
      "text/plain": [
       "'SOZUMBP12A8C134B3D'"
      ]
     },
     "execution_count": 59,
     "metadata": {},
     "output_type": "execute_result"
    }
   ],
   "source": [
    "#seed = song_set[seed_ix]\n",
    "seed = playlists_subset[playlist_ix]['filtered_lists'][0][0]\n",
    "M = len(song_set)\n",
    "seed"
   ]
  },
  {
   "cell_type": "code",
   "execution_count": 60,
   "metadata": {},
   "outputs": [],
   "source": [
    "pred = [classifiers[label_ix].predict_proba(gen_feature_map(song_set[label_ix], seed).reshape(1, -1))[0][1] \\\n",
    "        for label_ix in range(M)]"
   ]
  },
  {
   "cell_type": "code",
   "execution_count": 67,
   "metadata": {},
   "outputs": [
    {
     "name": "stdout",
     "output_type": "stream",
     "text": [
      "1186\n"
     ]
    }
   ],
   "source": [
    "print(len(pred))"
   ]
  },
  {
   "cell_type": "code",
   "execution_count": 65,
   "metadata": {},
   "outputs": [
    {
     "data": {
      "text/plain": [
       "(array([ 252.,    0.,   19.,    0.,    0.,    0.,   10.,    0.,    5.,  900.]),\n",
       " array([ 0.04214997,  0.09418944,  0.14622892,  0.19826839,  0.25030786,\n",
       "         0.30234733,  0.3543868 ,  0.40642628,  0.45846575,  0.51050522,\n",
       "         0.56254469]),\n",
       " <a list of 10 Patch objects>)"
      ]
     },
     "execution_count": 65,
     "metadata": {},
     "output_type": "execute_result"
    },
    {
     "data": {
      "image/png": "[encoded data removed]",
      "text/plain": [
       "<matplotlib.figure.Figure at 0x7fa5b4f29c18>"
      ]
     },
     "metadata": {},
     "output_type": "display_data"
    }
   ],
   "source": [
    "plt.hist(pred);"
   ]
  },
  {
   "cell_type": "code",
   "execution_count": null,
   "metadata": {
    "collapsed": true
   },
   "outputs": [],
   "source": []
  }
 ],
 "metadata": {
  "kernelspec": {
   "display_name": "Python [default]",
   "language": "python",
   "name": "python3"
  },
  "language_info": {
   "codemirror_mode": {
    "name": "ipython",
    "version": 3
   },
   "file_extension": ".py",
   "mimetype": "text/x-python",
   "name": "python",
   "nbconvert_exporter": "python",
   "pygments_lexer": "ipython3",
   "version": "3.5.3"
  }
 },
 "nbformat": 4,
 "nbformat_minor": 2
}
